{
 "cells": [
  {
   "cell_type": "code",
   "execution_count": 1,
   "metadata": {},
   "outputs": [],
   "source": [
    "%load_ext autoreload"
   ]
  },
  {
   "cell_type": "code",
   "execution_count": 2,
   "metadata": {},
   "outputs": [],
   "source": [
    "import numpy as np\n",
    "from envs import MarsExplorerEnv\n",
    "import matplotlib.pyplot as plt\n",
    "import time\n",
    "import matplotlib.cm as cm\n",
    "import matplotlib.colors as colors\n",
    "import os\n",
    "import seaborn as sns\n",
    "from matplotlib.offsetbox import AnnotationBbox, OffsetImage\n",
    "from matplotlib._png import read_png\n",
    "import pickle as pkl\n",
    "%matplotlib inline\n",
    "\n",
    "import gym\n",
    "from gym import spaces\n",
    "from gym.envs.classic_control import rendering\n",
    "import tensorflow as tf\n",
    "from scipy.special import logsumexp\n",
    "from copy import deepcopy as copy\n",
    "import random\n",
    "np.set_printoptions(precision=8, suppress=True,threshold=np.nan)\n",
    "\n",
    "\n",
    "from __future__ import division\n",
    "import types\n",
    "import uuid\n",
    "import math\n",
    "import tensorflow as tf\n",
    "from scipy.misc import logsumexp\n",
    "# from baselines import deepq\n",
    "# import baselines.common.tf_util as U"
   ]
  },
  {
   "cell_type": "code",
   "execution_count": 3,
   "metadata": {},
   "outputs": [],
   "source": [
    "%autoreload"
   ]
  },
  {
   "cell_type": "code",
   "execution_count": 4,
   "metadata": {},
   "outputs": [],
   "source": [
    "def save_tf_vars(sess, scope, path):\n",
    "  saver = tf.train.Saver([v for v in tf.global_variables() if v.name.startswith(scope + '/')])\n",
    "  saver.save(sess, save_path=path)\n",
    "\n",
    "def load_tf_vars(sess, scope, path):\n",
    "  saver = tf.train.Saver([v for v in tf.global_variables() if v.name.startswith(scope + '/')])\n",
    "  saver.restore(sess, path)"
   ]
  },
  {
   "cell_type": "code",
   "execution_count": 5,
   "metadata": {},
   "outputs": [],
   "source": [
    "data_dir = os.path.join('data', '1.2')"
   ]
  },
  {
   "cell_type": "code",
   "execution_count": 6,
   "metadata": {},
   "outputs": [],
   "source": [
    "LEFT = 0\n",
    "DOWN = 1\n",
    "RIGHT = 2\n",
    "UP = 3\n",
    "NOOP = 4\n",
    "\n",
    "cdict = {'red':   ((0.0,  0.173, 0.173),\n",
    "                   (1.0,  0.925, 0.925)),\n",
    "\n",
    "         'green': ((0.0,  0.067, 0.067),\n",
    "                   (1.0, 0.384, 0.384)),\n",
    "\n",
    "         'blue':  ((0.0,  0.027, 0.027),\n",
    "                   (1.0,  0.196, 0.196))}\n",
    "plt.register_cmap(name='RustPlanet', data=cdict)\n",
    "REWARD_COLORS = cm.get_cmap('RustPlanet')\n",
    "AGENT_COLORS = cm.get_cmap('gray')\n",
    "MAP_COLORS = {b'B':\"#3a0e00\",\n",
    "              b'F':\"#933111\",\n",
    "              b'S':\"#933111\",\n",
    "              b'U':\"#d65b33\",\n",
    "              b'1':\"#956F52\",\n",
    "              b'2':\"#3C2F34\",\n",
    "              b'3':\"#644C42\"}\n",
    "\n",
    "ROVER_PNGS = {LEFT:\"utils/rover_left.png\",\n",
    "        RIGHT:\"utils/rover_right.png\",\n",
    "        DOWN:\"utils/rover_down.png\",\n",
    "        UP:\"utils/rover_up.png\",\n",
    "        NOOP:\"utils/rover_sample.png\"}\n",
    "\n",
    "# tile_map = [\n",
    "#         \"F3FFUFU2U\",\n",
    "#         \"FUFUSUFUF\",\n",
    "#         \"FFFUSUFFU\",\n",
    "#         \"USUUUUUSU\",\n",
    "#         \"FFUSSSUFF\",\n",
    "#         \"FSFUSUFSF\",\n",
    "#         \"UUUUUUUFU\",\n",
    "#         \"UFFU1UFUU\",\n",
    "#         \"3UUFUFFU1\"\n",
    "#     ]\n",
    "\n",
    "# tile_map = [\n",
    "#         \"F22222FF1\",\n",
    "#         \"U31122FU1\",\n",
    "#         \"UF1112FU1\",\n",
    "#         \"UFUU1SFU1\",\n",
    "#         \"UFFU1FFU3\",\n",
    "#         \"3222UFS1U\",\n",
    "#         \"UUU22F1FU\",\n",
    "#         \"FSSFS12SF\",\n",
    "#         \"FSFF121FF\",\n",
    "#         \"S1S2SFFSF\",\n",
    "#         \"FUUUFFSFU\",\n",
    "#         \"U3UUUFSFU\",\n",
    "#         \"FFFUUFUUU\"\n",
    "#     ]\n",
    "\n",
    "tile_map = [\n",
    "        \"2FFFUFFF1\",\n",
    "        \"FFFU3UFFF\",\n",
    "        \"FFFFUFFFF\",\n",
    "        \"FSFUUUFSF\",\n",
    "        \"FSUUSUUSF\",\n",
    "        \"FSFUUUFSF\",\n",
    "        \"FFFFUFFFF\",\n",
    "        \"FFFSSSFFF\",\n",
    "        \"1FFFFFFF2\"\n",
    "    ]\n",
    "\n",
    "tile_rewards = {'F':0.05,\n",
    "              '1':0.1,\n",
    "              '2':0.1,\n",
    "              '3':0.1,\n",
    "              'S':0.01,\n",
    "              'U':0.0}\n",
    "\n",
    "\n",
    "goal_tile_rewards = {'F':0.0,\n",
    "              '1':1.0,\n",
    "              '2':2.0,\n",
    "              '3':3.0,\n",
    "              'S':0.0,\n",
    "              'U':0.0}\n",
    "\n",
    "tile_reward_modifier = lambda r,x,y,mx,my: r #* 0.1 * ((x-(mx/2 + np.random.normal(scale=0.5)))**2 + (y - (mx/2 + np.random.normal(scale=0.5)))**2)\n",
    "\n",
    "def build_reward_map(tile_map, tile_rewards, goal_tile_rewards, tile_reward_modifier):\n",
    "    reward_map = np.zeros((len(tile_map),len(tile_map[0])))\n",
    "    texture_map = np.zeros((len(tile_map),len(tile_map[0])))\n",
    "    for y,row in enumerate(tile_map):\n",
    "        for x,c in enumerate(row):\n",
    "            reward_map[y,x] = texture_map[y,x] = tile_reward_modifier(tile_rewards[c],x,y,len(tile_map[0]),len(tile_map))\n",
    "            reward_map[y,x] +=  goal_tile_rewards[c]\n",
    "    return reward_map, texture_map\n",
    "\n",
    "reward_map, texture_map = build_reward_map(tile_map, tile_rewards, goal_tile_rewards, tile_reward_modifier)\n",
    "\n",
    "\n",
    "t0 = (0.8,0.1,0.0,0.0)\n",
    "t1 = (0.001,0.0,0.0,0.999)  #(0.1,0.15,0.5,0.1)\n",
    "\n",
    "trans_dict = {b'F':t0,\n",
    "              b'1':t0,\n",
    "              b'2':t0,\n",
    "              b'3':t0,\n",
    "              b'S':t0,\n",
    "              b'U':t1}\n",
    "\n",
    "#TODO implement theta_mat in mars_explorer so do not need to hard code, use np.roll\n",
    "true_tps = np.array([[[0.8, 0.],\n",
    "  [0.1, 0.],\n",
    "  [0.0, 0.],\n",
    "  [0.1, 0.],\n",
    "  [0.0, 1.]],\n",
    "\n",
    " [[0.1, 0.],\n",
    "  [0.8, 0.],\n",
    "  [0.1, 0.],\n",
    "  [0.0, 0.],\n",
    "  [0.0, 1.]],\n",
    "\n",
    " [[0.0, 0.],\n",
    "  [0.1, 0.],\n",
    "  [0.8, 0.],\n",
    "  [0.1, 0.],\n",
    "  [0.0, 1.]],\n",
    "\n",
    " [[0.1, 0.],\n",
    "  [0.0, 0.],\n",
    "  [0.1, 0.],\n",
    "  [0.8, 0.],\n",
    "  [0.0, 1.]],\n",
    "\n",
    " [[0., 0.],\n",
    "  [0., 0.],\n",
    "  [0., 0.],\n",
    "  [0., 0.],\n",
    "  [1., 1.]]])\n",
    "\n",
    "true_tps = np.array([[[0.8, 0.001],\n",
    "  [0.1, 0.],\n",
    "  [0.0, 0.],\n",
    "  [0.1, 0.],\n",
    "  [0.0, 0.999]],\n",
    "\n",
    " [[0.1, 0.],\n",
    "  [0.8, 0.001],\n",
    "  [0.1, 0.],\n",
    "  [0.0, 0.],\n",
    "  [0.0, 0.999]],\n",
    "\n",
    " [[0.0, 0.],\n",
    "  [0.1, 0.],\n",
    "  [0.8, 0.001],\n",
    "  [0.1, 0.],\n",
    "  [0.0, 0.999]],\n",
    "\n",
    " [[0.1, 0.],\n",
    "  [0.0, 0.],\n",
    "  [0.1, 0.],\n",
    "  [0.8, 0.001],\n",
    "  [0.0, 0.999]],\n",
    "\n",
    " [[0., 0.],\n",
    "  [0., 0.],\n",
    "  [0., 0.],\n",
    "  [0., 0.],\n",
    "  [1., 1.]]])\n",
    "\n",
    "gamma = 0.95\n",
    "\n",
    "alpha = 0.0001\n",
    "\n",
    "T_theta_shape = (5,5,2)\n",
    "\n",
    "time_penalty = 0.0\n"
   ]
  },
  {
   "cell_type": "code",
   "execution_count": 7,
   "metadata": {},
   "outputs": [],
   "source": [
    "# reward_normalizer = (1-gamma)/(np.max(reward_map))\n",
    "# reward_map *= reward_normalizer\n",
    "# time_penalty *= reward_normalizer"
   ]
  },
  {
   "cell_type": "code",
   "execution_count": 8,
   "metadata": {},
   "outputs": [],
   "source": [
    "# temperature = 1/(reward_normalizer)\n",
    "# print(temperature)"
   ]
  },
  {
   "cell_type": "code",
   "execution_count": 9,
   "metadata": {},
   "outputs": [
    {
     "data": {
      "text/plain": [
       "<matplotlib.image.AxesImage at 0x1279f6c50>"
      ]
     },
     "execution_count": 9,
     "metadata": {},
     "output_type": "execute_result"
    },
    {
     "data": {
      "image/png": "[encoded data removed]",
      "text/plain": [
       "<Figure size 432x288 with 1 Axes>"
      ]
     },
     "metadata": {},
     "output_type": "display_data"
    }
   ],
   "source": [
    "plt.imshow(reward_map, cmap=\"Blues\")"
   ]
  },
  {
   "cell_type": "code",
   "execution_count": 10,
   "metadata": {},
   "outputs": [
    {
     "data": {
      "text/plain": [
       "<matplotlib.image.AxesImage at 0x127b66c50>"
      ]
     },
     "execution_count": 10,
     "metadata": {},
     "output_type": "execute_result"
    },
    {
     "data": {
      "image/png": "[encoded data removed]",
      "text/plain": [
       "<Figure size 432x288 with 1 Axes>"
      ]
     },
     "metadata": {},
     "output_type": "display_data"
    }
   ],
   "source": [
    "plt.imshow(texture_map, cmap=\"Blues\")"
   ]
  },
  {
   "cell_type": "code",
   "execution_count": 11,
   "metadata": {},
   "outputs": [
    {
     "data": {
      "text/plain": [
       "<matplotlib.image.AxesImage at 0x127cc17f0>"
      ]
     },
     "execution_count": 11,
     "metadata": {},
     "output_type": "execute_result"
    },
    {
     "data": {
      "image/png": "[encoded data removed]",
      "text/plain": [
       "<Figure size 432x288 with 1 Axes>"
      ]
     },
     "metadata": {},
     "output_type": "display_data"
    }
   ],
   "source": [
    "plt.imshow(reward_map - texture_map, cmap=\"Blues\")"
   ]
  },
  {
   "cell_type": "code",
   "execution_count": 12,
   "metadata": {},
   "outputs": [],
   "source": [
    "mdp = MarsExplorerEnv(tile_map, reward_map, texture_map, trans_dict, time_penalty) \n",
    "nA = mdp.nA\n",
    "nS = mdp.nS"
   ]
  },
  {
   "cell_type": "code",
   "execution_count": 13,
   "metadata": {},
   "outputs": [
    {
     "data": {
      "text/plain": [
       "<matplotlib.image.AxesImage at 0x127ecb550>"
      ]
     },
     "execution_count": 13,
     "metadata": {},
     "output_type": "execute_result"
    },
    {
     "data": {
      "image/png": "[encoded data removed]",
      "text/plain": [
       "<Figure size 432x288 with 1 Axes>"
      ]
     },
     "metadata": {},
     "output_type": "display_data"
    }
   ],
   "source": [
    "binary_map = np.ones(mdp.tile_map.shape)\n",
    "binary_map[np.where(mdp.tile_map == b'S')] = 255.0\n",
    "plt.imshow(binary_map, cmap=\"Blues\")"
   ]
  },
  {
   "cell_type": "code",
   "execution_count": 14,
   "metadata": {},
   "outputs": [],
   "source": [
    "def plot_mars(mdp, pi, term = 40, title=None, counts = None, Qs = None):\n",
    "    background = np.array([colors.to_rgb(MAP_COLORS[l]) for l in mdp.tile_map.flat]).reshape(mdp.nrow, mdp.ncol,3)\n",
    "    s = mdp._reset()\n",
    "    t, r = 0, 0\n",
    "    while s is not None and t < term:\n",
    "        fig = plt.figure(figsize=(4,4))\n",
    "        if title != None:\n",
    "            plt.title(title)\n",
    "        plt.imshow(background)\n",
    "        plt.axes().get_xaxis().set_visible(False)\n",
    "        plt.axes().get_yaxis().set_visible(False)\n",
    "        ax = plt.gca()\n",
    "        a = pi[s] if type(pi) == np.ndarray else pi(s)\n",
    "        img_path = ROVER_PNGS[a]\n",
    "        arr_hand = read_png(img_path)\n",
    "        imagebox = OffsetImage(arr_hand, zoom=.5)\n",
    "        xy = [s%background.shape[1], s//background.shape[1]]  # coordinates to position this image\n",
    "\n",
    "        ab = AnnotationBbox(imagebox, xy,\n",
    "                            xybox=(0, 0),\n",
    "                            xycoords='data',\n",
    "                            boxcoords=\"offset points\",\n",
    "                            frameon=False)\n",
    "        ax.add_artist(ab)\n",
    "        fig.text(0.13, 0.05, 't: {}      r: {}'.format(t,round(r,4)), ha='left', fontsize=10)\n",
    "        sns.despine(bottom=True,left=True,right=True,top=True)\n",
    "        plt.show()\n",
    "        if Qs is not None:\n",
    "            print(Qs[s])\n",
    "            print(a)\n",
    "            print(softmax(Qs[s]))\n",
    "        print(mdp.s_to_grid(s), mdp.tile_map.flatten()[s])\n",
    "        s, rt, _, d = mdp._step(a)\n",
    "        print(mdp.s_to_grid(s), mdp.tile_map.flatten()[s])\n",
    "        t += 1\n",
    "        r += rt\n",
    "    if counts:\n",
    "        fig.text(0.87, 0.05, 'F: {}  L/R: {}  B: {}  S: {}'.format(counts['F'], counts['LR'], counts['B'], counts['S']), ha='right', fontsize=10)\n",
    "    #     plt.savefig(folder+\"/\"+str(t)+\".png\", format='png')\n",
    "    return\n",
    "\n",
    "def plot_mars_history(mdp, hist, title=None, counts = None):\n",
    "    background = np.array([colors.to_rgb(MAP_COLORS[l]) for l in mdp.tile_map.flat]).reshape(mdp.nrow, mdp.ncol,3)\n",
    "    t = 0\n",
    "    for s,a,sprime in [h[0] for h in hist]:\n",
    "        fig = plt.figure(figsize=(4,4))\n",
    "        if title != None:\n",
    "            plt.title(title)\n",
    "        plt.imshow(background)\n",
    "        plt.axes().get_xaxis().set_visible(False)\n",
    "        plt.axes().get_yaxis().set_visible(False)\n",
    "        ax = plt.gca()\n",
    "        img_path = ROVER_PNGS[a]\n",
    "        arr_hand = read_png(img_path)\n",
    "        imagebox = OffsetImage(arr_hand, zoom=.5)\n",
    "        xy = [s%background.shape[1], s//background.shape[1]]  # coordinates to position this image\n",
    "\n",
    "        ab = AnnotationBbox(imagebox, xy,\n",
    "                            xybox=(0, 0),\n",
    "                            xycoords='data',\n",
    "                            boxcoords=\"offset points\",\n",
    "                            frameon=False)\n",
    "        ax.add_artist(ab)\n",
    "        fig.text(0.13, 0.05, 't: {}'.format(t), ha='left', fontsize=10)\n",
    "        sns.despine(bottom=True,left=True,right=True,top=True)\n",
    "        plt.show()\n",
    "        t += 1\n",
    "    if counts:\n",
    "        fig.text(0.87, 0.05, 'F: {}  L/R: {}  B: {}  S: {}'.format(counts['F'], counts['LR'], counts['B'], counts['S']), ha='right', fontsize=10)\n",
    "    #     plt.savefig(folder+\"/\"+str(t)+\".png\", format='png')\n",
    "    return\n",
    "\n",
    "def plot_values(mdp, Qs, s=None, title=None):\n",
    "    V = np.max(Qs, axis=1).reshape((mdp.nrow,mdp.ncol))\n",
    "    pi = np.argmax(Qs, axis=1)\n",
    "    plt.figure(figsize=(8,8))\n",
    "    if title != None:\n",
    "        plt.title(title)\n",
    "    plt.imshow(V, cmap='gray')#, clim=(0,1)) 'gist_ncar'\n",
    "    ax = plt.gca()\n",
    "    ax.set_xticks(np.arange(V.shape[1])-.5)\n",
    "    ax.set_yticks(np.arange(V.shape[0])-.5)\n",
    "    ax.set_xticklabels([])\n",
    "    ax.set_yticklabels([])\n",
    "    Y, X = np.mgrid[0:V.shape[0], 0:V.shape[1]]\n",
    "    a2uv = {0: (-1, 0), 1:(0, -1), 2:(1,0), 3:(0, 1), 4:(-1,-1)}\n",
    "    Pi = pi.reshape(V.shape)\n",
    "    for y in range(V.shape[0]):\n",
    "        for x in range(V.shape[1]):\n",
    "            a = Pi[y, x]\n",
    "            u, v = a2uv[a]\n",
    "            plt.arrow(x, y,u*.3, -v*.3, color='m', head_width=0.2, head_length=0.1) \n",
    "            plt.text(x, y, str(mdp.tile_map[y,x].item().decode()),\n",
    "                     color='c', size=12,  verticalalignment='center',\n",
    "                     horizontalalignment='center', fontweight='bold')\n",
    "    if s != None:\n",
    "        plt.plot(s%V.shape[0], s//V.shape[0], 'ro')\n",
    "#     plt.grid(color='b', lw=2, ls='-')\n",
    "    return"
   ]
  },
  {
   "cell_type": "markdown",
   "metadata": {},
   "source": [
    "# Soft-Q Learning"
   ]
  },
  {
   "cell_type": "code",
   "execution_count": 15,
   "metadata": {},
   "outputs": [],
   "source": [
    "def softmax(x, axis=1):\n",
    "    \"\"\"Compute softmax values for each sets of scores in x.\"\"\"\n",
    "    axis = 0 if len(x.shape) == 1 else axis\n",
    "    e_x = np.exp(x - np.max(x, axis=axis,keepdims=True))\n",
    "    return (e_x / e_x.sum(axis=axis, keepdims = True))"
   ]
  },
  {
   "cell_type": "code",
   "execution_count": 16,
   "metadata": {},
   "outputs": [],
   "source": [
    "def tabsoftq_iter(R, T, maxiter=10000, verbose=False, Q_init=None, learning_rate=0.5, ftol=1e-32):\n",
    "    Q = np.zeros((nS, nA)) if Q_init is None else copy(Q_init)\n",
    "    prevQ = copy(Q)\n",
    "    if verbose:\n",
    "        diffs = []\n",
    "        meanVs = []\n",
    "    for iter_idx in range(maxiter):\n",
    "        V = logsumexp(prevQ, axis=1)\n",
    "        V_broad = V.reshape((1, 1, nS))\n",
    "        Q = R + gamma * np.sum(T * V_broad, axis=2)\n",
    "        Q = (1 - learning_rate) * prevQ + learning_rate * Q\n",
    "        diff = np.mean((Q - prevQ)**2)/(np.std(Q)**2)\n",
    "        if verbose:\n",
    "            diffs.append(diff)\n",
    "            meanVs.append(np.mean(V)) \n",
    "        if diff < ftol:\n",
    "            break\n",
    "        prevQ = copy(Q)\n",
    "    if verbose:\n",
    "        plt.xlabel('Number of Iterations')\n",
    "        plt.ylabel('Avg. Squared Bellman Error')\n",
    "        plt.title('Soft Q Iteration')\n",
    "        plt.plot(diffs)\n",
    "        plt.yscale('log')\n",
    "        plt.show()\n",
    "        plt.xlabel('Number of Iterations')\n",
    "        plt.ylabel('Avg. Value of All Tiles')\n",
    "        plt.title('Soft Q Iteration')\n",
    "        plt.plot(meanVs)\n",
    "        plt.show()\n",
    "    return Q"
   ]
  },
  {
   "cell_type": "code",
   "execution_count": 17,
   "metadata": {},
   "outputs": [],
   "source": [
    "def tabsoftq_learn_Qs(mdp):\n",
    "    R = np.repeat(mdp.rewards[np.newaxis].T, 5, axis=1)\n",
    "    T = mdp.get_transition_matrix()\n",
    "    Qs = tabsoftq_iter(R, T)\n",
    "    return Qs\n",
    "\n",
    "def tabsoftq_gen_pol(Qs, beta=1):\n",
    "    softQs = softmax(Qs * beta)\n",
    "    return lambda s: np.random.choice(np.asarray(range(len(Qs[s]))),p=softQs[s])\n",
    "\n",
    "def tabsoftq_gen_pol_probs(Qs, beta=1):\n",
    "    softQs = softmax(Qs * beta)\n",
    "    return softQs\n"
   ]
  },
  {
   "cell_type": "code",
   "execution_count": 18,
   "metadata": {},
   "outputs": [],
   "source": [
    "def generate_demonstrations(mdp, pol, n, term):\n",
    "    hists = []\n",
    "    for i in range(n):\n",
    "        s, d, t = mdp._reset(), False, 0\n",
    "        hist = []\n",
    "        while not d and t < term:\n",
    "            a = pol[s] if type(pol) == np.ndarray else pol(s)\n",
    "            sprime, rt, _, ob_dict = mdp._step(a)\n",
    "            hist += [((s,a,sprime),ob_dict['adt'])]\n",
    "            t += 1\n",
    "            s = sprime\n",
    "        hists += [hist]\n",
    "    return hists"
   ]
  },
  {
   "cell_type": "code",
   "execution_count": 19,
   "metadata": {},
   "outputs": [],
   "source": [
    "def vectorize_rollouts(rollouts):\n",
    "    sas_obs = []\n",
    "    adt_obs = []\n",
    "    task_idxes = []\n",
    "    for rollout in rollouts:\n",
    "        more_sas, more_adt = list(zip(*rollout))\n",
    "        sas_obs.extend(more_sas)\n",
    "        adt_obs.extend(more_adt)\n",
    "    return np.array(sas_obs), np.array(adt_obs)"
   ]
  },
  {
   "cell_type": "markdown",
   "metadata": {},
   "source": [
    "Sanity check (env and softq)"
   ]
  },
  {
   "cell_type": "code",
   "execution_count": 20,
   "metadata": {
    "scrolled": true
   },
   "outputs": [
    {
     "name": "stderr",
     "output_type": "stream",
     "text": [
      "/Users/mckaneandrus/anaconda2/envs/irld/lib/python3.6/site-packages/ipykernel_launcher.py:8: DeprecationWarning: `logsumexp` is deprecated!\n",
      "Importing `logsumexp` from scipy.misc is deprecated in scipy 1.0.0. Use `scipy.special.logsumexp` instead.\n",
      "  \n",
      "/Users/mckaneandrus/anaconda2/envs/irld/lib/python3.6/site-packages/matplotlib/cbook/deprecation.py:107: MatplotlibDeprecationWarning: Adding an axes using the same arguments as a previous axes currently reuses the earlier instance.  In a future version, a new instance will always be created and returned.  Meanwhile, this warning can be suppressed, and the future behavior ensured, by passing a unique label to each axes instance.\n",
      "  warnings.warn(message, mplDeprecation, stacklevel=1)\n"
     ]
    },
    {
     "data": {
      "image/png": "[encoded data removed]",
      "text/plain": [
       "<Figure size 288x288 with 1 Axes>"
      ]
     },
     "metadata": {},
     "output_type": "display_data"
    },
    {
     "name": "stdout",
     "output_type": "stream",
     "text": [
      "[39.75905502 39.86087281 40.01341789 32.76348306 39.07453385]\n",
      "2\n",
      "[0.2562743  0.28374222 0.33050151 0.00023473 0.12924724]\n",
      "(4, 7) b'S'\n",
      "(4, 8) b'F'\n"
     ]
    },
    {
     "data": {
      "image/png": "[encoded data removed]",
      "text/plain": [
       "<Figure size 288x288 with 1 Axes>"
      ]
     },
     "metadata": {},
     "output_type": "display_data"
    },
    {
     "name": "stdout",
     "output_type": "stream",
     "text": [
      "[40.50607293 33.08111636 40.70789065 39.69430807 39.59669369]\n",
      "2\n",
      "[0.32561952 0.00019413 0.39843617 0.14459905 0.13115113]\n",
      "(4, 8) b'F'\n",
      "(4, 0) b'U'\n"
     ]
    },
    {
     "data": {
      "image/png": "[encoded data removed]",
      "text/plain": [
       "<Figure size 288x288 with 1 Axes>"
      ]
     },
     "metadata": {},
     "output_type": "display_data"
    },
    {
     "name": "stdout",
     "output_type": "stream",
     "text": [
      "[30.80838861 30.82614617 30.80819832 30.80679286 30.79804421]\n",
      "1\n",
      "[0.19976666 0.20334571 0.19972865 0.19944814 0.19771084]\n",
      "(4, 0) b'U'\n",
      "(4, 0) b'U'\n"
     ]
    },
    {
     "data": {
      "image/png": "[encoded data removed]",
      "text/plain": [
       "<Figure size 288x288 with 1 Axes>"
      ]
     },
     "metadata": {},
     "output_type": "display_data"
    },
    {
     "name": "stdout",
     "output_type": "stream",
     "text": [
      "[30.80838861 30.82614617 30.80819832 30.80679286 30.79804421]\n",
      "0\n",
      "[0.19976666 0.20334571 0.19972865 0.19944814 0.19771084]\n",
      "(4, 0) b'U'\n",
      "(4, 0) b'U'\n"
     ]
    },
    {
     "data": {
      "image/png": "[encoded data removed]",
      "text/plain": [
       "<Figure size 288x288 with 1 Axes>"
      ]
     },
     "metadata": {},
     "output_type": "display_data"
    },
    {
     "name": "stdout",
     "output_type": "stream",
     "text": [
      "[30.80838861 30.82614617 30.80819832 30.80679286 30.79804421]\n",
      "0\n",
      "[0.19976666 0.20334571 0.19972865 0.19944814 0.19771084]\n",
      "(4, 0) b'U'\n",
      "(4, 0) b'U'\n"
     ]
    },
    {
     "data": {
      "image/png": "[encoded data removed]",
      "text/plain": [
       "<Figure size 288x288 with 1 Axes>"
      ]
     },
     "metadata": {},
     "output_type": "display_data"
    },
    {
     "name": "stdout",
     "output_type": "stream",
     "text": [
      "[30.80838861 30.82614617 30.80819832 30.80679286 30.79804421]\n",
      "1\n",
      "[0.19976666 0.20334571 0.19972865 0.19944814 0.19771084]\n",
      "(4, 0) b'U'\n",
      "(4, 0) b'U'\n"
     ]
    },
    {
     "data": {
      "image/png": "[encoded data removed]",
      "text/plain": [
       "<Figure size 288x288 with 1 Axes>"
      ]
     },
     "metadata": {},
     "output_type": "display_data"
    },
    {
     "name": "stdout",
     "output_type": "stream",
     "text": [
      "[30.80838861 30.82614617 30.80819832 30.80679286 30.79804421]\n",
      "0\n",
      "[0.19976666 0.20334571 0.19972865 0.19944814 0.19771084]\n",
      "(4, 0) b'U'\n",
      "(4, 0) b'U'\n"
     ]
    },
    {
     "data": {
      "image/png": "[encoded data removed]",
      "text/plain": [
       "<Figure size 288x288 with 1 Axes>"
      ]
     },
     "metadata": {},
     "output_type": "display_data"
    },
    {
     "name": "stdout",
     "output_type": "stream",
     "text": [
      "[30.80838861 30.82614617 30.80819832 30.80679286 30.79804421]\n",
      "1\n",
      "[0.19976666 0.20334571 0.19972865 0.19944814 0.19771084]\n",
      "(4, 0) b'U'\n",
      "(4, 0) b'U'\n"
     ]
    },
    {
     "data": {
      "image/png": "[encoded data removed]",
      "text/plain": [
       "<Figure size 288x288 with 1 Axes>"
      ]
     },
     "metadata": {},
     "output_type": "display_data"
    },
    {
     "name": "stdout",
     "output_type": "stream",
     "text": [
      "[30.80838861 30.82614617 30.80819832 30.80679286 30.79804421]\n",
      "3\n",
      "[0.19976666 0.20334571 0.19972865 0.19944814 0.19771084]\n",
      "(4, 0) b'U'\n",
      "(4, 0) b'U'\n"
     ]
    },
    {
     "data": {
      "image/png": "[encoded data removed]",
      "text/plain": [
       "<Figure size 288x288 with 1 Axes>"
      ]
     },
     "metadata": {},
     "output_type": "display_data"
    },
    {
     "name": "stdout",
     "output_type": "stream",
     "text": [
      "[30.80838861 30.82614617 30.80819832 30.80679286 30.79804421]\n",
      "3\n",
      "[0.19976666 0.20334571 0.19972865 0.19944814 0.19771084]\n",
      "(4, 0) b'U'\n",
      "(4, 0) b'U'\n"
     ]
    },
    {
     "data": {
      "image/png": "[encoded data removed]",
      "text/plain": [
       "<Figure size 288x288 with 1 Axes>"
      ]
     },
     "metadata": {},
     "output_type": "display_data"
    },
    {
     "name": "stdout",
     "output_type": "stream",
     "text": [
      "[30.80838861 30.82614617 30.80819832 30.80679286 30.79804421]\n",
      "0\n",
      "[0.19976666 0.20334571 0.19972865 0.19944814 0.19771084]\n",
      "(4, 0) b'U'\n",
      "(4, 0) b'U'\n"
     ]
    },
    {
     "data": {
      "image/png": "[encoded data removed]",
      "text/plain": [
       "<Figure size 288x288 with 1 Axes>"
      ]
     },
     "metadata": {},
     "output_type": "display_data"
    },
    {
     "name": "stdout",
     "output_type": "stream",
     "text": [
      "[30.80838861 30.82614617 30.80819832 30.80679286 30.79804421]\n",
      "0\n",
      "[0.19976666 0.20334571 0.19972865 0.19944814 0.19771084]\n",
      "(4, 0) b'U'\n",
      "(4, 0) b'U'\n"
     ]
    },
    {
     "data": {
      "image/png": "[encoded data removed]",
      "text/plain": [
       "<Figure size 288x288 with 1 Axes>"
      ]
     },
     "metadata": {},
     "output_type": "display_data"
    },
    {
     "name": "stdout",
     "output_type": "stream",
     "text": [
      "[30.80838861 30.82614617 30.80819832 30.80679286 30.79804421]\n",
      "2\n",
      "[0.19976666 0.20334571 0.19972865 0.19944814 0.19771084]\n",
      "(4, 0) b'U'\n",
      "(4, 0) b'U'\n"
     ]
    },
    {
     "data": {
      "image/png": "[encoded data removed]",
      "text/plain": [
       "<Figure size 288x288 with 1 Axes>"
      ]
     },
     "metadata": {},
     "output_type": "display_data"
    },
    {
     "name": "stdout",
     "output_type": "stream",
     "text": [
      "[30.80838861 30.82614617 30.80819832 30.80679286 30.79804421]\n",
      "0\n",
      "[0.19976666 0.20334571 0.19972865 0.19944814 0.19771084]\n",
      "(4, 0) b'U'\n",
      "(4, 0) b'U'\n"
     ]
    },
    {
     "data": {
      "image/png": "[encoded data removed]",
      "text/plain": [
       "<Figure size 288x288 with 1 Axes>"
      ]
     },
     "metadata": {},
     "output_type": "display_data"
    },
    {
     "name": "stdout",
     "output_type": "stream",
     "text": [
      "[30.80838861 30.82614617 30.80819832 30.80679286 30.79804421]\n",
      "0\n",
      "[0.19976666 0.20334571 0.19972865 0.19944814 0.19771084]\n",
      "(4, 0) b'U'\n",
      "(4, 0) b'U'\n"
     ]
    },
    {
     "data": {
      "image/png": "[encoded data removed]",
      "text/plain": [
       "<Figure size 288x288 with 1 Axes>"
      ]
     },
     "metadata": {},
     "output_type": "display_data"
    },
    {
     "name": "stdout",
     "output_type": "stream",
     "text": [
      "[30.80838861 30.82614617 30.80819832 30.80679286 30.79804421]\n",
      "0\n",
      "[0.19976666 0.20334571 0.19972865 0.19944814 0.19771084]\n",
      "(4, 0) b'U'\n",
      "(4, 0) b'U'\n"
     ]
    },
    {
     "data": {
      "image/png": "[encoded data removed]",
      "text/plain": [
       "<Figure size 288x288 with 1 Axes>"
      ]
     },
     "metadata": {},
     "output_type": "display_data"
    },
    {
     "name": "stdout",
     "output_type": "stream",
     "text": [
      "[30.80838861 30.82614617 30.80819832 30.80679286 30.79804421]\n",
      "2\n",
      "[0.19976666 0.20334571 0.19972865 0.19944814 0.19771084]\n",
      "(4, 0) b'U'\n",
      "(4, 0) b'U'\n"
     ]
    },
    {
     "data": {
      "image/png": "[encoded data removed]",
      "text/plain": [
       "<Figure size 288x288 with 1 Axes>"
      ]
     },
     "metadata": {},
     "output_type": "display_data"
    },
    {
     "name": "stdout",
     "output_type": "stream",
     "text": [
      "[30.80838861 30.82614617 30.80819832 30.80679286 30.79804421]\n",
      "2\n",
      "[0.19976666 0.20334571 0.19972865 0.19944814 0.19771084]\n",
      "(4, 0) b'U'\n",
      "(4, 0) b'U'\n"
     ]
    },
    {
     "data": {
      "image/png": "[encoded data removed]",
      "text/plain": [
       "<Figure size 288x288 with 1 Axes>"
      ]
     },
     "metadata": {},
     "output_type": "display_data"
    },
    {
     "name": "stdout",
     "output_type": "stream",
     "text": [
      "[30.80838861 30.82614617 30.80819832 30.80679286 30.79804421]\n",
      "2\n",
      "[0.19976666 0.20334571 0.19972865 0.19944814 0.19771084]\n",
      "(4, 0) b'U'\n",
      "(4, 0) b'U'\n"
     ]
    },
    {
     "data": {
      "image/png": "[encoded data removed]",
      "text/plain": [
       "<Figure size 288x288 with 1 Axes>"
      ]
     },
     "metadata": {},
     "output_type": "display_data"
    },
    {
     "name": "stdout",
     "output_type": "stream",
     "text": [
      "[30.80838861 30.82614617 30.80819832 30.80679286 30.79804421]\n",
      "1\n",
      "[0.19976666 0.20334571 0.19972865 0.19944814 0.19771084]\n",
      "(4, 0) b'U'\n",
      "(4, 0) b'U'\n"
     ]
    },
    {
     "data": {
      "image/png": "[encoded data removed]",
      "text/plain": [
       "<Figure size 288x288 with 1 Axes>"
      ]
     },
     "metadata": {},
     "output_type": "display_data"
    },
    {
     "name": "stdout",
     "output_type": "stream",
     "text": [
      "[30.80838861 30.82614617 30.80819832 30.80679286 30.79804421]\n",
      "1\n",
      "[0.19976666 0.20334571 0.19972865 0.19944814 0.19771084]\n",
      "(4, 0) b'U'\n",
      "(4, 0) b'U'\n"
     ]
    },
    {
     "data": {
      "image/png": "[encoded data removed]",
      "text/plain": [
       "<Figure size 288x288 with 1 Axes>"
      ]
     },
     "metadata": {},
     "output_type": "display_data"
    },
    {
     "name": "stdout",
     "output_type": "stream",
     "text": [
      "[30.80838861 30.82614617 30.80819832 30.80679286 30.79804421]\n",
      "1\n",
      "[0.19976666 0.20334571 0.19972865 0.19944814 0.19771084]\n",
      "(4, 0) b'U'\n",
      "(4, 0) b'U'\n"
     ]
    },
    {
     "data": {
      "image/png": "[encoded data removed]",
      "text/plain": [
       "<Figure size 288x288 with 1 Axes>"
      ]
     },
     "metadata": {},
     "output_type": "display_data"
    },
    {
     "name": "stdout",
     "output_type": "stream",
     "text": [
      "[30.80838861 30.82614617 30.80819832 30.80679286 30.79804421]\n",
      "3\n",
      "[0.19976666 0.20334571 0.19972865 0.19944814 0.19771084]\n",
      "(4, 0) b'U'\n",
      "(4, 0) b'U'\n"
     ]
    },
    {
     "data": {
      "image/png": "[encoded data removed]",
      "text/plain": [
       "<Figure size 288x288 with 1 Axes>"
      ]
     },
     "metadata": {},
     "output_type": "display_data"
    },
    {
     "name": "stdout",
     "output_type": "stream",
     "text": [
      "[30.80838861 30.82614617 30.80819832 30.80679286 30.79804421]\n",
      "4\n",
      "[0.19976666 0.20334571 0.19972865 0.19944814 0.19771084]\n",
      "(4, 0) b'U'\n",
      "(4, 0) b'U'\n"
     ]
    },
    {
     "data": {
      "image/png": "[encoded data removed]",
      "text/plain": [
       "<Figure size 288x288 with 1 Axes>"
      ]
     },
     "metadata": {},
     "output_type": "display_data"
    },
    {
     "name": "stdout",
     "output_type": "stream",
     "text": [
      "[30.80838861 30.82614617 30.80819832 30.80679286 30.79804421]\n",
      "4\n",
      "[0.19976666 0.20334571 0.19972865 0.19944814 0.19771084]\n",
      "(4, 0) b'U'\n",
      "(4, 0) b'U'\n"
     ]
    },
    {
     "data": {
      "image/png": "[encoded data removed]",
      "text/plain": [
       "<Figure size 288x288 with 1 Axes>"
      ]
     },
     "metadata": {},
     "output_type": "display_data"
    },
    {
     "name": "stdout",
     "output_type": "stream",
     "text": [
      "[30.80838861 30.82614617 30.80819832 30.80679286 30.79804421]\n",
      "3\n",
      "[0.19976666 0.20334571 0.19972865 0.19944814 0.19771084]\n",
      "(4, 0) b'U'\n",
      "(4, 0) b'U'\n"
     ]
    },
    {
     "data": {
      "image/png": "[encoded data removed]",
      "text/plain": [
       "<Figure size 288x288 with 1 Axes>"
      ]
     },
     "metadata": {},
     "output_type": "display_data"
    },
    {
     "name": "stdout",
     "output_type": "stream",
     "text": [
      "[30.80838861 30.82614617 30.80819832 30.80679286 30.79804421]\n",
      "2\n",
      "[0.19976666 0.20334571 0.19972865 0.19944814 0.19771084]\n",
      "(4, 0) b'U'\n",
      "(4, 0) b'U'\n"
     ]
    },
    {
     "data": {
      "image/png": "[encoded data removed]",
      "text/plain": [
       "<Figure size 288x288 with 1 Axes>"
      ]
     },
     "metadata": {},
     "output_type": "display_data"
    },
    {
     "name": "stdout",
     "output_type": "stream",
     "text": [
      "[30.80838861 30.82614617 30.80819832 30.80679286 30.79804421]\n",
      "2\n",
      "[0.19976666 0.20334571 0.19972865 0.19944814 0.19771084]\n",
      "(4, 0) b'U'\n",
      "(4, 0) b'U'\n"
     ]
    },
    {
     "data": {
      "image/png": "[encoded data removed]",
      "text/plain": [
       "<Figure size 288x288 with 1 Axes>"
      ]
     },
     "metadata": {},
     "output_type": "display_data"
    },
    {
     "name": "stdout",
     "output_type": "stream",
     "text": [
      "[30.80838861 30.82614617 30.80819832 30.80679286 30.79804421]\n",
      "1\n",
      "[0.19976666 0.20334571 0.19972865 0.19944814 0.19771084]\n",
      "(4, 0) b'U'\n",
      "(4, 0) b'U'\n"
     ]
    },
    {
     "data": {
      "image/png": "[encoded data removed]",
      "text/plain": [
       "<Figure size 288x288 with 1 Axes>"
      ]
     },
     "metadata": {},
     "output_type": "display_data"
    },
    {
     "name": "stdout",
     "output_type": "stream",
     "text": [
      "[30.80838861 30.82614617 30.80819832 30.80679286 30.79804421]\n",
      "1\n",
      "[0.19976666 0.20334571 0.19972865 0.19944814 0.19771084]\n",
      "(4, 0) b'U'\n",
      "(4, 0) b'U'\n"
     ]
    },
    {
     "data": {
      "image/png": "[encoded data removed]",
      "text/plain": [
       "<Figure size 288x288 with 1 Axes>"
      ]
     },
     "metadata": {},
     "output_type": "display_data"
    },
    {
     "name": "stdout",
     "output_type": "stream",
     "text": [
      "[30.80838861 30.82614617 30.80819832 30.80679286 30.79804421]\n",
      "0\n",
      "[0.19976666 0.20334571 0.19972865 0.19944814 0.19771084]\n",
      "(4, 0) b'U'\n",
      "(4, 0) b'U'\n"
     ]
    },
    {
     "data": {
      "image/png": "[encoded data removed]",
      "text/plain": [
       "<Figure size 288x288 with 1 Axes>"
      ]
     },
     "metadata": {},
     "output_type": "display_data"
    },
    {
     "name": "stdout",
     "output_type": "stream",
     "text": [
      "[30.80838861 30.82614617 30.80819832 30.80679286 30.79804421]\n",
      "0\n",
      "[0.19976666 0.20334571 0.19972865 0.19944814 0.19771084]\n",
      "(4, 0) b'U'\n",
      "(4, 0) b'U'\n"
     ]
    },
    {
     "data": {
      "image/png": "[encoded data removed]",
      "text/plain": [
       "<Figure size 288x288 with 1 Axes>"
      ]
     },
     "metadata": {},
     "output_type": "display_data"
    },
    {
     "name": "stdout",
     "output_type": "stream",
     "text": [
      "[30.80838861 30.82614617 30.80819832 30.80679286 30.79804421]\n",
      "3\n",
      "[0.19976666 0.20334571 0.19972865 0.19944814 0.19771084]\n",
      "(4, 0) b'U'\n",
      "(4, 0) b'U'\n"
     ]
    },
    {
     "data": {
      "image/png": "[encoded data removed]",
      "text/plain": [
       "<Figure size 288x288 with 1 Axes>"
      ]
     },
     "metadata": {},
     "output_type": "display_data"
    },
    {
     "name": "stdout",
     "output_type": "stream",
     "text": [
      "[30.80838861 30.82614617 30.80819832 30.80679286 30.79804421]\n",
      "1\n",
      "[0.19976666 0.20334571 0.19972865 0.19944814 0.19771084]\n",
      "(4, 0) b'U'\n",
      "(4, 0) b'U'\n"
     ]
    },
    {
     "data": {
      "image/png": "[encoded data removed]",
      "text/plain": [
       "<Figure size 288x288 with 1 Axes>"
      ]
     },
     "metadata": {},
     "output_type": "display_data"
    },
    {
     "name": "stdout",
     "output_type": "stream",
     "text": [
      "[30.80838861 30.82614617 30.80819832 30.80679286 30.79804421]\n",
      "1\n",
      "[0.19976666 0.20334571 0.19972865 0.19944814 0.19771084]\n",
      "(4, 0) b'U'\n",
      "(4, 0) b'U'\n"
     ]
    },
    {
     "data": {
      "image/png": "[encoded data removed]",
      "text/plain": [
       "<Figure size 288x288 with 1 Axes>"
      ]
     },
     "metadata": {},
     "output_type": "display_data"
    },
    {
     "name": "stdout",
     "output_type": "stream",
     "text": [
      "[30.80838861 30.82614617 30.80819832 30.80679286 30.79804421]\n",
      "1\n",
      "[0.19976666 0.20334571 0.19972865 0.19944814 0.19771084]\n",
      "(4, 0) b'U'\n",
      "(4, 0) b'U'\n"
     ]
    },
    {
     "data": {
      "image/png": "[encoded data removed]",
      "text/plain": [
       "<Figure size 288x288 with 1 Axes>"
      ]
     },
     "metadata": {},
     "output_type": "display_data"
    },
    {
     "name": "stdout",
     "output_type": "stream",
     "text": [
      "[30.80838861 30.82614617 30.80819832 30.80679286 30.79804421]\n",
      "3\n",
      "[0.19976666 0.20334571 0.19972865 0.19944814 0.19771084]\n",
      "(4, 0) b'U'\n",
      "(4, 0) b'U'\n"
     ]
    },
    {
     "data": {
      "image/png": "[encoded data removed]",
      "text/plain": [
       "<Figure size 288x288 with 1 Axes>"
      ]
     },
     "metadata": {},
     "output_type": "display_data"
    },
    {
     "name": "stdout",
     "output_type": "stream",
     "text": [
      "[30.80838861 30.82614617 30.80819832 30.80679286 30.79804421]\n",
      "0\n",
      "[0.19976666 0.20334571 0.19972865 0.19944814 0.19771084]\n",
      "(4, 0) b'U'\n",
      "(4, 0) b'U'\n"
     ]
    },
    {
     "data": {
      "image/png": "[encoded data removed]",
      "text/plain": [
       "<Figure size 288x288 with 1 Axes>"
      ]
     },
     "metadata": {},
     "output_type": "display_data"
    },
    {
     "name": "stdout",
     "output_type": "stream",
     "text": [
      "[30.80838861 30.82614617 30.80819832 30.80679286 30.79804421]\n",
      "2\n",
      "[0.19976666 0.20334571 0.19972865 0.19944814 0.19771084]\n",
      "(4, 0) b'U'\n",
      "(4, 0) b'U'\n"
     ]
    },
    {
     "data": {
      "image/png": "[encoded data removed]",
      "text/plain": [
       "<Figure size 288x288 with 1 Axes>"
      ]
     },
     "metadata": {},
     "output_type": "display_data"
    },
    {
     "name": "stdout",
     "output_type": "stream",
     "text": [
      "[30.80838861 30.82614617 30.80819832 30.80679286 30.79804421]\n",
      "1\n",
      "[0.19976666 0.20334571 0.19972865 0.19944814 0.19771084]\n",
      "(4, 0) b'U'\n",
      "(4, 0) b'U'\n"
     ]
    }
   ],
   "source": [
    "Q = tabsoftq_learn_Qs(mdp)\n",
    "plot_mars(mdp,tabsoftq_gen_pol(Q*50),Qs=Q)\n"
   ]
  },
  {
   "cell_type": "markdown",
   "metadata": {},
   "source": [
    "# NN IDL"
   ]
  },
  {
   "cell_type": "code",
   "execution_count": 21,
   "metadata": {},
   "outputs": [],
   "source": [
    "train_demo_example_idxes = None\n",
    "val_demo_example_idxes = None\n",
    "\n",
    "gamma = 0.99\n",
    "iterations = 100000\n",
    "learning_rate = 1e-1\n",
    "batch_size = 512\n",
    "sq_td_err_penalty = 1e0\n",
    "trans_err_penalty = 1e2\n",
    "\n",
    "\n",
    "q_n_layers = 1\n",
    "q_layer_size = 16384\n",
    "q_activation = tf.nn.relu\n",
    "q_output_activation = None\n",
    "\n",
    "invdyn_n_layers = 1\n",
    "invdyn_layer_size = 64\n",
    "invdyn_activation = tf.nn.relu\n",
    "invdyn_output_activation = None\n",
    "\n",
    "\n",
    "constraint_sampling_freq = 100000\n",
    "constraint_batch_size = batch_size\n",
    "n_constraint_rollouts_per_env = 100\n",
    "\n",
    "val_update_freq = 1"
   ]
  },
  {
   "cell_type": "code",
   "execution_count": null,
   "metadata": {},
   "outputs": [],
   "source": []
  },
  {
   "cell_type": "code",
   "execution_count": null,
   "metadata": {},
   "outputs": [],
   "source": []
  },
  {
   "cell_type": "code",
   "execution_count": 22,
   "metadata": {},
   "outputs": [],
   "source": [
    "n_obs_feats = 2\n",
    "n_act_dim = 5\n",
    "featurize_states = lambda states: np.array([mdp.s_to_grid(state) for state in states])\n",
    "featurize_acts = lambda a: a\n",
    "n_dirs = 5"
   ]
  },
  {
   "cell_type": "code",
   "execution_count": 23,
   "metadata": {},
   "outputs": [],
   "source": [
    "def build_mlp(\n",
    "    input_placeholder,\n",
    "    output_size,\n",
    "    scope,\n",
    "    n_layers=1,\n",
    "    size=256,\n",
    "    activation=tf.nn.relu,\n",
    "    output_activation=None,\n",
    "    reuse=False\n",
    "      ):\n",
    "    out = tf.cast(input_placeholder, tf.float32)\n",
    "    with tf.variable_scope(scope, reuse=reuse):\n",
    "        for _ in range(n_layers):\n",
    "            out = tf.layers.dense(out, size, activation=activation)\n",
    "        out = tf.layers.dense(out, output_size, activation=output_activation)\n",
    "    return out"
   ]
  },
  {
   "cell_type": "code",
   "execution_count": 24,
   "metadata": {},
   "outputs": [],
   "source": [
    "def nn_vectorize_rollouts(sas_obs, adt_obs):\n",
    "    states, acts, next_states = zip(*sas_obs)\n",
    "    _, dirs, tiles = zip(*adt_obs)\n",
    "    states_feats = featurize_states(states)\n",
    "    states = np.expand_dims(np.array(states), axis=1)\n",
    "    actions = np.expand_dims(np.array(acts), axis=1)\n",
    "    next_states_feats = featurize_states(next_states)\n",
    "    next_states = np.expand_dims(np.array(next_states), axis=1)\n",
    "    dirs = np.expand_dims(np.array(dirs), axis=1)\n",
    "    tiles = np.expand_dims(np.array(tiles), axis=1)\n",
    "    return (states, states_feats, actions, next_states, next_states_feats, dirs, tiles)\n",
    "\n",
    "def get_rollout_indexes(sas_obs):\n",
    "    demo_example_idxes = list(range(len(sas_obs)))\n",
    "    random.shuffle(demo_example_idxes)\n",
    "    n_train_demo_examples = int(0.9 * len(demo_example_idxes))\n",
    "    train_demo_example_idxes = demo_example_idxes[:n_train_demo_examples]\n",
    "    val_demo_example_idxes = demo_example_idxes[n_train_demo_examples:]\n",
    "    return (train_demo_example_idxes, val_demo_example_idxes)\n",
    "\n",
    "def sample_batch(rollouts, indexes, size=None):\n",
    "    idxes = random.sample(indexes, size) if size is not None else indexes\n",
    "    demo_batch = [comp[idxes] for comp in rollouts]\n",
    "    return demo_batch\n",
    "\n",
    "def generate_constraints(mdp):\n",
    "    s = np.arange(mdp.nS)\n",
    "    a = np.arange(mdp.nA) \n",
    "    sa = np.transpose([np.tile(s, len(a)), np.repeat(a, len(s))])\n",
    "    states, acts = sa[:,0], sa[:,1]\n",
    "    feat_states = featurize_states(states)\n",
    "    tiles = np.expand_dims(np.array([mdp.get_tile_type(s) for s in states]), axis=1)\n",
    "    acts_array = np.expand_dims(acts,axis=1)\n",
    "    rewards = np.array([mdp.get_reward(states[i], acts[i]) for i in range(len(states))])\n",
    "    sprimes = mdp.get_possible_sprimes(feat_states)\n",
    "\n",
    "    return feat_states, acts_array, rewards, sprimes, tiles"
   ]
  },
  {
   "cell_type": "code",
   "execution_count": 25,
   "metadata": {},
   "outputs": [],
   "source": [
    "# im_scope =  str(uuid.uuid4())\n",
    "# q_scope = str(uuid.uuid4())\n",
    "# invsas_scope = str(uuid.uuid4())\n",
    "# invadt_scope = str(uuid.uuid4())\n",
    "\n",
    "# with open(os.path.join(data_dir, 'im_scope.pkl'), 'wb') as f:\n",
    "#     pkl.dump(im_scope, f)\n",
    "\n",
    "# with open(os.path.join(data_dir, 'q_scope.pkl'), 'wb') as f:\n",
    "#     pkl.dump(q_scope, f)\n",
    "\n",
    "# with open(os.path.join(data_dir, 'invsas_scope.pkl'), 'wb') as f:\n",
    "#     pkl.dump(invsas_scope, f)\n",
    "    \n",
    "# with open(os.path.join(data_dir, 'invadt_scope.pkl'), 'wb') as f:\n",
    "#     pkl.dump(invadt_scope, f)"
   ]
  },
  {
   "cell_type": "code",
   "execution_count": 26,
   "metadata": {},
   "outputs": [],
   "source": [
    "with open(os.path.join(data_dir, 'im_scope.pkl'), 'rb') as f:\n",
    "    im_scope = pkl.load(f)\n",
    "\n",
    "with open(os.path.join(data_dir, 'q_scope.pkl'), 'rb') as f:\n",
    "    q_scope = pkl.load(f)\n",
    "\n",
    "with open(os.path.join(data_dir, 'invsas_scope.pkl'), 'rb') as f:\n",
    "    invsas_scope = pkl.load(f)\n",
    "    \n",
    "with open(os.path.join(data_dir, 'invadt_scope.pkl'), 'rb') as f:\n",
    "    invadt_scope = pkl.load(f)"
   ]
  },
  {
   "cell_type": "code",
   "execution_count": 27,
   "metadata": {},
   "outputs": [],
   "source": [
    "sess = tf.Session()"
   ]
  },
  {
   "cell_type": "code",
   "execution_count": 28,
   "metadata": {},
   "outputs": [],
   "source": [
    "demo_obs_t_ph = tf.placeholder(tf.int32, [None,1], name=\"dot\")\n",
    "demo_tile_t_ph = tf.placeholder(tf.int32, [None, 1], name=\"dtt\")\n",
    "demo_act_t_ph = tf.placeholder(tf.int32, [None, 1], name=\"dat\")\n",
    "demo_next_obs_t_ph = tf.placeholder(tf.int32, [None,1], name=\"dnot\")\n",
    "demo_obs_t_feats_ph = tf.placeholder(tf.int32, [None, n_obs_feats], name=\"dotf\")\n",
    "demo_next_obs_t_feats_ph = tf.placeholder(tf.int32, [None, n_obs_feats], name=\"dnotf\")\n",
    "demo_dir_t_ph = tf.placeholder(tf.int32, [None, 1], name=\"ddt\")\n",
    "demo_batch_size_ph = tf.placeholder(tf.int32, name=\"dbs\")\n",
    "\n",
    "constraint_obs_t_ph = tf.placeholder(tf.int32, [None,1], name=\"cot\")\n",
    "constraint_tile_t_ph = tf.placeholder(tf.int32, [None, 1], name=\"ctt\")\n",
    "constraint_obs_t_feats_ph = tf.placeholder(tf.int32, [None, n_obs_feats], name=\"cotf\")\n",
    "constraint_act_t_ph = tf.placeholder(tf.int32, [None, 1], name=\"cat\")\n",
    "constraint_rew_t_ph = tf.placeholder(tf.float32, [None], name=\"crt\")\n",
    "constraint_next_obs_t_feats_ph = tf.placeholder(tf.int32, [None, n_dirs, n_obs_feats], name=\"cnotf\")\n",
    "constraint_batch_size_ph = tf.placeholder(tf.int32, name=\"cbs\")"
   ]
  },
  {
   "cell_type": "code",
   "execution_count": 29,
   "metadata": {},
   "outputs": [],
   "source": [
    "boltz_beta = 50\n",
    "\n",
    "demo_q_t = build_mlp(demo_obs_t_feats_ph,\n",
    "    n_act_dim, q_scope, \n",
    "    n_layers=q_n_layers, size=q_layer_size,\n",
    "    activation=q_activation, output_activation=q_output_activation) * boltz_beta\n",
    "\n",
    "# demo_v_t = tf.reduce_logsumexp(\n",
    "#   tf.stack([build_mlp(\n",
    "#     extract_task(demo_obs_t_ph, train_task_idx),\n",
    "#     n_act_dim, q_scope+'-'+str(train_task_idx), \n",
    "#     n_layers=q_n_layers, size=q_layer_size,\n",
    "#     activation=q_activation, output_activation=q_output_activation,\n",
    "#     reuse=True\n",
    "#   ) for train_task_idx in range(n_train_tasks)], axis=0),\n",
    "#   axis=2)"
   ]
  },
  {
   "cell_type": "code",
   "execution_count": 30,
   "metadata": {},
   "outputs": [],
   "source": [
    "demo_v_t = tf.reduce_logsumexp(demo_q_t, axis=1)\n",
    "\n",
    "action_indexes = tf.concat([tf.expand_dims(tf.range(demo_batch_size_ph), 1), demo_act_t_ph], axis=1)\n",
    "\n",
    "act_log_likelihoods = tf.gather_nd(demo_q_t, action_indexes) - demo_v_t\n",
    "\n",
    "neg_avg_act_log_likelihood = -tf.reduce_mean(act_log_likelihoods)"
   ]
  },
  {
   "cell_type": "code",
   "execution_count": 31,
   "metadata": {},
   "outputs": [],
   "source": [
    "sas_pred_obs = build_mlp(\n",
    "  tf.concat((demo_obs_t_feats_ph, demo_act_t_ph), axis=1),\n",
    "  n_dirs, invsas_scope, \n",
    "  n_layers=invdyn_n_layers, size=invdyn_layer_size,\n",
    "  activation=invdyn_activation, output_activation=invdyn_output_activation)\n",
    "\n",
    "adt_pred_dir = build_mlp(\n",
    "  tf.concat((demo_act_t_ph, demo_tile_t_ph), axis=1),\n",
    "  n_dirs, invadt_scope, \n",
    "  n_layers=invdyn_n_layers, size=invdyn_layer_size,\n",
    "  activation=invdyn_activation, output_activation=invdyn_output_activation)\n",
    "\n",
    "dir_indexes = tf.concat([tf.expand_dims(tf.range(demo_batch_size_ph), 1), demo_dir_t_ph], axis=1)\n",
    "\n",
    "adt_log_likelihoods = tf.gather_nd(adt_pred_dir, dir_indexes) - tf.reduce_logsumexp(adt_pred_dir, axis=1)\n",
    "\n",
    "neg_avg_adt_log_likelihood = -tf.reduce_mean(adt_log_likelihoods)\n",
    "\n",
    "sas_log_likelihoods = tf.gather_nd(sas_pred_obs, dir_indexes) - tf.reduce_logsumexp(sas_pred_obs, axis=1)\n",
    "\n",
    "neg_avg_sas_log_likelihood = -tf.reduce_mean(sas_log_likelihoods)"
   ]
  },
  {
   "cell_type": "code",
   "execution_count": 32,
   "metadata": {},
   "outputs": [],
   "source": [
    "ca_indexes = tf.concat([tf.expand_dims(tf.range(constraint_batch_size_ph), 1), constraint_act_t_ph], axis=1)\n",
    "\n",
    "constraint_q_ts = build_mlp(constraint_obs_t_feats_ph,\n",
    "        n_act_dim, q_scope, \n",
    "        n_layers=q_n_layers, size=q_layer_size,\n",
    "        activation=q_activation, output_activation=q_output_activation,\n",
    "        reuse=True)\n",
    "\n",
    "constraint_q_t = tf.gather_nd(constraint_q_ts, ca_indexes)\n",
    "\n",
    "\n",
    "# Predicted constraint next state given inv dyns\n",
    "constraint_sas_pred_obs = build_mlp(\n",
    "  tf.concat((constraint_obs_t_feats_ph, constraint_act_t_ph), axis=1),\n",
    "  n_dirs, invsas_scope, \n",
    "  n_layers=invdyn_n_layers, size=invdyn_layer_size,\n",
    "  activation=invdyn_activation, output_activation=invdyn_output_activation,\n",
    "  reuse=True)\n",
    "\n",
    "constraint_adt_pred_dir = build_mlp(\n",
    "  tf.concat((constraint_act_t_ph, constraint_tile_t_ph), axis=1),\n",
    "  n_dirs, invadt_scope, \n",
    "  n_layers=invdyn_n_layers, size=invdyn_layer_size,\n",
    "  activation=invdyn_activation, output_activation=invdyn_output_activation,\n",
    "  reuse=True)"
   ]
  },
  {
   "cell_type": "code",
   "execution_count": 33,
   "metadata": {},
   "outputs": [],
   "source": [
    "constraint_sprimes_reshaped = tf.reshape(constraint_next_obs_t_feats_ph, (constraint_batch_size_ph * n_dirs, n_obs_feats))"
   ]
  },
  {
   "cell_type": "code",
   "execution_count": 34,
   "metadata": {},
   "outputs": [],
   "source": [
    "cqtp1_misshaped = build_mlp(constraint_sprimes_reshaped,\n",
    "    n_act_dim, q_scope, \n",
    "    n_layers=q_n_layers, size=q_layer_size,\n",
    "    activation=q_activation, output_activation=q_output_activation,\n",
    "    reuse=True)\n",
    "\n",
    "constraint_q_tp1 = tf.reshape(cqtp1_misshaped, (constraint_batch_size_ph, n_dirs, n_act_dim))\n",
    "\n",
    "constraint_v_tp1 = tf.reduce_logsumexp(constraint_q_tp1, axis=2) #- np.log(5) "
   ]
  },
  {
   "cell_type": "code",
   "execution_count": 35,
   "metadata": {},
   "outputs": [],
   "source": [
    "constraint_sas_pred_probs = tf.nn.softmax(constraint_sas_pred_obs, axis=1)\n",
    "constraint_adt_pred_probs = tf.nn.softmax(constraint_adt_pred_dir, axis=1)\n",
    "sas_V = tf.multiply(constraint_v_tp1, constraint_sas_pred_probs)\n",
    "adt_V = tf.multiply(constraint_v_tp1, constraint_adt_pred_probs)\n",
    "sas_target_t = constraint_rew_t_ph + gamma * tf.reduce_sum(sas_V, axis=1)\n",
    "adt_target_t = constraint_rew_t_ph + gamma * tf.reduce_sum(adt_V, axis=1)"
   ]
  },
  {
   "cell_type": "code",
   "execution_count": 36,
   "metadata": {},
   "outputs": [],
   "source": [
    "sas_td_err = tf.reduce_mean((constraint_q_t - sas_target_t)**2)\n",
    "adt_td_err = tf.reduce_mean((constraint_q_t - adt_target_t)**2)"
   ]
  },
  {
   "cell_type": "code",
   "execution_count": 37,
   "metadata": {},
   "outputs": [],
   "source": [
    "sas_loss = neg_avg_act_log_likelihood + trans_err_penalty * neg_avg_sas_log_likelihood + sq_td_err_penalty * sas_td_err\n",
    "adt_loss = neg_avg_act_log_likelihood + trans_err_penalty * neg_avg_adt_log_likelihood + sq_td_err_penalty * adt_td_err\n",
    "adt_loss_act_only = neg_avg_act_log_likelihood + sq_td_err_penalty * adt_td_err"
   ]
  },
  {
   "cell_type": "code",
   "execution_count": 38,
   "metadata": {},
   "outputs": [],
   "source": [
    "sas_V_sg = tf.multiply(constraint_v_tp1, tf.stop_gradient(constraint_sas_pred_probs))\n",
    "adt_V_sg = tf.multiply(constraint_v_tp1, tf.stop_gradient(constraint_adt_pred_probs))\n",
    "sas_target_sg = constraint_rew_t_ph + gamma * tf.reduce_sum(sas_V_sg, axis=1)\n",
    "adt_target_sg = constraint_rew_t_ph + gamma * tf.reduce_sum(adt_V_sg, axis=1)\n",
    "sas_td_err_sg = tf.reduce_mean((constraint_q_t - sas_target_sg)**2)\n",
    "adt_td_err_sg = tf.reduce_mean((constraint_q_t - adt_target_sg)**2)"
   ]
  },
  {
   "cell_type": "code",
   "execution_count": 39,
   "metadata": {},
   "outputs": [],
   "source": [
    "sas_update_op = tf.train.AdagradOptimizer(learning_rate).minimize(sas_loss)\n",
    "adt_update_op = tf.train.AdagradOptimizer(learning_rate).minimize(adt_loss)\n",
    "adt_trans_only_update_op = tf.train.AdagradOptimizer(learning_rate).minimize(neg_avg_adt_log_likelihood)\n",
    "adt_q_br_update_op = tf.train.AdagradOptimizer(learning_rate).minimize(adt_td_err_sg)\n",
    "q_nll_update_op = tf.train.AdagradOptimizer(learning_rate).minimize(neg_avg_act_log_likelihood)"
   ]
  },
  {
   "cell_type": "code",
   "execution_count": 40,
   "metadata": {},
   "outputs": [],
   "source": [
    "true_qs_ph = tf.placeholder(tf.float32, [None], name=\"tq\")\n",
    "true_q_errs = constraint_q_t - true_qs_ph\n",
    "true_q_err = tf.reduce_sum((true_q_errs)**2)\n",
    "true_q_update_op = tf.train.AdagradOptimizer(learning_rate).minimize(true_q_err)"
   ]
  },
  {
   "cell_type": "code",
   "execution_count": 41,
   "metadata": {},
   "outputs": [],
   "source": [
    "def compute_batch_loss(demo_batch, constraints, step=False, update=\"adt\", t=None, true_qs=None):\n",
    "    feed_dict = {\n",
    "        demo_obs_t_feats_ph: demo_batch[1],\n",
    "        demo_act_t_ph: demo_batch[2],\n",
    "        demo_next_obs_t_feats_ph: demo_batch[4],\n",
    "        demo_dir_t_ph: demo_batch[5],\n",
    "        demo_tile_t_ph: demo_batch[6],\n",
    "        demo_batch_size_ph: demo_batch[2].shape[0],\n",
    "        constraint_obs_t_feats_ph: constraints[0],\n",
    "        constraint_act_t_ph: constraints[1],\n",
    "        constraint_rew_t_ph: constraints[2],\n",
    "        constraint_next_obs_t_feats_ph: constraints[3],\n",
    "        constraint_tile_t_ph: constraints[4],\n",
    "        constraint_batch_size_ph: constraints[0].shape[0]\n",
    "    }\n",
    "      \n",
    "    if update == \"trans\": \n",
    "        [trans_likelihood_eval] = sess.run([neg_avg_adt_log_likelihood], feed_dict=feed_dict)\n",
    "        update_op = adt_trans_only_update_op\n",
    "        if step:\n",
    "            sess.run(update_op, feed_dict=feed_dict)\n",
    "        d = {'loss':trans_likelihood_eval}\n",
    "    \n",
    "    if update == \"adt\":\n",
    "        [loss_eval, act_likelihood_eval, td_err_eval, trans_likelihood_eval] = sess.run(\n",
    "            [adt_loss, neg_avg_act_log_likelihood, adt_td_err, neg_avg_adt_log_likelihood], feed_dict=feed_dict)\n",
    "        update_op = adt_update_op\n",
    "        d = {'loss': loss_eval,\n",
    "            'nall': act_likelihood_eval,\n",
    "            'tde': td_err_eval,\n",
    "            'ntll': trans_likelihood_eval}\n",
    "        \n",
    "    if update == \"sas\":\n",
    "        [loss_eval, act_likelihood_eval, td_err_eval, trans_likelihood_eval] = sess.run(\n",
    "            [sas_loss, neg_avg_act_log_likelihood, sas_td_err, neg_avg_sas_log_likelihood], feed_dict=feed_dict)\n",
    "        update_op = sas_update_op\n",
    "        d = {'loss': loss_eval,\n",
    "            'nall': act_likelihood_eval,\n",
    "            'tde': td_err_eval,\n",
    "            'ntll': trans_likelihood_eval}\n",
    "    \n",
    "    if update == \"adt_brsg\":\n",
    "        [loss_eval] = sess.run([adt_td_err_sg], feed_dict=feed_dict)\n",
    "        update_op = adt_q_br_update_op\n",
    "        d = {'loss': loss_eval}\n",
    "        \n",
    "    if update == \"true_qs\":\n",
    "        feed_dict[true_qs_ph] = true_qs\n",
    "        [loss_eval] = sess.run([true_q_err], feed_dict=feed_dict)\n",
    "        update_op = true_q_update_op\n",
    "        d = {'loss': loss_eval}\n",
    " \n",
    "    if step:\n",
    "        sess.run(update_op, feed_dict=feed_dict)\n",
    "\n",
    "\n",
    "\n",
    "    return d"
   ]
  },
  {
   "cell_type": "markdown",
   "metadata": {},
   "source": [
    "# IDL & SERD Experiments"
   ]
  },
  {
   "cell_type": "code",
   "execution_count": 42,
   "metadata": {},
   "outputs": [],
   "source": [
    "tabsoftq_iter_ftol = 1e-32\n",
    "tabsoftq_iter_maxiter = 5000\n",
    "tabsoftq_iter_verbose = False\n",
    "tabsoftq_grad_iter_ftol = 1e-10\n",
    "tabsoftq_grad_iter_maxiter = 5000\n",
    "tabsoftq_grad_iter_verbose = False\n",
    "batch_size = 200\n",
    "n_demos = 200\n",
    "demo_time_steps = 40"
   ]
  },
  {
   "cell_type": "code",
   "execution_count": 43,
   "metadata": {},
   "outputs": [],
   "source": [
    "def clean_demos(sas_obs):\n",
    "    demo_example_idxes = list(range(len(sas_obs)))\n",
    "    unique_stays, stay_count = set([]), 0\n",
    "    for i,sas in enumerate(sas_obs):\n",
    "        sas = tuple(sas)\n",
    "        if sas[1] == 4:\n",
    "            stay_count += 1\n",
    "            if sas in unique_stays:\n",
    "                if stay_count > 4:\n",
    "                    demo_example_idxes.remove(i)\n",
    "            else:\n",
    "                unique_stays.add(sas)\n",
    "        else:\n",
    "            stay_count = 0\n",
    "    return demo_example_idxes\n",
    "\n",
    "# def sample_batch(size, ids, sas_obs, adt_obs):\n",
    "#     idxes = random.sample(ids, size)\n",
    "#     return sas_obs[idxes], adt_obs[idxes]"
   ]
  },
  {
   "cell_type": "code",
   "execution_count": 44,
   "metadata": {},
   "outputs": [],
   "source": [
    "def T_estimate(adt_obs):\n",
    "    stability = 1e-5\n",
    "    T_thetas = np.zeros(T_theta_shape)\n",
    "    T_counts = np.zeros(T_theta_shape) + stability\n",
    "    for a,d,t in adt_obs:\n",
    "        T_counts[a,d,t] += 1\n",
    "    for a in range(T_theta_shape[0]):\n",
    "        for t in range(T_theta_shape[2]):\n",
    "            z = np.sum(T_counts[a,:,t])\n",
    "            for d in range(T_theta_shape[1]):\n",
    "                if z == T_counts.shape[1] * stability:\n",
    "                    T_thetas[a,d,t] = 0\n",
    "                else:\n",
    "                    T_thetas[a,d,t] = np.log(T_counts[a,d,t]) - np.log(z)\n",
    "    return T_thetas\n",
    "\n",
    "def test_T_likelihood(Tps, sas_obs, adt_obs):\n",
    "    T = mdp.adt_trans_to_sas_trans(Tps)\n",
    "    R = mdp.rewards\n",
    "    Q = tabsoftq_iter(R, T, Q_init=None, maxiter=tabsoftq_iter_maxiter, verbose=tabsoftq_iter_verbose, ftol=tabsoftq_iter_ftol)\n",
    "    pl = eval_pol_likelihood(Q, sas_obs, verbose=True)\n",
    "    tl = eval_trans_likelihood(Tps, adt_obs, verbose=True)\n",
    "    print([s for s in range(nS) if mdp.get_tile_type(s)==1])\n",
    "    print(Q[[s for s in range(nS) if mdp.get_tile_type(s)==1]])\n",
    "    print(pl, tl)\n",
    "    return pl + tl\n",
    "\n",
    "def true_trans_loss(tps):\n",
    "    tps = mdp.adt_trans_to_sas_trans(tps)\n",
    "    true_tps = mdp.get_transition_matrix()\n",
    "    return np.linalg.norm(true_tps-tps)/mdp.nA"
   ]
  },
  {
   "cell_type": "code",
   "execution_count": 45,
   "metadata": {
    "scrolled": true
   },
   "outputs": [
    {
     "name": "stderr",
     "output_type": "stream",
     "text": [
      "/Users/mckaneandrus/anaconda2/envs/irld/lib/python3.6/site-packages/ipykernel_launcher.py:8: DeprecationWarning: `logsumexp` is deprecated!\n",
      "Importing `logsumexp` from scipy.misc is deprecated in scipy 1.0.0. Use `scipy.special.logsumexp` instead.\n",
      "  \n"
     ]
    }
   ],
   "source": [
    "exQs = tabsoftq_learn_Qs(mdp)\n",
    "demos = generate_demonstrations(mdp, tabsoftq_gen_pol(exQs * 10), n_demos, demo_time_steps)\n",
    "sas_obs, adt_obs = vectorize_rollouts(demos)"
   ]
  },
  {
   "cell_type": "code",
   "execution_count": 46,
   "metadata": {},
   "outputs": [],
   "source": [
    "# Ensure bad areas have not been visited in exes\n",
    "# demos = []\n",
    "# while len(demos) < n_demos:\n",
    "#     new_demo = generate_demonstrations(mdp, tabsoftq_gen_pol(exQs, beta=50), 1, demo_time_steps)[0]\n",
    "#     more_sas, more_adt = list(zip(*new_demo))\n",
    "#     if len(set([adt[2] for adt in more_adt])) == 1:\n",
    "#         demos += [new_demo]\n",
    "        \n",
    "# sas_obs, adt_obs = vectorize_rollouts(demos)"
   ]
  },
  {
   "cell_type": "markdown",
   "metadata": {},
   "source": [
    "# IDL NN"
   ]
  },
  {
   "cell_type": "code",
   "execution_count": 47,
   "metadata": {},
   "outputs": [],
   "source": [
    "n_training_iters = 100000"
   ]
  },
  {
   "cell_type": "code",
   "execution_count": 48,
   "metadata": {},
   "outputs": [],
   "source": [
    "good_indexes = clean_demos(sas_obs)\n",
    "sas_obs, adt_obs = sas_obs[good_indexes], adt_obs[good_indexes]\n",
    "constraints = generate_constraints(mdp)\n",
    "nn_rollouts = nn_vectorize_rollouts(sas_obs, adt_obs)\n",
    "train_idxes, val_idxes = get_rollout_indexes(sas_obs)\n",
    "val_demo_batch = sample_batch(nn_rollouts, val_idxes)"
   ]
  },
  {
   "cell_type": "code",
   "execution_count": 49,
   "metadata": {},
   "outputs": [],
   "source": [
    "tf.global_variables_initializer().run(session=sess)"
   ]
  },
  {
   "cell_type": "code",
   "execution_count": 50,
   "metadata": {},
   "outputs": [],
   "source": [
    "full_train_logs = {\n",
    "  'loss_evals': [],\n",
    "  'ntll_evals': [],\n",
    "  'nall_evals': [],\n",
    "  'tde_evals': [],\n",
    "  'val_loss_evals': [],\n",
    "  'val_ntll_evals': [],\n",
    "  'val_nall_evals': [],\n",
    "  'val_tde_evals': [],\n",
    "}"
   ]
  },
  {
   "cell_type": "code",
   "execution_count": 51,
   "metadata": {},
   "outputs": [
    {
     "name": "stderr",
     "output_type": "stream",
     "text": [
      "/Users/mckaneandrus/anaconda2/envs/irld/lib/python3.6/site-packages/ipykernel_launcher.py:8: DeprecationWarning: `logsumexp` is deprecated!\n",
      "Importing `logsumexp` from scipy.misc is deprecated in scipy 1.0.0. Use `scipy.special.logsumexp` instead.\n",
      "  \n"
     ]
    }
   ],
   "source": [
    "Qs = tabsoftq_learn_Qs(mdp)\n",
    "sa = np.transpose([np.tile(np.arange(mdp.nS), mdp.nA), np.repeat(np.arange(mdp.nA), mdp.nS)])\n",
    "states, acts = sa[:,0], sa[:,1]\n",
    "true_qs = Qs[states,acts]"
   ]
  },
  {
   "cell_type": "code",
   "execution_count": null,
   "metadata": {
    "scrolled": true
   },
   "outputs": [
    {
     "name": "stdout",
     "output_type": "stream",
     "text": [
      "[('loss', 72600120.0)]\n",
      "[('loss', 218713.64)]\n",
      "[('loss', 192967.0)]\n",
      "[('loss', 175182.1)]\n",
      "[('loss', 163745.27)]\n",
      "[('loss', 158323.94)]\n",
      "[('loss', 154979.33)]\n",
      "[('loss', 152963.7)]\n",
      "[('loss', 150856.45)]\n",
      "[('loss', 149242.36)]\n"
     ]
    },
    {
     "data": {
      "image/png": "[encoded data removed]",
      "text/plain": [
       "<Figure size 432x288 with 1 Axes>"
      ]
     },
     "metadata": {},
     "output_type": "display_data"
    },
    {
     "name": "stdout",
     "output_type": "stream",
     "text": [
      "[('loss', 147866.23)]\n",
      "[('loss', 146491.66)]\n",
      "[('loss', 145053.08)]\n",
      "[('loss', 143531.45)]\n",
      "[('loss', 141821.78)]\n",
      "[('loss', 139808.11)]\n",
      "[('loss', 137167.16)]\n",
      "[('loss', 134133.72)]\n",
      "[('loss', 130907.04)]\n",
      "[('loss', 127747.81)]\n"
     ]
    },
    {
     "data": {
      "image/png": "[encoded data removed]",
      "text/plain": [
       "<Figure size 432x288 with 1 Axes>"
      ]
     },
     "metadata": {},
     "output_type": "display_data"
    },
    {
     "name": "stdout",
     "output_type": "stream",
     "text": [
      "[('loss', 124763.234)]\n",
      "[('loss', 121976.05)]\n",
      "[('loss', 119463.984)]\n",
      "[('loss', 117165.48)]\n",
      "[('loss', 114870.87)]\n",
      "[('loss', 112699.33)]\n",
      "[('loss', 110294.64)]\n",
      "[('loss', 108260.555)]\n",
      "[('loss', 106279.31)]\n",
      "[('loss', 104350.055)]\n"
     ]
    },
    {
     "data": {
      "image/png": "[encoded data removed]",
      "text/plain": [
       "<Figure size 432x288 with 1 Axes>"
      ]
     },
     "metadata": {},
     "output_type": "display_data"
    },
    {
     "name": "stdout",
     "output_type": "stream",
     "text": [
      "[('loss', 102302.195)]\n",
      "[('loss', 100207.2)]\n",
      "[('loss', 98219.66)]\n",
      "[('loss', 96138.34)]\n",
      "[('loss', 94021.4)]\n",
      "[('loss', 91979.52)]\n"
     ]
    }
   ],
   "source": [
    "val_log = None\n",
    "# update = \"adt_brsg\"\n",
    "# update = \"trans\"\n",
    "update = \"true_qs\"\n",
    "while len(full_train_logs['loss_evals']) < n_training_iters:\n",
    "    demo_batch = sample_batch(nn_rollouts, train_idxes, batch_size)\n",
    "    t = len(full_train_logs['loss_evals'])\n",
    "    train_log = compute_batch_loss(demo_batch, constraints, step=True, update=update, t=t, true_qs=true_qs)\n",
    "    if val_log is None or len(full_train_logs['loss_evals']) % val_update_freq == 0:\n",
    "        val_log = compute_batch_loss(val_demo_batch, constraints, step=False, update=update, t=t, true_qs=true_qs)\n",
    "\n",
    "    if len(full_train_logs['loss_evals']) % 1000 == 0:\n",
    "#         print(t, val_log['loss'])\n",
    "          print([(key,val_log[key]) for key in val_log.keys()])\n",
    "    for k, v in train_log.items():\n",
    "        full_train_logs['%s_evals' % k].append(v)\n",
    "    for k, v in val_log.items():\n",
    "        full_train_logs['val_%s_evals' % k].append(v)\n",
    "    if len(full_train_logs['loss_evals']) % 10000 == 0:\n",
    "        for k in ['val_loss_evals','val_ntll_evals','val_nall_evals','val_tde_evals']:\n",
    "            if len(full_train_logs[k]) > 0:\n",
    "                plt.xlabel('Iterations')\n",
    "                plt.ylabel(k.split('_')[1])\n",
    "                plt.plot(full_train_logs[k])\n",
    "                plt.show()"
   ]
  },
  {
   "cell_type": "raw",
   "metadata": {},
   "source": [
    "# for k in ['val_loss_evals','val_ntll_evals','val_nall_evals','val_tde_evals']:\n",
    "#     plt.xlabel('Iterations')\n",
    "#     plt.ylabel(k.split('_')[1])\n",
    "#     plt.plot(full_train_logs[k])\n",
    "#     plt.show()"
   ]
  },
  {
   "cell_type": "code",
   "execution_count": null,
   "metadata": {},
   "outputs": [],
   "source": [
    "tts = np.arange(2)\n",
    "acts = np.arange(mdp.nA) \n",
    "adt_samples = np.transpose([np.tile(tts, len(acts)), np.repeat(acts, len(tts))])\n",
    "adt_samples = adt_samples[adt_samples[:,0].argsort()]"
   ]
  },
  {
   "cell_type": "code",
   "execution_count": null,
   "metadata": {},
   "outputs": [],
   "source": [
    "adt_probs = sess.run([adt_pred_dir], feed_dict={demo_tile_t_ph:adt_samples[:,0][np.newaxis].T,\n",
    "                                                demo_act_t_ph:adt_samples[:,1][np.newaxis].T})[0]"
   ]
  },
  {
   "cell_type": "code",
   "execution_count": null,
   "metadata": {},
   "outputs": [],
   "source": [
    "adt_samples"
   ]
  },
  {
   "cell_type": "code",
   "execution_count": null,
   "metadata": {},
   "outputs": [],
   "source": [
    "softmax(adt_probs)"
   ]
  },
  {
   "cell_type": "code",
   "execution_count": null,
   "metadata": {},
   "outputs": [],
   "source": [
    "print(reward_map)"
   ]
  },
  {
   "cell_type": "code",
   "execution_count": null,
   "metadata": {},
   "outputs": [],
   "source": [
    "states = featurize_states(np.arange(mdp.nS))\n",
    "q_vals = sess.run([constraint_q_ts], feed_dict={constraint_obs_t_feats_ph:states})[0]\n",
    "# q_vals = sess.run([demo_q_t], feed_dict={demo_obs_t_feats_ph:states})[0]"
   ]
  },
  {
   "cell_type": "code",
   "execution_count": null,
   "metadata": {},
   "outputs": [],
   "source": [
    "# i,n=200,30\n",
    "# states, actions = nn_rollouts[1][i:i+n], nn_rollouts[2][i:i+n] #featurize_states(np.arange(mdp.nS))\n",
    "# q_vals, likelihoods, qsas, vs = sess.run([demo_q_t, act_log_likelihoods,tf.gather_nd(demo_q_t, action_indexes), demo_v_t],\n",
    "#                                feed_dict={demo_obs_t_feats_ph:states,\n",
    "#                                             demo_act_t_ph:actions,\n",
    "#                                             demo_batch_size_ph: n})"
   ]
  },
  {
   "cell_type": "code",
   "execution_count": null,
   "metadata": {},
   "outputs": [],
   "source": [
    "evals = [constraint_q_ts, constraint_adt_pred_probs, constraint_adt_pred_dir, adt_target_t, ca_indexes, cqtp1_misshaped, constraint_q_tp1, constraint_v_tp1, constraint_sprimes_reshaped, adt_V, true_q_errs]\n",
    "c_qs, pred_probs, pred_dirs, adt_targs, acties, cq1, cq2, cv, cspr, av, tqes  = sess.run(evals,\n",
    "                        feed_dict={constraint_obs_t_feats_ph: constraints[0],\n",
    "                                    constraint_act_t_ph: constraints[1],\n",
    "                                    constraint_rew_t_ph: constraints[2],\n",
    "                                    constraint_next_obs_t_feats_ph: constraints[3],\n",
    "                                    constraint_tile_t_ph: constraints[4],\n",
    "                                    constraint_batch_size_ph: constraints[0].shape[0],\n",
    "                                    true_qs_ph: true_qs})"
   ]
  },
  {
   "cell_type": "code",
   "execution_count": null,
   "metadata": {},
   "outputs": [],
   "source": [
    "constraints[0][t_ind], constraints[1][t_ind], constraints[2][t_ind], constraints[4][t_ind], c_qs[t_ind], true_qs[t_ind], tqes[t_ind] #, adt_targs[t_ind], pred_probs[t_ind], cv[t_ind], cq2[t_ind], constraints[3][t_ind], av[t_ind]"
   ]
  },
  {
   "cell_type": "code",
   "execution_count": null,
   "metadata": {},
   "outputs": [],
   "source": [
    "constraints[0][t_ind], constraints[1][t_ind], constraints[2][t_ind], constraints[4][t_ind], c_qs[t_ind], true_qs[t_ind], tqes[t_ind] #, adt_targs[t_ind], pred_probs[t_ind], cv[t_ind], cq2[t_ind], constraints[3][t_ind], av[t_ind]"
   ]
  },
  {
   "cell_type": "code",
   "execution_count": null,
   "metadata": {},
   "outputs": [],
   "source": [
    "np.where(cq2 > 50)"
   ]
  },
  {
   "cell_type": "code",
   "execution_count": null,
   "metadata": {},
   "outputs": [],
   "source": [
    "np.where((constraints[0] == np.array([4,1])).all(axis=1))"
   ]
  },
  {
   "cell_type": "code",
   "execution_count": null,
   "metadata": {},
   "outputs": [],
   "source": [
    "t_ind = 337"
   ]
  },
  {
   "cell_type": "code",
   "execution_count": null,
   "metadata": {},
   "outputs": [],
   "source": [
    "plot_values(mdp, q_vals)"
   ]
  },
  {
   "cell_type": "code",
   "execution_count": null,
   "metadata": {},
   "outputs": [],
   "source": [
    "Qs = tabsoftq_learn_Qs(mdp)"
   ]
  },
  {
   "cell_type": "code",
   "execution_count": null,
   "metadata": {},
   "outputs": [],
   "source": [
    "plot_values(mdp, Qs)"
   ]
  },
  {
   "cell_type": "code",
   "execution_count": null,
   "metadata": {},
   "outputs": [],
   "source": [
    "q_vals - Qs"
   ]
  },
  {
   "cell_type": "code",
   "execution_count": null,
   "metadata": {},
   "outputs": [],
   "source": [
    "test_constraint_adt_pred_probs =  tf.placeholder(tf.float32, [None, n_dirs], name=\"tpp\")\n",
    "test_constraint_q_t_ph = tf.placeholder(tf.float32, [None], name=\"tcq\")\n",
    "test_constraint_q_tp1_ph = tf.placeholder(tf.float32, [None, n_dirs, n_act_dim], name=\"tcqp1\")\n",
    "test_constraint_v_tp1 = tf.reduce_logsumexp(test_constraint_q_tp1_ph, axis=2) #- np.log(5) \n",
    "test_adt_V = tf.multiply(test_constraint_v_tp1, test_constraint_adt_pred_probs)\n",
    "test_adt_target = constraint_rew_t_ph + gamma * tf.reduce_sum(test_adt_V, axis=1)\n",
    "indiv_errs = test_constraint_q_t_ph - test_adt_target\n",
    "test_adt_td_err = tf.reduce_mean((test_constraint_q_t_ph - test_adt_target)**2)"
   ]
  },
  {
   "cell_type": "code",
   "execution_count": null,
   "metadata": {},
   "outputs": [],
   "source": [
    "sa = np.transpose([np.tile(np.arange(mdp.nS), mdp.nA), np.repeat(np.arange(mdp.nA), mdp.nS)])\n",
    "states, acts = sa[:,0], sa[:,1]\n",
    "\n",
    "next_states = [[mdp.sd_to_sprime(s,d) for d in range(mdp.nD)] for s in states]\n",
    "currQs = Qs[states,acts]\n",
    "nextQs = Qs[next_states]\n",
    "\n",
    "pred_probs = true_tps[acts,:,constraints[4].flatten()]\n",
    "\n",
    "test_err, learned_err, targets = sess.run([test_adt_td_err, adt_td_err_sg, test_adt_target], feed_dict= {constraint_obs_t_feats_ph: constraints[0],\n",
    "                                    constraint_act_t_ph: constraints[1],\n",
    "                                    constraint_rew_t_ph: constraints[2],\n",
    "                                    constraint_next_obs_t_feats_ph: constraints[3],\n",
    "                                    constraint_tile_t_ph: constraints[4],\n",
    "                                    constraint_batch_size_ph: constraints[0].shape[0],\n",
    "                                    test_constraint_q_t_ph: currQs,\n",
    "                                    test_constraint_q_tp1_ph: nextQs,\n",
    "                                    test_constraint_adt_pred_probs: pred_probs})\n",
    "print(test_err, learned_err)"
   ]
  },
  {
   "cell_type": "code",
   "execution_count": null,
   "metadata": {},
   "outputs": [],
   "source": [
    "q_net_path = os.path.join(data_dir, 'true_q_8192.tf')\n",
    "save_tf_vars(sess, q_scope, q_net_path)\n",
    "# load_tf_vars(sess, invdyn_scope, invdyn_nr_path)"
   ]
  },
  {
   "cell_type": "markdown",
   "metadata": {},
   "source": [
    "## IDL Only"
   ]
  },
  {
   "cell_type": "code",
   "execution_count": null,
   "metadata": {},
   "outputs": [],
   "source": [
    "idl_train_logs = {\n",
    "  'train_likelihoods': [],\n",
    "  'val_likelihoods': [],\n",
    "  'tp_lls': [],\n",
    "  'tt_lls': [],\n",
    "  'vp_lls': [],\n",
    "  'vt_lls': [],\n",
    "  'true_trans_loss': []\n",
    "}"
   ]
  },
  {
   "cell_type": "code",
   "execution_count": null,
   "metadata": {},
   "outputs": [],
   "source": [
    "maxiter = 300\n"
   ]
  },
  {
   "cell_type": "code",
   "execution_count": null,
   "metadata": {},
   "outputs": [],
   "source": [
    "Ti_thetas = T_estimate(adt_obs[train_demo_example_idxes])\n",
    "Qi, Ri = None, mdp.rewards"
   ]
  },
  {
   "cell_type": "code",
   "execution_count": null,
   "metadata": {
    "scrolled": true
   },
   "outputs": [],
   "source": [
    "while len(idl_train_logs['tt_lls']) < maxiter:\n",
    "    batch_demo_sas, batch_demo_adt = sample_batch(batch_size, train_demo_example_idxes, sas_obs, adt_obs)\n",
    "    #Should we initialize Qs or nah?\n",
    "    tp_ll, dT_pol, Qi = eval_T_pol_likelihood_and_grad(Ti_thetas, Ri, batch_demo_sas, Q_inits=Qi)\n",
    "    tt_ll, dT_trans = eval_trans_likelihood_and_grad(Ti_thetas, batch_demo_adt)\n",
    "    train_likelihood = tp_ll + tt_ll\n",
    "    vp_ll, vt_ll = eval_demo_log_likelihood(val_sas_obs, val_adt_obs, Ti_thetas, Qi)\n",
    "    val_likelihood = vp_ll + vt_ll\n",
    "    ttd = true_trans_loss(softmax(Ti_thetas))\n",
    "    Ti_thetas += learning_rate * (dT_trans + dT_pol)\n",
    "    \n",
    "    print('%d %f %f %f %f' % (len(idl_train_logs['tt_lls']), vp_ll, vt_ll, vp_ll + vt_ll, ttd))\n",
    "    idl_train_logs['train_likelihoods'].append(train_likelihood)\n",
    "    idl_train_logs['val_likelihoods'].append(val_likelihood)\n",
    "    idl_train_logs['tp_lls'].append(tp_ll)\n",
    "    idl_train_logs['tt_lls'].append(tt_ll)\n",
    "    idl_train_logs['vp_lls'].append(vp_ll)\n",
    "    idl_train_logs['vt_lls'].append(vt_ll)\n",
    "    idl_train_logs['true_trans_loss'].append(ttd)"
   ]
  },
  {
   "cell_type": "code",
   "execution_count": null,
   "metadata": {},
   "outputs": [],
   "source": [
    "plt.plot(idl_train_logs['vp_lls'])"
   ]
  },
  {
   "cell_type": "code",
   "execution_count": null,
   "metadata": {},
   "outputs": [],
   "source": [
    "plt.plot(idl_train_logs['vt_lls'])"
   ]
  },
  {
   "cell_type": "code",
   "execution_count": null,
   "metadata": {},
   "outputs": [],
   "source": [
    "plt.plot(idl_train_logs['val_likelihoods'])"
   ]
  },
  {
   "cell_type": "code",
   "execution_count": null,
   "metadata": {
    "scrolled": true
   },
   "outputs": [],
   "source": [
    "print(Qi[[s for s in range(nS) if mdp.get_tile_type(s)==1]])"
   ]
  },
  {
   "cell_type": "code",
   "execution_count": null,
   "metadata": {},
   "outputs": [],
   "source": [
    "plot_mars(mdp,tabsoftq_gen_pol(Qi))\n",
    "print(softmax(Ti_thetas))"
   ]
  },
  {
   "cell_type": "code",
   "execution_count": null,
   "metadata": {},
   "outputs": [],
   "source": [
    "tabsoftq_gen_pol_probs(Qi)[:,4]"
   ]
  },
  {
   "cell_type": "code",
   "execution_count": null,
   "metadata": {
    "scrolled": true
   },
   "outputs": [],
   "source": [
    "print(softmax(Ti_thetas)) # - softmax(T_estimate(adt_obs[train_demo_example_idxes])))"
   ]
  },
  {
   "cell_type": "code",
   "execution_count": null,
   "metadata": {},
   "outputs": [],
   "source": []
  },
  {
   "cell_type": "code",
   "execution_count": null,
   "metadata": {},
   "outputs": [],
   "source": [
    "test_T_likelihood(softmax(Ti_thetas), val_sas_obs, val_adt_obs)"
   ]
  },
  {
   "cell_type": "code",
   "execution_count": null,
   "metadata": {},
   "outputs": [],
   "source": [
    "test_T_likelihood(softmax(T_estimate(adt_obs[train_demo_example_idxes])), val_sas_obs, val_adt_obs)"
   ]
  },
  {
   "cell_type": "code",
   "execution_count": null,
   "metadata": {},
   "outputs": [],
   "source": [
    "test_T_likelihood(true_tps, val_sas_obs, val_adt_obs)"
   ]
  },
  {
   "cell_type": "code",
   "execution_count": null,
   "metadata": {},
   "outputs": [],
   "source": [
    "true_trans_loss(softmax(Ti_thetas))"
   ]
  },
  {
   "cell_type": "code",
   "execution_count": null,
   "metadata": {},
   "outputs": [],
   "source": [
    "softmax(Ti_thetas)"
   ]
  },
  {
   "cell_type": "code",
   "execution_count": null,
   "metadata": {},
   "outputs": [],
   "source": [
    "true_trans_loss(softmax(T_estimate(adt_obs[train_demo_example_idxes])))"
   ]
  },
  {
   "cell_type": "code",
   "execution_count": null,
   "metadata": {},
   "outputs": [],
   "source": [
    "softmax(T_estimate(adt_obs[train_demo_example_idxes]))"
   ]
  },
  {
   "cell_type": "code",
   "execution_count": null,
   "metadata": {},
   "outputs": [],
   "source": [
    "plot_values(mdp, Qi)"
   ]
  },
  {
   "cell_type": "code",
   "execution_count": null,
   "metadata": {},
   "outputs": [],
   "source": [
    "plot_values(mdp, exQs)"
   ]
  },
  {
   "cell_type": "markdown",
   "metadata": {},
   "source": [
    "## SERD only"
   ]
  },
  {
   "cell_type": "code",
   "execution_count": null,
   "metadata": {},
   "outputs": [],
   "source": [
    "serd_train_logs = {\n",
    "  'train_likelihoods': [],\n",
    "  'val_likelihoods': [],\n",
    "  'tp_lls': [],\n",
    "  'tt_lls': [],\n",
    "  'vp_lls': [],\n",
    "  'vt_lls': [],\n",
    "  'true_trans_loss': []\n",
    "}"
   ]
  },
  {
   "cell_type": "code",
   "execution_count": null,
   "metadata": {},
   "outputs": [],
   "source": [
    "Ts_thetas = T_estimate(adt_obs[train_demo_example_idxes]) #np.log(Tps2+.000000001)\n",
    "feats = mdp.feature_map\n",
    "Rs_thetas = np.random.normal(loc=1,scale=0.1,size=feats.shape[1])\n",
    "Qs = None"
   ]
  },
  {
   "cell_type": "code",
   "execution_count": null,
   "metadata": {},
   "outputs": [],
   "source": [
    "maxiter = 300\n",
    "t_learning_rate = lambda t: 0 if t<20 else 3 - (2 * int(t/(maxiter/2)))\n",
    "r_learning_rate = lambda t: 2e-1 if t<20 else 1e-1"
   ]
  },
  {
   "cell_type": "code",
   "execution_count": null,
   "metadata": {
    "scrolled": true
   },
   "outputs": [],
   "source": [
    "while len(serd_train_logs['tt_lls']) < maxiter:\n",
    "    prevQs = Qs.copy() if Qs is not None else None\n",
    "    t = len(serd_train_logs['tt_lls'])\n",
    "    batch_demo_sas, batch_demo_adt = sample_batch(batch_size, train_demo_example_idxes, sas_obs, adt_obs)\n",
    "    Rs = feats.dot(Rs_thetas)\n",
    "    tp_ll, dT_pol, dR_pol, Qs = eval_TR_pol_likelihood_and_grad(Ts_thetas, Rs, feats, batch_demo_sas, Q_inits=Qs)\n",
    "    tt_ll, dT_trans = eval_trans_likelihood_and_grad(Ts_thetas, batch_demo_adt)\n",
    "    train_likelihood = tp_ll + tt_ll\n",
    "    vp_ll, vt_ll = eval_demo_log_likelihood(val_sas_obs, val_adt_obs, Ts_thetas, Qs)\n",
    "    val_likelihood = vp_ll + vt_ll\n",
    "    ttd = true_trans_loss(softmax(Ts_thetas))\n",
    "    Rs_thetas += r_learning_rate(t) * dR_pol\n",
    "    Ts_thetas += t_learning_rate(t) * (dT_trans + dT_pol)\n",
    "\n",
    "#     print(dT_trans)\n",
    "#     print(dT_pol)\n",
    "#     print(softmax(Ts_thetas))\n",
    "#     print(dR_pol * r_learning_rate(t))\n",
    "#     print(Rs_thetas)\n",
    "#     if prevQs is not None:\n",
    "#         print(\"Q_diff\")\n",
    "#         print(np.linalg.norm(Qs-prevQs))\n",
    "\n",
    "    \n",
    "    print('%d %f %f %f %f' % (t, vp_ll, vt_ll, vp_ll + vt_ll, ttd))\n",
    "    serd_train_logs['train_likelihoods'].append(train_likelihood)\n",
    "    serd_train_logs['val_likelihoods'].append(val_likelihood)\n",
    "    serd_train_logs['tp_lls'].append(tp_ll)\n",
    "    serd_train_logs['tt_lls'].append(tt_ll)\n",
    "    serd_train_logs['vp_lls'].append(vp_ll)\n",
    "    serd_train_logs['vt_lls'].append(vt_ll)\n",
    "    serd_train_logs['true_trans_loss'].append(ttd)"
   ]
  },
  {
   "cell_type": "code",
   "execution_count": null,
   "metadata": {},
   "outputs": [],
   "source": [
    "print(softmax(Ts_thetas))"
   ]
  },
  {
   "cell_type": "code",
   "execution_count": null,
   "metadata": {},
   "outputs": [],
   "source": [
    "print(Rs_thetas)"
   ]
  },
  {
   "cell_type": "code",
   "execution_count": null,
   "metadata": {},
   "outputs": [],
   "source": [
    "true_trans_loss(softmax(Ts_thetas))"
   ]
  },
  {
   "cell_type": "code",
   "execution_count": null,
   "metadata": {},
   "outputs": [],
   "source": [
    "plt.plot(serd_train_logs['vp_lls'][:250])\n",
    "plt.plot(idl_train_logs['vp_lls'][:250])"
   ]
  },
  {
   "cell_type": "code",
   "execution_count": null,
   "metadata": {},
   "outputs": [],
   "source": [
    "plt.plot(serd_train_logs['vt_lls'][:250])\n",
    "plt.plot(idl_train_logs['vt_lls'][:250])"
   ]
  },
  {
   "cell_type": "code",
   "execution_count": null,
   "metadata": {},
   "outputs": [],
   "source": [
    "plt.plot(serd_train_logs['val_likelihoods'], label = \"SERD\")\n",
    "plt.plot(idl_train_logs['val_likelihoods'], label = \"IDL\")\n",
    "plt.title(\"Log likelihood of Demonstrations\")\n",
    "plt.xlabel(\"Iterations of MDCE\")\n",
    "plt.ylabel(\"Log Likelihood\")\n",
    "plt.legend()"
   ]
  },
  {
   "cell_type": "code",
   "execution_count": null,
   "metadata": {},
   "outputs": [],
   "source": [
    "plt.plot(serd_train_logs['true_trans_loss'], label = \"SERD\")\n",
    "plt.plot(idl_train_logs['true_trans_loss'], label = \"IDL\")\n",
    "plt.title(\"Square Error of Learned Transition Parameters\")\n",
    "plt.xlabel(\"Iterations of MDCE\")\n",
    "plt.ylabel(\"Summed Square Error\")\n",
    "plt.legend()"
   ]
  },
  {
   "cell_type": "markdown",
   "metadata": {},
   "source": [
    "## Comparison Tests"
   ]
  },
  {
   "cell_type": "code",
   "execution_count": null,
   "metadata": {},
   "outputs": [],
   "source": [
    "def demo_stats(mdp, demos):\n",
    "    demo_rewards = []\n",
    "    for i in range(len(demos)):\n",
    "        demo_rewards += [np.array([mdp.rewards[obs[0][2]] for obs in demos[i]])]\n",
    "#         for j in range(len(demo_rewards[i])):\n",
    "#             print(demos[i][j][0], demo_rewards[i][j])\n",
    "    \n",
    "    discounted_demo_rewards = [np.power(gamma,np.arange(len(dr)))*dr for dr in demo_rewards]\n",
    "    demo_rewards, discounted_demo_rewards = np.array(demo_rewards), np.array(discounted_demo_rewards)\n",
    "    data = {\"mean episode reward\": np.mean(np.sum(demo_rewards, axis=1)),\n",
    "            \"sd episode reward\": np.std(np.sum(demo_rewards, axis=1)),\n",
    "            \"mean discounted episode reward\": np.mean(np.sum(discounted_demo_rewards, axis=1)),\n",
    "            \"sd discounted episode reward\": np.std(np.sum(discounted_demo_rewards, axis=1))}\n",
    "    return data\n",
    "    \n",
    "    "
   ]
  },
  {
   "cell_type": "code",
   "execution_count": null,
   "metadata": {},
   "outputs": [],
   "source": [
    "SERD_demos = generate_demonstrations(mdp, tabsoftq_gen_pol(Qs), 2000, demo_time_steps)\n",
    "IDL_demos = generate_demonstrations(mdp, tabsoftq_gen_pol(Qi), 2000, demo_time_steps)"
   ]
  },
  {
   "cell_type": "code",
   "execution_count": null,
   "metadata": {},
   "outputs": [],
   "source": [
    "print(demo_stats(mdp, SERD_demos))"
   ]
  },
  {
   "cell_type": "code",
   "execution_count": null,
   "metadata": {},
   "outputs": [],
   "source": [
    "print(demo_stats(mdp, IDL_demos))"
   ]
  },
  {
   "cell_type": "code",
   "execution_count": null,
   "metadata": {},
   "outputs": [],
   "source": [
    "plot_values(mdp, Qs)"
   ]
  },
  {
   "cell_type": "code",
   "execution_count": null,
   "metadata": {},
   "outputs": [],
   "source": [
    "plot_values(mdp, Qi)"
   ]
  },
  {
   "cell_type": "code",
   "execution_count": null,
   "metadata": {},
   "outputs": [],
   "source": [
    "print(reward_map[5][0], Qi[2], Q[2])"
   ]
  },
  {
   "cell_type": "markdown",
   "metadata": {},
   "source": [
    "### Transfer"
   ]
  },
  {
   "cell_type": "code",
   "execution_count": null,
   "metadata": {},
   "outputs": [],
   "source": [
    "tile_map2 = [\n",
    "        \"2FFFFFFF1\",\n",
    "        \"FFFFFFFFF\",\n",
    "        \"FFFFUFFFF\",\n",
    "        \"FFFUUUFSF\",\n",
    "        \"FFUU3UUFF\",\n",
    "        \"FSFUUUFSF\",\n",
    "        \"FSFFUFFSF\",\n",
    "        \"FFFSSSFFF\",\n",
    "        \"1FFFFFFF2\"\n",
    "    ]\n",
    "reward_map2, texture_map2 = build_reward_map(tile_map2, tile_rewards, goal_tile_rewards, tile_reward_modifier)\n",
    "# reward_normalizer2 = (1-gamma)/(np.max(reward_map2))\n",
    "# reward_map2 *= reward_normalizer2\n",
    "# time_penalty *= reward_normalizer2\n",
    "# temperature2 = 1/(reward_normalizer2)\n",
    "# print(temperature2)\n",
    "print(reward_map2)\n",
    "print(texture_map2)"
   ]
  },
  {
   "cell_type": "code",
   "execution_count": null,
   "metadata": {},
   "outputs": [],
   "source": [
    "mdp = MarsExplorerEnv(tile_map2, reward_map2, texture_map2, trans_dict, time_penalty) \n",
    "nA = mdp.nA\n",
    "nS = mdp.nS"
   ]
  },
  {
   "cell_type": "code",
   "execution_count": null,
   "metadata": {},
   "outputs": [],
   "source": [
    "\n",
    "Tips = softmax(Ti_thetas,axis=1)\n",
    "Ti = mdp.adt_trans_to_sas_trans(Tips)\n",
    "Ri = mdp.rewards\n",
    "Qit = tabsoftq_iter(Ri, Ti, maxiter=tabsoftq_iter_maxiter, verbose=tabsoftq_iter_verbose, ftol=tabsoftq_iter_ftol)"
   ]
  },
  {
   "cell_type": "code",
   "execution_count": null,
   "metadata": {},
   "outputs": [],
   "source": [
    "Tips = softmax(Ti_thetas,axis=1)\n",
    "Ti = mdp.adt_trans_to_sas_trans(Tips)\n",
    "Ri = mdp.rewards\n",
    "Qit = tabsoftq_iter(Ri, Ti, maxiter=tabsoftq_iter_maxiter, verbose=tabsoftq_iter_verbose, ftol=tabsoftq_iter_ftol)"
   ]
  },
  {
   "cell_type": "code",
   "execution_count": null,
   "metadata": {},
   "outputs": [],
   "source": [
    "Tsps = softmax(Ts_thetas,axis=1)\n",
    "Ts = mdp.adt_trans_to_sas_trans(Tips)\n",
    "Rs = mdp.feature_map.dot(Rs_thetas)\n",
    "Qst = tabsoftq_iter(Rs, Ts, maxiter=tabsoftq_iter_maxiter, verbose=tabsoftq_iter_verbose, ftol=tabsoftq_iter_ftol)"
   ]
  },
  {
   "cell_type": "code",
   "execution_count": null,
   "metadata": {},
   "outputs": [],
   "source": [
    "IDL_trans_demos = generate_demonstrations(mdp, tabsoftq_gen_pol(Qit), 1000, demo_time_steps)\n",
    "SERD_trans_demos = generate_demonstrations(mdp, tabsoftq_gen_pol(Qst), 1000, demo_time_steps)"
   ]
  },
  {
   "cell_type": "code",
   "execution_count": null,
   "metadata": {},
   "outputs": [],
   "source": [
    "plot_mars(mdp,tabsoftq_gen_pol(Qit),Qs=Qit)"
   ]
  },
  {
   "cell_type": "code",
   "execution_count": null,
   "metadata": {},
   "outputs": [],
   "source": [
    "print(demo_stats(mdp, IDL_trans_demos))"
   ]
  },
  {
   "cell_type": "code",
   "execution_count": null,
   "metadata": {},
   "outputs": [],
   "source": [
    "print(demo_stats(mdp, SERD_trans_demos))"
   ]
  },
  {
   "cell_type": "code",
   "execution_count": null,
   "metadata": {},
   "outputs": [],
   "source": [
    "plot_values(mdp, Qit)"
   ]
  },
  {
   "cell_type": "code",
   "execution_count": null,
   "metadata": {},
   "outputs": [],
   "source": [
    "plot_values(mdp, Qst)"
   ]
  },
  {
   "cell_type": "code",
   "execution_count": null,
   "metadata": {},
   "outputs": [],
   "source": [
    "Qtrue = tabsoftq_learn_Qs(mdp)\n",
    "plot_values(mdp,Qtrue)"
   ]
  },
  {
   "cell_type": "code",
   "execution_count": null,
   "metadata": {},
   "outputs": [],
   "source": []
  },
  {
   "cell_type": "code",
   "execution_count": null,
   "metadata": {},
   "outputs": [],
   "source": [
    "mdp.get_possible_sprimes(np.array([[0,0],[0,1]]))"
   ]
  },
  {
   "cell_type": "code",
   "execution_count": null,
   "metadata": {},
   "outputs": [],
   "source": [
    "i = 15\n",
    "mdp.get_direction_moved(nn_rollouts[0][i][0],nn_rollouts[0][i+1][0])"
   ]
  },
  {
   "cell_type": "code",
   "execution_count": null,
   "metadata": {},
   "outputs": [],
   "source": [
    "nn_rollouts[0][i], nn_rollouts[0][i+1]"
   ]
  },
  {
   "cell_type": "code",
   "execution_count": null,
   "metadata": {},
   "outputs": [],
   "source": [
    "nn_rollouts[0][:30]"
   ]
  },
  {
   "cell_type": "code",
   "execution_count": null,
   "metadata": {},
   "outputs": [],
   "source": []
  }
 ],
 "metadata": {
  "kernelspec": {
   "display_name": "Python 3",
   "language": "python",
   "name": "python3"
  },
  "language_info": {
   "codemirror_mode": {
    "name": "ipython",
    "version": 3
   },
   "file_extension": ".py",
   "mimetype": "text/x-python",
   "name": "python",
   "nbconvert_exporter": "python",
   "pygments_lexer": "ipython3",
   "version": "3.6.5"
  }
 },
 "nbformat": 4,
 "nbformat_minor": 2
}
