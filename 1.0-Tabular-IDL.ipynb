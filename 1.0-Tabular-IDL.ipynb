{
 "cells": [
  {
   "cell_type": "code",
   "execution_count": 1,
   "metadata": {},
   "outputs": [],
   "source": [
    "# Covers tabular implementations of SERD and IDL and compares their effectivenes"
   ]
  },
  {
   "cell_type": "code",
   "execution_count": 2,
   "metadata": {},
   "outputs": [],
   "source": [
    "import numpy as np\n",
    "from envs import MarsExplorerEnv\n",
    "import matplotlib.pyplot as plt\n",
    "import time\n",
    "import matplotlib.cm as cm\n",
    "import matplotlib.colors as colors\n",
    "import os\n",
    "import seaborn as sns\n",
    "from matplotlib.offsetbox import AnnotationBbox, OffsetImage\n",
    "from matplotlib._png import read_png\n",
    "import pickle as pkl\n",
    "%matplotlib inline\n",
    "\n",
    "import gym\n",
    "from gym import spaces\n",
    "from gym.envs.classic_control import rendering\n",
    "import tensorflow as tf\n",
    "from scipy.special import logsumexp\n",
    "from copy import deepcopy as copy\n",
    "import random\n",
    "np.set_printoptions(precision=8, suppress=True,threshold=np.nan)"
   ]
  },
  {
   "cell_type": "code",
   "execution_count": 3,
   "metadata": {},
   "outputs": [],
   "source": [
    "# %store -r"
   ]
  },
  {
   "cell_type": "code",
   "execution_count": 4,
   "metadata": {},
   "outputs": [],
   "source": [
    "#%store"
   ]
  },
  {
   "cell_type": "code",
   "execution_count": 5,
   "metadata": {},
   "outputs": [],
   "source": [
    "LEFT = 0\n",
    "DOWN = 1\n",
    "RIGHT = 2\n",
    "UP = 3\n",
    "NOOP = 4\n",
    "\n",
    "cdict = {'red':   ((0.0,  0.173, 0.173),\n",
    "                   (1.0,  0.925, 0.925)),\n",
    "\n",
    "         'green': ((0.0,  0.067, 0.067),\n",
    "                   (1.0, 0.384, 0.384)),\n",
    "\n",
    "         'blue':  ((0.0,  0.027, 0.027),\n",
    "                   (1.0,  0.196, 0.196))}\n",
    "plt.register_cmap(name='RustPlanet', data=cdict)\n",
    "REWARD_COLORS = cm.get_cmap('RustPlanet')\n",
    "AGENT_COLORS = cm.get_cmap('gray')\n",
    "MAP_COLORS = {b'B':\"#3a0e00\",\n",
    "              b'F':\"#933111\",\n",
    "              b'S':\"#933111\",\n",
    "              b'U':\"#d65b33\",\n",
    "              b'1':\"#956F52\",\n",
    "              b'2':\"#3C2F34\",\n",
    "              b'3':\"#644C42\"}\n",
    "\n",
    "ROVER_PNGS = {LEFT:\"resources/rover_left.png\",\n",
    "        RIGHT:\"resources/rover_right.png\",\n",
    "        DOWN:\"resources/rover_down.png\",\n",
    "        UP:\"resources/rover_up.png\",\n",
    "        NOOP:\"resources/rover_sample.png\"}\n",
    "\n",
    "# tile_map = [\n",
    "#         \"F3FFUFU2U\",\n",
    "#         \"FUFUSUFUF\",\n",
    "#         \"FFFUSUFFU\",\n",
    "#         \"USUUUUUSU\",\n",
    "#         \"FFUSSSUFF\",\n",
    "#         \"FSFUSUFSF\",\n",
    "#         \"UUUUUUUFU\",\n",
    "#         \"UFFU1UFUU\",\n",
    "#         \"3UUFUFFU1\"\n",
    "#     ]\n",
    "\n",
    "tile_map = [\n",
    "        \"F22222FF1\",\n",
    "        \"U31122FU1\",\n",
    "        \"UF1112FU1\",\n",
    "        \"UFUU1SFU1\",\n",
    "        \"UFFU1FFU3\",\n",
    "        \"3222UFS1U\",\n",
    "        \"UUU22F1FU\",\n",
    "        \"FSSFS12SF\",\n",
    "        \"FSFF121FF\",\n",
    "        \"S1S2SFFSF\",\n",
    "        \"FUUUFFSFU\",\n",
    "        \"U3UUUFSFU\",\n",
    "        \"FFFUUFUUU\"\n",
    "    ]\n",
    "\n",
    "# tile_map = [\n",
    "#         \"3FFFFFFF1\",\n",
    "#         \"FFFFFFFFF\",\n",
    "#         \"FFFFUFFFF\",\n",
    "#         \"FSFUUUFSF\",\n",
    "#         \"FSUU3UUSF\",\n",
    "#         \"FSFUUUFSF\",\n",
    "#         \"FFFFUFFFF\",\n",
    "#         \"FFFSSSFFF\",\n",
    "#         \"1FFFFFFF2\"\n",
    "#     ]\n",
    "\n",
    "tile_rewards = {'F':0.05,\n",
    "              '1':0.1,\n",
    "              '2':0.1,\n",
    "              '3':0.1,\n",
    "              'S':0.01,\n",
    "              'U':0.0}\n",
    "\n",
    "\n",
    "goal_tile_rewards = {'F':0.0,\n",
    "              '1':1.0,\n",
    "              '2':2.0,\n",
    "              '3':4.0,\n",
    "              'S':0.0,\n",
    "              'U':0.0}\n",
    "\n",
    "tile_reward_modifier = lambda r,x,y,mx,my: r * 0.1 * ((x-(mx/2 + np.random.normal(scale=0.5)))**2 + (y - (mx/2 + np.random.normal(scale=0.5)))**2)\n",
    "\n",
    "def build_reward_map(tile_map, tile_rewards, goal_tile_rewards, tile_reward_modifier):\n",
    "    reward_map = np.zeros((len(tile_map),len(tile_map[0])))\n",
    "    texture_map = np.zeros((len(tile_map),len(tile_map[0])))\n",
    "    for y,row in enumerate(tile_map):\n",
    "        for x,c in enumerate(row):\n",
    "            reward_map[y,x] = texture_map[y,x] = tile_reward_modifier(tile_rewards[c],x,y,len(tile_map[0]),len(tile_map))\n",
    "            reward_map[y,x] +=  goal_tile_rewards[c]\n",
    "    return reward_map, texture_map\n",
    "\n",
    "reward_map, texture_map = build_reward_map(tile_map, tile_rewards, goal_tile_rewards, tile_reward_modifier)\n",
    "\n",
    "\n",
    "t0 = (0.8,0.1,0.0,0.0)\n",
    "t1 = (0.0,0.0,0.0,1.0)  #(0.1,0.15,0.5,0.1)\n",
    "\n",
    "trans_dict = {b'F':t0,\n",
    "              b'1':t0,\n",
    "              b'2':t0,\n",
    "              b'3':t0,\n",
    "              b'S':t0,\n",
    "              b'U':t1}\n",
    "\n",
    "#TODO implement theta_mat in mars_explorer so do not need to hard code, use np.roll\n",
    "true_tps = np.array([[[0.8, 0.],\n",
    "  [0.1, 0.],\n",
    "  [0.0, 0.],\n",
    "  [0.1, 0.],\n",
    "  [0.0, 1.]],\n",
    "\n",
    " [[0.1, 0.],\n",
    "  [0.8, 0.],\n",
    "  [0.1, 0.],\n",
    "  [0.0, 0.],\n",
    "  [0.0, 1.]],\n",
    "\n",
    " [[0.0, 0.],\n",
    "  [0.1, 0.],\n",
    "  [0.8, 0.],\n",
    "  [0.1, 0.],\n",
    "  [0.0, 1.]],\n",
    "\n",
    " [[0.1, 0.],\n",
    "  [0.0, 0.],\n",
    "  [0.1, 0.],\n",
    "  [0.8, 0.],\n",
    "  [0.0, 1.]],\n",
    "\n",
    " [[0., 0.],\n",
    "  [0., 0.],\n",
    "  [0., 0.],\n",
    "  [0., 0.],\n",
    "  [1., 1.]]])\n",
    "\n",
    "gamma = 0.98\n",
    "\n",
    "alpha = 0.0001\n",
    "\n",
    "T_theta_shape = (5,5,2)\n",
    "\n",
    "time_penalty = 0.0\n"
   ]
  },
  {
   "cell_type": "code",
   "execution_count": 6,
   "metadata": {},
   "outputs": [],
   "source": [
    "# reward_normalizer = (1-gamma)/(np.max(reward_map))\n",
    "# reward_map *= reward_normalizer\n",
    "# time_penalty *= reward_normalizer"
   ]
  },
  {
   "cell_type": "code",
   "execution_count": 7,
   "metadata": {},
   "outputs": [],
   "source": [
    "# temperature = 1/(reward_normalizer)\n",
    "# print(temperature)"
   ]
  },
  {
   "cell_type": "code",
   "execution_count": 8,
   "metadata": {},
   "outputs": [
    {
     "data": {
      "text/plain": [
       "<matplotlib.image.AxesImage at 0x12db4b5c0>"
      ]
     },
     "execution_count": 8,
     "metadata": {},
     "output_type": "execute_result"
    },
    {
     "data": {
      "image/png": "[encoded data removed]",
      "text/plain": [
       "<Figure size 432x288 with 1 Axes>"
      ]
     },
     "metadata": {},
     "output_type": "display_data"
    }
   ],
   "source": [
    "plt.imshow(reward_map, cmap=\"Blues\")"
   ]
  },
  {
   "cell_type": "code",
   "execution_count": 9,
   "metadata": {},
   "outputs": [
    {
     "data": {
      "text/plain": [
       "<matplotlib.image.AxesImage at 0x12dc57438>"
      ]
     },
     "execution_count": 9,
     "metadata": {},
     "output_type": "execute_result"
    },
    {
     "data": {
      "image/png": "[encoded data removed]",
      "text/plain": [
       "<Figure size 432x288 with 1 Axes>"
      ]
     },
     "metadata": {},
     "output_type": "display_data"
    }
   ],
   "source": [
    "plt.imshow(texture_map, cmap=\"Blues\")"
   ]
  },
  {
   "cell_type": "code",
   "execution_count": 10,
   "metadata": {},
   "outputs": [
    {
     "data": {
      "text/plain": [
       "<matplotlib.image.AxesImage at 0x12dcf0048>"
      ]
     },
     "execution_count": 10,
     "metadata": {},
     "output_type": "execute_result"
    },
    {
     "data": {
      "image/png": "[encoded data removed]",
      "text/plain": [
       "<Figure size 432x288 with 1 Axes>"
      ]
     },
     "metadata": {},
     "output_type": "display_data"
    }
   ],
   "source": [
    "plt.imshow(reward_map - texture_map, cmap=\"Blues\")"
   ]
  },
  {
   "cell_type": "code",
   "execution_count": 11,
   "metadata": {},
   "outputs": [],
   "source": [
    "mdp = MarsExplorerEnv(tile_map, reward_map, texture_map, trans_dict, time_penalty) \n",
    "nA = mdp.num_actions\n",
    "nS = mdp.num_states"
   ]
  },
  {
   "cell_type": "code",
   "execution_count": 12,
   "metadata": {},
   "outputs": [
    {
     "data": {
      "text/plain": [
       "<matplotlib.image.AxesImage at 0x12df16630>"
      ]
     },
     "execution_count": 12,
     "metadata": {},
     "output_type": "execute_result"
    },
    {
     "data": {
      "image/png": "[encoded data removed]",
      "text/plain": [
       "<Figure size 432x288 with 1 Axes>"
      ]
     },
     "metadata": {},
     "output_type": "display_data"
    }
   ],
   "source": [
    "binary_map = np.ones(mdp.tile_map.shape)\n",
    "binary_map[np.where(mdp.tile_map == b'S')] = 255.0\n",
    "plt.imshow(binary_map, cmap=\"Blues\")"
   ]
  },
  {
   "cell_type": "code",
   "execution_count": 13,
   "metadata": {},
   "outputs": [],
   "source": [
    "def plot_mars(mdp, pi, term = 40, title=None, counts = None, Qs = None):\n",
    "    background = np.array([colors.to_rgb(MAP_COLORS[l]) for l in mdp.tile_map.flat]).reshape(mdp.nrow, mdp.ncol,3)\n",
    "    s = mdp._reset()\n",
    "    t, r = 0, 0\n",
    "    while s is not None and t < term:\n",
    "        fig = plt.figure(figsize=(4,4))\n",
    "        if title != None:\n",
    "            plt.title(title)\n",
    "        plt.imshow(background)\n",
    "        plt.axes().get_xaxis().set_visible(False)\n",
    "        plt.axes().get_yaxis().set_visible(False)\n",
    "        ax = plt.gca()\n",
    "        a = pi[s] if type(pi) == np.ndarray else pi(s)\n",
    "        img_path = ROVER_PNGS[a]\n",
    "        arr_hand = read_png(img_path)\n",
    "        imagebox = OffsetImage(arr_hand, zoom=.5)\n",
    "        xy = [s%background.shape[1], s//background.shape[1]]  # coordinates to position this image\n",
    "\n",
    "        ab = AnnotationBbox(imagebox, xy,\n",
    "                            xybox=(0, 0),\n",
    "                            xycoords='data',\n",
    "                            boxcoords=\"offset points\",\n",
    "                            frameon=False)\n",
    "        ax.add_artist(ab)\n",
    "        fig.text(0.13, 0.05, 't: {}      r: {}'.format(t,round(r,4)), ha='left', fontsize=10)\n",
    "        sns.despine(bottom=True,left=True,right=True,top=True)\n",
    "        plt.show()\n",
    "        if Qs is not None:\n",
    "            print(Qs[s])\n",
    "            print(a)\n",
    "            print(softmax(Qs[s]))\n",
    "        print(mdp.s_to_grid(s), mdp.tile_map.flatten()[s])\n",
    "        s, rt, _, d = mdp._step(a)\n",
    "        print(mdp.s_to_grid(s), mdp.tile_map.flatten()[s])\n",
    "        t += 1\n",
    "        r += rt\n",
    "    if counts:\n",
    "        fig.text(0.87, 0.05, 'F: {}  L/R: {}  B: {}  S: {}'.format(counts['F'], counts['LR'], counts['B'], counts['S']), ha='right', fontsize=10)\n",
    "    #     plt.savefig(folder+\"/\"+str(t)+\".png\", format='png')\n",
    "    return\n",
    "\n",
    "def plot_mars_history(mdp, hist, title=None, counts = None):\n",
    "    background = np.array([colors.to_rgb(MAP_COLORS[l]) for l in mdp.tile_map.flat]).reshape(mdp.nrow, mdp.ncol,3)\n",
    "    t = 0\n",
    "    for s,a,sprime in [h[0] for h in hist]:\n",
    "        fig = plt.figure(figsize=(4,4))\n",
    "        if title != None:\n",
    "            plt.title(title)\n",
    "        plt.imshow(background)\n",
    "        plt.axes().get_xaxis().set_visible(False)\n",
    "        plt.axes().get_yaxis().set_visible(False)\n",
    "        ax = plt.gca()\n",
    "        img_path = ROVER_PNGS[a]\n",
    "        arr_hand = read_png(img_path)\n",
    "        imagebox = OffsetImage(arr_hand, zoom=.5)\n",
    "        xy = [s%background.shape[1], s//background.shape[1]]  # coordinates to position this image\n",
    "\n",
    "        ab = AnnotationBbox(imagebox, xy,\n",
    "                            xybox=(0, 0),\n",
    "                            xycoords='data',\n",
    "                            boxcoords=\"offset points\",\n",
    "                            frameon=False)\n",
    "        ax.add_artist(ab)\n",
    "        fig.text(0.13, 0.05, 't: {}'.format(t), ha='left', fontsize=10)\n",
    "        sns.despine(bottom=True,left=True,right=True,top=True)\n",
    "        plt.show()\n",
    "        t += 1\n",
    "    if counts:\n",
    "        fig.text(0.87, 0.05, 'F: {}  L/R: {}  B: {}  S: {}'.format(counts['F'], counts['LR'], counts['B'], counts['S']), ha='right', fontsize=10)\n",
    "    #     plt.savefig(folder+\"/\"+str(t)+\".png\", format='png')\n",
    "    return\n",
    "\n",
    "def plot_values(mdp, Qs, s=None, title=None):\n",
    "    V = np.max(Qs, axis=1).reshape((mdp.nrow,mdp.ncol))\n",
    "    pi = np.argmax(Qs, axis=1)\n",
    "    plt.figure(figsize=(8,8))\n",
    "    if title != None:\n",
    "        plt.title(title)\n",
    "    plt.imshow(V, cmap='gray')#, clim=(0,1)) 'gist_ncar'\n",
    "    ax = plt.gca()\n",
    "    ax.set_xticks(np.arange(V.shape[1])-.5)\n",
    "    ax.set_yticks(np.arange(V.shape[0])-.5)\n",
    "    ax.set_xticklabels([])\n",
    "    ax.set_yticklabels([])\n",
    "    Y, X = np.mgrid[0:V.shape[0], 0:V.shape[1]]\n",
    "    a2uv = {0: (-1, 0), 1:(0, -1), 2:(1,0), 3:(0, 1), 4:(-1,-1)}\n",
    "    Pi = pi.reshape(V.shape)\n",
    "    for y in range(V.shape[0]):\n",
    "        for x in range(V.shape[1]):\n",
    "            a = Pi[y, x]\n",
    "            u, v = a2uv[a]\n",
    "            plt.arrow(x, y,u*.3, -v*.3, color='m', head_width=0.2, head_length=0.1) \n",
    "            plt.text(x, y, str(mdp.tile_map[y,x].item().decode()),\n",
    "                     color='c', size=12,  verticalalignment='center',\n",
    "                     horizontalalignment='center', fontweight='bold')\n",
    "    if s != None:\n",
    "        plt.plot(s%V.shape[0], s//V.shape[0], 'ro')\n",
    "#     plt.grid(color='b', lw=2, ls='-')\n",
    "    return"
   ]
  },
  {
   "cell_type": "markdown",
   "metadata": {},
   "source": [
    "# Soft-Q Learning"
   ]
  },
  {
   "cell_type": "code",
   "execution_count": 14,
   "metadata": {},
   "outputs": [],
   "source": [
    "def softmax(x, axis=1):\n",
    "    \"\"\"Compute softmax values for each sets of scores in x.\"\"\"\n",
    "    axis = 0 if len(x.shape) == 1 else axis\n",
    "    e_x = np.exp(x - np.max(x, axis=axis,keepdims=True))\n",
    "    return (e_x / e_x.sum(axis=axis, keepdims = True))"
   ]
  },
  {
   "cell_type": "code",
   "execution_count": 15,
   "metadata": {},
   "outputs": [],
   "source": [
    "def tabsoftq_iter(R, T, maxiter=10000, verbose=False, Q_init=None, learning_rate=0.5, ftol=1e-32):\n",
    "    Q = np.zeros((nS, nA)) if Q_init is None else copy(Q_init)\n",
    "    prevQ = copy(Q)\n",
    "    if verbose:\n",
    "        diffs = []\n",
    "        meanVs = []\n",
    "    for iter_idx in range(maxiter):\n",
    "        V = alpha * logsumexp(prevQ / alpha, axis=1)\n",
    "        V_broad = V.reshape((1, 1, nS))\n",
    "        Q = np.sum(T * (R + gamma * V_broad), axis=2)\n",
    "        Q = (1 - learning_rate) * prevQ + learning_rate * Q\n",
    "        diff = np.mean((Q - prevQ)**2)/(np.std(Q)**2)\n",
    "        if verbose:\n",
    "            diffs.append(diff)\n",
    "            meanVs.append(np.mean(V)) \n",
    "        if diff < ftol:\n",
    "            break\n",
    "        prevQ = copy(Q)\n",
    "    if verbose:\n",
    "        plt.xlabel('Number of Iterations')\n",
    "        plt.ylabel('Avg. Squared Bellman Error')\n",
    "        plt.title('Soft Q Iteration')\n",
    "        plt.plot(diffs)\n",
    "        plt.yscale('log')\n",
    "        plt.show()\n",
    "        plt.xlabel('Number of Iterations')\n",
    "        plt.ylabel('Avg. Value of All Tiles')\n",
    "        plt.title('Soft Q Iteration')\n",
    "        plt.plot(meanVs)\n",
    "        plt.show()\n",
    "    return Q"
   ]
  },
  {
   "cell_type": "code",
   "execution_count": 16,
   "metadata": {},
   "outputs": [],
   "source": [
    "def tabsoftq_learn_Qs(mdp):\n",
    "    R = mdp.rewards\n",
    "    T = mdp.get_transition_matrix()\n",
    "    Qs = tabsoftq_iter(R, T)\n",
    "    return Qs\n",
    "\n",
    "def tabsoftq_gen_pol(Qs, beta=1):\n",
    "    softQs = softmax(Qs * beta)\n",
    "    return lambda s: np.random.choice(np.asarray(range(len(Qs[s]))),p=softQs[s])\n",
    "\n",
    "def tabsoftq_gen_pol_probs(Qs, beta=1):\n",
    "    softQs = softmax(Qs * beta)\n",
    "    return softQs\n"
   ]
  },
  {
   "cell_type": "code",
   "execution_count": 17,
   "metadata": {},
   "outputs": [],
   "source": [
    "def generate_demonstrations(mdp, pol, n, term):\n",
    "    hists = []\n",
    "    for i in range(n):\n",
    "        s, d, t = mdp._reset(), False, 0\n",
    "        hist = []\n",
    "        while not d and t < term:\n",
    "            a = pol[s] if type(pol) == np.ndarray else pol(s)\n",
    "            sprime, rt, _, ob_dict = mdp._step(a)\n",
    "            hist += [((s,a,sprime),ob_dict['adt'])]\n",
    "            t += 1\n",
    "            s = sprime\n",
    "        hists += [hist]\n",
    "    return hists"
   ]
  },
  {
   "cell_type": "code",
   "execution_count": 22,
   "metadata": {},
   "outputs": [],
   "source": [
    "def tabsoftq_T_grad_iter(T_thetas, Q, R, T=None, maxiter=1000, verbose=True,\n",
    "                       learning_rate=1, G_init=None, ftol=0):\n",
    "    \n",
    "    T_theta_dim = T_thetas.shape[0] * T_thetas.shape[1] * T_thetas.shape[2]\n",
    "    D = T_thetas.shape[1]\n",
    "    \n",
    "    P_broad = tabsoftq_gen_pol_probs(Q).reshape((nS, nA, 1))\n",
    "    Tps = softmax(T_thetas,axis=1)\n",
    "    \n",
    "    if T is None:\n",
    "        T = mdp.adt_trans_to_sas_trans(Tps)\n",
    "        \n",
    "    V = (alpha) * logsumexp(Q * (1 / alpha), axis=1)\n",
    "    T_grad = np.zeros((nS,nA,T_theta_dim))\n",
    "    for s in range(nS):\n",
    "        t = mdp.get_tile_type(s)\n",
    "        for a in range(nA):\n",
    "            P_at = Tps[a,:,t]\n",
    "            V_theta = np.array([V[mdp.sd_to_sprime(s,d)] for d in range(D)])\n",
    "            R_theta = np.array([R[mdp.sd_to_sprime(s,d)] for d in range(D)])\n",
    "            VR_theta = R_theta + gamma * V_theta \n",
    "            D_probs = np.stack([P_at for _ in range(D)])\n",
    "            grad_at = np.dot((np.eye(D) - D_probs), VR_theta)\n",
    "            grad_at = np.dot(np.diag(P_at),grad_at)\n",
    "            filler = np.zeros(T_thetas.shape)\n",
    "            filler[a,:,t] = grad_at\n",
    "            filler = filler.flatten()\n",
    "            T_grad[s,a] = filler\n",
    "    G = T_grad if G_init is None else G_init\n",
    "    T_broad = T.reshape((nS, nA, nS, 1))\n",
    "    prevG = copy(G)\n",
    "    if verbose:\n",
    "        diffs = []\n",
    "    for iter_idx in range(maxiter):\n",
    "        expG = np.sum(P_broad * G, axis=1)\n",
    "        expG_broad = expG.reshape((1, 1, nS, T_theta_dim))\n",
    "        G = gamma * T_grad\n",
    "        t_expG = np.sum(T_broad * expG_broad, axis=2)\n",
    "        G += gamma * t_expG\n",
    "        G = (1 - learning_rate) * prevG + learning_rate * G\n",
    "    \n",
    "        diff = np.mean((G - prevG)**2)/(np.std(G)**2)\n",
    "        if verbose:\n",
    "            diffs.append(diff)\n",
    "        if diff < ftol:\n",
    "            break\n",
    "        prevG = copy(G)\n",
    "  \n",
    "    if verbose:\n",
    "        plt.xlabel('Number of Iterations')\n",
    "        plt.ylabel('Avg. Squared Bellman Error')\n",
    "        plt.title('Soft Q Gradient Iteration')\n",
    "        plt.plot(diffs)\n",
    "        plt.yscale('log')\n",
    "        plt.show()\n",
    "    expG = np.sum(P_broad * G, axis=1)\n",
    "    expG_broad = expG.reshape((nS, 1, T_theta_dim))\n",
    "    return (G - expG_broad)"
   ]
  },
  {
   "cell_type": "code",
   "execution_count": 18,
   "metadata": {},
   "outputs": [],
   "source": [
    "def vectorize_rollouts(rollouts):\n",
    "    sas_obs = []\n",
    "    adt_obs = []\n",
    "    task_idxes = []\n",
    "    for rollout in rollouts:\n",
    "        more_sas, more_adt = list(zip(*rollout))\n",
    "        sas_obs.extend(more_sas)\n",
    "        adt_obs.extend(more_adt)\n",
    "    return np.array(sas_obs), np.array(adt_obs)"
   ]
  },
  {
   "cell_type": "markdown",
   "metadata": {},
   "source": [
    "Sanity check (env and softq)"
   ]
  },
  {
   "cell_type": "code",
   "execution_count": 19,
   "metadata": {
    "scrolled": true
   },
   "outputs": [
    {
     "name": "stderr",
     "output_type": "stream",
     "text": [
      "/Users/mckaneandrus/anaconda2/envs/irld/lib/python3.6/site-packages/matplotlib/cbook/deprecation.py:107: MatplotlibDeprecationWarning: Adding an axes using the same arguments as a previous axes currently reuses the earlier instance.  In a future version, a new instance will always be created and returned.  Meanwhile, this warning can be suppressed, and the future behavior ensured, by passing a unique label to each axes instance.\n",
      "  warnings.warn(message, mplDeprecation, stacklevel=1)\n"
     ]
    },
    {
     "data": {
      "image/png": "[encoded data removed]",
      "text/plain": [
       "<Figure size 288x288 with 1 Axes>"
      ]
     },
     "metadata": {},
     "output_type": "display_data"
    },
    {
     "name": "stdout",
     "output_type": "stream",
     "text": [
      "[130.31584585  27.33892058 118.62443437 148.44385267 145.52380679]\n",
      "3\n",
      "[0.00000001 0.         0.         0.94882851 0.05117147]\n",
      "(6, 11) b'S'\n",
      "(6, 10) b'S'\n"
     ]
    },
    {
     "data": {
      "image/png": "[encoded data removed]",
      "text/plain": [
       "<Figure size 288x288 with 1 Axes>"
      ]
     },
     "metadata": {},
     "output_type": "display_data"
    },
    {
     "name": "stdout",
     "output_type": "stream",
     "text": [
      "[150.09576005 146.05828761 147.32220218 154.43629587 151.38905135]\n",
      "3\n",
      "[0.01227393 0.00021654 0.00076638 0.94200759 0.04473556]\n",
      "(6, 10) b'S'\n",
      "(6, 9) b'F'\n"
     ]
    },
    {
     "data": {
      "image/png": "[encoded data removed]",
      "text/plain": [
       "<Figure size 288x288 with 1 Axes>"
      ]
     },
     "metadata": {},
     "output_type": "display_data"
    },
    {
     "name": "stdout",
     "output_type": "stream",
     "text": [
      "[155.38141065 151.88085901 153.13086346 159.07969971 155.99631711]\n",
      "3\n",
      "[0.02306105 0.000696   0.00242929 0.93116264 0.04265103]\n",
      "(6, 9) b'F'\n",
      "(6, 8) b'1'\n"
     ]
    },
    {
     "data": {
      "image/png": "[encoded data removed]",
      "text/plain": [
       "<Figure size 288x288 with 1 Axes>"
      ]
     },
     "metadata": {},
     "output_type": "display_data"
    },
    {
     "name": "stdout",
     "output_type": "stream",
     "text": [
      "[159.41988276 156.3672531  157.06382828 162.46160854 160.38760223]\n",
      "4\n",
      "[0.04046074 0.00191114 0.00383542 0.84730264 0.10649006]\n",
      "(6, 8) b'1'\n",
      "(6, 8) b'1'\n"
     ]
    },
    {
     "data": {
      "image/png": "[encoded data removed]",
      "text/plain": [
       "<Figure size 288x288 with 1 Axes>"
      ]
     },
     "metadata": {},
     "output_type": "display_data"
    },
    {
     "name": "stdout",
     "output_type": "stream",
     "text": [
      "[159.41988276 156.3672531  157.06382828 162.46160854 160.38760223]\n",
      "3\n",
      "[0.04046074 0.00191114 0.00383542 0.84730264 0.10649006]\n",
      "(6, 8) b'1'\n",
      "(6, 7) b'2'\n"
     ]
    },
    {
     "data": {
      "image/png": "[encoded data removed]",
      "text/plain": [
       "<Figure size 288x288 with 1 Axes>"
      ]
     },
     "metadata": {},
     "output_type": "display_data"
    },
    {
     "name": "stdout",
     "output_type": "stream",
     "text": [
      "[161.33445666 160.33166799 160.10873935 164.79352988 163.61426141]\n",
      "3\n",
      "[0.023136   0.00848756 0.00679151 0.73543578 0.22614915]\n",
      "(6, 7) b'2'\n",
      "(6, 6) b'1'\n"
     ]
    },
    {
     "data": {
      "image/png": "[encoded data removed]",
      "text/plain": [
       "<Figure size 288x288 with 1 Axes>"
      ]
     },
     "metadata": {},
     "output_type": "display_data"
    },
    {
     "name": "stdout",
     "output_type": "stream",
     "text": [
      "[163.32473516 163.18686284 161.7494042  168.2460833  165.96492959]\n",
      "3\n",
      "[0.00652394 0.00568372 0.00135006 0.89500314 0.09143913]\n",
      "(6, 6) b'1'\n",
      "(6, 5) b'S'\n"
     ]
    },
    {
     "data": {
      "image/png": "[encoded data removed]",
      "text/plain": [
       "<Figure size 288x288 with 1 Axes>"
      ]
     },
     "metadata": {},
     "output_type": "display_data"
    },
    {
     "name": "stdout",
     "output_type": "stream",
     "text": [
      "[167.87471207 164.47584728 154.37447216 173.4037815  169.93828699]\n",
      "3\n",
      "[0.00383411 0.0001281  0.00000001 0.96584776 0.03019003]\n",
      "(6, 5) b'S'\n",
      "(6, 4) b'F'\n"
     ]
    },
    {
     "data": {
      "image/png": "[encoded data removed]",
      "text/plain": [
       "<Figure size 288x288 with 1 Axes>"
      ]
     },
     "metadata": {},
     "output_type": "display_data"
    },
    {
     "name": "stdout",
     "output_type": "stream",
     "text": [
      "[180.73199532 154.11582822  35.42302422 165.54829087 177.12484737]\n",
      "0\n",
      "[0.9735872  0.         0.         0.00000025 0.02641255]\n",
      "(6, 4) b'F'\n",
      "(5, 4) b'F'\n"
     ]
    },
    {
     "data": {
      "image/png": "[encoded data removed]",
      "text/plain": [
       "<Figure size 288x288 with 1 Axes>"
      ]
     },
     "metadata": {},
     "output_type": "display_data"
    },
    {
     "name": "stdout",
     "output_type": "stream",
     "text": [
      "[166.46306557 167.63539999 177.30549644 185.34887963 181.64410011]\n",
      "3\n",
      "[0.00000001 0.00000002 0.00031341 0.97567935 0.02400722]\n",
      "(5, 4) b'F'\n",
      "(4, 4) b'1'\n"
     ]
    },
    {
     "data": {
      "image/png": "[encoded data removed]",
      "text/plain": [
       "<Figure size 288x288 with 1 Axes>"
      ]
     },
     "metadata": {},
     "output_type": "display_data"
    },
    {
     "name": "stdout",
     "output_type": "stream",
     "text": [
      "[ 18.47225369  18.17150763 163.78122478 165.88644716 163.57180878]\n",
      "3\n",
      "[0.         0.         0.09980054 0.81925546 0.080944  ]\n",
      "(4, 4) b'1'\n",
      "(4, 3) b'1'\n"
     ]
    },
    {
     "data": {
      "image/png": "[encoded data removed]",
      "text/plain": [
       "<Figure size 288x288 with 1 Axes>"
      ]
     },
     "metadata": {},
     "output_type": "display_data"
    },
    {
     "name": "stdout",
     "output_type": "stream",
     "text": [
      "[ 36.09873827 149.7681374  187.3716433  176.79267756 184.65156066]\n",
      "2\n",
      "[0.         0.         0.93817893 0.00002387 0.0617972 ]\n",
      "(4, 3) b'1'\n",
      "(5, 3) b'S'\n"
     ]
    },
    {
     "data": {
      "image/png": "[encoded data removed]",
      "text/plain": [
       "<Figure size 288x288 with 1 Axes>"
      ]
     },
     "metadata": {},
     "output_type": "display_data"
    },
    {
     "name": "stdout",
     "output_type": "stream",
     "text": [
      "[185.39396438 182.20332268 185.05580809 192.95448932 189.09901752]\n",
      "3\n",
      "[0.00050936 0.00002096 0.00036321 0.97839999 0.02070648]\n",
      "(5, 3) b'S'\n",
      "(4, 3) b'1'\n"
     ]
    },
    {
     "data": {
      "image/png": "[encoded data removed]",
      "text/plain": [
       "<Figure size 288x288 with 1 Axes>"
      ]
     },
     "metadata": {},
     "output_type": "display_data"
    },
    {
     "name": "stdout",
     "output_type": "stream",
     "text": [
      "[ 36.09873827 149.7681374  187.3716433  176.79267756 184.65156066]\n",
      "2\n",
      "[0.         0.         0.93817893 0.00002387 0.0617972 ]\n",
      "(4, 3) b'1'\n",
      "(5, 3) b'S'\n"
     ]
    },
    {
     "data": {
      "image/png": "[encoded data removed]",
      "text/plain": [
       "<Figure size 288x288 with 1 Axes>"
      ]
     },
     "metadata": {},
     "output_type": "display_data"
    },
    {
     "name": "stdout",
     "output_type": "stream",
     "text": [
      "[185.39396438 182.20332268 185.05580809 192.95448932 189.09901752]\n",
      "3\n",
      "[0.00050936 0.00002096 0.00036321 0.97839999 0.02070648]\n",
      "(5, 3) b'S'\n",
      "(5, 2) b'2'\n"
     ]
    },
    {
     "data": {
      "image/png": "[encoded data removed]",
      "text/plain": [
       "<Figure size 288x288 with 1 Axes>"
      ]
     },
     "metadata": {},
     "output_type": "display_data"
    },
    {
     "name": "stdout",
     "output_type": "stream",
     "text": [
      "[196.57304067 189.99727875 190.55358414 196.96727862 195.0830584 ]\n",
      "0\n",
      "[0.36866973 0.00051383 0.00089623 0.54683065 0.08308955]\n",
      "(5, 2) b'2'\n",
      "(5, 3) b'S'\n"
     ]
    },
    {
     "data": {
      "image/png": "[encoded data removed]",
      "text/plain": [
       "<Figure size 288x288 with 1 Axes>"
      ]
     },
     "metadata": {},
     "output_type": "display_data"
    },
    {
     "name": "stdout",
     "output_type": "stream",
     "text": [
      "[185.39396438 182.20332268 185.05580809 192.95448932 189.09901752]\n",
      "3\n",
      "[0.00050936 0.00002096 0.00036321 0.97839999 0.02070648]\n",
      "(5, 3) b'S'\n",
      "(5, 2) b'2'\n"
     ]
    },
    {
     "data": {
      "image/png": "[encoded data removed]",
      "text/plain": [
       "<Figure size 288x288 with 1 Axes>"
      ]
     },
     "metadata": {},
     "output_type": "display_data"
    },
    {
     "name": "stdout",
     "output_type": "stream",
     "text": [
      "[196.57304067 189.99727875 190.55358414 196.96727862 195.0830584 ]\n",
      "0\n",
      "[0.36866973 0.00051383 0.00089623 0.54683065 0.08308955]\n",
      "(5, 2) b'2'\n",
      "(5, 3) b'S'\n"
     ]
    },
    {
     "data": {
      "image/png": "[encoded data removed]",
      "text/plain": [
       "<Figure size 288x288 with 1 Axes>"
      ]
     },
     "metadata": {},
     "output_type": "display_data"
    },
    {
     "name": "stdout",
     "output_type": "stream",
     "text": [
      "[185.39396438 182.20332268 185.05580809 192.95448932 189.09901752]\n",
      "3\n",
      "[0.00050936 0.00002096 0.00036321 0.97839999 0.02070648]\n",
      "(5, 3) b'S'\n",
      "(5, 2) b'2'\n"
     ]
    },
    {
     "data": {
      "image/png": "[encoded data removed]",
      "text/plain": [
       "<Figure size 288x288 with 1 Axes>"
      ]
     },
     "metadata": {},
     "output_type": "display_data"
    },
    {
     "name": "stdout",
     "output_type": "stream",
     "text": [
      "[196.57304067 189.99727875 190.55358414 196.96727862 195.0830584 ]\n",
      "0\n",
      "[0.36866973 0.00051383 0.00089623 0.54683065 0.08308955]\n",
      "(5, 2) b'2'\n",
      "(4, 2) b'1'\n"
     ]
    },
    {
     "data": {
      "image/png": "[encoded data removed]",
      "text/plain": [
       "<Figure size 288x288 with 1 Axes>"
      ]
     },
     "metadata": {},
     "output_type": "display_data"
    },
    {
     "name": "stdout",
     "output_type": "stream",
     "text": [
      "[198.86945413 187.26881768 194.62179439 200.26910201 197.35248398]\n",
      "3\n",
      "[0.18912692 0.00000173 0.00270407 0.76667746 0.04148982]\n",
      "(4, 2) b'1'\n",
      "(4, 1) b'2'\n"
     ]
    },
    {
     "data": {
      "image/png": "[encoded data removed]",
      "text/plain": [
       "<Figure size 288x288 with 1 Axes>"
      ]
     },
     "metadata": {},
     "output_type": "display_data"
    },
    {
     "name": "stdout",
     "output_type": "stream",
     "text": [
      "[202.86128258 198.0720325  197.8393478  199.0291294  200.90191608]\n",
      "0\n",
      "[0.84924171 0.00706458 0.005598   0.01839706 0.11969865]\n",
      "(4, 1) b'2'\n",
      "(3, 1) b'1'\n"
     ]
    },
    {
     "data": {
      "image/png": "[encoded data removed]",
      "text/plain": [
       "<Figure size 288x288 with 1 Axes>"
      ]
     },
     "metadata": {},
     "output_type": "display_data"
    },
    {
     "name": "stdout",
     "output_type": "stream",
     "text": [
      "[207.09931074 201.26271553 200.95350389 202.4902708  204.08893584]\n",
      "0\n",
      "[0.93958842 0.00274244 0.00201302 0.00935959 0.04629653]\n",
      "(3, 1) b'1'\n",
      "(3, 0) b'2'\n"
     ]
    },
    {
     "data": {
      "image/png": "[encoded data removed]",
      "text/plain": [
       "<Figure size 288x288 with 1 Axes>"
      ]
     },
     "metadata": {},
     "output_type": "display_data"
    },
    {
     "name": "stdout",
     "output_type": "stream",
     "text": [
      "[185.66234637 203.7826172  179.24876629  40.51777753 201.92707715]\n",
      "1\n",
      "[0.00000001 0.86477625 0.         0.         0.13522374]\n",
      "(3, 0) b'2'\n",
      "(3, 1) b'1'\n"
     ]
    },
    {
     "data": {
      "image/png": "[encoded data removed]",
      "text/plain": [
       "<Figure size 288x288 with 1 Axes>"
      ]
     },
     "metadata": {},
     "output_type": "display_data"
    },
    {
     "name": "stdout",
     "output_type": "stream",
     "text": [
      "[207.09931074 201.26271553 200.95350389 202.4902708  204.08893584]\n",
      "0\n",
      "[0.93958842 0.00274244 0.00201302 0.00935959 0.04629653]\n",
      "(3, 1) b'1'\n",
      "(2, 1) b'1'\n"
     ]
    },
    {
     "data": {
      "image/png": "[encoded data removed]",
      "text/plain": [
       "<Figure size 288x288 with 1 Axes>"
      ]
     },
     "metadata": {},
     "output_type": "display_data"
    },
    {
     "name": "stdout",
     "output_type": "stream",
     "text": [
      "[211.59753087 204.50281206 204.27392851 206.98590162 208.58417464]\n",
      "0\n",
      "[0.94290574 0.00078212 0.00062211 0.00936835 0.04632168]\n",
      "(2, 1) b'1'\n",
      "(1, 1) b'3'\n"
     ]
    },
    {
     "data": {
      "image/png": "[encoded data removed]",
      "text/plain": [
       "<Figure size 288x288 with 1 Axes>"
      ]
     },
     "metadata": {},
     "output_type": "display_data"
    },
    {
     "name": "stdout",
     "output_type": "stream",
     "text": [
      "[ 40.61892545 177.27481783 207.47995617 189.34452599 213.24343878]\n",
      "4\n",
      "[0.         0.         0.00313033 0.         0.99686967]\n",
      "(1, 1) b'3'\n",
      "(1, 1) b'3'\n"
     ]
    },
    {
     "data": {
      "image/png": "[encoded data removed]",
      "text/plain": [
       "<Figure size 288x288 with 1 Axes>"
      ]
     },
     "metadata": {},
     "output_type": "display_data"
    },
    {
     "name": "stdout",
     "output_type": "stream",
     "text": [
      "[ 40.61892545 177.27481783 207.47995617 189.34452599 213.24343878]\n",
      "4\n",
      "[0.         0.         0.00313033 0.         0.99686967]\n",
      "(1, 1) b'3'\n",
      "(1, 1) b'3'\n"
     ]
    },
    {
     "data": {
      "image/png": "[encoded data removed]",
      "text/plain": [
       "<Figure size 288x288 with 1 Axes>"
      ]
     },
     "metadata": {},
     "output_type": "display_data"
    },
    {
     "name": "stdout",
     "output_type": "stream",
     "text": [
      "[ 40.61892545 177.27481783 207.47995617 189.34452599 213.24343878]\n",
      "4\n",
      "[0.         0.         0.00313033 0.         0.99686967]\n",
      "(1, 1) b'3'\n",
      "(1, 1) b'3'\n"
     ]
    },
    {
     "data": {
      "image/png": "[encoded data removed]",
      "text/plain": [
       "<Figure size 288x288 with 1 Axes>"
      ]
     },
     "metadata": {},
     "output_type": "display_data"
    },
    {
     "name": "stdout",
     "output_type": "stream",
     "text": [
      "[ 40.61892545 177.27481783 207.47995617 189.34452599 213.24343878]\n",
      "4\n",
      "[0.         0.         0.00313033 0.         0.99686967]\n",
      "(1, 1) b'3'\n",
      "(1, 1) b'3'\n"
     ]
    },
    {
     "data": {
      "image/png": "[encoded data removed]",
      "text/plain": [
       "<Figure size 288x288 with 1 Axes>"
      ]
     },
     "metadata": {},
     "output_type": "display_data"
    },
    {
     "name": "stdout",
     "output_type": "stream",
     "text": [
      "[ 40.61892545 177.27481783 207.47995617 189.34452599 213.24343878]\n",
      "4\n",
      "[0.         0.         0.00313033 0.         0.99686967]\n",
      "(1, 1) b'3'\n",
      "(1, 1) b'3'\n"
     ]
    },
    {
     "data": {
      "image/png": "[encoded data removed]",
      "text/plain": [
       "<Figure size 288x288 with 1 Axes>"
      ]
     },
     "metadata": {},
     "output_type": "display_data"
    },
    {
     "name": "stdout",
     "output_type": "stream",
     "text": [
      "[ 40.61892545 177.27481783 207.47995617 189.34452599 213.24343878]\n",
      "4\n",
      "[0.         0.         0.00313033 0.         0.99686967]\n",
      "(1, 1) b'3'\n",
      "(1, 1) b'3'\n"
     ]
    },
    {
     "data": {
      "image/png": "[encoded data removed]",
      "text/plain": [
       "<Figure size 288x288 with 1 Axes>"
      ]
     },
     "metadata": {},
     "output_type": "display_data"
    },
    {
     "name": "stdout",
     "output_type": "stream",
     "text": [
      "[ 40.61892545 177.27481783 207.47995617 189.34452599 213.24343878]\n",
      "4\n",
      "[0.         0.         0.00313033 0.         0.99686967]\n",
      "(1, 1) b'3'\n",
      "(1, 1) b'3'\n"
     ]
    },
    {
     "data": {
      "image/png": "[encoded data removed]",
      "text/plain": [
       "<Figure size 288x288 with 1 Axes>"
      ]
     },
     "metadata": {},
     "output_type": "display_data"
    },
    {
     "name": "stdout",
     "output_type": "stream",
     "text": [
      "[ 40.61892545 177.27481783 207.47995617 189.34452599 213.24343878]\n",
      "4\n",
      "[0.         0.         0.00313033 0.         0.99686967]\n",
      "(1, 1) b'3'\n",
      "(1, 1) b'3'\n"
     ]
    },
    {
     "data": {
      "image/png": "[encoded data removed]",
      "text/plain": [
       "<Figure size 288x288 with 1 Axes>"
      ]
     },
     "metadata": {},
     "output_type": "display_data"
    },
    {
     "name": "stdout",
     "output_type": "stream",
     "text": [
      "[ 40.61892545 177.27481783 207.47995617 189.34452599 213.24343878]\n",
      "4\n",
      "[0.         0.         0.00313033 0.         0.99686967]\n",
      "(1, 1) b'3'\n",
      "(1, 1) b'3'\n"
     ]
    },
    {
     "data": {
      "image/png": "[encoded data removed]",
      "text/plain": [
       "<Figure size 288x288 with 1 Axes>"
      ]
     },
     "metadata": {},
     "output_type": "display_data"
    },
    {
     "name": "stdout",
     "output_type": "stream",
     "text": [
      "[ 40.61892545 177.27481783 207.47995617 189.34452599 213.24343878]\n",
      "4\n",
      "[0.         0.         0.00313033 0.         0.99686967]\n",
      "(1, 1) b'3'\n",
      "(1, 1) b'3'\n"
     ]
    },
    {
     "data": {
      "image/png": "[encoded data removed]",
      "text/plain": [
       "<Figure size 288x288 with 1 Axes>"
      ]
     },
     "metadata": {},
     "output_type": "display_data"
    },
    {
     "name": "stdout",
     "output_type": "stream",
     "text": [
      "[ 40.61892545 177.27481783 207.47995617 189.34452599 213.24343878]\n",
      "4\n",
      "[0.         0.         0.00313033 0.         0.99686967]\n",
      "(1, 1) b'3'\n",
      "(1, 1) b'3'\n"
     ]
    },
    {
     "data": {
      "image/png": "[encoded data removed]",
      "text/plain": [
       "<Figure size 288x288 with 1 Axes>"
      ]
     },
     "metadata": {},
     "output_type": "display_data"
    },
    {
     "name": "stdout",
     "output_type": "stream",
     "text": [
      "[ 40.61892545 177.27481783 207.47995617 189.34452599 213.24343878]\n",
      "4\n",
      "[0.         0.         0.00313033 0.         0.99686967]\n",
      "(1, 1) b'3'\n",
      "(1, 1) b'3'\n"
     ]
    },
    {
     "data": {
      "image/png": "[encoded data removed]",
      "text/plain": [
       "<Figure size 288x288 with 1 Axes>"
      ]
     },
     "metadata": {},
     "output_type": "display_data"
    },
    {
     "name": "stdout",
     "output_type": "stream",
     "text": [
      "[ 40.61892545 177.27481783 207.47995617 189.34452599 213.24343878]\n",
      "4\n",
      "[0.         0.         0.00313033 0.         0.99686967]\n",
      "(1, 1) b'3'\n",
      "(1, 1) b'3'\n"
     ]
    },
    {
     "data": {
      "image/png": "[encoded data removed]",
      "text/plain": [
       "<Figure size 288x288 with 1 Axes>"
      ]
     },
     "metadata": {},
     "output_type": "display_data"
    },
    {
     "name": "stdout",
     "output_type": "stream",
     "text": [
      "[ 40.61892545 177.27481783 207.47995617 189.34452599 213.24343878]\n",
      "4\n",
      "[0.         0.         0.00313033 0.         0.99686967]\n",
      "(1, 1) b'3'\n",
      "(1, 1) b'3'\n"
     ]
    }
   ],
   "source": [
    "Q = tabsoftq_learn_Qs(mdp)\n",
    "plot_mars(mdp,tabsoftq_gen_pol(Q),Qs=Q)\n"
   ]
  },
  {
   "cell_type": "code",
   "execution_count": 20,
   "metadata": {
    "scrolled": true
   },
   "outputs": [
    {
     "ename": "AttributeError",
     "evalue": "'MarsExplorerEnv' object has no attribute 'feature_map'",
     "output_type": "error",
     "traceback": [
      "\u001b[0;31m---------------------------------------------------------------------------\u001b[0m",
      "\u001b[0;31mAttributeError\u001b[0m                            Traceback (most recent call last)",
      "\u001b[0;32m<ipython-input-20-f129924bb5dd>\u001b[0m in \u001b[0;36m<module>\u001b[0;34m()\u001b[0m\n\u001b[0;32m----> 1\u001b[0;31m \u001b[0mprint\u001b[0m\u001b[0;34m(\u001b[0m\u001b[0mmdp\u001b[0m\u001b[0;34m.\u001b[0m\u001b[0mfeature_map\u001b[0m\u001b[0;34m)\u001b[0m\u001b[0;34m\u001b[0m\u001b[0;34m\u001b[0m\u001b[0m\n\u001b[0m",
      "\u001b[0;31mAttributeError\u001b[0m: 'MarsExplorerEnv' object has no attribute 'feature_map'"
     ]
    }
   ],
   "source": [
    "print(mdp.feature_map)"
   ]
  },
  {
   "cell_type": "markdown",
   "metadata": {},
   "source": [
    "# Inverse Dynamics Learning"
   ]
  },
  {
   "cell_type": "code",
   "execution_count": 66,
   "metadata": {},
   "outputs": [],
   "source": [
    "def transition_grad(adt, tps):\n",
    "    a,d,t = adt\n",
    "    grad_theta_t = np.zeros(tps.shape)\n",
    "    grad_theta_t[a,d,t] += 1\n",
    "    grad_theta_t[a,:,t] -= tps[a,:,t]\n",
    "    return grad_theta_t\n"
   ]
  },
  {
   "cell_type": "code",
   "execution_count": 67,
   "metadata": {},
   "outputs": [],
   "source": [
    "def eval_pol_likelihood(Q, sas_obs, verbose=False):\n",
    "    ll = 0.0\n",
    "    for obs in sas_obs:\n",
    "        s,a,sprime = obs\n",
    "        l = np.log(softmax(Q[s])[a])\n",
    "        ll += l\n",
    "    return ll\n",
    "\n",
    "def eval_trans_likelihood(Tps, adt_obs, verbose=False):\n",
    "    ll = 0.0\n",
    "    for obs in adt_obs:\n",
    "        a,d,t, = obs\n",
    "        print(Tps[a,d,t])\n",
    "        l = np.log(Tps[a,d,t])\n",
    "        ll += l\n",
    "    return ll\n",
    "\n",
    "def eval_trans_likelihood_and_grad(T_thetas, adt_obs):\n",
    "    Tps = softmax(T_thetas,axis=1)\n",
    "    dT = sum([transition_grad(adt,Tps) for adt in adt_obs]).reshape(T_thetas.shape) / len(adt_obs)\n",
    "    ll = eval_trans_likelihood(Tps, adt_obs)\n",
    "    return ll, dT\n",
    "\n",
    "def eval_demo_log_likelihood(sas_obs, adt_obs, T_thetas, Q):\n",
    "    Tps = softmax(T_thetas,axis=1)\n",
    "    p_ll = eval_pol_likelihood(Q, sas_obs)\n",
    "    t_ll = eval_trans_likelihood(Tps, adt_obs)\n",
    "    return p_ll, t_ll\n",
    "        "
   ]
  },
  {
   "cell_type": "code",
   "execution_count": 24,
   "metadata": {},
   "outputs": [],
   "source": [
    "def eval_T_pol_likelihood_and_grad(T_thetas, R, sas_obs, Q_inits=None, verbose=False):\n",
    "    s = [obs[0] for obs in sas_obs]\n",
    "    a = [obs[1] for obs in sas_obs]\n",
    "    Tps = softmax(T_thetas,axis=1)\n",
    "    T = mdp.adt_trans_to_sas_trans(Tps)\n",
    "    Q = tabsoftq_iter(R, T, Q_init=Q_inits, maxiter=tabsoftq_iter_maxiter, verbose=tabsoftq_iter_verbose,\n",
    "                      ftol=tabsoftq_iter_ftol)\n",
    "    dT = tabsoftq_T_grad_iter(T_thetas, Q, R, T=T, maxiter=tabsoftq_grad_iter_maxiter,\n",
    "        verbose=tabsoftq_grad_iter_verbose, ftol=tabsoftq_grad_iter_ftol)\n",
    "    # Sum instead of mean because sparse results\n",
    "    if verbose:\n",
    "        for obs in sas_obs:\n",
    "            print(obs)\n",
    "            print(dT[obs[0],obs[1]].reshape(T_thetas.shape))\n",
    "    dT = np.sum(dT[s,a], axis=0).reshape(T_thetas.shape) / len(sas_obs)\n",
    "    ll = eval_pol_likelihood(Q, sas_obs)\n",
    "    return ll, dT, Q\n"
   ]
  },
  {
   "cell_type": "markdown",
   "metadata": {},
   "source": [
    "# Simultaneous Estimation of Rewards and Dynamics"
   ]
  },
  {
   "cell_type": "code",
   "execution_count": 25,
   "metadata": {},
   "outputs": [],
   "source": [
    "def tabsoftq_TR_grad_iter(T_thetas, feat_map, R,  Q, T=None, maxiter=1000, verbose=True,\n",
    "                       learning_rate=1, G_init=None, ftol=0):\n",
    "    \n",
    "    T_theta_dim = T_thetas.shape[0] * T_thetas.shape[1] * T_thetas.shape[2]\n",
    "    D = T_thetas.shape[1]\n",
    "    \n",
    "    R_theta_dim = feat_map.shape[1]\n",
    "    \n",
    "    P_broad = tabsoftq_gen_pol_probs(Q).reshape((nS, nA, 1))\n",
    "    Tps = softmax(T_thetas,axis=1)\n",
    "    \n",
    "    if T is None:\n",
    "        T = mdp.adt_trans_to_sas_trans(Tps)\n",
    "        \n",
    "    V = (alpha) * logsumexp(Q * (1 / alpha), axis=1)\n",
    "    \n",
    "    R_grad = T.dot(feat_map)\n",
    "    \n",
    "    GR = np.zeros((nS, nA, R_theta_dim)) if G_init is None else G_init[0]\n",
    "    prevGR = copy(GR)\n",
    "    \n",
    "    T_grad = np.zeros((nS,nA,T_theta_dim))\n",
    "    for s in range(nS):\n",
    "        t = mdp.get_tile_type(s)\n",
    "        for a in range(nA):\n",
    "            P_at = Tps[a,:,t]\n",
    "            V_t = np.array([V[mdp.sd_to_sprime(s,d)] for d in range(D)])\n",
    "            R_t = np.array([R[mdp.sd_to_sprime(s,d)] for d in range(D)])\n",
    "            VR_t = R_t + gamma * V_t \n",
    "            D_probs = np.stack([P_at for _ in range(D)])\n",
    "            grad_at = np.dot((np.eye(D) - D_probs), VR_t)\n",
    "            grad_at = np.dot(np.diag(P_at),grad_at)\n",
    "            filler = np.zeros(T_thetas.shape)\n",
    "            filler[a,:,t] = grad_at\n",
    "            filler = filler.flatten()\n",
    "            T_grad[s,a] = filler\n",
    "              \n",
    "    GT = T_grad if G_init is None else G_init[1]\n",
    "    T_broad = T.reshape((nS, nA, nS, 1))\n",
    "    prevGT = copy(GT)\n",
    "    \n",
    "    if verbose:\n",
    "        diffs = []\n",
    "        \n",
    "    for iter_idx in range(maxiter):\n",
    "        # Reward Param gradient iteration\n",
    "        expGR = np.sum(P_broad * GR, axis=1)\n",
    "        expGR_broad = expGR.reshape((1, 1, nS, R_theta_dim))\n",
    "        GR = R_grad + gamma * np.sum(T_broad * expGR_broad, axis=2)\n",
    "        GR = (1 - learning_rate) * prevGR + learning_rate * GR\n",
    "        \n",
    "        \n",
    "        # Transition Param grad iter\n",
    "        expGT = np.sum(P_broad * GT, axis=1)\n",
    "        expGT_broad = expGT.reshape((1, 1, nS, T_theta_dim))\n",
    "        GT = gamma * T_grad\n",
    "        t_expGT = np.sum(T_broad * expGT_broad, axis=2)\n",
    "        GT += gamma * t_expGT\n",
    "        GT = (1 - learning_rate) * prevGT + learning_rate * GT\n",
    "    \n",
    "        diff = np.mean((GR - prevGR)**2)/(np.std(GR)**2) + np.mean((GT - prevGT)**2)/(np.std(GT)**2)\n",
    "        if verbose:\n",
    "            diffs.append(diff)\n",
    "        if diff < ftol:\n",
    "            break\n",
    "        prevGR = copy(GR)\n",
    "        prevGT = copy(GT)\n",
    "  \n",
    "    if verbose:\n",
    "        plt.xlabel('Number of Iterations')\n",
    "        plt.ylabel('Avg. Squared Bellman Error')\n",
    "        plt.title('Soft Q Gradient Iteration')\n",
    "        plt.plot(diffs)\n",
    "        plt.yscale('log')\n",
    "        plt.show()\n",
    "  \n",
    "    expGR = np.sum(P_broad * GR, axis=1)\n",
    "    expGR_broad = expGR.reshape((nS, 1, R_theta_dim))\n",
    "    expGT = np.sum(P_broad * GT, axis=1)\n",
    "    expGT_broad = expGT.reshape((nS, 1, T_theta_dim))\n",
    "    return (GR - expGR_broad), (GT - expGT_broad)"
   ]
  },
  {
   "cell_type": "code",
   "execution_count": 26,
   "metadata": {},
   "outputs": [],
   "source": [
    "def eval_TR_pol_likelihood_and_grad(T_thetas, R, feat_map, sas_obs, Q_inits=None, verbose=False):\n",
    "    s = [obs[0] for obs in sas_obs]\n",
    "    a = [obs[1] for obs in sas_obs]\n",
    "    Tps = softmax(T_thetas,axis=1)\n",
    "    T = mdp.adt_trans_to_sas_trans(Tps)\n",
    "    Q = tabsoftq_iter(R, T, Q_init=Q_inits if Q_inits is not None else None, \n",
    "        maxiter=tabsoftq_iter_maxiter, verbose=tabsoftq_iter_verbose, ftol=tabsoftq_iter_ftol)\n",
    "    dR, dT = tabsoftq_TR_grad_iter(T_thetas, feat_map, R, Q, T=T,\n",
    "        maxiter=tabsoftq_grad_iter_maxiter, verbose=tabsoftq_grad_iter_verbose, ftol=tabsoftq_grad_iter_ftol)\n",
    "    if verbose:\n",
    "        for obs in sas_obs:\n",
    "            print(obs)\n",
    "            print(dT[obs[0],obs[1]].reshape(T_thetas.shape))\n",
    "    dR = np.sum(dR[s,a], axis=0).reshape(feat_map.shape[1]) / len(sas_obs)\n",
    "    dT = np.sum(dT[s,a], axis=0).reshape(T_thetas.shape) / len(sas_obs)\n",
    "    ll = eval_pol_likelihood(Q, sas_obs)\n",
    "    return ll, dT, dR, Q"
   ]
  },
  {
   "cell_type": "markdown",
   "metadata": {},
   "source": [
    "# IDL & SERD Experiments"
   ]
  },
  {
   "cell_type": "code",
   "execution_count": 27,
   "metadata": {},
   "outputs": [],
   "source": [
    "tabsoftq_iter_ftol = 1e-32\n",
    "tabsoftq_iter_maxiter = 5000\n",
    "tabsoftq_iter_verbose = False\n",
    "tabsoftq_grad_iter_ftol = 1e-10\n",
    "tabsoftq_grad_iter_maxiter = 5000\n",
    "tabsoftq_grad_iter_verbose = False\n",
    "batch_size = 200\n",
    "n_demos = 80\n",
    "demo_time_steps = 40"
   ]
  },
  {
   "cell_type": "code",
   "execution_count": 28,
   "metadata": {},
   "outputs": [],
   "source": [
    "def clean_demos(sas_obs):\n",
    "    demo_example_idxes = list(range(len(sas_obs)))\n",
    "    unique_stays = set([])\n",
    "    for i,sas in enumerate(sas_obs):\n",
    "        sas = tuple(sas)\n",
    "        if sas[1] == 4:\n",
    "            if sas in unique_stays:\n",
    "                demo_example_idxes.remove(i)\n",
    "            else:\n",
    "                unique_stays.add(sas)\n",
    "    return demo_example_idxes\n",
    "\n",
    "def sample_batch(size, ids, sas_obs, adt_obs):\n",
    "    idxes = random.sample(ids, size)\n",
    "    return sas_obs[idxes], adt_obs[idxes]"
   ]
  },
  {
   "cell_type": "code",
   "execution_count": 29,
   "metadata": {},
   "outputs": [],
   "source": [
    "def T_estimate(adt_obs):\n",
    "    stability = 1e-5\n",
    "    T_thetas = np.zeros(T_theta_shape)\n",
    "    T_counts = np.zeros(T_theta_shape) + stability\n",
    "    for a,d,t in adt_obs:\n",
    "        T_counts[a,d,t] += 1\n",
    "    for a in range(T_theta_shape[0]):\n",
    "        for t in range(T_theta_shape[2]):\n",
    "            z = np.sum(T_counts[a,:,t])\n",
    "            for d in range(T_theta_shape[1]):\n",
    "                if z == T_counts.shape[1] * stability:\n",
    "                    T_thetas[a,d,t] = 0\n",
    "                else:\n",
    "                    T_thetas[a,d,t] = np.log(T_counts[a,d,t]) - np.log(z)\n",
    "    return T_thetas\n",
    "\n",
    "def test_T_likelihood(Tps, sas_obs, adt_obs):\n",
    "    T = mdp.adt_trans_to_sas_trans(Tps)\n",
    "    R = mdp.rewards\n",
    "    Q = tabsoftq_iter(R, T, Q_init=None, maxiter=tabsoftq_iter_maxiter, verbose=tabsoftq_iter_verbose, ftol=tabsoftq_iter_ftol)\n",
    "    pl = eval_pol_likelihood(Q, sas_obs, verbose=True)\n",
    "    tl = eval_trans_likelihood(Tps, adt_obs, verbose=True)\n",
    "    print([s for s in range(nS) if mdp.get_tile_type(s)==1])\n",
    "    print(Q[[s for s in range(nS) if mdp.get_tile_type(s)==1]])\n",
    "    print(pl, tl)\n",
    "    return pl + tl\n",
    "\n",
    "def true_trans_loss(tps):\n",
    "    tps = mdp.adt_trans_to_sas_trans(tps)\n",
    "    true_tps = mdp.get_transition_matrix()\n",
    "    return np.linalg.norm(true_tps-tps)/nA"
   ]
  },
  {
   "cell_type": "code",
   "execution_count": 30,
   "metadata": {
    "scrolled": true
   },
   "outputs": [],
   "source": [
    "exQs = tabsoftq_learn_Qs(mdp)\n",
    "demos = generate_demonstrations(mdp, tabsoftq_gen_pol(exQs), n_demos, demo_time_steps)\n",
    "sas_obs, adt_obs = vectorize_rollouts(demos)"
   ]
  },
  {
   "cell_type": "code",
   "execution_count": 31,
   "metadata": {},
   "outputs": [],
   "source": [
    "# Ensure bad areas have not been visited in exes\n",
    "while len(set([adt[2] for adt in adt_obs])) > 1:\n",
    "    demos = generate_demonstrations(mdp, tabsoftq_gen_pol(exQs), n_demos, demo_time_steps)\n",
    "    sas_obs, adt_obs = vectorize_rollouts(demos)"
   ]
  },
  {
   "cell_type": "code",
   "execution_count": 69,
   "metadata": {},
   "outputs": [],
   "source": [
    "# Clean training set to have greater density of interesting transitions\n",
    "# print(len(sas_obs))\n",
    "# demo_example_idxes = clean_demos(sas_obs)\n",
    "# print(len(demo_example_idxes))\n",
    "demo_example_idxes = list(range(len(sas_obs)))\n"
   ]
  },
  {
   "cell_type": "code",
   "execution_count": 70,
   "metadata": {},
   "outputs": [],
   "source": [
    "random.shuffle(demo_example_idxes)\n",
    "n_train_demo_examples = int(0.9 * len(demo_example_idxes))\n",
    "train_demo_example_idxes = demo_example_idxes[:n_train_demo_examples]\n",
    "val_demo_example_idxes = demo_example_idxes[n_train_demo_examples:]\n",
    "val_sas_obs = sas_obs[val_demo_example_idxes]\n",
    "val_adt_obs = adt_obs[val_demo_example_idxes]"
   ]
  },
  {
   "cell_type": "markdown",
   "metadata": {},
   "source": [
    "## IDL Only"
   ]
  },
  {
   "cell_type": "code",
   "execution_count": 71,
   "metadata": {},
   "outputs": [],
   "source": [
    "idl_train_logs = {\n",
    "  'train_likelihoods': [],\n",
    "  'val_likelihoods': [],\n",
    "  'tp_lls': [],\n",
    "  'tt_lls': [],\n",
    "  'vp_lls': [],\n",
    "  'vt_lls': [],\n",
    "  'true_trans_loss': []\n",
    "}"
   ]
  },
  {
   "cell_type": "code",
   "execution_count": 72,
   "metadata": {},
   "outputs": [],
   "source": [
    "maxiter = 500\n",
    "learning_rate = 0.25"
   ]
  },
  {
   "cell_type": "code",
   "execution_count": 73,
   "metadata": {},
   "outputs": [],
   "source": [
    "Ti_thetas = T_estimate(adt_obs[train_demo_example_idxes])\n",
    "Qi, Ri = None, mdp.rewards"
   ]
  },
  {
   "cell_type": "code",
   "execution_count": 74,
   "metadata": {
    "scrolled": true
   },
   "outputs": [
    {
     "name": "stdout",
     "output_type": "stream",
     "text": [
      "0.8155892950960747\n",
      "0.9999999714285724\n",
      "0.9999999714285724\n",
      "0.8102940727724945\n",
      "0.8047617607710092\n",
      "0.08365020117393523\n",
      "0.8102940727724945\n",
      "0.9999999714285724\n",
      "0.9999999714285724\n",
      "0.9999999714285724\n",
      "0.8102940727724945\n",
      "0.9999999714285724\n",
      "0.9999999714285724\n",
      "0.8155892950960747\n",
      "0.9999999714285724\n",
      "0.9999999714285724\n",
      "0.8102940727724945\n",
      "0.9999999714285724\n",
      "0.9999999714285724\n",
      "0.9999999714285724\n",
      "0.8155892950960747\n",
      "0.8102940727724945\n",
      "0.9999999714285724\n",
      "0.9999999714285724\n",
      "0.9999999714285724\n",
      "0.8102940727724945\n",
      "0.9999999714285724\n",
      "0.9999999714285724\n",
      "0.8102940727724945\n",
      "0.9999999714285724\n",
      "0.07500000919117582\n",
      "0.9999999714285724\n",
      "0.8047617607710092\n",
      "0.8102940727724945\n",
      "0.10937507080072592\n",
      "0.9999999714285724\n",
      "0.9999999714285724\n",
      "0.9999999714285724\n",
      "0.8047617607710092\n",
      "0.9999999714285724\n",
      "0.8102940727724945\n",
      "0.10076046570718006\n",
      "0.8155892950960747\n",
      "0.9999999714285724\n",
      "0.8155892950960747\n",
      "0.9999999714285724\n",
      "0.9999999714285724\n",
      "0.9999999714285724\n",
      "0.8155892950960747\n",
      "0.8102940727724945\n",
      "0.9999999714285724\n",
      "0.8102940727724945\n",
      "0.9999999714285724\n",
      "0.8047617607710092\n",
      "0.8155892950960747\n",
      "0.8102940727724945\n",
      "0.9999999714285724\n",
      "0.9999999714285724\n",
      "0.9999999714285724\n",
      "0.8047617607710092\n",
      "0.9999999714285724\n",
      "0.8102940727724945\n",
      "0.8102940727724945\n",
      "0.07500000919117582\n",
      "0.8102940727724945\n",
      "0.9999999714285724\n",
      "0.9999999714285724\n",
      "0.8102940727724945\n",
      "0.9999999714285724\n",
      "0.8155892950960747\n",
      "0.9999999714285724\n",
      "0.11470588862456707\n",
      "0.9999999714285724\n",
      "0.8102940727724945\n",
      "0.8047617607710092\n",
      "0.9999999714285724\n",
      "0.8155892950960747\n",
      "0.8102940727724945\n",
      "0.9999999714285724\n",
      "0.8102940727724945\n",
      "0.9999999714285724\n",
      "0.8102940727724945\n",
      "0.9999999714285724\n",
      "0.9999999714285724\n",
      "0.9999999714285724\n",
      "0.08365020117393523\n",
      "0.8102940727724945\n",
      "0.8102940727724945\n",
      "0.8155892950960747\n",
      "0.9999999714285724\n",
      "0.8102940727724945\n",
      "0.8155892950960747\n",
      "0.9999999714285724\n",
      "0.8102940727724945\n",
      "0.7656245581058142\n",
      "0.9999999714285724\n",
      "0.8047617607710092\n",
      "0.9999999714285724\n",
      "0.9999999714285724\n",
      "0.9999999714285724\n",
      "0.08365020117393523\n",
      "0.9999999714285724\n",
      "0.9999999714285724\n",
      "0.8155892950960747\n",
      "0.8102940727724945\n",
      "0.8047617607710092\n",
      "0.9999999714285724\n",
      "0.8102940727724945\n",
      "0.8102940727724945\n",
      "0.9999999714285724\n",
      "0.9999999714285724\n",
      "0.8155892950960747\n",
      "0.9999999714285724\n",
      "0.9999999714285724\n",
      "0.8102940727724945\n",
      "0.8047617607710092\n",
      "0.9999999714285724\n",
      "0.8155892950960747\n",
      "0.9999999714285724\n",
      "0.8155892950960747\n",
      "0.9999999714285724\n",
      "0.8155892950960747\n",
      "0.11470588862456707\n",
      "0.8102940727724945\n",
      "0.8155892950960747\n",
      "0.8102940727724945\n",
      "0.9999999714285724\n",
      "0.9999999714285724\n",
      "0.9999999714285724\n",
      "0.7656245581058142\n",
      "0.9999999714285724\n",
      "0.8155892950960747\n",
      "0.11470588862456707\n",
      "0.12500005859370422\n",
      "0.8047617607710092\n",
      "0.9999999714285724\n",
      "0.9999999714285724\n",
      "0.8102940727724945\n",
      "0.9999999714285724\n",
      "0.9999999714285724\n",
      "0.9999999714285724\n",
      "0.9999999714285724\n",
      "0.9999999714285724\n",
      "0.8155892950960747\n",
      "0.8102940727724945\n",
      "0.9999999714285724\n",
      "0.9999999714285724\n",
      "0.8102940727724945\n",
      "0.9999999714285724\n",
      "0.9999999714285724\n",
      "0.8102940727724945\n",
      "0.9999999714285724\n",
      "0.9999999714285724\n",
      "0.9999999714285724\n",
      "0.9999999714285724\n",
      "0.9999999714285724\n",
      "0.8102940727724945\n",
      "0.11470588862456707\n",
      "0.10476192743763633\n",
      "0.8155892950960747\n",
      "0.9999999714285724\n",
      "0.8102940727724945\n",
      "0.9999999714285724\n",
      "0.8155892950960747\n",
      "0.9999999714285724\n",
      "0.9999999714285724\n",
      "0.8047617607710092\n",
      "0.08365020117393523\n",
      "0.9999999714285724\n",
      "0.9999999714285724\n",
      "0.9999999714285724\n",
      "0.8155892950960747\n",
      "0.8155892950960747\n",
      "0.9999999714285724\n",
      "0.9999999714285724\n",
      "0.8102940727724945\n",
      "0.9999999714285724\n",
      "0.9999999714285724\n",
      "0.9999999714285724\n",
      "0.9999999714285724\n",
      "0.9999999714285724\n",
      "0.9999999714285724\n",
      "0.07500000919117582\n",
      "0.8155892950960747\n",
      "0.9999999714285724\n",
      "0.8102940727724945\n",
      "0.9999999714285724\n",
      "0.9999999714285724\n",
      "0.8155892950960747\n",
      "0.8155892950960747\n",
      "0.8102940727724945\n",
      "0.8102940727724945\n",
      "0.7656245581058142\n",
      "0.9999999714285724\n",
      "0.9999999714285724\n",
      "0.8155892950960747\n",
      "0.09047621655328178\n",
      "0.9999999714285724\n",
      "0.8155892950960747\n",
      "0.08365020117393523\n",
      "0.9999999714285724\n",
      "0.09047621655328178\n",
      "0.9999999714285724\n",
      "0.9999999714285724\n",
      "0.9999999714285724\n",
      "0.9999999714285724\n",
      "0.8102940727724945\n",
      "0.9999999714285724\n",
      "0.9999999714285724\n",
      "0.11470588862456707\n",
      "0.9999999714285724\n",
      "0.9999999714285724\n",
      "0.8155892950960747\n",
      "0.9999999714285724\n",
      "0.8047617607710092\n",
      "0.9999999714285724\n",
      "0.9999999714285724\n",
      "0.8102940727724945\n",
      "0.8155892950960747\n",
      "0.9999999714285724\n",
      "0.8102940727724945\n",
      "0.8155892950960747\n",
      "0.8155892950960747\n",
      "0.8102940727724945\n",
      "0.8155892950960747\n",
      "0.9999999714285724\n",
      "0.9999999714285724\n",
      "0.9999999714285724\n",
      "0.9999999714285724\n",
      "0.9999999714285724\n",
      "0.8102940727724945\n",
      "0.9999999714285724\n",
      "0.9999999714285724\n",
      "0.8102940727724945\n",
      "0.9999999714285724\n",
      "0.8155892950960747\n",
      "0.9999999714285724\n",
      "0.9999999714285724\n",
      "0.11470588862456707\n",
      "0.9999999714285724\n",
      "0.8155892950960747\n",
      "0.9999999714285724\n",
      "0.8047617607710092\n",
      "0.9999999714285724\n",
      "0.11470588862456707\n",
      "0.8102940727724945\n",
      "0.8155892950960747\n",
      "0.9999999714285724\n",
      "0.8102940727724945\n",
      "0.8155892950960747\n",
      "0.8155892950960747\n",
      "0.8155892950960747\n",
      "0.10076046570718006\n",
      "0.9999999714285724\n",
      "0.11470588862456707\n",
      "0.7656245581058142\n",
      "0.9999999714285724\n",
      "0.9999999714285724\n",
      "0.9999999714285724\n",
      "0.8102940727724945\n",
      "0.8155892950960747\n",
      "0.9999999714285724\n",
      "0.9999999714285724\n",
      "0.9999999714285724\n",
      "0.8155892950960747\n",
      "0.8047617607710092\n",
      "0.9999999714285724\n",
      "0.8155892950960747\n",
      "0.8155892950960747\n",
      "0.8102940727724945\n",
      "0.9999999714285724\n",
      "0.9999999714285724\n",
      "0.8102940727724945\n",
      "0.8155892950960747\n",
      "0.8102940727724945\n",
      "0.9999999714285724\n",
      "0.08365020117393523\n",
      "0.8155892950960747\n",
      "0.9999999714285724\n",
      "0.07500000919117582\n",
      "0.9999999714285724\n",
      "0.8047617607710092\n",
      "0.8102940727724945\n",
      "0.10076046570718006\n",
      "0.9999999714285724\n",
      "0.9999999714285724\n",
      "0.9999999714285724\n",
      "0.9999999714285724\n",
      "0.9999999714285724\n",
      "0.8155892950960747\n",
      "0.9999999714285724\n",
      "0.8047617607710092\n",
      "0.9999999714285724\n",
      "0.11470588862456707\n",
      "0.8102940727724945\n",
      "0.8102940727724945\n",
      "0.9999999714285724\n",
      "0.8102940727724945\n",
      "0.8102940727724945\n",
      "0.9999999714285724\n",
      "0.9999999714285724\n",
      "0.9999999714285724\n",
      "0.9999999714285724\n",
      "0.9999999714285724\n",
      "0.9999999714285724\n",
      "0.8155892950960747\n",
      "0.10076046570718006\n",
      "0.9999999714285724\n",
      "0.8102940727724945\n",
      "0.8102940727724945\n",
      "0.9999999714285724\n",
      "0.8102940727724945\n",
      "0.8047617607710092\n",
      "0.8102940727724945\n",
      "0.9999999714285724\n",
      "0.9999999714285724\n",
      "0.9999999714285724\n",
      "0.8047617607710092\n",
      "0.9999999714285724\n",
      "0.9999999714285724\n",
      "0.9999999714285724\n",
      "0.9999999714285724\n",
      "0.8102940727724945\n",
      "0.8102940727724945\n",
      "0.8102940727724945\n",
      "0.9999999714285724\n",
      "0.9999999714285724\n",
      "0.8102940727724945\n",
      "0.8155892950960747\n",
      "0.10076046570718006\n",
      "0.07500000919117582\n",
      "0.9999999714285724\n",
      "0.8155892950960747\n",
      "0.8155892950960747\n",
      "0.9999999714285724\n",
      "0.9999999714285724\n",
      "0.9999999714285724\n",
      "0.8155892950960747\n",
      "0.9999999714285724\n",
      "0.8155892950960747\n",
      "0.8047617607710092\n",
      "0.8155892950960747\n",
      "0.8102940727724945\n",
      "0.8047617607710092\n",
      "0.9999999714285724\n",
      "0.9999999714285724\n",
      "0.9999999714285724\n",
      "0.9999999714285724\n",
      "0.9999999714285724\n",
      "0.8155892950960747\n",
      "0.9999999714285724\n",
      "0.9999999714285724\n",
      "0.9999999714285724\n",
      "0.07500000919117582\n",
      "0.9999999714285724\n",
      "0.8102940727724945\n",
      "0.9999999714285724\n",
      "0.9999999714285724\n",
      "0.11470588862456707\n",
      "0.9999999714285724\n",
      "0.9999999714285724\n",
      "0.8155892950960747\n",
      "0.8102940727724945\n",
      "0.9999999714285724\n",
      "0.9999999714285724\n",
      "0.9999999714285724\n",
      "0.9999999714285724\n",
      "0.9999999714285724\n",
      "0.8155892950960747\n",
      "0.8047617607710092\n",
      "0.8047617607710092\n",
      "0.8047617607710092\n",
      "0.10937507080072592\n",
      "0.9999999714285724\n",
      "0.9999999714285724\n",
      "0.8155892950960747\n",
      "0.9999999714285724\n",
      "0.9999999714285724\n",
      "0.11470588862456707\n",
      "0.8155892950960747\n",
      "0.8155892950960747\n",
      "0.09047621655328178\n",
      "0.11470588862456707\n",
      "0.8047617607710092\n",
      "0.8155892950960747\n",
      "0.09047621655328178\n",
      "0.07500000919117582\n",
      "0.9999999714285724\n",
      "0.8155892950960747\n",
      "0.10076046570718006\n",
      "0.9999999714285724\n",
      "0.08365020117393523\n",
      "0.8155892950960747\n",
      "0.9999999714285724\n",
      "0.9999999714285724\n",
      "0.8047617607710092\n",
      "0.8102940727724945\n",
      "0.9999999714285724\n",
      "0.9999999714285724\n",
      "0.8102940727724945\n",
      "0.8102940727724945\n",
      "0.9999999714285724\n",
      "0.9999999714285724\n",
      "0.9999999714285724\n",
      "0.8102940727724945\n",
      "0.10476192743763633\n",
      "0.8155892950960747\n",
      "0.9999999714285724\n",
      "0.8102940727724945\n",
      "0.9999999714285724\n",
      "0.9999999714285724\n",
      "0.09047621655328178\n",
      "0.8102940727724945\n",
      "0.8102940727724945\n",
      "0.8047617607710092\n",
      "0.9999999714285724\n",
      "0.9999999714285724\n",
      "0.8102940727724945\n",
      "0.8155892950960747\n",
      "0.9999999714285724\n",
      "0.9999999714285724\n",
      "0.08365020117393523\n",
      "0.9999999714285724\n",
      "0.9999999714285724\n",
      "0.9999999714285724\n",
      "0.8102940727724945\n",
      "0.9999999714285724\n",
      "0.9999999714285724\n",
      "0.9999999714285724\n",
      "0.9999999714285724\n",
      "0.8102940727724945\n",
      "0.9999999714285724\n",
      "0.8155892950960747\n",
      "0.8155892950960747\n",
      "0.8047617607710092\n",
      "0.9999999714285724\n",
      "0.9999999714285724\n",
      "0.9999999714285724\n",
      "0.9999999714285724\n",
      "0.8047617607710092\n",
      "0.08365020117393523\n",
      "0.8155892950960747\n",
      "0.10076046570718006\n",
      "0.9999999714285724\n",
      "0.8047617607710092\n",
      "0.9999999714285724\n",
      "0.9999999714285724\n",
      "0.9999999714285724\n",
      "0.9999999714285724\n",
      "0.07500000919117582\n",
      "0.8155892950960747\n",
      "0.8102940727724945\n",
      "0.8047617607710092\n",
      "0.8102940727724945\n",
      "0.9999999714285724\n",
      "0.9999999714285724\n",
      "0.08365020117393523\n",
      "0.9999999714285724\n",
      "0.8155892950960747\n",
      "0.9999999714285724\n",
      "0.8047617607710092\n",
      "0.9999999714285724\n",
      "0.9999999714285724\n",
      "0.9999999714285724\n",
      "0.9999999714285724\n",
      "0.8102940727724945\n",
      "0.08365020117393523\n",
      "0.9999999714285724\n",
      "0.9999999714285724\n",
      "0.8155892950960747\n",
      "0.9999999714285724\n",
      "0.9999999714285724\n",
      "0.8155892950960747\n",
      "0.9999999714285724\n",
      "0.8155892950960747\n",
      "0.9999999714285724\n",
      "0.8155892950960747\n",
      "0.8155892950960747\n",
      "0.8102940727724945\n",
      "0.7656245581058142\n",
      "0.07500000919117582\n",
      "0.8155892950960747\n",
      "0.9999999714285724\n",
      "0.8155892950960747\n",
      "0.8047617607710092\n",
      "0.9999999714285724\n",
      "0.9999999714285724\n",
      "0.9999999714285724\n",
      "0.8102940727724945\n",
      "0.9999999714285724\n",
      "0.8047617607710092\n",
      "0.9999999714285724\n",
      "0.9999999714285724\n",
      "0.9999999714285724\n",
      "0.9999999714285724\n",
      "0.9999999714285724\n",
      "0.9999999714285724\n",
      "0.9999999714285724\n",
      "0.8102940727724945\n",
      "0.8102940727724945\n",
      "0.9999999714285724\n",
      "0.8155892950960747\n",
      "0.9999999714285724\n",
      "0.8102940727724945\n",
      "0.9999999714285724\n",
      "0.9999999714285724\n",
      "0.9999999714285724\n",
      "0.11470588862456707\n",
      "0.8102940727724945\n",
      "0.8155892950960747\n",
      "0.9999999714285724\n",
      "0.8155892950960747\n",
      "0.10076046570718006\n",
      "0.8047617607710092\n",
      "0.9999999714285724\n",
      "0.8155892950960747\n",
      "0.9999999714285724\n",
      "0.8047617607710092\n",
      "0.9999999714285724\n",
      "0.9999999714285724\n",
      "0 -467.407100 -106.295383 -573.702483 2.229799\n"
     ]
    },
    {
     "name": "stdout",
     "output_type": "stream",
     "text": [
      "0.99999997142857\n",
      "0.99999997142857\n",
      "0.99999997142857\n",
      "0.10603958595122986\n",
      "0.8176190962336298\n",
      "0.99999997142857\n",
      "0.7621199822606981\n",
      "0.99999997142857\n",
      "0.99999997142857\n",
      "0.8105189533845016\n",
      "0.8176190962336298\n",
      "0.99999997142857\n",
      "0.8105189533845016\n",
      "0.99999997142857\n",
      "0.8105189533845016\n",
      "0.99999997142857\n",
      "0.99999997142857\n",
      "0.99999997142857\n",
      "0.99999997142857\n",
      "0.8105189533845016\n",
      "0.99999997142857\n",
      "0.11494474650465425\n",
      "0.8176190962336298\n",
      "0.11494474650465425\n",
      "0.99999997142857\n",
      "0.99999997142857\n",
      "0.8105189533845016\n",
      "0.99999997142857\n",
      "0.8021700483695251\n",
      "0.99999997142857\n",
      "0.99999997142857\n",
      "0.07453627073675059\n",
      "0.8105189533845016\n",
      "0.8105189533845016\n",
      "0.8176190962336298\n",
      "0.8021700483695251\n",
      "0.99999997142857\n",
      "0.8176190962336298\n",
      "0.99999997142857\n",
      "0.8176190962336298\n",
      "0.8021700483695251\n",
      "0.99999997142857\n",
      "0.8021700483695251\n",
      "0.99999997142857\n",
      "0.8105189533845016\n",
      "0.8176190962336298\n",
      "0.99999997142857\n",
      "0.8105189533845016\n",
      "0.99999997142857\n",
      "0.10603958595122986\n",
      "0.99999997142857\n",
      "0.99999997142857\n",
      "0.99999997142857\n",
      "0.8021700483695251\n",
      "0.99999997142857\n",
      "0.09179026969810851\n",
      "0.99999997142857\n",
      "0.8105189533845016\n",
      "0.8105189533845016\n",
      "0.11494474650465425\n",
      "0.99999997142857\n",
      "0.99999997142857\n",
      "0.7621199822606981\n",
      "0.8176190962336298\n",
      "0.8105189533845016\n",
      "0.8105189533845016\n",
      "0.99999997142857\n",
      "0.99999997142857\n",
      "0.99999997142857\n",
      "0.8105189533845016\n",
      "0.8176190962336298\n",
      "0.8105189533845016\n",
      "0.8105189533845016\n",
      "0.99999997142857\n",
      "0.99999997142857\n",
      "0.8176190962336298\n",
      "0.8105189533845016\n",
      "0.8105189533845016\n",
      "0.99999997142857\n",
      "0.8176190962336298\n",
      "0.8021700483695251\n",
      "0.99999997142857\n",
      "0.99999997142857\n",
      "0.8176190962336298\n",
      "0.08259480989437581\n",
      "0.08259480989437581\n",
      "0.99999997142857\n",
      "0.8021700483695251\n",
      "0.99999997142857\n",
      "0.8105189533845016\n",
      "0.99999997142857\n",
      "0.99999997142857\n",
      "0.8105189533845016\n",
      "0.08259480989437581\n",
      "0.99999997142857\n",
      "0.99999997142857\n",
      "0.8105189533845016\n",
      "0.99999997142857\n",
      "0.8105189533845016\n",
      "0.99999997142857\n",
      "0.8105189533845016\n",
      "0.99999997142857\n",
      "0.99999997142857\n",
      "0.8021700483695251\n",
      "0.99999997142857\n",
      "0.99999997142857\n",
      "0.8021700483695251\n",
      "0.99999997142857\n",
      "0.99999997142857\n",
      "0.8105189533845016\n",
      "0.11090282176068562\n",
      "0.8105189533845016\n",
      "0.1269768808665162\n",
      "0.8105189533845016\n",
      "0.99999997142857\n",
      "0.8176190962336298\n",
      "0.99999997142857\n",
      "0.99999997142857\n",
      "0.7621199822606981\n",
      "0.99999997142857\n",
      "0.8021700483695251\n",
      "0.8176190962336298\n",
      "0.07453627073675059\n",
      "0.99999997142857\n",
      "0.99999997142857\n",
      "0.8176190962336298\n",
      "0.11494474650465425\n",
      "0.99999997142857\n",
      "0.8105189533845016\n",
      "0.99999997142857\n",
      "0.8176190962336298\n",
      "0.99999997142857\n",
      "0.99999997142857\n",
      "0.8105189533845016\n",
      "0.07453627073675059\n",
      "0.99999997142857\n",
      "0.99999997142857\n",
      "0.8105189533845016\n",
      "0.8105189533845016\n",
      "0.99999997142857\n",
      "0.99999997142857\n",
      "0.99999997142857\n",
      "0.8105189533845016\n",
      "0.99999997142857\n",
      "0.99999997142857\n",
      "0.8176190962336298\n",
      "0.99999997142857\n",
      "0.8176190962336298\n",
      "0.07453627073675059\n",
      "0.8105189533845016\n",
      "0.99999997142857\n",
      "0.8176190962336298\n",
      "0.8176190962336298\n",
      "0.8105189533845016\n",
      "0.99999997142857\n",
      "0.99999997142857\n",
      "0.08259480989437581\n",
      "0.99999997142857\n",
      "0.99999997142857\n",
      "0.11090282176068562\n",
      "0.8105189533845016\n",
      "0.99999997142857\n",
      "0.99999997142857\n",
      "0.99999997142857\n",
      "0.99999997142857\n",
      "0.99999997142857\n",
      "0.8176190962336298\n",
      "0.99999997142857\n",
      "0.8021700483695251\n",
      "0.99999997142857\n",
      "0.8105189533845016\n",
      "0.8105189533845016\n",
      "0.8105189533845016\n",
      "0.8105189533845016\n",
      "0.8021700483695251\n",
      "0.99999997142857\n",
      "0.8105189533845016\n",
      "0.99999997142857\n",
      "0.8105189533845016\n",
      "0.99999997142857\n",
      "0.8021700483695251\n",
      "0.07453627073675059\n",
      "0.8105189533845016\n",
      "0.99999997142857\n",
      "0.99999997142857\n",
      "0.99999997142857\n",
      "0.8105189533845016\n",
      "0.99999997142857\n",
      "0.11494474650465425\n",
      "0.99999997142857\n",
      "0.8105189533845016\n",
      "0.99999997142857\n",
      "0.99999997142857\n",
      "0.99999997142857\n",
      "0.99999997142857\n",
      "0.8021700483695251\n",
      "0.8105189533845016\n",
      "0.8105189533845016\n",
      "0.8176190962336298\n",
      "0.8176190962336298\n",
      "0.99999997142857\n",
      "0.09179026969810851\n",
      "0.99999997142857\n",
      "0.99999997142857\n",
      "0.99999997142857\n",
      "0.99999997142857\n",
      "0.8105189533845016\n",
      "0.99999997142857\n",
      "0.99999997142857\n",
      "0.11494474650465425\n",
      "0.99999997142857\n",
      "0.99999997142857\n",
      "0.8176190962336298\n",
      "0.99999997142857\n",
      "0.8021700483695251\n",
      "0.99999997142857\n",
      "0.99999997142857\n",
      "0.8105189533845016\n",
      "0.8176190962336298\n",
      "0.99999997142857\n",
      "0.8105189533845016\n",
      "0.8176190962336298\n",
      "0.8176190962336298\n",
      "0.8105189533845016\n",
      "0.8176190962336298\n",
      "0.99999997142857\n",
      "0.99999997142857\n",
      "0.99999997142857\n",
      "0.99999997142857\n",
      "0.99999997142857\n",
      "0.8105189533845016\n",
      "0.99999997142857\n",
      "0.99999997142857\n",
      "0.8105189533845016\n",
      "0.99999997142857\n",
      "0.8176190962336298\n",
      "0.99999997142857\n",
      "0.99999997142857\n",
      "0.11494474650465425\n",
      "0.99999997142857\n",
      "0.8176190962336298\n",
      "0.99999997142857\n",
      "0.8021700483695251\n",
      "0.99999997142857\n",
      "0.11494474650465425\n",
      "0.8105189533845016\n",
      "0.8176190962336298\n",
      "0.99999997142857\n",
      "0.8105189533845016\n",
      "0.8176190962336298\n",
      "0.8176190962336298\n",
      "0.8176190962336298\n",
      "0.09978605610093233\n",
      "0.99999997142857\n",
      "0.11494474650465425\n",
      "0.7621199822606981\n",
      "0.99999997142857\n",
      "0.99999997142857\n",
      "0.99999997142857\n",
      "0.8105189533845016\n",
      "0.8176190962336298\n",
      "0.99999997142857\n",
      "0.99999997142857\n",
      "0.99999997142857\n",
      "0.8176190962336298\n",
      "0.8021700483695251\n",
      "0.99999997142857\n",
      "0.8176190962336298\n",
      "0.8176190962336298\n",
      "0.8105189533845016\n",
      "0.99999997142857\n",
      "0.99999997142857\n",
      "0.8105189533845016\n",
      "0.8176190962336298\n",
      "0.8105189533845016\n",
      "0.99999997142857\n",
      "0.08259480989437581\n",
      "0.8176190962336298\n",
      "0.99999997142857\n",
      "0.07453627073675059\n",
      "0.99999997142857\n",
      "0.8021700483695251\n",
      "0.8105189533845016\n",
      "0.09978605610093233\n",
      "0.99999997142857\n",
      "0.99999997142857\n",
      "0.99999997142857\n",
      "0.99999997142857\n",
      "0.99999997142857\n",
      "0.8176190962336298\n",
      "0.99999997142857\n",
      "0.8021700483695251\n",
      "0.99999997142857\n",
      "0.11494474650465425\n",
      "0.8105189533845016\n",
      "0.8105189533845016\n",
      "0.99999997142857\n",
      "0.8105189533845016\n",
      "0.8105189533845016\n",
      "0.99999997142857\n",
      "0.99999997142857\n",
      "0.99999997142857\n",
      "0.99999997142857\n",
      "0.99999997142857\n",
      "0.99999997142857\n",
      "0.8176190962336298\n",
      "0.09978605610093233\n",
      "0.99999997142857\n",
      "0.8105189533845016\n",
      "0.8105189533845016\n",
      "0.99999997142857\n",
      "0.8105189533845016\n",
      "0.8021700483695251\n",
      "0.8105189533845016\n",
      "0.99999997142857\n",
      "0.99999997142857\n",
      "0.99999997142857\n",
      "0.8021700483695251\n",
      "0.99999997142857\n",
      "0.99999997142857\n",
      "0.99999997142857\n",
      "0.99999997142857\n",
      "0.8105189533845016\n",
      "0.8105189533845016\n",
      "0.8105189533845016\n",
      "0.99999997142857\n",
      "0.99999997142857\n",
      "0.8105189533845016\n",
      "0.8176190962336298\n",
      "0.09978605610093233\n",
      "0.07453627073675059\n",
      "0.99999997142857\n",
      "0.8176190962336298\n",
      "0.8176190962336298\n",
      "0.99999997142857\n",
      "0.99999997142857\n",
      "0.99999997142857\n",
      "0.8176190962336298\n",
      "0.99999997142857\n",
      "0.8176190962336298\n",
      "0.8021700483695251\n",
      "0.8176190962336298\n",
      "0.8105189533845016\n",
      "0.8021700483695251\n",
      "0.99999997142857\n",
      "0.99999997142857\n",
      "0.99999997142857\n",
      "0.99999997142857\n",
      "0.99999997142857\n",
      "0.8176190962336298\n",
      "0.99999997142857\n",
      "0.99999997142857\n",
      "0.99999997142857\n",
      "0.07453627073675059\n",
      "0.99999997142857\n",
      "0.8105189533845016\n",
      "0.99999997142857\n",
      "0.99999997142857\n",
      "0.11494474650465425\n",
      "0.99999997142857\n",
      "0.99999997142857\n",
      "0.8176190962336298\n",
      "0.8105189533845016\n",
      "0.99999997142857\n",
      "0.99999997142857\n",
      "0.99999997142857\n",
      "0.99999997142857\n",
      "0.99999997142857\n",
      "0.8176190962336298\n",
      "0.8021700483695251\n",
      "0.8021700483695251\n",
      "0.8021700483695251\n",
      "0.11090282176068562\n",
      "0.99999997142857\n",
      "0.99999997142857\n",
      "0.8176190962336298\n",
      "0.99999997142857\n",
      "0.99999997142857\n",
      "0.11494474650465425\n",
      "0.8176190962336298\n",
      "0.8176190962336298\n",
      "0.09179026969810851\n",
      "0.11494474650465425\n",
      "0.8021700483695251\n",
      "0.8176190962336298\n",
      "0.09179026969810851\n",
      "0.07453627073675059\n",
      "0.99999997142857\n",
      "0.8176190962336298\n",
      "0.09978605610093233\n",
      "0.99999997142857\n",
      "0.08259480989437581\n",
      "0.8176190962336298\n",
      "0.99999997142857\n",
      "0.99999997142857\n",
      "0.8021700483695251\n",
      "0.8105189533845016\n",
      "0.99999997142857\n",
      "0.99999997142857\n",
      "0.8105189533845016\n",
      "0.8105189533845016\n",
      "0.99999997142857\n",
      "0.99999997142857\n",
      "0.99999997142857\n",
      "0.8105189533845016\n",
      "0.10603958595122986\n",
      "0.8176190962336298\n",
      "0.99999997142857\n",
      "0.8105189533845016\n",
      "0.99999997142857\n",
      "0.99999997142857\n",
      "0.09179026969810851\n",
      "0.8105189533845016\n",
      "0.8105189533845016\n",
      "0.8021700483695251\n",
      "0.99999997142857\n",
      "0.99999997142857\n",
      "0.8105189533845016\n",
      "0.8176190962336298\n",
      "0.99999997142857\n",
      "0.99999997142857\n",
      "0.08259480989437581\n",
      "0.99999997142857\n",
      "0.99999997142857\n",
      "0.99999997142857\n",
      "0.8105189533845016\n",
      "0.99999997142857\n",
      "0.99999997142857\n",
      "0.99999997142857\n",
      "0.99999997142857\n",
      "0.8105189533845016\n",
      "0.99999997142857\n",
      "0.8176190962336298\n",
      "0.8176190962336298\n",
      "0.8021700483695251\n",
      "0.99999997142857\n",
      "0.99999997142857\n",
      "0.99999997142857\n",
      "0.99999997142857\n",
      "0.8021700483695251\n",
      "0.08259480989437581\n",
      "0.8176190962336298\n",
      "0.09978605610093233\n",
      "0.99999997142857\n",
      "0.8021700483695251\n",
      "0.99999997142857\n",
      "0.99999997142857\n",
      "0.99999997142857\n",
      "0.99999997142857\n",
      "0.07453627073675059\n",
      "0.8176190962336298\n",
      "0.8105189533845016\n",
      "0.8021700483695251\n",
      "0.8105189533845016\n",
      "0.99999997142857\n",
      "0.99999997142857\n",
      "0.08259480989437581\n",
      "0.99999997142857\n",
      "0.8176190962336298\n",
      "0.99999997142857\n",
      "0.8021700483695251\n",
      "0.99999997142857\n",
      "0.99999997142857\n",
      "0.99999997142857\n",
      "0.99999997142857\n",
      "0.8105189533845016\n",
      "0.08259480989437581\n",
      "0.99999997142857\n",
      "0.99999997142857\n",
      "0.8176190962336298\n",
      "0.99999997142857\n",
      "0.99999997142857\n",
      "0.8176190962336298\n",
      "0.99999997142857\n",
      "0.8176190962336298\n",
      "0.99999997142857\n",
      "0.8176190962336298\n",
      "0.8176190962336298\n",
      "0.8105189533845016\n",
      "0.7621199822606981\n",
      "0.07453627073675059\n",
      "0.8176190962336298\n",
      "0.99999997142857\n",
      "0.8176190962336298\n",
      "0.8021700483695251\n",
      "0.99999997142857\n",
      "0.99999997142857\n",
      "0.99999997142857\n",
      "0.8105189533845016\n",
      "0.99999997142857\n",
      "0.8021700483695251\n",
      "0.99999997142857\n",
      "0.99999997142857\n",
      "0.99999997142857\n",
      "0.99999997142857\n",
      "0.99999997142857\n",
      "0.99999997142857\n",
      "0.99999997142857\n",
      "0.8105189533845016\n",
      "0.8105189533845016\n",
      "0.99999997142857\n",
      "0.8176190962336298\n",
      "0.99999997142857\n",
      "0.8105189533845016\n",
      "0.99999997142857\n",
      "0.99999997142857\n",
      "0.99999997142857\n",
      "0.11494474650465425\n",
      "0.8105189533845016\n",
      "0.8176190962336298\n",
      "0.99999997142857\n",
      "0.8176190962336298\n",
      "0.09978605610093233\n",
      "0.8021700483695251\n",
      "0.99999997142857\n",
      "0.8176190962336298\n",
      "0.99999997142857\n",
      "0.8021700483695251\n",
      "0.99999997142857\n",
      "0.99999997142857\n",
      "1 -466.214439 -106.318706 -572.533145 2.229014\n"
     ]
    },
    {
     "name": "stdout",
     "output_type": "stream",
     "text": [
      "0.9999999714285673\n",
      "0.7514835738867125\n",
      "0.8165977564287611\n",
      "0.8165977564287611\n",
      "0.8165977564287611\n",
      "0.0829398804771872\n",
      "0.8158349877496786\n",
      "0.9999999714285673\n",
      "0.8165977564287611\n",
      "0.8165977564287611\n",
      "0.9999999714285673\n",
      "0.9999999714285673\n",
      "0.7990739071954913\n",
      "0.8158349877496786\n",
      "0.9999999714285673\n",
      "0.9999999714285673\n",
      "0.9999999714285673\n",
      "0.8165977564287611\n",
      "0.8158349877496786\n",
      "0.11249786621516403\n",
      "0.8158349877496786\n",
      "0.9999999714285673\n",
      "0.7990739071954913\n",
      "0.8165977564287611\n",
      "0.7990739071954913\n",
      "0.9999999714285673\n",
      "0.8165977564287611\n",
      "0.9999999714285673\n",
      "0.8158349877496786\n",
      "0.8158349877496786\n",
      "0.9999999714285673\n",
      "0.8158349877496786\n",
      "0.11249786621516403\n",
      "0.8158349877496786\n",
      "0.9999999714285673\n",
      "0.9999999714285673\n",
      "0.8158349877496786\n",
      "0.8165977564287611\n",
      "0.9999999714285673\n",
      "0.8158349877496786\n",
      "0.9999999714285673\n",
      "0.8165977564287611\n",
      "0.11249786621516403\n",
      "0.9999999714285673\n",
      "0.9999999714285673\n",
      "0.8158349877496786\n",
      "0.9999999714285673\n",
      "0.9999999714285673\n",
      "0.9999999714285673\n",
      "0.9999999714285673\n",
      "0.9999999714285673\n",
      "0.9999999714285673\n",
      "0.8165977564287611\n",
      "0.8158349877496786\n",
      "0.8158349877496786\n",
      "0.8165977564287611\n",
      "0.9999999714285673\n",
      "0.9999999714285673\n",
      "0.11249786621516403\n",
      "0.9999999714285673\n",
      "0.8165977564287611\n",
      "0.9999999714285673\n",
      "0.7514835738867125\n",
      "0.7990739071954913\n",
      "0.9999999714285673\n",
      "0.8165977564287611\n",
      "0.9999999714285673\n",
      "0.9999999714285673\n",
      "0.9999999714285673\n",
      "0.9999999714285673\n",
      "0.8165977564287611\n",
      "0.8158349877496786\n",
      "0.9999999714285673\n",
      "0.8165977564287611\n",
      "0.8165977564287611\n",
      "0.9999999714285673\n",
      "0.9999999714285673\n",
      "0.9999999714285673\n",
      "0.9999999714285673\n",
      "0.9999999714285673\n",
      "0.9999999714285673\n",
      "0.11249786621516403\n",
      "0.8165977564287611\n",
      "0.9999999714285673\n",
      "0.9999999714285673\n",
      "0.0934163814615646\n",
      "0.8158349877496786\n",
      "0.9999999714285673\n",
      "0.8158349877496786\n",
      "0.9999999714285673\n",
      "0.11249786621516403\n",
      "0.9999999714285673\n",
      "0.8165977564287611\n",
      "0.0934163814615646\n",
      "0.7990739071954913\n",
      "0.8165977564287611\n",
      "0.8158349877496786\n",
      "0.9999999714285673\n",
      "0.9999999714285673\n",
      "0.7514835738867125\n",
      "0.8158349877496786\n",
      "0.9999999714285673\n",
      "0.9999999714285673\n",
      "0.8165977564287611\n",
      "0.8165977564287611\n",
      "0.11249786621516403\n",
      "0.8158349877496786\n",
      "0.9999999714285673\n",
      "0.7514835738867125\n",
      "0.8158349877496786\n",
      "0.9999999714285673\n",
      "0.7514835738867125\n",
      "0.9999999714285673\n",
      "0.7990739071954913\n",
      "0.11249786621516403\n",
      "0.9999999714285673\n",
      "0.8158349877496786\n",
      "0.11249786621516403\n",
      "0.7990739071954913\n",
      "0.7990739071954913\n",
      "0.9999999714285673\n",
      "0.11249786621516403\n",
      "0.9999999714285673\n",
      "0.9999999714285673\n",
      "0.8165977564287611\n",
      "0.9999999714285673\n",
      "0.9999999714285673\n",
      "0.9999999714285673\n",
      "0.0829398804771872\n",
      "0.07166711718731529\n",
      "0.9999999714285673\n",
      "0.8158349877496786\n",
      "0.8158349877496786\n",
      "0.9999999714285673\n",
      "0.9999999714285673\n",
      "0.9999999714285673\n",
      "0.9999999714285673\n",
      "0.9999999714285673\n",
      "0.7990739071954913\n",
      "0.9999999714285673\n",
      "0.8158349877496786\n",
      "0.9999999714285673\n",
      "0.9999999714285673\n",
      "0.8165977564287611\n",
      "0.10046232520099954\n",
      "0.9999999714285673\n",
      "0.9999999714285673\n",
      "0.07166711718731529\n",
      "0.9999999714285673\n",
      "0.8165977564287611\n",
      "0.8158349877496786\n",
      "0.9999999714285673\n",
      "0.8165977564287611\n",
      "0.9999999714285673\n",
      "0.8165977564287611\n",
      "0.8158349877496786\n",
      "0.9999999714285673\n",
      "0.8165977564287611\n",
      "0.8158349877496786\n",
      "0.8165977564287611\n",
      "0.9999999714285673\n",
      "0.9999999714285673\n",
      "0.9999999714285673\n",
      "0.9999999714285673\n",
      "0.9999999714285673\n",
      "0.9999999714285673\n",
      "0.9999999714285673\n",
      "0.8158349877496786\n",
      "0.8158349877496786\n",
      "0.0829398804771872\n",
      "0.9999999714285673\n",
      "0.8158349877496786\n",
      "0.8165977564287611\n",
      "0.7514835738867125\n",
      "0.9999999714285673\n",
      "0.9999999714285673\n",
      "0.10046232520099954\n",
      "0.9999999714285673\n",
      "0.9999999714285673\n",
      "0.9999999714285673\n",
      "0.9999999714285673\n",
      "0.8165977564287611\n",
      "0.8158349877496786\n",
      "0.9999999714285673\n",
      "0.9999999714285673\n",
      "0.8165977564287611\n",
      "0.9999999714285673\n",
      "0.9999999714285673\n",
      "0.9999999714285673\n",
      "0.9999999714285673\n",
      "0.8165977564287611\n",
      "0.8158349877496786\n",
      "0.8158349877496786\n",
      "0.9999999714285673\n",
      "0.8158349877496786\n",
      "0.9999999714285673\n",
      "0.9999999714285673\n",
      "0.9999999714285673\n",
      "0.9999999714285673\n",
      "0.9999999714285673\n",
      "0.9999999714285673\n",
      "0.0934163814615646\n",
      "0.9999999714285673\n",
      "0.9999999714285673\n",
      "0.9999999714285673\n",
      "0.9999999714285673\n",
      "0.8158349877496786\n",
      "0.9999999714285673\n",
      "0.9999999714285673\n",
      "0.11249786621516403\n",
      "0.9999999714285673\n",
      "0.9999999714285673\n",
      "0.8165977564287611\n",
      "0.9999999714285673\n",
      "0.7990739071954913\n",
      "0.9999999714285673\n",
      "0.9999999714285673\n",
      "0.8158349877496786\n",
      "0.8165977564287611\n",
      "0.9999999714285673\n",
      "0.8158349877496786\n",
      "0.8165977564287611\n",
      "0.8165977564287611\n",
      "0.8158349877496786\n",
      "0.8165977564287611\n",
      "0.9999999714285673\n",
      "0.9999999714285673\n",
      "0.9999999714285673\n",
      "0.9999999714285673\n",
      "0.9999999714285673\n",
      "0.8158349877496786\n",
      "0.9999999714285673\n",
      "0.9999999714285673\n",
      "0.8158349877496786\n",
      "0.9999999714285673\n",
      "0.8165977564287611\n",
      "0.9999999714285673\n",
      "0.9999999714285673\n",
      "0.11249786621516403\n",
      "0.9999999714285673\n",
      "0.8165977564287611\n",
      "0.9999999714285673\n",
      "0.7990739071954913\n",
      "0.9999999714285673\n",
      "0.11249786621516403\n",
      "0.8158349877496786\n",
      "0.8165977564287611\n",
      "0.9999999714285673\n",
      "0.8158349877496786\n",
      "0.8165977564287611\n",
      "0.8165977564287611\n",
      "0.8165977564287611\n",
      "0.10046232520099954\n",
      "0.9999999714285673\n",
      "0.11249786621516403\n",
      "0.7514835738867125\n",
      "0.9999999714285673\n",
      "0.9999999714285673\n",
      "0.9999999714285673\n",
      "0.8158349877496786\n",
      "0.8165977564287611\n",
      "0.9999999714285673\n",
      "0.9999999714285673\n",
      "0.9999999714285673\n",
      "0.8165977564287611\n",
      "0.7990739071954913\n",
      "0.9999999714285673\n",
      "0.8165977564287611\n",
      "0.8165977564287611\n",
      "0.8158349877496786\n",
      "0.9999999714285673\n",
      "0.9999999714285673\n",
      "0.8158349877496786\n",
      "0.8165977564287611\n",
      "0.8158349877496786\n",
      "0.9999999714285673\n",
      "0.0829398804771872\n",
      "0.8165977564287611\n",
      "0.9999999714285673\n",
      "0.07166711718731529\n",
      "0.9999999714285673\n",
      "0.7990739071954913\n",
      "0.8158349877496786\n",
      "0.10046232520099954\n",
      "0.9999999714285673\n",
      "0.9999999714285673\n",
      "0.9999999714285673\n",
      "0.9999999714285673\n",
      "0.9999999714285673\n",
      "0.8165977564287611\n",
      "0.9999999714285673\n",
      "0.7990739071954913\n",
      "0.9999999714285673\n",
      "0.11249786621516403\n",
      "0.8158349877496786\n",
      "0.8158349877496786\n",
      "0.9999999714285673\n",
      "0.8158349877496786\n",
      "0.8158349877496786\n",
      "0.9999999714285673\n",
      "0.9999999714285673\n",
      "0.9999999714285673\n",
      "0.9999999714285673\n",
      "0.9999999714285673\n",
      "0.9999999714285673\n",
      "0.8165977564287611\n",
      "0.10046232520099954\n",
      "0.9999999714285673\n",
      "0.8158349877496786\n",
      "0.8158349877496786\n",
      "0.9999999714285673\n",
      "0.8158349877496786\n",
      "0.7990739071954913\n",
      "0.8158349877496786\n",
      "0.9999999714285673\n",
      "0.9999999714285673\n",
      "0.9999999714285673\n",
      "0.7990739071954913\n",
      "0.9999999714285673\n",
      "0.9999999714285673\n",
      "0.9999999714285673\n",
      "0.9999999714285673\n",
      "0.8158349877496786\n",
      "0.8158349877496786\n",
      "0.8158349877496786\n",
      "0.9999999714285673\n",
      "0.9999999714285673\n",
      "0.8158349877496786\n",
      "0.8165977564287611\n",
      "0.10046232520099954\n",
      "0.07166711718731529\n",
      "0.9999999714285673\n",
      "0.8165977564287611\n",
      "0.8165977564287611\n",
      "0.9999999714285673\n",
      "0.9999999714285673\n",
      "0.9999999714285673\n",
      "0.8165977564287611\n",
      "0.9999999714285673\n",
      "0.8165977564287611\n",
      "0.7990739071954913\n",
      "0.8165977564287611\n",
      "0.8158349877496786\n",
      "0.7990739071954913\n",
      "0.9999999714285673\n",
      "0.9999999714285673\n",
      "0.9999999714285673\n",
      "0.9999999714285673\n",
      "0.9999999714285673\n",
      "0.8165977564287611\n",
      "0.9999999714285673\n",
      "0.9999999714285673\n",
      "0.9999999714285673\n",
      "0.07166711718731529\n",
      "0.9999999714285673\n",
      "0.8158349877496786\n",
      "0.9999999714285673\n",
      "0.9999999714285673\n",
      "0.11249786621516403\n",
      "0.9999999714285673\n",
      "0.9999999714285673\n",
      "0.8165977564287611\n",
      "0.8158349877496786\n",
      "0.9999999714285673\n",
      "0.9999999714285673\n",
      "0.9999999714285673\n",
      "0.9999999714285673\n",
      "0.9999999714285673\n",
      "0.8165977564287611\n",
      "0.7990739071954913\n",
      "0.7990739071954913\n",
      "0.7990739071954913\n",
      "0.11531184763455608\n",
      "0.9999999714285673\n",
      "0.9999999714285673\n",
      "0.8165977564287611\n",
      "0.9999999714285673\n",
      "0.9999999714285673\n",
      "0.11249786621516403\n",
      "0.8165977564287611\n",
      "0.8165977564287611\n",
      "0.0934163814615646\n",
      "0.11249786621516403\n",
      "0.7990739071954913\n",
      "0.8165977564287611\n",
      "0.0934163814615646\n",
      "0.07166711718731529\n",
      "0.9999999714285673\n",
      "0.8165977564287611\n",
      "0.10046232520099954\n",
      "0.9999999714285673\n",
      "0.0829398804771872\n",
      "0.8165977564287611\n",
      "0.9999999714285673\n",
      "0.9999999714285673\n",
      "0.7990739071954913\n",
      "0.8158349877496786\n",
      "0.9999999714285673\n",
      "0.9999999714285673\n",
      "0.8158349877496786\n",
      "0.8158349877496786\n",
      "0.9999999714285673\n",
      "0.9999999714285673\n",
      "0.9999999714285673\n",
      "0.8158349877496786\n",
      "0.10750961447919304\n",
      "0.8165977564287611\n",
      "0.9999999714285673\n",
      "0.8158349877496786\n",
      "0.9999999714285673\n",
      "0.9999999714285673\n",
      "0.0934163814615646\n",
      "0.8158349877496786\n",
      "0.8158349877496786\n",
      "0.7990739071954913\n",
      "0.9999999714285673\n",
      "0.9999999714285673\n",
      "0.8158349877496786\n",
      "0.8165977564287611\n",
      "0.9999999714285673\n",
      "0.9999999714285673\n",
      "0.0829398804771872\n",
      "0.9999999714285673\n",
      "0.9999999714285673\n",
      "0.9999999714285673\n",
      "0.8158349877496786\n",
      "0.9999999714285673\n",
      "0.9999999714285673\n",
      "0.9999999714285673\n",
      "0.9999999714285673\n",
      "0.8158349877496786\n",
      "0.9999999714285673\n",
      "0.8165977564287611\n",
      "0.8165977564287611\n",
      "0.7990739071954913\n",
      "0.9999999714285673\n",
      "0.9999999714285673\n",
      "0.9999999714285673\n",
      "0.9999999714285673\n",
      "0.7990739071954913\n",
      "0.0829398804771872\n",
      "0.8165977564287611\n",
      "0.10046232520099954\n",
      "0.9999999714285673\n",
      "0.7990739071954913\n",
      "0.9999999714285673\n",
      "0.9999999714285673\n",
      "0.9999999714285673\n",
      "0.9999999714285673\n",
      "0.07166711718731529\n",
      "0.8165977564287611\n",
      "0.8158349877496786\n",
      "0.7990739071954913\n",
      "0.8158349877496786\n",
      "0.9999999714285673\n",
      "0.9999999714285673\n",
      "0.0829398804771872\n",
      "0.9999999714285673\n",
      "0.8165977564287611\n",
      "0.9999999714285673\n",
      "0.7990739071954913\n",
      "0.9999999714285673\n",
      "0.9999999714285673\n",
      "0.9999999714285673\n",
      "0.9999999714285673\n",
      "0.8158349877496786\n",
      "0.0829398804771872\n",
      "0.9999999714285673\n",
      "0.9999999714285673\n",
      "0.8165977564287611\n",
      "0.9999999714285673\n",
      "0.9999999714285673\n",
      "0.8165977564287611\n",
      "0.9999999714285673\n",
      "0.8165977564287611\n",
      "0.9999999714285673\n",
      "0.8165977564287611\n",
      "0.8165977564287611\n",
      "0.8158349877496786\n",
      "0.7514835738867125\n",
      "0.07166711718731529\n",
      "0.8165977564287611\n",
      "0.9999999714285673\n",
      "0.8165977564287611\n",
      "0.7990739071954913\n",
      "0.9999999714285673\n",
      "0.9999999714285673\n",
      "0.9999999714285673\n",
      "0.8158349877496786\n",
      "0.9999999714285673\n",
      "0.7990739071954913\n",
      "0.9999999714285673\n",
      "0.9999999714285673\n",
      "0.9999999714285673\n",
      "0.9999999714285673\n",
      "0.9999999714285673\n",
      "0.9999999714285673\n",
      "0.9999999714285673\n",
      "0.8158349877496786\n",
      "0.8158349877496786\n",
      "0.9999999714285673\n",
      "0.8165977564287611\n",
      "0.9999999714285673\n",
      "0.8158349877496786\n",
      "0.9999999714285673\n",
      "0.9999999714285673\n",
      "0.9999999714285673\n",
      "0.11249786621516403\n",
      "0.8158349877496786\n",
      "0.8165977564287611\n",
      "0.9999999714285673\n",
      "0.8165977564287611\n",
      "0.10046232520099954\n",
      "0.7990739071954913\n",
      "0.9999999714285673\n",
      "0.8165977564287611\n",
      "0.9999999714285673\n",
      "0.7990739071954913\n",
      "0.9999999714285673\n",
      "0.9999999714285673\n",
      "2 -462.048955 -106.431255 -568.480210 2.228410\n"
     ]
    },
    {
     "name": "stdout",
     "output_type": "stream",
     "text": [
      "0.9999999714285651\n",
      "0.9999999714285651\n",
      "0.0947282710387323\n",
      "0.9999999714285651\n",
      "0.9999999714285651\n",
      "0.818081287642599\n",
      "0.7968398633815835\n",
      "0.11165434102055054\n",
      "0.07026434272406308\n",
      "0.9999999714285651\n",
      "0.9999999714285651\n",
      "0.8133140884645763\n",
      "0.11165434102055054\n",
      "0.9999999714285651\n",
      "0.8133140884645763\n",
      "0.07026434272406308\n",
      "0.818081287642599\n",
      "0.7968398633815835\n",
      "0.9999999714285651\n",
      "0.818081287642599\n",
      "0.10321784599406444\n",
      "0.9999999714285651\n",
      "0.818081287642599\n",
      "0.9999999714285651\n",
      "0.9999999714285651\n",
      "0.9999999714285651\n",
      "0.818081287642599\n",
      "0.7968398633815835\n",
      "0.818081287642599\n",
      "0.9999999714285651\n",
      "0.9999999714285651\n",
      "0.8133140884645763\n",
      "0.9999999714285651\n",
      "0.818081287642599\n",
      "0.818081287642599\n",
      "0.8133140884645763\n",
      "0.8133140884645763\n",
      "0.818081287642599\n",
      "0.9999999714285651\n",
      "0.9999999714285651\n",
      "0.9999999714285651\n",
      "0.9999999714285651\n",
      "0.7968398633815835\n",
      "0.8133140884645763\n",
      "0.9999999714285651\n",
      "0.9999999714285651\n",
      "0.9999999714285651\n",
      "0.9999999714285651\n",
      "0.818081287642599\n",
      "0.7968398633815835\n",
      "0.8133140884645763\n",
      "0.9999999714285651\n",
      "0.9999999714285651\n",
      "0.9999999714285651\n",
      "0.818081287642599\n",
      "0.9999999714285651\n",
      "0.818081287642599\n",
      "0.9999999714285651\n",
      "0.8133140884645763\n",
      "0.08346802727541854\n",
      "0.9999999714285651\n",
      "0.9999999714285651\n",
      "0.8133140884645763\n",
      "0.9999999714285651\n",
      "0.9999999714285651\n",
      "0.10321784599406444\n",
      "0.9999999714285651\n",
      "0.7472209573723037\n",
      "0.818081287642599\n",
      "0.10321784599406444\n",
      "0.10321784599406444\n",
      "0.8133140884645763\n",
      "0.818081287642599\n",
      "0.9999999714285651\n",
      "0.7968398633815835\n",
      "0.8133140884645763\n",
      "0.8133140884645763\n",
      "0.10321784599406444\n",
      "0.9999999714285651\n",
      "0.08346802727541854\n",
      "0.7968398633815835\n",
      "0.11165434102055054\n",
      "0.7968398633815835\n",
      "0.8133140884645763\n",
      "0.9999999714285651\n",
      "0.7968398633815835\n",
      "0.818081287642599\n",
      "0.9999999714285651\n",
      "0.8133140884645763\n",
      "0.11165434102055054\n",
      "0.11165434102055054\n",
      "0.9999999714285651\n",
      "0.9999999714285651\n",
      "0.9999999714285651\n",
      "0.9999999714285651\n",
      "0.9999999714285651\n",
      "0.8133140884645763\n",
      "0.818081287642599\n",
      "0.9999999714285651\n",
      "0.9999999714285651\n",
      "0.11165434102055054\n",
      "0.9999999714285651\n",
      "0.9999999714285651\n",
      "0.9999999714285651\n",
      "0.9999999714285651\n",
      "0.9999999714285651\n",
      "0.818081287642599\n",
      "0.9999999714285651\n",
      "0.07026434272406308\n",
      "0.9999999714285651\n",
      "0.818081287642599\n",
      "0.9999999714285651\n",
      "0.9999999714285651\n",
      "0.9999999714285651\n",
      "0.11685298923573004\n",
      "0.9999999714285651\n",
      "0.8133140884645763\n",
      "0.818081287642599\n",
      "0.9999999714285651\n",
      "0.8133140884645763\n",
      "0.8133140884645763\n",
      "0.9999999714285651\n",
      "0.7968398633815835\n",
      "0.9999999714285651\n",
      "0.8133140884645763\n",
      "0.9999999714285651\n",
      "0.818081287642599\n",
      "0.818081287642599\n",
      "0.9999999714285651\n",
      "0.9999999714285651\n",
      "0.7472209573723037\n",
      "0.07026434272406308\n",
      "0.9999999714285651\n",
      "0.8133140884645763\n",
      "0.818081287642599\n",
      "0.818081287642599\n",
      "0.11165434102055054\n",
      "0.8133140884645763\n",
      "0.9999999714285651\n",
      "0.9999999714285651\n",
      "0.8133140884645763\n",
      "0.818081287642599\n",
      "0.9999999714285651\n",
      "0.818081287642599\n",
      "0.818081287642599\n",
      "0.8133140884645763\n",
      "0.11165434102055054\n",
      "0.9999999714285651\n",
      "0.07026434272406308\n",
      "0.9999999714285651\n",
      "0.9999999714285651\n",
      "0.11165434102055054\n",
      "0.818081287642599\n",
      "0.9999999714285651\n",
      "0.818081287642599\n",
      "0.9999999714285651\n",
      "0.7472209573723037\n",
      "0.10321784599406444\n",
      "0.9999999714285651\n",
      "0.10321784599406444\n",
      "0.818081287642599\n",
      "0.818081287642599\n",
      "0.818081287642599\n",
      "0.818081287642599\n",
      "0.818081287642599\n",
      "0.8133140884645763\n",
      "0.9999999714285651\n",
      "0.8133140884645763\n",
      "0.9999999714285651\n",
      "0.9999999714285651\n",
      "0.9999999714285651\n",
      "0.8133140884645763\n",
      "0.9999999714285651\n",
      "0.8133140884645763\n",
      "0.818081287642599\n",
      "0.08346802727541854\n",
      "0.9999999714285651\n",
      "0.9999999714285651\n",
      "0.9999999714285651\n",
      "0.1084317680781942\n",
      "0.08346802727541854\n",
      "0.818081287642599\n",
      "0.9999999714285651\n",
      "0.818081287642599\n",
      "0.07026434272406308\n",
      "0.9999999714285651\n",
      "0.818081287642599\n",
      "0.9999999714285651\n",
      "0.9999999714285651\n",
      "0.9999999714285651\n",
      "0.818081287642599\n",
      "0.9999999714285651\n",
      "0.818081287642599\n",
      "0.11165434102055054\n",
      "0.9999999714285651\n",
      "0.9999999714285651\n",
      "0.9999999714285651\n",
      "0.9999999714285651\n",
      "0.10321784599406444\n",
      "0.9999999714285651\n",
      "0.9999999714285651\n",
      "0.0947282710387323\n",
      "0.9999999714285651\n",
      "0.9999999714285651\n",
      "0.9999999714285651\n",
      "0.9999999714285651\n",
      "0.818081287642599\n",
      "0.9999999714285651\n",
      "0.9999999714285651\n",
      "0.11165434102055054\n",
      "0.9999999714285651\n",
      "0.9999999714285651\n",
      "0.8133140884645763\n",
      "0.9999999714285651\n",
      "0.7968398633815835\n",
      "0.9999999714285651\n",
      "0.9999999714285651\n",
      "0.818081287642599\n",
      "0.8133140884645763\n",
      "0.9999999714285651\n",
      "0.818081287642599\n",
      "0.8133140884645763\n",
      "0.8133140884645763\n",
      "0.818081287642599\n",
      "0.8133140884645763\n",
      "0.9999999714285651\n",
      "0.9999999714285651\n",
      "0.9999999714285651\n",
      "0.9999999714285651\n",
      "0.9999999714285651\n",
      "0.818081287642599\n",
      "0.9999999714285651\n",
      "0.9999999714285651\n",
      "0.818081287642599\n",
      "0.9999999714285651\n",
      "0.8133140884645763\n",
      "0.9999999714285651\n",
      "0.9999999714285651\n",
      "0.11165434102055054\n",
      "0.9999999714285651\n",
      "0.8133140884645763\n",
      "0.9999999714285651\n",
      "0.7968398633815835\n",
      "0.9999999714285651\n",
      "0.11165434102055054\n",
      "0.818081287642599\n",
      "0.8133140884645763\n",
      "0.9999999714285651\n",
      "0.818081287642599\n",
      "0.8133140884645763\n",
      "0.8133140884645763\n",
      "0.8133140884645763\n",
      "0.10321784599406444\n",
      "0.9999999714285651\n",
      "0.11165434102055054\n",
      "0.7472209573723037\n",
      "0.9999999714285651\n",
      "0.9999999714285651\n",
      "0.9999999714285651\n",
      "0.818081287642599\n",
      "0.8133140884645763\n",
      "0.9999999714285651\n",
      "0.9999999714285651\n",
      "0.9999999714285651\n",
      "0.8133140884645763\n",
      "0.7968398633815835\n",
      "0.9999999714285651\n",
      "0.8133140884645763\n",
      "0.8133140884645763\n",
      "0.818081287642599\n",
      "0.9999999714285651\n",
      "0.9999999714285651\n",
      "0.818081287642599\n",
      "0.8133140884645763\n",
      "0.818081287642599\n",
      "0.9999999714285651\n",
      "0.08346802727541854\n",
      "0.8133140884645763\n",
      "0.9999999714285651\n",
      "0.07026434272406308\n",
      "0.9999999714285651\n",
      "0.7968398633815835\n",
      "0.818081287642599\n",
      "0.10321784599406444\n",
      "0.9999999714285651\n",
      "0.9999999714285651\n",
      "0.9999999714285651\n",
      "0.9999999714285651\n",
      "0.9999999714285651\n",
      "0.8133140884645763\n",
      "0.9999999714285651\n",
      "0.7968398633815835\n",
      "0.9999999714285651\n",
      "0.11165434102055054\n",
      "0.818081287642599\n",
      "0.818081287642599\n",
      "0.9999999714285651\n",
      "0.818081287642599\n",
      "0.818081287642599\n",
      "0.9999999714285651\n",
      "0.9999999714285651\n",
      "0.9999999714285651\n",
      "0.9999999714285651\n",
      "0.9999999714285651\n",
      "0.9999999714285651\n",
      "0.8133140884645763\n",
      "0.10321784599406444\n",
      "0.9999999714285651\n",
      "0.818081287642599\n",
      "0.818081287642599\n",
      "0.9999999714285651\n",
      "0.818081287642599\n",
      "0.7968398633815835\n",
      "0.818081287642599\n",
      "0.9999999714285651\n",
      "0.9999999714285651\n",
      "0.9999999714285651\n",
      "0.7968398633815835\n",
      "0.9999999714285651\n",
      "0.9999999714285651\n",
      "0.9999999714285651\n",
      "0.9999999714285651\n",
      "0.818081287642599\n",
      "0.818081287642599\n",
      "0.818081287642599\n",
      "0.9999999714285651\n",
      "0.9999999714285651\n",
      "0.818081287642599\n",
      "0.8133140884645763\n",
      "0.10321784599406444\n",
      "0.07026434272406308\n",
      "0.9999999714285651\n",
      "0.8133140884645763\n",
      "0.8133140884645763\n",
      "0.9999999714285651\n",
      "0.9999999714285651\n",
      "0.9999999714285651\n",
      "0.8133140884645763\n",
      "0.9999999714285651\n",
      "0.8133140884645763\n",
      "0.7968398633815835\n",
      "0.8133140884645763\n",
      "0.818081287642599\n",
      "0.7968398633815835\n",
      "0.9999999714285651\n",
      "0.9999999714285651\n",
      "0.9999999714285651\n",
      "0.9999999714285651\n",
      "0.9999999714285651\n",
      "0.8133140884645763\n",
      "0.9999999714285651\n",
      "0.9999999714285651\n",
      "0.9999999714285651\n",
      "0.07026434272406308\n",
      "0.9999999714285651\n",
      "0.818081287642599\n",
      "0.9999999714285651\n",
      "0.9999999714285651\n",
      "0.11165434102055054\n",
      "0.9999999714285651\n",
      "0.9999999714285651\n",
      "0.8133140884645763\n",
      "0.818081287642599\n",
      "0.9999999714285651\n",
      "0.9999999714285651\n",
      "0.9999999714285651\n",
      "0.9999999714285651\n",
      "0.9999999714285651\n",
      "0.8133140884645763\n",
      "0.7968398633815835\n",
      "0.7968398633815835\n",
      "0.7968398633815835\n",
      "0.11685298923573004\n",
      "0.9999999714285651\n",
      "0.9999999714285651\n",
      "0.8133140884645763\n",
      "0.9999999714285651\n",
      "0.9999999714285651\n",
      "0.11165434102055054\n",
      "0.8133140884645763\n",
      "0.8133140884645763\n",
      "0.0947282710387323\n",
      "0.11165434102055054\n",
      "0.7968398633815835\n",
      "0.8133140884645763\n",
      "0.0947282710387323\n",
      "0.07026434272406308\n",
      "0.9999999714285651\n",
      "0.8133140884645763\n",
      "0.10321784599406444\n",
      "0.9999999714285651\n",
      "0.08346802727541854\n",
      "0.8133140884645763\n",
      "0.9999999714285651\n",
      "0.9999999714285651\n",
      "0.7968398633815835\n",
      "0.818081287642599\n",
      "0.9999999714285651\n",
      "0.9999999714285651\n",
      "0.818081287642599\n",
      "0.818081287642599\n",
      "0.9999999714285651\n",
      "0.9999999714285651\n",
      "0.9999999714285651\n",
      "0.818081287642599\n",
      "0.1084317680781942\n",
      "0.8133140884645763\n",
      "0.9999999714285651\n",
      "0.818081287642599\n",
      "0.9999999714285651\n",
      "0.9999999714285651\n",
      "0.0947282710387323\n",
      "0.818081287642599\n",
      "0.818081287642599\n",
      "0.7968398633815835\n",
      "0.9999999714285651\n",
      "0.9999999714285651\n",
      "0.818081287642599\n",
      "0.8133140884645763\n",
      "0.9999999714285651\n",
      "0.9999999714285651\n",
      "0.08346802727541854\n",
      "0.9999999714285651\n",
      "0.9999999714285651\n",
      "0.9999999714285651\n",
      "0.818081287642599\n",
      "0.9999999714285651\n",
      "0.9999999714285651\n",
      "0.9999999714285651\n",
      "0.9999999714285651\n",
      "0.818081287642599\n",
      "0.9999999714285651\n",
      "0.8133140884645763\n",
      "0.8133140884645763\n",
      "0.7968398633815835\n",
      "0.9999999714285651\n",
      "0.9999999714285651\n",
      "0.9999999714285651\n",
      "0.9999999714285651\n",
      "0.7968398633815835\n",
      "0.08346802727541854\n",
      "0.8133140884645763\n",
      "0.10321784599406444\n",
      "0.9999999714285651\n",
      "0.7968398633815835\n",
      "0.9999999714285651\n",
      "0.9999999714285651\n",
      "0.9999999714285651\n",
      "0.9999999714285651\n",
      "0.07026434272406308\n",
      "0.8133140884645763\n",
      "0.818081287642599\n",
      "0.7968398633815835\n",
      "0.818081287642599\n",
      "0.9999999714285651\n",
      "0.9999999714285651\n",
      "0.08346802727541854\n",
      "0.9999999714285651\n",
      "0.8133140884645763\n",
      "0.9999999714285651\n",
      "0.7968398633815835\n",
      "0.9999999714285651\n",
      "0.9999999714285651\n",
      "0.9999999714285651\n",
      "0.9999999714285651\n",
      "0.818081287642599\n",
      "0.08346802727541854\n",
      "0.9999999714285651\n",
      "0.9999999714285651\n",
      "0.8133140884645763\n",
      "0.9999999714285651\n",
      "0.9999999714285651\n",
      "0.8133140884645763\n",
      "0.9999999714285651\n",
      "0.8133140884645763\n",
      "0.9999999714285651\n",
      "0.8133140884645763\n",
      "0.8133140884645763\n",
      "0.818081287642599\n",
      "0.7472209573723037\n",
      "0.07026434272406308\n",
      "0.8133140884645763\n",
      "0.9999999714285651\n",
      "0.8133140884645763\n",
      "0.7968398633815835\n",
      "0.9999999714285651\n",
      "0.9999999714285651\n",
      "0.9999999714285651\n",
      "0.818081287642599\n",
      "0.9999999714285651\n",
      "0.7968398633815835\n",
      "0.9999999714285651\n",
      "0.9999999714285651\n",
      "0.9999999714285651\n",
      "0.9999999714285651\n",
      "0.9999999714285651\n",
      "0.9999999714285651\n",
      "0.9999999714285651\n",
      "0.818081287642599\n",
      "0.818081287642599\n",
      "0.9999999714285651\n",
      "0.8133140884645763\n",
      "0.9999999714285651\n",
      "0.818081287642599\n",
      "0.9999999714285651\n",
      "0.9999999714285651\n",
      "0.9999999714285651\n",
      "0.11165434102055054\n",
      "0.818081287642599\n",
      "0.8133140884645763\n",
      "0.9999999714285651\n",
      "0.8133140884645763\n",
      "0.10321784599406444\n",
      "0.7968398633815835\n",
      "0.9999999714285651\n",
      "0.8133140884645763\n",
      "0.9999999714285651\n",
      "0.7968398633815835\n",
      "0.9999999714285651\n",
      "0.9999999714285651\n"
     ]
    },
    {
     "ename": "KeyboardInterrupt",
     "evalue": "",
     "output_type": "error",
     "traceback": [
      "\u001b[0;31m---------------------------------------------------------------------------\u001b[0m",
      "\u001b[0;31mKeyboardInterrupt\u001b[0m                         Traceback (most recent call last)",
      "\u001b[0;32m<ipython-input-74-7d20586651b0>\u001b[0m in \u001b[0;36m<module>\u001b[0;34m()\u001b[0m\n\u001b[1;32m      7\u001b[0m     \u001b[0mvp_ll\u001b[0m\u001b[0;34m,\u001b[0m \u001b[0mvt_ll\u001b[0m \u001b[0;34m=\u001b[0m \u001b[0meval_demo_log_likelihood\u001b[0m\u001b[0;34m(\u001b[0m\u001b[0mval_sas_obs\u001b[0m\u001b[0;34m,\u001b[0m \u001b[0mval_adt_obs\u001b[0m\u001b[0;34m,\u001b[0m \u001b[0mTi_thetas\u001b[0m\u001b[0;34m,\u001b[0m \u001b[0mQi\u001b[0m\u001b[0;34m)\u001b[0m\u001b[0;34m\u001b[0m\u001b[0;34m\u001b[0m\u001b[0m\n\u001b[1;32m      8\u001b[0m     \u001b[0mval_likelihood\u001b[0m \u001b[0;34m=\u001b[0m \u001b[0mvp_ll\u001b[0m \u001b[0;34m+\u001b[0m \u001b[0mvt_ll\u001b[0m\u001b[0;34m\u001b[0m\u001b[0;34m\u001b[0m\u001b[0m\n\u001b[0;32m----> 9\u001b[0;31m     \u001b[0mttd\u001b[0m \u001b[0;34m=\u001b[0m \u001b[0mtrue_trans_loss\u001b[0m\u001b[0;34m(\u001b[0m\u001b[0msoftmax\u001b[0m\u001b[0;34m(\u001b[0m\u001b[0mTi_thetas\u001b[0m\u001b[0;34m)\u001b[0m\u001b[0;34m)\u001b[0m\u001b[0;34m\u001b[0m\u001b[0;34m\u001b[0m\u001b[0m\n\u001b[0m\u001b[1;32m     10\u001b[0m     \u001b[0mTi_thetas\u001b[0m \u001b[0;34m+=\u001b[0m \u001b[0mlearning_rate\u001b[0m \u001b[0;34m*\u001b[0m \u001b[0;34m(\u001b[0m\u001b[0mdT_trans\u001b[0m \u001b[0;34m+\u001b[0m \u001b[0mdT_pol\u001b[0m\u001b[0;34m)\u001b[0m\u001b[0;34m\u001b[0m\u001b[0;34m\u001b[0m\u001b[0m\n\u001b[1;32m     11\u001b[0m \u001b[0;34m\u001b[0m\u001b[0m\n",
      "\u001b[0;32m<ipython-input-29-821a35f79e74>\u001b[0m in \u001b[0;36mtrue_trans_loss\u001b[0;34m(tps)\u001b[0m\n\u001b[1;32m     27\u001b[0m \u001b[0;34m\u001b[0m\u001b[0m\n\u001b[1;32m     28\u001b[0m \u001b[0;32mdef\u001b[0m \u001b[0mtrue_trans_loss\u001b[0m\u001b[0;34m(\u001b[0m\u001b[0mtps\u001b[0m\u001b[0;34m)\u001b[0m\u001b[0;34m:\u001b[0m\u001b[0;34m\u001b[0m\u001b[0;34m\u001b[0m\u001b[0m\n\u001b[0;32m---> 29\u001b[0;31m     \u001b[0mtps\u001b[0m \u001b[0;34m=\u001b[0m \u001b[0mmdp\u001b[0m\u001b[0;34m.\u001b[0m\u001b[0madt_trans_to_sas_trans\u001b[0m\u001b[0;34m(\u001b[0m\u001b[0mtps\u001b[0m\u001b[0;34m)\u001b[0m\u001b[0;34m\u001b[0m\u001b[0;34m\u001b[0m\u001b[0m\n\u001b[0m\u001b[1;32m     30\u001b[0m     \u001b[0mtrue_tps\u001b[0m \u001b[0;34m=\u001b[0m \u001b[0mmdp\u001b[0m\u001b[0;34m.\u001b[0m\u001b[0mget_transition_matrix\u001b[0m\u001b[0;34m(\u001b[0m\u001b[0;34m)\u001b[0m\u001b[0;34m\u001b[0m\u001b[0;34m\u001b[0m\u001b[0m\n\u001b[1;32m     31\u001b[0m     \u001b[0;32mreturn\u001b[0m \u001b[0mnp\u001b[0m\u001b[0;34m.\u001b[0m\u001b[0mlinalg\u001b[0m\u001b[0;34m.\u001b[0m\u001b[0mnorm\u001b[0m\u001b[0;34m(\u001b[0m\u001b[0mtrue_tps\u001b[0m\u001b[0;34m-\u001b[0m\u001b[0mtps\u001b[0m\u001b[0;34m)\u001b[0m\u001b[0;34m/\u001b[0m\u001b[0mnA\u001b[0m\u001b[0;34m\u001b[0m\u001b[0;34m\u001b[0m\u001b[0m\n",
      "\u001b[0;32m~/Masters Research/IRLD/IRLD/envs/marsexplorer.py\u001b[0m in \u001b[0;36madt_trans_to_sas_trans\u001b[0;34m(self, adt_trans)\u001b[0m\n\u001b[1;32m    250\u001b[0m             \u001b[0;32mfor\u001b[0m \u001b[0mj\u001b[0m \u001b[0;32min\u001b[0m \u001b[0mrange\u001b[0m\u001b[0;34m(\u001b[0m\u001b[0mself\u001b[0m\u001b[0;34m.\u001b[0m\u001b[0madt_map\u001b[0m\u001b[0;34m.\u001b[0m\u001b[0mshape\u001b[0m\u001b[0;34m[\u001b[0m\u001b[0;36m1\u001b[0m\u001b[0;34m]\u001b[0m\u001b[0;34m)\u001b[0m\u001b[0;34m:\u001b[0m\u001b[0;34m\u001b[0m\u001b[0;34m\u001b[0m\u001b[0m\n\u001b[1;32m    251\u001b[0m                 \u001b[0;32mfor\u001b[0m \u001b[0mk\u001b[0m \u001b[0;32min\u001b[0m \u001b[0mrange\u001b[0m\u001b[0;34m(\u001b[0m\u001b[0mself\u001b[0m\u001b[0;34m.\u001b[0m\u001b[0madt_map\u001b[0m\u001b[0;34m.\u001b[0m\u001b[0mshape\u001b[0m\u001b[0;34m[\u001b[0m\u001b[0;36m2\u001b[0m\u001b[0;34m]\u001b[0m\u001b[0;34m)\u001b[0m\u001b[0;34m:\u001b[0m\u001b[0;34m\u001b[0m\u001b[0;34m\u001b[0m\u001b[0m\n\u001b[0;32m--> 252\u001b[0;31m                     \u001b[0mT\u001b[0m\u001b[0;34m[\u001b[0m\u001b[0mi\u001b[0m\u001b[0;34m,\u001b[0m \u001b[0mj\u001b[0m\u001b[0;34m,\u001b[0m \u001b[0mk\u001b[0m\u001b[0;34m]\u001b[0m \u001b[0;34m=\u001b[0m \u001b[0madt_trans\u001b[0m\u001b[0;34m[\u001b[0m\u001b[0mself\u001b[0m\u001b[0;34m.\u001b[0m\u001b[0madt_map\u001b[0m\u001b[0;34m[\u001b[0m\u001b[0mi\u001b[0m\u001b[0;34m,\u001b[0m \u001b[0mj\u001b[0m\u001b[0;34m,\u001b[0m \u001b[0mk\u001b[0m\u001b[0;34m]\u001b[0m\u001b[0;34m]\u001b[0m\u001b[0;34m\u001b[0m\u001b[0;34m\u001b[0m\u001b[0m\n\u001b[0m\u001b[1;32m    253\u001b[0m         \u001b[0mT\u001b[0m\u001b[0;34m[\u001b[0m\u001b[0mself\u001b[0m\u001b[0;34m.\u001b[0m\u001b[0madt_mask\u001b[0m\u001b[0;34m]\u001b[0m \u001b[0;34m=\u001b[0m \u001b[0;36m0.0\u001b[0m\u001b[0;34m\u001b[0m\u001b[0;34m\u001b[0m\u001b[0m\n\u001b[1;32m    254\u001b[0m         \u001b[0;32mreturn\u001b[0m \u001b[0mT\u001b[0m\u001b[0;34m\u001b[0m\u001b[0;34m\u001b[0m\u001b[0m\n",
      "\u001b[0;31mKeyboardInterrupt\u001b[0m: "
     ]
    }
   ],
   "source": [
    "while len(idl_train_logs['tt_lls']) < maxiter:\n",
    "    batch_demo_sas, batch_demo_adt = sample_batch(batch_size, train_demo_example_idxes, sas_obs, adt_obs)\n",
    "    #Should we initialize Qs or nah?\n",
    "    tp_ll, dT_pol, Qi = eval_T_pol_likelihood_and_grad(Ti_thetas, Ri, batch_demo_sas, Q_inits=Qi)\n",
    "    tt_ll, dT_trans = eval_trans_likelihood_and_grad(Ti_thetas, batch_demo_adt)\n",
    "    train_likelihood = tp_ll + tt_ll\n",
    "    vp_ll, vt_ll = eval_demo_log_likelihood(val_sas_obs, val_adt_obs, Ti_thetas, Qi)\n",
    "    val_likelihood = vp_ll + vt_ll\n",
    "    ttd = true_trans_loss(softmax(Ti_thetas))\n",
    "    Ti_thetas += learning_rate * (dT_trans + dT_pol)\n",
    "    \n",
    "    print('%d %f %f %f %f' % (len(idl_train_logs['tt_lls']), vp_ll, vt_ll, vp_ll + vt_ll, ttd))\n",
    "    idl_train_logs['train_likelihoods'].append(train_likelihood)\n",
    "    idl_train_logs['val_likelihoods'].append(val_likelihood)\n",
    "    idl_train_logs['tp_lls'].append(tp_ll)\n",
    "    idl_train_logs['tt_lls'].append(tt_ll)\n",
    "    idl_train_logs['vp_lls'].append(vp_ll)\n",
    "    idl_train_logs['vt_lls'].append(vt_ll)\n",
    "    idl_train_logs['true_trans_loss'].append(ttd)"
   ]
  },
  {
   "cell_type": "code",
   "execution_count": null,
   "metadata": {},
   "outputs": [],
   "source": [
    "plt.plot(idl_train_logs['vp_lls'])"
   ]
  },
  {
   "cell_type": "code",
   "execution_count": 53,
   "metadata": {},
   "outputs": [
    {
     "data": {
      "text/plain": [
       "[<matplotlib.lines.Line2D at 0x12f1ba9e8>]"
      ]
     },
     "execution_count": 53,
     "metadata": {},
     "output_type": "execute_result"
    },
    {
     "data": {
      "image/png": "[encoded data removed]",
      "text/plain": [
       "<Figure size 432x288 with 1 Axes>"
      ]
     },
     "metadata": {},
     "output_type": "display_data"
    }
   ],
   "source": [
    "plt.plot(idl_train_logs['vt_lls'])"
   ]
  },
  {
   "cell_type": "code",
   "execution_count": 54,
   "metadata": {},
   "outputs": [
    {
     "data": {
      "text/plain": [
       "[<matplotlib.lines.Line2D at 0x131838860>]"
      ]
     },
     "execution_count": 54,
     "metadata": {},
     "output_type": "execute_result"
    },
    {
     "data": {
      "image/png": "[encoded data removed]",
      "text/plain": [
       "<Figure size 432x288 with 1 Axes>"
      ]
     },
     "metadata": {},
     "output_type": "display_data"
    }
   ],
   "source": [
    "plt.plot(idl_train_logs['val_likelihoods'])"
   ]
  },
  {
   "cell_type": "code",
   "execution_count": 55,
   "metadata": {
    "scrolled": true
   },
   "outputs": [
    {
     "name": "stdout",
     "output_type": "stream",
     "text": [
      "[[112.55994512 112.55994512 112.55994512 112.55994512 112.55994512]\n",
      " [108.61902234 108.61902234 108.61902234 108.61902234 108.61902234]\n",
      " [100.85360138 100.85360138 100.85360138 100.85360138 100.85360138]\n",
      " [102.70411834 102.70411834 102.70411834 102.70411834 102.70411834]\n",
      " [105.05166138 105.05166138 105.05166138 105.05166138 105.05166138]\n",
      " [108.37032213 108.37032213 108.37032213 108.37032213 108.37032213]\n",
      " [ 97.41982891  97.41982891  97.41982891  97.41982891  97.41982891]\n",
      " [106.49110794 106.49110794 106.49110794 106.49110794 106.49110794]\n",
      " [127.7354447  127.7354447  127.7354447  127.7354447  127.7354447 ]\n",
      " [106.69441834 106.69441834 106.69441834 106.69441834 106.69441834]\n",
      " [117.88311002 117.88311002 117.88311002 117.88311002 117.88311002]\n",
      " [113.13706867 113.13706867 113.13706867 113.13706867 113.13706867]\n",
      " [114.07227754 114.07227754 114.07227754 114.07227754 114.07227754]\n",
      " [ 81.83961409  81.83961409  81.83961409  81.83961409  81.83961409]\n",
      " [ 77.92880604  77.92880604  77.92880604  77.92880604  77.92880604]\n",
      " [ 87.33034113  87.33034113  87.33034113  87.33034113  87.33034113]\n",
      " [ 91.31327777  91.31327777  91.31327777  91.31327777  91.31327777]\n",
      " [ 96.46735682  96.46735682  96.46735682  96.46735682  96.46735682]\n",
      " [ 68.26815805  68.26815805  68.26815805  68.26815805  68.26815805]\n",
      " [ 66.64098176  66.64098176  66.64098176  66.64098176  66.64098176]\n",
      " [ 87.27252591  87.27252591  87.27252591  87.27252591  87.27252591]\n",
      " [103.28146099 103.28146099 103.28146099 103.28146099 103.28146099]\n",
      " [109.54524657 109.54524657 109.54524657 109.54524657 109.54524657]\n",
      " [ 63.72427823  63.72427823  63.72427823  63.72427823  63.72427823]\n",
      " [ 70.43938083  70.43938083  70.43938083  70.43938083  70.43938083]\n",
      " [ 75.91448066  75.91448066  75.91448066  75.91448066  75.91448066]\n",
      " [106.67451174 106.67451174 106.67451174 106.67451174 106.67451174]\n",
      " [ 94.12706484  94.12706484  94.12706484  94.12706484  94.12706484]\n",
      " [100.30494464 100.30494464 100.30494464 100.30494464 100.30494464]\n",
      " [ 80.45604488  80.45604488  80.45604488  80.45604488  80.45604488]\n",
      " [ 88.60024229  88.60024229  88.60024229  88.60024229  88.60024229]]\n"
     ]
    }
   ],
   "source": [
    "print(Qi[[s for s in range(nS) if mdp.get_tile_type(s)==1]])"
   ]
  },
  {
   "cell_type": "code",
   "execution_count": 56,
   "metadata": {},
   "outputs": [
    {
     "name": "stderr",
     "output_type": "stream",
     "text": [
      "/Users/mckaneandrus/anaconda2/envs/irld/lib/python3.6/site-packages/matplotlib/cbook/deprecation.py:107: MatplotlibDeprecationWarning: Adding an axes using the same arguments as a previous axes currently reuses the earlier instance.  In a future version, a new instance will always be created and returned.  Meanwhile, this warning can be suppressed, and the future behavior ensured, by passing a unique label to each axes instance.\n",
      "  warnings.warn(message, mplDeprecation, stacklevel=1)\n"
     ]
    },
    {
     "data": {
      "image/png": "[encoded data removed]",
      "text/plain": [
       "<Figure size 288x288 with 1 Axes>"
      ]
     },
     "metadata": {},
     "output_type": "display_data"
    },
    {
     "name": "stdout",
     "output_type": "stream",
     "text": [
      "(6, 10) b'S'\n",
      "(6, 9) b'F'\n"
     ]
    },
    {
     "data": {
      "image/png": "[encoded data removed]",
      "text/plain": [
       "<Figure size 288x288 with 1 Axes>"
      ]
     },
     "metadata": {},
     "output_type": "display_data"
    },
    {
     "name": "stdout",
     "output_type": "stream",
     "text": [
      "(6, 9) b'F'\n",
      "(5, 9) b'F'\n"
     ]
    },
    {
     "data": {
      "image/png": "[encoded data removed]",
      "text/plain": [
       "<Figure size 288x288 with 1 Axes>"
      ]
     },
     "metadata": {},
     "output_type": "display_data"
    },
    {
     "name": "stdout",
     "output_type": "stream",
     "text": [
      "(5, 9) b'F'\n",
      "(5, 8) b'2'\n"
     ]
    },
    {
     "data": {
      "image/png": "[encoded data removed]",
      "text/plain": [
       "<Figure size 288x288 with 1 Axes>"
      ]
     },
     "metadata": {},
     "output_type": "display_data"
    },
    {
     "name": "stdout",
     "output_type": "stream",
     "text": [
      "(5, 8) b'2'\n",
      "(5, 7) b'1'\n"
     ]
    },
    {
     "data": {
      "image/png": "[encoded data removed]",
      "text/plain": [
       "<Figure size 288x288 with 1 Axes>"
      ]
     },
     "metadata": {},
     "output_type": "display_data"
    },
    {
     "name": "stdout",
     "output_type": "stream",
     "text": [
      "(5, 7) b'1'\n",
      "(5, 6) b'F'\n"
     ]
    },
    {
     "data": {
      "image/png": "[encoded data removed]",
      "text/plain": [
       "<Figure size 288x288 with 1 Axes>"
      ]
     },
     "metadata": {},
     "output_type": "display_data"
    },
    {
     "name": "stdout",
     "output_type": "stream",
     "text": [
      "(5, 6) b'F'\n",
      "(6, 6) b'1'\n"
     ]
    },
    {
     "data": {
      "image/png": "[encoded data removed]",
      "text/plain": [
       "<Figure size 288x288 with 1 Axes>"
      ]
     },
     "metadata": {},
     "output_type": "display_data"
    },
    {
     "name": "stdout",
     "output_type": "stream",
     "text": [
      "(6, 6) b'1'\n",
      "(6, 5) b'S'\n"
     ]
    },
    {
     "data": {
      "image/png": "[encoded data removed]",
      "text/plain": [
       "<Figure size 288x288 with 1 Axes>"
      ]
     },
     "metadata": {},
     "output_type": "display_data"
    },
    {
     "name": "stdout",
     "output_type": "stream",
     "text": [
      "(6, 5) b'S'\n",
      "(6, 4) b'F'\n"
     ]
    },
    {
     "data": {
      "image/png": "[encoded data removed]",
      "text/plain": [
       "<Figure size 288x288 with 1 Axes>"
      ]
     },
     "metadata": {},
     "output_type": "display_data"
    },
    {
     "name": "stdout",
     "output_type": "stream",
     "text": [
      "(6, 4) b'F'\n",
      "(6, 3) b'F'\n"
     ]
    },
    {
     "data": {
      "image/png": "[encoded data removed]",
      "text/plain": [
       "<Figure size 288x288 with 1 Axes>"
      ]
     },
     "metadata": {},
     "output_type": "display_data"
    },
    {
     "name": "stdout",
     "output_type": "stream",
     "text": [
      "(6, 3) b'F'\n",
      "(5, 3) b'S'\n"
     ]
    },
    {
     "data": {
      "image/png": "[encoded data removed]",
      "text/plain": [
       "<Figure size 288x288 with 1 Axes>"
      ]
     },
     "metadata": {},
     "output_type": "display_data"
    },
    {
     "name": "stdout",
     "output_type": "stream",
     "text": [
      "(5, 3) b'S'\n",
      "(5, 2) b'2'\n"
     ]
    },
    {
     "data": {
      "image/png": "[encoded data removed]",
      "text/plain": [
       "<Figure size 288x288 with 1 Axes>"
      ]
     },
     "metadata": {},
     "output_type": "display_data"
    },
    {
     "name": "stdout",
     "output_type": "stream",
     "text": [
      "(5, 2) b'2'\n",
      "(5, 2) b'2'\n"
     ]
    },
    {
     "data": {
      "image/png": "[encoded data removed]",
      "text/plain": [
       "<Figure size 288x288 with 1 Axes>"
      ]
     },
     "metadata": {},
     "output_type": "display_data"
    },
    {
     "name": "stdout",
     "output_type": "stream",
     "text": [
      "(5, 2) b'2'\n",
      "(4, 2) b'1'\n"
     ]
    },
    {
     "data": {
      "image/png": "[encoded data removed]",
      "text/plain": [
       "<Figure size 288x288 with 1 Axes>"
      ]
     },
     "metadata": {},
     "output_type": "display_data"
    },
    {
     "name": "stdout",
     "output_type": "stream",
     "text": [
      "(4, 2) b'1'\n",
      "(4, 1) b'2'\n"
     ]
    },
    {
     "data": {
      "image/png": "[encoded data removed]",
      "text/plain": [
       "<Figure size 288x288 with 1 Axes>"
      ]
     },
     "metadata": {},
     "output_type": "display_data"
    },
    {
     "name": "stdout",
     "output_type": "stream",
     "text": [
      "(4, 1) b'2'\n",
      "(4, 2) b'1'\n"
     ]
    },
    {
     "data": {
      "image/png": "[encoded data removed]",
      "text/plain": [
       "<Figure size 288x288 with 1 Axes>"
      ]
     },
     "metadata": {},
     "output_type": "display_data"
    },
    {
     "name": "stdout",
     "output_type": "stream",
     "text": [
      "(4, 2) b'1'\n",
      "(4, 1) b'2'\n"
     ]
    },
    {
     "data": {
      "image/png": "[encoded data removed]",
      "text/plain": [
       "<Figure size 288x288 with 1 Axes>"
      ]
     },
     "metadata": {},
     "output_type": "display_data"
    },
    {
     "name": "stdout",
     "output_type": "stream",
     "text": [
      "(4, 1) b'2'\n",
      "(3, 1) b'1'\n"
     ]
    },
    {
     "data": {
      "image/png": "[encoded data removed]",
      "text/plain": [
       "<Figure size 288x288 with 1 Axes>"
      ]
     },
     "metadata": {},
     "output_type": "display_data"
    },
    {
     "name": "stdout",
     "output_type": "stream",
     "text": [
      "(3, 1) b'1'\n",
      "(3, 2) b'1'\n"
     ]
    },
    {
     "data": {
      "image/png": "[encoded data removed]",
      "text/plain": [
       "<Figure size 288x288 with 1 Axes>"
      ]
     },
     "metadata": {},
     "output_type": "display_data"
    },
    {
     "name": "stdout",
     "output_type": "stream",
     "text": [
      "(3, 2) b'1'\n",
      "(2, 2) b'1'\n"
     ]
    },
    {
     "data": {
      "image/png": "[encoded data removed]",
      "text/plain": [
       "<Figure size 288x288 with 1 Axes>"
      ]
     },
     "metadata": {},
     "output_type": "display_data"
    },
    {
     "name": "stdout",
     "output_type": "stream",
     "text": [
      "(2, 2) b'1'\n",
      "(3, 2) b'1'\n"
     ]
    },
    {
     "data": {
      "image/png": "[encoded data removed]",
      "text/plain": [
       "<Figure size 288x288 with 1 Axes>"
      ]
     },
     "metadata": {},
     "output_type": "display_data"
    },
    {
     "name": "stdout",
     "output_type": "stream",
     "text": [
      "(3, 2) b'1'\n",
      "(3, 1) b'1'\n"
     ]
    },
    {
     "data": {
      "image/png": "[encoded data removed]",
      "text/plain": [
       "<Figure size 288x288 with 1 Axes>"
      ]
     },
     "metadata": {},
     "output_type": "display_data"
    },
    {
     "name": "stdout",
     "output_type": "stream",
     "text": [
      "(3, 1) b'1'\n",
      "(2, 1) b'1'\n"
     ]
    },
    {
     "data": {
      "image/png": "[encoded data removed]",
      "text/plain": [
       "<Figure size 288x288 with 1 Axes>"
      ]
     },
     "metadata": {},
     "output_type": "display_data"
    },
    {
     "name": "stdout",
     "output_type": "stream",
     "text": [
      "(2, 1) b'1'\n",
      "(2, 2) b'1'\n"
     ]
    },
    {
     "data": {
      "image/png": "[encoded data removed]",
      "text/plain": [
       "<Figure size 288x288 with 1 Axes>"
      ]
     },
     "metadata": {},
     "output_type": "display_data"
    },
    {
     "name": "stdout",
     "output_type": "stream",
     "text": [
      "(2, 2) b'1'\n",
      "(2, 1) b'1'\n"
     ]
    },
    {
     "data": {
      "image/png": "[encoded data removed]",
      "text/plain": [
       "<Figure size 288x288 with 1 Axes>"
      ]
     },
     "metadata": {},
     "output_type": "display_data"
    },
    {
     "name": "stdout",
     "output_type": "stream",
     "text": [
      "(2, 1) b'1'\n",
      "(1, 1) b'3'\n"
     ]
    },
    {
     "data": {
      "image/png": "[encoded data removed]",
      "text/plain": [
       "<Figure size 288x288 with 1 Axes>"
      ]
     },
     "metadata": {},
     "output_type": "display_data"
    },
    {
     "name": "stdout",
     "output_type": "stream",
     "text": [
      "(1, 1) b'3'\n",
      "(1, 1) b'3'\n"
     ]
    },
    {
     "data": {
      "image/png": "[encoded data removed]",
      "text/plain": [
       "<Figure size 288x288 with 1 Axes>"
      ]
     },
     "metadata": {},
     "output_type": "display_data"
    },
    {
     "name": "stdout",
     "output_type": "stream",
     "text": [
      "(1, 1) b'3'\n",
      "(1, 1) b'3'\n"
     ]
    },
    {
     "data": {
      "image/png": "[encoded data removed]",
      "text/plain": [
       "<Figure size 288x288 with 1 Axes>"
      ]
     },
     "metadata": {},
     "output_type": "display_data"
    },
    {
     "name": "stdout",
     "output_type": "stream",
     "text": [
      "(1, 1) b'3'\n",
      "(1, 1) b'3'\n"
     ]
    },
    {
     "data": {
      "image/png": "[encoded data removed]",
      "text/plain": [
       "<Figure size 288x288 with 1 Axes>"
      ]
     },
     "metadata": {},
     "output_type": "display_data"
    },
    {
     "name": "stdout",
     "output_type": "stream",
     "text": [
      "(1, 1) b'3'\n",
      "(1, 1) b'3'\n"
     ]
    },
    {
     "data": {
      "image/png": "[encoded data removed]",
      "text/plain": [
       "<Figure size 288x288 with 1 Axes>"
      ]
     },
     "metadata": {},
     "output_type": "display_data"
    },
    {
     "name": "stdout",
     "output_type": "stream",
     "text": [
      "(1, 1) b'3'\n",
      "(1, 1) b'3'\n"
     ]
    },
    {
     "data": {
      "image/png": "[encoded data removed]",
      "text/plain": [
       "<Figure size 288x288 with 1 Axes>"
      ]
     },
     "metadata": {},
     "output_type": "display_data"
    },
    {
     "name": "stdout",
     "output_type": "stream",
     "text": [
      "(1, 1) b'3'\n",
      "(1, 1) b'3'\n"
     ]
    },
    {
     "data": {
      "image/png": "[encoded data removed]",
      "text/plain": [
       "<Figure size 288x288 with 1 Axes>"
      ]
     },
     "metadata": {},
     "output_type": "display_data"
    },
    {
     "name": "stdout",
     "output_type": "stream",
     "text": [
      "(1, 1) b'3'\n",
      "(1, 1) b'3'\n"
     ]
    },
    {
     "data": {
      "image/png": "[encoded data removed]",
      "text/plain": [
       "<Figure size 288x288 with 1 Axes>"
      ]
     },
     "metadata": {},
     "output_type": "display_data"
    },
    {
     "name": "stdout",
     "output_type": "stream",
     "text": [
      "(1, 1) b'3'\n",
      "(1, 1) b'3'\n"
     ]
    },
    {
     "data": {
      "image/png": "[encoded data removed]",
      "text/plain": [
       "<Figure size 288x288 with 1 Axes>"
      ]
     },
     "metadata": {},
     "output_type": "display_data"
    },
    {
     "name": "stdout",
     "output_type": "stream",
     "text": [
      "(1, 1) b'3'\n",
      "(1, 1) b'3'\n"
     ]
    },
    {
     "data": {
      "image/png": "[encoded data removed]",
      "text/plain": [
       "<Figure size 288x288 with 1 Axes>"
      ]
     },
     "metadata": {},
     "output_type": "display_data"
    },
    {
     "name": "stdout",
     "output_type": "stream",
     "text": [
      "(1, 1) b'3'\n",
      "(1, 1) b'3'\n"
     ]
    },
    {
     "data": {
      "image/png": "[encoded data removed]",
      "text/plain": [
       "<Figure size 288x288 with 1 Axes>"
      ]
     },
     "metadata": {},
     "output_type": "display_data"
    },
    {
     "name": "stdout",
     "output_type": "stream",
     "text": [
      "(1, 1) b'3'\n",
      "(1, 1) b'3'\n"
     ]
    },
    {
     "data": {
      "image/png": "[encoded data removed]",
      "text/plain": [
       "<Figure size 288x288 with 1 Axes>"
      ]
     },
     "metadata": {},
     "output_type": "display_data"
    },
    {
     "name": "stdout",
     "output_type": "stream",
     "text": [
      "(1, 1) b'3'\n",
      "(1, 1) b'3'\n"
     ]
    },
    {
     "data": {
      "image/png": "[encoded data removed]",
      "text/plain": [
       "<Figure size 288x288 with 1 Axes>"
      ]
     },
     "metadata": {},
     "output_type": "display_data"
    },
    {
     "name": "stdout",
     "output_type": "stream",
     "text": [
      "(1, 1) b'3'\n",
      "(1, 1) b'3'\n"
     ]
    },
    {
     "data": {
      "image/png": "[encoded data removed]",
      "text/plain": [
       "<Figure size 288x288 with 1 Axes>"
      ]
     },
     "metadata": {},
     "output_type": "display_data"
    },
    {
     "name": "stdout",
     "output_type": "stream",
     "text": [
      "(1, 1) b'3'\n",
      "(1, 1) b'3'\n"
     ]
    },
    {
     "data": {
      "image/png": "[encoded data removed]",
      "text/plain": [
       "<Figure size 288x288 with 1 Axes>"
      ]
     },
     "metadata": {},
     "output_type": "display_data"
    },
    {
     "name": "stdout",
     "output_type": "stream",
     "text": [
      "(1, 1) b'3'\n",
      "(1, 1) b'3'\n",
      "[[[0.7489598  0.01661873]\n",
      "  [0.12273616 0.01032241]\n",
      "  [0.00000002 0.01097514]\n",
      "  [0.128304   0.00675626]\n",
      "  [0.00000002 0.95532746]]\n",
      "\n",
      " [[0.18601049 0.01661873]\n",
      "  [0.69708253 0.01032241]\n",
      "  [0.11690665 0.01097514]\n",
      "  [0.00000017 0.00675626]\n",
      "  [0.00000017 0.95532746]]\n",
      "\n",
      " [[0.00000006 0.01661873]\n",
      "  [0.12085146 0.01032241]\n",
      "  [0.72251476 0.01097514]\n",
      "  [0.15663367 0.00675626]\n",
      "  [0.00000006 0.95532746]]\n",
      "\n",
      " [[0.14063572 0.01661873]\n",
      "  [0.00000002 0.01032241]\n",
      "  [0.0984452  0.01097514]\n",
      "  [0.76091904 0.00675626]\n",
      "  [0.00000002 0.95532746]]\n",
      "\n",
      " [[0.00000001 0.01661873]\n",
      "  [0.00000001 0.01032241]\n",
      "  [0.00000001 0.01097514]\n",
      "  [0.00000001 0.00675626]\n",
      "  [0.99999997 0.95532746]]]\n"
     ]
    }
   ],
   "source": [
    "plot_mars(mdp,tabsoftq_gen_pol(Qi))\n",
    "print(softmax(Ti_thetas))"
   ]
  },
  {
   "cell_type": "code",
   "execution_count": 59,
   "metadata": {},
   "outputs": [
    {
     "data": {
      "text/plain": [
       "(117, 5)"
      ]
     },
     "execution_count": 59,
     "metadata": {},
     "output_type": "execute_result"
    }
   ],
   "source": [
    "Qi.shape"
   ]
  },
  {
   "cell_type": "code",
   "execution_count": 65,
   "metadata": {},
   "outputs": [
    {
     "data": {
      "text/plain": [
       "array([[[0.74835885, 0.12284243, 0.00000002, 0.12879868, 0.00000002],\n",
       "        [0.18600954, 0.69696629, 0.11702383, 0.00000017, 0.00000017],\n",
       "        [0.00000006, 0.12134723, 0.7221528 , 0.15649986, 0.00000006],\n",
       "        [0.14150809, 0.00000002, 0.09904106, 0.75945082, 0.00000002],\n",
       "        [0.00000001, 0.00000001, 0.00000001, 0.00000001, 0.99999997]],\n",
       "\n",
       "       [[0.01661   , 0.01031755, 0.01096978, 0.00675251, 0.95535015],\n",
       "        [0.01661   , 0.01031755, 0.01096978, 0.00675251, 0.95535015],\n",
       "        [0.01661   , 0.01031755, 0.01096978, 0.00675251, 0.95535015],\n",
       "        [0.01661   , 0.01031755, 0.01096978, 0.00675251, 0.95535015],\n",
       "        [0.01661   , 0.01031755, 0.01096978, 0.00675251, 0.95535015]]])"
      ]
     },
     "execution_count": 65,
     "metadata": {},
     "output_type": "execute_result"
    }
   ],
   "source": [
    "softmax(Ti_thetas).transpose((2,0,1))"
   ]
  },
  {
   "cell_type": "code",
   "execution_count": 43,
   "metadata": {},
   "outputs": [
    {
     "data": {
      "text/plain": [
       "array([0.02223182, 0.117746  , 0.09106168, 0.1374709 , 0.14176623,\n",
       "       0.14099607, 0.02644417, 0.04406414, 0.11926129, 0.2       ,\n",
       "       0.99789536, 0.04655413, 0.04693375, 0.1216617 , 0.13274746,\n",
       "       0.02266679, 0.2       , 0.13336854, 0.2       , 0.01852296,\n",
       "       0.04842858, 0.05046716, 0.04193997, 0.08015846, 0.02220864,\n",
       "       0.2       , 0.13470806, 0.2       , 0.02955232, 0.2       ,\n",
       "       0.2       , 0.06212652, 0.02167367, 0.02422936, 0.2       ,\n",
       "       0.0840812 , 0.2       , 0.03303228, 0.03027286, 0.2       ,\n",
       "       0.04336248, 0.02496619, 0.02656555, 0.2       , 1.        ,\n",
       "       1.        , 0.15646083, 0.20322759, 0.23533399, 0.2       ,\n",
       "       0.01792521, 0.03073178, 0.10804924, 0.2       , 0.2       ,\n",
       "       0.2       , 0.2       , 0.26007403, 0.23473488, 0.02184262,\n",
       "       0.09316492, 0.03896799, 0.2       , 0.06028736, 0.05760008,\n",
       "       0.05271302, 0.04085675, 0.03894661, 0.07338487, 0.23027797,\n",
       "       0.03452568, 0.05019384, 0.05505937, 0.02787771, 0.05241014,\n",
       "       0.04313029, 0.10905405, 0.17644853, 0.10936309, 0.02877543,\n",
       "       0.04937188, 0.03603342, 0.17942942, 0.05428458, 0.31136831,\n",
       "       0.03882827, 0.04213686, 0.04423514, 0.02916948, 0.05487376,\n",
       "       0.08755912, 0.2       , 0.2       , 0.2       , 0.04749731,\n",
       "       0.04494358, 0.0464242 , 0.05601075, 0.2       , 0.2       ,\n",
       "       1.        , 0.2       , 0.2       , 0.2       , 0.06103941,\n",
       "       0.05256783, 0.05892874, 0.2       , 0.02883248, 0.01645225,\n",
       "       0.02451347, 0.2       , 0.2       , 0.04811703, 0.2       ,\n",
       "       0.2       , 0.2       ])"
      ]
     },
     "execution_count": 43,
     "metadata": {},
     "output_type": "execute_result"
    }
   ],
   "source": [
    "tabsoftq_gen_pol_probs(Qi)"
   ]
  },
  {
   "cell_type": "code",
   "execution_count": 44,
   "metadata": {
    "scrolled": true
   },
   "outputs": [
    {
     "name": "stdout",
     "output_type": "stream",
     "text": [
      "[[[0.73929802 0.020167  ]\n",
      "  [0.12049617 0.01225457]\n",
      "  [0.00000002 0.01307867]\n",
      "  [0.14020576 0.00806576]\n",
      "  [0.00000002 0.946434  ]]\n",
      "\n",
      " [[0.20134535 0.020167  ]\n",
      "  [0.67597779 0.01225457]\n",
      "  [0.12267651 0.01307867]\n",
      "  [0.00000017 0.00806576]\n",
      "  [0.00000017 0.946434  ]]\n",
      "\n",
      " [[0.00000006 0.020167  ]\n",
      "  [0.11182617 0.01225457]\n",
      "  [0.72448691 0.01307867]\n",
      "  [0.16368681 0.00806576]\n",
      "  [0.00000006 0.946434  ]]\n",
      "\n",
      " [[0.14163339 0.020167  ]\n",
      "  [0.00000002 0.01225457]\n",
      "  [0.10441812 0.01307867]\n",
      "  [0.75394846 0.00806576]\n",
      "  [0.00000002 0.946434  ]]\n",
      "\n",
      " [[0.00000001 0.020167  ]\n",
      "  [0.00000001 0.01225457]\n",
      "  [0.00000001 0.01307867]\n",
      "  [0.00000001 0.00806576]\n",
      "  [0.99999997 0.946434  ]]]\n"
     ]
    }
   ],
   "source": [
    "print(softmax(Ti_thetas)) # - softmax(T_estimate(adt_obs[train_demo_example_idxes])))"
   ]
  },
  {
   "cell_type": "code",
   "execution_count": null,
   "metadata": {},
   "outputs": [],
   "source": []
  },
  {
   "cell_type": "code",
   "execution_count": null,
   "metadata": {},
   "outputs": [],
   "source": [
    "test_T_likelihood(softmax(Ti_thetas), val_sas_obs, val_adt_obs)"
   ]
  },
  {
   "cell_type": "code",
   "execution_count": null,
   "metadata": {},
   "outputs": [],
   "source": [
    "test_T_likelihood(softmax(T_estimate(adt_obs[train_demo_example_idxes])), val_sas_obs, val_adt_obs)"
   ]
  },
  {
   "cell_type": "code",
   "execution_count": null,
   "metadata": {},
   "outputs": [],
   "source": [
    "test_T_likelihood(true_tps, val_sas_obs, val_adt_obs)"
   ]
  },
  {
   "cell_type": "code",
   "execution_count": null,
   "metadata": {},
   "outputs": [],
   "source": [
    "true_trans_loss(softmax(Ti_thetas))"
   ]
  },
  {
   "cell_type": "code",
   "execution_count": null,
   "metadata": {},
   "outputs": [],
   "source": [
    "softmax(Ti_thetas)"
   ]
  },
  {
   "cell_type": "code",
   "execution_count": null,
   "metadata": {},
   "outputs": [],
   "source": [
    "true_trans_loss(softmax(T_estimate(adt_obs[train_demo_example_idxes])))"
   ]
  },
  {
   "cell_type": "code",
   "execution_count": null,
   "metadata": {},
   "outputs": [],
   "source": [
    "softmax(T_estimate(adt_obs[train_demo_example_idxes]))"
   ]
  },
  {
   "cell_type": "code",
   "execution_count": null,
   "metadata": {},
   "outputs": [],
   "source": [
    "plot_values(mdp, Qi)"
   ]
  },
  {
   "cell_type": "code",
   "execution_count": null,
   "metadata": {},
   "outputs": [],
   "source": [
    "plot_values(mdp, exQs)"
   ]
  },
  {
   "cell_type": "markdown",
   "metadata": {},
   "source": [
    "## SERD only"
   ]
  },
  {
   "cell_type": "code",
   "execution_count": null,
   "metadata": {},
   "outputs": [],
   "source": [
    "serd_train_logs = {\n",
    "  'train_likelihoods': [],\n",
    "  'val_likelihoods': [],\n",
    "  'tp_lls': [],\n",
    "  'tt_lls': [],\n",
    "  'vp_lls': [],\n",
    "  'vt_lls': [],\n",
    "  'true_trans_loss': []\n",
    "}"
   ]
  },
  {
   "cell_type": "code",
   "execution_count": null,
   "metadata": {},
   "outputs": [],
   "source": [
    "Ts_thetas = T_estimate(adt_obs[train_demo_example_idxes]) #np.log(Tps2+.000000001)\n",
    "feats = mdp.feature_map\n",
    "Rs_thetas = np.random.normal(loc=1,scale=0.1,size=feats.shape[1])\n",
    "Qs = None"
   ]
  },
  {
   "cell_type": "code",
   "execution_count": null,
   "metadata": {},
   "outputs": [],
   "source": [
    "maxiter = 300\n",
    "t_learning_rate = lambda t: 0 if t<20 else 3 - (2 * int(t/(maxiter/2)))\n",
    "r_learning_rate = lambda t: 2e-1 if t<20 else 1e-1"
   ]
  },
  {
   "cell_type": "code",
   "execution_count": null,
   "metadata": {
    "scrolled": true
   },
   "outputs": [],
   "source": [
    "while len(serd_train_logs['tt_lls']) < maxiter:\n",
    "    prevQs = Qs.copy() if Qs is not None else None\n",
    "    t = len(serd_train_logs['tt_lls'])\n",
    "    batch_demo_sas, batch_demo_adt = sample_batch(batch_size, train_demo_example_idxes, sas_obs, adt_obs)\n",
    "    Rs = feats.dot(Rs_thetas)\n",
    "    tp_ll, dT_pol, dR_pol, Qs = eval_TR_pol_likelihood_and_grad(Ts_thetas, Rs, feats, batch_demo_sas, Q_inits=Qs)\n",
    "    tt_ll, dT_trans = eval_trans_likelihood_and_grad(Ts_thetas, batch_demo_adt)\n",
    "    train_likelihood = tp_ll + tt_ll\n",
    "    vp_ll, vt_ll = eval_demo_log_likelihood(val_sas_obs, val_adt_obs, Ts_thetas, Qs)\n",
    "    val_likelihood = vp_ll + vt_ll\n",
    "    ttd = true_trans_loss(softmax(Ts_thetas))\n",
    "    Rs_thetas += r_learning_rate(t) * dR_pol\n",
    "    Ts_thetas += t_learning_rate(t) * (dT_trans + dT_pol)\n",
    "\n",
    "#     print(dT_trans)\n",
    "#     print(dT_pol)\n",
    "#     print(softmax(Ts_thetas))\n",
    "#     print(dR_pol * r_learning_rate(t))\n",
    "#     print(Rs_thetas)\n",
    "#     if prevQs is not None:\n",
    "#         print(\"Q_diff\")\n",
    "#         print(np.linalg.norm(Qs-prevQs))\n",
    "\n",
    "    \n",
    "    print('%d %f %f %f %f' % (t, vp_ll, vt_ll, vp_ll + vt_ll, ttd))\n",
    "    serd_train_logs['train_likelihoods'].append(train_likelihood)\n",
    "    serd_train_logs['val_likelihoods'].append(val_likelihood)\n",
    "    serd_train_logs['tp_lls'].append(tp_ll)\n",
    "    serd_train_logs['tt_lls'].append(tt_ll)\n",
    "    serd_train_logs['vp_lls'].append(vp_ll)\n",
    "    serd_train_logs['vt_lls'].append(vt_ll)\n",
    "    serd_train_logs['true_trans_loss'].append(ttd)"
   ]
  },
  {
   "cell_type": "code",
   "execution_count": null,
   "metadata": {},
   "outputs": [],
   "source": [
    "print(softmax(Ts_thetas))"
   ]
  },
  {
   "cell_type": "code",
   "execution_count": null,
   "metadata": {},
   "outputs": [],
   "source": [
    "print(Rs_thetas)"
   ]
  },
  {
   "cell_type": "code",
   "execution_count": null,
   "metadata": {},
   "outputs": [],
   "source": [
    "true_trans_loss(softmax(Ts_thetas))"
   ]
  },
  {
   "cell_type": "code",
   "execution_count": null,
   "metadata": {},
   "outputs": [],
   "source": [
    "plt.plot(serd_train_logs['vp_lls'][:250])\n",
    "plt.plot(idl_train_logs['vp_lls'][:250])"
   ]
  },
  {
   "cell_type": "code",
   "execution_count": null,
   "metadata": {},
   "outputs": [],
   "source": [
    "plt.plot(serd_train_logs['vt_lls'][:250])\n",
    "plt.plot(idl_train_logs['vt_lls'][:250])"
   ]
  },
  {
   "cell_type": "code",
   "execution_count": null,
   "metadata": {},
   "outputs": [],
   "source": [
    "plt.plot(serd_train_logs['val_likelihoods'], label = \"SERD\")\n",
    "plt.plot(idl_train_logs['val_likelihoods'], label = \"IDL\")\n",
    "plt.title(\"Log likelihood of Demonstrations\")\n",
    "plt.xlabel(\"Iterations of MDCE\")\n",
    "plt.ylabel(\"Log Likelihood\")\n",
    "plt.legend()"
   ]
  },
  {
   "cell_type": "code",
   "execution_count": null,
   "metadata": {},
   "outputs": [],
   "source": [
    "plt.plot(serd_train_logs['true_trans_loss'], label = \"SERD\")\n",
    "plt.plot(idl_train_logs['true_trans_loss'], label = \"IDL\")\n",
    "plt.title(\"Square Error of Learned Transition Parameters\")\n",
    "plt.xlabel(\"Iterations of MDCE\")\n",
    "plt.ylabel(\"Summed Square Error\")\n",
    "plt.legend()"
   ]
  },
  {
   "cell_type": "markdown",
   "metadata": {},
   "source": [
    "## Comparison Tests"
   ]
  },
  {
   "cell_type": "code",
   "execution_count": null,
   "metadata": {},
   "outputs": [],
   "source": [
    "def demo_stats(mdp, demos):\n",
    "    demo_rewards = []\n",
    "    for i in range(len(demos)):\n",
    "        demo_rewards += [np.array([mdp.rewards[obs[0][2]] for obs in demos[i]])]\n",
    "#         for j in range(len(demo_rewards[i])):\n",
    "#             print(demos[i][j][0], demo_rewards[i][j])\n",
    "    \n",
    "    discounted_demo_rewards = [np.power(gamma,np.arange(len(dr)))*dr for dr in demo_rewards]\n",
    "    demo_rewards, discounted_demo_rewards = np.array(demo_rewards), np.array(discounted_demo_rewards)\n",
    "    data = {\"mean episode reward\": np.mean(np.sum(demo_rewards, axis=1)),\n",
    "            \"sd episode reward\": np.std(np.sum(demo_rewards, axis=1)),\n",
    "            \"mean discounted episode reward\": np.mean(np.sum(discounted_demo_rewards, axis=1)),\n",
    "            \"sd discounted episode reward\": np.std(np.sum(discounted_demo_rewards, axis=1))}\n",
    "    return data\n",
    "    \n",
    "    "
   ]
  },
  {
   "cell_type": "code",
   "execution_count": null,
   "metadata": {},
   "outputs": [],
   "source": [
    "SERD_demos = generate_demonstrations(mdp, tabsoftq_gen_pol(Qs), 2000, demo_time_steps)\n",
    "IDL_demos = generate_demonstrations(mdp, tabsoftq_gen_pol(Qi), 2000, demo_time_steps)"
   ]
  },
  {
   "cell_type": "code",
   "execution_count": null,
   "metadata": {},
   "outputs": [],
   "source": [
    "print(demo_stats(mdp, SERD_demos))"
   ]
  },
  {
   "cell_type": "code",
   "execution_count": null,
   "metadata": {},
   "outputs": [],
   "source": [
    "print(demo_stats(mdp, IDL_demos))"
   ]
  },
  {
   "cell_type": "code",
   "execution_count": null,
   "metadata": {},
   "outputs": [],
   "source": [
    "plot_values(mdp, Qs)"
   ]
  },
  {
   "cell_type": "code",
   "execution_count": null,
   "metadata": {},
   "outputs": [],
   "source": [
    "plot_values(mdp, Qi)"
   ]
  },
  {
   "cell_type": "code",
   "execution_count": null,
   "metadata": {},
   "outputs": [],
   "source": [
    "print(reward_map[5][0], Qi[2], Q[2])"
   ]
  },
  {
   "cell_type": "markdown",
   "metadata": {},
   "source": [
    "### Transfer"
   ]
  },
  {
   "cell_type": "code",
   "execution_count": null,
   "metadata": {},
   "outputs": [],
   "source": [
    "tile_map2 = [\n",
    "        \"2FFFFFFF1\",\n",
    "        \"FFFFFFFFF\",\n",
    "        \"FFFFUFFFF\",\n",
    "        \"FFFUUUFSF\",\n",
    "        \"FFUU3UUFF\",\n",
    "        \"FSFUUUFSF\",\n",
    "        \"FSFFUFFSF\",\n",
    "        \"FFFSSSFFF\",\n",
    "        \"1FFFFFFF2\"\n",
    "    ]\n",
    "reward_map2, texture_map2 = build_reward_map(tile_map2, tile_rewards, goal_tile_rewards, tile_reward_modifier)\n",
    "# reward_normalizer2 = (1-gamma)/(np.max(reward_map2))\n",
    "# reward_map2 *= reward_normalizer2\n",
    "# time_penalty *= reward_normalizer2\n",
    "# temperature2 = 1/(reward_normalizer2)\n",
    "# print(temperature2)\n",
    "print(reward_map2)\n",
    "print(texture_map2)"
   ]
  },
  {
   "cell_type": "code",
   "execution_count": null,
   "metadata": {},
   "outputs": [],
   "source": [
    "mdp = MarsExplorerEnv(tile_map2, reward_map2, texture_map2, trans_dict, time_penalty) \n",
    "nA = mdp.num_actions\n",
    "nS = mdp.num_states"
   ]
  },
  {
   "cell_type": "code",
   "execution_count": null,
   "metadata": {},
   "outputs": [],
   "source": [
    "\n",
    "Tips = softmax(Ti_thetas,axis=1)\n",
    "Ti = mdp.adt_trans_to_sas_trans(Tips)\n",
    "Ri = mdp.rewards\n",
    "Qit = tabsoftq_iter(Ri, Ti, maxiter=tabsoftq_iter_maxiter, verbose=tabsoftq_iter_verbose, ftol=tabsoftq_iter_ftol)"
   ]
  },
  {
   "cell_type": "code",
   "execution_count": null,
   "metadata": {},
   "outputs": [],
   "source": [
    "Tips = softmax(Ti_thetas,axis=1)\n",
    "Ti = mdp.adt_trans_to_sas_trans(Tips)\n",
    "Ri = mdp.rewards\n",
    "Qit = tabsoftq_iter(Ri, Ti, maxiter=tabsoftq_iter_maxiter, verbose=tabsoftq_iter_verbose, ftol=tabsoftq_iter_ftol)"
   ]
  },
  {
   "cell_type": "code",
   "execution_count": null,
   "metadata": {},
   "outputs": [],
   "source": [
    "Tsps = softmax(Ts_thetas,axis=1)\n",
    "Ts = mdp.adt_trans_to_sas_trans(Tips)\n",
    "Rs = mdp.feature_map.dot(Rs_thetas)\n",
    "Qst = tabsoftq_iter(Rs, Ts, maxiter=tabsoftq_iter_maxiter, verbose=tabsoftq_iter_verbose, ftol=tabsoftq_iter_ftol)"
   ]
  },
  {
   "cell_type": "code",
   "execution_count": null,
   "metadata": {},
   "outputs": [],
   "source": [
    "IDL_trans_demos = generate_demonstrations(mdp, tabsoftq_gen_pol(Qit), 1000, demo_time_steps)\n",
    "SERD_trans_demos = generate_demonstrations(mdp, tabsoftq_gen_pol(Qst), 1000, demo_time_steps)"
   ]
  },
  {
   "cell_type": "code",
   "execution_count": null,
   "metadata": {},
   "outputs": [],
   "source": [
    "plot_mars(mdp,tabsoftq_gen_pol(Qit),Qs=Qit)"
   ]
  },
  {
   "cell_type": "code",
   "execution_count": null,
   "metadata": {},
   "outputs": [],
   "source": [
    "print(demo_stats(mdp, IDL_trans_demos))"
   ]
  },
  {
   "cell_type": "code",
   "execution_count": null,
   "metadata": {},
   "outputs": [],
   "source": [
    "print(demo_stats(mdp, SERD_trans_demos))"
   ]
  },
  {
   "cell_type": "code",
   "execution_count": null,
   "metadata": {},
   "outputs": [],
   "source": [
    "plot_values(mdp, Qit)"
   ]
  },
  {
   "cell_type": "code",
   "execution_count": null,
   "metadata": {},
   "outputs": [],
   "source": [
    "plot_values(mdp, Qst)"
   ]
  },
  {
   "cell_type": "code",
   "execution_count": null,
   "metadata": {},
   "outputs": [],
   "source": [
    "Qtrue = tabsoftq_learn_Qs(mdp)\n",
    "plot_values(mdp,Qtrue)"
   ]
  },
  {
   "cell_type": "code",
   "execution_count": null,
   "metadata": {},
   "outputs": [],
   "source": []
  },
  {
   "cell_type": "code",
   "execution_count": null,
   "metadata": {},
   "outputs": [],
   "source": []
  }
 ],
 "metadata": {
  "kernelspec": {
   "display_name": "Python 3",
   "language": "python",
   "name": "python3"
  },
  "language_info": {
   "codemirror_mode": {
    "name": "ipython",
    "version": 3
   },
   "file_extension": ".py",
   "mimetype": "text/x-python",
   "name": "python",
   "nbconvert_exporter": "python",
   "pygments_lexer": "ipython3",
   "version": "3.6.8"
  }
 },
 "nbformat": 4,
 "nbformat_minor": 2
}
