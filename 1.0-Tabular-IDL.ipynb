{
 "cells": [
  {
   "cell_type": "code",
   "execution_count": 1,
   "metadata": {},
   "outputs": [],
   "source": [
    "# Covers tabular implementations of SERD and IDL and compares their effectivenes"
   ]
  },
  {
   "cell_type": "code",
   "execution_count": 1,
   "metadata": {},
   "outputs": [],
   "source": [
    "import numpy as np\n",
    "from envs import MarsExplorerEnv\n",
    "import matplotlib.pyplot as plt\n",
    "import time\n",
    "import matplotlib.cm as cm\n",
    "import matplotlib.colors as colors\n",
    "import os\n",
    "import seaborn as sns\n",
    "from matplotlib.offsetbox import AnnotationBbox, OffsetImage\n",
    "from matplotlib._png import read_png\n",
    "import pickle as pkl\n",
    "%matplotlib inline\n",
    "\n",
    "import gym\n",
    "from gym import spaces\n",
    "from gym.envs.classic_control import rendering\n",
    "import tensorflow as tf\n",
    "from scipy.special import logsumexp\n",
    "from copy import deepcopy as copy\n",
    "import random\n",
    "np.set_printoptions(precision=8, suppress=True,threshold=np.nan)"
   ]
  },
  {
   "cell_type": "code",
   "execution_count": 2,
   "metadata": {},
   "outputs": [],
   "source": [
    "# %store -r"
   ]
  },
  {
   "cell_type": "code",
   "execution_count": 3,
   "metadata": {},
   "outputs": [],
   "source": [
    "#%store"
   ]
  },
  {
   "cell_type": "code",
   "execution_count": 4,
   "metadata": {},
   "outputs": [],
   "source": [
    "LEFT = 0\n",
    "DOWN = 1\n",
    "RIGHT = 2\n",
    "UP = 3\n",
    "NOOP = 4\n",
    "\n",
    "cdict = {'red':   ((0.0,  0.173, 0.173),\n",
    "                   (1.0,  0.925, 0.925)),\n",
    "\n",
    "         'green': ((0.0,  0.067, 0.067),\n",
    "                   (1.0, 0.384, 0.384)),\n",
    "\n",
    "         'blue':  ((0.0,  0.027, 0.027),\n",
    "                   (1.0,  0.196, 0.196))}\n",
    "plt.register_cmap(name='RustPlanet', data=cdict)\n",
    "REWARD_COLORS = cm.get_cmap('RustPlanet')\n",
    "AGENT_COLORS = cm.get_cmap('gray')\n",
    "MAP_COLORS = {b'B':\"#3a0e00\",\n",
    "              b'F':\"#933111\",\n",
    "              b'S':\"#933111\",\n",
    "              b'U':\"#d65b33\",\n",
    "              b'1':\"#956F52\",\n",
    "              b'2':\"#3C2F34\",\n",
    "              b'3':\"#644C42\"}\n",
    "\n",
    "ROVER_PNGS = {LEFT:\"resources/rover_left.png\",\n",
    "        RIGHT:\"resources/rover_right.png\",\n",
    "        DOWN:\"resources/rover_down.png\",\n",
    "        UP:\"resources/rover_up.png\",\n",
    "        NOOP:\"resources/rover_sample.png\"}\n",
    "\n",
    "# tile_map = [\n",
    "#         \"F3FFUFU2U\",\n",
    "#         \"FUFUSUFUF\",\n",
    "#         \"FFFUSUFFU\",\n",
    "#         \"USUUUUUSU\",\n",
    "#         \"FFUSSSUFF\",\n",
    "#         \"FSFUSUFSF\",\n",
    "#         \"UUUUUUUFU\",\n",
    "#         \"UFFU1UFUU\",\n",
    "#         \"3UUFUFFU1\"\n",
    "#     ]\n",
    "\n",
    "# tile_map = [\n",
    "#         \"F22222FF1\",\n",
    "#         \"U31122FU1\",\n",
    "#         \"UF1112FU1\",\n",
    "#         \"UFUU1SFU1\",\n",
    "#         \"UFFU1FFU3\",\n",
    "#         \"3222UFS1U\",\n",
    "#         \"UUU22F1FU\",\n",
    "#         \"FSSFS12SF\",\n",
    "#         \"FSFF121FF\",\n",
    "#         \"S1S2SFFSF\",\n",
    "#         \"FUUUFFSFU\",\n",
    "#         \"U3UUUFSFU\",\n",
    "#         \"FFFUUFUUU\"\n",
    "#     ]\n",
    "\n",
    "\n",
    "tile_map = [\n",
    "        \"2FFFUFFF1\",\n",
    "        \"FFFUUUFFF\",\n",
    "        \"FFFFUFFFF\",\n",
    "        \"FSFUUUFSF\",\n",
    "        \"FSUU3UUSF\",\n",
    "        \"FSFUUUFSF\",\n",
    "        \"FFFFUFFFF\",\n",
    "        \"FFFSSSFFF\",\n",
    "        \"1FFFFFFF2\"\n",
    "    ]\n",
    "\n",
    "# tile_map = [\n",
    "#         \"3FFFFFFF1\",\n",
    "#         \"FFFFFFFFF\",\n",
    "#         \"FFFFUFFFF\",\n",
    "#         \"FSFUUUFSF\",\n",
    "#         \"FSUU3UUSF\",\n",
    "#         \"FSFUUUFSF\",\n",
    "#         \"FFFFUFFFF\",\n",
    "#         \"FFFSSSFFF\",\n",
    "#         \"1FFFFFFF2\"\n",
    "#     ]\n",
    "\n",
    "tile_rewards = {'F':0.05,\n",
    "              '1':0.1,\n",
    "              '2':0.1,\n",
    "              '3':0.1,\n",
    "              'S':0.01,\n",
    "              'U':0.0}\n",
    "\n",
    "\n",
    "goal_tile_rewards = {'F':0.0,\n",
    "              '1':1.0,\n",
    "              '2':2.0,\n",
    "              '3':4.0,\n",
    "              'S':0.0,\n",
    "              'U':0.0}\n",
    "\n",
    "tile_reward_modifier = lambda r,x,y,mx,my: r * 0.1 * ((x-(mx/2 + np.random.normal(scale=0.5)))**2 + (y - (mx/2 + np.random.normal(scale=0.5)))**2)\n",
    "\n",
    "def build_reward_map(tile_map, tile_rewards, goal_tile_rewards, tile_reward_modifier):\n",
    "    reward_map = np.zeros((len(tile_map),len(tile_map[0])))\n",
    "    texture_map = np.zeros((len(tile_map),len(tile_map[0])))\n",
    "    for y,row in enumerate(tile_map):\n",
    "        for x,c in enumerate(row):\n",
    "            reward_map[y,x] = texture_map[y,x] = tile_reward_modifier(tile_rewards[c],x,y,len(tile_map[0]),len(tile_map))\n",
    "            reward_map[y,x] +=  goal_tile_rewards[c]\n",
    "    return reward_map, texture_map\n",
    "\n",
    "reward_map, texture_map = build_reward_map(tile_map, tile_rewards, goal_tile_rewards, tile_reward_modifier)\n",
    "\n",
    "\n",
    "t0 = (0.8,0.1,0.0,0.0)\n",
    "t1 = (0.0,0.0,0.0,1.0)  #(0.1,0.15,0.5,0.1)\n",
    "\n",
    "trans_dict = {b'F':t0,\n",
    "              b'1':t0,\n",
    "              b'2':t0,\n",
    "              b'3':t0,\n",
    "              b'S':t0,\n",
    "              b'U':t1}\n",
    "\n",
    "#TODO implement theta_mat in mars_explorer so do not need to hard code, use np.roll\n",
    "true_tps = np.array([[[0.8, 0.],\n",
    "  [0.1, 0.],\n",
    "  [0.0, 0.],\n",
    "  [0.1, 0.],\n",
    "  [0.0, 1.]],\n",
    "\n",
    " [[0.1, 0.],\n",
    "  [0.8, 0.],\n",
    "  [0.1, 0.],\n",
    "  [0.0, 0.],\n",
    "  [0.0, 1.]],\n",
    "\n",
    " [[0.0, 0.],\n",
    "  [0.1, 0.],\n",
    "  [0.8, 0.],\n",
    "  [0.1, 0.],\n",
    "  [0.0, 1.]],\n",
    "\n",
    " [[0.1, 0.],\n",
    "  [0.0, 0.],\n",
    "  [0.1, 0.],\n",
    "  [0.8, 0.],\n",
    "  [0.0, 1.]],\n",
    "\n",
    " [[0., 0.],\n",
    "  [0., 0.],\n",
    "  [0., 0.],\n",
    "  [0., 0.],\n",
    "  [1., 1.]]])\n",
    "\n",
    "gamma = 0.98\n",
    "\n",
    "alpha = 0.0001\n",
    "\n",
    "T_theta_shape = (5,5,2)\n",
    "\n",
    "time_penalty = 0.0\n"
   ]
  },
  {
   "cell_type": "code",
   "execution_count": 5,
   "metadata": {},
   "outputs": [],
   "source": [
    "# reward_normalizer = (1-gamma)/(np.max(reward_map))\n",
    "# reward_map *= reward_normalizer\n",
    "# time_penalty *= reward_normalizer"
   ]
  },
  {
   "cell_type": "code",
   "execution_count": 6,
   "metadata": {},
   "outputs": [],
   "source": [
    "# temperature = 1/(reward_normalizer)\n",
    "# print(temperature)"
   ]
  },
  {
   "cell_type": "code",
   "execution_count": 7,
   "metadata": {},
   "outputs": [
    {
     "data": {
      "text/plain": [
       "<matplotlib.image.AxesImage at 0x1352093c8>"
      ]
     },
     "execution_count": 7,
     "metadata": {},
     "output_type": "execute_result"
    },
    {
     "data": {
      "image/png": "[encoded data removed]",
      "text/plain": [
       "<Figure size 432x288 with 1 Axes>"
      ]
     },
     "metadata": {},
     "output_type": "display_data"
    }
   ],
   "source": [
    "plt.imshow(reward_map, cmap=\"Blues\")"
   ]
  },
  {
   "cell_type": "code",
   "execution_count": 8,
   "metadata": {},
   "outputs": [
    {
     "data": {
      "text/plain": [
       "<matplotlib.image.AxesImage at 0x135584a58>"
      ]
     },
     "execution_count": 8,
     "metadata": {},
     "output_type": "execute_result"
    },
    {
     "data": {
      "image/png": "[encoded data removed]",
      "text/plain": [
       "<Figure size 432x288 with 1 Axes>"
      ]
     },
     "metadata": {},
     "output_type": "display_data"
    }
   ],
   "source": [
    "plt.imshow(texture_map, cmap=\"Blues\")"
   ]
  },
  {
   "cell_type": "code",
   "execution_count": 9,
   "metadata": {},
   "outputs": [
    {
     "data": {
      "text/plain": [
       "<matplotlib.image.AxesImage at 0x13516ae48>"
      ]
     },
     "execution_count": 9,
     "metadata": {},
     "output_type": "execute_result"
    },
    {
     "data": {
      "image/png": "[encoded data removed]",
      "text/plain": [
       "<Figure size 432x288 with 1 Axes>"
      ]
     },
     "metadata": {},
     "output_type": "display_data"
    }
   ],
   "source": [
    "plt.imshow(reward_map - texture_map, cmap=\"Blues\")"
   ]
  },
  {
   "cell_type": "code",
   "execution_count": 10,
   "metadata": {},
   "outputs": [],
   "source": [
    "mdp = MarsExplorerEnv(tile_map, reward_map, texture_map, trans_dict, time_penalty) \n",
    "nA = mdp.num_actions\n",
    "nS = mdp.num_states"
   ]
  },
  {
   "cell_type": "code",
   "execution_count": 11,
   "metadata": {},
   "outputs": [
    {
     "data": {
      "text/plain": [
       "<matplotlib.image.AxesImage at 0x1357d6c18>"
      ]
     },
     "execution_count": 11,
     "metadata": {},
     "output_type": "execute_result"
    },
    {
     "data": {
      "image/png": "[encoded data removed]",
      "text/plain": [
       "<Figure size 432x288 with 1 Axes>"
      ]
     },
     "metadata": {},
     "output_type": "display_data"
    }
   ],
   "source": [
    "binary_map = np.ones(mdp.tile_map.shape)\n",
    "binary_map[np.where(mdp.tile_map == b'S')] = 255.0\n",
    "plt.imshow(binary_map, cmap=\"Blues\")"
   ]
  },
  {
   "cell_type": "code",
   "execution_count": 12,
   "metadata": {},
   "outputs": [],
   "source": [
    "def plot_mars(mdp, pi, term = 40, title=None, counts = None, Qs = None):\n",
    "    background = np.array([colors.to_rgb(MAP_COLORS[l]) for l in mdp.tile_map.flat]).reshape(mdp.nrow, mdp.ncol,3)\n",
    "    s = mdp._reset()\n",
    "    t, r = 0, 0\n",
    "    while s is not None and t < term:\n",
    "        fig = plt.figure(figsize=(4,4))\n",
    "        if title != None:\n",
    "            plt.title(title)\n",
    "        plt.imshow(background)\n",
    "        plt.axes().get_xaxis().set_visible(False)\n",
    "        plt.axes().get_yaxis().set_visible(False)\n",
    "        ax = plt.gca()\n",
    "        a = pi[s] if type(pi) == np.ndarray else pi(s)\n",
    "        img_path = ROVER_PNGS[a]\n",
    "        arr_hand = read_png(img_path)\n",
    "        imagebox = OffsetImage(arr_hand, zoom=.5)\n",
    "        xy = [s%background.shape[1], s//background.shape[1]]  # coordinates to position this image\n",
    "\n",
    "        ab = AnnotationBbox(imagebox, xy,\n",
    "                            xybox=(0, 0),\n",
    "                            xycoords='data',\n",
    "                            boxcoords=\"offset points\",\n",
    "                            frameon=False)\n",
    "        ax.add_artist(ab)\n",
    "        fig.text(0.13, 0.05, 't: {}      r: {}'.format(t,round(r,4)), ha='left', fontsize=10)\n",
    "        sns.despine(bottom=True,left=True,right=True,top=True)\n",
    "        plt.show()\n",
    "        if Qs is not None:\n",
    "            print(Qs[s])\n",
    "            print(a)\n",
    "            print(softmax(Qs[s]))\n",
    "        print(mdp.s_to_grid(s), mdp.tile_map.flatten()[s])\n",
    "        s, rt, _, d = mdp._step(a)\n",
    "        print(mdp.s_to_grid(s), mdp.tile_map.flatten()[s])\n",
    "        t += 1\n",
    "        r += rt\n",
    "    if counts:\n",
    "        fig.text(0.87, 0.05, 'F: {}  L/R: {}  B: {}  S: {}'.format(counts['F'], counts['LR'], counts['B'], counts['S']), ha='right', fontsize=10)\n",
    "    #     plt.savefig(folder+\"/\"+str(t)+\".png\", format='png')\n",
    "    return\n",
    "\n",
    "def plot_mars_history(mdp, hist, title=None, counts = None):\n",
    "    background = np.array([colors.to_rgb(MAP_COLORS[l]) for l in mdp.tile_map.flat]).reshape(mdp.nrow, mdp.ncol,3)\n",
    "    t = 0\n",
    "    for s,a,sprime in [h[0] for h in hist]:\n",
    "        fig = plt.figure(figsize=(4,4))\n",
    "        if title != None:\n",
    "            plt.title(title)\n",
    "        plt.imshow(background)\n",
    "        plt.axes().get_xaxis().set_visible(False)\n",
    "        plt.axes().get_yaxis().set_visible(False)\n",
    "        ax = plt.gca()\n",
    "        img_path = ROVER_PNGS[a]\n",
    "        arr_hand = read_png(img_path)\n",
    "        imagebox = OffsetImage(arr_hand, zoom=.5)\n",
    "        xy = [s%background.shape[1], s//background.shape[1]]  # coordinates to position this image\n",
    "\n",
    "        ab = AnnotationBbox(imagebox, xy,\n",
    "                            xybox=(0, 0),\n",
    "                            xycoords='data',\n",
    "                            boxcoords=\"offset points\",\n",
    "                            frameon=False)\n",
    "        ax.add_artist(ab)\n",
    "        fig.text(0.13, 0.05, 't: {}'.format(t), ha='left', fontsize=10)\n",
    "        sns.despine(bottom=True,left=True,right=True,top=True)\n",
    "        plt.show()\n",
    "        t += 1\n",
    "    if counts:\n",
    "        fig.text(0.87, 0.05, 'F: {}  L/R: {}  B: {}  S: {}'.format(counts['F'], counts['LR'], counts['B'], counts['S']), ha='right', fontsize=10)\n",
    "    #     plt.savefig(folder+\"/\"+str(t)+\".png\", format='png')\n",
    "    return\n",
    "\n",
    "def plot_values(mdp, Qs, s=None, title=None):\n",
    "    V = np.max(Qs, axis=1).reshape((mdp.nrow,mdp.ncol))\n",
    "    pi = np.argmax(Qs, axis=1)\n",
    "    plt.figure(figsize=(8,8))\n",
    "    if title != None:\n",
    "        plt.title(title)\n",
    "    plt.imshow(V, cmap='gray')#, clim=(0,1)) 'gist_ncar'\n",
    "    ax = plt.gca()\n",
    "    ax.set_xticks(np.arange(V.shape[1])-.5)\n",
    "    ax.set_yticks(np.arange(V.shape[0])-.5)\n",
    "    ax.set_xticklabels([])\n",
    "    ax.set_yticklabels([])\n",
    "    Y, X = np.mgrid[0:V.shape[0], 0:V.shape[1]]\n",
    "    a2uv = {0: (-1, 0), 1:(0, -1), 2:(1,0), 3:(0, 1), 4:(-1,-1)}\n",
    "    Pi = pi.reshape(V.shape)\n",
    "    for y in range(V.shape[0]):\n",
    "        for x in range(V.shape[1]):\n",
    "            a = Pi[y, x]\n",
    "            u, v = a2uv[a]\n",
    "            plt.arrow(x, y,u*.3, -v*.3, color='m', head_width=0.2, head_length=0.1) \n",
    "            plt.text(x, y, str(mdp.tile_map[y,x].item().decode()),\n",
    "                     color='c', size=12,  verticalalignment='center',\n",
    "                     horizontalalignment='center', fontweight='bold')\n",
    "    if s != None:\n",
    "        plt.plot(s%V.shape[0], s//V.shape[0], 'ro')\n",
    "#     plt.grid(color='b', lw=2, ls='-')\n",
    "    return"
   ]
  },
  {
   "cell_type": "markdown",
   "metadata": {},
   "source": [
    "# Soft-Q Learning"
   ]
  },
  {
   "cell_type": "code",
   "execution_count": 13,
   "metadata": {},
   "outputs": [],
   "source": [
    "def softmax(x, axis=1):\n",
    "    \"\"\"Compute softmax values for each sets of scores in x.\"\"\"\n",
    "    axis = 0 if len(x.shape) == 1 else axis\n",
    "    e_x = np.exp(x - np.max(x, axis=axis,keepdims=True))\n",
    "    return (e_x / e_x.sum(axis=axis, keepdims = True))"
   ]
  },
  {
   "cell_type": "code",
   "execution_count": 14,
   "metadata": {},
   "outputs": [],
   "source": [
    "def tabsoftq_iter(R, T, maxiter=10000, verbose=False, Q_init=None, learning_rate=0.5, ftol=1e-32):\n",
    "    Q = np.zeros((nS, nA)) if Q_init is None else copy(Q_init)\n",
    "    prevQ = copy(Q)\n",
    "    if verbose:\n",
    "        diffs = []\n",
    "        meanVs = []\n",
    "    for iter_idx in range(maxiter):\n",
    "        V = alpha * logsumexp(prevQ / alpha, axis=1)\n",
    "        V_broad = V.reshape((1, 1, nS))\n",
    "        Q = np.sum(T * (R + gamma * V_broad), axis=2)\n",
    "        Q = (1 - learning_rate) * prevQ + learning_rate * Q\n",
    "        diff = np.mean((Q - prevQ)**2)/(np.std(Q)**2)\n",
    "        if verbose:\n",
    "            diffs.append(diff)\n",
    "            meanVs.append(np.mean(V)) \n",
    "        if diff < ftol:\n",
    "            break\n",
    "        prevQ = copy(Q)\n",
    "    if verbose:\n",
    "        plt.xlabel('Number of Iterations')\n",
    "        plt.ylabel('Avg. Squared Bellman Error')\n",
    "        plt.title('Soft Q Iteration')\n",
    "        plt.plot(diffs)\n",
    "        plt.yscale('log')\n",
    "        plt.show()\n",
    "        plt.xlabel('Number of Iterations')\n",
    "        plt.ylabel('Avg. Value of All Tiles')\n",
    "        plt.title('Soft Q Iteration')\n",
    "        plt.plot(meanVs)\n",
    "        plt.show()\n",
    "    return Q"
   ]
  },
  {
   "cell_type": "code",
   "execution_count": 15,
   "metadata": {},
   "outputs": [],
   "source": [
    "def tabsoftq_learn_Qs(mdp):\n",
    "    R = mdp.rewards\n",
    "    T = mdp.get_transition_matrix()\n",
    "    Qs = tabsoftq_iter(R, T)\n",
    "    return Qs\n",
    "\n",
    "def tabsoftq_gen_pol(Qs, beta=1):\n",
    "    softQs = softmax(Qs * beta)\n",
    "    return lambda s: np.random.choice(np.asarray(range(len(Qs[s]))),p=softQs[s])\n",
    "\n",
    "def tabsoftq_gen_pol_probs(Qs, beta=1):\n",
    "    softQs = softmax(Qs * beta)\n",
    "    return softQs\n"
   ]
  },
  {
   "cell_type": "code",
   "execution_count": 16,
   "metadata": {},
   "outputs": [],
   "source": [
    "def generate_demonstrations(mdp, pol, n, term):\n",
    "    hists = []\n",
    "    for i in range(n):\n",
    "        s, d, t = mdp._reset(), False, 0\n",
    "        hist = []\n",
    "        while not d and t < term:\n",
    "            a = pol[s] if type(pol) == np.ndarray else pol(s)\n",
    "            sprime, rt, _, ob_dict = mdp._step(a)\n",
    "            hist += [((s,a,sprime),ob_dict['adt'])]\n",
    "            t += 1\n",
    "            s = sprime\n",
    "        hists += [hist]\n",
    "    return hists"
   ]
  },
  {
   "cell_type": "code",
   "execution_count": 17,
   "metadata": {},
   "outputs": [],
   "source": [
    "def tabsoftq_T_grad_iter(T_thetas, Q, R, T=None, maxiter=1000, verbose=True,\n",
    "                       learning_rate=1, G_init=None, ftol=0):\n",
    "    \n",
    "    T_theta_dim = T_thetas.shape[0] * T_thetas.shape[1] * T_thetas.shape[2]\n",
    "    D = T_thetas.shape[1]\n",
    "    \n",
    "    P_broad = tabsoftq_gen_pol_probs(Q).reshape((nS, nA, 1))\n",
    "    Tps = softmax(T_thetas,axis=1)\n",
    "    \n",
    "    if T is None:\n",
    "        T = mdp.adt_trans_to_sas_trans(Tps)\n",
    "        \n",
    "    V = (alpha) * logsumexp(Q * (1 / alpha), axis=1)\n",
    "    \n",
    "    T_grad = np.zeros((nS,nA,T_theta_dim))\n",
    "    for s in range(nS):\n",
    "        t = mdp.get_tile_type(s)\n",
    "        for a in range(nA):\n",
    "            P_at = Tps[a,:,t]\n",
    "            V_theta = np.array([V[mdp.sd_to_sprime(s,d)] for d in range(D)])\n",
    "            R_theta = np.array([R[mdp.sd_to_sprime(s,d)] for d in range(D)])\n",
    "            VR_theta = R_theta + gamma * V_theta \n",
    "            D_probs = np.stack([P_at for _ in range(D)])\n",
    "            grad_at = np.dot((np.eye(D) - D_probs), VR_theta)\n",
    "            grad_at = np.dot(np.diag(P_at),grad_at)\n",
    "            filler = np.zeros(T_thetas.shape)\n",
    "            filler[a,:,t] = grad_at\n",
    "            filler = filler.flatten()\n",
    "            T_grad[s,a] = filler\n",
    "    G = T_grad if G_init is None else G_init\n",
    "    T_broad = T.reshape((nS, nA, nS, 1))\n",
    "    prevG = copy(G)\n",
    "    if verbose:\n",
    "        diffs = []\n",
    "    for iter_idx in range(maxiter):\n",
    "        expG = np.sum(P_broad * G, axis=1)\n",
    "        expG_broad = expG.reshape((1, 1, nS, T_theta_dim))\n",
    "        G = gamma * T_grad\n",
    "        t_expG = np.sum(T_broad * expG_broad, axis=2)\n",
    "        G += gamma * t_expG\n",
    "        G = (1 - learning_rate) * prevG + learning_rate * G\n",
    "    \n",
    "        diff = np.mean((G - prevG)**2)/(np.std(G)**2)\n",
    "        if verbose:\n",
    "            diffs.append(diff)\n",
    "        if diff < ftol:\n",
    "            break\n",
    "        prevG = copy(G)\n",
    "  \n",
    "    if verbose:\n",
    "        plt.xlabel('Number of Iterations')\n",
    "        plt.ylabel('Avg. Squared Bellman Error')\n",
    "        plt.title('Soft Q Gradient Iteration')\n",
    "        plt.plot(diffs)\n",
    "        plt.yscale('log')\n",
    "        plt.show()\n",
    "    expG = np.sum(P_broad * G, axis=1)\n",
    "    expG_broad = expG.reshape((nS, 1, T_theta_dim))\n",
    "    return (G - expG_broad)"
   ]
  },
  {
   "cell_type": "code",
   "execution_count": 18,
   "metadata": {},
   "outputs": [],
   "source": [
    "def vectorize_rollouts(rollouts):\n",
    "    sas_obs = []\n",
    "    adt_obs = []\n",
    "    task_idxes = []\n",
    "    for rollout in rollouts:\n",
    "        more_sas, more_adt = list(zip(*rollout))\n",
    "        sas_obs.extend(more_sas)\n",
    "        adt_obs.extend(more_adt)\n",
    "    return np.array(sas_obs), np.array(adt_obs)"
   ]
  },
  {
   "cell_type": "markdown",
   "metadata": {},
   "source": [
    "Sanity check (env and softq)"
   ]
  },
  {
   "cell_type": "code",
   "execution_count": 19,
   "metadata": {
    "scrolled": true
   },
   "outputs": [
    {
     "name": "stderr",
     "output_type": "stream",
     "text": [
      "/Users/mckaneandrus/anaconda2/envs/irld/lib/python3.6/site-packages/matplotlib/cbook/deprecation.py:107: MatplotlibDeprecationWarning: Adding an axes using the same arguments as a previous axes currently reuses the earlier instance.  In a future version, a new instance will always be created and returned.  Meanwhile, this warning can be suppressed, and the future behavior ensured, by passing a unique label to each axes instance.\n",
      "  warnings.warn(message, mplDeprecation, stacklevel=1)\n"
     ]
    },
    {
     "data": {
      "image/png": "[encoded data removed]",
      "text/plain": [
       "<Figure size 288x288 with 1 Axes>"
      ]
     },
     "metadata": {},
     "output_type": "display_data"
    },
    {
     "name": "stdout",
     "output_type": "stream",
     "text": [
      "[ 92.41956393 101.09770704 101.72052825  89.98821424  99.69206348]\n",
      "1\n",
      "[0.00005476 0.32158743 0.59949681 0.00000481 0.0788562 ]\n",
      "(5, 7) b'S'\n",
      "(5, 8) b'F'\n"
     ]
    },
    {
     "data": {
      "image/png": "[encoded data removed]",
      "text/plain": [
       "<Figure size 288x288 with 1 Axes>"
      ]
     },
     "metadata": {},
     "output_type": "display_data"
    },
    {
     "name": "stdout",
     "output_type": "stream",
     "text": [
      "[ 92.94033362  94.44315906 103.98692801  99.5443681  101.97736516]\n",
      "2\n",
      "[0.00001391 0.00006252 0.87267602 0.01026771 0.11697983]\n",
      "(5, 8) b'F'\n",
      "(6, 8) b'F'\n"
     ]
    },
    {
     "data": {
      "image/png": "[encoded data removed]",
      "text/plain": [
       "<Figure size 288x288 with 1 Axes>"
      ]
     },
     "metadata": {},
     "output_type": "display_data"
    },
    {
     "name": "stdout",
     "output_type": "stream",
     "text": [
      "[102.53629146 105.99181965 107.93544126 103.78410857 105.85770805]\n",
      "2\n",
      "[0.00350784 0.11111094 0.77599866 0.01221687 0.09716568]\n",
      "(6, 8) b'F'\n",
      "(7, 8) b'F'\n"
     ]
    },
    {
     "data": {
      "image/png": "[encoded data removed]",
      "text/plain": [
       "<Figure size 288x288 with 1 Axes>"
      ]
     },
     "metadata": {},
     "output_type": "display_data"
    },
    {
     "name": "stdout",
     "output_type": "stream",
     "text": [
      "[106.20061725 108.98644095 110.85079536 106.63479324 108.7263024 ]\n",
      "2\n",
      "[0.00736052 0.11933737 0.76993721 0.01136237 0.09200252]\n",
      "(7, 8) b'F'\n",
      "(8, 8) b'2'\n"
     ]
    },
    {
     "data": {
      "image/png": "[encoded data removed]",
      "text/plain": [
       "<Figure size 288x288 with 1 Axes>"
      ]
     },
     "metadata": {},
     "output_type": "display_data"
    },
    {
     "name": "stdout",
     "output_type": "stream",
     "text": [
      "[109.05025183 111.66306274 111.68096027 109.03881457 111.6704307 ]\n",
      "4\n",
      "[0.02312259 0.31533047 0.32102491 0.02285964 0.31766239]\n",
      "(8, 8) b'2'\n",
      "(8, 8) b'2'\n"
     ]
    },
    {
     "data": {
      "image/png": "[encoded data removed]",
      "text/plain": [
       "<Figure size 288x288 with 1 Axes>"
      ]
     },
     "metadata": {},
     "output_type": "display_data"
    },
    {
     "name": "stdout",
     "output_type": "stream",
     "text": [
      "[109.05025183 111.66306274 111.68096027 109.03881457 111.6704307 ]\n",
      "4\n",
      "[0.02312259 0.31533047 0.32102491 0.02285964 0.31766239]\n",
      "(8, 8) b'2'\n",
      "(8, 8) b'2'\n"
     ]
    },
    {
     "data": {
      "image/png": "[encoded data removed]",
      "text/plain": [
       "<Figure size 288x288 with 1 Axes>"
      ]
     },
     "metadata": {},
     "output_type": "display_data"
    },
    {
     "name": "stdout",
     "output_type": "stream",
     "text": [
      "[109.05025183 111.66306274 111.68096027 109.03881457 111.6704307 ]\n",
      "2\n",
      "[0.02312259 0.31533047 0.32102491 0.02285964 0.31766239]\n",
      "(8, 8) b'2'\n",
      "(0, 8) b'1'\n"
     ]
    },
    {
     "data": {
      "image/png": "[encoded data removed]",
      "text/plain": [
       "<Figure size 288x288 with 1 Axes>"
      ]
     },
     "metadata": {},
     "output_type": "display_data"
    },
    {
     "name": "stdout",
     "output_type": "stream",
     "text": [
      "[111.59900639 112.93956966 109.63792628 109.33962724 112.01468796]\n",
      "1\n",
      "[0.15193596 0.58057699 0.02137836 0.01586444 0.23024425]\n",
      "(0, 8) b'1'\n",
      "(0, 0) b'2'\n"
     ]
    },
    {
     "data": {
      "image/png": "[encoded data removed]",
      "text/plain": [
       "<Figure size 288x288 with 1 Axes>"
      ]
     },
     "metadata": {},
     "output_type": "display_data"
    },
    {
     "name": "stdout",
     "output_type": "stream",
     "text": [
      "[111.83597674 110.60802766 110.60743895 111.85542407 113.56327317]\n",
      "1\n",
      "[0.12149672 0.0355855  0.03556455 0.12388263 0.68347061]\n",
      "(0, 0) b'2'\n",
      "(0, 1) b'F'\n"
     ]
    },
    {
     "data": {
      "image/png": "[encoded data removed]",
      "text/plain": [
       "<Figure size 288x288 with 1 Axes>"
      ]
     },
     "metadata": {},
     "output_type": "display_data"
    },
    {
     "name": "stdout",
     "output_type": "stream",
     "text": [
      "[109.44593558 107.68034593 108.43031603 112.5594586  110.45544245]\n",
      "3\n",
      "[0.03734453 0.00638912 0.01352537 0.84025836 0.10248262]\n",
      "(0, 1) b'F'\n",
      "(8, 1) b'F'\n"
     ]
    },
    {
     "data": {
      "image/png": "[encoded data removed]",
      "text/plain": [
       "<Figure size 288x288 with 1 Axes>"
      ]
     },
     "metadata": {},
     "output_type": "display_data"
    },
    {
     "name": "stdout",
     "output_type": "stream",
     "text": [
      "[107.10843014 106.8317863  110.20392882 111.29311486 109.17896254]\n",
      "3\n",
      "[0.01026079 0.00778101 0.22674548 0.6738545  0.08135822]\n",
      "(8, 1) b'F'\n",
      "(8, 0) b'1'\n"
     ]
    },
    {
     "data": {
      "image/png": "[encoded data removed]",
      "text/plain": [
       "<Figure size 288x288 with 1 Axes>"
      ]
     },
     "metadata": {},
     "output_type": "display_data"
    },
    {
     "name": "stdout",
     "output_type": "stream",
     "text": [
      "[109.3185664  109.60370074 112.93555786 111.59687526 111.98620463]\n",
      "3\n",
      "[0.01569331 0.02087117 0.5841899  0.15316925 0.22607637]\n",
      "(8, 0) b'1'\n",
      "(8, 8) b'2'\n"
     ]
    },
    {
     "data": {
      "image/png": "[encoded data removed]",
      "text/plain": [
       "<Figure size 288x288 with 1 Axes>"
      ]
     },
     "metadata": {},
     "output_type": "display_data"
    },
    {
     "name": "stdout",
     "output_type": "stream",
     "text": [
      "[109.05025183 111.66306274 111.68096027 109.03881457 111.6704307 ]\n",
      "2\n",
      "[0.02312259 0.31533047 0.32102491 0.02285964 0.31766239]\n",
      "(8, 8) b'2'\n",
      "(8, 7) b'F'\n"
     ]
    },
    {
     "data": {
      "image/png": "[encoded data removed]",
      "text/plain": [
       "<Figure size 288x288 with 1 Axes>"
      ]
     },
     "metadata": {},
     "output_type": "display_data"
    },
    {
     "name": "stdout",
     "output_type": "stream",
     "text": [
      "[106.63484022 110.8529265  109.00353697 106.20312421 108.70589442]\n",
      "1\n",
      "[0.0113418  0.77014673 0.12116964 0.00736529 0.08997654]\n",
      "(8, 7) b'F'\n",
      "(8, 8) b'2'\n"
     ]
    },
    {
     "data": {
      "image/png": "[encoded data removed]",
      "text/plain": [
       "<Figure size 288x288 with 1 Axes>"
      ]
     },
     "metadata": {},
     "output_type": "display_data"
    },
    {
     "name": "stdout",
     "output_type": "stream",
     "text": [
      "[109.05025183 111.66306274 111.68096027 109.03881457 111.6704307 ]\n",
      "1\n",
      "[0.02312259 0.31533047 0.32102491 0.02285964 0.31766239]\n",
      "(8, 8) b'2'\n",
      "(8, 0) b'1'\n"
     ]
    },
    {
     "data": {
      "image/png": "[encoded data removed]",
      "text/plain": [
       "<Figure size 288x288 with 1 Axes>"
      ]
     },
     "metadata": {},
     "output_type": "display_data"
    },
    {
     "name": "stdout",
     "output_type": "stream",
     "text": [
      "[109.3185664  109.60370074 112.93555786 111.59687526 111.98620463]\n",
      "2\n",
      "[0.01569331 0.02087117 0.5841899  0.15316925 0.22607637]\n",
      "(8, 0) b'1'\n",
      "(8, 8) b'2'\n"
     ]
    },
    {
     "data": {
      "image/png": "[encoded data removed]",
      "text/plain": [
       "<Figure size 288x288 with 1 Axes>"
      ]
     },
     "metadata": {},
     "output_type": "display_data"
    },
    {
     "name": "stdout",
     "output_type": "stream",
     "text": [
      "[109.05025183 111.66306274 111.68096027 109.03881457 111.6704307 ]\n",
      "2\n",
      "[0.02312259 0.31533047 0.32102491 0.02285964 0.31766239]\n",
      "(8, 8) b'2'\n",
      "(0, 8) b'1'\n"
     ]
    },
    {
     "data": {
      "image/png": "[encoded data removed]",
      "text/plain": [
       "<Figure size 288x288 with 1 Axes>"
      ]
     },
     "metadata": {},
     "output_type": "display_data"
    },
    {
     "name": "stdout",
     "output_type": "stream",
     "text": [
      "[111.59900639 112.93956966 109.63792628 109.33962724 112.01468796]\n",
      "1\n",
      "[0.15193596 0.58057699 0.02137836 0.01586444 0.23024425]\n",
      "(0, 8) b'1'\n",
      "(1, 8) b'F'\n"
     ]
    },
    {
     "data": {
      "image/png": "[encoded data removed]",
      "text/plain": [
       "<Figure size 288x288 with 1 Axes>"
      ]
     },
     "metadata": {},
     "output_type": "display_data"
    },
    {
     "name": "stdout",
     "output_type": "stream",
     "text": [
      "[111.31438702 110.20543411 106.85095188 107.10567555 109.21908056]\n",
      "0\n",
      "[0.67598399 0.22300997 0.00778917 0.01004885 0.08316802]\n",
      "(1, 8) b'F'\n",
      "(0, 8) b'1'\n"
     ]
    },
    {
     "data": {
      "image/png": "[encoded data removed]",
      "text/plain": [
       "<Figure size 288x288 with 1 Axes>"
      ]
     },
     "metadata": {},
     "output_type": "display_data"
    },
    {
     "name": "stdout",
     "output_type": "stream",
     "text": [
      "[111.59900639 112.93956966 109.63792628 109.33962724 112.01468796]\n",
      "1\n",
      "[0.15193596 0.58057699 0.02137836 0.01586444 0.23024425]\n",
      "(0, 8) b'1'\n",
      "(0, 0) b'2'\n"
     ]
    },
    {
     "data": {
      "image/png": "[encoded data removed]",
      "text/plain": [
       "<Figure size 288x288 with 1 Axes>"
      ]
     },
     "metadata": {},
     "output_type": "display_data"
    },
    {
     "name": "stdout",
     "output_type": "stream",
     "text": [
      "[111.83597674 110.60802766 110.60743895 111.85542407 113.56327317]\n",
      "4\n",
      "[0.12149672 0.0355855  0.03556455 0.12388263 0.68347061]\n",
      "(0, 0) b'2'\n",
      "(0, 0) b'2'\n"
     ]
    },
    {
     "data": {
      "image/png": "[encoded data removed]",
      "text/plain": [
       "<Figure size 288x288 with 1 Axes>"
      ]
     },
     "metadata": {},
     "output_type": "display_data"
    },
    {
     "name": "stdout",
     "output_type": "stream",
     "text": [
      "[111.83597674 110.60802766 110.60743895 111.85542407 113.56327317]\n",
      "4\n",
      "[0.12149672 0.0355855  0.03556455 0.12388263 0.68347061]\n",
      "(0, 0) b'2'\n",
      "(0, 0) b'2'\n"
     ]
    },
    {
     "data": {
      "image/png": "[encoded data removed]",
      "text/plain": [
       "<Figure size 288x288 with 1 Axes>"
      ]
     },
     "metadata": {},
     "output_type": "display_data"
    },
    {
     "name": "stdout",
     "output_type": "stream",
     "text": [
      "[111.83597674 110.60802766 110.60743895 111.85542407 113.56327317]\n",
      "4\n",
      "[0.12149672 0.0355855  0.03556455 0.12388263 0.68347061]\n",
      "(0, 0) b'2'\n",
      "(0, 0) b'2'\n"
     ]
    },
    {
     "data": {
      "image/png": "[encoded data removed]",
      "text/plain": [
       "<Figure size 288x288 with 1 Axes>"
      ]
     },
     "metadata": {},
     "output_type": "display_data"
    },
    {
     "name": "stdout",
     "output_type": "stream",
     "text": [
      "[111.83597674 110.60802766 110.60743895 111.85542407 113.56327317]\n",
      "2\n",
      "[0.12149672 0.0355855  0.03556455 0.12388263 0.68347061]\n",
      "(0, 0) b'2'\n",
      "(1, 0) b'F'\n"
     ]
    },
    {
     "data": {
      "image/png": "[encoded data removed]",
      "text/plain": [
       "<Figure size 288x288 with 1 Axes>"
      ]
     },
     "metadata": {},
     "output_type": "display_data"
    },
    {
     "name": "stdout",
     "output_type": "stream",
     "text": [
      "[112.5634704  108.43148747 107.69372922 109.47920143 110.45053238]\n",
      "0\n",
      "[0.84007343 0.01348403 0.00644786 0.03844468 0.10155   ]\n",
      "(1, 0) b'F'\n",
      "(0, 0) b'2'\n"
     ]
    },
    {
     "data": {
      "image/png": "[encoded data removed]",
      "text/plain": [
       "<Figure size 288x288 with 1 Axes>"
      ]
     },
     "metadata": {},
     "output_type": "display_data"
    },
    {
     "name": "stdout",
     "output_type": "stream",
     "text": [
      "[111.83597674 110.60802766 110.60743895 111.85542407 113.56327317]\n",
      "4\n",
      "[0.12149672 0.0355855  0.03556455 0.12388263 0.68347061]\n",
      "(0, 0) b'2'\n",
      "(0, 0) b'2'\n"
     ]
    },
    {
     "data": {
      "image/png": "[encoded data removed]",
      "text/plain": [
       "<Figure size 288x288 with 1 Axes>"
      ]
     },
     "metadata": {},
     "output_type": "display_data"
    },
    {
     "name": "stdout",
     "output_type": "stream",
     "text": [
      "[111.83597674 110.60802766 110.60743895 111.85542407 113.56327317]\n",
      "3\n",
      "[0.12149672 0.0355855  0.03556455 0.12388263 0.68347061]\n",
      "(0, 0) b'2'\n",
      "(0, 8) b'1'\n"
     ]
    },
    {
     "data": {
      "image/png": "[encoded data removed]",
      "text/plain": [
       "<Figure size 288x288 with 1 Axes>"
      ]
     },
     "metadata": {},
     "output_type": "display_data"
    },
    {
     "name": "stdout",
     "output_type": "stream",
     "text": [
      "[111.59900639 112.93956966 109.63792628 109.33962724 112.01468796]\n",
      "4\n",
      "[0.15193596 0.58057699 0.02137836 0.01586444 0.23024425]\n",
      "(0, 8) b'1'\n",
      "(0, 8) b'1'\n"
     ]
    },
    {
     "data": {
      "image/png": "[encoded data removed]",
      "text/plain": [
       "<Figure size 288x288 with 1 Axes>"
      ]
     },
     "metadata": {},
     "output_type": "display_data"
    },
    {
     "name": "stdout",
     "output_type": "stream",
     "text": [
      "[111.59900639 112.93956966 109.63792628 109.33962724 112.01468796]\n",
      "2\n",
      "[0.15193596 0.58057699 0.02137836 0.01586444 0.23024425]\n",
      "(0, 8) b'1'\n",
      "(1, 8) b'F'\n"
     ]
    },
    {
     "data": {
      "image/png": "[encoded data removed]",
      "text/plain": [
       "<Figure size 288x288 with 1 Axes>"
      ]
     },
     "metadata": {},
     "output_type": "display_data"
    },
    {
     "name": "stdout",
     "output_type": "stream",
     "text": [
      "[111.31438702 110.20543411 106.85095188 107.10567555 109.21908056]\n",
      "0\n",
      "[0.67598399 0.22300997 0.00778917 0.01004885 0.08316802]\n",
      "(1, 8) b'F'\n",
      "(0, 8) b'1'\n"
     ]
    },
    {
     "data": {
      "image/png": "[encoded data removed]",
      "text/plain": [
       "<Figure size 288x288 with 1 Axes>"
      ]
     },
     "metadata": {},
     "output_type": "display_data"
    },
    {
     "name": "stdout",
     "output_type": "stream",
     "text": [
      "[111.59900639 112.93956966 109.63792628 109.33962724 112.01468796]\n",
      "2\n",
      "[0.15193596 0.58057699 0.02137836 0.01586444 0.23024425]\n",
      "(0, 8) b'1'\n",
      "(1, 8) b'F'\n"
     ]
    },
    {
     "data": {
      "image/png": "[encoded data removed]",
      "text/plain": [
       "<Figure size 288x288 with 1 Axes>"
      ]
     },
     "metadata": {},
     "output_type": "display_data"
    },
    {
     "name": "stdout",
     "output_type": "stream",
     "text": [
      "[111.31438702 110.20543411 106.85095188 107.10567555 109.21908056]\n",
      "0\n",
      "[0.67598399 0.22300997 0.00778917 0.01004885 0.08316802]\n",
      "(1, 8) b'F'\n",
      "(1, 0) b'F'\n"
     ]
    },
    {
     "data": {
      "image/png": "[encoded data removed]",
      "text/plain": [
       "<Figure size 288x288 with 1 Axes>"
      ]
     },
     "metadata": {},
     "output_type": "display_data"
    },
    {
     "name": "stdout",
     "output_type": "stream",
     "text": [
      "[112.5634704  108.43148747 107.69372922 109.47920143 110.45053238]\n",
      "0\n",
      "[0.84007343 0.01348403 0.00644786 0.03844468 0.10155   ]\n",
      "(1, 0) b'F'\n",
      "(0, 0) b'2'\n"
     ]
    },
    {
     "data": {
      "image/png": "[encoded data removed]",
      "text/plain": [
       "<Figure size 288x288 with 1 Axes>"
      ]
     },
     "metadata": {},
     "output_type": "display_data"
    },
    {
     "name": "stdout",
     "output_type": "stream",
     "text": [
      "[111.83597674 110.60802766 110.60743895 111.85542407 113.56327317]\n",
      "4\n",
      "[0.12149672 0.0355855  0.03556455 0.12388263 0.68347061]\n",
      "(0, 0) b'2'\n",
      "(0, 0) b'2'\n"
     ]
    },
    {
     "data": {
      "image/png": "[encoded data removed]",
      "text/plain": [
       "<Figure size 288x288 with 1 Axes>"
      ]
     },
     "metadata": {},
     "output_type": "display_data"
    },
    {
     "name": "stdout",
     "output_type": "stream",
     "text": [
      "[111.83597674 110.60802766 110.60743895 111.85542407 113.56327317]\n",
      "4\n",
      "[0.12149672 0.0355855  0.03556455 0.12388263 0.68347061]\n",
      "(0, 0) b'2'\n",
      "(0, 0) b'2'\n"
     ]
    },
    {
     "data": {
      "image/png": "[encoded data removed]",
      "text/plain": [
       "<Figure size 288x288 with 1 Axes>"
      ]
     },
     "metadata": {},
     "output_type": "display_data"
    },
    {
     "name": "stdout",
     "output_type": "stream",
     "text": [
      "[111.83597674 110.60802766 110.60743895 111.85542407 113.56327317]\n",
      "3\n",
      "[0.12149672 0.0355855  0.03556455 0.12388263 0.68347061]\n",
      "(0, 0) b'2'\n",
      "(0, 8) b'1'\n"
     ]
    },
    {
     "data": {
      "image/png": "[encoded data removed]",
      "text/plain": [
       "<Figure size 288x288 with 1 Axes>"
      ]
     },
     "metadata": {},
     "output_type": "display_data"
    },
    {
     "name": "stdout",
     "output_type": "stream",
     "text": [
      "[111.59900639 112.93956966 109.63792628 109.33962724 112.01468796]\n",
      "1\n",
      "[0.15193596 0.58057699 0.02137836 0.01586444 0.23024425]\n",
      "(0, 8) b'1'\n",
      "(0, 0) b'2'\n"
     ]
    },
    {
     "data": {
      "image/png": "[encoded data removed]",
      "text/plain": [
       "<Figure size 288x288 with 1 Axes>"
      ]
     },
     "metadata": {},
     "output_type": "display_data"
    },
    {
     "name": "stdout",
     "output_type": "stream",
     "text": [
      "[111.83597674 110.60802766 110.60743895 111.85542407 113.56327317]\n",
      "2\n",
      "[0.12149672 0.0355855  0.03556455 0.12388263 0.68347061]\n",
      "(0, 0) b'2'\n",
      "(1, 0) b'F'\n"
     ]
    },
    {
     "data": {
      "image/png": "[encoded data removed]",
      "text/plain": [
       "<Figure size 288x288 with 1 Axes>"
      ]
     },
     "metadata": {},
     "output_type": "display_data"
    },
    {
     "name": "stdout",
     "output_type": "stream",
     "text": [
      "[112.5634704  108.43148747 107.69372922 109.47920143 110.45053238]\n",
      "0\n",
      "[0.84007343 0.01348403 0.00644786 0.03844468 0.10155   ]\n",
      "(1, 0) b'F'\n",
      "(0, 0) b'2'\n"
     ]
    },
    {
     "data": {
      "image/png": "[encoded data removed]",
      "text/plain": [
       "<Figure size 288x288 with 1 Axes>"
      ]
     },
     "metadata": {},
     "output_type": "display_data"
    },
    {
     "name": "stdout",
     "output_type": "stream",
     "text": [
      "[111.83597674 110.60802766 110.60743895 111.85542407 113.56327317]\n",
      "4\n",
      "[0.12149672 0.0355855  0.03556455 0.12388263 0.68347061]\n",
      "(0, 0) b'2'\n",
      "(0, 0) b'2'\n"
     ]
    }
   ],
   "source": [
    "Q = tabsoftq_learn_Qs(mdp)\n",
    "plot_mars(mdp,tabsoftq_gen_pol(Q),Qs=Q)\n"
   ]
  },
  {
   "cell_type": "code",
   "execution_count": 20,
   "metadata": {
    "scrolled": true
   },
   "outputs": [],
   "source": [
    "# print(mdp.feature_map)"
   ]
  },
  {
   "cell_type": "markdown",
   "metadata": {},
   "source": [
    "# Inverse Dynamics Learning"
   ]
  },
  {
   "cell_type": "code",
   "execution_count": 21,
   "metadata": {},
   "outputs": [],
   "source": [
    "def transition_grad(adt, tps):\n",
    "    a,d,t = adt\n",
    "    grad_theta_t = np.zeros(tps.shape)\n",
    "    grad_theta_t[a,d,t] += 1\n",
    "    grad_theta_t[a,:,t] -= tps[a,:,t]\n",
    "    return grad_theta_t\n"
   ]
  },
  {
   "cell_type": "code",
   "execution_count": 22,
   "metadata": {},
   "outputs": [],
   "source": [
    "def eval_pol_likelihood(Q, sas_obs, verbose=False):\n",
    "    ll = 0.0\n",
    "    for obs in sas_obs:\n",
    "        s,a,sprime = obs\n",
    "        l = np.log(softmax(Q[s])[a])\n",
    "        ll += l\n",
    "    return ll\n",
    "\n",
    "def eval_trans_likelihood(Tps, adt_obs, verbose=False):\n",
    "    ll = 0.0\n",
    "    for obs in adt_obs:\n",
    "        a,d,t, = obs\n",
    "        l = np.log(Tps[a,d,t])\n",
    "        ll += l\n",
    "    return ll\n",
    "\n",
    "def eval_trans_likelihood_and_grad(T_thetas, adt_obs):\n",
    "    Tps = softmax(T_thetas,axis=1)\n",
    "    dT = sum([transition_grad(adt,Tps) for adt in adt_obs]).reshape(T_thetas.shape) / len(adt_obs)\n",
    "    ll = eval_trans_likelihood(Tps, adt_obs)\n",
    "    return ll, dT\n",
    "\n",
    "def eval_demo_log_likelihood(sas_obs, adt_obs, T_thetas, Q):\n",
    "    Tps = softmax(T_thetas,axis=1)\n",
    "    p_ll = eval_pol_likelihood(Q, sas_obs)\n",
    "    t_ll = eval_trans_likelihood(Tps, adt_obs)\n",
    "    return p_ll, t_ll\n",
    "        "
   ]
  },
  {
   "cell_type": "code",
   "execution_count": 23,
   "metadata": {},
   "outputs": [],
   "source": [
    "def eval_T_pol_likelihood_and_grad(T_thetas, R, sas_obs, Q_inits=None, verbose=False):\n",
    "    s = [obs[0] for obs in sas_obs]\n",
    "    a = [obs[1] for obs in sas_obs]\n",
    "    Tps = softmax(T_thetas,axis=1)\n",
    "    T = mdp.adt_trans_to_sas_trans(Tps)\n",
    "    Q = tabsoftq_iter(R, T, Q_init=Q_inits, maxiter=tabsoftq_iter_maxiter, verbose=tabsoftq_iter_verbose,\n",
    "                      ftol=tabsoftq_iter_ftol)\n",
    "    dT = tabsoftq_T_grad_iter(T_thetas, Q, R, T=T, maxiter=tabsoftq_grad_iter_maxiter,\n",
    "        verbose=tabsoftq_grad_iter_verbose, ftol=tabsoftq_grad_iter_ftol)\n",
    "    # Sum instead of mean because sparse results\n",
    "    if verbose:\n",
    "        for obs in sas_obs:\n",
    "            print(obs)\n",
    "            print(dT[obs[0],obs[1]].reshape(T_thetas.shape))\n",
    "    dT = np.sum(dT[s,a], axis=0).reshape(T_thetas.shape) / len(sas_obs)\n",
    "    ll = eval_pol_likelihood(Q, sas_obs)\n",
    "    return ll, dT, Q\n"
   ]
  },
  {
   "cell_type": "markdown",
   "metadata": {},
   "source": [
    "# Simultaneous Estimation of Rewards and Dynamics"
   ]
  },
  {
   "cell_type": "code",
   "execution_count": 24,
   "metadata": {},
   "outputs": [],
   "source": [
    "def tabsoftq_TR_grad_iter(T_thetas, feat_map, R,  Q, T=None, maxiter=1000, verbose=True,\n",
    "                       learning_rate=1, G_init=None, ftol=0):\n",
    "    \n",
    "    T_theta_dim = T_thetas.shape[0] * T_thetas.shape[1] * T_thetas.shape[2]\n",
    "    D = T_thetas.shape[1]\n",
    "    \n",
    "    R_theta_dim = feat_map.shape[1]\n",
    "    \n",
    "    P_broad = tabsoftq_gen_pol_probs(Q).reshape((nS, nA, 1))\n",
    "    Tps = softmax(T_thetas,axis=1)\n",
    "    \n",
    "    if T is None:\n",
    "        T = mdp.adt_trans_to_sas_trans(Tps)\n",
    "        \n",
    "    V = (alpha) * logsumexp(Q * (1 / alpha), axis=1)\n",
    "    \n",
    "    R_grad = T.dot(feat_map)\n",
    "    \n",
    "    GR = np.zeros((nS, nA, R_theta_dim)) if G_init is None else G_init[0]\n",
    "    prevGR = copy(GR)\n",
    "    \n",
    "    T_grad = np.zeros((nS,nA,T_theta_dim))\n",
    "    for s in range(nS):\n",
    "        t = mdp.get_tile_type(s)\n",
    "        for a in range(nA):\n",
    "            P_at = Tps[a,:,t]\n",
    "            V_t = np.array([V[mdp.sd_to_sprime(s,d)] for d in range(D)])\n",
    "            R_t = np.array([R[mdp.sd_to_sprime(s,d)] for d in range(D)])\n",
    "            VR_t = R_t + gamma * V_t \n",
    "            D_probs = np.stack([P_at for _ in range(D)])\n",
    "            grad_at = np.dot((np.eye(D) - D_probs), VR_t)\n",
    "            grad_at = np.dot(np.diag(P_at),grad_at)\n",
    "            filler = np.zeros(T_thetas.shape)\n",
    "            filler[a,:,t] = grad_at\n",
    "            filler = filler.flatten()\n",
    "            T_grad[s,a] = filler\n",
    "              \n",
    "    GT = T_grad if G_init is None else G_init[1]\n",
    "    T_broad = T.reshape((nS, nA, nS, 1))\n",
    "    prevGT = copy(GT)\n",
    "    \n",
    "    if verbose:\n",
    "        diffs = []\n",
    "        \n",
    "    for iter_idx in range(maxiter):\n",
    "        # Reward Param gradient iteration\n",
    "        expGR = np.sum(P_broad * GR, axis=1)\n",
    "        expGR_broad = expGR.reshape((1, 1, nS, R_theta_dim))\n",
    "        GR = R_grad + gamma * np.sum(T_broad * expGR_broad, axis=2)\n",
    "        GR = (1 - learning_rate) * prevGR + learning_rate * GR\n",
    "        \n",
    "        \n",
    "        # Transition Param grad iter\n",
    "        expGT = np.sum(P_broad * GT, axis=1)\n",
    "        expGT_broad = expGT.reshape((1, 1, nS, T_theta_dim))\n",
    "        GT = gamma * T_grad\n",
    "        t_expGT = np.sum(T_broad * expGT_broad, axis=2)\n",
    "        GT += gamma * t_expGT\n",
    "        GT = (1 - learning_rate) * prevGT + learning_rate * GT\n",
    "    \n",
    "        diff = np.mean((GR - prevGR)**2)/(np.std(GR)**2) + np.mean((GT - prevGT)**2)/(np.std(GT)**2)\n",
    "        if verbose:\n",
    "            diffs.append(diff)\n",
    "        if diff < ftol:\n",
    "            break\n",
    "        prevGR = copy(GR)\n",
    "        prevGT = copy(GT)\n",
    "  \n",
    "    if verbose:\n",
    "        plt.xlabel('Number of Iterations')\n",
    "        plt.ylabel('Avg. Squared Bellman Error')\n",
    "        plt.title('Soft Q Gradient Iteration')\n",
    "        plt.plot(diffs)\n",
    "        plt.yscale('log')\n",
    "        plt.show()\n",
    "  \n",
    "    expGR = np.sum(P_broad * GR, axis=1)\n",
    "    expGR_broad = expGR.reshape((nS, 1, R_theta_dim))\n",
    "    expGT = np.sum(P_broad * GT, axis=1)\n",
    "    expGT_broad = expGT.reshape((nS, 1, T_theta_dim))\n",
    "    return (GR - expGR_broad), (GT - expGT_broad)"
   ]
  },
  {
   "cell_type": "code",
   "execution_count": 25,
   "metadata": {},
   "outputs": [],
   "source": [
    "def eval_TR_pol_likelihood_and_grad(T_thetas, R, feat_map, sas_obs, Q_inits=None, verbose=False):\n",
    "    s = [obs[0] for obs in sas_obs]\n",
    "    a = [obs[1] for obs in sas_obs]\n",
    "    Tps = softmax(T_thetas,axis=1)\n",
    "    T = mdp.adt_trans_to_sas_trans(Tps)\n",
    "    Q = tabsoftq_iter(R, T, Q_init=Q_inits if Q_inits is not None else None, \n",
    "        maxiter=tabsoftq_iter_maxiter, verbose=tabsoftq_iter_verbose, ftol=tabsoftq_iter_ftol)\n",
    "    dR, dT = tabsoftq_TR_grad_iter(T_thetas, feat_map, R, Q, T=T,\n",
    "        maxiter=tabsoftq_grad_iter_maxiter, verbose=tabsoftq_grad_iter_verbose, ftol=tabsoftq_grad_iter_ftol)\n",
    "    if verbose:\n",
    "        for obs in sas_obs:\n",
    "            print(obs)\n",
    "            print(dT[obs[0],obs[1]].reshape(T_thetas.shape))\n",
    "    dR = np.sum(dR[s,a], axis=0).reshape(feat_map.shape[1]) / len(sas_obs)\n",
    "    dT = np.sum(dT[s,a], axis=0).reshape(T_thetas.shape) / len(sas_obs)\n",
    "    ll = eval_pol_likelihood(Q, sas_obs)\n",
    "    return ll, dT, dR, Q"
   ]
  },
  {
   "cell_type": "markdown",
   "metadata": {},
   "source": [
    "# IDL & SERD Experiments"
   ]
  },
  {
   "cell_type": "code",
   "execution_count": 26,
   "metadata": {},
   "outputs": [],
   "source": [
    "tabsoftq_iter_ftol = 1e-32\n",
    "tabsoftq_iter_maxiter = 5000\n",
    "tabsoftq_iter_verbose = False\n",
    "tabsoftq_grad_iter_ftol = 1e-10\n",
    "tabsoftq_grad_iter_maxiter = 5000\n",
    "tabsoftq_grad_iter_verbose = False\n",
    "batch_size = 200\n",
    "n_demos = 80\n",
    "demo_time_steps = 40"
   ]
  },
  {
   "cell_type": "code",
   "execution_count": 27,
   "metadata": {},
   "outputs": [],
   "source": [
    "def clean_demos(sas_obs):\n",
    "    demo_example_idxes = list(range(len(sas_obs)))\n",
    "    unique_stays = set([])\n",
    "    for i,sas in enumerate(sas_obs):\n",
    "        sas = tuple(sas)\n",
    "        if sas[1] == 4:\n",
    "            if sas in unique_stays:\n",
    "                demo_example_idxes.remove(i)\n",
    "            else:\n",
    "                unique_stays.add(sas)\n",
    "    return demo_example_idxes\n",
    "\n",
    "def sample_batch(size, ids, sas_obs, adt_obs):\n",
    "    idxes = random.sample(ids, size)\n",
    "    return sas_obs[idxes], adt_obs[idxes]"
   ]
  },
  {
   "cell_type": "code",
   "execution_count": 28,
   "metadata": {},
   "outputs": [],
   "source": [
    "def T_estimate(adt_obs):\n",
    "    stability = 1e-5\n",
    "    T_thetas = np.zeros(T_theta_shape)\n",
    "    T_counts = np.zeros(T_theta_shape) + stability\n",
    "    for a,d,t in adt_obs:\n",
    "        T_counts[a,d,t] += 1\n",
    "    for a in range(T_theta_shape[0]):\n",
    "        for t in range(T_theta_shape[2]):\n",
    "            z = np.sum(T_counts[a,:,t])\n",
    "            for d in range(T_theta_shape[1]):\n",
    "                if z == T_counts.shape[1] * stability:\n",
    "                    T_thetas[a,d,t] = 0\n",
    "                else:\n",
    "                    T_thetas[a,d,t] = np.log(T_counts[a,d,t]) - np.log(z)\n",
    "    return T_thetas\n",
    "\n",
    "def test_T_likelihood(Tps, sas_obs, adt_obs):\n",
    "    T = mdp.adt_trans_to_sas_trans(Tps)\n",
    "    R = mdp.rewards\n",
    "    Q = tabsoftq_iter(R, T, Q_init=None, maxiter=tabsoftq_iter_maxiter, verbose=tabsoftq_iter_verbose, ftol=tabsoftq_iter_ftol)\n",
    "    pl = eval_pol_likelihood(Q, sas_obs, verbose=True)\n",
    "    tl = eval_trans_likelihood(Tps, adt_obs, verbose=True)\n",
    "    print([s for s in range(nS) if mdp.get_tile_type(s)==1])\n",
    "    print(Q[[s for s in range(nS) if mdp.get_tile_type(s)==1]])\n",
    "    print(pl, tl)\n",
    "    return pl + tl\n",
    "\n",
    "def true_trans_loss(tps):\n",
    "    tps = mdp.adt_trans_to_sas_trans(tps)\n",
    "    true_tps = mdp.get_transition_matrix()\n",
    "    return np.linalg.norm(true_tps-tps)/nA"
   ]
  },
  {
   "cell_type": "code",
   "execution_count": 29,
   "metadata": {
    "scrolled": true
   },
   "outputs": [],
   "source": [
    "exQs = tabsoftq_learn_Qs(mdp)\n",
    "demos = generate_demonstrations(mdp, tabsoftq_gen_pol(exQs), n_demos, demo_time_steps)\n",
    "sas_obs, adt_obs = vectorize_rollouts(demos)"
   ]
  },
  {
   "cell_type": "code",
   "execution_count": 30,
   "metadata": {},
   "outputs": [],
   "source": [
    "# Ensure bad areas have not been visited in exes\n",
    "while len(set([adt[2] for adt in adt_obs])) > 1:\n",
    "    demos = generate_demonstrations(mdp, tabsoftq_gen_pol(exQs), n_demos, demo_time_steps)\n",
    "    sas_obs, adt_obs = vectorize_rollouts(demos)"
   ]
  },
  {
   "cell_type": "code",
   "execution_count": 31,
   "metadata": {},
   "outputs": [],
   "source": [
    "# Clean training set to have greater density of interesting transitions\n",
    "# print(len(sas_obs))\n",
    "# demo_example_idxes = clean_demos(sas_obs)\n",
    "# print(len(demo_example_idxes))\n",
    "demo_example_idxes = list(range(len(sas_obs)))\n"
   ]
  },
  {
   "cell_type": "code",
   "execution_count": 32,
   "metadata": {},
   "outputs": [],
   "source": [
    "random.shuffle(demo_example_idxes)\n",
    "n_train_demo_examples = int(0.9 * len(demo_example_idxes))\n",
    "train_demo_example_idxes = demo_example_idxes[:n_train_demo_examples]\n",
    "val_demo_example_idxes = demo_example_idxes[n_train_demo_examples:]\n",
    "val_sas_obs = sas_obs[val_demo_example_idxes]\n",
    "val_adt_obs = adt_obs[val_demo_example_idxes]"
   ]
  },
  {
   "cell_type": "markdown",
   "metadata": {},
   "source": [
    "## IDL Only"
   ]
  },
  {
   "cell_type": "code",
   "execution_count": 33,
   "metadata": {},
   "outputs": [],
   "source": [
    "idl_train_logs = {\n",
    "  'train_likelihoods': [],\n",
    "  'val_likelihoods': [],\n",
    "  'tp_lls': [],\n",
    "  'tt_lls': [],\n",
    "  'vp_lls': [],\n",
    "  'vt_lls': [],\n",
    "  'true_trans_loss': []\n",
    "}"
   ]
  },
  {
   "cell_type": "code",
   "execution_count": 34,
   "metadata": {},
   "outputs": [],
   "source": [
    "maxiter = 500\n",
    "learning_rate = 0.25"
   ]
  },
  {
   "cell_type": "code",
   "execution_count": 35,
   "metadata": {},
   "outputs": [],
   "source": [
    "Ti_thetas = T_estimate(adt_obs[train_demo_example_idxes])\n",
    "Qi, Ri = None, mdp.rewards"
   ]
  },
  {
   "cell_type": "code",
   "execution_count": 36,
   "metadata": {
    "scrolled": true
   },
   "outputs": [
    {
     "name": "stdout",
     "output_type": "stream",
     "text": [
      "0 -770.597141 -135.268604 -905.865745 1.601974\n",
      "1 -767.425404 -135.207165 -902.632569 1.599373\n",
      "2 -757.258425 -135.162130 -892.420555 1.596883\n",
      "3 -741.957151 -135.135722 -877.092873 1.594650\n",
      "4 -743.298624 -135.117166 -878.415790 1.592136\n",
      "5 -728.214043 -135.104844 -863.318887 1.590084\n",
      "6 -710.549248 -135.117667 -845.666915 1.588018\n",
      "7 -706.431002 -135.112392 -841.543394 1.585723\n",
      "8 -707.302963 -135.140179 -842.443141 1.583250\n",
      "9 -686.365786 -135.177460 -821.543246 1.582104\n",
      "10 -685.452820 -135.191891 -820.644711 1.579833\n",
      " "
     ]
    }
   ],
   "source": [
    "%%prun -s cumulative\n",
    "\n",
    "while len(idl_train_logs['tt_lls']) < maxiter:\n",
    "    try:\n",
    "        batch_demo_sas, batch_demo_adt = sample_batch(batch_size, train_demo_example_idxes, sas_obs, adt_obs)\n",
    "        #Should we initialize Qs or nah?\n",
    "        tp_ll, dT_pol, Qi = eval_T_pol_likelihood_and_grad(Ti_thetas, Ri, batch_demo_sas, Q_inits=Qi, verbose=False)\n",
    "        tt_ll, dT_trans = eval_trans_likelihood_and_grad(Ti_thetas, batch_demo_adt)\n",
    "        train_likelihood = tp_ll + tt_ll\n",
    "        vp_ll, vt_ll = eval_demo_log_likelihood(val_sas_obs, val_adt_obs, Ti_thetas, Qi)\n",
    "        val_likelihood = vp_ll + vt_ll\n",
    "        ttd = true_trans_loss(softmax(Ti_thetas))\n",
    "        Ti_thetas += learning_rate * (dT_trans + dT_pol)\n",
    "\n",
    "        print('%d %f %f %f %f' % (len(idl_train_logs['tt_lls']), vp_ll, vt_ll, vp_ll + vt_ll, ttd))\n",
    "        idl_train_logs['train_likelihoods'].append(train_likelihood)\n",
    "        idl_train_logs['val_likelihoods'].append(val_likelihood)\n",
    "        idl_train_logs['tp_lls'].append(tp_ll)\n",
    "        idl_train_logs['tt_lls'].append(tt_ll)\n",
    "        idl_train_logs['vp_lls'].append(vp_ll)\n",
    "        idl_train_logs['vt_lls'].append(vt_ll)\n",
    "        idl_train_logs['true_trans_loss'].append(ttd)\n",
    "    except KeyboardInterrupt:\n",
    "        break"
   ]
  },
  {
   "cell_type": "code",
   "execution_count": 37,
   "metadata": {},
   "outputs": [
    {
     "data": {
      "text/plain": [
       "[<matplotlib.lines.Line2D at 0x137231b70>]"
      ]
     },
     "execution_count": 37,
     "metadata": {},
     "output_type": "execute_result"
    },
    {
     "data": {
      "image/png": "[encoded data removed]",
      "text/plain": [
       "<Figure size 432x288 with 1 Axes>"
      ]
     },
     "metadata": {},
     "output_type": "display_data"
    }
   ],
   "source": [
    "plt.plot(idl_train_logs['vp_lls'])"
   ]
  },
  {
   "cell_type": "code",
   "execution_count": null,
   "metadata": {},
   "outputs": [],
   "source": [
    "plt.plot(idl_train_logs['vt_lls'])"
   ]
  },
  {
   "cell_type": "code",
   "execution_count": 40,
   "metadata": {},
   "outputs": [
    {
     "data": {
      "text/plain": [
       "[<matplotlib.lines.Line2D at 0x12f0f2908>]"
      ]
     },
     "execution_count": 40,
     "metadata": {},
     "output_type": "execute_result"
    },
    {
     "data": {
      "image/png": "[encoded data removed]",
      "text/plain": [
       "<Figure size 432x288 with 1 Axes>"
      ]
     },
     "metadata": {},
     "output_type": "display_data"
    }
   ],
   "source": [
    "plt.plot(idl_train_logs['val_likelihoods'])"
   ]
  },
  {
   "cell_type": "code",
   "execution_count": 41,
   "metadata": {
    "scrolled": true
   },
   "outputs": [
    {
     "name": "stdout",
     "output_type": "stream",
     "text": [
      "[[101.54015144 101.54015144 101.54015144 101.54015144 101.54015144]\n",
      " [104.34698316 104.34698316 104.34698316 104.34698316 104.34698316]\n",
      " [100.85731552 100.85731552 100.85731552 100.85731552 100.85731552]\n",
      " [103.85379911 103.85379911 103.85379911 103.85379911 103.85379911]\n",
      " [112.38742295 112.38742295 112.38742295 112.38742295 112.38742295]\n",
      " [113.94907389 113.94907389 113.94907389 113.94907389 113.94907389]\n",
      " [138.89723303 138.89723303 138.89723303 138.89723303 138.89723303]\n",
      " [112.70972303 112.70972303 112.70972303 112.70972303 112.70972303]\n",
      " [105.76105015 105.76105015 105.76105015 105.76105015 105.76105015]\n",
      " [121.41350809 121.41350809 121.41350809 121.41350809 121.41350809]\n",
      " [119.87347153 119.87347153 119.87347153 119.87347153 119.87347153]\n",
      " [104.41979981 104.41979981 104.41979981 104.41979981 104.41979981]\n",
      " [108.60869934 108.60869934 108.60869934 108.60869934 108.60869934]\n",
      " [124.06307079 124.06307079 124.06307079 124.06307079 124.06307079]\n",
      " [107.51253442 107.51253442 107.51253442 107.51253442 107.51253442]\n",
      " [105.80948375 105.80948375 105.80948375 105.80948375 105.80948375]]\n"
     ]
    }
   ],
   "source": [
    "print(Qi[[s for s in range(nS) if mdp.get_tile_type(s)==1]])"
   ]
  },
  {
   "cell_type": "code",
   "execution_count": 42,
   "metadata": {},
   "outputs": [
    {
     "name": "stderr",
     "output_type": "stream",
     "text": [
      "/Users/mckaneandrus/anaconda2/envs/irld/lib/python3.6/site-packages/matplotlib/cbook/deprecation.py:107: MatplotlibDeprecationWarning: Adding an axes using the same arguments as a previous axes currently reuses the earlier instance.  In a future version, a new instance will always be created and returned.  Meanwhile, this warning can be suppressed, and the future behavior ensured, by passing a unique label to each axes instance.\n",
      "  warnings.warn(message, mplDeprecation, stacklevel=1)\n"
     ]
    },
    {
     "data": {
      "image/png": "[encoded data removed]",
      "text/plain": [
       "<Figure size 288x288 with 1 Axes>"
      ]
     },
     "metadata": {},
     "output_type": "display_data"
    },
    {
     "name": "stdout",
     "output_type": "stream",
     "text": [
      "(5, 7) b'S'\n",
      "(5, 8) b'F'\n"
     ]
    },
    {
     "data": {
      "image/png": "[encoded data removed]",
      "text/plain": [
       "<Figure size 288x288 with 1 Axes>"
      ]
     },
     "metadata": {},
     "output_type": "display_data"
    },
    {
     "name": "stdout",
     "output_type": "stream",
     "text": [
      "(5, 8) b'F'\n",
      "(5, 0) b'F'\n"
     ]
    },
    {
     "data": {
      "image/png": "[encoded data removed]",
      "text/plain": [
       "<Figure size 288x288 with 1 Axes>"
      ]
     },
     "metadata": {},
     "output_type": "display_data"
    },
    {
     "name": "stdout",
     "output_type": "stream",
     "text": [
      "(5, 0) b'F'\n",
      "(6, 0) b'F'\n"
     ]
    },
    {
     "data": {
      "image/png": "[encoded data removed]",
      "text/plain": [
       "<Figure size 288x288 with 1 Axes>"
      ]
     },
     "metadata": {},
     "output_type": "display_data"
    },
    {
     "name": "stdout",
     "output_type": "stream",
     "text": [
      "(6, 0) b'F'\n",
      "(6, 8) b'F'\n"
     ]
    },
    {
     "data": {
      "image/png": "[encoded data removed]",
      "text/plain": [
       "<Figure size 288x288 with 1 Axes>"
      ]
     },
     "metadata": {},
     "output_type": "display_data"
    },
    {
     "name": "stdout",
     "output_type": "stream",
     "text": [
      "(6, 8) b'F'\n",
      "(6, 0) b'F'\n"
     ]
    },
    {
     "data": {
      "image/png": "[encoded data removed]",
      "text/plain": [
       "<Figure size 288x288 with 1 Axes>"
      ]
     },
     "metadata": {},
     "output_type": "display_data"
    },
    {
     "name": "stdout",
     "output_type": "stream",
     "text": [
      "(6, 0) b'F'\n",
      "(7, 0) b'F'\n"
     ]
    },
    {
     "data": {
      "image/png": "[encoded data removed]",
      "text/plain": [
       "<Figure size 288x288 with 1 Axes>"
      ]
     },
     "metadata": {},
     "output_type": "display_data"
    },
    {
     "name": "stdout",
     "output_type": "stream",
     "text": [
      "(7, 0) b'F'\n",
      "(7, 8) b'F'\n"
     ]
    },
    {
     "data": {
      "image/png": "[encoded data removed]",
      "text/plain": [
       "<Figure size 288x288 with 1 Axes>"
      ]
     },
     "metadata": {},
     "output_type": "display_data"
    },
    {
     "name": "stdout",
     "output_type": "stream",
     "text": [
      "(7, 8) b'F'\n",
      "(6, 8) b'F'\n"
     ]
    },
    {
     "data": {
      "image/png": "[encoded data removed]",
      "text/plain": [
       "<Figure size 288x288 with 1 Axes>"
      ]
     },
     "metadata": {},
     "output_type": "display_data"
    },
    {
     "name": "stdout",
     "output_type": "stream",
     "text": [
      "(6, 8) b'F'\n",
      "(6, 0) b'F'\n"
     ]
    },
    {
     "data": {
      "image/png": "[encoded data removed]",
      "text/plain": [
       "<Figure size 288x288 with 1 Axes>"
      ]
     },
     "metadata": {},
     "output_type": "display_data"
    },
    {
     "name": "stdout",
     "output_type": "stream",
     "text": [
      "(6, 0) b'F'\n",
      "(7, 0) b'F'\n"
     ]
    },
    {
     "data": {
      "image/png": "[encoded data removed]",
      "text/plain": [
       "<Figure size 288x288 with 1 Axes>"
      ]
     },
     "metadata": {},
     "output_type": "display_data"
    },
    {
     "name": "stdout",
     "output_type": "stream",
     "text": [
      "(7, 0) b'F'\n",
      "(7, 0) b'F'\n"
     ]
    },
    {
     "data": {
      "image/png": "[encoded data removed]",
      "text/plain": [
       "<Figure size 288x288 with 1 Axes>"
      ]
     },
     "metadata": {},
     "output_type": "display_data"
    },
    {
     "name": "stdout",
     "output_type": "stream",
     "text": [
      "(7, 0) b'F'\n",
      "(7, 1) b'F'\n"
     ]
    },
    {
     "data": {
      "image/png": "[encoded data removed]",
      "text/plain": [
       "<Figure size 288x288 with 1 Axes>"
      ]
     },
     "metadata": {},
     "output_type": "display_data"
    },
    {
     "name": "stdout",
     "output_type": "stream",
     "text": [
      "(7, 1) b'F'\n",
      "(8, 1) b'F'\n"
     ]
    },
    {
     "data": {
      "image/png": "[encoded data removed]",
      "text/plain": [
       "<Figure size 288x288 with 1 Axes>"
      ]
     },
     "metadata": {},
     "output_type": "display_data"
    },
    {
     "name": "stdout",
     "output_type": "stream",
     "text": [
      "(8, 1) b'F'\n",
      "(0, 1) b'F'\n"
     ]
    },
    {
     "data": {
      "image/png": "[encoded data removed]",
      "text/plain": [
       "<Figure size 288x288 with 1 Axes>"
      ]
     },
     "metadata": {},
     "output_type": "display_data"
    },
    {
     "name": "stdout",
     "output_type": "stream",
     "text": [
      "(0, 1) b'F'\n",
      "(0, 0) b'2'\n"
     ]
    },
    {
     "data": {
      "image/png": "[encoded data removed]",
      "text/plain": [
       "<Figure size 288x288 with 1 Axes>"
      ]
     },
     "metadata": {},
     "output_type": "display_data"
    },
    {
     "name": "stdout",
     "output_type": "stream",
     "text": [
      "(0, 0) b'2'\n",
      "(0, 0) b'2'\n"
     ]
    },
    {
     "data": {
      "image/png": "[encoded data removed]",
      "text/plain": [
       "<Figure size 288x288 with 1 Axes>"
      ]
     },
     "metadata": {},
     "output_type": "display_data"
    },
    {
     "name": "stdout",
     "output_type": "stream",
     "text": [
      "(0, 0) b'2'\n",
      "(0, 0) b'2'\n"
     ]
    },
    {
     "data": {
      "image/png": "[encoded data removed]",
      "text/plain": [
       "<Figure size 288x288 with 1 Axes>"
      ]
     },
     "metadata": {},
     "output_type": "display_data"
    },
    {
     "name": "stdout",
     "output_type": "stream",
     "text": [
      "(0, 0) b'2'\n",
      "(0, 0) b'2'\n"
     ]
    },
    {
     "data": {
      "image/png": "[encoded data removed]",
      "text/plain": [
       "<Figure size 288x288 with 1 Axes>"
      ]
     },
     "metadata": {},
     "output_type": "display_data"
    },
    {
     "name": "stdout",
     "output_type": "stream",
     "text": [
      "(0, 0) b'2'\n",
      "(0, 0) b'2'\n"
     ]
    },
    {
     "data": {
      "image/png": "[encoded data removed]",
      "text/plain": [
       "<Figure size 288x288 with 1 Axes>"
      ]
     },
     "metadata": {},
     "output_type": "display_data"
    },
    {
     "name": "stdout",
     "output_type": "stream",
     "text": [
      "(0, 0) b'2'\n",
      "(0, 0) b'2'\n"
     ]
    },
    {
     "data": {
      "image/png": "[encoded data removed]",
      "text/plain": [
       "<Figure size 288x288 with 1 Axes>"
      ]
     },
     "metadata": {},
     "output_type": "display_data"
    },
    {
     "name": "stdout",
     "output_type": "stream",
     "text": [
      "(0, 0) b'2'\n",
      "(1, 0) b'F'\n"
     ]
    },
    {
     "data": {
      "image/png": "[encoded data removed]",
      "text/plain": [
       "<Figure size 288x288 with 1 Axes>"
      ]
     },
     "metadata": {},
     "output_type": "display_data"
    },
    {
     "name": "stdout",
     "output_type": "stream",
     "text": [
      "(1, 0) b'F'\n",
      "(1, 8) b'F'\n"
     ]
    },
    {
     "data": {
      "image/png": "[encoded data removed]",
      "text/plain": [
       "<Figure size 288x288 with 1 Axes>"
      ]
     },
     "metadata": {},
     "output_type": "display_data"
    },
    {
     "name": "stdout",
     "output_type": "stream",
     "text": [
      "(1, 8) b'F'\n",
      "(0, 8) b'1'\n"
     ]
    },
    {
     "data": {
      "image/png": "[encoded data removed]",
      "text/plain": [
       "<Figure size 288x288 with 1 Axes>"
      ]
     },
     "metadata": {},
     "output_type": "display_data"
    },
    {
     "name": "stdout",
     "output_type": "stream",
     "text": [
      "(0, 8) b'1'\n",
      "(0, 0) b'2'\n"
     ]
    },
    {
     "data": {
      "image/png": "[encoded data removed]",
      "text/plain": [
       "<Figure size 288x288 with 1 Axes>"
      ]
     },
     "metadata": {},
     "output_type": "display_data"
    },
    {
     "name": "stdout",
     "output_type": "stream",
     "text": [
      "(0, 0) b'2'\n",
      "(0, 1) b'F'\n"
     ]
    },
    {
     "data": {
      "image/png": "[encoded data removed]",
      "text/plain": [
       "<Figure size 288x288 with 1 Axes>"
      ]
     },
     "metadata": {},
     "output_type": "display_data"
    },
    {
     "name": "stdout",
     "output_type": "stream",
     "text": [
      "(0, 1) b'F'\n",
      "(1, 1) b'F'\n"
     ]
    },
    {
     "data": {
      "image/png": "[encoded data removed]",
      "text/plain": [
       "<Figure size 288x288 with 1 Axes>"
      ]
     },
     "metadata": {},
     "output_type": "display_data"
    },
    {
     "name": "stdout",
     "output_type": "stream",
     "text": [
      "(1, 1) b'F'\n",
      "(0, 1) b'F'\n"
     ]
    },
    {
     "data": {
      "image/png": "[encoded data removed]",
      "text/plain": [
       "<Figure size 288x288 with 1 Axes>"
      ]
     },
     "metadata": {},
     "output_type": "display_data"
    },
    {
     "name": "stdout",
     "output_type": "stream",
     "text": [
      "(0, 1) b'F'\n",
      "(0, 0) b'2'\n"
     ]
    },
    {
     "data": {
      "image/png": "[encoded data removed]",
      "text/plain": [
       "<Figure size 288x288 with 1 Axes>"
      ]
     },
     "metadata": {},
     "output_type": "display_data"
    },
    {
     "name": "stdout",
     "output_type": "stream",
     "text": [
      "(0, 0) b'2'\n",
      "(0, 0) b'2'\n"
     ]
    },
    {
     "data": {
      "image/png": "[encoded data removed]",
      "text/plain": [
       "<Figure size 288x288 with 1 Axes>"
      ]
     },
     "metadata": {},
     "output_type": "display_data"
    },
    {
     "name": "stdout",
     "output_type": "stream",
     "text": [
      "(0, 0) b'2'\n",
      "(0, 0) b'2'\n"
     ]
    },
    {
     "data": {
      "image/png": "[encoded data removed]",
      "text/plain": [
       "<Figure size 288x288 with 1 Axes>"
      ]
     },
     "metadata": {},
     "output_type": "display_data"
    },
    {
     "name": "stdout",
     "output_type": "stream",
     "text": [
      "(0, 0) b'2'\n",
      "(0, 0) b'2'\n"
     ]
    },
    {
     "data": {
      "image/png": "[encoded data removed]",
      "text/plain": [
       "<Figure size 288x288 with 1 Axes>"
      ]
     },
     "metadata": {},
     "output_type": "display_data"
    },
    {
     "name": "stdout",
     "output_type": "stream",
     "text": [
      "(0, 0) b'2'\n",
      "(0, 0) b'2'\n"
     ]
    },
    {
     "data": {
      "image/png": "[encoded data removed]",
      "text/plain": [
       "<Figure size 288x288 with 1 Axes>"
      ]
     },
     "metadata": {},
     "output_type": "display_data"
    },
    {
     "name": "stdout",
     "output_type": "stream",
     "text": [
      "(0, 0) b'2'\n",
      "(0, 0) b'2'\n"
     ]
    },
    {
     "data": {
      "image/png": "[encoded data removed]",
      "text/plain": [
       "<Figure size 288x288 with 1 Axes>"
      ]
     },
     "metadata": {},
     "output_type": "display_data"
    },
    {
     "name": "stdout",
     "output_type": "stream",
     "text": [
      "(0, 0) b'2'\n",
      "(0, 8) b'1'\n"
     ]
    },
    {
     "data": {
      "image/png": "[encoded data removed]",
      "text/plain": [
       "<Figure size 288x288 with 1 Axes>"
      ]
     },
     "metadata": {},
     "output_type": "display_data"
    },
    {
     "name": "stdout",
     "output_type": "stream",
     "text": [
      "(0, 8) b'1'\n",
      "(0, 0) b'2'\n"
     ]
    },
    {
     "data": {
      "image/png": "[encoded data removed]",
      "text/plain": [
       "<Figure size 288x288 with 1 Axes>"
      ]
     },
     "metadata": {},
     "output_type": "display_data"
    },
    {
     "name": "stdout",
     "output_type": "stream",
     "text": [
      "(0, 0) b'2'\n",
      "(8, 0) b'1'\n"
     ]
    },
    {
     "data": {
      "image/png": "[encoded data removed]",
      "text/plain": [
       "<Figure size 288x288 with 1 Axes>"
      ]
     },
     "metadata": {},
     "output_type": "display_data"
    },
    {
     "name": "stdout",
     "output_type": "stream",
     "text": [
      "(8, 0) b'1'\n",
      "(8, 0) b'1'\n"
     ]
    },
    {
     "data": {
      "image/png": "[encoded data removed]",
      "text/plain": [
       "<Figure size 288x288 with 1 Axes>"
      ]
     },
     "metadata": {},
     "output_type": "display_data"
    },
    {
     "name": "stdout",
     "output_type": "stream",
     "text": [
      "(8, 0) b'1'\n",
      "(8, 0) b'1'\n"
     ]
    },
    {
     "data": {
      "image/png": "[encoded data removed]",
      "text/plain": [
       "<Figure size 288x288 with 1 Axes>"
      ]
     },
     "metadata": {},
     "output_type": "display_data"
    },
    {
     "name": "stdout",
     "output_type": "stream",
     "text": [
      "(8, 0) b'1'\n",
      "(0, 0) b'2'\n"
     ]
    },
    {
     "data": {
      "image/png": "[encoded data removed]",
      "text/plain": [
       "<Figure size 288x288 with 1 Axes>"
      ]
     },
     "metadata": {},
     "output_type": "display_data"
    },
    {
     "name": "stdout",
     "output_type": "stream",
     "text": [
      "(0, 0) b'2'\n",
      "(0, 0) b'2'\n",
      "[[[0.75661909 0.0688394 ]\n",
      "  [0.13649036 0.13363353]\n",
      "  [0.00000003 0.07129067]\n",
      "  [0.10689049 0.08954699]\n",
      "  [0.00000003 0.63668941]]\n",
      "\n",
      " [[0.13372381 0.0688394 ]\n",
      "  [0.78646038 0.13363353]\n",
      "  [0.07981577 0.07129067]\n",
      "  [0.00000002 0.08954699]\n",
      "  [0.00000002 0.63668941]]\n",
      "\n",
      " [[0.00000002 0.0688394 ]\n",
      "  [0.09075466 0.13363353]\n",
      "  [0.80415278 0.07129067]\n",
      "  [0.10509252 0.08954699]\n",
      "  [0.00000002 0.63668941]]\n",
      "\n",
      " [[0.10123187 0.0688394 ]\n",
      "  [0.00000003 0.13363353]\n",
      "  [0.10891644 0.07129067]\n",
      "  [0.78985163 0.08954699]\n",
      "  [0.00000003 0.63668941]]\n",
      "\n",
      " [[0.00000001 0.0688394 ]\n",
      "  [0.00000001 0.13363353]\n",
      "  [0.00000001 0.07129067]\n",
      "  [0.00000001 0.08954699]\n",
      "  [0.99999997 0.63668941]]]\n"
     ]
    }
   ],
   "source": [
    "plot_mars(mdp,tabsoftq_gen_pol(Qi))\n",
    "print(softmax(Ti_thetas))"
   ]
  },
  {
   "cell_type": "code",
   "execution_count": 43,
   "metadata": {},
   "outputs": [
    {
     "data": {
      "text/plain": [
       "(81, 5)"
      ]
     },
     "execution_count": 43,
     "metadata": {},
     "output_type": "execute_result"
    }
   ],
   "source": [
    "Qi.shape"
   ]
  },
  {
   "cell_type": "code",
   "execution_count": 44,
   "metadata": {},
   "outputs": [
    {
     "data": {
      "text/plain": [
       "array([[[0.75661909, 0.13649036, 0.00000003, 0.10689049, 0.00000003],\n",
       "        [0.13372381, 0.78646038, 0.07981577, 0.00000002, 0.00000002],\n",
       "        [0.00000002, 0.09075466, 0.80415278, 0.10509252, 0.00000002],\n",
       "        [0.10123187, 0.00000003, 0.10891644, 0.78985163, 0.00000003],\n",
       "        [0.00000001, 0.00000001, 0.00000001, 0.00000001, 0.99999997]],\n",
       "\n",
       "       [[0.0688394 , 0.13363353, 0.07129067, 0.08954699, 0.63668941],\n",
       "        [0.0688394 , 0.13363353, 0.07129067, 0.08954699, 0.63668941],\n",
       "        [0.0688394 , 0.13363353, 0.07129067, 0.08954699, 0.63668941],\n",
       "        [0.0688394 , 0.13363353, 0.07129067, 0.08954699, 0.63668941],\n",
       "        [0.0688394 , 0.13363353, 0.07129067, 0.08954699, 0.63668941]]])"
      ]
     },
     "execution_count": 44,
     "metadata": {},
     "output_type": "execute_result"
    }
   ],
   "source": [
    "softmax(Ti_thetas).transpose((2,0,1))"
   ]
  },
  {
   "cell_type": "code",
   "execution_count": 45,
   "metadata": {},
   "outputs": [
    {
     "data": {
      "text/plain": [
       "array([[0.10104044, 0.02967142, 0.02354334, 0.0928144 , 0.7529304 ],\n",
       "       [0.86261872, 0.01241768, 0.00363208, 0.03071149, 0.09062003],\n",
       "       [0.85221794, 0.01724065, 0.00219019, 0.03797996, 0.09037126],\n",
       "       [0.84752876, 0.00013253, 0.00000822, 0.05100836, 0.10132214],\n",
       "       [0.2       , 0.2       , 0.2       , 0.2       , 0.2       ],\n",
       "       [0.00001073, 0.00004741, 0.85474071, 0.04899126, 0.09620989],\n",
       "       [0.00391063, 0.01216101, 0.83890751, 0.0546169 , 0.09040395],\n",
       "       [0.00553416, 0.00958124, 0.84045252, 0.05536262, 0.08906947],\n",
       "       [0.01219077, 0.01507324, 0.63905726, 0.11411162, 0.21956711],\n",
       "       [0.02967398, 0.00444007, 0.00848537, 0.86656804, 0.09083254],\n",
       "       [0.47039008, 0.00656876, 0.00488825, 0.46627193, 0.05188098],\n",
       "       [0.69226531, 0.00733032, 0.00002533, 0.22047608, 0.07990296],\n",
       "       [0.2       , 0.2       , 0.2       , 0.2       , 0.2       ],\n",
       "       [0.2       , 0.2       , 0.2       , 0.2       , 0.2       ],\n",
       "       [0.2       , 0.2       , 0.2       , 0.2       , 0.2       ],\n",
       "       [0.00004552, 0.00360814, 0.68965526, 0.22964446, 0.07704662],\n",
       "       [0.00615258, 0.00525347, 0.50020565, 0.43535092, 0.05303737],\n",
       "       [0.00807695, 0.00523221, 0.22366602, 0.6921667 , 0.07085813],\n",
       "       [0.03863581, 0.00574498, 0.0124625 , 0.8511332 , 0.0920235 ],\n",
       "       [0.38581984, 0.00800994, 0.0072644 , 0.54018437, 0.05872145],\n",
       "       [0.4282481 , 0.0266673 , 0.03481525, 0.45906154, 0.05120781],\n",
       "       [0.09096813, 0.71546195, 0.11304202, 0.00042707, 0.08010083],\n",
       "       [0.2       , 0.2       , 0.2       , 0.2       , 0.2       ],\n",
       "       [0.22635554, 0.6170884 , 0.08606011, 0.00062381, 0.06987214],\n",
       "       [0.02894794, 0.01303361, 0.430982  , 0.47351195, 0.05352449],\n",
       "       [0.0077384 , 0.00576484, 0.43731607, 0.49471851, 0.05446218],\n",
       "       [0.01052353, 0.00605294, 0.19060995, 0.71506635, 0.07774723],\n",
       "       [0.046745  , 0.00687304, 0.01812872, 0.82838086, 0.09987238],\n",
       "       [0.302836  , 0.00798081, 0.02540948, 0.59929783, 0.06447588],\n",
       "       [0.09278202, 0.00205069, 0.57225872, 0.26795792, 0.06495064],\n",
       "       [0.2       , 0.2       , 0.2       , 0.2       , 0.2       ],\n",
       "       [0.2       , 0.2       , 0.2       , 0.2       , 0.2       ],\n",
       "       [0.2       , 0.2       , 0.2       , 0.2       , 0.2       ],\n",
       "       [0.42233169, 0.002204  , 0.1519539 , 0.37481242, 0.04869799],\n",
       "       [0.0148372 , 0.00642033, 0.3863577 , 0.5337057 , 0.05867907],\n",
       "       [0.01318788, 0.00667676, 0.17570359, 0.72246246, 0.08196931],\n",
       "       [0.07421037, 0.20013649, 0.02319934, 0.62567286, 0.07678095],\n",
       "       [0.37258954, 0.18522449, 0.00554421, 0.39174831, 0.04489345],\n",
       "       [0.2       , 0.2       , 0.2       , 0.2       , 0.2       ],\n",
       "       [0.2       , 0.2       , 0.2       , 0.2       , 0.2       ],\n",
       "       [0.        , 0.        , 0.        , 0.        , 1.        ],\n",
       "       [0.2       , 0.2       , 0.2       , 0.2       , 0.2       ],\n",
       "       [0.2       , 0.2       , 0.2       , 0.2       , 0.2       ],\n",
       "       [0.00521898, 0.10363196, 0.44267541, 0.39741955, 0.0510541 ],\n",
       "       [0.02095447, 0.17299871, 0.18560077, 0.55550603, 0.06494003],\n",
       "       [0.06661904, 0.7961133 , 0.02367404, 0.02056112, 0.0930325 ],\n",
       "       [0.316004  , 0.59256281, 0.01119431, 0.01507339, 0.06516548],\n",
       "       [0.35205097, 0.5154043 , 0.06175326, 0.009275  , 0.06151647],\n",
       "       [0.2       , 0.2       , 0.2       , 0.2       , 0.2       ],\n",
       "       [0.2       , 0.2       , 0.2       , 0.2       , 0.2       ],\n",
       "       [0.2       , 0.2       , 0.2       , 0.2       , 0.2       ],\n",
       "       [0.08028653, 0.51096818, 0.33835128, 0.00929899, 0.06109502],\n",
       "       [0.01315428, 0.4797869 , 0.43246292, 0.02022629, 0.0543696 ],\n",
       "       [0.01693061, 0.70850156, 0.17169955, 0.02066433, 0.08220395],\n",
       "       [0.05850215, 0.82652384, 0.01570187, 0.0061159 , 0.09315624],\n",
       "       [0.35301267, 0.56999434, 0.00700564, 0.00681312, 0.06317424],\n",
       "       [0.45596717, 0.47363606, 0.00771686, 0.00878297, 0.05389693],\n",
       "       [0.506071  , 0.35634925, 0.00961058, 0.06789584, 0.06007334],\n",
       "       [0.2       , 0.2       , 0.2       , 0.2       , 0.2       ],\n",
       "       [0.02666485, 0.37697525, 0.46699948, 0.07408862, 0.05527181],\n",
       "       [0.0103126 , 0.46089698, 0.46697678, 0.00829621, 0.05351742],\n",
       "       [0.00797494, 0.4989462 , 0.43198258, 0.00563943, 0.05545685],\n",
       "       [0.01261079, 0.75815689, 0.14256975, 0.00591289, 0.08074969],\n",
       "       [0.06096911, 0.83226296, 0.0108468 , 0.00539871, 0.09052242],\n",
       "       [0.42253572, 0.51100383, 0.00539896, 0.00618763, 0.05487386],\n",
       "       [0.50268171, 0.42919914, 0.00537824, 0.0072188 , 0.05552211],\n",
       "       [0.56322869, 0.35754597, 0.00580696, 0.0113479 , 0.06207048],\n",
       "       [0.45390973, 0.20477043, 0.26608724, 0.02223612, 0.05299648],\n",
       "       [0.01283313, 0.38675535, 0.53144478, 0.00934964, 0.0596171 ],\n",
       "       [0.00735669, 0.42411196, 0.50700215, 0.00590757, 0.05562163],\n",
       "       [0.00659887, 0.46747988, 0.47041607, 0.00486167, 0.05064351],\n",
       "       [0.01024671, 0.77985911, 0.12727329, 0.00492508, 0.07769581],\n",
       "       [0.12460612, 0.65265345, 0.01388167, 0.01071246, 0.1981463 ],\n",
       "       [0.67266303, 0.24326033, 0.00494918, 0.00827405, 0.07085342],\n",
       "       [0.71522699, 0.19206032, 0.00491566, 0.01105064, 0.07674639],\n",
       "       [0.79949236, 0.09365866, 0.00299033, 0.01586156, 0.08799709],\n",
       "       [0.39695327, 0.00055397, 0.48754618, 0.05707599, 0.05787058],\n",
       "       [0.00461834, 0.07174015, 0.82119069, 0.01248852, 0.08996229],\n",
       "       [0.00667851, 0.11471219, 0.78395603, 0.00969614, 0.08495714],\n",
       "       [0.00632492, 0.11479263, 0.78980915, 0.00770444, 0.08136886],\n",
       "       [0.02070902, 0.33849319, 0.33016456, 0.01600191, 0.29463133]])"
      ]
     },
     "execution_count": 45,
     "metadata": {},
     "output_type": "execute_result"
    }
   ],
   "source": [
    "tabsoftq_gen_pol_probs(Qi)"
   ]
  },
  {
   "cell_type": "code",
   "execution_count": 46,
   "metadata": {
    "scrolled": true
   },
   "outputs": [
    {
     "name": "stdout",
     "output_type": "stream",
     "text": [
      "[[[0.75661909 0.0688394 ]\n",
      "  [0.13649036 0.13363353]\n",
      "  [0.00000003 0.07129067]\n",
      "  [0.10689049 0.08954699]\n",
      "  [0.00000003 0.63668941]]\n",
      "\n",
      " [[0.13372381 0.0688394 ]\n",
      "  [0.78646038 0.13363353]\n",
      "  [0.07981577 0.07129067]\n",
      "  [0.00000002 0.08954699]\n",
      "  [0.00000002 0.63668941]]\n",
      "\n",
      " [[0.00000002 0.0688394 ]\n",
      "  [0.09075466 0.13363353]\n",
      "  [0.80415278 0.07129067]\n",
      "  [0.10509252 0.08954699]\n",
      "  [0.00000002 0.63668941]]\n",
      "\n",
      " [[0.10123187 0.0688394 ]\n",
      "  [0.00000003 0.13363353]\n",
      "  [0.10891644 0.07129067]\n",
      "  [0.78985163 0.08954699]\n",
      "  [0.00000003 0.63668941]]\n",
      "\n",
      " [[0.00000001 0.0688394 ]\n",
      "  [0.00000001 0.13363353]\n",
      "  [0.00000001 0.07129067]\n",
      "  [0.00000001 0.08954699]\n",
      "  [0.99999997 0.63668941]]]\n"
     ]
    }
   ],
   "source": [
    "print(softmax(Ti_thetas)) # - softmax(T_estimate(adt_obs[train_demo_example_idxes])))"
   ]
  },
  {
   "cell_type": "code",
   "execution_count": null,
   "metadata": {},
   "outputs": [],
   "source": []
  },
  {
   "cell_type": "code",
   "execution_count": 47,
   "metadata": {},
   "outputs": [
    {
     "name": "stdout",
     "output_type": "stream",
     "text": [
      "[4, 12, 13, 14, 22, 30, 31, 32, 38, 39, 41, 42, 48, 49, 50, 58]\n",
      "[[101.5319503  101.5319503  101.5319503  101.5319503  101.5319503 ]\n",
      " [104.32212227 104.32212227 104.32212227 104.32212227 104.32212227]\n",
      " [100.82883457 100.82883457 100.82883457 100.82883457 100.82883457]\n",
      " [103.83915477 103.83915477 103.83915477 103.83915477 103.83915477]\n",
      " [112.34933312 112.34933312 112.34933312 112.34933312 112.34933312]\n",
      " [113.92571895 113.92571895 113.92571895 113.92571895 113.92571895]\n",
      " [138.86267532 138.86267532 138.86267532 138.86267532 138.86267532]\n",
      " [112.67120337 112.67120337 112.67120337 112.67120337 112.67120337]\n",
      " [105.74836473 105.74836473 105.74836473 105.74836473 105.74836473]\n",
      " [121.40355956 121.40355956 121.40355956 121.40355956 121.40355956]\n",
      " [119.84667755 119.84667755 119.84667755 119.84667755 119.84667755]\n",
      " [104.40329268 104.40329268 104.40329268 104.40329268 104.40329268]\n",
      " [108.60629339 108.60629339 108.60629339 108.60629339 108.60629339]\n",
      " [124.06720135 124.06720135 124.06720135 124.06720135 124.06720135]\n",
      " [107.50826393 107.50826393 107.50826393 107.50826393 107.50826393]\n",
      " [105.81138473 105.81138473 105.81138473 105.81138473 105.81138473]]\n",
      "-297.1235011617597 -117.3491461855397\n"
     ]
    },
    {
     "data": {
      "text/plain": [
       "-414.47264734729936"
      ]
     },
     "execution_count": 47,
     "metadata": {},
     "output_type": "execute_result"
    }
   ],
   "source": [
    "test_T_likelihood(softmax(Ti_thetas), val_sas_obs, val_adt_obs)"
   ]
  },
  {
   "cell_type": "code",
   "execution_count": 48,
   "metadata": {},
   "outputs": [
    {
     "name": "stdout",
     "output_type": "stream",
     "text": [
      "[4, 12, 13, 14, 22, 30, 31, 32, 38, 39, 41, 42, 48, 49, 50, 58]\n",
      "[[122.86522304 122.86522304 122.86522304 122.86522304 122.86522304]\n",
      " [124.80733249 124.80733249 124.80733249 124.80733249 124.80733249]\n",
      " [123.12469914 123.12469914 123.12469914 123.12469914 123.12469914]\n",
      " [124.89695505 124.89695505 124.89695505 124.89695505 124.89695505]\n",
      " [132.49222608 132.49222608 132.49222608 132.49222608 132.49222608]\n",
      " [139.32810877 139.32810877 139.32810877 139.32810877 139.32810877]\n",
      " [150.13220942 150.13220942 150.13220942 150.13220942 150.13220942]\n",
      " [139.37411939 139.37411939 139.37411939 139.37411939 139.37411939]\n",
      " [135.1140974  135.1140974  135.1140974  135.1140974  135.1140974 ]\n",
      " [150.94239012 150.94239012 150.94239012 150.94239012 150.94239012]\n",
      " [150.94858512 150.94858512 150.94858512 150.94858512 150.94858512]\n",
      " [135.11743031 135.11743031 135.11743031 135.11743031 135.11743031]\n",
      " [140.07564239 140.07564239 140.07564239 140.07564239 140.07564239]\n",
      " [151.2338851  151.2338851  151.2338851  151.2338851  151.2338851 ]\n",
      " [140.051711   140.051711   140.051711   140.051711   140.051711  ]\n",
      " [135.58621945 135.58621945 135.58621945 135.58621945 135.58621945]]\n",
      "-603.5516673166821 -117.53709302929911\n"
     ]
    },
    {
     "data": {
      "text/plain": [
       "-721.0887603459812"
      ]
     },
     "execution_count": 48,
     "metadata": {},
     "output_type": "execute_result"
    }
   ],
   "source": [
    "test_T_likelihood(softmax(T_estimate(adt_obs[train_demo_example_idxes])), val_sas_obs, val_adt_obs)"
   ]
  },
  {
   "cell_type": "code",
   "execution_count": 49,
   "metadata": {},
   "outputs": [
    {
     "name": "stdout",
     "output_type": "stream",
     "text": [
      "[4, 12, 13, 14, 22, 30, 31, 32, 38, 39, 41, 42, 48, 49, 50, 58]\n",
      "[[0.00788625 0.00788625 0.00788625 0.00788625 0.00788625]\n",
      " [0.00788625 0.00788625 0.00788625 0.00788625 0.00788625]\n",
      " [0.00788625 0.00788625 0.00788625 0.00788625 0.00788625]\n",
      " [0.00788625 0.00788625 0.00788625 0.00788625 0.00788625]\n",
      " [0.00788625 0.00788625 0.00788625 0.00788625 0.00788625]\n",
      " [0.00788625 0.00788625 0.00788625 0.00788625 0.00788625]\n",
      " [0.00788625 0.00788625 0.00788625 0.00788625 0.00788625]\n",
      " [0.00788625 0.00788625 0.00788625 0.00788625 0.00788625]\n",
      " [0.00788625 0.00788625 0.00788625 0.00788625 0.00788625]\n",
      " [0.00788625 0.00788625 0.00788625 0.00788625 0.00788625]\n",
      " [0.00788625 0.00788625 0.00788625 0.00788625 0.00788625]\n",
      " [0.00788625 0.00788625 0.00788625 0.00788625 0.00788625]\n",
      " [0.00788625 0.00788625 0.00788625 0.00788625 0.00788625]\n",
      " [0.00788625 0.00788625 0.00788625 0.00788625 0.00788625]\n",
      " [0.00788625 0.00788625 0.00788625 0.00788625 0.00788625]\n",
      " [0.00788625 0.00788625 0.00788625 0.00788625 0.00788625]]\n",
      "-286.6888758620535 -116.65888917608319\n"
     ]
    },
    {
     "data": {
      "text/plain": [
       "-403.3477650381367"
      ]
     },
     "execution_count": 49,
     "metadata": {},
     "output_type": "execute_result"
    }
   ],
   "source": [
    "test_T_likelihood(true_tps, val_sas_obs, val_adt_obs)"
   ]
  },
  {
   "cell_type": "code",
   "execution_count": 50,
   "metadata": {},
   "outputs": [
    {
     "data": {
      "text/plain": [
       "0.7418893741068084"
      ]
     },
     "execution_count": 50,
     "metadata": {},
     "output_type": "execute_result"
    }
   ],
   "source": [
    "true_trans_loss(softmax(Ti_thetas))"
   ]
  },
  {
   "cell_type": "code",
   "execution_count": 51,
   "metadata": {},
   "outputs": [
    {
     "data": {
      "text/plain": [
       "array([[[0.75661909, 0.0688394 ],\n",
       "        [0.13649036, 0.13363353],\n",
       "        [0.00000003, 0.07129067],\n",
       "        [0.10689049, 0.08954699],\n",
       "        [0.00000003, 0.63668941]],\n",
       "\n",
       "       [[0.13372381, 0.0688394 ],\n",
       "        [0.78646038, 0.13363353],\n",
       "        [0.07981577, 0.07129067],\n",
       "        [0.00000002, 0.08954699],\n",
       "        [0.00000002, 0.63668941]],\n",
       "\n",
       "       [[0.00000002, 0.0688394 ],\n",
       "        [0.09075466, 0.13363353],\n",
       "        [0.80415278, 0.07129067],\n",
       "        [0.10509252, 0.08954699],\n",
       "        [0.00000002, 0.63668941]],\n",
       "\n",
       "       [[0.10123187, 0.0688394 ],\n",
       "        [0.00000003, 0.13363353],\n",
       "        [0.10891644, 0.07129067],\n",
       "        [0.78985163, 0.08954699],\n",
       "        [0.00000003, 0.63668941]],\n",
       "\n",
       "       [[0.00000001, 0.0688394 ],\n",
       "        [0.00000001, 0.13363353],\n",
       "        [0.00000001, 0.07129067],\n",
       "        [0.00000001, 0.08954699],\n",
       "        [0.99999997, 0.63668941]]])"
      ]
     },
     "execution_count": 51,
     "metadata": {},
     "output_type": "execute_result"
    }
   ],
   "source": [
    "softmax(Ti_thetas)"
   ]
  },
  {
   "cell_type": "code",
   "execution_count": 52,
   "metadata": {},
   "outputs": [
    {
     "data": {
      "text/plain": [
       "1.6020488178872074"
      ]
     },
     "execution_count": 52,
     "metadata": {},
     "output_type": "execute_result"
    }
   ],
   "source": [
    "true_trans_loss(softmax(T_estimate(adt_obs[train_demo_example_idxes])))"
   ]
  },
  {
   "cell_type": "code",
   "execution_count": 53,
   "metadata": {},
   "outputs": [
    {
     "data": {
      "text/plain": [
       "array([[[0.79436611, 0.2       ],\n",
       "        [0.10704227, 0.2       ],\n",
       "        [0.00000003, 0.2       ],\n",
       "        [0.09859156, 0.2       ],\n",
       "        [0.00000003, 0.2       ]],\n",
       "\n",
       "       [[0.13015185, 0.2       ],\n",
       "        [0.78741859, 0.2       ],\n",
       "        [0.08242951, 0.2       ],\n",
       "        [0.00000002, 0.2       ],\n",
       "        [0.00000002, 0.2       ]],\n",
       "\n",
       "       [[0.00000002, 0.2       ],\n",
       "        [0.09586058, 0.2       ],\n",
       "        [0.79520691, 0.2       ],\n",
       "        [0.10893247, 0.2       ],\n",
       "        [0.00000002, 0.2       ]],\n",
       "\n",
       "       [[0.09438777, 0.2       ],\n",
       "        [0.00000003, 0.2       ],\n",
       "        [0.08163267, 0.2       ],\n",
       "        [0.82397951, 0.2       ],\n",
       "        [0.00000003, 0.2       ]],\n",
       "\n",
       "       [[0.00000001, 0.2       ],\n",
       "        [0.00000001, 0.2       ],\n",
       "        [0.00000001, 0.2       ],\n",
       "        [0.00000001, 0.2       ],\n",
       "        [0.99999997, 0.2       ]]])"
      ]
     },
     "execution_count": 53,
     "metadata": {},
     "output_type": "execute_result"
    }
   ],
   "source": [
    "softmax(T_estimate(adt_obs[train_demo_example_idxes]))"
   ]
  },
  {
   "cell_type": "code",
   "execution_count": 54,
   "metadata": {},
   "outputs": [
    {
     "data": {
      "image/png": "[encoded data removed]",
      "text/plain": [
       "<Figure size 576x576 with 1 Axes>"
      ]
     },
     "metadata": {},
     "output_type": "display_data"
    }
   ],
   "source": [
    "plot_values(mdp, Qi)"
   ]
  },
  {
   "cell_type": "code",
   "execution_count": 55,
   "metadata": {},
   "outputs": [
    {
     "data": {
      "image/png": "[encoded data removed]",
      "text/plain": [
       "<Figure size 576x576 with 1 Axes>"
      ]
     },
     "metadata": {},
     "output_type": "display_data"
    }
   ],
   "source": [
    "plot_values(mdp, exQs)"
   ]
  },
  {
   "cell_type": "markdown",
   "metadata": {},
   "source": [
    "## SERD only"
   ]
  },
  {
   "cell_type": "code",
   "execution_count": 38,
   "metadata": {},
   "outputs": [],
   "source": [
    "serd_train_logs = {\n",
    "  'train_likelihoods': [],\n",
    "  'val_likelihoods': [],\n",
    "  'tp_lls': [],\n",
    "  'tt_lls': [],\n",
    "  'vp_lls': [],\n",
    "  'vt_lls': [],\n",
    "  'true_trans_loss': []\n",
    "}"
   ]
  },
  {
   "cell_type": "code",
   "execution_count": 39,
   "metadata": {},
   "outputs": [],
   "source": [
    "Ts_thetas = T_estimate(adt_obs[train_demo_example_idxes]) #np.log(Tps2+.000000001)\n",
    "feats = mdp.feature_map\n",
    "Rs_thetas = np.random.normal(loc=1,scale=0.1,size=feats.shape[1])\n",
    "Qs = None"
   ]
  },
  {
   "cell_type": "code",
   "execution_count": 40,
   "metadata": {},
   "outputs": [],
   "source": [
    "maxiter = 300\n",
    "t_learning_rate = lambda t: 0 if t<20 else 3 - (2 * int(t/(maxiter/2)))\n",
    "r_learning_rate = lambda t: 2e-1 if t<20 else 1e-1"
   ]
  },
  {
   "cell_type": "code",
   "execution_count": 42,
   "metadata": {
    "scrolled": true
   },
   "outputs": [
    {
     "name": "stdout",
     "output_type": "stream",
     "text": [
      "3 -363.470432 -135.268604 -498.739036 1.601974\n",
      "4 -357.623280 -135.268604 -492.891884 1.601974\n",
      "5 -353.479152 -135.268604 -488.747756 1.601974\n",
      "6 -349.843917 -135.268604 -485.112521 1.601974\n",
      " "
     ]
    }
   ],
   "source": [
    "%%prun -s cumulative\n",
    "\n",
    "try:\n",
    "    while len(serd_train_logs['tt_lls']) < maxiter:\n",
    "        prevQs = Qs.copy() if Qs is not None else None\n",
    "        t = len(serd_train_logs['tt_lls'])\n",
    "        batch_demo_sas, batch_demo_adt = sample_batch(batch_size, train_demo_example_idxes, sas_obs, adt_obs)\n",
    "        Rs = feats.dot(Rs_thetas)\n",
    "        tp_ll, dT_pol, dR_pol, Qs = eval_TR_pol_likelihood_and_grad(Ts_thetas, Rs, feats, batch_demo_sas, Q_inits=Qs)\n",
    "        tt_ll, dT_trans = eval_trans_likelihood_and_grad(Ts_thetas, batch_demo_adt)\n",
    "        train_likelihood = tp_ll + tt_ll\n",
    "        vp_ll, vt_ll = eval_demo_log_likelihood(val_sas_obs, val_adt_obs, Ts_thetas, Qs)\n",
    "        val_likelihood = vp_ll + vt_ll\n",
    "        ttd = true_trans_loss(softmax(Ts_thetas))\n",
    "        Rs_thetas += r_learning_rate(t) * dR_pol\n",
    "        Ts_thetas += t_learning_rate(t) * (dT_trans + dT_pol)\n",
    "\n",
    "    #     print(dT_trans)\n",
    "    #     print(dT_pol)\n",
    "    #     print(softmax(Ts_thetas))\n",
    "    #     print(dR_pol * r_learning_rate(t))\n",
    "    #     print(Rs_thetas)\n",
    "    #     if prevQs is not None:\n",
    "    #         print(\"Q_diff\")\n",
    "    #         print(np.linalg.norm(Qs-prevQs))\n",
    "\n",
    "\n",
    "        print('%d %f %f %f %f' % (t, vp_ll, vt_ll, vp_ll + vt_ll, ttd))\n",
    "        serd_train_logs['train_likelihoods'].append(train_likelihood)\n",
    "        serd_train_logs['val_likelihoods'].append(val_likelihood)\n",
    "        serd_train_logs['tp_lls'].append(tp_ll)\n",
    "        serd_train_logs['tt_lls'].append(tt_ll)\n",
    "        serd_train_logs['vp_lls'].append(vp_ll)\n",
    "        serd_train_logs['vt_lls'].append(vt_ll)\n",
    "        serd_train_logs['true_trans_loss'].append(ttd)\n",
    "except KeyboardInterrupt:\n",
    "    pass"
   ]
  },
  {
   "cell_type": "code",
   "execution_count": null,
   "metadata": {},
   "outputs": [],
   "source": [
    "print(softmax(Ts_thetas))"
   ]
  },
  {
   "cell_type": "code",
   "execution_count": null,
   "metadata": {},
   "outputs": [],
   "source": [
    "print(Rs_thetas)"
   ]
  },
  {
   "cell_type": "code",
   "execution_count": null,
   "metadata": {},
   "outputs": [],
   "source": [
    "true_trans_loss(softmax(Ts_thetas))"
   ]
  },
  {
   "cell_type": "code",
   "execution_count": null,
   "metadata": {},
   "outputs": [],
   "source": [
    "plt.plot(serd_train_logs['vp_lls'][:250])\n",
    "plt.plot(idl_train_logs['vp_lls'][:250])"
   ]
  },
  {
   "cell_type": "code",
   "execution_count": null,
   "metadata": {},
   "outputs": [],
   "source": [
    "plt.plot(serd_train_logs['vt_lls'][:250])\n",
    "plt.plot(idl_train_logs['vt_lls'][:250])"
   ]
  },
  {
   "cell_type": "code",
   "execution_count": null,
   "metadata": {},
   "outputs": [],
   "source": [
    "plt.plot(serd_train_logs['val_likelihoods'], label = \"SERD\")\n",
    "plt.plot(idl_train_logs['val_likelihoods'], label = \"IDL\")\n",
    "plt.title(\"Log likelihood of Demonstrations\")\n",
    "plt.xlabel(\"Iterations of MDCE\")\n",
    "plt.ylabel(\"Log Likelihood\")\n",
    "plt.legend()"
   ]
  },
  {
   "cell_type": "code",
   "execution_count": null,
   "metadata": {},
   "outputs": [],
   "source": [
    "plt.plot(serd_train_logs['true_trans_loss'], label = \"SERD\")\n",
    "plt.plot(idl_train_logs['true_trans_loss'], label = \"IDL\")\n",
    "plt.title(\"Square Error of Learned Transition Parameters\")\n",
    "plt.xlabel(\"Iterations of MDCE\")\n",
    "plt.ylabel(\"Summed Square Error\")\n",
    "plt.legend()"
   ]
  },
  {
   "cell_type": "markdown",
   "metadata": {},
   "source": [
    "## Comparison Tests"
   ]
  },
  {
   "cell_type": "code",
   "execution_count": null,
   "metadata": {},
   "outputs": [],
   "source": [
    "def demo_stats(mdp, demos):\n",
    "    demo_rewards = []\n",
    "    for i in range(len(demos)):\n",
    "        demo_rewards += [np.array([mdp.rewards[obs[0][2]] for obs in demos[i]])]\n",
    "#         for j in range(len(demo_rewards[i])):\n",
    "#             print(demos[i][j][0], demo_rewards[i][j])\n",
    "    \n",
    "    discounted_demo_rewards = [np.power(gamma,np.arange(len(dr)))*dr for dr in demo_rewards]\n",
    "    demo_rewards, discounted_demo_rewards = np.array(demo_rewards), np.array(discounted_demo_rewards)\n",
    "    data = {\"mean episode reward\": np.mean(np.sum(demo_rewards, axis=1)),\n",
    "            \"sd episode reward\": np.std(np.sum(demo_rewards, axis=1)),\n",
    "            \"mean discounted episode reward\": np.mean(np.sum(discounted_demo_rewards, axis=1)),\n",
    "            \"sd discounted episode reward\": np.std(np.sum(discounted_demo_rewards, axis=1))}\n",
    "    return data\n",
    "    \n",
    "    "
   ]
  },
  {
   "cell_type": "code",
   "execution_count": null,
   "metadata": {},
   "outputs": [],
   "source": [
    "SERD_demos = generate_demonstrations(mdp, tabsoftq_gen_pol(Qs), 2000, demo_time_steps)\n",
    "IDL_demos = generate_demonstrations(mdp, tabsoftq_gen_pol(Qi), 2000, demo_time_steps)"
   ]
  },
  {
   "cell_type": "code",
   "execution_count": null,
   "metadata": {},
   "outputs": [],
   "source": [
    "print(demo_stats(mdp, SERD_demos))"
   ]
  },
  {
   "cell_type": "code",
   "execution_count": null,
   "metadata": {},
   "outputs": [],
   "source": [
    "print(demo_stats(mdp, IDL_demos))"
   ]
  },
  {
   "cell_type": "code",
   "execution_count": null,
   "metadata": {},
   "outputs": [],
   "source": [
    "plot_values(mdp, Qs)"
   ]
  },
  {
   "cell_type": "code",
   "execution_count": null,
   "metadata": {},
   "outputs": [],
   "source": [
    "plot_values(mdp, Qi)"
   ]
  },
  {
   "cell_type": "code",
   "execution_count": null,
   "metadata": {},
   "outputs": [],
   "source": [
    "print(reward_map[5][0], Qi[2], Q[2])"
   ]
  },
  {
   "cell_type": "markdown",
   "metadata": {},
   "source": [
    "### Transfer"
   ]
  },
  {
   "cell_type": "code",
   "execution_count": null,
   "metadata": {},
   "outputs": [],
   "source": [
    "tile_map2 = [\n",
    "        \"2FFFFFFF1\",\n",
    "        \"FFFFFFFFF\",\n",
    "        \"FFFFUFFFF\",\n",
    "        \"FFFUUUFSF\",\n",
    "        \"FFUU3UUFF\",\n",
    "        \"FSFUUUFSF\",\n",
    "        \"FSFFUFFSF\",\n",
    "        \"FFFSSSFFF\",\n",
    "        \"1FFFFFFF2\"\n",
    "    ]\n",
    "reward_map2, texture_map2 = build_reward_map(tile_map2, tile_rewards, goal_tile_rewards, tile_reward_modifier)\n",
    "# reward_normalizer2 = (1-gamma)/(np.max(reward_map2))\n",
    "# reward_map2 *= reward_normalizer2\n",
    "# time_penalty *= reward_normalizer2\n",
    "# temperature2 = 1/(reward_normalizer2)\n",
    "# print(temperature2)\n",
    "print(reward_map2)\n",
    "print(texture_map2)"
   ]
  },
  {
   "cell_type": "code",
   "execution_count": null,
   "metadata": {},
   "outputs": [],
   "source": [
    "mdp = MarsExplorerEnv(tile_map2, reward_map2, texture_map2, trans_dict, time_penalty) \n",
    "nA = mdp.num_actions\n",
    "nS = mdp.num_states"
   ]
  },
  {
   "cell_type": "code",
   "execution_count": null,
   "metadata": {},
   "outputs": [],
   "source": [
    "\n",
    "Tips = softmax(Ti_thetas,axis=1)\n",
    "Ti = mdp.adt_trans_to_sas_trans(Tips)\n",
    "Ri = mdp.rewards\n",
    "Qit = tabsoftq_iter(Ri, Ti, maxiter=tabsoftq_iter_maxiter, verbose=tabsoftq_iter_verbose, ftol=tabsoftq_iter_ftol)"
   ]
  },
  {
   "cell_type": "code",
   "execution_count": null,
   "metadata": {},
   "outputs": [],
   "source": [
    "Tips = softmax(Ti_thetas,axis=1)\n",
    "Ti = mdp.adt_trans_to_sas_trans(Tips)\n",
    "Ri = mdp.rewards\n",
    "Qit = tabsoftq_iter(Ri, Ti, maxiter=tabsoftq_iter_maxiter, verbose=tabsoftq_iter_verbose, ftol=tabsoftq_iter_ftol)"
   ]
  },
  {
   "cell_type": "code",
   "execution_count": null,
   "metadata": {},
   "outputs": [],
   "source": [
    "Tsps = softmax(Ts_thetas,axis=1)\n",
    "Ts = mdp.adt_trans_to_sas_trans(Tips)\n",
    "Rs = mdp.feature_map.dot(Rs_thetas)\n",
    "Qst = tabsoftq_iter(Rs, Ts, maxiter=tabsoftq_iter_maxiter, verbose=tabsoftq_iter_verbose, ftol=tabsoftq_iter_ftol)"
   ]
  },
  {
   "cell_type": "code",
   "execution_count": null,
   "metadata": {},
   "outputs": [],
   "source": [
    "IDL_trans_demos = generate_demonstrations(mdp, tabsoftq_gen_pol(Qit), 1000, demo_time_steps)\n",
    "SERD_trans_demos = generate_demonstrations(mdp, tabsoftq_gen_pol(Qst), 1000, demo_time_steps)"
   ]
  },
  {
   "cell_type": "code",
   "execution_count": null,
   "metadata": {},
   "outputs": [],
   "source": [
    "plot_mars(mdp,tabsoftq_gen_pol(Qit),Qs=Qit)"
   ]
  },
  {
   "cell_type": "code",
   "execution_count": null,
   "metadata": {},
   "outputs": [],
   "source": [
    "print(demo_stats(mdp, IDL_trans_demos))"
   ]
  },
  {
   "cell_type": "code",
   "execution_count": null,
   "metadata": {},
   "outputs": [],
   "source": [
    "print(demo_stats(mdp, SERD_trans_demos))"
   ]
  },
  {
   "cell_type": "code",
   "execution_count": null,
   "metadata": {},
   "outputs": [],
   "source": [
    "plot_values(mdp, Qit)"
   ]
  },
  {
   "cell_type": "code",
   "execution_count": null,
   "metadata": {},
   "outputs": [],
   "source": [
    "plot_values(mdp, Qst)"
   ]
  },
  {
   "cell_type": "code",
   "execution_count": null,
   "metadata": {},
   "outputs": [],
   "source": [
    "Qtrue = tabsoftq_learn_Qs(mdp)\n",
    "plot_values(mdp,Qtrue)"
   ]
  },
  {
   "cell_type": "code",
   "execution_count": null,
   "metadata": {},
   "outputs": [],
   "source": []
  },
  {
   "cell_type": "code",
   "execution_count": null,
   "metadata": {},
   "outputs": [],
   "source": []
  }
 ],
 "metadata": {
  "kernelspec": {
   "display_name": "Python 3",
   "language": "python",
   "name": "python3"
  },
  "language_info": {
   "codemirror_mode": {
    "name": "ipython",
    "version": 3
   },
   "file_extension": ".py",
   "mimetype": "text/x-python",
   "name": "python",
   "nbconvert_exporter": "python",
   "pygments_lexer": "ipython3",
   "version": "3.6.8"
  }
 },
 "nbformat": 4,
 "nbformat_minor": 2
}
