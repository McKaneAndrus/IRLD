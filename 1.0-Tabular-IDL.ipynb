{
 "cells": [
  {
   "cell_type": "code",
   "execution_count": 1,
   "metadata": {},
   "outputs": [],
   "source": [
    "# Covers tabular implementations of SERD and IDL and compares their effectivenes"
   ]
  },
  {
   "cell_type": "code",
   "execution_count": 1,
   "metadata": {},
   "outputs": [],
   "source": [
    "import numpy as np\n",
    "from envs import MarsExplorerEnv\n",
    "import matplotlib.pyplot as plt\n",
    "import time\n",
    "import matplotlib.cm as cm\n",
    "import matplotlib.colors as colors\n",
    "import os\n",
    "import seaborn as sns\n",
    "from matplotlib.offsetbox import AnnotationBbox, OffsetImage\n",
    "from matplotlib._png import read_png\n",
    "import pickle as pkl\n",
    "%matplotlib inline\n",
    "\n",
    "import gym\n",
    "from gym import spaces\n",
    "from gym.envs.classic_control import rendering\n",
    "import tensorflow as tf\n",
    "from scipy.special import logsumexp\n",
    "from copy import deepcopy as copy\n",
    "import random\n",
    "np.set_printoptions(precision=8, suppress=True,threshold=np.nan)"
   ]
  },
  {
   "cell_type": "code",
   "execution_count": 2,
   "metadata": {},
   "outputs": [],
   "source": [
    "# %store -r"
   ]
  },
  {
   "cell_type": "code",
   "execution_count": 3,
   "metadata": {},
   "outputs": [],
   "source": [
    "#%store"
   ]
  },
  {
   "cell_type": "code",
   "execution_count": 4,
   "metadata": {},
   "outputs": [],
   "source": [
    "LEFT = 0\n",
    "DOWN = 1\n",
    "RIGHT = 2\n",
    "UP = 3\n",
    "NOOP = 4\n",
    "\n",
    "cdict = {'red':   ((0.0,  0.173, 0.173),\n",
    "                   (1.0,  0.925, 0.925)),\n",
    "\n",
    "         'green': ((0.0,  0.067, 0.067),\n",
    "                   (1.0, 0.384, 0.384)),\n",
    "\n",
    "         'blue':  ((0.0,  0.027, 0.027),\n",
    "                   (1.0,  0.196, 0.196))}\n",
    "plt.register_cmap(name='RustPlanet', data=cdict)\n",
    "REWARD_COLORS = cm.get_cmap('RustPlanet')\n",
    "AGENT_COLORS = cm.get_cmap('gray')\n",
    "MAP_COLORS = {b'B':\"#3a0e00\",\n",
    "              b'F':\"#933111\",\n",
    "              b'S':\"#933111\",\n",
    "              b'U':\"#d65b33\",\n",
    "              b'1':\"#956F52\",\n",
    "              b'2':\"#3C2F34\",\n",
    "              b'3':\"#644C42\"}\n",
    "\n",
    "ROVER_PNGS = {LEFT:\"resources/rover_left.png\",\n",
    "        RIGHT:\"resources/rover_right.png\",\n",
    "        DOWN:\"resources/rover_down.png\",\n",
    "        UP:\"resources/rover_up.png\",\n",
    "        NOOP:\"resources/rover_sample.png\"}\n",
    "\n",
    "# tile_map = [\n",
    "#         \"F3FFUFU2U\",\n",
    "#         \"FUFUSUFUF\",\n",
    "#         \"FFFUSUFFU\",\n",
    "#         \"USUUUUUSU\",\n",
    "#         \"FFUSSSUFF\",\n",
    "#         \"FSFUSUFSF\",\n",
    "#         \"UUUUUUUFU\",\n",
    "#         \"UFFU1UFUU\",\n",
    "#         \"3UUFUFFU1\"\n",
    "#     ]\n",
    "\n",
    "# tile_map = [\n",
    "#         \"F22222FF1\",\n",
    "#         \"U31122FU1\",\n",
    "#         \"UF1112FU1\",\n",
    "#         \"UFUU1SFU1\",\n",
    "#         \"UFFU1FFU3\",\n",
    "#         \"3222UFS1U\",\n",
    "#         \"UUU22F1FU\",\n",
    "#         \"FSSFS12SF\",\n",
    "#         \"FSFF121FF\",\n",
    "#         \"S1S2SFFSF\",\n",
    "#         \"FUUUFFSFU\",\n",
    "#         \"U3UUUFSFU\",\n",
    "#         \"FFFUUFUUU\"\n",
    "#     ]\n",
    "\n",
    "\n",
    "# tile_map = [\n",
    "#         \"2FFFUFFF1\",\n",
    "#         \"FFFUUUFFF\",\n",
    "#         \"FFFFUFFFF\",\n",
    "#         \"FSFUUUFSF\",\n",
    "#         \"FSUU3UUSF\",\n",
    "#         \"FSFUUUFSF\",\n",
    "#         \"FFFFUFFFF\",\n",
    "#         \"FFFSSSFFF\",\n",
    "#         \"1FFFFFFF2\"\n",
    "#     ]\n",
    "\n",
    "tile_map = [\n",
    "  \"SFFFUFFFSFUUFFU\",\n",
    "  \"F1F2FSF2SFFFFFF\",\n",
    "  \"FFFUFF1FFF2FUUF\",\n",
    "  \"UUFFFFSFFFUSFFF\",\n",
    "  \"FFSFFSFUFFUSFFF\",\n",
    "  \"SFU2UUFFFFUFFFU\",\n",
    "  \"FSFFFFSFF2FF1FU\",\n",
    "  \"FFFFFFSUFSFFFFF\",\n",
    "  \"FFUFFSFFFFFUFFS\",\n",
    "  \"2FFFFSFFF1SFFUF\",\n",
    "  \"1UFU3UFFFUFFFFF\",\n",
    "  \"F3FUSFFFFFFFFFF\",\n",
    "  \"F1FFFFFFUFFF3UF\",\n",
    "  \"F1FSSFFFFUSFUUF\",\n",
    "  \"FFFFFFFUFFFSF2F\",\n",
    "]\n",
    "\n",
    "# tile_map = [\n",
    "#         \"3FFFFFFF1\",\n",
    "#         \"FFFFFFFFF\",\n",
    "#         \"FFFFUFFFF\",\n",
    "#         \"FSFUUUFSF\",\n",
    "#         \"FSUU3UUSF\",\n",
    "#         \"FSFUUUFSF\",\n",
    "#         \"FFFFUFFFF\",\n",
    "#         \"FFFSSSFFF\",\n",
    "#         \"1FFFFFFF2\"\n",
    "#     ]\n",
    "\n",
    "tile_rewards = {'F':0.0,\n",
    "              '1':0.0,\n",
    "              '2':0.0,\n",
    "              '3':0.0,\n",
    "              'S':0.0,\n",
    "              'U':0.0}\n",
    "\n",
    "\n",
    "goal_tile_rewards = {'F':0.0,\n",
    "              '1':0.125,\n",
    "              '2':0.25,\n",
    "              '3':1.0,\n",
    "              'S':0.0,\n",
    "              'U':0.0}\n",
    "\n",
    "tile_reward_modifier = lambda r,x,y,mx,my: r #* 0.1 * ((x-(mx/2 + np.random.normal(scale=0.5)))**2 + (y - (mx/2 + np.random.normal(scale=0.5)))**2)\n",
    "\n",
    "def build_reward_map(tile_map, tile_rewards, goal_tile_rewards, tile_reward_modifier):\n",
    "    reward_map = np.zeros((len(tile_map),len(tile_map[0])))\n",
    "    texture_map = np.zeros((len(tile_map),len(tile_map[0])))\n",
    "    for y,row in enumerate(tile_map):\n",
    "        for x,c in enumerate(row):\n",
    "            reward_map[y,x] = texture_map[y,x] = tile_reward_modifier(tile_rewards[c],x,y,len(tile_map[0]),len(tile_map))\n",
    "            reward_map[y,x] +=  goal_tile_rewards[c]\n",
    "    return reward_map, texture_map\n",
    "\n",
    "reward_map, texture_map = build_reward_map(tile_map, tile_rewards, goal_tile_rewards, tile_reward_modifier)\n",
    "\n",
    "\n",
    "t0 = (0.6,0.2,0.0,0.0)\n",
    "t1 = (0.0,0.0,0.0,1.0)  #(0.1,0.15,0.5,0.1)\n",
    "\n",
    "trans_dict = {b'F':t0,\n",
    "              b'1':t0,\n",
    "              b'2':t0,\n",
    "              b'3':t0,\n",
    "              b'S':t0,\n",
    "              b'U':t1}\n",
    "\n",
    "#TODO implement theta_mat in mars_explorer so do not need to hard code, use np.roll\n",
    "true_tps = np.array([[[0.8, 0.],\n",
    "  [0.1, 0.],\n",
    "  [0.0, 0.],\n",
    "  [0.1, 0.],\n",
    "  [0.0, 1.]],\n",
    "\n",
    " [[0.1, 0.],\n",
    "  [0.8, 0.],\n",
    "  [0.1, 0.],\n",
    "  [0.0, 0.],\n",
    "  [0.0, 1.]],\n",
    "\n",
    " [[0.0, 0.],\n",
    "  [0.1, 0.],\n",
    "  [0.8, 0.],\n",
    "  [0.1, 0.],\n",
    "  [0.0, 1.]],\n",
    "\n",
    " [[0.1, 0.],\n",
    "  [0.0, 0.],\n",
    "  [0.1, 0.],\n",
    "  [0.8, 0.],\n",
    "  [0.0, 1.]],\n",
    "\n",
    " [[0., 0.],\n",
    "  [0., 0.],\n",
    "  [0., 0.],\n",
    "  [0., 0.],\n",
    "  [1., 1.]]])\n",
    "\n",
    "gamma = 0.99\n",
    "\n",
    "alpha = 0.0001\n",
    "\n",
    "T_theta_shape = (5,5,2)\n",
    "\n",
    "time_penalty = 0.0\n"
   ]
  },
  {
   "cell_type": "code",
   "execution_count": 5,
   "metadata": {},
   "outputs": [],
   "source": [
    "# reward_normalizer = (1-gamma)/(np.max(reward_map))\n",
    "# reward_map *= reward_normalizer\n",
    "# time_penalty *= reward_normalizer"
   ]
  },
  {
   "cell_type": "code",
   "execution_count": 6,
   "metadata": {},
   "outputs": [],
   "source": [
    "# temperature = 1/(reward_normalizer)\n",
    "# print(temperature)"
   ]
  },
  {
   "cell_type": "code",
   "execution_count": 7,
   "metadata": {},
   "outputs": [
    {
     "data": {
      "text/plain": [
       "<matplotlib.image.AxesImage at 0x129ad93c8>"
      ]
     },
     "execution_count": 7,
     "metadata": {},
     "output_type": "execute_result"
    },
    {
     "data": {
      "image/png": "[encoded data removed]",
      "text/plain": [
       "<Figure size 432x288 with 1 Axes>"
      ]
     },
     "metadata": {},
     "output_type": "display_data"
    }
   ],
   "source": [
    "plt.imshow(reward_map, cmap=\"Blues\")"
   ]
  },
  {
   "cell_type": "code",
   "execution_count": 8,
   "metadata": {},
   "outputs": [
    {
     "data": {
      "text/plain": [
       "<matplotlib.image.AxesImage at 0x129f160b8>"
      ]
     },
     "execution_count": 8,
     "metadata": {},
     "output_type": "execute_result"
    },
    {
     "data": {
      "image/png": "[encoded data removed]",
      "text/plain": [
       "<Figure size 432x288 with 1 Axes>"
      ]
     },
     "metadata": {},
     "output_type": "display_data"
    }
   ],
   "source": [
    "plt.imshow(texture_map, cmap=\"Blues\")"
   ]
  },
  {
   "cell_type": "code",
   "execution_count": 9,
   "metadata": {},
   "outputs": [
    {
     "data": {
      "text/plain": [
       "<matplotlib.image.AxesImage at 0x129a3ae10>"
      ]
     },
     "execution_count": 9,
     "metadata": {},
     "output_type": "execute_result"
    },
    {
     "data": {
      "image/png": "[encoded data removed]",
      "text/plain": [
       "<Figure size 432x288 with 1 Axes>"
      ]
     },
     "metadata": {},
     "output_type": "display_data"
    }
   ],
   "source": [
    "plt.imshow(reward_map - texture_map, cmap=\"Blues\")"
   ]
  },
  {
   "cell_type": "code",
   "execution_count": 10,
   "metadata": {},
   "outputs": [],
   "source": [
    "mdp = MarsExplorerEnv(tile_map, reward_map, texture_map, trans_dict, time_penalty) \n",
    "nA = mdp.num_actions\n",
    "nS = mdp.num_states"
   ]
  },
  {
   "cell_type": "code",
   "execution_count": 11,
   "metadata": {},
   "outputs": [
    {
     "data": {
      "text/plain": [
       "<matplotlib.image.AxesImage at 0x12a6129b0>"
      ]
     },
     "execution_count": 11,
     "metadata": {},
     "output_type": "execute_result"
    },
    {
     "data": {
      "image/png": "[encoded data removed]",
      "text/plain": [
       "<Figure size 432x288 with 1 Axes>"
      ]
     },
     "metadata": {},
     "output_type": "display_data"
    }
   ],
   "source": [
    "binary_map = np.ones(mdp.tile_map.shape)\n",
    "binary_map[np.where(mdp.tile_map == b'S')] = 255.0\n",
    "plt.imshow(binary_map, cmap=\"Blues\")"
   ]
  },
  {
   "cell_type": "code",
   "execution_count": 12,
   "metadata": {},
   "outputs": [],
   "source": [
    "def plot_mars(mdp, pi, term = 40, title=None, counts = None, Qs = None):\n",
    "    background = np.array([colors.to_rgb(MAP_COLORS[l]) for l in mdp.tile_map.flat]).reshape(mdp.nrow, mdp.ncol,3)\n",
    "    s = mdp._reset()\n",
    "    t, r = 0, 0\n",
    "    while s is not None and t < term:\n",
    "        fig = plt.figure(figsize=(4,4))\n",
    "        if title != None:\n",
    "            plt.title(title)\n",
    "        plt.imshow(background)\n",
    "        plt.axes().get_xaxis().set_visible(False)\n",
    "        plt.axes().get_yaxis().set_visible(False)\n",
    "        ax = plt.gca()\n",
    "        a = pi[s] if type(pi) == np.ndarray else pi(s)\n",
    "        img_path = ROVER_PNGS[a]\n",
    "        arr_hand = read_png(img_path)\n",
    "        imagebox = OffsetImage(arr_hand, zoom=.5)\n",
    "        xy = [s%background.shape[1], s//background.shape[1]]  # coordinates to position this image\n",
    "\n",
    "        ab = AnnotationBbox(imagebox, xy,\n",
    "                            xybox=(0, 0),\n",
    "                            xycoords='data',\n",
    "                            boxcoords=\"offset points\",\n",
    "                            frameon=False)\n",
    "        ax.add_artist(ab)\n",
    "        fig.text(0.13, 0.05, 't: {}      r: {}'.format(t,round(r,4)), ha='left', fontsize=10)\n",
    "        sns.despine(bottom=True,left=True,right=True,top=True)\n",
    "        plt.show()\n",
    "        if Qs is not None:\n",
    "            print(Qs[s])\n",
    "            print(a)\n",
    "            print(softmax(Qs[s]))\n",
    "        print(mdp.s_to_grid(s), mdp.tile_map.flatten()[s])\n",
    "        s, rt, _, d = mdp._step(a)\n",
    "        print(mdp.s_to_grid(s), mdp.tile_map.flatten()[s])\n",
    "        t += 1\n",
    "        r += rt\n",
    "    if counts:\n",
    "        fig.text(0.87, 0.05, 'F: {}  L/R: {}  B: {}  S: {}'.format(counts['F'], counts['LR'], counts['B'], counts['S']), ha='right', fontsize=10)\n",
    "    #     plt.savefig(folder+\"/\"+str(t)+\".png\", format='png')\n",
    "    return\n",
    "\n",
    "def plot_mars_history(mdp, hist, title=None, counts = None):\n",
    "    background = np.array([colors.to_rgb(MAP_COLORS[l]) for l in mdp.tile_map.flat]).reshape(mdp.nrow, mdp.ncol,3)\n",
    "    t = 0\n",
    "    for s,a,sprime in [h[0] for h in hist]:\n",
    "        fig = plt.figure(figsize=(4,4))\n",
    "        if title != None:\n",
    "            plt.title(title)\n",
    "        plt.imshow(background)\n",
    "        plt.axes().get_xaxis().set_visible(False)\n",
    "        plt.axes().get_yaxis().set_visible(False)\n",
    "        ax = plt.gca()\n",
    "        img_path = ROVER_PNGS[a]\n",
    "        arr_hand = read_png(img_path)\n",
    "        imagebox = OffsetImage(arr_hand, zoom=.5)\n",
    "        xy = [s%background.shape[1], s//background.shape[1]]  # coordinates to position this image\n",
    "\n",
    "        ab = AnnotationBbox(imagebox, xy,\n",
    "                            xybox=(0, 0),\n",
    "                            xycoords='data',\n",
    "                            boxcoords=\"offset points\",\n",
    "                            frameon=False)\n",
    "        ax.add_artist(ab)\n",
    "        fig.text(0.13, 0.05, 't: {}'.format(t), ha='left', fontsize=10)\n",
    "        sns.despine(bottom=True,left=True,right=True,top=True)\n",
    "        plt.show()\n",
    "        t += 1\n",
    "    if counts:\n",
    "        fig.text(0.87, 0.05, 'F: {}  L/R: {}  B: {}  S: {}'.format(counts['F'], counts['LR'], counts['B'], counts['S']), ha='right', fontsize=10)\n",
    "    #     plt.savefig(folder+\"/\"+str(t)+\".png\", format='png')\n",
    "    return\n",
    "\n",
    "def plot_values(mdp, Qs, s=None, title=None):\n",
    "    V = np.max(Qs, axis=1).reshape((mdp.nrow,mdp.ncol))\n",
    "    pi = np.argmax(Qs, axis=1)\n",
    "    plt.figure(figsize=(8,8))\n",
    "    if title != None:\n",
    "        plt.title(title)\n",
    "    plt.imshow(V, cmap='gray')#, clim=(0,1)) 'gist_ncar'\n",
    "    ax = plt.gca()\n",
    "    ax.set_xticks(np.arange(V.shape[1])-.5)\n",
    "    ax.set_yticks(np.arange(V.shape[0])-.5)\n",
    "    ax.set_xticklabels([])\n",
    "    ax.set_yticklabels([])\n",
    "    Y, X = np.mgrid[0:V.shape[0], 0:V.shape[1]]\n",
    "    a2uv = {0: (-1, 0), 1:(0, -1), 2:(1,0), 3:(0, 1), 4:(-1,-1)}\n",
    "    Pi = pi.reshape(V.shape)\n",
    "    for y in range(V.shape[0]):\n",
    "        for x in range(V.shape[1]):\n",
    "            a = Pi[y, x]\n",
    "            u, v = a2uv[a]\n",
    "            plt.arrow(x, y,u*.3, -v*.3, color='m', head_width=0.2, head_length=0.1) \n",
    "            plt.text(x, y, str(mdp.tile_map[y,x].item().decode()),\n",
    "                     color='c', size=12,  verticalalignment='center',\n",
    "                     horizontalalignment='center', fontweight='bold')\n",
    "    if s != None:\n",
    "        plt.plot(s%V.shape[0], s//V.shape[0], 'ro')\n",
    "#     plt.grid(color='b', lw=2, ls='-')\n",
    "    return"
   ]
  },
  {
   "cell_type": "markdown",
   "metadata": {},
   "source": [
    "# Soft-Q Learning"
   ]
  },
  {
   "cell_type": "code",
   "execution_count": 13,
   "metadata": {},
   "outputs": [],
   "source": [
    "def softmax(x, axis=1):\n",
    "    \"\"\"Compute softmax values for each sets of scores in x.\"\"\"\n",
    "    axis = 0 if len(x.shape) == 1 else axis\n",
    "    e_x = np.exp(x - np.max(x, axis=axis,keepdims=True))\n",
    "    return (e_x / e_x.sum(axis=axis, keepdims = True))"
   ]
  },
  {
   "cell_type": "code",
   "execution_count": 14,
   "metadata": {},
   "outputs": [],
   "source": [
    "def tabsoftq_iter(R, T, maxiter=10000, verbose=False, Q_init=None, learning_rate=0.5, ftol=1e-32):\n",
    "    Q = np.zeros((nS, nA)) if Q_init is None else copy(Q_init)\n",
    "    prevQ = copy(Q)\n",
    "    if verbose:\n",
    "        diffs = []\n",
    "        meanVs = []\n",
    "    for iter_idx in range(maxiter):\n",
    "        V = alpha * logsumexp(prevQ / alpha, axis=1)\n",
    "        V_broad = V.reshape((1, 1, nS))\n",
    "        Q = np.sum(T * (R + gamma * V_broad), axis=2)\n",
    "        Q = (1 - learning_rate) * prevQ + learning_rate * Q\n",
    "        diff = np.mean((Q - prevQ)**2)/(np.std(Q)**2)\n",
    "        if verbose:\n",
    "            diffs.append(diff)\n",
    "            meanVs.append(np.mean(V)) \n",
    "        if diff < ftol:\n",
    "            break\n",
    "        prevQ = copy(Q)\n",
    "    if verbose:\n",
    "        plt.xlabel('Number of Iterations')\n",
    "        plt.ylabel('Avg. Squared Bellman Error')\n",
    "        plt.title('Soft Q Iteration')\n",
    "        plt.plot(diffs)\n",
    "        plt.yscale('log')\n",
    "        plt.show()\n",
    "        plt.xlabel('Number of Iterations')\n",
    "        plt.ylabel('Avg. Value of All Tiles')\n",
    "        plt.title('Soft Q Iteration')\n",
    "        plt.plot(meanVs)\n",
    "        plt.show()\n",
    "    return Q"
   ]
  },
  {
   "cell_type": "code",
   "execution_count": 15,
   "metadata": {},
   "outputs": [],
   "source": [
    "def tabsoftq_learn_Qs(mdp):\n",
    "    R = mdp.rewards\n",
    "    T = mdp.get_transition_matrix()\n",
    "    Qs = tabsoftq_iter(R, T)\n",
    "    return Qs\n",
    "\n",
    "def tabsoftq_gen_pol(Qs, beta=50):\n",
    "    softQs = softmax(Qs * beta)\n",
    "    return lambda s: np.random.choice(np.asarray(range(len(Qs[s]))),p=softQs[s])\n",
    "\n",
    "def tabsoftq_gen_pol_probs(Qs, beta=50):\n",
    "    softQs = softmax(Qs * beta)\n",
    "    return softQs\n"
   ]
  },
  {
   "cell_type": "code",
   "execution_count": 16,
   "metadata": {},
   "outputs": [],
   "source": [
    "def generate_demonstrations(mdp, pol, n, term):\n",
    "    hists = []\n",
    "    for i in range(n):\n",
    "        s, d, t = mdp._reset(), False, 0\n",
    "        hist = []\n",
    "        while not d and t < term:\n",
    "            a = pol[s] if type(pol) == np.ndarray else pol(s)\n",
    "            sprime, rt, _, ob_dict = mdp._step(a)\n",
    "            hist += [((s,a,sprime),ob_dict['adt'])]\n",
    "            t += 1\n",
    "            s = sprime\n",
    "        hists += [hist]\n",
    "    return hists"
   ]
  },
  {
   "cell_type": "code",
   "execution_count": 17,
   "metadata": {},
   "outputs": [],
   "source": [
    "def tabsoftq_T_grad_iter(T_thetas, Q, R, T=None, maxiter=1000, verbose=True,\n",
    "                       learning_rate=1, G_init=None, ftol=0):\n",
    "    \n",
    "    T_theta_dim = T_thetas.shape[0] * T_thetas.shape[1] * T_thetas.shape[2]\n",
    "    D = T_thetas.shape[1]\n",
    "    \n",
    "    P_broad = tabsoftq_gen_pol_probs(Q).reshape((nS, nA, 1))\n",
    "    Tps = softmax(T_thetas,axis=1)\n",
    "    print(Tps)\n",
    "    \n",
    "    if T is None:\n",
    "        T = mdp.adt_trans_to_sas_trans(Tps)\n",
    "        \n",
    "    V = (alpha) * logsumexp(Q * (1 / alpha), axis=1)\n",
    "    \n",
    "    T_grad = np.zeros((nS,nA,T_theta_dim))\n",
    "    for s in range(nS):\n",
    "        t = mdp.get_tile_type(s)\n",
    "        for a in range(nA):\n",
    "            P_at = Tps[a,:,t]\n",
    "            V_theta = np.array([V[mdp.sd_to_sprime(s,d)] for d in range(D)])\n",
    "            R_theta = np.array([R[mdp.sd_to_sprime(s,d)] for d in range(D)])\n",
    "            VR_theta = R_theta + gamma * V_theta \n",
    "            D_probs = np.stack([P_at for _ in range(D)])\n",
    "            grad_at = np.dot((np.eye(D) - D_probs), VR_theta)\n",
    "            grad_at = np.dot(np.diag(P_at),grad_at)\n",
    "            filler = np.zeros(T_thetas.shape)\n",
    "            filler[a,:,t] = grad_at\n",
    "            filler = filler.flatten()\n",
    "            T_grad[s,a] = filler\n",
    "    G = T_grad if G_init is None else G_init\n",
    "    T_broad = T.reshape((nS, nA, nS, 1))\n",
    "    prevG = copy(G)\n",
    "    if verbose:\n",
    "        diffs = []\n",
    "    for iter_idx in range(maxiter):\n",
    "        expG = np.sum(P_broad * G, axis=1)\n",
    "        expG_broad = expG.reshape((1, 1, nS, T_theta_dim))\n",
    "        G = gamma * T_grad\n",
    "        t_expG = np.sum(T_broad * expG_broad, axis=2)\n",
    "        G += gamma * t_expG\n",
    "        G = (1 - learning_rate) * prevG + learning_rate * G\n",
    "    \n",
    "        diff = np.mean((G - prevG)**2)/(np.std(G)**2)\n",
    "        if verbose:\n",
    "            diffs.append(diff)\n",
    "        if diff < ftol:\n",
    "            break\n",
    "        prevG = copy(G)\n",
    "  \n",
    "    if verbose:\n",
    "        plt.xlabel('Number of Iterations')\n",
    "        plt.ylabel('Avg. Squared Bellman Error')\n",
    "        plt.title('Soft Q Gradient Iteration')\n",
    "        plt.plot(diffs)\n",
    "        plt.yscale('log')\n",
    "        plt.show()\n",
    "    expG = np.sum(P_broad * G, axis=1)\n",
    "    expG_broad = expG.reshape((nS, 1, T_theta_dim))\n",
    "    return (G - expG_broad)"
   ]
  },
  {
   "cell_type": "code",
   "execution_count": 18,
   "metadata": {},
   "outputs": [],
   "source": [
    "def vectorize_rollouts(rollouts):\n",
    "    sas_obs = []\n",
    "    adt_obs = []\n",
    "    task_idxes = []\n",
    "    for rollout in rollouts:\n",
    "        more_sas, more_adt = list(zip(*rollout))\n",
    "        sas_obs.extend(more_sas)\n",
    "        adt_obs.extend(more_adt)\n",
    "    return np.array(sas_obs), np.array(adt_obs)"
   ]
  },
  {
   "cell_type": "markdown",
   "metadata": {},
   "source": [
    "Sanity check (env and softq)"
   ]
  },
  {
   "cell_type": "code",
   "execution_count": 19,
   "metadata": {
    "scrolled": true
   },
   "outputs": [
    {
     "name": "stderr",
     "output_type": "stream",
     "text": [
      "/Users/mckaneandrus/anaconda2/envs/irld/lib/python3.6/site-packages/matplotlib/cbook/deprecation.py:107: MatplotlibDeprecationWarning: Adding an axes using the same arguments as a previous axes currently reuses the earlier instance.  In a future version, a new instance will always be created and returned.  Meanwhile, this warning can be suppressed, and the future behavior ensured, by passing a unique label to each axes instance.\n",
      "  warnings.warn(message, mplDeprecation, stacklevel=1)\n"
     ]
    },
    {
     "data": {
      "image/png": "[encoded data removed]",
      "text/plain": [
       "<Figure size 288x288 with 1 Axes>"
      ]
     },
     "metadata": {},
     "output_type": "display_data"
    },
    {
     "name": "stdout",
     "output_type": "stream",
     "text": [
      "[65.2349839  30.15246967 59.1010615  80.9943244  80.18438115]\n",
      "3\n",
      "[0.0000001  0.         0.         0.69209734 0.30790256]\n",
      "(11, 14) b'S'\n",
      "(12, 14) b'F'\n"
     ]
    },
    {
     "data": {
      "image/png": "[encoded data removed]",
      "text/plain": [
       "<Figure size 288x288 with 1 Axes>"
      ]
     },
     "metadata": {},
     "output_type": "display_data"
    },
    {
     "name": "stdout",
     "output_type": "stream",
     "text": [
      "[61.64573532 70.95522427 56.50287131 30.36902452 70.24567203]\n",
      "1\n",
      "[0.0000607  0.67026129 0.00000035 0.         0.32967766]\n",
      "(12, 14) b'F'\n",
      "(12, 0) b'F'\n"
     ]
    },
    {
     "data": {
      "image/png": "[encoded data removed]",
      "text/plain": [
       "<Figure size 288x288 with 1 Axes>"
      ]
     },
     "metadata": {},
     "output_type": "display_data"
    },
    {
     "name": "stdout",
     "output_type": "stream",
     "text": [
      "[27.51246465 53.97787236 68.34302999 55.76396504 67.65959969]\n",
      "2\n",
      "[0.         0.00000038 0.6645021  0.00000229 0.33549523]\n",
      "(12, 0) b'F'\n",
      "(13, 0) b'F'\n"
     ]
    },
    {
     "data": {
      "image/png": "[encoded data removed]",
      "text/plain": [
       "<Figure size 288x288 with 1 Axes>"
      ]
     },
     "metadata": {},
     "output_type": "display_data"
    },
    {
     "name": "stdout",
     "output_type": "stream",
     "text": [
      "[68.75441987 55.04332212 28.16822012 56.50287131 68.06687567]\n",
      "0\n",
      "[0.66541779 0.00000074 0.         0.00000318 0.33457829]\n",
      "(13, 0) b'F'\n",
      "(13, 14) b'2'\n"
     ]
    },
    {
     "data": {
      "image/png": "[encoded data removed]",
      "text/plain": [
       "<Figure size 288x288 with 1 Axes>"
      ]
     },
     "metadata": {},
     "output_type": "display_data"
    },
    {
     "name": "stdout",
     "output_type": "stream",
     "text": [
      "[55.76396504 72.08377893 65.20011918 31.25321358 71.61294114]\n",
      "1\n",
      "[0.00000005 0.61519406 0.0006302  0.         0.38417569]\n",
      "(13, 14) b'2'\n",
      "(13, 0) b'F'\n"
     ]
    },
    {
     "data": {
      "image/png": "[encoded data removed]",
      "text/plain": [
       "<Figure size 288x288 with 1 Axes>"
      ]
     },
     "metadata": {},
     "output_type": "display_data"
    },
    {
     "name": "stdout",
     "output_type": "stream",
     "text": [
      "[68.75441987 55.04332212 28.16822012 56.50287131 68.06687567]\n",
      "0\n",
      "[0.66541779 0.00000074 0.         0.00000318 0.33457829]\n",
      "(13, 0) b'F'\n",
      "(13, 14) b'2'\n"
     ]
    },
    {
     "data": {
      "image/png": "[encoded data removed]",
      "text/plain": [
       "<Figure size 288x288 with 1 Axes>"
      ]
     },
     "metadata": {},
     "output_type": "display_data"
    },
    {
     "name": "stdout",
     "output_type": "stream",
     "text": [
      "[55.76396504 72.08377893 65.20011918 31.25321358 71.61294114]\n",
      "1\n",
      "[0.00000005 0.61519406 0.0006302  0.         0.38417569]\n",
      "(13, 14) b'2'\n",
      "(13, 0) b'F'\n"
     ]
    },
    {
     "data": {
      "image/png": "[encoded data removed]",
      "text/plain": [
       "<Figure size 288x288 with 1 Axes>"
      ]
     },
     "metadata": {},
     "output_type": "display_data"
    },
    {
     "name": "stdout",
     "output_type": "stream",
     "text": [
      "[68.75441987 55.04332212 28.16822012 56.50287131 68.06687567]\n",
      "0\n",
      "[0.66541779 0.00000074 0.         0.00000318 0.33457829]\n",
      "(13, 0) b'F'\n",
      "(12, 0) b'F'\n"
     ]
    },
    {
     "data": {
      "image/png": "[encoded data removed]",
      "text/plain": [
       "<Figure size 288x288 with 1 Axes>"
      ]
     },
     "metadata": {},
     "output_type": "display_data"
    },
    {
     "name": "stdout",
     "output_type": "stream",
     "text": [
      "[27.51246465 53.97787236 68.34302999 55.76396504 67.65959969]\n",
      "2\n",
      "[0.         0.00000038 0.6645021  0.00000229 0.33549523]\n",
      "(12, 0) b'F'\n",
      "(13, 0) b'F'\n"
     ]
    },
    {
     "data": {
      "image/png": "[encoded data removed]",
      "text/plain": [
       "<Figure size 288x288 with 1 Axes>"
      ]
     },
     "metadata": {},
     "output_type": "display_data"
    },
    {
     "name": "stdout",
     "output_type": "stream",
     "text": [
      "[68.75441987 55.04332212 28.16822012 56.50287131 68.06687567]\n",
      "0\n",
      "[0.66541779 0.00000074 0.         0.00000318 0.33457829]\n",
      "(13, 0) b'F'\n",
      "(13, 1) b'F'\n"
     ]
    },
    {
     "data": {
      "image/png": "[encoded data removed]",
      "text/plain": [
       "<Figure size 288x288 with 1 Axes>"
      ]
     },
     "metadata": {},
     "output_type": "display_data"
    },
    {
     "name": "stdout",
     "output_type": "stream",
     "text": [
      "[53.97787236 29.04858532 60.37232705 69.87915066 69.18035915]\n",
      "3\n",
      "[0.00000008 0.         0.00004965 0.66788656 0.3320637 ]\n",
      "(13, 1) b'F'\n",
      "(13, 0) b'F'\n"
     ]
    },
    {
     "data": {
      "image/png": "[encoded data removed]",
      "text/plain": [
       "<Figure size 288x288 with 1 Axes>"
      ]
     },
     "metadata": {},
     "output_type": "display_data"
    },
    {
     "name": "stdout",
     "output_type": "stream",
     "text": [
      "[68.75441987 55.04332212 28.16822012 56.50287131 68.06687567]\n",
      "0\n",
      "[0.66541779 0.00000074 0.         0.00000318 0.33457829]\n",
      "(13, 0) b'F'\n",
      "(13, 14) b'2'\n"
     ]
    },
    {
     "data": {
      "image/png": "[encoded data removed]",
      "text/plain": [
       "<Figure size 288x288 with 1 Axes>"
      ]
     },
     "metadata": {},
     "output_type": "display_data"
    },
    {
     "name": "stdout",
     "output_type": "stream",
     "text": [
      "[55.76396504 72.08377893 65.20011918 31.25321358 71.61294114]\n",
      "1\n",
      "[0.00000005 0.61519406 0.0006302  0.         0.38417569]\n",
      "(13, 14) b'2'\n",
      "(14, 14) b'F'\n"
     ]
    },
    {
     "data": {
      "image/png": "[encoded data removed]",
      "text/plain": [
       "<Figure size 288x288 with 1 Axes>"
      ]
     },
     "metadata": {},
     "output_type": "display_data"
    },
    {
     "name": "stdout",
     "output_type": "stream",
     "text": [
      "[61.10923882 32.43570336 72.45213936 86.84100565 85.97259559]\n",
      "3\n",
      "[0.         0.         0.0000004  0.70441448 0.29558513]\n",
      "(14, 14) b'F'\n",
      "(0, 14) b'F'\n"
     ]
    },
    {
     "data": {
      "image/png": "[encoded data removed]",
      "text/plain": [
       "<Figure size 288x288 with 1 Axes>"
      ]
     },
     "metadata": {},
     "output_type": "display_data"
    },
    {
     "name": "stdout",
     "output_type": "stream",
     "text": [
      "[87.84599262 88.5416056  91.43209634 91.41451248 90.51777537]\n",
      "3\n",
      "[0.01123243 0.02252033 0.40541414 0.3983477  0.1624854 ]\n",
      "(0, 14) b'F'\n",
      "(0, 13) b'F'\n"
     ]
    },
    {
     "data": {
      "image/png": "[encoded data removed]",
      "text/plain": [
       "<Figure size 288x288 with 1 Axes>"
      ]
     },
     "metadata": {},
     "output_type": "display_data"
    },
    {
     "name": "stdout",
     "output_type": "stream",
     "text": [
      "[91.51154102 91.32137243 93.71393795 93.99007802 93.05017724]\n",
      "3\n",
      "[0.03642253 0.03011487 0.3295027  0.43429525 0.16966465]\n",
      "(0, 13) b'F'\n",
      "(14, 13) b'F'\n"
     ]
    },
    {
     "data": {
      "image/png": "[encoded data removed]",
      "text/plain": [
       "<Figure size 288x288 with 1 Axes>"
      ]
     },
     "metadata": {},
     "output_type": "display_data"
    },
    {
     "name": "stdout",
     "output_type": "stream",
     "text": [
      "[35.78696608 70.19677949 91.60751236 74.36188284 90.69143724]\n",
      "2\n",
      "[0.         0.         0.71424169 0.00000002 0.28575828]\n",
      "(14, 13) b'F'\n",
      "(0, 13) b'F'\n"
     ]
    },
    {
     "data": {
      "image/png": "[encoded data removed]",
      "text/plain": [
       "<Figure size 288x288 with 1 Axes>"
      ]
     },
     "metadata": {},
     "output_type": "display_data"
    },
    {
     "name": "stdout",
     "output_type": "stream",
     "text": [
      "[91.51154102 91.32137243 93.71393795 93.99007802 93.05017724]\n",
      "3\n",
      "[0.03642253 0.03011487 0.3295027  0.43429525 0.16966465]\n",
      "(0, 13) b'F'\n",
      "(14, 13) b'F'\n"
     ]
    },
    {
     "data": {
      "image/png": "[encoded data removed]",
      "text/plain": [
       "<Figure size 288x288 with 1 Axes>"
      ]
     },
     "metadata": {},
     "output_type": "display_data"
    },
    {
     "name": "stdout",
     "output_type": "stream",
     "text": [
      "[35.78696608 70.19677949 91.60751236 74.36188284 90.69143724]\n",
      "2\n",
      "[0.         0.         0.71424169 0.00000002 0.28575828]\n",
      "(14, 13) b'F'\n",
      "(14, 14) b'F'\n"
     ]
    },
    {
     "data": {
      "image/png": "[encoded data removed]",
      "text/plain": [
       "<Figure size 288x288 with 1 Axes>"
      ]
     },
     "metadata": {},
     "output_type": "display_data"
    },
    {
     "name": "stdout",
     "output_type": "stream",
     "text": [
      "[61.10923882 32.43570336 72.45213936 86.84100565 85.97259559]\n",
      "3\n",
      "[0.         0.         0.0000004  0.70441448 0.29558513]\n",
      "(14, 14) b'F'\n",
      "(14, 13) b'F'\n"
     ]
    },
    {
     "data": {
      "image/png": "[encoded data removed]",
      "text/plain": [
       "<Figure size 288x288 with 1 Axes>"
      ]
     },
     "metadata": {},
     "output_type": "display_data"
    },
    {
     "name": "stdout",
     "output_type": "stream",
     "text": [
      "[35.78696608 70.19677949 91.60751236 74.36188284 90.69143724]\n",
      "2\n",
      "[0.         0.         0.71424169 0.00000002 0.28575828]\n",
      "(14, 13) b'F'\n",
      "(0, 13) b'F'\n"
     ]
    },
    {
     "data": {
      "image/png": "[encoded data removed]",
      "text/plain": [
       "<Figure size 288x288 with 1 Axes>"
      ]
     },
     "metadata": {},
     "output_type": "display_data"
    },
    {
     "name": "stdout",
     "output_type": "stream",
     "text": [
      "[91.51154102 91.32137243 93.71393795 93.99007802 93.05017724]\n",
      "3\n",
      "[0.03642253 0.03011487 0.3295027  0.43429525 0.16966465]\n",
      "(0, 13) b'F'\n",
      "(1, 13) b'1'\n"
     ]
    },
    {
     "data": {
      "image/png": "[encoded data removed]",
      "text/plain": [
       "<Figure size 288x288 with 1 Axes>"
      ]
     },
     "metadata": {},
     "output_type": "display_data"
    },
    {
     "name": "stdout",
     "output_type": "stream",
     "text": [
      "[93.57979551 92.27924331 93.24832953 95.18898867 94.36209878]\n",
      "3\n",
      "[0.10898552 0.02968562 0.0782375  0.54479424 0.23829712]\n",
      "(1, 13) b'1'\n",
      "(0, 13) b'F'\n"
     ]
    },
    {
     "data": {
      "image/png": "[encoded data removed]",
      "text/plain": [
       "<Figure size 288x288 with 1 Axes>"
      ]
     },
     "metadata": {},
     "output_type": "display_data"
    },
    {
     "name": "stdout",
     "output_type": "stream",
     "text": [
      "[91.51154102 91.32137243 93.71393795 93.99007802 93.05017724]\n",
      "3\n",
      "[0.03642253 0.03011487 0.3295027  0.43429525 0.16966465]\n",
      "(0, 13) b'F'\n",
      "(1, 13) b'1'\n"
     ]
    },
    {
     "data": {
      "image/png": "[encoded data removed]",
      "text/plain": [
       "<Figure size 288x288 with 1 Axes>"
      ]
     },
     "metadata": {},
     "output_type": "display_data"
    },
    {
     "name": "stdout",
     "output_type": "stream",
     "text": [
      "[93.57979551 92.27924331 93.24832953 95.18898867 94.36209878]\n",
      "3\n",
      "[0.10898552 0.02968562 0.0782375  0.54479424 0.23829712]\n",
      "(1, 13) b'1'\n",
      "(2, 13) b'F'\n"
     ]
    },
    {
     "data": {
      "image/png": "[encoded data removed]",
      "text/plain": [
       "<Figure size 288x288 with 1 Axes>"
      ]
     },
     "metadata": {},
     "output_type": "display_data"
    },
    {
     "name": "stdout",
     "output_type": "stream",
     "text": [
      "[93.43205449 91.40711764 91.00226239 92.90708564 92.49773395]\n",
      "0\n",
      "[0.45362093 0.05987895 0.03994365 0.26835025 0.17820621]\n",
      "(2, 13) b'F'\n",
      "(1, 13) b'1'\n"
     ]
    },
    {
     "data": {
      "image/png": "[encoded data removed]",
      "text/plain": [
       "<Figure size 288x288 with 1 Axes>"
      ]
     },
     "metadata": {},
     "output_type": "display_data"
    },
    {
     "name": "stdout",
     "output_type": "stream",
     "text": [
      "[93.57979551 92.27924331 93.24832953 95.18898867 94.36209878]\n",
      "3\n",
      "[0.10898552 0.02968562 0.0782375  0.54479424 0.23829712]\n",
      "(1, 13) b'1'\n",
      "(1, 12) b'1'\n"
     ]
    },
    {
     "data": {
      "image/png": "[encoded data removed]",
      "text/plain": [
       "<Figure size 288x288 with 1 Axes>"
      ]
     },
     "metadata": {},
     "output_type": "display_data"
    },
    {
     "name": "stdout",
     "output_type": "stream",
     "text": [
      "[95.85179057 94.26777515 94.84459659 97.65051588 96.79901072]\n",
      "3\n",
      "[0.0981271  0.02013074 0.03584018 0.59287814 0.25302384]\n",
      "(1, 12) b'1'\n",
      "(1, 11) b'3'\n"
     ]
    },
    {
     "data": {
      "image/png": "[encoded data removed]",
      "text/plain": [
       "<Figure size 288x288 with 1 Axes>"
      ]
     },
     "metadata": {},
     "output_type": "display_data"
    },
    {
     "name": "stdout",
     "output_type": "stream",
     "text": [
      "[ 77.06926326  94.96513194  72.31389093  36.89528557 100.        ]\n",
      "4\n",
      "[0.         0.00646499 0.         0.         0.99353501]\n",
      "(1, 11) b'3'\n",
      "(1, 11) b'3'\n"
     ]
    },
    {
     "data": {
      "image/png": "[encoded data removed]",
      "text/plain": [
       "<Figure size 288x288 with 1 Axes>"
      ]
     },
     "metadata": {},
     "output_type": "display_data"
    },
    {
     "name": "stdout",
     "output_type": "stream",
     "text": [
      "[ 77.06926326  94.96513194  72.31389093  36.89528557 100.        ]\n",
      "4\n",
      "[0.         0.00646499 0.         0.         0.99353501]\n",
      "(1, 11) b'3'\n",
      "(1, 11) b'3'\n"
     ]
    },
    {
     "data": {
      "image/png": "[encoded data removed]",
      "text/plain": [
       "<Figure size 288x288 with 1 Axes>"
      ]
     },
     "metadata": {},
     "output_type": "display_data"
    },
    {
     "name": "stdout",
     "output_type": "stream",
     "text": [
      "[ 77.06926326  94.96513194  72.31389093  36.89528557 100.        ]\n",
      "4\n",
      "[0.         0.00646499 0.         0.         0.99353501]\n",
      "(1, 11) b'3'\n",
      "(1, 11) b'3'\n"
     ]
    },
    {
     "data": {
      "image/png": "[encoded data removed]",
      "text/plain": [
       "<Figure size 288x288 with 1 Axes>"
      ]
     },
     "metadata": {},
     "output_type": "display_data"
    },
    {
     "name": "stdout",
     "output_type": "stream",
     "text": [
      "[ 77.06926326  94.96513194  72.31389093  36.89528557 100.        ]\n",
      "4\n",
      "[0.         0.00646499 0.         0.         0.99353501]\n",
      "(1, 11) b'3'\n",
      "(1, 11) b'3'\n"
     ]
    },
    {
     "data": {
      "image/png": "[encoded data removed]",
      "text/plain": [
       "<Figure size 288x288 with 1 Axes>"
      ]
     },
     "metadata": {},
     "output_type": "display_data"
    },
    {
     "name": "stdout",
     "output_type": "stream",
     "text": [
      "[ 77.06926326  94.96513194  72.31389093  36.89528557 100.        ]\n",
      "4\n",
      "[0.         0.00646499 0.         0.         0.99353501]\n",
      "(1, 11) b'3'\n",
      "(1, 11) b'3'\n"
     ]
    },
    {
     "data": {
      "image/png": "[encoded data removed]",
      "text/plain": [
       "<Figure size 288x288 with 1 Axes>"
      ]
     },
     "metadata": {},
     "output_type": "display_data"
    },
    {
     "name": "stdout",
     "output_type": "stream",
     "text": [
      "[ 77.06926326  94.96513194  72.31389093  36.89528557 100.        ]\n",
      "4\n",
      "[0.         0.00646499 0.         0.         0.99353501]\n",
      "(1, 11) b'3'\n",
      "(1, 11) b'3'\n"
     ]
    },
    {
     "data": {
      "image/png": "[encoded data removed]",
      "text/plain": [
       "<Figure size 288x288 with 1 Axes>"
      ]
     },
     "metadata": {},
     "output_type": "display_data"
    },
    {
     "name": "stdout",
     "output_type": "stream",
     "text": [
      "[ 77.06926326  94.96513194  72.31389093  36.89528557 100.        ]\n",
      "4\n",
      "[0.         0.00646499 0.         0.         0.99353501]\n",
      "(1, 11) b'3'\n",
      "(1, 11) b'3'\n"
     ]
    },
    {
     "data": {
      "image/png": "[encoded data removed]",
      "text/plain": [
       "<Figure size 288x288 with 1 Axes>"
      ]
     },
     "metadata": {},
     "output_type": "display_data"
    },
    {
     "name": "stdout",
     "output_type": "stream",
     "text": [
      "[ 77.06926326  94.96513194  72.31389093  36.89528557 100.        ]\n",
      "4\n",
      "[0.         0.00646499 0.         0.         0.99353501]\n",
      "(1, 11) b'3'\n",
      "(1, 11) b'3'\n"
     ]
    },
    {
     "data": {
      "image/png": "[encoded data removed]",
      "text/plain": [
       "<Figure size 288x288 with 1 Axes>"
      ]
     },
     "metadata": {},
     "output_type": "display_data"
    },
    {
     "name": "stdout",
     "output_type": "stream",
     "text": [
      "[ 77.06926326  94.96513194  72.31389093  36.89528557 100.        ]\n",
      "4\n",
      "[0.         0.00646499 0.         0.         0.99353501]\n",
      "(1, 11) b'3'\n",
      "(1, 11) b'3'\n"
     ]
    },
    {
     "data": {
      "image/png": "[encoded data removed]",
      "text/plain": [
       "<Figure size 288x288 with 1 Axes>"
      ]
     },
     "metadata": {},
     "output_type": "display_data"
    },
    {
     "name": "stdout",
     "output_type": "stream",
     "text": [
      "[ 77.06926326  94.96513194  72.31389093  36.89528557 100.        ]\n",
      "4\n",
      "[0.         0.00646499 0.         0.         0.99353501]\n",
      "(1, 11) b'3'\n",
      "(1, 11) b'3'\n"
     ]
    },
    {
     "data": {
      "image/png": "[encoded data removed]",
      "text/plain": [
       "<Figure size 288x288 with 1 Axes>"
      ]
     },
     "metadata": {},
     "output_type": "display_data"
    },
    {
     "name": "stdout",
     "output_type": "stream",
     "text": [
      "[ 77.06926326  94.96513194  72.31389093  36.89528557 100.        ]\n",
      "4\n",
      "[0.         0.00646499 0.         0.         0.99353501]\n",
      "(1, 11) b'3'\n",
      "(1, 11) b'3'\n"
     ]
    },
    {
     "data": {
      "image/png": "[encoded data removed]",
      "text/plain": [
       "<Figure size 288x288 with 1 Axes>"
      ]
     },
     "metadata": {},
     "output_type": "display_data"
    },
    {
     "name": "stdout",
     "output_type": "stream",
     "text": [
      "[ 77.06926326  94.96513194  72.31389093  36.89528557 100.        ]\n",
      "4\n",
      "[0.         0.00646499 0.         0.         0.99353501]\n",
      "(1, 11) b'3'\n",
      "(1, 11) b'3'\n"
     ]
    }
   ],
   "source": [
    "Q = tabsoftq_learn_Qs(mdp)\n",
    "plot_mars(mdp,tabsoftq_gen_pol(Q),Qs=Q)\n"
   ]
  },
  {
   "cell_type": "code",
   "execution_count": 20,
   "metadata": {
    "scrolled": true
   },
   "outputs": [],
   "source": [
    "# print(mdp.feature_map)"
   ]
  },
  {
   "cell_type": "markdown",
   "metadata": {},
   "source": [
    "# Inverse Dynamics Learning"
   ]
  },
  {
   "cell_type": "code",
   "execution_count": 21,
   "metadata": {},
   "outputs": [],
   "source": [
    "def transition_grad(adt, tps):\n",
    "    a,d,t = adt\n",
    "    grad_theta_t = np.zeros(tps.shape)\n",
    "    grad_theta_t[a,d,t] += 1\n",
    "    grad_theta_t[a,:,t] -= tps[a,:,t]\n",
    "    return grad_theta_t\n"
   ]
  },
  {
   "cell_type": "code",
   "execution_count": 22,
   "metadata": {},
   "outputs": [],
   "source": [
    "def eval_pol_likelihood(Q, sas_obs, verbose=False):\n",
    "    ll = 0.0\n",
    "    for obs in sas_obs:\n",
    "        s,a,sprime = obs\n",
    "        l = np.log(softmax(Q[s])[a])\n",
    "        ll += l\n",
    "    return ll\n",
    "\n",
    "def eval_trans_likelihood(Tps, adt_obs, verbose=False):\n",
    "    ll = 0.0\n",
    "    for obs in adt_obs:\n",
    "        a,d,t, = obs\n",
    "        l = np.log(Tps[a,d,t])\n",
    "        ll += l\n",
    "    return ll\n",
    "\n",
    "def eval_trans_likelihood_and_grad(T_thetas, adt_obs):\n",
    "    Tps = softmax(T_thetas,axis=1)\n",
    "    dT = sum([transition_grad(adt,Tps) for adt in adt_obs]).reshape(T_thetas.shape) / len(adt_obs)\n",
    "    ll = eval_trans_likelihood(Tps, adt_obs)\n",
    "    return ll, dT\n",
    "\n",
    "def eval_demo_log_likelihood(sas_obs, adt_obs, T_thetas, Q):\n",
    "    Tps = softmax(T_thetas,axis=1)\n",
    "    p_ll = eval_pol_likelihood(Q, sas_obs)\n",
    "    t_ll = eval_trans_likelihood(Tps, adt_obs)\n",
    "    return p_ll, t_ll\n",
    "        "
   ]
  },
  {
   "cell_type": "code",
   "execution_count": 23,
   "metadata": {},
   "outputs": [],
   "source": [
    "def eval_T_pol_likelihood_and_grad(T_thetas, R, sas_obs, Q_inits=None, verbose=False):\n",
    "    s = [obs[0] for obs in sas_obs]\n",
    "    a = [obs[1] for obs in sas_obs]\n",
    "    Tps = softmax(T_thetas,axis=1)\n",
    "    T = mdp.adt_trans_to_sas_trans(Tps)\n",
    "    Q = tabsoftq_iter(R, T, Q_init=Q_inits, maxiter=tabsoftq_iter_maxiter, verbose=tabsoftq_iter_verbose,\n",
    "                      ftol=tabsoftq_iter_ftol)\n",
    "    print(np.max(Q), np.min(Q))\n",
    "    dT = tabsoftq_T_grad_iter(T_thetas, Q, R, T=T, maxiter=tabsoftq_grad_iter_maxiter,\n",
    "        verbose=tabsoftq_grad_iter_verbose, ftol=tabsoftq_grad_iter_ftol)\n",
    "    # Sum instead of mean because sparse results\n",
    "    if verbose:\n",
    "        for obs in sas_obs:\n",
    "            print(obs)\n",
    "            print(dT[obs[0],obs[1]].reshape(T_thetas.shape))\n",
    "    dT = np.sum(dT[s,a], axis=0).reshape(T_thetas.shape) / len(sas_obs)\n",
    "    ll = eval_pol_likelihood(Q, sas_obs)\n",
    "    return ll, dT, Q\n"
   ]
  },
  {
   "cell_type": "markdown",
   "metadata": {},
   "source": [
    "# Simultaneous Estimation of Rewards and Dynamics"
   ]
  },
  {
   "cell_type": "code",
   "execution_count": 24,
   "metadata": {},
   "outputs": [],
   "source": [
    "def tabsoftq_TR_grad_iter(T_thetas, feat_map, R,  Q, T=None, maxiter=1000, verbose=True,\n",
    "                       learning_rate=1, G_init=None, ftol=0):\n",
    "    \n",
    "    T_theta_dim = T_thetas.shape[0] * T_thetas.shape[1] * T_thetas.shape[2]\n",
    "    D = T_thetas.shape[1]\n",
    "    \n",
    "    R_theta_dim = feat_map.shape[1]\n",
    "    \n",
    "    P_broad = tabsoftq_gen_pol_probs(Q).reshape((nS, nA, 1))\n",
    "    Tps = softmax(T_thetas,axis=1)\n",
    "    \n",
    "    if T is None:\n",
    "        T = mdp.adt_trans_to_sas_trans(Tps)\n",
    "        \n",
    "    V = (alpha) * logsumexp(Q * (1 / alpha), axis=1)\n",
    "    \n",
    "    R_grad = T.dot(feat_map)\n",
    "    \n",
    "    GR = np.zeros((nS, nA, R_theta_dim)) if G_init is None else G_init[0]\n",
    "    prevGR = copy(GR)\n",
    "    \n",
    "    T_grad = np.zeros((nS,nA,T_theta_dim))\n",
    "    for s in range(nS):\n",
    "        t = mdp.get_tile_type(s)\n",
    "        for a in range(nA):\n",
    "            P_at = Tps[a,:,t]\n",
    "            V_t = np.array([V[mdp.sd_to_sprime(s,d)] for d in range(D)])\n",
    "            R_t = np.array([R[mdp.sd_to_sprime(s,d)] for d in range(D)])\n",
    "            VR_t = R_t + gamma * V_t \n",
    "            D_probs = np.stack([P_at for _ in range(D)])\n",
    "            grad_at = np.dot((np.eye(D) - D_probs), VR_t)\n",
    "            grad_at = np.dot(np.diag(P_at),grad_at)\n",
    "            filler = np.zeros(T_thetas.shape)\n",
    "            filler[a,:,t] = grad_at\n",
    "            filler = filler.flatten()\n",
    "            T_grad[s,a] = filler\n",
    "              \n",
    "    GT = T_grad if G_init is None else G_init[1]\n",
    "    T_broad = T.reshape((nS, nA, nS, 1))\n",
    "    prevGT = copy(GT)\n",
    "    \n",
    "    if verbose:\n",
    "        diffs = []\n",
    "        \n",
    "    for iter_idx in range(maxiter):\n",
    "        # Reward Param gradient iteration\n",
    "        expGR = np.sum(P_broad * GR, axis=1)\n",
    "        expGR_broad = expGR.reshape((1, 1, nS, R_theta_dim))\n",
    "        GR = R_grad + gamma * np.sum(T_broad * expGR_broad, axis=2)\n",
    "        GR = (1 - learning_rate) * prevGR + learning_rate * GR\n",
    "        \n",
    "        \n",
    "        # Transition Param grad iter\n",
    "        expGT = np.sum(P_broad * GT, axis=1)\n",
    "        expGT_broad = expGT.reshape((1, 1, nS, T_theta_dim))\n",
    "        GT = gamma * T_grad\n",
    "        t_expGT = np.sum(T_broad * expGT_broad, axis=2)\n",
    "        GT += gamma * t_expGT\n",
    "        GT = (1 - learning_rate) * prevGT + learning_rate * GT\n",
    "    \n",
    "        diff = np.mean((GR - prevGR)**2)/(np.std(GR)**2) + np.mean((GT - prevGT)**2)/(np.std(GT)**2)\n",
    "        if verbose:\n",
    "            diffs.append(diff)\n",
    "        if diff < ftol:\n",
    "            break\n",
    "        prevGR = copy(GR)\n",
    "        prevGT = copy(GT)\n",
    "  \n",
    "    if verbose:\n",
    "        plt.xlabel('Number of Iterations')\n",
    "        plt.ylabel('Avg. Squared Bellman Error')\n",
    "        plt.title('Soft Q Gradient Iteration')\n",
    "        plt.plot(diffs)\n",
    "        plt.yscale('log')\n",
    "        plt.show()\n",
    "  \n",
    "    expGR = np.sum(P_broad * GR, axis=1)\n",
    "    expGR_broad = expGR.reshape((nS, 1, R_theta_dim))\n",
    "    expGT = np.sum(P_broad * GT, axis=1)\n",
    "    expGT_broad = expGT.reshape((nS, 1, T_theta_dim))\n",
    "    return (GR - expGR_broad), (GT - expGT_broad)"
   ]
  },
  {
   "cell_type": "code",
   "execution_count": 25,
   "metadata": {},
   "outputs": [],
   "source": [
    "def eval_TR_pol_likelihood_and_grad(T_thetas, R, feat_map, sas_obs, Q_inits=None, verbose=False):\n",
    "    s = [obs[0] for obs in sas_obs]\n",
    "    a = [obs[1] for obs in sas_obs]\n",
    "    Tps = softmax(T_thetas,axis=1)\n",
    "    T = mdp.adt_trans_to_sas_trans(Tps)\n",
    "    Q = tabsoftq_iter(R, T, Q_init=Q_inits if Q_inits is not None else None, \n",
    "        maxiter=tabsoftq_iter_maxiter, verbose=tabsoftq_iter_verbose, ftol=tabsoftq_iter_ftol)\n",
    "    dR, dT = tabsoftq_TR_grad_iter(T_thetas, feat_map, R, Q, T=T,\n",
    "        maxiter=tabsoftq_grad_iter_maxiter, verbose=tabsoftq_grad_iter_verbose, ftol=tabsoftq_grad_iter_ftol)\n",
    "    if verbose:\n",
    "        for obs in sas_obs:\n",
    "            print(obs)\n",
    "            print(dT[obs[0],obs[1]].reshape(T_thetas.shape))\n",
    "    dR = np.sum(dR[s,a], axis=0).reshape(feat_map.shape[1]) / len(sas_obs)\n",
    "    dT = np.sum(dT[s,a], axis=0).reshape(T_thetas.shape) / len(sas_obs)\n",
    "    ll = eval_pol_likelihood(Q, sas_obs)\n",
    "    return ll, dT, dR, Q"
   ]
  },
  {
   "cell_type": "markdown",
   "metadata": {},
   "source": [
    "# IDL & SERD Experiments"
   ]
  },
  {
   "cell_type": "code",
   "execution_count": 40,
   "metadata": {},
   "outputs": [],
   "source": [
    "tabsoftq_iter_ftol = 1e-32\n",
    "tabsoftq_iter_maxiter = 5000\n",
    "tabsoftq_iter_verbose = False\n",
    "tabsoftq_grad_iter_ftol = 1e-10\n",
    "tabsoftq_grad_iter_maxiter = 5000\n",
    "tabsoftq_grad_iter_verbose = False\n",
    "batch_size = 200\n",
    "n_demos = 80\n",
    "demo_time_steps = 40"
   ]
  },
  {
   "cell_type": "code",
   "execution_count": 27,
   "metadata": {},
   "outputs": [],
   "source": [
    "# def clean_demos(sas_obs):\n",
    "#     demo_example_idxes = list(range(len(sas_obs)))\n",
    "#     unique_stays = set([])\n",
    "#     for i,sas in enumerate(sas_obs):\n",
    "#         sas = tuple(sas)\n",
    "#         if sas[1] == 4:\n",
    "#             if sas in unique_stays:\n",
    "#                 demo_example_idxes.remove(i)\n",
    "#             else:\n",
    "#                 unique_stays.add(sas)\n",
    "#     return demo_example_idxes\n",
    "\n",
    "def clean_demos(sas_obs, adt_obs, max_noops=50):\n",
    "    demo_example_idxes = list(range(len(sas_obs)))\n",
    "    unique_stays, stay_count = set([]), 0\n",
    "    for i,(sas,adt) in enumerate(zip(sas_obs,adt_obs)):\n",
    "        sas = tuple(sas)\n",
    "        if adt[2] == 1:\n",
    "            demo_example_idxes.remove(i)\n",
    "            continue\n",
    "        if sas[1] == 4:\n",
    "            stay_count += 1\n",
    "            if sas in unique_stays:\n",
    "                if max_noops and stay_count > max_noops:\n",
    "                    demo_example_idxes.remove(i)\n",
    "            else:\n",
    "                unique_stays.add(sas)\n",
    "        else:\n",
    "            stay_count = 0\n",
    "\n",
    "    return demo_example_idxes\n",
    "\n",
    "def sample_batch(size, ids, sas_obs, adt_obs):\n",
    "    idxes = random.sample(ids, size)\n",
    "    return sas_obs[idxes], adt_obs[idxes]"
   ]
  },
  {
   "cell_type": "code",
   "execution_count": 28,
   "metadata": {},
   "outputs": [],
   "source": [
    "def T_estimate(adt_obs):\n",
    "    stability = 1e-5\n",
    "    T_thetas = np.zeros(T_theta_shape)\n",
    "    T_counts = np.zeros(T_theta_shape) + stability\n",
    "    for a,d,t in adt_obs:\n",
    "        T_counts[a,d,t] += 1\n",
    "    for a in range(T_theta_shape[0]):\n",
    "        for t in range(T_theta_shape[2]):\n",
    "            z = np.sum(T_counts[a,:,t])\n",
    "            for d in range(T_theta_shape[1]):\n",
    "                if z == T_counts.shape[1] * stability:\n",
    "                    T_thetas[a,d,t] = 0\n",
    "                else:\n",
    "                    T_thetas[a,d,t] = np.log(T_counts[a,d,t]) - np.log(z)\n",
    "    return T_thetas\n",
    "\n",
    "def test_T_likelihood(Tps, sas_obs, adt_obs):\n",
    "    T = mdp.adt_trans_to_sas_trans(Tps)\n",
    "    R = mdp.rewards\n",
    "    Q = tabsoftq_iter(R, T, Q_init=None, maxiter=tabsoftq_iter_maxiter, verbose=tabsoftq_iter_verbose, ftol=tabsoftq_iter_ftol)\n",
    "    pl = eval_pol_likelihood(Q, sas_obs, verbose=True)\n",
    "    tl = eval_trans_likelihood(Tps, adt_obs, verbose=True)\n",
    "    print([s for s in range(nS) if mdp.get_tile_type(s)==1])\n",
    "    print(Q[[s for s in range(nS) if mdp.get_tile_type(s)==1]])\n",
    "    print(pl, tl)\n",
    "    return pl + tl\n",
    "\n",
    "def true_trans_loss(tps):\n",
    "    tps = mdp.adt_trans_to_sas_trans(tps)\n",
    "    true_tps = mdp.get_transition_matrix()\n",
    "    return np.linalg.norm(true_tps-tps)/nA"
   ]
  },
  {
   "cell_type": "code",
   "execution_count": 29,
   "metadata": {
    "scrolled": true
   },
   "outputs": [],
   "source": [
    "exQs = tabsoftq_learn_Qs(mdp)\n",
    "demos = generate_demonstrations(mdp, tabsoftq_gen_pol(exQs), n_demos, demo_time_steps)\n",
    "sas_obs, adt_obs = vectorize_rollouts(demos)"
   ]
  },
  {
   "cell_type": "code",
   "execution_count": 30,
   "metadata": {},
   "outputs": [],
   "source": [
    "# Ensure bad areas have not been visited in exes\n",
    "# while len(set([adt[2] for adt in adt_obs])) > 1:\n",
    "#     demos = generate_demonstrations(mdp, tabsoftq_gen_pol(exQs), n_demos, demo_time_steps)\n",
    "#     sas_obs, adt_obs = vectorize_rollouts(demos)"
   ]
  },
  {
   "cell_type": "code",
   "execution_count": 31,
   "metadata": {},
   "outputs": [
    {
     "name": "stdout",
     "output_type": "stream",
     "text": [
      "3200\n",
      "3200\n"
     ]
    }
   ],
   "source": [
    "# Clean training set to have greater density of interesting transitions\n",
    "print(len(sas_obs))\n",
    "demo_example_idxes = clean_demos(sas_obs, adt_obs)\n",
    "print(len(demo_example_idxes))\n",
    "# demo_example_idxes = list(range(len(sas_obs)))\n"
   ]
  },
  {
   "cell_type": "code",
   "execution_count": 32,
   "metadata": {},
   "outputs": [],
   "source": [
    "random.shuffle(demo_example_idxes)\n",
    "n_train_demo_examples = int(0.9 * len(demo_example_idxes))\n",
    "train_demo_example_idxes = demo_example_idxes[:n_train_demo_examples]\n",
    "val_demo_example_idxes = demo_example_idxes[n_train_demo_examples:]\n",
    "val_sas_obs = sas_obs[val_demo_example_idxes]\n",
    "val_adt_obs = adt_obs[val_demo_example_idxes]"
   ]
  },
  {
   "cell_type": "markdown",
   "metadata": {},
   "source": [
    "## IDL Only"
   ]
  },
  {
   "cell_type": "code",
   "execution_count": 49,
   "metadata": {},
   "outputs": [],
   "source": [
    "idl_train_logs = {\n",
    "  'train_likelihoods': [],\n",
    "  'val_likelihoods': [],\n",
    "  'tp_lls': [],\n",
    "  'tt_lls': [],\n",
    "  'vp_lls': [],\n",
    "  'vt_lls': [],\n",
    "  'true_trans_loss': []\n",
    "}"
   ]
  },
  {
   "cell_type": "code",
   "execution_count": 38,
   "metadata": {},
   "outputs": [],
   "source": [
    "maxiter = 2000\n",
    "learning_rate = 2.0"
   ]
  },
  {
   "cell_type": "code",
   "execution_count": 39,
   "metadata": {},
   "outputs": [],
   "source": [
    "Ti_thetas = T_estimate(adt_obs[train_demo_example_idxes])\n",
    "Qi, Ri = None, mdp.rewards"
   ]
  },
  {
   "cell_type": "code",
   "execution_count": 40,
   "metadata": {
    "scrolled": true
   },
   "outputs": [
    {
     "name": "stdout",
     "output_type": "stream",
     "text": [
      "99.99996966124785 71.91438123705242\n",
      "[[[0.54782594 0.2       ]\n",
      "  [0.2        0.2       ]\n",
      "  [0.00000009 0.2       ]\n",
      "  [0.25217389 0.2       ]\n",
      "  [0.00000009 0.2       ]]\n",
      "\n",
      " [[0.24456521 0.2       ]\n",
      "  [0.58695642 0.2       ]\n",
      "  [0.16847827 0.2       ]\n",
      "  [0.00000005 0.2       ]\n",
      "  [0.00000005 0.2       ]]\n",
      "\n",
      " [[0.00000005 0.2       ]\n",
      "  [0.22950819 0.2       ]\n",
      "  [0.61202175 0.2       ]\n",
      "  [0.15846996 0.2       ]\n",
      "  [0.00000005 0.2       ]]\n",
      "\n",
      " [[0.15602838 0.2       ]\n",
      "  [0.00000007 0.2       ]\n",
      "  [0.14184399 0.2       ]\n",
      "  [0.70212748 0.2       ]\n",
      "  [0.00000007 0.2       ]]\n",
      "\n",
      " [[0.         0.2       ]\n",
      "  [0.         0.2       ]\n",
      "  [0.         0.2       ]\n",
      "  [0.         0.2       ]\n",
      "  [0.99999998 0.2       ]]]\n",
      "0 610.713575 56.393397 667.106972 1.621853\n",
      "99.9999696113014 71.81933702760526\n",
      "[[[0.54275625 0.19897107]\n",
      "  [0.20182672 0.20022321]\n",
      "  [0.00000009 0.20091595]\n",
      "  [0.25541685 0.19967036]\n",
      "  [0.00000009 0.2002194 ]]\n",
      "\n",
      " [[0.24550825 0.19897107]\n",
      "  [0.58544869 0.20022321]\n",
      "  [0.16904295 0.20091595]\n",
      "  [0.00000005 0.19967036]\n",
      "  [0.00000005 0.2002194 ]]\n",
      "\n",
      " [[0.00000005 0.19897107]\n",
      "  [0.22944171 0.20022321]\n",
      "  [0.61193045 0.20091595]\n",
      "  [0.15862774 0.19967036]\n",
      "  [0.00000005 0.2002194 ]]\n",
      "\n",
      " [[0.15693651 0.19897107]\n",
      "  [0.00000007 0.20022321]\n",
      "  [0.14303365 0.20091595]\n",
      "  [0.7000297  0.19967036]\n",
      "  [0.00000007 0.2002194 ]]\n",
      "\n",
      " [[0.         0.19897107]\n",
      "  [0.         0.20022321]\n",
      "  [0.         0.20091595]\n",
      "  [0.         0.19967036]\n",
      "  [0.99999998 0.2002194 ]]]\n",
      "1 610.529186 56.434196 666.963382 1.621694\n",
      "99.99996956370498 71.72325692601461\n",
      "[[[0.53824144 0.19777614]\n",
      "  [0.20341112 0.2007358 ]\n",
      "  [0.00000009 0.20196436]\n",
      "  [0.25834727 0.19908653]\n",
      "  [0.00000009 0.20043717]]\n",
      "\n",
      " [[0.24588732 0.19777614]\n",
      "  [0.58446893 0.2007358 ]\n",
      "  [0.16964364 0.20196436]\n",
      "  [0.00000005 0.19908653]\n",
      "  [0.00000005 0.20043717]]\n",
      "\n",
      " [[0.00000005 0.19777614]\n",
      "  [0.22988241 0.2007358 ]\n",
      "  [0.61168627 0.20196436]\n",
      "  [0.15843121 0.19908653]\n",
      "  [0.00000005 0.20043717]]\n",
      "\n",
      " [[0.15764653 0.19777614]\n",
      "  [0.00000007 0.2007358 ]\n",
      "  [0.14418239 0.20196436]\n",
      "  [0.69817094 0.19908653]\n",
      "  [0.00000007 0.20043717]]\n",
      "\n",
      " [[0.         0.19777614]\n",
      "  [0.         0.2007358 ]\n",
      "  [0.         0.20196436]\n",
      "  [0.         0.19908653]\n",
      "  [0.99999998 0.20043717]]]\n",
      "2 610.388140 56.485280 666.873419 1.621580\n",
      "99.9999695278382 71.70710831133326\n",
      "[[[0.53890969 0.19825089]\n",
      "  [0.20274064 0.20110647]\n",
      "  [0.00000009 0.20134695]\n",
      "  [0.2583495  0.19863387]\n",
      "  [0.00000009 0.20066183]]\n",
      "\n",
      " [[0.24720434 0.19825089]\n",
      "  [0.58240986 0.20110647]\n",
      "  [0.17038569 0.20134695]\n",
      "  [0.00000005 0.19863387]\n",
      "  [0.00000005 0.20066183]]\n",
      "\n",
      " [[0.00000005 0.19825089]\n",
      "  [0.23257862 0.20110647]\n",
      "  [0.6073538  0.20134695]\n",
      "  [0.16006747 0.19863387]\n",
      "  [0.00000005 0.20066183]]\n",
      "\n",
      " [[0.1583681  0.19825089]\n",
      "  [0.00000007 0.20110647]\n",
      "  [0.14466979 0.20134695]\n",
      "  [0.69696197 0.19863387]\n",
      "  [0.00000007 0.20066183]]\n",
      "\n",
      " [[0.         0.19825089]\n",
      "  [0.         0.20110647]\n",
      "  [0.         0.20134695]\n",
      "  [0.         0.19863387]\n",
      "  [0.99999998 0.20066183]]]\n"
     ]
    }
   ],
   "source": [
    "\n",
    "while len(idl_train_logs['tt_lls']) < maxiter:\n",
    "    try:\n",
    "        batch_demo_sas, batch_demo_adt = sample_batch(batch_size, train_demo_example_idxes, sas_obs, adt_obs)\n",
    "        #Should we initialize Qs or nah?\n",
    "        tp_ll, dT_pol, Qi = eval_T_pol_likelihood_and_grad(Ti_thetas, Ri, batch_demo_sas, Q_inits=Qi, verbose=False)\n",
    "        tt_ll, dT_trans = eval_trans_likelihood_and_grad(Ti_thetas, batch_demo_adt)\n",
    "        train_likelihood = tp_ll + tt_ll\n",
    "        vp_ll, vt_ll = eval_demo_log_likelihood(val_sas_obs, val_adt_obs, Ti_thetas, Qi)\n",
    "        val_likelihood = vp_ll + vt_ll\n",
    "        ttd = true_trans_loss(softmax(Ti_thetas))\n",
    "        Ti_thetas += learning_rate * dT_pol #(dT_trans + dT_pol)\n",
    "        \n",
    "#         print(np.max(dT_pol),np.min(dT_pol))\n",
    "\n",
    "\n",
    "        print('%d %f %f %f %f' % (len(idl_train_logs['tt_lls']), -vp_ll, -vt_ll, -vp_ll - vt_ll, ttd))\n",
    "        idl_train_logs['train_likelihoods'].append(train_likelihood)\n",
    "        idl_train_logs['val_likelihoods'].append(val_likelihood)\n",
    "        idl_train_logs['tp_lls'].append(-tp_ll)\n",
    "        idl_train_logs['tt_lls'].append(-tt_ll)\n",
    "        idl_train_logs['vp_lls'].append(-vp_ll)\n",
    "        idl_train_logs['vt_lls'].append(-vt_ll)\n",
    "        idl_train_logs['true_trans_loss'].append(ttd)\n",
    "    except KeyboardInterrupt:\n",
    "        break"
   ]
  },
  {
   "cell_type": "code",
   "execution_count": 38,
   "metadata": {},
   "outputs": [
    {
     "data": {
      "text/plain": [
       "[<matplotlib.lines.Line2D at 0x13378d400>]"
      ]
     },
     "execution_count": 38,
     "metadata": {},
     "output_type": "execute_result"
    },
    {
     "data": {
      "image/png": "[encoded data removed]",
      "text/plain": [
       "<Figure size 432x288 with 1 Axes>"
      ]
     },
     "metadata": {},
     "output_type": "display_data"
    }
   ],
   "source": [
    "plt.plot(idl_train_logs['vp_lls'])"
   ]
  },
  {
   "cell_type": "code",
   "execution_count": 39,
   "metadata": {},
   "outputs": [
    {
     "data": {
      "text/plain": [
       "[<matplotlib.lines.Line2D at 0x131ba5908>]"
      ]
     },
     "execution_count": 39,
     "metadata": {},
     "output_type": "execute_result"
    },
    {
     "data": {
      "image/png": "[encoded data removed]",
      "text/plain": [
       "<Figure size 432x288 with 1 Axes>"
      ]
     },
     "metadata": {},
     "output_type": "display_data"
    }
   ],
   "source": [
    "plt.plot(idl_train_logs['vt_lls'])"
   ]
  },
  {
   "cell_type": "code",
   "execution_count": 40,
   "metadata": {},
   "outputs": [
    {
     "data": {
      "text/plain": [
       "[<matplotlib.lines.Line2D at 0x1333801d0>]"
      ]
     },
     "execution_count": 40,
     "metadata": {},
     "output_type": "execute_result"
    },
    {
     "data": {
      "image/png": "[encoded data removed]",
      "text/plain": [
       "<Figure size 432x288 with 1 Axes>"
      ]
     },
     "metadata": {},
     "output_type": "display_data"
    }
   ],
   "source": [
    "plt.plot(idl_train_logs['val_likelihoods'])"
   ]
  },
  {
   "cell_type": "code",
   "execution_count": 41,
   "metadata": {
    "scrolled": true
   },
   "outputs": [
    {
     "name": "stdout",
     "output_type": "stream",
     "text": [
      "[[53.3273598  53.3273598  53.3273598  53.3273598  53.3273598 ]\n",
      " [58.9336244  58.9336244  58.9336244  58.9336244  58.9336244 ]\n",
      " [56.52862372 56.52862372 56.52862372 56.52862372 56.52862372]\n",
      " [53.8158799  53.8158799  53.8158799  53.8158799  53.8158799 ]\n",
      " [63.82954524 63.82954524 63.82954524 63.82954524 63.82954524]\n",
      " [67.16846281 67.16846281 67.16846281 67.16846281 67.16846281]\n",
      " [75.96110415 75.96110415 75.96110415 75.96110415 75.96110415]\n",
      " [58.25172408 58.25172408 58.25172408 58.25172408 58.25172408]\n",
      " [60.10547176 60.10547176 60.10547176 60.10547176 60.10547176]\n",
      " [69.60420706 69.60420706 69.60420706 69.60420706 69.60420706]\n",
      " [59.65463691 59.65463691 59.65463691 59.65463691 59.65463691]\n",
      " [53.12522117 53.12522117 53.12522117 53.12522117 53.12522117]\n",
      " [56.18359566 56.18359566 56.18359566 56.18359566 56.18359566]\n",
      " [57.22930982 57.22930982 57.22930982 57.22930982 57.22930982]\n",
      " [52.61090658 52.61090658 52.61090658 52.61090658 52.61090658]\n",
      " [51.71430645 51.71430645 51.71430645 51.71430645 51.71430645]]\n"
     ]
    }
   ],
   "source": [
    "print(Qi[[s for s in range(nS) if mdp.get_tile_type(s)==1]])"
   ]
  },
  {
   "cell_type": "code",
   "execution_count": 42,
   "metadata": {},
   "outputs": [
    {
     "name": "stderr",
     "output_type": "stream",
     "text": [
      "/Users/mckaneandrus/anaconda2/envs/irld/lib/python3.6/site-packages/matplotlib/cbook/deprecation.py:107: MatplotlibDeprecationWarning: Adding an axes using the same arguments as a previous axes currently reuses the earlier instance.  In a future version, a new instance will always be created and returned.  Meanwhile, this warning can be suppressed, and the future behavior ensured, by passing a unique label to each axes instance.\n",
      "  warnings.warn(message, mplDeprecation, stacklevel=1)\n"
     ]
    },
    {
     "data": {
      "image/png": "[encoded data removed]",
      "text/plain": [
       "<Figure size 288x288 with 1 Axes>"
      ]
     },
     "metadata": {},
     "output_type": "display_data"
    },
    {
     "name": "stdout",
     "output_type": "stream",
     "text": [
      "(5, 7) b'S'\n",
      "(6, 7) b'F'\n"
     ]
    },
    {
     "data": {
      "image/png": "[encoded data removed]",
      "text/plain": [
       "<Figure size 288x288 with 1 Axes>"
      ]
     },
     "metadata": {},
     "output_type": "display_data"
    },
    {
     "name": "stdout",
     "output_type": "stream",
     "text": [
      "(6, 7) b'F'\n",
      "(6, 6) b'F'\n"
     ]
    },
    {
     "data": {
      "image/png": "[encoded data removed]",
      "text/plain": [
       "<Figure size 288x288 with 1 Axes>"
      ]
     },
     "metadata": {},
     "output_type": "display_data"
    },
    {
     "name": "stdout",
     "output_type": "stream",
     "text": [
      "(6, 6) b'F'\n",
      "(7, 6) b'F'\n"
     ]
    },
    {
     "data": {
      "image/png": "[encoded data removed]",
      "text/plain": [
       "<Figure size 288x288 with 1 Axes>"
      ]
     },
     "metadata": {},
     "output_type": "display_data"
    },
    {
     "name": "stdout",
     "output_type": "stream",
     "text": [
      "(7, 6) b'F'\n",
      "(7, 7) b'F'\n"
     ]
    },
    {
     "data": {
      "image/png": "[encoded data removed]",
      "text/plain": [
       "<Figure size 288x288 with 1 Axes>"
      ]
     },
     "metadata": {},
     "output_type": "display_data"
    },
    {
     "name": "stdout",
     "output_type": "stream",
     "text": [
      "(7, 7) b'F'\n",
      "(7, 6) b'F'\n"
     ]
    },
    {
     "data": {
      "image/png": "[encoded data removed]",
      "text/plain": [
       "<Figure size 288x288 with 1 Axes>"
      ]
     },
     "metadata": {},
     "output_type": "display_data"
    },
    {
     "name": "stdout",
     "output_type": "stream",
     "text": [
      "(7, 6) b'F'\n",
      "(8, 6) b'F'\n"
     ]
    },
    {
     "data": {
      "image/png": "[encoded data removed]",
      "text/plain": [
       "<Figure size 288x288 with 1 Axes>"
      ]
     },
     "metadata": {},
     "output_type": "display_data"
    },
    {
     "name": "stdout",
     "output_type": "stream",
     "text": [
      "(8, 6) b'F'\n",
      "(0, 6) b'F'\n"
     ]
    },
    {
     "data": {
      "image/png": "[encoded data removed]",
      "text/plain": [
       "<Figure size 288x288 with 1 Axes>"
      ]
     },
     "metadata": {},
     "output_type": "display_data"
    },
    {
     "name": "stdout",
     "output_type": "stream",
     "text": [
      "(0, 6) b'F'\n",
      "(1, 6) b'F'\n"
     ]
    },
    {
     "data": {
      "image/png": "[encoded data removed]",
      "text/plain": [
       "<Figure size 288x288 with 1 Axes>"
      ]
     },
     "metadata": {},
     "output_type": "display_data"
    },
    {
     "name": "stdout",
     "output_type": "stream",
     "text": [
      "(1, 6) b'F'\n",
      "(1, 5) b'S'\n"
     ]
    },
    {
     "data": {
      "image/png": "[encoded data removed]",
      "text/plain": [
       "<Figure size 288x288 with 1 Axes>"
      ]
     },
     "metadata": {},
     "output_type": "display_data"
    },
    {
     "name": "stdout",
     "output_type": "stream",
     "text": [
      "(1, 5) b'S'\n",
      "(1, 4) b'S'\n"
     ]
    },
    {
     "data": {
      "image/png": "[encoded data removed]",
      "text/plain": [
       "<Figure size 288x288 with 1 Axes>"
      ]
     },
     "metadata": {},
     "output_type": "display_data"
    },
    {
     "name": "stdout",
     "output_type": "stream",
     "text": [
      "(1, 4) b'S'\n",
      "(1, 3) b'S'\n"
     ]
    },
    {
     "data": {
      "image/png": "[encoded data removed]",
      "text/plain": [
       "<Figure size 288x288 with 1 Axes>"
      ]
     },
     "metadata": {},
     "output_type": "display_data"
    },
    {
     "name": "stdout",
     "output_type": "stream",
     "text": [
      "(1, 3) b'S'\n",
      "(1, 2) b'F'\n"
     ]
    },
    {
     "data": {
      "image/png": "[encoded data removed]",
      "text/plain": [
       "<Figure size 288x288 with 1 Axes>"
      ]
     },
     "metadata": {},
     "output_type": "display_data"
    },
    {
     "name": "stdout",
     "output_type": "stream",
     "text": [
      "(1, 2) b'F'\n",
      "(2, 2) b'F'\n"
     ]
    },
    {
     "data": {
      "image/png": "[encoded data removed]",
      "text/plain": [
       "<Figure size 288x288 with 1 Axes>"
      ]
     },
     "metadata": {},
     "output_type": "display_data"
    },
    {
     "name": "stdout",
     "output_type": "stream",
     "text": [
      "(2, 2) b'F'\n",
      "(3, 2) b'F'\n"
     ]
    },
    {
     "data": {
      "image/png": "[encoded data removed]",
      "text/plain": [
       "<Figure size 288x288 with 1 Axes>"
      ]
     },
     "metadata": {},
     "output_type": "display_data"
    },
    {
     "name": "stdout",
     "output_type": "stream",
     "text": [
      "(3, 2) b'F'\n",
      "(2, 2) b'F'\n"
     ]
    },
    {
     "data": {
      "image/png": "[encoded data removed]",
      "text/plain": [
       "<Figure size 288x288 with 1 Axes>"
      ]
     },
     "metadata": {},
     "output_type": "display_data"
    },
    {
     "name": "stdout",
     "output_type": "stream",
     "text": [
      "(2, 2) b'F'\n",
      "(3, 2) b'F'\n"
     ]
    },
    {
     "data": {
      "image/png": "[encoded data removed]",
      "text/plain": [
       "<Figure size 288x288 with 1 Axes>"
      ]
     },
     "metadata": {},
     "output_type": "display_data"
    },
    {
     "name": "stdout",
     "output_type": "stream",
     "text": [
      "(3, 2) b'F'\n",
      "(3, 3) b'U'\n"
     ]
    },
    {
     "data": {
      "image/png": "[encoded data removed]",
      "text/plain": [
       "<Figure size 288x288 with 1 Axes>"
      ]
     },
     "metadata": {},
     "output_type": "display_data"
    },
    {
     "name": "stdout",
     "output_type": "stream",
     "text": [
      "(3, 3) b'U'\n",
      "(3, 3) b'U'\n"
     ]
    },
    {
     "data": {
      "image/png": "[encoded data removed]",
      "text/plain": [
       "<Figure size 288x288 with 1 Axes>"
      ]
     },
     "metadata": {},
     "output_type": "display_data"
    },
    {
     "name": "stdout",
     "output_type": "stream",
     "text": [
      "(3, 3) b'U'\n",
      "(3, 3) b'U'\n"
     ]
    },
    {
     "data": {
      "image/png": "[encoded data removed]",
      "text/plain": [
       "<Figure size 288x288 with 1 Axes>"
      ]
     },
     "metadata": {},
     "output_type": "display_data"
    },
    {
     "name": "stdout",
     "output_type": "stream",
     "text": [
      "(3, 3) b'U'\n",
      "(3, 3) b'U'\n"
     ]
    },
    {
     "data": {
      "image/png": "[encoded data removed]",
      "text/plain": [
       "<Figure size 288x288 with 1 Axes>"
      ]
     },
     "metadata": {},
     "output_type": "display_data"
    },
    {
     "name": "stdout",
     "output_type": "stream",
     "text": [
      "(3, 3) b'U'\n",
      "(3, 3) b'U'\n"
     ]
    },
    {
     "data": {
      "image/png": "[encoded data removed]",
      "text/plain": [
       "<Figure size 288x288 with 1 Axes>"
      ]
     },
     "metadata": {},
     "output_type": "display_data"
    },
    {
     "name": "stdout",
     "output_type": "stream",
     "text": [
      "(3, 3) b'U'\n",
      "(3, 3) b'U'\n"
     ]
    },
    {
     "data": {
      "image/png": "[encoded data removed]",
      "text/plain": [
       "<Figure size 288x288 with 1 Axes>"
      ]
     },
     "metadata": {},
     "output_type": "display_data"
    },
    {
     "name": "stdout",
     "output_type": "stream",
     "text": [
      "(3, 3) b'U'\n",
      "(3, 3) b'U'\n"
     ]
    },
    {
     "data": {
      "image/png": "[encoded data removed]",
      "text/plain": [
       "<Figure size 288x288 with 1 Axes>"
      ]
     },
     "metadata": {},
     "output_type": "display_data"
    },
    {
     "name": "stdout",
     "output_type": "stream",
     "text": [
      "(3, 3) b'U'\n",
      "(3, 3) b'U'\n"
     ]
    },
    {
     "data": {
      "image/png": "[encoded data removed]",
      "text/plain": [
       "<Figure size 288x288 with 1 Axes>"
      ]
     },
     "metadata": {},
     "output_type": "display_data"
    },
    {
     "name": "stdout",
     "output_type": "stream",
     "text": [
      "(3, 3) b'U'\n",
      "(3, 3) b'U'\n"
     ]
    },
    {
     "data": {
      "image/png": "[encoded data removed]",
      "text/plain": [
       "<Figure size 288x288 with 1 Axes>"
      ]
     },
     "metadata": {},
     "output_type": "display_data"
    },
    {
     "name": "stdout",
     "output_type": "stream",
     "text": [
      "(3, 3) b'U'\n",
      "(3, 3) b'U'\n"
     ]
    },
    {
     "data": {
      "image/png": "[encoded data removed]",
      "text/plain": [
       "<Figure size 288x288 with 1 Axes>"
      ]
     },
     "metadata": {},
     "output_type": "display_data"
    },
    {
     "name": "stdout",
     "output_type": "stream",
     "text": [
      "(3, 3) b'U'\n",
      "(3, 3) b'U'\n"
     ]
    },
    {
     "data": {
      "image/png": "[encoded data removed]",
      "text/plain": [
       "<Figure size 288x288 with 1 Axes>"
      ]
     },
     "metadata": {},
     "output_type": "display_data"
    },
    {
     "name": "stdout",
     "output_type": "stream",
     "text": [
      "(3, 3) b'U'\n",
      "(3, 3) b'U'\n"
     ]
    },
    {
     "data": {
      "image/png": "[encoded data removed]",
      "text/plain": [
       "<Figure size 288x288 with 1 Axes>"
      ]
     },
     "metadata": {},
     "output_type": "display_data"
    },
    {
     "name": "stdout",
     "output_type": "stream",
     "text": [
      "(3, 3) b'U'\n",
      "(3, 3) b'U'\n"
     ]
    },
    {
     "data": {
      "image/png": "[encoded data removed]",
      "text/plain": [
       "<Figure size 288x288 with 1 Axes>"
      ]
     },
     "metadata": {},
     "output_type": "display_data"
    },
    {
     "name": "stdout",
     "output_type": "stream",
     "text": [
      "(3, 3) b'U'\n",
      "(3, 3) b'U'\n"
     ]
    },
    {
     "data": {
      "image/png": "[encoded data removed]",
      "text/plain": [
       "<Figure size 288x288 with 1 Axes>"
      ]
     },
     "metadata": {},
     "output_type": "display_data"
    },
    {
     "name": "stdout",
     "output_type": "stream",
     "text": [
      "(3, 3) b'U'\n",
      "(3, 3) b'U'\n"
     ]
    },
    {
     "data": {
      "image/png": "[encoded data removed]",
      "text/plain": [
       "<Figure size 288x288 with 1 Axes>"
      ]
     },
     "metadata": {},
     "output_type": "display_data"
    },
    {
     "name": "stdout",
     "output_type": "stream",
     "text": [
      "(3, 3) b'U'\n",
      "(3, 3) b'U'\n"
     ]
    },
    {
     "data": {
      "image/png": "[encoded data removed]",
      "text/plain": [
       "<Figure size 288x288 with 1 Axes>"
      ]
     },
     "metadata": {},
     "output_type": "display_data"
    },
    {
     "name": "stdout",
     "output_type": "stream",
     "text": [
      "(3, 3) b'U'\n",
      "(3, 3) b'U'\n"
     ]
    },
    {
     "data": {
      "image/png": "[encoded data removed]",
      "text/plain": [
       "<Figure size 288x288 with 1 Axes>"
      ]
     },
     "metadata": {},
     "output_type": "display_data"
    },
    {
     "name": "stdout",
     "output_type": "stream",
     "text": [
      "(3, 3) b'U'\n",
      "(3, 3) b'U'\n"
     ]
    },
    {
     "data": {
      "image/png": "[encoded data removed]",
      "text/plain": [
       "<Figure size 288x288 with 1 Axes>"
      ]
     },
     "metadata": {},
     "output_type": "display_data"
    },
    {
     "name": "stdout",
     "output_type": "stream",
     "text": [
      "(3, 3) b'U'\n",
      "(3, 3) b'U'\n"
     ]
    },
    {
     "data": {
      "image/png": "[encoded data removed]",
      "text/plain": [
       "<Figure size 288x288 with 1 Axes>"
      ]
     },
     "metadata": {},
     "output_type": "display_data"
    },
    {
     "name": "stdout",
     "output_type": "stream",
     "text": [
      "(3, 3) b'U'\n",
      "(3, 3) b'U'\n"
     ]
    },
    {
     "data": {
      "image/png": "[encoded data removed]",
      "text/plain": [
       "<Figure size 288x288 with 1 Axes>"
      ]
     },
     "metadata": {},
     "output_type": "display_data"
    },
    {
     "name": "stdout",
     "output_type": "stream",
     "text": [
      "(3, 3) b'U'\n",
      "(3, 3) b'U'\n"
     ]
    },
    {
     "data": {
      "image/png": "[encoded data removed]",
      "text/plain": [
       "<Figure size 288x288 with 1 Axes>"
      ]
     },
     "metadata": {},
     "output_type": "display_data"
    },
    {
     "name": "stdout",
     "output_type": "stream",
     "text": [
      "(3, 3) b'U'\n",
      "(3, 3) b'U'\n"
     ]
    },
    {
     "data": {
      "image/png": "[encoded data removed]",
      "text/plain": [
       "<Figure size 288x288 with 1 Axes>"
      ]
     },
     "metadata": {},
     "output_type": "display_data"
    },
    {
     "name": "stdout",
     "output_type": "stream",
     "text": [
      "(3, 3) b'U'\n",
      "(3, 3) b'U'\n"
     ]
    },
    {
     "data": {
      "image/png": "[encoded data removed]",
      "text/plain": [
       "<Figure size 288x288 with 1 Axes>"
      ]
     },
     "metadata": {},
     "output_type": "display_data"
    },
    {
     "name": "stdout",
     "output_type": "stream",
     "text": [
      "(3, 3) b'U'\n",
      "(3, 3) b'U'\n",
      "[[[0.02406396 0.04390975]\n",
      "  [0.64733023 0.10766697]\n",
      "  [0.00000005 0.07844411]\n",
      "  [0.32860572 0.03422939]\n",
      "  [0.00000005 0.73574976]]\n",
      "\n",
      " [[0.06425945 0.04390975]\n",
      "  [0.78405152 0.10766697]\n",
      "  [0.15168898 0.07844411]\n",
      "  [0.00000003 0.03422939]\n",
      "  [0.00000003 0.73574976]]\n",
      "\n",
      " [[0.00000005 0.04390975]\n",
      "  [0.4657699  0.10766697]\n",
      "  [0.27425712 0.07844411]\n",
      "  [0.25997289 0.03422939]\n",
      "  [0.00000005 0.73574976]]\n",
      "\n",
      " [[0.09388688 0.04390975]\n",
      "  [0.00000006 0.10766697]\n",
      "  [0.13348572 0.07844411]\n",
      "  [0.77262728 0.03422939]\n",
      "  [0.00000006 0.73574976]]\n",
      "\n",
      " [[0.         0.04390975]\n",
      "  [0.         0.10766697]\n",
      "  [0.         0.07844411]\n",
      "  [0.         0.03422939]\n",
      "  [0.99999998 0.73574976]]]\n"
     ]
    }
   ],
   "source": [
    "plot_mars(mdp,tabsoftq_gen_pol(Qi))\n",
    "print(softmax(Ti_thetas))"
   ]
  },
  {
   "cell_type": "code",
   "execution_count": 43,
   "metadata": {},
   "outputs": [
    {
     "data": {
      "text/plain": [
       "(81, 5)"
      ]
     },
     "execution_count": 43,
     "metadata": {},
     "output_type": "execute_result"
    }
   ],
   "source": [
    "Qi.shape"
   ]
  },
  {
   "cell_type": "code",
   "execution_count": 44,
   "metadata": {},
   "outputs": [
    {
     "data": {
      "text/plain": [
       "array([[[0.02406396, 0.64733023, 0.00000005, 0.32860572, 0.00000005],\n",
       "        [0.06425945, 0.78405152, 0.15168898, 0.00000003, 0.00000003],\n",
       "        [0.00000005, 0.4657699 , 0.27425712, 0.25997289, 0.00000005],\n",
       "        [0.09388688, 0.00000006, 0.13348572, 0.77262728, 0.00000006],\n",
       "        [0.        , 0.        , 0.        , 0.        , 0.99999998]],\n",
       "\n",
       "       [[0.04390975, 0.10766697, 0.07844411, 0.03422939, 0.73574976],\n",
       "        [0.04390975, 0.10766697, 0.07844411, 0.03422939, 0.73574976],\n",
       "        [0.04390975, 0.10766697, 0.07844411, 0.03422939, 0.73574976],\n",
       "        [0.04390975, 0.10766697, 0.07844411, 0.03422939, 0.73574976],\n",
       "        [0.04390975, 0.10766697, 0.07844411, 0.03422939, 0.73574976]]])"
      ]
     },
     "execution_count": 44,
     "metadata": {},
     "output_type": "execute_result"
    }
   ],
   "source": [
    "softmax(Ti_thetas).transpose((2,0,1))"
   ]
  },
  {
   "cell_type": "code",
   "execution_count": 45,
   "metadata": {},
   "outputs": [
    {
     "data": {
      "text/plain": [
       "array([[0.        , 0.        , 0.        , 0.        , 1.        ],\n",
       "       [0.00000008, 0.99951537, 0.00048455, 0.        , 0.        ],\n",
       "       [0.00177775, 0.99822225, 0.        , 0.        , 0.        ],\n",
       "       [0.88346605, 0.11653395, 0.        , 0.        , 0.        ],\n",
       "       [0.2       , 0.2       , 0.2       , 0.2       , 0.2       ],\n",
       "       [0.00000021, 0.94935097, 0.05064882, 0.        , 0.        ],\n",
       "       [0.        , 0.00000001, 0.99998612, 0.00001387, 0.        ],\n",
       "       [0.        , 0.        , 0.99989357, 0.00010642, 0.        ],\n",
       "       [0.        , 0.        , 0.67749767, 0.32229562, 0.00020671],\n",
       "       [0.        , 0.        , 0.        , 1.        , 0.        ],\n",
       "       [0.        , 0.01145386, 0.98854614, 0.        , 0.        ],\n",
       "       [0.00059949, 0.99940051, 0.        , 0.        , 0.        ],\n",
       "       [0.2       , 0.2       , 0.2       , 0.2       , 0.2       ],\n",
       "       [0.2       , 0.2       , 0.2       , 0.2       , 0.2       ],\n",
       "       [0.2       , 0.2       , 0.2       , 0.2       , 0.2       ],\n",
       "       [0.        , 0.00000045, 0.99952896, 0.00047058, 0.        ],\n",
       "       [0.        , 0.        , 0.52080376, 0.47919624, 0.        ],\n",
       "       [0.        , 0.        , 0.00002586, 0.99997414, 0.        ],\n",
       "       [0.        , 0.        , 0.0000003 , 0.9999997 , 0.        ],\n",
       "       [0.        , 0.        , 0.99999998, 0.00000002, 0.        ],\n",
       "       [0.        , 0.00000003, 0.99999997, 0.        , 0.        ],\n",
       "       [0.        , 1.        , 0.        , 0.        , 0.        ],\n",
       "       [0.2       , 0.2       , 0.2       , 0.2       , 0.2       ],\n",
       "       [0.        , 1.        , 0.        , 0.        , 0.        ],\n",
       "       [0.        , 0.00061006, 0.00014047, 0.99924947, 0.        ],\n",
       "       [0.        , 0.        , 0.05720036, 0.94279964, 0.        ],\n",
       "       [0.        , 0.        , 0.0000109 , 0.9999891 , 0.        ],\n",
       "       [0.        , 0.        , 0.00000173, 0.99999827, 0.        ],\n",
       "       [0.        , 0.        , 0.88080731, 0.11919269, 0.        ],\n",
       "       [0.        , 0.        , 0.23913429, 0.76086571, 0.        ],\n",
       "       [0.2       , 0.2       , 0.2       , 0.2       , 0.2       ],\n",
       "       [0.2       , 0.2       , 0.2       , 0.2       , 0.2       ],\n",
       "       [0.2       , 0.2       , 0.2       , 0.2       , 0.2       ],\n",
       "       [0.        , 0.        , 0.        , 1.        , 0.        ],\n",
       "       [0.        , 0.00000001, 0.97893354, 0.02106646, 0.        ],\n",
       "       [0.        , 0.        , 0.02958216, 0.97041784, 0.        ],\n",
       "       [0.        , 0.        , 0.00836121, 0.99163879, 0.        ],\n",
       "       [0.        , 0.        , 0.00000025, 0.99999975, 0.        ],\n",
       "       [0.2       , 0.2       , 0.2       , 0.2       , 0.2       ],\n",
       "       [0.2       , 0.2       , 0.2       , 0.2       , 0.2       ],\n",
       "       [0.        , 0.        , 0.        , 0.        , 1.        ],\n",
       "       [0.2       , 0.2       , 0.2       , 0.2       , 0.2       ],\n",
       "       [0.2       , 0.2       , 0.2       , 0.2       , 0.2       ],\n",
       "       [0.        , 0.00002537, 0.99997463, 0.        , 0.        ],\n",
       "       [0.00000329, 0.0000785 , 0.99991792, 0.00000029, 0.        ],\n",
       "       [0.0132903 , 0.87112387, 0.11558581, 0.00000001, 0.        ],\n",
       "       [0.        , 0.        , 0.00000003, 0.99999997, 0.        ],\n",
       "       [0.        , 0.        , 0.        , 1.        , 0.        ],\n",
       "       [0.2       , 0.2       , 0.2       , 0.2       , 0.2       ],\n",
       "       [0.2       , 0.2       , 0.2       , 0.2       , 0.2       ],\n",
       "       [0.2       , 0.2       , 0.2       , 0.2       , 0.2       ],\n",
       "       [0.        , 0.70986485, 0.29013515, 0.        , 0.        ],\n",
       "       [0.00000001, 0.0909798 , 0.90902019, 0.        , 0.        ],\n",
       "       [0.00001699, 0.99353809, 0.00644492, 0.        , 0.        ],\n",
       "       [0.00005734, 0.99994266, 0.        , 0.        , 0.        ],\n",
       "       [0.62566666, 0.36770777, 0.00577859, 0.00084698, 0.        ],\n",
       "       [0.52166859, 0.        , 0.        , 0.47833141, 0.        ],\n",
       "       [0.99952553, 0.        , 0.        , 0.00047447, 0.        ],\n",
       "       [0.2       , 0.2       , 0.2       , 0.2       , 0.2       ],\n",
       "       [0.        , 0.00024585, 0.99975414, 0.        , 0.        ],\n",
       "       [0.        , 0.0139963 , 0.9860037 , 0.        , 0.        ],\n",
       "       [0.        , 0.26271529, 0.73728471, 0.        , 0.        ],\n",
       "       [0.00000015, 0.99995081, 0.00004904, 0.        , 0.        ],\n",
       "       [0.00001151, 0.99998849, 0.        , 0.        , 0.        ],\n",
       "       [0.00000124, 0.99999876, 0.        , 0.        , 0.        ],\n",
       "       [0.9983983 , 0.0016017 , 0.        , 0.        , 0.        ],\n",
       "       [0.99834749, 0.00165251, 0.        , 0.        , 0.        ],\n",
       "       [0.        , 1.        , 0.        , 0.        , 0.        ],\n",
       "       [0.        , 0.05109426, 0.94890574, 0.        , 0.        ],\n",
       "       [0.        , 0.00005746, 0.99994254, 0.        , 0.        ],\n",
       "       [0.        , 0.00127368, 0.99872632, 0.        , 0.        ],\n",
       "       [0.00000004, 0.99991265, 0.00008731, 0.        , 0.        ],\n",
       "       [0.00074104, 0.99589148, 0.00000002, 0.        , 0.00336747],\n",
       "       [0.00000017, 0.99999965, 0.00000018, 0.        , 0.        ],\n",
       "       [0.01217293, 0.98782707, 0.        , 0.        , 0.        ],\n",
       "       [0.32017407, 0.67982593, 0.        , 0.        , 0.        ],\n",
       "       [0.00000013, 0.99999987, 0.        , 0.        , 0.        ],\n",
       "       [0.00000001, 0.35960171, 0.64039828, 0.        , 0.        ],\n",
       "       [0.        , 0.00000011, 0.99999989, 0.        , 0.        ],\n",
       "       [0.        , 0.00000001, 0.99999999, 0.        , 0.        ],\n",
       "       [0.        , 0.00006314, 0.04873018, 0.        , 0.95120668]])"
      ]
     },
     "execution_count": 45,
     "metadata": {},
     "output_type": "execute_result"
    }
   ],
   "source": [
    "tabsoftq_gen_pol_probs(Qi)"
   ]
  },
  {
   "cell_type": "code",
   "execution_count": 46,
   "metadata": {
    "scrolled": true
   },
   "outputs": [
    {
     "name": "stdout",
     "output_type": "stream",
     "text": [
      "[[[0.02406396 0.04390975]\n",
      "  [0.64733023 0.10766697]\n",
      "  [0.00000005 0.07844411]\n",
      "  [0.32860572 0.03422939]\n",
      "  [0.00000005 0.73574976]]\n",
      "\n",
      " [[0.06425945 0.04390975]\n",
      "  [0.78405152 0.10766697]\n",
      "  [0.15168898 0.07844411]\n",
      "  [0.00000003 0.03422939]\n",
      "  [0.00000003 0.73574976]]\n",
      "\n",
      " [[0.00000005 0.04390975]\n",
      "  [0.4657699  0.10766697]\n",
      "  [0.27425712 0.07844411]\n",
      "  [0.25997289 0.03422939]\n",
      "  [0.00000005 0.73574976]]\n",
      "\n",
      " [[0.09388688 0.04390975]\n",
      "  [0.00000006 0.10766697]\n",
      "  [0.13348572 0.07844411]\n",
      "  [0.77262728 0.03422939]\n",
      "  [0.00000006 0.73574976]]\n",
      "\n",
      " [[0.         0.04390975]\n",
      "  [0.         0.10766697]\n",
      "  [0.         0.07844411]\n",
      "  [0.         0.03422939]\n",
      "  [0.99999998 0.73574976]]]\n"
     ]
    }
   ],
   "source": [
    "print(softmax(Ti_thetas)) # - softmax(T_estimate(adt_obs[train_demo_example_idxes])))"
   ]
  },
  {
   "cell_type": "code",
   "execution_count": null,
   "metadata": {},
   "outputs": [],
   "source": []
  },
  {
   "cell_type": "code",
   "execution_count": 47,
   "metadata": {},
   "outputs": [
    {
     "name": "stdout",
     "output_type": "stream",
     "text": [
      "[4, 12, 13, 14, 22, 30, 31, 32, 38, 39, 41, 42, 48, 49, 50, 58]\n",
      "[[53.30636702 53.30636702 53.30636702 53.30636702 53.30636702]\n",
      " [58.91155465 58.91155465 58.91155465 58.91155465 58.91155465]\n",
      " [56.50381723 56.50381723 56.50381723 56.50381723 56.50381723]\n",
      " [53.8052581  53.8052581  53.8052581  53.8052581  53.8052581 ]\n",
      " [63.80405384 63.80405384 63.80405384 63.80405384 63.80405384]\n",
      " [67.15689785 67.15689785 67.15689785 67.15689785 67.15689785]\n",
      " [75.93716163 75.93716163 75.93716163 75.93716163 75.93716163]\n",
      " [58.24189401 58.24189401 58.24189401 58.24189401 58.24189401]\n",
      " [60.10195425 60.10195425 60.10195425 60.10195425 60.10195425]\n",
      " [69.60611944 69.60611944 69.60611944 69.60611944 69.60611944]\n",
      " [59.6504889  59.6504889  59.6504889  59.6504889  59.6504889 ]\n",
      " [53.12433589 53.12433589 53.12433589 53.12433589 53.12433589]\n",
      " [56.17494062 56.17494062 56.17494062 56.17494062 56.17494062]\n",
      " [57.22417448 57.22417448 57.22417448 57.22417448 57.22417448]\n",
      " [52.60941939 52.60941939 52.60941939 52.60941939 52.60941939]\n",
      " [51.70425817 51.70425817 51.70425817 51.70425817 51.70425817]]\n",
      "-387.72014902238396 -92.0425133355594\n"
     ]
    },
    {
     "data": {
      "text/plain": [
       "-479.7626623579434"
      ]
     },
     "execution_count": 47,
     "metadata": {},
     "output_type": "execute_result"
    }
   ],
   "source": [
    "test_T_likelihood(softmax(Ti_thetas), val_sas_obs, val_adt_obs)"
   ]
  },
  {
   "cell_type": "code",
   "execution_count": 48,
   "metadata": {},
   "outputs": [
    {
     "name": "stdout",
     "output_type": "stream",
     "text": [
      "[4, 12, 13, 14, 22, 30, 31, 32, 38, 39, 41, 42, 48, 49, 50, 58]\n",
      "[[76.16427114 76.16427114 76.16427114 76.16427114 76.16427114]\n",
      " [76.70692366 76.70692366 76.70692366 76.70692366 76.70692366]\n",
      " [76.21571588 76.21571588 76.21571588 76.21571588 76.21571588]\n",
      " [76.45544486 76.45544486 76.45544486 76.45544486 76.45544486]\n",
      " [79.38469773 79.38469773 79.38469773 79.38469773 79.38469773]\n",
      " [81.93656803 81.93656803 81.93656803 81.93656803 81.93656803]\n",
      " [85.51727408 85.51727408 85.51727408 85.51727408 85.51727408]\n",
      " [81.67553341 81.67553341 81.67553341 81.67553341 81.67553341]\n",
      " [80.53518906 80.53518906 80.53518906 80.53518906 80.53518906]\n",
      " [85.97602645 85.97602645 85.97602645 85.97602645 85.97602645]\n",
      " [85.74727697 85.74727697 85.74727697 85.74727697 85.74727697]\n",
      " [80.07430702 80.07430702 80.07430702 80.07430702 80.07430702]\n",
      " [82.38322085 82.38322085 82.38322085 82.38322085 82.38322085]\n",
      " [86.09974765 86.09974765 86.09974765 86.09974765 86.09974765]\n",
      " [82.1785866  82.1785866  82.1785866  82.1785866  82.1785866 ]\n",
      " [80.79430386 80.79430386 80.79430386 80.79430386 80.79430386]]\n",
      "-553.6557011550715 -56.0105811228624\n"
     ]
    },
    {
     "data": {
      "text/plain": [
       "-609.6662822779339"
      ]
     },
     "execution_count": 48,
     "metadata": {},
     "output_type": "execute_result"
    }
   ],
   "source": [
    "test_T_likelihood(softmax(T_estimate(adt_obs[train_demo_example_idxes])), val_sas_obs, val_adt_obs)"
   ]
  },
  {
   "cell_type": "code",
   "execution_count": 49,
   "metadata": {},
   "outputs": [
    {
     "name": "stdout",
     "output_type": "stream",
     "text": [
      "[4, 12, 13, 14, 22, 30, 31, 32, 38, 39, 41, 42, 48, 49, 50, 58]\n",
      "[[0.01593344 0.01593344 0.01593344 0.01593344 0.01593344]\n",
      " [0.01593344 0.01593344 0.01593344 0.01593344 0.01593344]\n",
      " [0.01593344 0.01593344 0.01593344 0.01593344 0.01593344]\n",
      " [0.01593344 0.01593344 0.01593344 0.01593344 0.01593344]\n",
      " [0.01593344 0.01593344 0.01593344 0.01593344 0.01593344]\n",
      " [0.01593344 0.01593344 0.01593344 0.01593344 0.01593344]\n",
      " [0.01593344 0.01593344 0.01593344 0.01593344 0.01593344]\n",
      " [0.01593344 0.01593344 0.01593344 0.01593344 0.01593344]\n",
      " [0.01593344 0.01593344 0.01593344 0.01593344 0.01593344]\n",
      " [0.01593344 0.01593344 0.01593344 0.01593344 0.01593344]\n",
      " [0.01593344 0.01593344 0.01593344 0.01593344 0.01593344]\n",
      " [0.01593344 0.01593344 0.01593344 0.01593344 0.01593344]\n",
      " [0.01593344 0.01593344 0.01593344 0.01593344 0.01593344]\n",
      " [0.01593344 0.01593344 0.01593344 0.01593344 0.01593344]\n",
      " [0.01593344 0.01593344 0.01593344 0.01593344 0.01593344]\n",
      " [0.01593344 0.01593344 0.01593344 0.01593344 0.01593344]]\n",
      "-394.34976229643263 -57.20887942559135\n"
     ]
    },
    {
     "data": {
      "text/plain": [
       "-451.558641722024"
      ]
     },
     "execution_count": 49,
     "metadata": {},
     "output_type": "execute_result"
    }
   ],
   "source": [
    "test_T_likelihood(true_tps, val_sas_obs, val_adt_obs)"
   ]
  },
  {
   "cell_type": "code",
   "execution_count": 50,
   "metadata": {},
   "outputs": [
    {
     "data": {
      "text/plain": [
       "1.5636639168502067"
      ]
     },
     "execution_count": 50,
     "metadata": {},
     "output_type": "execute_result"
    }
   ],
   "source": [
    "true_trans_loss(softmax(Ti_thetas))"
   ]
  },
  {
   "cell_type": "code",
   "execution_count": 51,
   "metadata": {},
   "outputs": [
    {
     "data": {
      "text/plain": [
       "array([[[0.02406396, 0.04390975],\n",
       "        [0.64733023, 0.10766697],\n",
       "        [0.00000005, 0.07844411],\n",
       "        [0.32860572, 0.03422939],\n",
       "        [0.00000005, 0.73574976]],\n",
       "\n",
       "       [[0.06425945, 0.04390975],\n",
       "        [0.78405152, 0.10766697],\n",
       "        [0.15168898, 0.07844411],\n",
       "        [0.00000003, 0.03422939],\n",
       "        [0.00000003, 0.73574976]],\n",
       "\n",
       "       [[0.00000005, 0.04390975],\n",
       "        [0.4657699 , 0.10766697],\n",
       "        [0.27425712, 0.07844411],\n",
       "        [0.25997289, 0.03422939],\n",
       "        [0.00000005, 0.73574976]],\n",
       "\n",
       "       [[0.09388688, 0.04390975],\n",
       "        [0.00000006, 0.10766697],\n",
       "        [0.13348572, 0.07844411],\n",
       "        [0.77262728, 0.03422939],\n",
       "        [0.00000006, 0.73574976]],\n",
       "\n",
       "       [[0.        , 0.04390975],\n",
       "        [0.        , 0.10766697],\n",
       "        [0.        , 0.07844411],\n",
       "        [0.        , 0.03422939],\n",
       "        [0.99999998, 0.73574976]]])"
      ]
     },
     "execution_count": 51,
     "metadata": {},
     "output_type": "execute_result"
    }
   ],
   "source": [
    "softmax(Ti_thetas)"
   ]
  },
  {
   "cell_type": "code",
   "execution_count": 52,
   "metadata": {},
   "outputs": [
    {
     "data": {
      "text/plain": [
       "1.6162940418767004"
      ]
     },
     "execution_count": 52,
     "metadata": {},
     "output_type": "execute_result"
    }
   ],
   "source": [
    "true_trans_loss(softmax(T_estimate(adt_obs[train_demo_example_idxes])))"
   ]
  },
  {
   "cell_type": "code",
   "execution_count": 53,
   "metadata": {},
   "outputs": [
    {
     "data": {
      "text/plain": [
       "array([[[0.55645147, 0.2       ],\n",
       "        [0.17741936, 0.2       ],\n",
       "        [0.00000008, 0.2       ],\n",
       "        [0.26612901, 0.2       ],\n",
       "        [0.00000008, 0.2       ]],\n",
       "\n",
       "       [[0.22672064, 0.2       ],\n",
       "        [0.57894729, 0.2       ],\n",
       "        [0.19433198, 0.2       ],\n",
       "        [0.00000004, 0.2       ],\n",
       "        [0.00000004, 0.2       ]],\n",
       "\n",
       "       [[0.00000004, 0.2       ],\n",
       "        [0.21991701, 0.2       ],\n",
       "        [0.60995842, 0.2       ],\n",
       "        [0.17012449, 0.2       ],\n",
       "        [0.00000004, 0.2       ]],\n",
       "\n",
       "       [[0.13605444, 0.2       ],\n",
       "        [0.00000007, 0.2       ],\n",
       "        [0.18367347, 0.2       ],\n",
       "        [0.68027195, 0.2       ],\n",
       "        [0.00000007, 0.2       ]],\n",
       "\n",
       "       [[0.        , 0.2       ],\n",
       "        [0.        , 0.2       ],\n",
       "        [0.        , 0.2       ],\n",
       "        [0.        , 0.2       ],\n",
       "        [0.99999998, 0.2       ]]])"
      ]
     },
     "execution_count": 53,
     "metadata": {},
     "output_type": "execute_result"
    }
   ],
   "source": [
    "softmax(T_estimate(adt_obs[train_demo_example_idxes]))"
   ]
  },
  {
   "cell_type": "code",
   "execution_count": 54,
   "metadata": {},
   "outputs": [
    {
     "data": {
      "image/png": "[encoded data removed]",
      "text/plain": [
       "<Figure size 576x576 with 1 Axes>"
      ]
     },
     "metadata": {},
     "output_type": "display_data"
    }
   ],
   "source": [
    "plot_values(mdp, Qi)"
   ]
  },
  {
   "cell_type": "code",
   "execution_count": 55,
   "metadata": {},
   "outputs": [
    {
     "data": {
      "image/png": "[encoded data removed]",
      "text/plain": [
       "<Figure size 576x576 with 1 Axes>"
      ]
     },
     "metadata": {},
     "output_type": "display_data"
    }
   ],
   "source": [
    "plot_values(mdp, exQs)"
   ]
  },
  {
   "cell_type": "markdown",
   "metadata": {},
   "source": [
    "## SERD only"
   ]
  },
  {
   "cell_type": "code",
   "execution_count": 50,
   "metadata": {},
   "outputs": [],
   "source": [
    "serd_train_logs = {\n",
    "  'train_likelihoods': [],\n",
    "  'val_likelihoods': [],\n",
    "  'tp_lls': [],\n",
    "  'tt_lls': [],\n",
    "  'vp_lls': [],\n",
    "  'vt_lls': [],\n",
    "  'true_trans_loss': []\n",
    "}"
   ]
  },
  {
   "cell_type": "code",
   "execution_count": 51,
   "metadata": {},
   "outputs": [],
   "source": [
    "Ts_thetas = T_estimate(adt_obs[train_demo_example_idxes]) #np.log(Tps2+.000000001)\n",
    "feats = mdp.feature_map\n",
    "Rs_thetas = np.random.normal(loc=1,scale=0.1,size=feats.shape[1])\n",
    "Qs = None"
   ]
  },
  {
   "cell_type": "code",
   "execution_count": 52,
   "metadata": {},
   "outputs": [],
   "source": [
    "maxiter = 300\n",
    "learning_rate = 2.0\n",
    "t_learning_rate = lambda t: 0 if t<20 else 3 - (2 * int(t/(maxiter/2)))\n",
    "r_learning_rate = lambda t: 2e-1 if t<20 else 1e-1"
   ]
  },
  {
   "cell_type": "code",
   "execution_count": 53,
   "metadata": {
    "scrolled": true
   },
   "outputs": [
    {
     "name": "stdout",
     "output_type": "stream",
     "text": [
      "0 485.712846 133.625384 619.338230 2.319133\n",
      "1 162.853480 133.655128 296.508608 2.314842\n",
      "2 161.293529 133.571041 294.864570 2.315709\n",
      "3 170.262986 134.572289 304.835274 2.327684\n",
      "4 438.465059 134.509200 572.974259 2.325609\n",
      "5 166.581515 134.209391 300.790906 2.313591\n",
      "6 163.685083 133.206035 296.891118 2.301454\n",
      "7 162.943302 133.260841 296.204143 2.302224\n",
      "8 167.425496 133.579688 301.005184 2.308811\n",
      "9 187.919105 133.581888 321.500993 2.311239\n",
      "10 254.780474 133.369352 388.149826 2.315122\n",
      "11 438.956684 133.597996 572.554680 2.316739\n",
      "12 548.711261 133.746996 682.458257 2.313722\n",
      "13 206.557595 133.584343 340.141938 2.310915\n",
      "14 313.353099 134.045356 447.398455 2.303729\n",
      "15 522.843203 133.540342 656.383546 2.299104\n",
      "16 187.194332 133.345388 320.539721 2.295243\n",
      "17 234.817989 133.521526 368.339515 2.298077\n",
      "18 418.064890 133.551678 551.616568 2.299992\n",
      "19 514.923117 133.460858 648.383976 2.300700\n",
      "20 175.846933 133.616189 309.463122 2.304317\n",
      "21 200.267583 133.981411 334.248994 2.311465\n",
      "22 270.946775 135.222003 406.168777 2.338099\n",
      "23 404.290989 135.757789 540.048777 2.352789\n",
      "24 476.934279 135.943186 612.877464 2.356650\n",
      "25 166.411347 135.152179 301.563526 2.336421\n",
      "26 183.120385 135.873431 318.993816 2.348138\n",
      "27 243.009410 135.181788 378.191197 2.338043\n",
      "28 391.807514 135.376389 527.183903 2.341333\n",
      "29 543.697309 135.333125 679.030434 2.347753\n",
      "30 180.153546 135.100760 315.254306 2.338356\n",
      "31 219.363933 135.735516 355.099449 2.356644\n",
      "32 350.163100 135.483966 485.647065 2.344742\n",
      "33 525.992230 135.494847 661.487077 2.345866\n",
      "34 169.137344 135.246224 304.383568 2.342700\n",
      "35 193.495033 135.179328 328.674360 2.341322\n",
      "36 291.423541 134.185403 425.608944 2.324804\n",
      "37 423.804475 134.463450 558.267926 2.332230\n",
      "38 520.365498 134.617912 654.983409 2.331981\n",
      "39 174.444655 134.423252 308.867907 2.329606\n",
      "40 210.684847 134.696548 345.381395 2.327015\n",
      "41 366.220241 134.424559 500.644800 2.314066\n",
      "42 534.852895 134.119146 668.972040 2.301633\n",
      "43 185.952774 134.248561 320.201335 2.302262\n",
      "44 229.904786 134.272900 364.177686 2.295500\n",
      "45 379.813689 133.986641 513.800330 2.287939\n",
      "46 530.749157 133.870612 664.619768 2.285881\n",
      "47 182.143577 133.742709 315.886286 2.281486\n",
      "48 209.889816 134.125651 344.015467 2.293142\n",
      "49 294.492849 134.895784 429.388633 2.304347\n",
      "50 498.945949 135.203708 634.149657 2.309556\n",
      "51 170.064197 135.196153 305.260350 2.311909\n",
      "52 186.297596 135.747873 322.045470 2.315481\n",
      "53 264.641822 135.607248 400.249070 2.313826\n",
      "54 436.638967 135.274826 571.913793 2.309280\n",
      "55 546.935683 135.019261 681.954944 2.305257\n",
      "56 193.045543 135.305996 328.351539 2.308155\n",
      "57 252.414986 135.940451 388.355438 2.322958\n",
      "58 352.491186 135.632572 488.123758 2.321616\n",
      "59 521.340161 135.316495 656.656656 2.311446\n",
      "60 173.859034 135.513825 309.372859 2.317252\n",
      "61 207.408739 135.090710 342.499449 2.308173\n",
      "62 302.893344 135.925344 438.818689 2.329928\n",
      "63 463.782864 135.450475 599.233339 2.316330\n",
      "64 454.093539 135.523646 589.617184 2.318507\n",
      "65 518.451832 135.257163 653.708995 2.313661\n",
      "66 169.645805 135.170277 304.816082 2.311108\n",
      "67 205.505679 134.657150 340.162828 2.297931\n",
      "68 250.900304 134.413209 385.313513 2.293977\n",
      "69 396.852554 134.238224 531.090778 2.291604\n",
      "70 530.030215 134.421641 664.451856 2.291624\n",
      "71 179.078184 134.337837 313.416020 2.293139\n",
      "72 224.938947 135.309058 360.248005 2.320679\n",
      "73 313.071560 135.605344 448.676904 2.327424\n",
      "74 513.014717 135.519350 648.534067 2.320778\n",
      "75 173.855827 134.946717 308.802545 2.309299\n",
      "76 198.352372 135.590514 333.942886 2.325464\n",
      "77 241.083610 136.072469 377.156079 2.344044\n",
      "78 440.925457 136.705063 577.630520 2.358468\n",
      "79 327.984213 136.659256 464.643470 2.350512\n",
      "80 401.029769 137.278607 538.308376 2.378603\n",
      "81 375.987664 136.854693 512.842357 2.361665\n",
      "82 516.662944 136.269098 652.932043 2.340322\n",
      "83 179.571343 136.295087 315.866430 2.339203\n",
      "84 235.634327 137.391087 373.025414 2.368265\n",
      "85 436.438039 136.587941 573.025980 2.341873\n",
      "86 539.513750 135.960374 675.474124 2.319554\n",
      "87 178.957565 135.955274 314.912840 2.319686\n",
      "88 217.425906 135.118779 352.544686 2.297094\n",
      "89 417.939337 135.910922 553.850258 2.312575\n",
      "90 521.640806 135.333839 656.974645 2.291714\n",
      "91 177.536550 134.923510 312.460060 2.291990\n",
      "92 232.798531 134.909954 367.708486 2.291591\n",
      "93 335.929914 135.043640 470.973554 2.296332\n",
      "94 517.168976 134.772615 651.941591 2.285219\n",
      "95 175.945509 134.142594 310.088103 2.271986\n",
      "96 213.961371 134.680099 348.641471 2.280482\n",
      "97 307.459775 134.396753 441.856528 2.278197\n",
      "98 513.209674 134.413497 647.623171 2.281333\n",
      "99 165.489656 134.167128 299.656784 2.270816\n",
      "100 191.169045 135.170229 326.339274 2.310650\n",
      "101 278.558183 135.018941 413.577124 2.300368\n",
      "102 501.638752 134.775780 636.414532 2.286755\n",
      "103 276.243198 134.490188 410.733386 2.279535\n",
      "104 496.729755 134.994438 631.724192 2.280312\n",
      "105 170.464494 134.069438 304.533932 2.256805\n",
      "106 178.482269 134.925861 313.408130 2.270661\n",
      "107 202.950319 135.871060 338.821379 2.301043\n",
      "108 281.561420 135.209678 416.771098 2.280935\n",
      "109 513.392741 135.122727 648.515468 2.281388\n",
      "110 172.079386 135.371643 307.451028 2.285714\n",
      "111 208.125179 135.577659 343.702838 2.292318\n",
      "112 298.689000 136.113153 434.802153 2.313285\n",
      "113 534.136870 135.899129 670.035999 2.302335\n",
      "114 183.522138 135.985991 319.508129 2.311365\n",
      "115 216.720383 136.241685 352.962068 2.315247\n",
      "116 279.936709 136.968887 416.905596 2.339106\n",
      "117 406.225369 136.417119 542.642488 2.322014\n",
      "118 516.247403 136.063690 652.311092 2.314480\n",
      "119 181.767953 135.617273 317.385226 2.298222\n",
      "120 216.486387 136.345621 352.832008 2.319758\n",
      "121 353.449090 136.054350 489.503439 2.312118\n",
      "122 521.771517 135.933234 657.704751 2.303200\n",
      "123 167.360124 136.215799 303.575924 2.310917\n",
      "124 196.193175 136.168715 332.361890 2.302234\n",
      "125 263.381211 136.251720 399.632931 2.301261\n",
      "126 515.822804 136.424468 652.247272 2.307115\n",
      "127 172.711756 135.889796 308.601552 2.287156\n",
      "128 193.504401 139.053360 332.557761 2.354607\n",
      "129 320.698234 138.020298 458.718532 2.326763\n",
      "130 496.423064 137.939608 634.362672 2.328292\n",
      "131 165.473173 137.144117 302.617290 2.307649\n",
      "132 159.588054 139.134247 298.722301 2.368138\n",
      "133 156.943656 139.524701 296.468357 2.370455\n",
      "134 156.056144 138.227001 294.283145 2.322276\n",
      "135 168.229859 138.147580 306.377439 2.311574\n",
      "136 194.819874 137.170105 331.989979 2.292369\n",
      "137 268.035007 136.744442 404.779450 2.284246\n",
      "138 418.114175 136.285761 554.399936 2.270918\n",
      "139 537.042202 135.878499 672.920701 2.257771\n",
      "140 172.877516 135.812240 308.689756 2.254035\n",
      "141 211.142220 134.920949 346.063168 2.230658\n",
      "142 316.285273 134.591898 450.877172 2.221300\n",
      "143 499.504879 134.851451 634.356330 2.224800\n",
      "144 168.292932 134.459994 302.752925 2.216051\n",
      "145 177.260714 136.826713 314.087427 2.270041\n",
      "146 196.747673 136.501764 333.249437 2.263055\n",
      "147 307.820600 136.164729 443.985329 2.265842\n",
      "148 532.182503 135.461423 667.643926 2.241626\n",
      "149 176.764523 135.632902 312.397424 2.246519\n",
      "150 205.181869 136.176011 341.357880 2.267925\n",
      "151 304.790922 136.423064 441.213986 2.274627\n",
      "152 509.414098 135.962124 645.376221 2.260258\n",
      "153 165.799353 135.757282 301.556635 2.250639\n",
      "154 180.702722 135.591826 316.294548 2.242024\n",
      "155 218.117765 136.077767 354.195533 2.257283\n",
      "156 390.131990 135.718272 525.850262 2.253749\n",
      "157 460.446074 135.423942 595.870015 2.240568\n",
      "158 506.873319 135.292049 642.165368 2.236932\n",
      "159 170.709857 135.423612 306.133469 2.234482\n",
      "160 178.863000 136.463389 315.326388 2.261937\n",
      "161 224.503256 136.474713 360.977968 2.261222\n",
      "162 315.940057 136.680677 452.620733 2.262940\n",
      "163 511.249538 136.627853 647.877391 2.255915\n",
      "164 163.476966 136.437052 299.914018 2.241294\n",
      "165 181.437937 136.492972 317.930909 2.242327\n",
      "166 210.834215 136.681742 347.515957 2.248220\n",
      "167 264.965022 136.434614 401.399636 2.247753\n",
      "168 371.836759 136.607917 508.444676 2.251776\n",
      "169 539.871134 136.367711 676.238846 2.244380\n",
      "170 177.142811 136.012937 313.155748 2.230319\n",
      "171 213.233470 136.071791 349.305261 2.234554\n",
      "172 451.883617 136.255146 588.138763 2.231507\n",
      "173 529.973821 136.077696 666.051517 2.228466\n",
      "174 175.622856 135.734993 311.357849 2.219565\n",
      "175 221.287539 135.723480 357.011019 2.217455\n",
      "176 310.339618 134.942940 445.282558 2.195954\n",
      "177 470.803694 135.277399 606.081093 2.210731\n",
      "178 539.614788 134.757298 674.372086 2.193000\n",
      "179 188.650682 133.910674 322.561356 2.171984\n",
      "180 237.863990 134.056472 371.920462 2.174971\n"
     ]
    },
    {
     "name": "stdout",
     "output_type": "stream",
     "text": [
      "181 337.420364 134.553057 471.973421 2.182159\n",
      "182 513.194870 134.379933 647.574803 2.178796\n",
      "183 170.783588 133.962782 304.746370 2.173237\n",
      "184 189.937332 134.631364 324.568697 2.186019\n",
      "185 248.607437 134.451180 383.058617 2.187100\n",
      "186 392.291259 134.144718 526.435977 2.180519\n",
      "187 530.740708 134.211076 664.951785 2.179793\n",
      "188 181.556387 134.149404 315.705791 2.189507\n",
      "189 244.127814 135.075791 379.203605 2.204301\n",
      "190 367.510948 134.786413 502.297361 2.201951\n",
      "191 534.290145 134.656615 668.946760 2.188985\n",
      "192 175.120692 134.094368 309.215060 2.175590\n",
      "193 233.688092 134.582618 368.270710 2.185168\n",
      "194 376.015428 134.220494 510.235921 2.181637\n",
      "195 513.083766 134.374222 647.457987 2.183515\n",
      "196 171.672145 134.074400 305.746545 2.176245\n",
      "197 199.529042 134.337093 333.866135 2.190218\n",
      "198 285.679218 134.324954 420.004172 2.199104\n",
      "199 524.862439 134.481486 659.343925 2.207032\n",
      "200 182.168722 134.281193 316.449915 2.203859\n",
      "201 209.554689 134.478941 344.033630 2.204555\n",
      " "
     ]
    }
   ],
   "source": [
    "%%prun -s cumulative\n",
    "\n",
    "try:\n",
    "    while len(serd_train_logs['tt_lls']) < maxiter:\n",
    "        prevQs = Qs.copy() if Qs is not None else None\n",
    "        t = len(serd_train_logs['tt_lls'])\n",
    "        batch_demo_sas, batch_demo_adt = sample_batch(batch_size, train_demo_example_idxes, sas_obs, adt_obs)\n",
    "        Rs = feats.dot(Rs_thetas)\n",
    "        tp_ll, dT_pol, dR_pol, Qs = eval_TR_pol_likelihood_and_grad(Ts_thetas, Rs, feats, batch_demo_sas, Q_inits=Qs)\n",
    "        tt_ll, dT_trans = eval_trans_likelihood_and_grad(Ts_thetas, batch_demo_adt)\n",
    "        train_likelihood = tp_ll + tt_ll\n",
    "        vp_ll, vt_ll = eval_demo_log_likelihood(val_sas_obs, val_adt_obs, Ts_thetas, Qs)\n",
    "        val_likelihood = vp_ll + vt_ll\n",
    "        ttd = true_trans_loss(softmax(Ts_thetas))\n",
    "        Rs_thetas += learning_rate * dR_pol\n",
    "        Ts_thetas += learning_rate * (dT_trans + dT_pol)\n",
    "\n",
    "    #     print(dT_trans)\n",
    "    #     print(dT_pol)\n",
    "    #     print(softmax(Ts_thetas))\n",
    "    #     print(dR_pol * r_learning_rate(t))\n",
    "    #     print(Rs_thetas)\n",
    "    #     if prevQs is not None:\n",
    "    #         print(\"Q_diff\")\n",
    "    #         print(np.linalg.norm(Qs-prevQs))\n",
    "\n",
    "\n",
    "        print('%d %f %f %f %f' % (t, -vp_ll, -vt_ll, -vp_ll + -vt_ll, ttd))\n",
    "        serd_train_logs['train_likelihoods'].append(-train_likelihood)\n",
    "        serd_train_logs['val_likelihoods'].append(-val_likelihood)\n",
    "        serd_train_logs['tp_lls'].append(-tp_ll)\n",
    "        serd_train_logs['tt_lls'].append(-tt_ll)\n",
    "        serd_train_logs['vp_lls'].append(-vp_ll)\n",
    "        serd_train_logs['vt_lls'].append(-vt_ll)\n",
    "        serd_train_logs['true_trans_loss'].append(ttd)\n",
    "except KeyboardInterrupt:\n",
    "    pass"
   ]
  },
  {
   "cell_type": "code",
   "execution_count": 37,
   "metadata": {},
   "outputs": [
    {
     "name": "stdout",
     "output_type": "stream",
     "text": [
      "[[[0.56629209 0.2       ]\n",
      "  [0.19550562 0.2       ]\n",
      "  [0.00000002 0.2       ]\n",
      "  [0.23820224 0.2       ]\n",
      "  [0.00000002 0.2       ]]\n",
      "\n",
      " [[0.20972644 0.2       ]\n",
      "  [0.60790267 0.2       ]\n",
      "  [0.18237082 0.2       ]\n",
      "  [0.00000003 0.2       ]\n",
      "  [0.00000003 0.2       ]]\n",
      "\n",
      " [[0.00000004 0.2       ]\n",
      "  [0.22314049 0.2       ]\n",
      "  [0.64049578 0.2       ]\n",
      "  [0.13636365 0.2       ]\n",
      "  [0.00000004 0.2       ]]\n",
      "\n",
      " [[0.24433249 0.2       ]\n",
      "  [0.00000003 0.2       ]\n",
      "  [0.16120907 0.2       ]\n",
      "  [0.59445839 0.2       ]\n",
      "  [0.00000003 0.2       ]]\n",
      "\n",
      " [[0.00000001 0.2       ]\n",
      "  [0.00000001 0.2       ]\n",
      "  [0.00000001 0.2       ]\n",
      "  [0.00000001 0.2       ]\n",
      "  [0.99999997 0.2       ]]]\n"
     ]
    }
   ],
   "source": [
    "print(softmax(Ts_thetas))"
   ]
  },
  {
   "cell_type": "code",
   "execution_count": 61,
   "metadata": {},
   "outputs": [
    {
     "name": "stdout",
     "output_type": "stream",
     "text": [
      "[0.49681305 1.13094144 0.74253547]\n"
     ]
    }
   ],
   "source": [
    "print(Rs_thetas)"
   ]
  },
  {
   "cell_type": "code",
   "execution_count": 62,
   "metadata": {},
   "outputs": [
    {
     "data": {
      "text/plain": [
       "1.5876990940752809"
      ]
     },
     "execution_count": 62,
     "metadata": {},
     "output_type": "execute_result"
    }
   ],
   "source": [
    "true_trans_loss(softmax(Ts_thetas))"
   ]
  },
  {
   "cell_type": "code",
   "execution_count": 63,
   "metadata": {},
   "outputs": [
    {
     "data": {
      "text/plain": [
       "[<matplotlib.lines.Line2D at 0x124192208>]"
      ]
     },
     "execution_count": 63,
     "metadata": {},
     "output_type": "execute_result"
    },
    {
     "data": {
      "image/png": "[encoded data removed]",
      "text/plain": [
       "<Figure size 432x288 with 1 Axes>"
      ]
     },
     "metadata": {},
     "output_type": "display_data"
    }
   ],
   "source": [
    "plt.plot(serd_train_logs['vp_lls'][:250])\n",
    "plt.plot(idl_train_logs['vp_lls'][:250])"
   ]
  },
  {
   "cell_type": "code",
   "execution_count": 64,
   "metadata": {},
   "outputs": [
    {
     "data": {
      "text/plain": [
       "[<matplotlib.lines.Line2D at 0x132da9c88>]"
      ]
     },
     "execution_count": 64,
     "metadata": {},
     "output_type": "execute_result"
    },
    {
     "data": {
      "image/png": "[encoded data removed]",
      "text/plain": [
       "<Figure size 432x288 with 1 Axes>"
      ]
     },
     "metadata": {},
     "output_type": "display_data"
    }
   ],
   "source": [
    "plt.plot(serd_train_logs['vt_lls'][:250])\n",
    "plt.plot(idl_train_logs['vt_lls'][:250])"
   ]
  },
  {
   "cell_type": "code",
   "execution_count": 65,
   "metadata": {},
   "outputs": [
    {
     "data": {
      "text/plain": [
       "<matplotlib.legend.Legend at 0x132d457f0>"
      ]
     },
     "execution_count": 65,
     "metadata": {},
     "output_type": "execute_result"
    },
    {
     "data": {
      "image/png": "[encoded data removed]",
      "text/plain": [
       "<Figure size 432x288 with 1 Axes>"
      ]
     },
     "metadata": {},
     "output_type": "display_data"
    }
   ],
   "source": [
    "plt.plot(serd_train_logs['val_likelihoods'], label = \"SERD\")\n",
    "plt.plot(idl_train_logs['val_likelihoods'], label = \"IDL\")\n",
    "plt.title(\"Log likelihood of Demonstrations\")\n",
    "plt.xlabel(\"Iterations of MDCE\")\n",
    "plt.ylabel(\"Log Likelihood\")\n",
    "plt.legend()"
   ]
  },
  {
   "cell_type": "code",
   "execution_count": 66,
   "metadata": {},
   "outputs": [
    {
     "data": {
      "text/plain": [
       "<matplotlib.legend.Legend at 0x122238748>"
      ]
     },
     "execution_count": 66,
     "metadata": {},
     "output_type": "execute_result"
    },
    {
     "data": {
      "image/png": "[encoded data removed]",
      "text/plain": [
       "<Figure size 432x288 with 1 Axes>"
      ]
     },
     "metadata": {},
     "output_type": "display_data"
    }
   ],
   "source": [
    "plt.plot(serd_train_logs['true_trans_loss'], label = \"SERD\")\n",
    "plt.plot(idl_train_logs['true_trans_loss'], label = \"IDL\")\n",
    "plt.title(\"Square Error of Learned Transition Parameters\")\n",
    "plt.xlabel(\"Iterations of MDCE\")\n",
    "plt.ylabel(\"Summed Square Error\")\n",
    "plt.legend()"
   ]
  },
  {
   "cell_type": "markdown",
   "metadata": {},
   "source": [
    "## Comparison Tests"
   ]
  },
  {
   "cell_type": "code",
   "execution_count": 67,
   "metadata": {},
   "outputs": [],
   "source": [
    "def demo_stats(mdp, demos):\n",
    "    demo_rewards = []\n",
    "    for i in range(len(demos)):\n",
    "        demo_rewards += [np.array([mdp.rewards[obs[0][2]] for obs in demos[i]])]\n",
    "#         for j in range(len(demo_rewards[i])):\n",
    "#             print(demos[i][j][0], demo_rewards[i][j])\n",
    "    \n",
    "    discounted_demo_rewards = [np.power(gamma,np.arange(len(dr)))*dr for dr in demo_rewards]\n",
    "    demo_rewards, discounted_demo_rewards = np.array(demo_rewards), np.array(discounted_demo_rewards)\n",
    "    data = {\"mean episode reward\": np.mean(np.sum(demo_rewards, axis=1)),\n",
    "            \"sd episode reward\": np.std(np.sum(demo_rewards, axis=1)),\n",
    "            \"mean discounted episode reward\": np.mean(np.sum(discounted_demo_rewards, axis=1)),\n",
    "            \"sd discounted episode reward\": np.std(np.sum(discounted_demo_rewards, axis=1))}\n",
    "    return data\n",
    "    \n",
    "    "
   ]
  },
  {
   "cell_type": "code",
   "execution_count": 68,
   "metadata": {},
   "outputs": [],
   "source": [
    "SERD_demos = generate_demonstrations(mdp, tabsoftq_gen_pol(Qs), 2000, demo_time_steps)\n",
    "IDL_demos = generate_demonstrations(mdp, tabsoftq_gen_pol(Qi), 2000, demo_time_steps)"
   ]
  },
  {
   "cell_type": "code",
   "execution_count": 69,
   "metadata": {},
   "outputs": [
    {
     "name": "stdout",
     "output_type": "stream",
     "text": [
      "{'mean episode reward': 18.763241099824473, 'sd episode reward': 5.273760470073869, 'mean discounted episode reward': 15.099854870443735, 'sd discounted episode reward': 4.307069670485462}\n"
     ]
    }
   ],
   "source": [
    "print(demo_stats(mdp, SERD_demos))"
   ]
  },
  {
   "cell_type": "code",
   "execution_count": 70,
   "metadata": {},
   "outputs": [
    {
     "name": "stdout",
     "output_type": "stream",
     "text": [
      "{'mean episode reward': 9.028340252019964, 'sd episode reward': 9.7183526849394, 'mean discounted episode reward': 7.321233184060213, 'sd discounted episode reward': 7.812074320921075}\n"
     ]
    }
   ],
   "source": [
    "print(demo_stats(mdp, IDL_demos))"
   ]
  },
  {
   "cell_type": "code",
   "execution_count": 71,
   "metadata": {},
   "outputs": [
    {
     "data": {
      "image/png": "[encoded data removed]",
      "text/plain": [
       "<Figure size 576x576 with 1 Axes>"
      ]
     },
     "metadata": {},
     "output_type": "display_data"
    }
   ],
   "source": [
    "plot_values(mdp, Qs)"
   ]
  },
  {
   "cell_type": "code",
   "execution_count": 72,
   "metadata": {},
   "outputs": [
    {
     "data": {
      "image/png": "[encoded data removed]",
      "text/plain": [
       "<Figure size 576x576 with 1 Axes>"
      ]
     },
     "metadata": {},
     "output_type": "display_data"
    }
   ],
   "source": [
    "plot_values(mdp, Qi)"
   ]
  },
  {
   "cell_type": "code",
   "execution_count": 73,
   "metadata": {},
   "outputs": [
    {
     "name": "stdout",
     "output_type": "stream",
     "text": [
      "0.10287197269524406 [59.68486215 59.81147471 58.97751347 58.16444484 59.32237177] [57.49074038 54.16367261 49.26091149 54.61224305 57.02484479]\n"
     ]
    }
   ],
   "source": [
    "print(reward_map[5][0], Qi[2], Q[2])"
   ]
  },
  {
   "cell_type": "markdown",
   "metadata": {},
   "source": [
    "### Transfer"
   ]
  },
  {
   "cell_type": "code",
   "execution_count": 74,
   "metadata": {},
   "outputs": [
    {
     "name": "stdout",
     "output_type": "stream",
     "text": [
      "[[0.67618767 0.14056354 0.1455138  0.08921952 0.09387289 0.08601433\n",
      "  0.13067641 0.09269368 0.36325799]\n",
      " [0.14690395 0.10829713 0.0640705  0.07485574 0.07236237 0.05895493\n",
      "  0.10529495 0.13188166 0.11331779]\n",
      " [0.11401929 0.09694357 0.05040063 0.01930117 0.         0.03713992\n",
      "  0.03646335 0.08920955 0.09735537]\n",
      " [0.11943059 0.03869624 0.05708527 0.         0.         0.\n",
      "  0.02160595 0.00857146 0.06874117]\n",
      " [0.06348109 0.05390636 0.         0.         1.00049655 0.\n",
      "  0.         0.03172843 0.04190909]\n",
      " [0.05916303 0.01426082 0.04966334 0.         0.         0.\n",
      "  0.00470588 0.00889625 0.06632234]\n",
      " [0.11718215 0.01587071 0.04122681 0.03938451 0.         0.01093148\n",
      "  0.02311856 0.01117571 0.06818466]\n",
      " [0.12969489 0.11075986 0.05701639 0.00772544 0.00260944 0.00828445\n",
      "  0.04802964 0.03853574 0.10752346]\n",
      " [0.39673177 0.15698118 0.1345501  0.04635263 0.0419914  0.05033927\n",
      "  0.08150624 0.10255576 0.50944191]]\n",
      "[[0.42618767 0.14056354 0.1455138  0.08921952 0.09387289 0.08601433\n",
      "  0.13067641 0.09269368 0.23825799]\n",
      " [0.14690395 0.10829713 0.0640705  0.07485574 0.07236237 0.05895493\n",
      "  0.10529495 0.13188166 0.11331779]\n",
      " [0.11401929 0.09694357 0.05040063 0.01930117 0.         0.03713992\n",
      "  0.03646335 0.08920955 0.09735537]\n",
      " [0.11943059 0.03869624 0.05708527 0.         0.         0.\n",
      "  0.02160595 0.00857146 0.06874117]\n",
      " [0.06348109 0.05390636 0.         0.         0.00049655 0.\n",
      "  0.         0.03172843 0.04190909]\n",
      " [0.05916303 0.01426082 0.04966334 0.         0.         0.\n",
      "  0.00470588 0.00889625 0.06632234]\n",
      " [0.11718215 0.01587071 0.04122681 0.03938451 0.         0.01093148\n",
      "  0.02311856 0.01117571 0.06818466]\n",
      " [0.12969489 0.11075986 0.05701639 0.00772544 0.00260944 0.00828445\n",
      "  0.04802964 0.03853574 0.10752346]\n",
      " [0.27173177 0.15698118 0.1345501  0.04635263 0.0419914  0.05033927\n",
      "  0.08150624 0.10255576 0.25944191]]\n"
     ]
    }
   ],
   "source": [
    "tile_map2 = [\n",
    "        \"2FFFFFFF1\",\n",
    "        \"FFFFFFFFF\",\n",
    "        \"FFFFUFFFF\",\n",
    "        \"FFFUUUFSF\",\n",
    "        \"FFUU3UUFF\",\n",
    "        \"FSFUUUFSF\",\n",
    "        \"FSFFUFFSF\",\n",
    "        \"FFFSSSFFF\",\n",
    "        \"1FFFFFFF2\"\n",
    "    ]\n",
    "reward_map2, texture_map2 = build_reward_map(tile_map2, tile_rewards, goal_tile_rewards, tile_reward_modifier)\n",
    "# reward_normalizer2 = (1-gamma)/(np.max(reward_map2))\n",
    "# reward_map2 *= reward_normalizer2\n",
    "# time_penalty *= reward_normalizer2\n",
    "# temperature2 = 1/(reward_normalizer2)\n",
    "# print(temperature2)\n",
    "print(reward_map2)\n",
    "print(texture_map2)"
   ]
  },
  {
   "cell_type": "code",
   "execution_count": 75,
   "metadata": {},
   "outputs": [],
   "source": [
    "mdp = MarsExplorerEnv(tile_map2, reward_map2, texture_map2, trans_dict, time_penalty) \n",
    "nA = mdp.num_actions\n",
    "nS = mdp.num_states"
   ]
  },
  {
   "cell_type": "code",
   "execution_count": 76,
   "metadata": {},
   "outputs": [],
   "source": [
    "\n",
    "Tips = softmax(Ti_thetas,axis=1)\n",
    "Ti = mdp.adt_trans_to_sas_trans(Tips)\n",
    "Ri = mdp.rewards\n",
    "Qit = tabsoftq_iter(Ri, Ti, maxiter=tabsoftq_iter_maxiter, verbose=tabsoftq_iter_verbose, ftol=tabsoftq_iter_ftol)"
   ]
  },
  {
   "cell_type": "code",
   "execution_count": 77,
   "metadata": {},
   "outputs": [],
   "source": [
    "Tips = softmax(Ti_thetas,axis=1)\n",
    "Ti = mdp.adt_trans_to_sas_trans(Tips)\n",
    "Ri = mdp.rewards\n",
    "Qit = tabsoftq_iter(Ri, Ti, maxiter=tabsoftq_iter_maxiter, verbose=tabsoftq_iter_verbose, ftol=tabsoftq_iter_ftol)"
   ]
  },
  {
   "cell_type": "code",
   "execution_count": 78,
   "metadata": {},
   "outputs": [],
   "source": [
    "Tsps = softmax(Ts_thetas,axis=1)\n",
    "Ts = mdp.adt_trans_to_sas_trans(Tips)\n",
    "Rs = mdp.feature_map.dot(Rs_thetas)\n",
    "Qst = tabsoftq_iter(Rs, Ts, maxiter=tabsoftq_iter_maxiter, verbose=tabsoftq_iter_verbose, ftol=tabsoftq_iter_ftol)"
   ]
  },
  {
   "cell_type": "code",
   "execution_count": 79,
   "metadata": {},
   "outputs": [],
   "source": [
    "IDL_trans_demos = generate_demonstrations(mdp, tabsoftq_gen_pol(Qit), 1000, demo_time_steps)\n",
    "SERD_trans_demos = generate_demonstrations(mdp, tabsoftq_gen_pol(Qst), 1000, demo_time_steps)"
   ]
  },
  {
   "cell_type": "code",
   "execution_count": 80,
   "metadata": {},
   "outputs": [
    {
     "name": "stderr",
     "output_type": "stream",
     "text": [
      "/Users/mckaneandrus/anaconda2/envs/irld/lib/python3.6/site-packages/matplotlib/cbook/deprecation.py:107: MatplotlibDeprecationWarning: Adding an axes using the same arguments as a previous axes currently reuses the earlier instance.  In a future version, a new instance will always be created and returned.  Meanwhile, this warning can be suppressed, and the future behavior ensured, by passing a unique label to each axes instance.\n",
      "  warnings.warn(message, mplDeprecation, stacklevel=1)\n"
     ]
    },
    {
     "data": {
      "image/png": "[encoded data removed]",
      "text/plain": [
       "<Figure size 288x288 with 1 Axes>"
      ]
     },
     "metadata": {},
     "output_type": "display_data"
    },
    {
     "name": "stdout",
     "output_type": "stream",
     "text": [
      "[61.50299462 61.8651889  61.89607038 61.04179834 61.28600592]\n",
      "1\n",
      "[0.1867945  0.26832619 0.27674178 0.11777933 0.15035819]\n",
      "(7, 5) b'S'\n",
      "(8, 5) b'F'\n"
     ]
    },
    {
     "data": {
      "image/png": "[encoded data removed]",
      "text/plain": [
       "<Figure size 288x288 with 1 Axes>"
      ]
     },
     "metadata": {},
     "output_type": "display_data"
    },
    {
     "name": "stdout",
     "output_type": "stream",
     "text": [
      "[63.16841625 63.42261873 63.11590039 62.26992621 62.85471487]\n",
      "1\n",
      "[0.2285091  0.29464714 0.21681841 0.09304525 0.1669801 ]\n",
      "(8, 5) b'F'\n",
      "(8, 6) b'F'\n"
     ]
    },
    {
     "data": {
      "image/png": "[encoded data removed]",
      "text/plain": [
       "<Figure size 288x288 with 1 Axes>"
      ]
     },
     "metadata": {},
     "output_type": "display_data"
    },
    {
     "name": "stdout",
     "output_type": "stream",
     "text": [
      "[63.91564947 64.26659342 63.92672974 62.90456201 63.69211215]\n",
      "1\n",
      "[0.21762512 0.3091164  0.22004987 0.07917705 0.17403155]\n",
      "(8, 6) b'F'\n",
      "(8, 7) b'F'\n"
     ]
    },
    {
     "data": {
      "image/png": "[encoded data removed]",
      "text/plain": [
       "<Figure size 288x288 with 1 Axes>"
      ]
     },
     "metadata": {},
     "output_type": "display_data"
    },
    {
     "name": "stdout",
     "output_type": "stream",
     "text": [
      "[64.69003005 65.07333355 64.82257026 63.76561028 64.53012367]\n",
      "1\n",
      "[0.20585309 0.30201185 0.23502761 0.08167459 0.17543286]\n",
      "(8, 7) b'F'\n",
      "(7, 7) b'F'\n"
     ]
    },
    {
     "data": {
      "image/png": "[encoded data removed]",
      "text/plain": [
       "<Figure size 288x288 with 1 Axes>"
      ]
     },
     "metadata": {},
     "output_type": "display_data"
    },
    {
     "name": "stdout",
     "output_type": "stream",
     "text": [
      "[62.44658033 62.91798505 63.0403618  62.08771621 62.44849393]\n",
      "2\n",
      "[0.16357373 0.26208492 0.29620309 0.11425122 0.16388705]\n",
      "(7, 7) b'F'\n",
      "(7, 8) b'F'\n"
     ]
    },
    {
     "data": {
      "image/png": "[encoded data removed]",
      "text/plain": [
       "<Figure size 288x288 with 1 Axes>"
      ]
     },
     "metadata": {},
     "output_type": "display_data"
    },
    {
     "name": "stdout",
     "output_type": "stream",
     "text": [
      "[62.57099813 62.96132082 63.34525714 62.6525192  62.81436032]\n",
      "2\n",
      "[0.14271629 0.21085726 0.3095494  0.15483806 0.18203899]\n",
      "(7, 8) b'F'\n",
      "(8, 8) b'2'\n"
     ]
    },
    {
     "data": {
      "image/png": "[encoded data removed]",
      "text/plain": [
       "<Figure size 288x288 with 1 Axes>"
      ]
     },
     "metadata": {},
     "output_type": "display_data"
    },
    {
     "name": "stdout",
     "output_type": "stream",
     "text": [
      "[64.99282251 65.32453751 65.42473805 64.62796178 65.27993257]\n",
      "2\n",
      "[0.16777327 0.23376784 0.25840524 0.11648387 0.22356978]\n",
      "(8, 8) b'2'\n",
      "(8, 7) b'F'\n"
     ]
    },
    {
     "data": {
      "image/png": "[encoded data removed]",
      "text/plain": [
       "<Figure size 288x288 with 1 Axes>"
      ]
     },
     "metadata": {},
     "output_type": "display_data"
    },
    {
     "name": "stdout",
     "output_type": "stream",
     "text": [
      "[64.69003005 65.07333355 64.82257026 63.76561028 64.53012367]\n",
      "1\n",
      "[0.20585309 0.30201185 0.23502761 0.08167459 0.17543286]\n",
      "(8, 7) b'F'\n",
      "(0, 7) b'F'\n"
     ]
    },
    {
     "data": {
      "image/png": "[encoded data removed]",
      "text/plain": [
       "<Figure size 288x288 with 1 Axes>"
      ]
     },
     "metadata": {},
     "output_type": "display_data"
    },
    {
     "name": "stdout",
     "output_type": "stream",
     "text": [
      "[65.58467499 65.64416067 64.53897985 63.69932149 65.11741393]\n",
      "1\n",
      "[0.31335881 0.33256475 0.11012915 0.04756016 0.19638713]\n",
      "(0, 7) b'F'\n",
      "(0, 8) b'1'\n"
     ]
    },
    {
     "data": {
      "image/png": "[encoded data removed]",
      "text/plain": [
       "<Figure size 288x288 with 1 Axes>"
      ]
     },
     "metadata": {},
     "output_type": "display_data"
    },
    {
     "name": "stdout",
     "output_type": "stream",
     "text": [
      "[66.740523   66.64641739 65.4821892  64.74316354 66.46984951]\n",
      "0\n",
      "[0.32332405 0.29428522 0.09186511 0.04387285 0.24665277]\n",
      "(0, 8) b'1'\n",
      "(0, 0) b'2'\n"
     ]
    },
    {
     "data": {
      "image/png": "[encoded data removed]",
      "text/plain": [
       "<Figure size 288x288 with 1 Axes>"
      ]
     },
     "metadata": {},
     "output_type": "display_data"
    },
    {
     "name": "stdout",
     "output_type": "stream",
     "text": [
      "[66.21082989 65.49103757 65.17481061 65.81143797 67.61876206]\n",
      "4\n",
      "[0.15151653 0.07376633 0.05376784 0.10162634 0.61932296]\n",
      "(0, 0) b'2'\n",
      "(0, 0) b'2'\n"
     ]
    },
    {
     "data": {
      "image/png": "[encoded data removed]",
      "text/plain": [
       "<Figure size 288x288 with 1 Axes>"
      ]
     },
     "metadata": {},
     "output_type": "display_data"
    },
    {
     "name": "stdout",
     "output_type": "stream",
     "text": [
      "[66.21082989 65.49103757 65.17481061 65.81143797 67.61876206]\n",
      "4\n",
      "[0.15151653 0.07376633 0.05376784 0.10162634 0.61932296]\n",
      "(0, 0) b'2'\n",
      "(0, 0) b'2'\n"
     ]
    },
    {
     "data": {
      "image/png": "[encoded data removed]",
      "text/plain": [
       "<Figure size 288x288 with 1 Axes>"
      ]
     },
     "metadata": {},
     "output_type": "display_data"
    },
    {
     "name": "stdout",
     "output_type": "stream",
     "text": [
      "[66.21082989 65.49103757 65.17481061 65.81143797 67.61876206]\n",
      "4\n",
      "[0.15151653 0.07376633 0.05376784 0.10162634 0.61932296]\n",
      "(0, 0) b'2'\n",
      "(0, 0) b'2'\n"
     ]
    },
    {
     "data": {
      "image/png": "[encoded data removed]",
      "text/plain": [
       "<Figure size 288x288 with 1 Axes>"
      ]
     },
     "metadata": {},
     "output_type": "display_data"
    },
    {
     "name": "stdout",
     "output_type": "stream",
     "text": [
      "[66.21082989 65.49103757 65.17481061 65.81143797 67.61876206]\n",
      "4\n",
      "[0.15151653 0.07376633 0.05376784 0.10162634 0.61932296]\n",
      "(0, 0) b'2'\n",
      "(0, 0) b'2'\n"
     ]
    },
    {
     "data": {
      "image/png": "[encoded data removed]",
      "text/plain": [
       "<Figure size 288x288 with 1 Axes>"
      ]
     },
     "metadata": {},
     "output_type": "display_data"
    },
    {
     "name": "stdout",
     "output_type": "stream",
     "text": [
      "[66.21082989 65.49103757 65.17481061 65.81143797 67.61876206]\n",
      "4\n",
      "[0.15151653 0.07376633 0.05376784 0.10162634 0.61932296]\n",
      "(0, 0) b'2'\n",
      "(0, 0) b'2'\n"
     ]
    },
    {
     "data": {
      "image/png": "[encoded data removed]",
      "text/plain": [
       "<Figure size 288x288 with 1 Axes>"
      ]
     },
     "metadata": {},
     "output_type": "display_data"
    },
    {
     "name": "stdout",
     "output_type": "stream",
     "text": [
      "[66.21082989 65.49103757 65.17481061 65.81143797 67.61876206]\n",
      "4\n",
      "[0.15151653 0.07376633 0.05376784 0.10162634 0.61932296]\n",
      "(0, 0) b'2'\n",
      "(0, 0) b'2'\n"
     ]
    },
    {
     "data": {
      "image/png": "[encoded data removed]",
      "text/plain": [
       "<Figure size 288x288 with 1 Axes>"
      ]
     },
     "metadata": {},
     "output_type": "display_data"
    },
    {
     "name": "stdout",
     "output_type": "stream",
     "text": [
      "[66.21082989 65.49103757 65.17481061 65.81143797 67.61876206]\n",
      "4\n",
      "[0.15151653 0.07376633 0.05376784 0.10162634 0.61932296]\n",
      "(0, 0) b'2'\n",
      "(0, 0) b'2'\n"
     ]
    },
    {
     "data": {
      "image/png": "[encoded data removed]",
      "text/plain": [
       "<Figure size 288x288 with 1 Axes>"
      ]
     },
     "metadata": {},
     "output_type": "display_data"
    },
    {
     "name": "stdout",
     "output_type": "stream",
     "text": [
      "[66.21082989 65.49103757 65.17481061 65.81143797 67.61876206]\n",
      "4\n",
      "[0.15151653 0.07376633 0.05376784 0.10162634 0.61932296]\n",
      "(0, 0) b'2'\n",
      "(0, 0) b'2'\n"
     ]
    },
    {
     "data": {
      "image/png": "[encoded data removed]",
      "text/plain": [
       "<Figure size 288x288 with 1 Axes>"
      ]
     },
     "metadata": {},
     "output_type": "display_data"
    },
    {
     "name": "stdout",
     "output_type": "stream",
     "text": [
      "[66.21082989 65.49103757 65.17481061 65.81143797 67.61876206]\n",
      "4\n",
      "[0.15151653 0.07376633 0.05376784 0.10162634 0.61932296]\n",
      "(0, 0) b'2'\n",
      "(0, 0) b'2'\n"
     ]
    },
    {
     "data": {
      "image/png": "[encoded data removed]",
      "text/plain": [
       "<Figure size 288x288 with 1 Axes>"
      ]
     },
     "metadata": {},
     "output_type": "display_data"
    },
    {
     "name": "stdout",
     "output_type": "stream",
     "text": [
      "[66.21082989 65.49103757 65.17481061 65.81143797 67.61876206]\n",
      "4\n",
      "[0.15151653 0.07376633 0.05376784 0.10162634 0.61932296]\n",
      "(0, 0) b'2'\n",
      "(0, 0) b'2'\n"
     ]
    },
    {
     "data": {
      "image/png": "[encoded data removed]",
      "text/plain": [
       "<Figure size 288x288 with 1 Axes>"
      ]
     },
     "metadata": {},
     "output_type": "display_data"
    },
    {
     "name": "stdout",
     "output_type": "stream",
     "text": [
      "[66.21082989 65.49103757 65.17481061 65.81143797 67.61876206]\n",
      "4\n",
      "[0.15151653 0.07376633 0.05376784 0.10162634 0.61932296]\n",
      "(0, 0) b'2'\n",
      "(0, 0) b'2'\n"
     ]
    },
    {
     "data": {
      "image/png": "[encoded data removed]",
      "text/plain": [
       "<Figure size 288x288 with 1 Axes>"
      ]
     },
     "metadata": {},
     "output_type": "display_data"
    },
    {
     "name": "stdout",
     "output_type": "stream",
     "text": [
      "[66.21082989 65.49103757 65.17481061 65.81143797 67.61876206]\n",
      "4\n",
      "[0.15151653 0.07376633 0.05376784 0.10162634 0.61932296]\n",
      "(0, 0) b'2'\n",
      "(0, 0) b'2'\n"
     ]
    },
    {
     "data": {
      "image/png": "[encoded data removed]",
      "text/plain": [
       "<Figure size 288x288 with 1 Axes>"
      ]
     },
     "metadata": {},
     "output_type": "display_data"
    },
    {
     "name": "stdout",
     "output_type": "stream",
     "text": [
      "[66.21082989 65.49103757 65.17481061 65.81143797 67.61876206]\n",
      "4\n",
      "[0.15151653 0.07376633 0.05376784 0.10162634 0.61932296]\n",
      "(0, 0) b'2'\n",
      "(0, 0) b'2'\n"
     ]
    },
    {
     "data": {
      "image/png": "[encoded data removed]",
      "text/plain": [
       "<Figure size 288x288 with 1 Axes>"
      ]
     },
     "metadata": {},
     "output_type": "display_data"
    },
    {
     "name": "stdout",
     "output_type": "stream",
     "text": [
      "[66.21082989 65.49103757 65.17481061 65.81143797 67.61876206]\n",
      "4\n",
      "[0.15151653 0.07376633 0.05376784 0.10162634 0.61932296]\n",
      "(0, 0) b'2'\n",
      "(0, 0) b'2'\n"
     ]
    },
    {
     "data": {
      "image/png": "[encoded data removed]",
      "text/plain": [
       "<Figure size 288x288 with 1 Axes>"
      ]
     },
     "metadata": {},
     "output_type": "display_data"
    },
    {
     "name": "stdout",
     "output_type": "stream",
     "text": [
      "[66.21082989 65.49103757 65.17481061 65.81143797 67.61876206]\n",
      "4\n",
      "[0.15151653 0.07376633 0.05376784 0.10162634 0.61932296]\n",
      "(0, 0) b'2'\n",
      "(0, 0) b'2'\n"
     ]
    },
    {
     "data": {
      "image/png": "[encoded data removed]",
      "text/plain": [
       "<Figure size 288x288 with 1 Axes>"
      ]
     },
     "metadata": {},
     "output_type": "display_data"
    },
    {
     "name": "stdout",
     "output_type": "stream",
     "text": [
      "[66.21082989 65.49103757 65.17481061 65.81143797 67.61876206]\n",
      "4\n",
      "[0.15151653 0.07376633 0.05376784 0.10162634 0.61932296]\n",
      "(0, 0) b'2'\n",
      "(0, 0) b'2'\n"
     ]
    },
    {
     "data": {
      "image/png": "[encoded data removed]",
      "text/plain": [
       "<Figure size 288x288 with 1 Axes>"
      ]
     },
     "metadata": {},
     "output_type": "display_data"
    },
    {
     "name": "stdout",
     "output_type": "stream",
     "text": [
      "[66.21082989 65.49103757 65.17481061 65.81143797 67.61876206]\n",
      "4\n",
      "[0.15151653 0.07376633 0.05376784 0.10162634 0.61932296]\n",
      "(0, 0) b'2'\n",
      "(0, 0) b'2'\n"
     ]
    },
    {
     "data": {
      "image/png": "[encoded data removed]",
      "text/plain": [
       "<Figure size 288x288 with 1 Axes>"
      ]
     },
     "metadata": {},
     "output_type": "display_data"
    },
    {
     "name": "stdout",
     "output_type": "stream",
     "text": [
      "[66.21082989 65.49103757 65.17481061 65.81143797 67.61876206]\n",
      "4\n",
      "[0.15151653 0.07376633 0.05376784 0.10162634 0.61932296]\n",
      "(0, 0) b'2'\n",
      "(0, 0) b'2'\n"
     ]
    },
    {
     "data": {
      "image/png": "[encoded data removed]",
      "text/plain": [
       "<Figure size 288x288 with 1 Axes>"
      ]
     },
     "metadata": {},
     "output_type": "display_data"
    },
    {
     "name": "stdout",
     "output_type": "stream",
     "text": [
      "[66.21082989 65.49103757 65.17481061 65.81143797 67.61876206]\n",
      "4\n",
      "[0.15151653 0.07376633 0.05376784 0.10162634 0.61932296]\n",
      "(0, 0) b'2'\n",
      "(0, 0) b'2'\n"
     ]
    },
    {
     "data": {
      "image/png": "[encoded data removed]",
      "text/plain": [
       "<Figure size 288x288 with 1 Axes>"
      ]
     },
     "metadata": {},
     "output_type": "display_data"
    },
    {
     "name": "stdout",
     "output_type": "stream",
     "text": [
      "[66.21082989 65.49103757 65.17481061 65.81143797 67.61876206]\n",
      "4\n",
      "[0.15151653 0.07376633 0.05376784 0.10162634 0.61932296]\n",
      "(0, 0) b'2'\n",
      "(0, 0) b'2'\n"
     ]
    },
    {
     "data": {
      "image/png": "[encoded data removed]",
      "text/plain": [
       "<Figure size 288x288 with 1 Axes>"
      ]
     },
     "metadata": {},
     "output_type": "display_data"
    },
    {
     "name": "stdout",
     "output_type": "stream",
     "text": [
      "[66.21082989 65.49103757 65.17481061 65.81143797 67.61876206]\n",
      "4\n",
      "[0.15151653 0.07376633 0.05376784 0.10162634 0.61932296]\n",
      "(0, 0) b'2'\n",
      "(0, 0) b'2'\n"
     ]
    },
    {
     "data": {
      "image/png": "[encoded data removed]",
      "text/plain": [
       "<Figure size 288x288 with 1 Axes>"
      ]
     },
     "metadata": {},
     "output_type": "display_data"
    },
    {
     "name": "stdout",
     "output_type": "stream",
     "text": [
      "[66.21082989 65.49103757 65.17481061 65.81143797 67.61876206]\n",
      "4\n",
      "[0.15151653 0.07376633 0.05376784 0.10162634 0.61932296]\n",
      "(0, 0) b'2'\n",
      "(0, 0) b'2'\n"
     ]
    },
    {
     "data": {
      "image/png": "[encoded data removed]",
      "text/plain": [
       "<Figure size 288x288 with 1 Axes>"
      ]
     },
     "metadata": {},
     "output_type": "display_data"
    },
    {
     "name": "stdout",
     "output_type": "stream",
     "text": [
      "[66.21082989 65.49103757 65.17481061 65.81143797 67.61876206]\n",
      "4\n",
      "[0.15151653 0.07376633 0.05376784 0.10162634 0.61932296]\n",
      "(0, 0) b'2'\n",
      "(0, 0) b'2'\n"
     ]
    },
    {
     "data": {
      "image/png": "[encoded data removed]",
      "text/plain": [
       "<Figure size 288x288 with 1 Axes>"
      ]
     },
     "metadata": {},
     "output_type": "display_data"
    },
    {
     "name": "stdout",
     "output_type": "stream",
     "text": [
      "[66.21082989 65.49103757 65.17481061 65.81143797 67.61876206]\n",
      "4\n",
      "[0.15151653 0.07376633 0.05376784 0.10162634 0.61932296]\n",
      "(0, 0) b'2'\n",
      "(0, 0) b'2'\n"
     ]
    },
    {
     "data": {
      "image/png": "[encoded data removed]",
      "text/plain": [
       "<Figure size 288x288 with 1 Axes>"
      ]
     },
     "metadata": {},
     "output_type": "display_data"
    },
    {
     "name": "stdout",
     "output_type": "stream",
     "text": [
      "[66.21082989 65.49103757 65.17481061 65.81143797 67.61876206]\n",
      "4\n",
      "[0.15151653 0.07376633 0.05376784 0.10162634 0.61932296]\n",
      "(0, 0) b'2'\n",
      "(0, 0) b'2'\n"
     ]
    },
    {
     "data": {
      "image/png": "[encoded data removed]",
      "text/plain": [
       "<Figure size 288x288 with 1 Axes>"
      ]
     },
     "metadata": {},
     "output_type": "display_data"
    },
    {
     "name": "stdout",
     "output_type": "stream",
     "text": [
      "[66.21082989 65.49103757 65.17481061 65.81143797 67.61876206]\n",
      "4\n",
      "[0.15151653 0.07376633 0.05376784 0.10162634 0.61932296]\n",
      "(0, 0) b'2'\n",
      "(0, 0) b'2'\n"
     ]
    },
    {
     "data": {
      "image/png": "[encoded data removed]",
      "text/plain": [
       "<Figure size 288x288 with 1 Axes>"
      ]
     },
     "metadata": {},
     "output_type": "display_data"
    },
    {
     "name": "stdout",
     "output_type": "stream",
     "text": [
      "[66.21082989 65.49103757 65.17481061 65.81143797 67.61876206]\n",
      "4\n",
      "[0.15151653 0.07376633 0.05376784 0.10162634 0.61932296]\n",
      "(0, 0) b'2'\n",
      "(0, 0) b'2'\n"
     ]
    },
    {
     "data": {
      "image/png": "[encoded data removed]",
      "text/plain": [
       "<Figure size 288x288 with 1 Axes>"
      ]
     },
     "metadata": {},
     "output_type": "display_data"
    },
    {
     "name": "stdout",
     "output_type": "stream",
     "text": [
      "[66.21082989 65.49103757 65.17481061 65.81143797 67.61876206]\n",
      "4\n",
      "[0.15151653 0.07376633 0.05376784 0.10162634 0.61932296]\n",
      "(0, 0) b'2'\n",
      "(0, 0) b'2'\n"
     ]
    },
    {
     "data": {
      "image/png": "[encoded data removed]",
      "text/plain": [
       "<Figure size 288x288 with 1 Axes>"
      ]
     },
     "metadata": {},
     "output_type": "display_data"
    },
    {
     "name": "stdout",
     "output_type": "stream",
     "text": [
      "[66.21082989 65.49103757 65.17481061 65.81143797 67.61876206]\n",
      "4\n",
      "[0.15151653 0.07376633 0.05376784 0.10162634 0.61932296]\n",
      "(0, 0) b'2'\n",
      "(0, 0) b'2'\n"
     ]
    },
    {
     "data": {
      "image/png": "[encoded data removed]",
      "text/plain": [
       "<Figure size 288x288 with 1 Axes>"
      ]
     },
     "metadata": {},
     "output_type": "display_data"
    },
    {
     "name": "stdout",
     "output_type": "stream",
     "text": [
      "[66.21082989 65.49103757 65.17481061 65.81143797 67.61876206]\n",
      "4\n",
      "[0.15151653 0.07376633 0.05376784 0.10162634 0.61932296]\n",
      "(0, 0) b'2'\n",
      "(0, 0) b'2'\n"
     ]
    }
   ],
   "source": [
    "plot_mars(mdp,tabsoftq_gen_pol(Qit),Qs=Qit)"
   ]
  },
  {
   "cell_type": "code",
   "execution_count": 81,
   "metadata": {},
   "outputs": [
    {
     "name": "stdout",
     "output_type": "stream",
     "text": [
      "{'mean episode reward': 11.882286132462806, 'sd episode reward': 10.613146933018852, 'mean discounted episode reward': 9.540301079787401, 'sd discounted episode reward': 8.472958386557611}\n"
     ]
    }
   ],
   "source": [
    "print(demo_stats(mdp, IDL_trans_demos))"
   ]
  },
  {
   "cell_type": "code",
   "execution_count": 82,
   "metadata": {},
   "outputs": [
    {
     "name": "stdout",
     "output_type": "stream",
     "text": [
      "{'mean episode reward': 16.397288065671972, 'sd episode reward': 5.05682339145125, 'mean discounted episode reward': 13.132312860578265, 'sd discounted episode reward': 4.149404578780691}\n"
     ]
    }
   ],
   "source": [
    "print(demo_stats(mdp, SERD_trans_demos))"
   ]
  },
  {
   "cell_type": "code",
   "execution_count": 83,
   "metadata": {},
   "outputs": [
    {
     "data": {
      "image/png": "[encoded data removed]",
      "text/plain": [
       "<Figure size 576x576 with 1 Axes>"
      ]
     },
     "metadata": {},
     "output_type": "display_data"
    }
   ],
   "source": [
    "plot_values(mdp, Qit)"
   ]
  },
  {
   "cell_type": "code",
   "execution_count": 84,
   "metadata": {},
   "outputs": [
    {
     "data": {
      "image/png": "[encoded data removed]",
      "text/plain": [
       "<Figure size 576x576 with 1 Axes>"
      ]
     },
     "metadata": {},
     "output_type": "display_data"
    }
   ],
   "source": [
    "plot_values(mdp, Qst)"
   ]
  },
  {
   "cell_type": "code",
   "execution_count": 85,
   "metadata": {},
   "outputs": [
    {
     "data": {
      "image/png": "[encoded data removed]",
      "text/plain": [
       "<Figure size 576x576 with 1 Axes>"
      ]
     },
     "metadata": {},
     "output_type": "display_data"
    }
   ],
   "source": [
    "Qtrue = tabsoftq_learn_Qs(mdp)\n",
    "plot_values(mdp,Qtrue)"
   ]
  },
  {
   "cell_type": "code",
   "execution_count": null,
   "metadata": {},
   "outputs": [],
   "source": []
  },
  {
   "cell_type": "code",
   "execution_count": null,
   "metadata": {},
   "outputs": [],
   "source": []
  }
 ],
 "metadata": {
  "kernelspec": {
   "display_name": "Python 3",
   "language": "python",
   "name": "python3"
  },
  "language_info": {
   "codemirror_mode": {
    "name": "ipython",
    "version": 3
   },
   "file_extension": ".py",
   "mimetype": "text/x-python",
   "name": "python",
   "nbconvert_exporter": "python",
   "pygments_lexer": "ipython3",
   "version": "3.6.8"
  }
 },
 "nbformat": 4,
 "nbformat_minor": 2
}
