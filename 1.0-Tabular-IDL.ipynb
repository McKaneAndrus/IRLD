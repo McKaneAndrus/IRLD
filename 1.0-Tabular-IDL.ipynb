{
 "cells": [
  {
   "cell_type": "code",
   "execution_count": 1,
   "metadata": {},
   "outputs": [],
   "source": [
    "# Covers tabular implementations of SERD and IDL and compares their effectivenes"
   ]
  },
  {
   "cell_type": "code",
   "execution_count": 2,
   "metadata": {},
   "outputs": [],
   "source": [
    "import numpy as np\n",
    "from envs import MarsExplorerEnv\n",
    "import matplotlib.pyplot as plt\n",
    "import time\n",
    "import matplotlib.cm as cm\n",
    "import matplotlib.colors as colors\n",
    "import os\n",
    "import seaborn as sns\n",
    "from matplotlib.offsetbox import AnnotationBbox, OffsetImage\n",
    "from matplotlib._png import read_png\n",
    "import pickle as pkl\n",
    "%matplotlib inline\n",
    "\n",
    "import gym\n",
    "from gym import spaces\n",
    "from gym.envs.classic_control import rendering\n",
    "import tensorflow as tf\n",
    "from scipy.special import logsumexp\n",
    "from copy import deepcopy as copy\n",
    "import random\n",
    "np.set_printoptions(precision=8, suppress=True,threshold=np.nan)"
   ]
  },
  {
   "cell_type": "code",
   "execution_count": 3,
   "metadata": {},
   "outputs": [],
   "source": [
    "# %store -r"
   ]
  },
  {
   "cell_type": "code",
   "execution_count": 4,
   "metadata": {},
   "outputs": [],
   "source": [
    "#%store"
   ]
  },
  {
   "cell_type": "code",
   "execution_count": 5,
   "metadata": {},
   "outputs": [],
   "source": [
    "LEFT = 0\n",
    "DOWN = 1\n",
    "RIGHT = 2\n",
    "UP = 3\n",
    "NOOP = 4\n",
    "\n",
    "cdict = {'red':   ((0.0,  0.173, 0.173),\n",
    "                   (1.0,  0.925, 0.925)),\n",
    "\n",
    "         'green': ((0.0,  0.067, 0.067),\n",
    "                   (1.0, 0.384, 0.384)),\n",
    "\n",
    "         'blue':  ((0.0,  0.027, 0.027),\n",
    "                   (1.0,  0.196, 0.196))}\n",
    "plt.register_cmap(name='RustPlanet', data=cdict)\n",
    "REWARD_COLORS = cm.get_cmap('RustPlanet')\n",
    "AGENT_COLORS = cm.get_cmap('gray')\n",
    "MAP_COLORS = {b'B':\"#3a0e00\",\n",
    "              b'F':\"#933111\",\n",
    "              b'S':\"#933111\",\n",
    "              b'U':\"#d65b33\",\n",
    "              b'1':\"#956F52\",\n",
    "              b'2':\"#3C2F34\",\n",
    "              b'3':\"#644C42\"}\n",
    "\n",
    "ROVER_PNGS = {LEFT:\"resources/rover_left.png\",\n",
    "        RIGHT:\"resources/rover_right.png\",\n",
    "        DOWN:\"resources/rover_down.png\",\n",
    "        UP:\"resources/rover_up.png\",\n",
    "        NOOP:\"resources/rover_sample.png\"}\n",
    "\n",
    "# tile_map = [\n",
    "#         \"F3FFUFU2U\",\n",
    "#         \"FUFUSUFUF\",\n",
    "#         \"FFFUSUFFU\",\n",
    "#         \"USUUUUUSU\",\n",
    "#         \"FFUSSSUFF\",\n",
    "#         \"FSFUSUFSF\",\n",
    "#         \"UUUUUUUFU\",\n",
    "#         \"UFFU1UFUU\",\n",
    "#         \"3UUFUFFU1\"\n",
    "#     ]\n",
    "\n",
    "# tile_map = [\n",
    "#         \"F22222FF1\",\n",
    "#         \"U31122FU1\",\n",
    "#         \"UF1112FU1\",\n",
    "#         \"UFUU1SFU1\",\n",
    "#         \"UFFU1FFU3\",\n",
    "#         \"3222UFS1U\",\n",
    "#         \"UUU22F1FU\",\n",
    "#         \"FSSFS12SF\",\n",
    "#         \"FSFF121FF\",\n",
    "#         \"S1S2SFFSF\",\n",
    "#         \"FUUUFFSFU\",\n",
    "#         \"U3UUUFSFU\",\n",
    "#         \"FFFUUFUUU\"\n",
    "#     ]\n",
    "\n",
    "\n",
    "tile_map = [\n",
    "        \"2FFFUFFF1\",\n",
    "        \"FFFUUUFFF\",\n",
    "        \"FFFFUFFFF\",\n",
    "        \"FSFUUUFSF\",\n",
    "        \"FSUU3UUSF\",\n",
    "        \"FSFUUUFSF\",\n",
    "        \"FFFFUFFFF\",\n",
    "        \"FFFSSSFFF\",\n",
    "        \"1FFFFFFF2\"\n",
    "    ]\n",
    "\n",
    "# tile_map = [\n",
    "#         \"3FFFFFFF1\",\n",
    "#         \"FFFFFFFFF\",\n",
    "#         \"FFFFUFFFF\",\n",
    "#         \"FSFUUUFSF\",\n",
    "#         \"FSUU3UUSF\",\n",
    "#         \"FSFUUUFSF\",\n",
    "#         \"FFFFUFFFF\",\n",
    "#         \"FFFSSSFFF\",\n",
    "#         \"1FFFFFFF2\"\n",
    "#     ]\n",
    "\n",
    "tile_rewards = {'F':0.05,\n",
    "              '1':0.1,\n",
    "              '2':0.1,\n",
    "              '3':0.1,\n",
    "              'S':0.01,\n",
    "              'U':0.0}\n",
    "\n",
    "\n",
    "goal_tile_rewards = {'F':0.0,\n",
    "              '1':1.0,\n",
    "              '2':2.0,\n",
    "              '3':4.0,\n",
    "              'S':0.0,\n",
    "              'U':0.0}\n",
    "\n",
    "tile_reward_modifier = lambda r,x,y,mx,my: r * 0.1 * ((x-(mx/2 + np.random.normal(scale=0.5)))**2 + (y - (mx/2 + np.random.normal(scale=0.5)))**2)\n",
    "\n",
    "def build_reward_map(tile_map, tile_rewards, goal_tile_rewards, tile_reward_modifier):\n",
    "    reward_map = np.zeros((len(tile_map),len(tile_map[0])))\n",
    "    texture_map = np.zeros((len(tile_map),len(tile_map[0])))\n",
    "    for y,row in enumerate(tile_map):\n",
    "        for x,c in enumerate(row):\n",
    "            reward_map[y,x] = texture_map[y,x] = tile_reward_modifier(tile_rewards[c],x,y,len(tile_map[0]),len(tile_map))\n",
    "            reward_map[y,x] +=  goal_tile_rewards[c]\n",
    "    return reward_map, texture_map\n",
    "\n",
    "reward_map, texture_map = build_reward_map(tile_map, tile_rewards, goal_tile_rewards, tile_reward_modifier)\n",
    "\n",
    "\n",
    "t0 = (0.8,0.1,0.0,0.0)\n",
    "t1 = (0.0,0.0,0.0,1.0)  #(0.1,0.15,0.5,0.1)\n",
    "\n",
    "trans_dict = {b'F':t0,\n",
    "              b'1':t0,\n",
    "              b'2':t0,\n",
    "              b'3':t0,\n",
    "              b'S':t0,\n",
    "              b'U':t1}\n",
    "\n",
    "#TODO implement theta_mat in mars_explorer so do not need to hard code, use np.roll\n",
    "true_tps = np.array([[[0.8, 0.],\n",
    "  [0.1, 0.],\n",
    "  [0.0, 0.],\n",
    "  [0.1, 0.],\n",
    "  [0.0, 1.]],\n",
    "\n",
    " [[0.1, 0.],\n",
    "  [0.8, 0.],\n",
    "  [0.1, 0.],\n",
    "  [0.0, 0.],\n",
    "  [0.0, 1.]],\n",
    "\n",
    " [[0.0, 0.],\n",
    "  [0.1, 0.],\n",
    "  [0.8, 0.],\n",
    "  [0.1, 0.],\n",
    "  [0.0, 1.]],\n",
    "\n",
    " [[0.1, 0.],\n",
    "  [0.0, 0.],\n",
    "  [0.1, 0.],\n",
    "  [0.8, 0.],\n",
    "  [0.0, 1.]],\n",
    "\n",
    " [[0., 0.],\n",
    "  [0., 0.],\n",
    "  [0., 0.],\n",
    "  [0., 0.],\n",
    "  [1., 1.]]])\n",
    "\n",
    "gamma = 0.98\n",
    "\n",
    "alpha = 0.0001\n",
    "\n",
    "T_theta_shape = (5,5,2)\n",
    "\n",
    "time_penalty = 0.0\n"
   ]
  },
  {
   "cell_type": "code",
   "execution_count": 6,
   "metadata": {},
   "outputs": [],
   "source": [
    "# reward_normalizer = (1-gamma)/(np.max(reward_map))\n",
    "# reward_map *= reward_normalizer\n",
    "# time_penalty *= reward_normalizer"
   ]
  },
  {
   "cell_type": "code",
   "execution_count": 7,
   "metadata": {},
   "outputs": [],
   "source": [
    "# temperature = 1/(reward_normalizer)\n",
    "# print(temperature)"
   ]
  },
  {
   "cell_type": "code",
   "execution_count": 8,
   "metadata": {},
   "outputs": [
    {
     "data": {
      "text/plain": [
       "<matplotlib.image.AxesImage at 0x12d28c2e8>"
      ]
     },
     "execution_count": 8,
     "metadata": {},
     "output_type": "execute_result"
    },
    {
     "data": {
      "image/png": "[encoded data removed]",
      "text/plain": [
       "<Figure size 432x288 with 1 Axes>"
      ]
     },
     "metadata": {},
     "output_type": "display_data"
    }
   ],
   "source": [
    "plt.imshow(reward_map, cmap=\"Blues\")"
   ]
  },
  {
   "cell_type": "code",
   "execution_count": 9,
   "metadata": {},
   "outputs": [
    {
     "data": {
      "text/plain": [
       "<matplotlib.image.AxesImage at 0x12d6029b0>"
      ]
     },
     "execution_count": 9,
     "metadata": {},
     "output_type": "execute_result"
    },
    {
     "data": {
      "image/png": "[encoded data removed]",
      "text/plain": [
       "<Figure size 432x288 with 1 Axes>"
      ]
     },
     "metadata": {},
     "output_type": "display_data"
    }
   ],
   "source": [
    "plt.imshow(texture_map, cmap=\"Blues\")"
   ]
  },
  {
   "cell_type": "code",
   "execution_count": 10,
   "metadata": {},
   "outputs": [
    {
     "data": {
      "text/plain": [
       "<matplotlib.image.AxesImage at 0x12d6ccda0>"
      ]
     },
     "execution_count": 10,
     "metadata": {},
     "output_type": "execute_result"
    },
    {
     "data": {
      "image/png": "[encoded data removed]",
      "text/plain": [
       "<Figure size 432x288 with 1 Axes>"
      ]
     },
     "metadata": {},
     "output_type": "display_data"
    }
   ],
   "source": [
    "plt.imshow(reward_map - texture_map, cmap=\"Blues\")"
   ]
  },
  {
   "cell_type": "code",
   "execution_count": 11,
   "metadata": {},
   "outputs": [],
   "source": [
    "mdp = MarsExplorerEnv(tile_map, reward_map, texture_map, trans_dict, time_penalty) \n",
    "nA = mdp.num_actions\n",
    "nS = mdp.num_states"
   ]
  },
  {
   "cell_type": "code",
   "execution_count": 12,
   "metadata": {},
   "outputs": [
    {
     "data": {
      "text/plain": [
       "<matplotlib.image.AxesImage at 0x12d861b70>"
      ]
     },
     "execution_count": 12,
     "metadata": {},
     "output_type": "execute_result"
    },
    {
     "data": {
      "image/png": "[encoded data removed]",
      "text/plain": [
       "<Figure size 432x288 with 1 Axes>"
      ]
     },
     "metadata": {},
     "output_type": "display_data"
    }
   ],
   "source": [
    "binary_map = np.ones(mdp.tile_map.shape)\n",
    "binary_map[np.where(mdp.tile_map == b'S')] = 255.0\n",
    "plt.imshow(binary_map, cmap=\"Blues\")"
   ]
  },
  {
   "cell_type": "code",
   "execution_count": 13,
   "metadata": {},
   "outputs": [],
   "source": [
    "def plot_mars(mdp, pi, term = 40, title=None, counts = None, Qs = None):\n",
    "    background = np.array([colors.to_rgb(MAP_COLORS[l]) for l in mdp.tile_map.flat]).reshape(mdp.nrow, mdp.ncol,3)\n",
    "    s = mdp._reset()\n",
    "    t, r = 0, 0\n",
    "    while s is not None and t < term:\n",
    "        fig = plt.figure(figsize=(4,4))\n",
    "        if title != None:\n",
    "            plt.title(title)\n",
    "        plt.imshow(background)\n",
    "        plt.axes().get_xaxis().set_visible(False)\n",
    "        plt.axes().get_yaxis().set_visible(False)\n",
    "        ax = plt.gca()\n",
    "        a = pi[s] if type(pi) == np.ndarray else pi(s)\n",
    "        img_path = ROVER_PNGS[a]\n",
    "        arr_hand = read_png(img_path)\n",
    "        imagebox = OffsetImage(arr_hand, zoom=.5)\n",
    "        xy = [s%background.shape[1], s//background.shape[1]]  # coordinates to position this image\n",
    "\n",
    "        ab = AnnotationBbox(imagebox, xy,\n",
    "                            xybox=(0, 0),\n",
    "                            xycoords='data',\n",
    "                            boxcoords=\"offset points\",\n",
    "                            frameon=False)\n",
    "        ax.add_artist(ab)\n",
    "        fig.text(0.13, 0.05, 't: {}      r: {}'.format(t,round(r,4)), ha='left', fontsize=10)\n",
    "        sns.despine(bottom=True,left=True,right=True,top=True)\n",
    "        plt.show()\n",
    "        if Qs is not None:\n",
    "            print(Qs[s])\n",
    "            print(a)\n",
    "            print(softmax(Qs[s]))\n",
    "        print(mdp.s_to_grid(s), mdp.tile_map.flatten()[s])\n",
    "        s, rt, _, d = mdp._step(a)\n",
    "        print(mdp.s_to_grid(s), mdp.tile_map.flatten()[s])\n",
    "        t += 1\n",
    "        r += rt\n",
    "    if counts:\n",
    "        fig.text(0.87, 0.05, 'F: {}  L/R: {}  B: {}  S: {}'.format(counts['F'], counts['LR'], counts['B'], counts['S']), ha='right', fontsize=10)\n",
    "    #     plt.savefig(folder+\"/\"+str(t)+\".png\", format='png')\n",
    "    return\n",
    "\n",
    "def plot_mars_history(mdp, hist, title=None, counts = None):\n",
    "    background = np.array([colors.to_rgb(MAP_COLORS[l]) for l in mdp.tile_map.flat]).reshape(mdp.nrow, mdp.ncol,3)\n",
    "    t = 0\n",
    "    for s,a,sprime in [h[0] for h in hist]:\n",
    "        fig = plt.figure(figsize=(4,4))\n",
    "        if title != None:\n",
    "            plt.title(title)\n",
    "        plt.imshow(background)\n",
    "        plt.axes().get_xaxis().set_visible(False)\n",
    "        plt.axes().get_yaxis().set_visible(False)\n",
    "        ax = plt.gca()\n",
    "        img_path = ROVER_PNGS[a]\n",
    "        arr_hand = read_png(img_path)\n",
    "        imagebox = OffsetImage(arr_hand, zoom=.5)\n",
    "        xy = [s%background.shape[1], s//background.shape[1]]  # coordinates to position this image\n",
    "\n",
    "        ab = AnnotationBbox(imagebox, xy,\n",
    "                            xybox=(0, 0),\n",
    "                            xycoords='data',\n",
    "                            boxcoords=\"offset points\",\n",
    "                            frameon=False)\n",
    "        ax.add_artist(ab)\n",
    "        fig.text(0.13, 0.05, 't: {}'.format(t), ha='left', fontsize=10)\n",
    "        sns.despine(bottom=True,left=True,right=True,top=True)\n",
    "        plt.show()\n",
    "        t += 1\n",
    "    if counts:\n",
    "        fig.text(0.87, 0.05, 'F: {}  L/R: {}  B: {}  S: {}'.format(counts['F'], counts['LR'], counts['B'], counts['S']), ha='right', fontsize=10)\n",
    "    #     plt.savefig(folder+\"/\"+str(t)+\".png\", format='png')\n",
    "    return\n",
    "\n",
    "def plot_values(mdp, Qs, s=None, title=None):\n",
    "    V = np.max(Qs, axis=1).reshape((mdp.nrow,mdp.ncol))\n",
    "    pi = np.argmax(Qs, axis=1)\n",
    "    plt.figure(figsize=(8,8))\n",
    "    if title != None:\n",
    "        plt.title(title)\n",
    "    plt.imshow(V, cmap='gray')#, clim=(0,1)) 'gist_ncar'\n",
    "    ax = plt.gca()\n",
    "    ax.set_xticks(np.arange(V.shape[1])-.5)\n",
    "    ax.set_yticks(np.arange(V.shape[0])-.5)\n",
    "    ax.set_xticklabels([])\n",
    "    ax.set_yticklabels([])\n",
    "    Y, X = np.mgrid[0:V.shape[0], 0:V.shape[1]]\n",
    "    a2uv = {0: (-1, 0), 1:(0, -1), 2:(1,0), 3:(0, 1), 4:(-1,-1)}\n",
    "    Pi = pi.reshape(V.shape)\n",
    "    for y in range(V.shape[0]):\n",
    "        for x in range(V.shape[1]):\n",
    "            a = Pi[y, x]\n",
    "            u, v = a2uv[a]\n",
    "            plt.arrow(x, y,u*.3, -v*.3, color='m', head_width=0.2, head_length=0.1) \n",
    "            plt.text(x, y, str(mdp.tile_map[y,x].item().decode()),\n",
    "                     color='c', size=12,  verticalalignment='center',\n",
    "                     horizontalalignment='center', fontweight='bold')\n",
    "    if s != None:\n",
    "        plt.plot(s%V.shape[0], s//V.shape[0], 'ro')\n",
    "#     plt.grid(color='b', lw=2, ls='-')\n",
    "    return"
   ]
  },
  {
   "cell_type": "markdown",
   "metadata": {},
   "source": [
    "# Soft-Q Learning"
   ]
  },
  {
   "cell_type": "code",
   "execution_count": 14,
   "metadata": {},
   "outputs": [],
   "source": [
    "def softmax(x, axis=1):\n",
    "    \"\"\"Compute softmax values for each sets of scores in x.\"\"\"\n",
    "    axis = 0 if len(x.shape) == 1 else axis\n",
    "    e_x = np.exp(x - np.max(x, axis=axis,keepdims=True))\n",
    "    return (e_x / e_x.sum(axis=axis, keepdims = True))"
   ]
  },
  {
   "cell_type": "code",
   "execution_count": 15,
   "metadata": {},
   "outputs": [],
   "source": [
    "def tabsoftq_iter(R, T, maxiter=10000, verbose=False, Q_init=None, learning_rate=0.5, ftol=1e-32):\n",
    "    Q = np.zeros((nS, nA)) if Q_init is None else copy(Q_init)\n",
    "    prevQ = copy(Q)\n",
    "    if verbose:\n",
    "        diffs = []\n",
    "        meanVs = []\n",
    "    for iter_idx in range(maxiter):\n",
    "        V = alpha * logsumexp(prevQ / alpha, axis=1)\n",
    "        V_broad = V.reshape((1, 1, nS))\n",
    "        Q = np.sum(T * (R + gamma * V_broad), axis=2)\n",
    "        Q = (1 - learning_rate) * prevQ + learning_rate * Q\n",
    "        diff = np.mean((Q - prevQ)**2)/(np.std(Q)**2)\n",
    "        if verbose:\n",
    "            diffs.append(diff)\n",
    "            meanVs.append(np.mean(V)) \n",
    "        if diff < ftol:\n",
    "            break\n",
    "        prevQ = copy(Q)\n",
    "    if verbose:\n",
    "        plt.xlabel('Number of Iterations')\n",
    "        plt.ylabel('Avg. Squared Bellman Error')\n",
    "        plt.title('Soft Q Iteration')\n",
    "        plt.plot(diffs)\n",
    "        plt.yscale('log')\n",
    "        plt.show()\n",
    "        plt.xlabel('Number of Iterations')\n",
    "        plt.ylabel('Avg. Value of All Tiles')\n",
    "        plt.title('Soft Q Iteration')\n",
    "        plt.plot(meanVs)\n",
    "        plt.show()\n",
    "    return Q"
   ]
  },
  {
   "cell_type": "code",
   "execution_count": 16,
   "metadata": {},
   "outputs": [],
   "source": [
    "def tabsoftq_learn_Qs(mdp):\n",
    "    R = mdp.rewards\n",
    "    T = mdp.get_transition_matrix()\n",
    "    Qs = tabsoftq_iter(R, T)\n",
    "    return Qs\n",
    "\n",
    "def tabsoftq_gen_pol(Qs, beta=1):\n",
    "    softQs = softmax(Qs * beta)\n",
    "    return lambda s: np.random.choice(np.asarray(range(len(Qs[s]))),p=softQs[s])\n",
    "\n",
    "def tabsoftq_gen_pol_probs(Qs, beta=1):\n",
    "    softQs = softmax(Qs * beta)\n",
    "    return softQs\n"
   ]
  },
  {
   "cell_type": "code",
   "execution_count": 17,
   "metadata": {},
   "outputs": [],
   "source": [
    "def generate_demonstrations(mdp, pol, n, term):\n",
    "    hists = []\n",
    "    for i in range(n):\n",
    "        s, d, t = mdp._reset(), False, 0\n",
    "        hist = []\n",
    "        while not d and t < term:\n",
    "            a = pol[s] if type(pol) == np.ndarray else pol(s)\n",
    "            sprime, rt, _, ob_dict = mdp._step(a)\n",
    "            hist += [((s,a,sprime),ob_dict['adt'])]\n",
    "            t += 1\n",
    "            s = sprime\n",
    "        hists += [hist]\n",
    "    return hists"
   ]
  },
  {
   "cell_type": "code",
   "execution_count": 18,
   "metadata": {},
   "outputs": [],
   "source": [
    "def tabsoftq_T_grad_iter(T_thetas, Q, R, T=None, maxiter=1000, verbose=True,\n",
    "                       learning_rate=1, G_init=None, ftol=0):\n",
    "    \n",
    "    T_theta_dim = T_thetas.shape[0] * T_thetas.shape[1] * T_thetas.shape[2]\n",
    "    D = T_thetas.shape[1]\n",
    "    \n",
    "    P_broad = tabsoftq_gen_pol_probs(Q).reshape((nS, nA, 1))\n",
    "    Tps = softmax(T_thetas,axis=1)\n",
    "    \n",
    "    if T is None:\n",
    "        T = mdp.adt_trans_to_sas_trans(Tps)\n",
    "        \n",
    "    V = (alpha) * logsumexp(Q * (1 / alpha), axis=1)\n",
    "    \n",
    "    T_grad = np.zeros((nS,nA,T_theta_dim))\n",
    "    for s in range(nS):\n",
    "        t = mdp.get_tile_type(s)\n",
    "        for a in range(nA):\n",
    "            P_at = Tps[a,:,t]\n",
    "            V_theta = np.array([V[mdp.sd_to_sprime(s,d)] for d in range(D)])\n",
    "            R_theta = np.array([R[mdp.sd_to_sprime(s,d)] for d in range(D)])\n",
    "            VR_theta = R_theta + gamma * V_theta \n",
    "            D_probs = np.stack([P_at for _ in range(D)])\n",
    "            grad_at = np.dot((np.eye(D) - D_probs), VR_theta)\n",
    "            grad_at = np.dot(np.diag(P_at),grad_at)\n",
    "            filler = np.zeros(T_thetas.shape)\n",
    "            filler[a,:,t] = grad_at\n",
    "            filler = filler.flatten()\n",
    "            T_grad[s,a] = filler\n",
    "    G = T_grad if G_init is None else G_init\n",
    "    T_broad = T.reshape((nS, nA, nS, 1))\n",
    "    prevG = copy(G)\n",
    "    if verbose:\n",
    "        diffs = []\n",
    "    for iter_idx in range(maxiter):\n",
    "        expG = np.sum(P_broad * G, axis=1)\n",
    "        expG_broad = expG.reshape((1, 1, nS, T_theta_dim))\n",
    "        G = gamma * T_grad\n",
    "        t_expG = np.sum(T_broad * expG_broad, axis=2)\n",
    "        G += gamma * t_expG\n",
    "        G = (1 - learning_rate) * prevG + learning_rate * G\n",
    "    \n",
    "        diff = np.mean((G - prevG)**2)/(np.std(G)**2)\n",
    "        if verbose:\n",
    "            diffs.append(diff)\n",
    "        if diff < ftol:\n",
    "            break\n",
    "        prevG = copy(G)\n",
    "  \n",
    "    if verbose:\n",
    "        plt.xlabel('Number of Iterations')\n",
    "        plt.ylabel('Avg. Squared Bellman Error')\n",
    "        plt.title('Soft Q Gradient Iteration')\n",
    "        plt.plot(diffs)\n",
    "        plt.yscale('log')\n",
    "        plt.show()\n",
    "    expG = np.sum(P_broad * G, axis=1)\n",
    "    expG_broad = expG.reshape((nS, 1, T_theta_dim))\n",
    "    return (G - expG_broad)"
   ]
  },
  {
   "cell_type": "code",
   "execution_count": 19,
   "metadata": {},
   "outputs": [],
   "source": [
    "def vectorize_rollouts(rollouts):\n",
    "    sas_obs = []\n",
    "    adt_obs = []\n",
    "    task_idxes = []\n",
    "    for rollout in rollouts:\n",
    "        more_sas, more_adt = list(zip(*rollout))\n",
    "        sas_obs.extend(more_sas)\n",
    "        adt_obs.extend(more_adt)\n",
    "    return np.array(sas_obs), np.array(adt_obs)"
   ]
  },
  {
   "cell_type": "markdown",
   "metadata": {},
   "source": [
    "Sanity check (env and softq)"
   ]
  },
  {
   "cell_type": "code",
   "execution_count": 20,
   "metadata": {
    "scrolled": true
   },
   "outputs": [
    {
     "name": "stderr",
     "output_type": "stream",
     "text": [
      "/Users/mckaneandrus/anaconda2/envs/irld/lib/python3.6/site-packages/matplotlib/cbook/deprecation.py:107: MatplotlibDeprecationWarning: Adding an axes using the same arguments as a previous axes currently reuses the earlier instance.  In a future version, a new instance will always be created and returned.  Meanwhile, this warning can be suppressed, and the future behavior ensured, by passing a unique label to each axes instance.\n",
      "  warnings.warn(message, mplDeprecation, stacklevel=1)\n"
     ]
    },
    {
     "data": {
      "image/png": "[encoded data removed]",
      "text/plain": [
       "<Figure size 288x288 with 1 Axes>"
      ]
     },
     "metadata": {},
     "output_type": "display_data"
    },
    {
     "name": "stdout",
     "output_type": "stream",
     "text": [
      "[ 98.81592262 108.11963144 108.81378581  96.27587596 106.64515598]\n",
      "2\n",
      "[0.00002819 0.30950051 0.61962479 0.00000222 0.07084428]\n",
      "(5, 7) b'S'\n",
      "(6, 7) b'F'\n"
     ]
    },
    {
     "data": {
      "image/png": "[encoded data removed]",
      "text/plain": [
       "<Figure size 288x288 with 1 Axes>"
      ]
     },
     "metadata": {},
     "output_type": "display_data"
    },
    {
     "name": "stdout",
     "output_type": "stream",
     "text": [
      "[107.32942791 112.61826372 112.81779733 107.51831603 110.60255221]\n",
      "2\n",
      "[0.00213412 0.4227966  0.51616414 0.00257782 0.05632732]\n",
      "(6, 7) b'F'\n",
      "(7, 7) b'F'\n"
     ]
    },
    {
     "data": {
      "image/png": "[encoded data removed]",
      "text/plain": [
       "<Figure size 288x288 with 1 Axes>"
      ]
     },
     "metadata": {},
     "output_type": "display_data"
    },
    {
     "name": "stdout",
     "output_type": "stream",
     "text": [
      "[111.17435928 115.74157329 115.70964446 111.17180902 113.50561776]\n",
      "2\n",
      "[0.00495506 0.47705082 0.46205975 0.00494244 0.05099194]\n",
      "(7, 7) b'F'\n",
      "(8, 7) b'F'\n"
     ]
    },
    {
     "data": {
      "image/png": "[encoded data removed]",
      "text/plain": [
       "<Figure size 288x288 with 1 Axes>"
      ]
     },
     "metadata": {},
     "output_type": "display_data"
    },
    {
     "name": "stdout",
     "output_type": "stream",
     "text": [
      "[114.06902269 118.58394126 116.613936   113.57076204 116.27165868]\n",
      "1\n",
      "[0.00871318 0.79612428 0.11102441 0.00529401 0.07884412]\n",
      "(8, 7) b'F'\n",
      "(8, 8) b'2'\n"
     ]
    },
    {
     "data": {
      "image/png": "[encoded data removed]",
      "text/plain": [
       "<Figure size 288x288 with 1 Axes>"
      ]
     },
     "metadata": {},
     "output_type": "display_data"
    },
    {
     "name": "stdout",
     "output_type": "stream",
     "text": [
      "[116.67896349 119.59726449 119.49946774 116.63342803 119.45587943]\n",
      "4\n",
      "[0.01875469 0.3471458  0.31480333 0.01791984 0.30137634]\n",
      "(8, 8) b'2'\n",
      "(8, 8) b'2'\n"
     ]
    },
    {
     "data": {
      "image/png": "[encoded data removed]",
      "text/plain": [
       "<Figure size 288x288 with 1 Axes>"
      ]
     },
     "metadata": {},
     "output_type": "display_data"
    },
    {
     "name": "stdout",
     "output_type": "stream",
     "text": [
      "[116.67896349 119.59726449 119.49946774 116.63342803 119.45587943]\n",
      "2\n",
      "[0.01875469 0.3471458  0.31480333 0.01791984 0.30137634]\n",
      "(8, 8) b'2'\n",
      "(0, 8) b'1'\n"
     ]
    },
    {
     "data": {
      "image/png": "[encoded data removed]",
      "text/plain": [
       "<Figure size 288x288 with 1 Axes>"
      ]
     },
     "metadata": {},
     "output_type": "display_data"
    },
    {
     "name": "stdout",
     "output_type": "stream",
     "text": [
      "[119.40881244 121.03554701 117.33607226 116.98149088 119.84332055]\n",
      "1\n",
      "[0.12746075 0.64842287 0.01603972 0.01125134 0.19682531]\n",
      "(0, 8) b'1'\n",
      "(0, 0) b'2'\n"
     ]
    },
    {
     "data": {
      "image/png": "[encoded data removed]",
      "text/plain": [
       "<Figure size 288x288 with 1 Axes>"
      ]
     },
     "metadata": {},
     "output_type": "display_data"
    },
    {
     "name": "stdout",
     "output_type": "stream",
     "text": [
      "[119.80583374 118.55956843 118.53840495 119.71151869 121.75432956]\n",
      "4\n",
      "[0.10529363 0.03028001 0.02964591 0.09581679 0.73896367]\n",
      "(0, 0) b'2'\n",
      "(0, 0) b'2'\n"
     ]
    },
    {
     "data": {
      "image/png": "[encoded data removed]",
      "text/plain": [
       "<Figure size 288x288 with 1 Axes>"
      ]
     },
     "metadata": {},
     "output_type": "display_data"
    },
    {
     "name": "stdout",
     "output_type": "stream",
     "text": [
      "[119.80583374 118.55956843 118.53840495 119.71151869 121.75432956]\n",
      "4\n",
      "[0.10529363 0.03028001 0.02964591 0.09581679 0.73896367]\n",
      "(0, 0) b'2'\n",
      "(0, 0) b'2'\n"
     ]
    },
    {
     "data": {
      "image/png": "[encoded data removed]",
      "text/plain": [
       "<Figure size 288x288 with 1 Axes>"
      ]
     },
     "metadata": {},
     "output_type": "display_data"
    },
    {
     "name": "stdout",
     "output_type": "stream",
     "text": [
      "[119.80583374 118.55956843 118.53840495 119.71151869 121.75432956]\n",
      "4\n",
      "[0.10529363 0.03028001 0.02964591 0.09581679 0.73896367]\n",
      "(0, 0) b'2'\n",
      "(0, 0) b'2'\n"
     ]
    },
    {
     "data": {
      "image/png": "[encoded data removed]",
      "text/plain": [
       "<Figure size 288x288 with 1 Axes>"
      ]
     },
     "metadata": {},
     "output_type": "display_data"
    },
    {
     "name": "stdout",
     "output_type": "stream",
     "text": [
      "[119.80583374 118.55956843 118.53840495 119.71151869 121.75432956]\n",
      "4\n",
      "[0.10529363 0.03028001 0.02964591 0.09581679 0.73896367]\n",
      "(0, 0) b'2'\n",
      "(0, 0) b'2'\n"
     ]
    },
    {
     "data": {
      "image/png": "[encoded data removed]",
      "text/plain": [
       "<Figure size 288x288 with 1 Axes>"
      ]
     },
     "metadata": {},
     "output_type": "display_data"
    },
    {
     "name": "stdout",
     "output_type": "stream",
     "text": [
      "[119.80583374 118.55956843 118.53840495 119.71151869 121.75432956]\n",
      "4\n",
      "[0.10529363 0.03028001 0.02964591 0.09581679 0.73896367]\n",
      "(0, 0) b'2'\n",
      "(0, 0) b'2'\n"
     ]
    },
    {
     "data": {
      "image/png": "[encoded data removed]",
      "text/plain": [
       "<Figure size 288x288 with 1 Axes>"
      ]
     },
     "metadata": {},
     "output_type": "display_data"
    },
    {
     "name": "stdout",
     "output_type": "stream",
     "text": [
      "[119.80583374 118.55956843 118.53840495 119.71151869 121.75432956]\n",
      "3\n",
      "[0.10529363 0.03028001 0.02964591 0.09581679 0.73896367]\n",
      "(0, 0) b'2'\n",
      "(8, 0) b'1'\n"
     ]
    },
    {
     "data": {
      "image/png": "[encoded data removed]",
      "text/plain": [
       "<Figure size 288x288 with 1 Axes>"
      ]
     },
     "metadata": {},
     "output_type": "display_data"
    },
    {
     "name": "stdout",
     "output_type": "stream",
     "text": [
      "[117.06616329 117.41716653 121.04450069 119.41827728 119.97645427]\n",
      "4\n",
      "[0.01180379 0.01676719 0.63065465 0.12403143 0.21674293]\n",
      "(8, 0) b'1'\n",
      "(8, 0) b'1'\n"
     ]
    },
    {
     "data": {
      "image/png": "[encoded data removed]",
      "text/plain": [
       "<Figure size 288x288 with 1 Axes>"
      ]
     },
     "metadata": {},
     "output_type": "display_data"
    },
    {
     "name": "stdout",
     "output_type": "stream",
     "text": [
      "[117.06616329 117.41716653 121.04450069 119.41827728 119.97645427]\n",
      "2\n",
      "[0.01180379 0.01676719 0.63065465 0.12403143 0.21674293]\n",
      "(8, 0) b'1'\n",
      "(0, 0) b'2'\n"
     ]
    },
    {
     "data": {
      "image/png": "[encoded data removed]",
      "text/plain": [
       "<Figure size 288x288 with 1 Axes>"
      ]
     },
     "metadata": {},
     "output_type": "display_data"
    },
    {
     "name": "stdout",
     "output_type": "stream",
     "text": [
      "[119.80583374 118.55956843 118.53840495 119.71151869 121.75432956]\n",
      "4\n",
      "[0.10529363 0.03028001 0.02964591 0.09581679 0.73896367]\n",
      "(0, 0) b'2'\n",
      "(0, 0) b'2'\n"
     ]
    },
    {
     "data": {
      "image/png": "[encoded data removed]",
      "text/plain": [
       "<Figure size 288x288 with 1 Axes>"
      ]
     },
     "metadata": {},
     "output_type": "display_data"
    },
    {
     "name": "stdout",
     "output_type": "stream",
     "text": [
      "[119.80583374 118.55956843 118.53840495 119.71151869 121.75432956]\n",
      "3\n",
      "[0.10529363 0.03028001 0.02964591 0.09581679 0.73896367]\n",
      "(0, 0) b'2'\n",
      "(0, 8) b'1'\n"
     ]
    },
    {
     "data": {
      "image/png": "[encoded data removed]",
      "text/plain": [
       "<Figure size 288x288 with 1 Axes>"
      ]
     },
     "metadata": {},
     "output_type": "display_data"
    },
    {
     "name": "stdout",
     "output_type": "stream",
     "text": [
      "[119.40881244 121.03554701 117.33607226 116.98149088 119.84332055]\n",
      "0\n",
      "[0.12746075 0.64842287 0.01603972 0.01125134 0.19682531]\n",
      "(0, 8) b'1'\n",
      "(0, 0) b'2'\n"
     ]
    },
    {
     "data": {
      "image/png": "[encoded data removed]",
      "text/plain": [
       "<Figure size 288x288 with 1 Axes>"
      ]
     },
     "metadata": {},
     "output_type": "display_data"
    },
    {
     "name": "stdout",
     "output_type": "stream",
     "text": [
      "[119.80583374 118.55956843 118.53840495 119.71151869 121.75432956]\n",
      "4\n",
      "[0.10529363 0.03028001 0.02964591 0.09581679 0.73896367]\n",
      "(0, 0) b'2'\n",
      "(0, 0) b'2'\n"
     ]
    },
    {
     "data": {
      "image/png": "[encoded data removed]",
      "text/plain": [
       "<Figure size 288x288 with 1 Axes>"
      ]
     },
     "metadata": {},
     "output_type": "display_data"
    },
    {
     "name": "stdout",
     "output_type": "stream",
     "text": [
      "[119.80583374 118.55956843 118.53840495 119.71151869 121.75432956]\n",
      "0\n",
      "[0.10529363 0.03028001 0.02964591 0.09581679 0.73896367]\n",
      "(0, 0) b'2'\n",
      "(8, 0) b'1'\n"
     ]
    },
    {
     "data": {
      "image/png": "[encoded data removed]",
      "text/plain": [
       "<Figure size 288x288 with 1 Axes>"
      ]
     },
     "metadata": {},
     "output_type": "display_data"
    },
    {
     "name": "stdout",
     "output_type": "stream",
     "text": [
      "[117.06616329 117.41716653 121.04450069 119.41827728 119.97645427]\n",
      "3\n",
      "[0.01180379 0.01676719 0.63065465 0.12403143 0.21674293]\n",
      "(8, 0) b'1'\n",
      "(8, 8) b'2'\n"
     ]
    },
    {
     "data": {
      "image/png": "[encoded data removed]",
      "text/plain": [
       "<Figure size 288x288 with 1 Axes>"
      ]
     },
     "metadata": {},
     "output_type": "display_data"
    },
    {
     "name": "stdout",
     "output_type": "stream",
     "text": [
      "[116.67896349 119.59726449 119.49946774 116.63342803 119.45587943]\n",
      "2\n",
      "[0.01875469 0.3471458  0.31480333 0.01791984 0.30137634]\n",
      "(8, 8) b'2'\n",
      "(0, 8) b'1'\n"
     ]
    },
    {
     "data": {
      "image/png": "[encoded data removed]",
      "text/plain": [
       "<Figure size 288x288 with 1 Axes>"
      ]
     },
     "metadata": {},
     "output_type": "display_data"
    },
    {
     "name": "stdout",
     "output_type": "stream",
     "text": [
      "[119.40881244 121.03554701 117.33607226 116.98149088 119.84332055]\n",
      "4\n",
      "[0.12746075 0.64842287 0.01603972 0.01125134 0.19682531]\n",
      "(0, 8) b'1'\n",
      "(0, 8) b'1'\n"
     ]
    },
    {
     "data": {
      "image/png": "[encoded data removed]",
      "text/plain": [
       "<Figure size 288x288 with 1 Axes>"
      ]
     },
     "metadata": {},
     "output_type": "display_data"
    },
    {
     "name": "stdout",
     "output_type": "stream",
     "text": [
      "[119.40881244 121.03554701 117.33607226 116.98149088 119.84332055]\n",
      "4\n",
      "[0.12746075 0.64842287 0.01603972 0.01125134 0.19682531]\n",
      "(0, 8) b'1'\n",
      "(0, 8) b'1'\n"
     ]
    },
    {
     "data": {
      "image/png": "[encoded data removed]",
      "text/plain": [
       "<Figure size 288x288 with 1 Axes>"
      ]
     },
     "metadata": {},
     "output_type": "display_data"
    },
    {
     "name": "stdout",
     "output_type": "stream",
     "text": [
      "[119.40881244 121.03554701 117.33607226 116.98149088 119.84332055]\n",
      "0\n",
      "[0.12746075 0.64842287 0.01603972 0.01125134 0.19682531]\n",
      "(0, 8) b'1'\n",
      "(8, 8) b'2'\n"
     ]
    },
    {
     "data": {
      "image/png": "[encoded data removed]",
      "text/plain": [
       "<Figure size 288x288 with 1 Axes>"
      ]
     },
     "metadata": {},
     "output_type": "display_data"
    },
    {
     "name": "stdout",
     "output_type": "stream",
     "text": [
      "[116.67896349 119.59726449 119.49946774 116.63342803 119.45587943]\n",
      "1\n",
      "[0.01875469 0.3471458  0.31480333 0.01791984 0.30137634]\n",
      "(8, 8) b'2'\n",
      "(8, 0) b'1'\n"
     ]
    },
    {
     "data": {
      "image/png": "[encoded data removed]",
      "text/plain": [
       "<Figure size 288x288 with 1 Axes>"
      ]
     },
     "metadata": {},
     "output_type": "display_data"
    },
    {
     "name": "stdout",
     "output_type": "stream",
     "text": [
      "[117.06616329 117.41716653 121.04450069 119.41827728 119.97645427]\n",
      "4\n",
      "[0.01180379 0.01676719 0.63065465 0.12403143 0.21674293]\n",
      "(8, 0) b'1'\n",
      "(8, 0) b'1'\n"
     ]
    },
    {
     "data": {
      "image/png": "[encoded data removed]",
      "text/plain": [
       "<Figure size 288x288 with 1 Axes>"
      ]
     },
     "metadata": {},
     "output_type": "display_data"
    },
    {
     "name": "stdout",
     "output_type": "stream",
     "text": [
      "[117.06616329 117.41716653 121.04450069 119.41827728 119.97645427]\n",
      "4\n",
      "[0.01180379 0.01676719 0.63065465 0.12403143 0.21674293]\n",
      "(8, 0) b'1'\n",
      "(8, 0) b'1'\n"
     ]
    },
    {
     "data": {
      "image/png": "[encoded data removed]",
      "text/plain": [
       "<Figure size 288x288 with 1 Axes>"
      ]
     },
     "metadata": {},
     "output_type": "display_data"
    },
    {
     "name": "stdout",
     "output_type": "stream",
     "text": [
      "[117.06616329 117.41716653 121.04450069 119.41827728 119.97645427]\n",
      "4\n",
      "[0.01180379 0.01676719 0.63065465 0.12403143 0.21674293]\n",
      "(8, 0) b'1'\n",
      "(8, 0) b'1'\n"
     ]
    },
    {
     "data": {
      "image/png": "[encoded data removed]",
      "text/plain": [
       "<Figure size 288x288 with 1 Axes>"
      ]
     },
     "metadata": {},
     "output_type": "display_data"
    },
    {
     "name": "stdout",
     "output_type": "stream",
     "text": [
      "[117.06616329 117.41716653 121.04450069 119.41827728 119.97645427]\n",
      "3\n",
      "[0.01180379 0.01676719 0.63065465 0.12403143 0.21674293]\n",
      "(8, 0) b'1'\n",
      "(8, 8) b'2'\n"
     ]
    },
    {
     "data": {
      "image/png": "[encoded data removed]",
      "text/plain": [
       "<Figure size 288x288 with 1 Axes>"
      ]
     },
     "metadata": {},
     "output_type": "display_data"
    },
    {
     "name": "stdout",
     "output_type": "stream",
     "text": [
      "[116.67896349 119.59726449 119.49946774 116.63342803 119.45587943]\n",
      "1\n",
      "[0.01875469 0.3471458  0.31480333 0.01791984 0.30137634]\n",
      "(8, 8) b'2'\n",
      "(8, 0) b'1'\n"
     ]
    },
    {
     "data": {
      "image/png": "[encoded data removed]",
      "text/plain": [
       "<Figure size 288x288 with 1 Axes>"
      ]
     },
     "metadata": {},
     "output_type": "display_data"
    },
    {
     "name": "stdout",
     "output_type": "stream",
     "text": [
      "[117.06616329 117.41716653 121.04450069 119.41827728 119.97645427]\n",
      "4\n",
      "[0.01180379 0.01676719 0.63065465 0.12403143 0.21674293]\n",
      "(8, 0) b'1'\n",
      "(8, 0) b'1'\n"
     ]
    },
    {
     "data": {
      "image/png": "[encoded data removed]",
      "text/plain": [
       "<Figure size 288x288 with 1 Axes>"
      ]
     },
     "metadata": {},
     "output_type": "display_data"
    },
    {
     "name": "stdout",
     "output_type": "stream",
     "text": [
      "[117.06616329 117.41716653 121.04450069 119.41827728 119.97645427]\n",
      "2\n",
      "[0.01180379 0.01676719 0.63065465 0.12403143 0.21674293]\n",
      "(8, 0) b'1'\n",
      "(0, 0) b'2'\n"
     ]
    },
    {
     "data": {
      "image/png": "[encoded data removed]",
      "text/plain": [
       "<Figure size 288x288 with 1 Axes>"
      ]
     },
     "metadata": {},
     "output_type": "display_data"
    },
    {
     "name": "stdout",
     "output_type": "stream",
     "text": [
      "[119.80583374 118.55956843 118.53840495 119.71151869 121.75432956]\n",
      "1\n",
      "[0.10529363 0.03028001 0.02964591 0.09581679 0.73896367]\n",
      "(0, 0) b'2'\n",
      "(0, 1) b'F'\n"
     ]
    },
    {
     "data": {
      "image/png": "[encoded data removed]",
      "text/plain": [
       "<Figure size 288x288 with 1 Axes>"
      ]
     },
     "metadata": {},
     "output_type": "display_data"
    },
    {
     "name": "stdout",
     "output_type": "stream",
     "text": [
      "[117.25514853 115.38623739 116.186004   120.66071878 118.40338272]\n",
      "3\n",
      "[0.02875076 0.004436   0.0098702  0.86630279 0.09064025]\n",
      "(0, 1) b'F'\n",
      "(8, 1) b'F'\n"
     ]
    },
    {
     "data": {
      "image/png": "[encoded data removed]",
      "text/plain": [
       "<Figure size 288x288 with 1 Axes>"
      ]
     },
     "metadata": {},
     "output_type": "display_data"
    },
    {
     "name": "stdout",
     "output_type": "stream",
     "text": [
      "[114.69497318 114.440634   118.11884427 119.23385607 116.95449099]\n",
      "3\n",
      "[0.0073731  0.00571732 0.2262657  0.69002082 0.07062306]\n",
      "(8, 1) b'F'\n",
      "(8, 0) b'1'\n"
     ]
    },
    {
     "data": {
      "image/png": "[encoded data removed]",
      "text/plain": [
       "<Figure size 288x288 with 1 Axes>"
      ]
     },
     "metadata": {},
     "output_type": "display_data"
    },
    {
     "name": "stdout",
     "output_type": "stream",
     "text": [
      "[117.06616329 117.41716653 121.04450069 119.41827728 119.97645427]\n",
      "2\n",
      "[0.01180379 0.01676719 0.63065465 0.12403143 0.21674293]\n",
      "(8, 0) b'1'\n",
      "(0, 0) b'2'\n"
     ]
    },
    {
     "data": {
      "image/png": "[encoded data removed]",
      "text/plain": [
       "<Figure size 288x288 with 1 Axes>"
      ]
     },
     "metadata": {},
     "output_type": "display_data"
    },
    {
     "name": "stdout",
     "output_type": "stream",
     "text": [
      "[119.80583374 118.55956843 118.53840495 119.71151869 121.75432956]\n",
      "3\n",
      "[0.10529363 0.03028001 0.02964591 0.09581679 0.73896367]\n",
      "(0, 0) b'2'\n",
      "(0, 8) b'1'\n"
     ]
    },
    {
     "data": {
      "image/png": "[encoded data removed]",
      "text/plain": [
       "<Figure size 288x288 with 1 Axes>"
      ]
     },
     "metadata": {},
     "output_type": "display_data"
    },
    {
     "name": "stdout",
     "output_type": "stream",
     "text": [
      "[119.40881244 121.03554701 117.33607226 116.98149088 119.84332055]\n",
      "1\n",
      "[0.12746075 0.64842287 0.01603972 0.01125134 0.19682531]\n",
      "(0, 8) b'1'\n",
      "(0, 0) b'2'\n"
     ]
    },
    {
     "data": {
      "image/png": "[encoded data removed]",
      "text/plain": [
       "<Figure size 288x288 with 1 Axes>"
      ]
     },
     "metadata": {},
     "output_type": "display_data"
    },
    {
     "name": "stdout",
     "output_type": "stream",
     "text": [
      "[119.80583374 118.55956843 118.53840495 119.71151869 121.75432956]\n",
      "4\n",
      "[0.10529363 0.03028001 0.02964591 0.09581679 0.73896367]\n",
      "(0, 0) b'2'\n",
      "(0, 0) b'2'\n"
     ]
    }
   ],
   "source": [
    "Q = tabsoftq_learn_Qs(mdp)\n",
    "plot_mars(mdp,tabsoftq_gen_pol(Q),Qs=Q)\n"
   ]
  },
  {
   "cell_type": "code",
   "execution_count": 21,
   "metadata": {
    "scrolled": true
   },
   "outputs": [],
   "source": [
    "# print(mdp.feature_map)"
   ]
  },
  {
   "cell_type": "markdown",
   "metadata": {},
   "source": [
    "# Inverse Dynamics Learning"
   ]
  },
  {
   "cell_type": "code",
   "execution_count": 22,
   "metadata": {},
   "outputs": [],
   "source": [
    "def transition_grad(adt, tps):\n",
    "    a,d,t = adt\n",
    "    grad_theta_t = np.zeros(tps.shape)\n",
    "    grad_theta_t[a,d,t] += 1\n",
    "    grad_theta_t[a,:,t] -= tps[a,:,t]\n",
    "    return grad_theta_t\n"
   ]
  },
  {
   "cell_type": "code",
   "execution_count": 23,
   "metadata": {},
   "outputs": [],
   "source": [
    "def eval_pol_likelihood(Q, sas_obs, verbose=False):\n",
    "    ll = 0.0\n",
    "    for obs in sas_obs:\n",
    "        s,a,sprime = obs\n",
    "        l = np.log(softmax(Q[s])[a])\n",
    "        ll += l\n",
    "    return ll\n",
    "\n",
    "def eval_trans_likelihood(Tps, adt_obs, verbose=False):\n",
    "    ll = 0.0\n",
    "    for obs in adt_obs:\n",
    "        a,d,t, = obs\n",
    "        l = np.log(Tps[a,d,t])\n",
    "        ll += l\n",
    "    return ll\n",
    "\n",
    "def eval_trans_likelihood_and_grad(T_thetas, adt_obs):\n",
    "    Tps = softmax(T_thetas,axis=1)\n",
    "    dT = sum([transition_grad(adt,Tps) for adt in adt_obs]).reshape(T_thetas.shape) / len(adt_obs)\n",
    "    ll = eval_trans_likelihood(Tps, adt_obs)\n",
    "    return ll, dT\n",
    "\n",
    "def eval_demo_log_likelihood(sas_obs, adt_obs, T_thetas, Q):\n",
    "    Tps = softmax(T_thetas,axis=1)\n",
    "    p_ll = eval_pol_likelihood(Q, sas_obs)\n",
    "    t_ll = eval_trans_likelihood(Tps, adt_obs)\n",
    "    return p_ll, t_ll\n",
    "        "
   ]
  },
  {
   "cell_type": "code",
   "execution_count": 24,
   "metadata": {},
   "outputs": [],
   "source": [
    "def eval_T_pol_likelihood_and_grad(T_thetas, R, sas_obs, Q_inits=None, verbose=False):\n",
    "    s = [obs[0] for obs in sas_obs]\n",
    "    a = [obs[1] for obs in sas_obs]\n",
    "    Tps = softmax(T_thetas,axis=1)\n",
    "    T = mdp.adt_trans_to_sas_trans(Tps)\n",
    "    Q = tabsoftq_iter(R, T, Q_init=Q_inits, maxiter=tabsoftq_iter_maxiter, verbose=tabsoftq_iter_verbose,\n",
    "                      ftol=tabsoftq_iter_ftol)\n",
    "    dT = tabsoftq_T_grad_iter(T_thetas, Q, R, T=T, maxiter=tabsoftq_grad_iter_maxiter,\n",
    "        verbose=tabsoftq_grad_iter_verbose, ftol=tabsoftq_grad_iter_ftol)\n",
    "    # Sum instead of mean because sparse results\n",
    "    if verbose:\n",
    "        for obs in sas_obs:\n",
    "            print(obs)\n",
    "            print(dT[obs[0],obs[1]].reshape(T_thetas.shape))\n",
    "    dT = np.sum(dT[s,a], axis=0).reshape(T_thetas.shape) / len(sas_obs)\n",
    "    ll = eval_pol_likelihood(Q, sas_obs)\n",
    "    return ll, dT, Q\n"
   ]
  },
  {
   "cell_type": "markdown",
   "metadata": {},
   "source": [
    "# Simultaneous Estimation of Rewards and Dynamics"
   ]
  },
  {
   "cell_type": "code",
   "execution_count": 25,
   "metadata": {},
   "outputs": [],
   "source": [
    "def tabsoftq_TR_grad_iter(T_thetas, feat_map, R,  Q, T=None, maxiter=1000, verbose=True,\n",
    "                       learning_rate=1, G_init=None, ftol=0):\n",
    "    \n",
    "    T_theta_dim = T_thetas.shape[0] * T_thetas.shape[1] * T_thetas.shape[2]\n",
    "    D = T_thetas.shape[1]\n",
    "    \n",
    "    R_theta_dim = feat_map.shape[1]\n",
    "    \n",
    "    P_broad = tabsoftq_gen_pol_probs(Q).reshape((nS, nA, 1))\n",
    "    Tps = softmax(T_thetas,axis=1)\n",
    "    \n",
    "    if T is None:\n",
    "        T = mdp.adt_trans_to_sas_trans(Tps)\n",
    "        \n",
    "    V = (alpha) * logsumexp(Q * (1 / alpha), axis=1)\n",
    "    \n",
    "    R_grad = T.dot(feat_map)\n",
    "    \n",
    "    GR = np.zeros((nS, nA, R_theta_dim)) if G_init is None else G_init[0]\n",
    "    prevGR = copy(GR)\n",
    "    \n",
    "    T_grad = np.zeros((nS,nA,T_theta_dim))\n",
    "    for s in range(nS):\n",
    "        t = mdp.get_tile_type(s)\n",
    "        for a in range(nA):\n",
    "            P_at = Tps[a,:,t]\n",
    "            V_t = np.array([V[mdp.sd_to_sprime(s,d)] for d in range(D)])\n",
    "            R_t = np.array([R[mdp.sd_to_sprime(s,d)] for d in range(D)])\n",
    "            VR_t = R_t + gamma * V_t \n",
    "            D_probs = np.stack([P_at for _ in range(D)])\n",
    "            grad_at = np.dot((np.eye(D) - D_probs), VR_t)\n",
    "            grad_at = np.dot(np.diag(P_at),grad_at)\n",
    "            filler = np.zeros(T_thetas.shape)\n",
    "            filler[a,:,t] = grad_at\n",
    "            filler = filler.flatten()\n",
    "            T_grad[s,a] = filler\n",
    "              \n",
    "    GT = T_grad if G_init is None else G_init[1]\n",
    "    T_broad = T.reshape((nS, nA, nS, 1))\n",
    "    prevGT = copy(GT)\n",
    "    \n",
    "    if verbose:\n",
    "        diffs = []\n",
    "        \n",
    "    for iter_idx in range(maxiter):\n",
    "        # Reward Param gradient iteration\n",
    "        expGR = np.sum(P_broad * GR, axis=1)\n",
    "        expGR_broad = expGR.reshape((1, 1, nS, R_theta_dim))\n",
    "        GR = R_grad + gamma * np.sum(T_broad * expGR_broad, axis=2)\n",
    "        GR = (1 - learning_rate) * prevGR + learning_rate * GR\n",
    "        \n",
    "        \n",
    "        # Transition Param grad iter\n",
    "        expGT = np.sum(P_broad * GT, axis=1)\n",
    "        expGT_broad = expGT.reshape((1, 1, nS, T_theta_dim))\n",
    "        GT = gamma * T_grad\n",
    "        t_expGT = np.sum(T_broad * expGT_broad, axis=2)\n",
    "        GT += gamma * t_expGT\n",
    "        GT = (1 - learning_rate) * prevGT + learning_rate * GT\n",
    "    \n",
    "        diff = np.mean((GR - prevGR)**2)/(np.std(GR)**2) + np.mean((GT - prevGT)**2)/(np.std(GT)**2)\n",
    "        if verbose:\n",
    "            diffs.append(diff)\n",
    "        if diff < ftol:\n",
    "            break\n",
    "        prevGR = copy(GR)\n",
    "        prevGT = copy(GT)\n",
    "  \n",
    "    if verbose:\n",
    "        plt.xlabel('Number of Iterations')\n",
    "        plt.ylabel('Avg. Squared Bellman Error')\n",
    "        plt.title('Soft Q Gradient Iteration')\n",
    "        plt.plot(diffs)\n",
    "        plt.yscale('log')\n",
    "        plt.show()\n",
    "  \n",
    "    expGR = np.sum(P_broad * GR, axis=1)\n",
    "    expGR_broad = expGR.reshape((nS, 1, R_theta_dim))\n",
    "    expGT = np.sum(P_broad * GT, axis=1)\n",
    "    expGT_broad = expGT.reshape((nS, 1, T_theta_dim))\n",
    "    return (GR - expGR_broad), (GT - expGT_broad)"
   ]
  },
  {
   "cell_type": "code",
   "execution_count": 26,
   "metadata": {},
   "outputs": [],
   "source": [
    "def eval_TR_pol_likelihood_and_grad(T_thetas, R, feat_map, sas_obs, Q_inits=None, verbose=False):\n",
    "    s = [obs[0] for obs in sas_obs]\n",
    "    a = [obs[1] for obs in sas_obs]\n",
    "    Tps = softmax(T_thetas,axis=1)\n",
    "    T = mdp.adt_trans_to_sas_trans(Tps)\n",
    "    Q = tabsoftq_iter(R, T, Q_init=Q_inits if Q_inits is not None else None, \n",
    "        maxiter=tabsoftq_iter_maxiter, verbose=tabsoftq_iter_verbose, ftol=tabsoftq_iter_ftol)\n",
    "    dR, dT = tabsoftq_TR_grad_iter(T_thetas, feat_map, R, Q, T=T,\n",
    "        maxiter=tabsoftq_grad_iter_maxiter, verbose=tabsoftq_grad_iter_verbose, ftol=tabsoftq_grad_iter_ftol)\n",
    "    if verbose:\n",
    "        for obs in sas_obs:\n",
    "            print(obs)\n",
    "            print(dT[obs[0],obs[1]].reshape(T_thetas.shape))\n",
    "    dR = np.sum(dR[s,a], axis=0).reshape(feat_map.shape[1]) / len(sas_obs)\n",
    "    dT = np.sum(dT[s,a], axis=0).reshape(T_thetas.shape) / len(sas_obs)\n",
    "    ll = eval_pol_likelihood(Q, sas_obs)\n",
    "    return ll, dT, dR, Q"
   ]
  },
  {
   "cell_type": "markdown",
   "metadata": {},
   "source": [
    "# IDL & SERD Experiments"
   ]
  },
  {
   "cell_type": "code",
   "execution_count": 27,
   "metadata": {},
   "outputs": [],
   "source": [
    "tabsoftq_iter_ftol = 1e-32\n",
    "tabsoftq_iter_maxiter = 5000\n",
    "tabsoftq_iter_verbose = False\n",
    "tabsoftq_grad_iter_ftol = 1e-10\n",
    "tabsoftq_grad_iter_maxiter = 5000\n",
    "tabsoftq_grad_iter_verbose = False\n",
    "batch_size = 200\n",
    "n_demos = 80\n",
    "demo_time_steps = 40"
   ]
  },
  {
   "cell_type": "code",
   "execution_count": 28,
   "metadata": {},
   "outputs": [],
   "source": [
    "def clean_demos(sas_obs):\n",
    "    demo_example_idxes = list(range(len(sas_obs)))\n",
    "    unique_stays = set([])\n",
    "    for i,sas in enumerate(sas_obs):\n",
    "        sas = tuple(sas)\n",
    "        if sas[1] == 4:\n",
    "            if sas in unique_stays:\n",
    "                demo_example_idxes.remove(i)\n",
    "            else:\n",
    "                unique_stays.add(sas)\n",
    "    return demo_example_idxes\n",
    "\n",
    "def sample_batch(size, ids, sas_obs, adt_obs):\n",
    "    idxes = random.sample(ids, size)\n",
    "    return sas_obs[idxes], adt_obs[idxes]"
   ]
  },
  {
   "cell_type": "code",
   "execution_count": 29,
   "metadata": {},
   "outputs": [],
   "source": [
    "def T_estimate(adt_obs):\n",
    "    stability = 1e-5\n",
    "    T_thetas = np.zeros(T_theta_shape)\n",
    "    T_counts = np.zeros(T_theta_shape) + stability\n",
    "    for a,d,t in adt_obs:\n",
    "        T_counts[a,d,t] += 1\n",
    "    for a in range(T_theta_shape[0]):\n",
    "        for t in range(T_theta_shape[2]):\n",
    "            z = np.sum(T_counts[a,:,t])\n",
    "            for d in range(T_theta_shape[1]):\n",
    "                if z == T_counts.shape[1] * stability:\n",
    "                    T_thetas[a,d,t] = 0\n",
    "                else:\n",
    "                    T_thetas[a,d,t] = np.log(T_counts[a,d,t]) - np.log(z)\n",
    "    return T_thetas\n",
    "\n",
    "def test_T_likelihood(Tps, sas_obs, adt_obs):\n",
    "    T = mdp.adt_trans_to_sas_trans(Tps)\n",
    "    R = mdp.rewards\n",
    "    Q = tabsoftq_iter(R, T, Q_init=None, maxiter=tabsoftq_iter_maxiter, verbose=tabsoftq_iter_verbose, ftol=tabsoftq_iter_ftol)\n",
    "    pl = eval_pol_likelihood(Q, sas_obs, verbose=True)\n",
    "    tl = eval_trans_likelihood(Tps, adt_obs, verbose=True)\n",
    "    print([s for s in range(nS) if mdp.get_tile_type(s)==1])\n",
    "    print(Q[[s for s in range(nS) if mdp.get_tile_type(s)==1]])\n",
    "    print(pl, tl)\n",
    "    return pl + tl\n",
    "\n",
    "def true_trans_loss(tps):\n",
    "    tps = mdp.adt_trans_to_sas_trans(tps)\n",
    "    true_tps = mdp.get_transition_matrix()\n",
    "    return np.linalg.norm(true_tps-tps)/nA"
   ]
  },
  {
   "cell_type": "code",
   "execution_count": 30,
   "metadata": {
    "scrolled": true
   },
   "outputs": [],
   "source": [
    "exQs = tabsoftq_learn_Qs(mdp)\n",
    "demos = generate_demonstrations(mdp, tabsoftq_gen_pol(exQs), n_demos, demo_time_steps)\n",
    "sas_obs, adt_obs = vectorize_rollouts(demos)"
   ]
  },
  {
   "cell_type": "code",
   "execution_count": 31,
   "metadata": {},
   "outputs": [],
   "source": [
    "# Ensure bad areas have not been visited in exes\n",
    "while len(set([adt[2] for adt in adt_obs])) > 1:\n",
    "    demos = generate_demonstrations(mdp, tabsoftq_gen_pol(exQs), n_demos, demo_time_steps)\n",
    "    sas_obs, adt_obs = vectorize_rollouts(demos)"
   ]
  },
  {
   "cell_type": "code",
   "execution_count": 32,
   "metadata": {},
   "outputs": [],
   "source": [
    "# Clean training set to have greater density of interesting transitions\n",
    "# print(len(sas_obs))\n",
    "# demo_example_idxes = clean_demos(sas_obs)\n",
    "# print(len(demo_example_idxes))\n",
    "demo_example_idxes = list(range(len(sas_obs)))\n"
   ]
  },
  {
   "cell_type": "code",
   "execution_count": 33,
   "metadata": {},
   "outputs": [],
   "source": [
    "random.shuffle(demo_example_idxes)\n",
    "n_train_demo_examples = int(0.9 * len(demo_example_idxes))\n",
    "train_demo_example_idxes = demo_example_idxes[:n_train_demo_examples]\n",
    "val_demo_example_idxes = demo_example_idxes[n_train_demo_examples:]\n",
    "val_sas_obs = sas_obs[val_demo_example_idxes]\n",
    "val_adt_obs = adt_obs[val_demo_example_idxes]"
   ]
  },
  {
   "cell_type": "markdown",
   "metadata": {},
   "source": [
    "## IDL Only"
   ]
  },
  {
   "cell_type": "code",
   "execution_count": 34,
   "metadata": {},
   "outputs": [],
   "source": [
    "idl_train_logs = {\n",
    "  'train_likelihoods': [],\n",
    "  'val_likelihoods': [],\n",
    "  'tp_lls': [],\n",
    "  'tt_lls': [],\n",
    "  'vp_lls': [],\n",
    "  'vt_lls': [],\n",
    "  'true_trans_loss': []\n",
    "}"
   ]
  },
  {
   "cell_type": "code",
   "execution_count": 35,
   "metadata": {},
   "outputs": [],
   "source": [
    "maxiter = 500\n",
    "learning_rate = 0.25"
   ]
  },
  {
   "cell_type": "code",
   "execution_count": 36,
   "metadata": {},
   "outputs": [],
   "source": [
    "Ti_thetas = T_estimate(adt_obs[train_demo_example_idxes])\n",
    "Qi, Ri = None, mdp.rewards"
   ]
  },
  {
   "cell_type": "code",
   "execution_count": 37,
   "metadata": {
    "scrolled": true
   },
   "outputs": [
    {
     "name": "stdout",
     "output_type": "stream",
     "text": [
      "0 -603.551667 -117.537093 -721.088760 1.602049\n",
      "1 -596.793656 -117.533502 -714.327157 1.599350\n",
      "2 -598.437920 -117.432605 -715.870525 1.596589\n",
      "3 -606.751745 -117.352079 -724.103824 1.593885\n",
      "4 -618.896440 -117.249853 -736.146292 1.591726\n",
      "5 -616.143786 -117.143076 -733.286863 1.589156\n",
      "6 -622.705068 -117.120297 -739.825365 1.587218\n",
      "7 -625.872075 -117.058906 -742.930981 1.585727\n",
      "8 -620.352378 -117.031072 -737.383450 1.583795\n",
      "9 -615.624939 -117.024508 -732.649447 1.581896\n",
      "10 -609.642748 -117.016023 -726.658771 1.580281\n",
      "11 -605.222885 -117.014542 -722.237427 1.578482\n",
      "12 -595.325620 -116.974027 -712.299647 1.578044\n",
      "13 -593.443737 -116.966853 -710.410590 1.576276\n",
      "14 -585.529378 -116.960844 -702.490222 1.576265\n",
      "15 -583.160548 -117.012057 -700.172605 1.575060\n",
      "16 -579.465426 -117.069593 -696.535019 1.575924\n",
      "17 -577.697294 -117.102435 -694.799730 1.574580\n",
      "18 -575.080240 -117.141949 -692.222189 1.573849\n",
      "19 -572.130107 -117.212691 -689.342797 1.574389\n",
      "20 -569.962734 -117.305661 -687.268395 1.575107\n",
      "21 -564.077098 -117.340363 -681.417461 1.574984\n",
      "22 -561.358255 -117.392718 -678.750973 1.575182\n",
      "23 -555.857075 -117.507173 -673.364248 1.575232\n",
      "24 -551.946238 -117.638215 -669.584453 1.575844\n",
      "25 -550.705687 -117.760519 -668.466206 1.575532\n",
      "26 -548.653058 -117.928218 -666.581276 1.576323\n",
      "27 -543.850270 -118.164167 -662.014437 1.579371\n",
      "28 -540.886166 -118.387068 -659.273234 1.581590\n",
      "29 -538.199530 -118.612365 -656.811895 1.582716\n",
      "30 -534.837631 -118.864219 -653.701851 1.585814\n",
      "31 -532.578077 -119.116905 -651.694983 1.587448\n",
      "32 -530.898364 -119.384966 -650.283330 1.589929\n",
      "33 -529.236189 -119.633229 -648.869419 1.591689\n",
      "34 -527.986758 -119.825220 -647.811978 1.591879\n",
      "35 -526.217324 -120.130772 -646.348096 1.594678\n",
      "36 -524.888106 -120.399627 -645.287733 1.597019\n",
      "37 -506.506542 -120.653092 -627.159634 1.598893\n",
      "38 -483.290583 -120.930267 -604.220850 1.600145\n",
      "39 -470.587445 -121.183617 -591.771061 1.601910\n",
      "40 -461.989925 -121.410994 -583.400918 1.603015\n",
      "41 -453.282197 -121.665178 -574.947376 1.605650\n",
      "42 -442.552734 -121.982963 -564.535697 1.609351\n",
      "43 -435.976523 -122.231243 -558.207766 1.611028\n",
      "44 -438.589661 -122.438698 -561.028359 1.614144\n",
      "45 -433.961773 -122.739014 -556.700787 1.617966\n",
      "46 -422.067801 -122.887647 -544.955449 1.617678\n",
      "47 -410.119075 -123.145482 -533.264557 1.619479\n",
      "48 -399.058078 -123.383572 -522.441651 1.620700\n",
      "49 -397.358741 -123.590787 -520.949528 1.622907\n",
      "50 -397.542315 -123.829214 -521.371529 1.626128\n",
      "51 -391.188000 -123.919602 -515.107602 1.624304\n",
      "52 -388.850623 -124.031070 -512.881693 1.624136\n",
      "53 -385.429354 -124.241313 -509.670666 1.625058\n",
      "54 -386.439303 -124.254849 -510.694152 1.624289\n",
      "55 -383.894171 -124.380952 -508.275124 1.624314\n",
      "56 -376.623857 -124.482057 -501.105914 1.622848\n",
      "57 -372.982484 -124.535262 -497.517746 1.620581\n",
      "58 -371.708507 -124.399004 -496.107511 1.616722\n",
      "59 -373.282956 -124.471287 -497.754243 1.617305\n",
      "60 -372.566399 -124.496512 -497.062911 1.615496\n",
      "61 -371.888507 -124.469906 -496.358413 1.613575\n",
      "62 -368.302422 -124.578488 -492.880909 1.612500\n",
      "63 -367.096920 -124.555561 -491.652480 1.609042\n",
      "64 -363.677485 -124.414379 -488.091865 1.602147\n",
      "65 -361.348140 -124.250797 -485.598937 1.595549\n",
      "66 -360.887320 -124.242924 -485.130244 1.592749\n",
      "67 -362.140021 -124.267525 -486.407546 1.591271\n",
      "68 -362.152144 -124.255734 -486.407878 1.588954\n",
      "69 -360.287704 -124.195522 -484.483227 1.584354\n",
      "70 -361.397241 -124.305094 -485.702335 1.585767\n",
      "71 -360.725922 -124.420533 -485.146455 1.584908\n",
      "72 -359.935847 -124.291899 -484.227747 1.580065\n",
      "73 -358.517620 -124.172279 -482.689899 1.575675\n",
      "74 -359.146058 -124.111475 -483.257533 1.572026\n",
      "75 -358.392148 -123.994002 -482.386151 1.566474\n",
      "76 -357.424482 -124.129359 -481.553840 1.566860\n",
      "77 -355.285379 -124.225956 -479.511336 1.565250\n",
      "78 -354.340502 -124.339407 -478.679909 1.564742\n",
      "79 -355.128063 -124.313751 -479.441814 1.563199\n",
      "80 -354.960418 -124.344019 -479.304437 1.561056\n",
      "81 -354.421544 -124.250767 -478.672311 1.557278\n",
      "82 -353.899615 -124.342885 -478.242499 1.556265\n",
      "83 -353.136873 -124.230190 -477.367063 1.552343\n",
      "84 -352.671009 -124.220865 -476.891874 1.548761\n",
      "85 -354.509558 -124.124477 -478.634035 1.546355\n",
      "86 -354.461281 -124.078453 -478.539734 1.542663\n",
      "87 -354.300574 -124.036353 -478.336927 1.538486\n",
      "88 -354.029386 -123.938801 -477.968187 1.532902\n",
      "89 -353.940815 -123.891562 -477.832377 1.530937\n",
      "90 -353.484874 -123.710335 -477.195209 1.524617\n",
      "91 -352.004348 -123.652744 -475.657091 1.519468\n",
      "92 -352.472353 -123.705286 -476.177639 1.518455\n",
      "93 -350.369039 -123.663733 -474.032772 1.515465\n",
      "94 -349.842057 -123.545041 -473.387098 1.511781\n",
      "95 -349.785849 -123.462631 -473.248480 1.507272\n",
      "96 -350.102181 -123.612300 -473.714481 1.508198\n",
      "97 -348.009874 -123.462213 -471.472087 1.502813\n",
      "98 -347.181831 -123.340228 -470.522059 1.496854\n",
      "99 -347.087787 -123.264942 -470.352729 1.493632\n",
      "100 -348.496248 -123.299484 -471.795732 1.493989\n",
      "101 -346.911327 -123.147274 -470.058601 1.486600\n",
      "102 -346.659815 -123.004005 -469.663820 1.481266\n",
      "103 -346.293389 -122.874859 -469.168247 1.476261\n",
      "104 -345.130723 -122.769060 -467.899783 1.470882\n",
      "105 -345.928691 -122.715675 -468.644366 1.468665\n",
      "106 -346.288774 -122.580853 -468.869627 1.464913\n",
      "107 -345.644121 -122.632484 -468.276605 1.463892\n",
      "108 -345.395918 -122.535735 -467.931654 1.458222\n",
      "109 -345.098174 -122.500986 -467.599160 1.454920\n",
      "110 -345.309172 -122.394255 -467.703426 1.450180\n",
      "111 -344.499598 -122.323236 -466.822834 1.444591\n",
      "112 -343.821834 -122.274935 -466.096769 1.440967\n",
      "113 -342.603558 -122.154031 -464.757589 1.436355\n",
      "114 -341.693964 -122.138798 -463.832763 1.433659\n",
      "115 -341.368758 -122.188592 -463.557350 1.432563\n",
      "116 -340.794430 -122.119644 -462.914074 1.427515\n",
      "117 -339.753846 -121.994614 -461.748460 1.421365\n",
      "118 -339.302032 -121.903525 -461.205557 1.416424\n",
      "119 -338.911853 -121.776247 -460.688101 1.410619\n",
      "120 -338.707309 -121.858038 -460.565347 1.410134\n",
      "121 -337.949239 -121.811734 -459.760973 1.405039\n",
      "122 -336.925082 -121.769445 -458.694527 1.398427\n",
      "123 -336.419953 -121.749039 -458.168992 1.394156\n",
      "124 -336.508127 -121.698451 -458.206578 1.391585\n",
      "125 -336.136519 -121.636869 -457.773388 1.386222\n",
      "126 -335.812165 -121.428446 -457.240610 1.379115\n",
      "127 -335.604281 -121.278602 -456.882883 1.373047\n",
      "128 -335.177790 -121.231628 -456.409418 1.369312\n",
      "129 -334.613706 -121.129165 -455.742871 1.364016\n",
      "130 -334.529596 -121.083535 -455.613131 1.360044\n",
      "131 -334.633510 -121.079705 -455.713215 1.357197\n",
      "132 -334.119882 -120.973879 -455.093761 1.350972\n",
      "133 -333.583389 -120.895126 -454.478516 1.346379\n",
      "134 -332.418212 -120.744744 -453.162956 1.337975\n",
      "135 -331.139477 -120.712803 -451.852280 1.332626\n",
      "136 -330.777050 -120.674389 -451.451439 1.329254\n",
      "137 -329.970425 -120.611210 -450.581635 1.323819\n",
      "138 -329.632835 -120.622139 -450.254974 1.320096\n",
      "139 -329.869636 -120.561450 -450.431086 1.316244\n",
      "140 -329.705894 -120.542886 -450.248780 1.313577\n",
      "141 -328.651309 -120.444929 -449.096238 1.307734\n",
      "142 -328.573925 -120.406498 -448.980423 1.303980\n",
      "143 -329.047081 -120.444167 -449.491248 1.302499\n",
      "144 -328.879498 -120.460355 -449.339853 1.297977\n",
      "145 -328.157690 -120.402370 -448.560060 1.293315\n",
      "146 -327.627903 -120.349851 -447.977754 1.290291\n",
      "147 -327.688268 -120.272998 -447.961266 1.286855\n",
      "148 -327.180708 -120.248122 -447.428830 1.282200\n",
      "149 -327.172512 -120.145315 -447.317827 1.276158\n",
      "150 -326.901048 -120.066766 -446.967814 1.270620\n",
      "151 -326.176233 -120.029988 -446.206221 1.266155\n",
      "152 -325.569031 -119.999817 -445.568848 1.262282\n",
      "153 -325.296944 -119.991335 -445.288279 1.258952\n",
      "154 -324.442373 -119.914340 -444.356713 1.251801\n",
      "155 -323.735811 -119.830388 -443.566199 1.245414\n",
      "156 -322.587565 -119.666926 -442.254491 1.238069\n",
      "157 -322.302143 -119.573354 -441.875497 1.233282\n",
      "158 -321.784118 -119.494173 -441.278291 1.227987\n",
      "159 -322.421612 -119.479441 -441.901053 1.224879\n",
      "160 -322.065126 -119.417330 -441.482456 1.222494\n",
      "161 -320.547641 -119.363604 -439.911244 1.214377\n",
      "162 -320.122446 -119.369171 -439.491616 1.211493\n",
      "163 -319.741895 -119.357621 -439.099517 1.207856\n",
      "164 -319.789568 -119.394725 -439.184293 1.205610\n",
      "165 -319.196598 -119.282163 -438.478761 1.199659\n",
      "166 -319.332325 -119.270292 -438.602618 1.194174\n",
      "167 -318.748338 -119.210900 -437.959238 1.188981\n",
      "168 -318.263349 -119.150452 -437.413801 1.183610\n",
      "169 -317.643234 -119.158106 -436.801340 1.177187\n"
     ]
    },
    {
     "name": "stdout",
     "output_type": "stream",
     "text": [
      "170 -317.477618 -119.136923 -436.614541 1.173550\n",
      "171 -317.080961 -119.124565 -436.205526 1.169384\n",
      "172 -316.636586 -119.109679 -435.746266 1.166241\n",
      "173 -316.286015 -119.080698 -435.366713 1.161714\n",
      "174 -315.556784 -119.018570 -434.575354 1.155650\n",
      "175 -314.588622 -118.923390 -433.512012 1.148318\n",
      "176 -314.245226 -118.918074 -433.163300 1.144089\n",
      "177 -313.347918 -118.892093 -432.240011 1.138286\n",
      "178 -313.455455 -118.870366 -432.325820 1.136431\n",
      "179 -312.731703 -118.850988 -431.582691 1.132429\n",
      "180 -312.475263 -118.848026 -431.323289 1.129432\n",
      "181 -312.367854 -118.836011 -431.203865 1.125303\n",
      "182 -312.140648 -118.817392 -430.958040 1.124313\n",
      "183 -311.971445 -118.806523 -430.777969 1.120825\n",
      "184 -311.226348 -118.793995 -430.020343 1.115741\n",
      "185 -311.248499 -118.808129 -430.056628 1.114097\n",
      "186 -310.822406 -118.783293 -429.605699 1.110407\n",
      "187 -309.887771 -118.744755 -428.632527 1.103019\n",
      "188 -309.751187 -118.743933 -428.495120 1.099594\n",
      "189 -309.158602 -118.697136 -427.855738 1.094473\n",
      "190 -308.547342 -118.718277 -427.265619 1.090107\n",
      "191 -308.266096 -118.693667 -426.959763 1.085968\n",
      "192 -308.117366 -118.672775 -426.790140 1.085034\n",
      "193 -307.614957 -118.653523 -426.268480 1.078823\n",
      "194 -307.128075 -118.662292 -425.790368 1.075540\n",
      "195 -306.756829 -118.699020 -425.455849 1.070397\n",
      "196 -306.437877 -118.669564 -425.107441 1.067541\n",
      "197 -306.203895 -118.635412 -424.839308 1.064882\n",
      "198 -305.720932 -118.676484 -424.397416 1.061123\n",
      "199 -305.488393 -118.633153 -424.121546 1.056871\n",
      "200 -305.085383 -118.597651 -423.683034 1.052690\n",
      "201 -304.531001 -118.566270 -423.097271 1.048772\n",
      "202 -304.151742 -118.530676 -422.682418 1.045056\n",
      "203 -304.127645 -118.551477 -422.679122 1.043307\n",
      "204 -303.902230 -118.568694 -422.470924 1.039662\n",
      "205 -303.822430 -118.557164 -422.379594 1.037774\n",
      "206 -303.723000 -118.576765 -422.299765 1.034501\n",
      "207 -303.629244 -118.551465 -422.180709 1.031663\n",
      "208 -303.397343 -118.514186 -421.911529 1.028617\n",
      "209 -303.216621 -118.514346 -421.730967 1.025247\n",
      "210 -303.144374 -118.556688 -421.701061 1.024244\n",
      "211 -303.039139 -118.561412 -421.600551 1.021493\n",
      "212 -302.947537 -118.573011 -421.520548 1.018131\n",
      "213 -302.866122 -118.565357 -421.431479 1.014734\n",
      "214 -302.729854 -118.532692 -421.262546 1.011707\n",
      "215 -302.505782 -118.527804 -421.033586 1.007666\n",
      "216 -302.220687 -118.550517 -420.771204 1.003461\n",
      "217 -301.813811 -118.595751 -420.409562 0.997635\n",
      "218 -301.696694 -118.596130 -420.292823 0.995635\n",
      "219 -301.665654 -118.606591 -420.272244 0.994110\n",
      "220 -301.502179 -118.563436 -420.065614 0.991777\n",
      "221 -301.375976 -118.559543 -419.935519 0.988302\n",
      "222 -301.395742 -118.511463 -419.907205 0.986651\n",
      "223 -301.231586 -118.520761 -419.752348 0.982357\n",
      "224 -301.159103 -118.498557 -419.657660 0.980159\n",
      "225 -301.125421 -118.505586 -419.631007 0.977448\n",
      "226 -300.986288 -118.532396 -419.518683 0.975001\n",
      "227 -300.879309 -118.533978 -419.413287 0.972608\n",
      "228 -300.839097 -118.526223 -419.365320 0.971875\n",
      "229 -300.690684 -118.561419 -419.252103 0.966686\n",
      "230 -300.587689 -118.544066 -419.131755 0.963933\n",
      "231 -300.362931 -118.514869 -418.877800 0.959583\n",
      "232 -300.251504 -118.509076 -418.760580 0.956046\n",
      "233 -300.165953 -118.495278 -418.661231 0.953700\n",
      "234 -300.153900 -118.464275 -418.618174 0.951411\n",
      "235 -300.074418 -118.438137 -418.512554 0.947902\n",
      "236 -299.978614 -118.408522 -418.387136 0.945829\n",
      "237 -299.924435 -118.403460 -418.327895 0.944292\n",
      "238 -299.840393 -118.397619 -418.238012 0.943289\n",
      "239 -299.726647 -118.404754 -418.131400 0.941152\n",
      "240 -299.734188 -118.406012 -418.140200 0.939519\n",
      "241 -299.766306 -118.381408 -418.147713 0.938556\n",
      "242 -299.714023 -118.381327 -418.095349 0.935680\n",
      "243 -299.729173 -118.350381 -418.079554 0.933399\n",
      "244 -299.674194 -118.327474 -418.001668 0.931772\n",
      "245 -299.595254 -118.341970 -417.937224 0.928748\n",
      "246 -299.541744 -118.339706 -417.881451 0.926196\n",
      "247 -299.401410 -118.340240 -417.741649 0.923517\n",
      "248 -299.270428 -118.352716 -417.623143 0.921225\n",
      "249 -299.277472 -118.335135 -417.612607 0.919954\n",
      "250 -299.318347 -118.343996 -417.662342 0.918678\n",
      "251 -299.309714 -118.340679 -417.650393 0.918294\n",
      "252 -299.246987 -118.325910 -417.572897 0.917472\n",
      "253 -299.169576 -118.318743 -417.488318 0.915945\n",
      "254 -299.159966 -118.332625 -417.492592 0.914642\n",
      "255 -299.154705 -118.314871 -417.469576 0.911647\n",
      "256 -299.135705 -118.341683 -417.477388 0.909186\n",
      "257 -299.077507 -118.353901 -417.431407 0.908495\n",
      "258 -299.125798 -118.318644 -417.444442 0.907873\n",
      "259 -299.077492 -118.329525 -417.407017 0.904461\n",
      "260 -299.069209 -118.358900 -417.428109 0.902885\n",
      "261 -299.030993 -118.348863 -417.379856 0.901134\n",
      "262 -299.011758 -118.352563 -417.364321 0.899792\n",
      "263 -299.002562 -118.340133 -417.342695 0.897872\n",
      "264 -299.000575 -118.322480 -417.323055 0.896879\n",
      "265 -298.974477 -118.313465 -417.287941 0.896160\n",
      "266 -298.887557 -118.307331 -417.194889 0.894092\n",
      "267 -298.847498 -118.284326 -417.131824 0.892735\n",
      "268 -298.876045 -118.276660 -417.152706 0.891627\n",
      "269 -298.836274 -118.304467 -417.140740 0.890927\n",
      "270 -298.750584 -118.307822 -417.058406 0.889955\n",
      "271 -298.820967 -118.337814 -417.158780 0.888792\n",
      "272 -298.796635 -118.328389 -417.125024 0.885398\n",
      "273 -298.718437 -118.286168 -417.004605 0.884847\n",
      "274 -298.694029 -118.292712 -416.986741 0.883271\n",
      "275 -298.677706 -118.269128 -416.946834 0.882542\n",
      "276 -298.616808 -118.253849 -416.870657 0.881255\n",
      "277 -298.533586 -118.246586 -416.780172 0.880671\n",
      "278 -298.529505 -118.224604 -416.754109 0.880552\n",
      "279 -298.563673 -118.227426 -416.791100 0.878926\n",
      "280 -298.566363 -118.247375 -416.813738 0.876845\n",
      "281 -298.555028 -118.217675 -416.772703 0.875276\n",
      "282 -298.565998 -118.198018 -416.764016 0.872667\n",
      "283 -298.604069 -118.201957 -416.806027 0.870671\n",
      "284 -298.555285 -118.189989 -416.745274 0.870595\n",
      "285 -298.589007 -118.152207 -416.741213 0.867391\n",
      "286 -298.526272 -118.143721 -416.669994 0.866847\n",
      "287 -298.562933 -118.121742 -416.684675 0.865213\n",
      "288 -298.615447 -118.117625 -416.733072 0.864450\n",
      "289 -298.634042 -118.100836 -416.734878 0.863143\n",
      "290 -298.571601 -118.074282 -416.645882 0.862438\n",
      "291 -298.591066 -118.051122 -416.642189 0.861333\n",
      "292 -298.584171 -118.046101 -416.630272 0.859634\n",
      "293 -298.501462 -118.028481 -416.529943 0.859157\n",
      "294 -298.518005 -118.017755 -416.535760 0.858468\n",
      "295 -298.519132 -118.040233 -416.559365 0.858001\n",
      "296 -298.415662 -118.050967 -416.466630 0.857009\n",
      "297 -298.425102 -118.043295 -416.468397 0.854874\n",
      "298 -298.458777 -118.088879 -416.547656 0.854139\n",
      "299 -298.381197 -118.100932 -416.482129 0.854050\n",
      "300 -298.381512 -118.069433 -416.450944 0.853238\n",
      "301 -298.389449 -118.072391 -416.461840 0.852542\n",
      "302 -298.351621 -118.062676 -416.414297 0.852093\n",
      "303 -298.355693 -118.055800 -416.411493 0.850759\n",
      "304 -298.314123 -118.057563 -416.371687 0.850320\n",
      "305 -298.253788 -118.057730 -416.311518 0.850070\n",
      "306 -298.242676 -118.058396 -416.301072 0.849591\n",
      "307 -298.250599 -118.048046 -416.298645 0.847975\n",
      "308 -298.191149 -118.014494 -416.205643 0.847280\n",
      "309 -298.211301 -117.990710 -416.202011 0.846401\n",
      "310 -298.113555 -117.997971 -416.111525 0.846077\n",
      "311 -298.165733 -118.002871 -416.168604 0.845609\n",
      "312 -298.174550 -117.962227 -416.136777 0.843460\n",
      "313 -298.109849 -117.949282 -416.059131 0.842865\n",
      "314 -298.164327 -117.954208 -416.118534 0.841883\n",
      "315 -298.207884 -117.957662 -416.165546 0.840661\n",
      "316 -298.192971 -117.946988 -416.139958 0.840283\n",
      "317 -298.197157 -117.910366 -416.107523 0.839438\n",
      "318 -298.176198 -117.882518 -416.058716 0.838935\n",
      "319 -298.184673 -117.880675 -416.065348 0.838593\n",
      "320 -298.166582 -117.864991 -416.031573 0.838474\n",
      "321 -298.169432 -117.863626 -416.033058 0.837826\n",
      "322 -298.191240 -117.840760 -416.032000 0.836446\n",
      "323 -298.149975 -117.805778 -415.955753 0.835705\n",
      "324 -298.106051 -117.786346 -415.892397 0.835173\n",
      "325 -298.040153 -117.803475 -415.843628 0.834771\n",
      "326 -298.011957 -117.771268 -415.783225 0.833225\n",
      "327 -298.052475 -117.787008 -415.839482 0.832083\n",
      "328 -298.082339 -117.770876 -415.853215 0.830609\n",
      "329 -298.083148 -117.750688 -415.833836 0.830099\n",
      "330 -298.081476 -117.762361 -415.843837 0.829312\n",
      "331 -298.025905 -117.750532 -415.776437 0.828924\n",
      "332 -298.019477 -117.755851 -415.775327 0.828320\n",
      "333 -298.042809 -117.751040 -415.793850 0.827762\n",
      "334 -297.995198 -117.742890 -415.738087 0.827431\n",
      "335 -297.958361 -117.742625 -415.700986 0.827164\n",
      "336 -297.933993 -117.758784 -415.692776 0.826250\n",
      "337 -297.927394 -117.729621 -415.657015 0.825404\n"
     ]
    },
    {
     "name": "stdout",
     "output_type": "stream",
     "text": [
      "338 -297.978603 -117.753039 -415.731642 0.824813\n",
      "339 -297.964251 -117.743565 -415.707816 0.824490\n",
      "340 -297.959675 -117.756899 -415.716574 0.823555\n",
      "341 -297.941557 -117.757474 -415.699031 0.822321\n",
      "342 -297.949096 -117.719180 -415.668276 0.821604\n",
      "343 -298.003036 -117.700656 -415.703692 0.820995\n",
      "344 -298.023635 -117.733056 -415.756692 0.820137\n",
      "345 -298.121791 -117.692079 -415.813871 0.819031\n",
      "346 -298.024167 -117.676783 -415.700950 0.818888\n",
      "347 -298.049744 -117.682404 -415.732147 0.818391\n",
      "348 -298.104336 -117.691312 -415.795649 0.817149\n",
      "349 -298.109770 -117.679559 -415.789329 0.816382\n",
      "350 -298.156010 -117.703546 -415.859556 0.815718\n",
      "351 -298.147524 -117.671469 -415.818994 0.815370\n",
      "352 -298.155701 -117.661931 -415.817632 0.814784\n",
      "353 -298.221793 -117.692410 -415.914204 0.813483\n",
      "354 -298.238805 -117.689611 -415.928416 0.812769\n",
      "355 -298.228903 -117.676800 -415.905704 0.812119\n",
      "356 -298.204146 -117.674233 -415.878379 0.810871\n",
      "357 -298.156334 -117.681708 -415.838042 0.810618\n",
      "358 -298.160766 -117.687031 -415.847797 0.809819\n",
      "359 -298.194882 -117.691472 -415.886354 0.808996\n",
      "360 -298.204699 -117.682280 -415.886979 0.808706\n",
      "361 -298.200290 -117.670937 -415.871228 0.808728\n",
      "362 -298.180668 -117.667773 -415.848441 0.807936\n",
      "363 -298.156117 -117.674081 -415.830198 0.806892\n",
      "364 -298.196934 -117.673327 -415.870261 0.806470\n",
      "365 -298.156291 -117.682114 -415.838405 0.806007\n",
      "366 -298.142213 -117.683312 -415.825525 0.805598\n",
      "367 -298.102312 -117.679704 -415.782016 0.805138\n",
      "368 -298.101373 -117.675417 -415.776790 0.804450\n",
      "369 -298.046728 -117.686777 -415.733505 0.803849\n",
      "370 -298.013964 -117.691140 -415.705104 0.802938\n",
      "371 -298.049101 -117.692623 -415.741724 0.802720\n",
      "372 -297.988346 -117.675664 -415.664009 0.802129\n",
      "373 -297.967699 -117.662363 -415.630062 0.801307\n",
      "374 -297.996179 -117.661997 -415.658175 0.800491\n",
      "375 -297.967500 -117.686055 -415.653555 0.799926\n",
      "376 -297.969435 -117.650651 -415.620086 0.799322\n",
      "377 -297.940727 -117.632036 -415.572763 0.799136\n",
      "378 -297.939199 -117.635045 -415.574244 0.798622\n",
      "379 -297.973606 -117.623630 -415.597236 0.797736\n",
      "380 -297.941348 -117.619993 -415.561341 0.796849\n",
      "381 -297.895129 -117.614834 -415.509963 0.796232\n",
      "382 -297.867617 -117.599540 -415.467157 0.795860\n",
      "383 -297.872810 -117.591419 -415.464229 0.795322\n",
      "384 -297.928096 -117.576727 -415.504823 0.794635\n",
      "385 -297.911675 -117.565414 -415.477089 0.794027\n",
      "386 -297.878862 -117.586471 -415.465333 0.793082\n",
      "387 -297.928694 -117.566152 -415.494846 0.792247\n",
      "388 -297.867297 -117.571622 -415.438920 0.791911\n",
      "389 -297.908317 -117.574878 -415.483195 0.791628\n",
      "390 -297.885090 -117.559047 -415.444137 0.791290\n",
      "391 -297.904069 -117.533599 -415.437668 0.790607\n",
      "392 -297.992682 -117.541830 -415.534512 0.790428\n",
      "393 -298.014288 -117.541730 -415.556019 0.790157\n",
      "394 -298.049458 -117.571304 -415.620762 0.790264\n",
      "395 -297.898792 -117.523566 -415.422358 0.790109\n",
      "396 -297.923544 -117.521925 -415.445469 0.788873\n",
      "397 -297.934465 -117.537312 -415.471777 0.788578\n",
      "398 -297.887560 -117.522322 -415.409882 0.787852\n",
      "399 -297.879485 -117.506309 -415.385793 0.787007\n",
      "400 -297.881201 -117.529755 -415.410955 0.786587\n",
      "401 -297.840803 -117.524215 -415.365018 0.786035\n",
      "402 -297.884668 -117.503550 -415.388218 0.785275\n",
      "403 -297.949430 -117.514014 -415.463444 0.784733\n",
      "404 -297.942593 -117.497954 -415.440547 0.784684\n",
      "405 -297.868087 -117.464862 -415.332948 0.784573\n",
      "406 -297.844581 -117.459206 -415.303787 0.783857\n",
      "407 -297.820333 -117.462965 -415.283299 0.783245\n",
      "408 -297.845180 -117.453084 -415.298264 0.782673\n",
      "409 -297.839808 -117.436757 -415.276565 0.781707\n",
      "410 -297.827677 -117.431305 -415.258982 0.781078\n",
      "411 -297.925672 -117.440699 -415.366371 0.780310\n",
      "412 -297.906223 -117.461574 -415.367797 0.779991\n",
      "413 -297.890183 -117.492156 -415.382339 0.779359\n",
      "414 -297.887018 -117.509235 -415.396253 0.778645\n",
      "415 -297.899239 -117.523305 -415.422544 0.778284\n",
      "416 -297.889900 -117.516705 -415.406605 0.777808\n",
      "417 -297.912125 -117.508197 -415.420322 0.777665\n",
      "418 -297.905963 -117.508370 -415.414333 0.776886\n",
      "419 -297.898513 -117.497081 -415.395594 0.776407\n",
      "420 -297.888757 -117.488124 -415.376881 0.775366\n",
      "421 -297.820966 -117.470699 -415.291665 0.774681\n",
      "422 -297.853807 -117.468608 -415.322415 0.774135\n",
      "423 -297.856870 -117.492633 -415.349504 0.773461\n",
      "424 -297.871099 -117.489769 -415.360867 0.772962\n",
      "425 -297.865595 -117.466313 -415.331909 0.772640\n",
      "426 -297.861333 -117.468661 -415.329994 0.772077\n",
      "427 -297.839487 -117.465419 -415.304907 0.771545\n",
      "428 -297.830975 -117.472936 -415.303912 0.771089\n",
      "429 -297.807664 -117.431287 -415.238951 0.770604\n",
      "430 -297.795207 -117.442360 -415.237566 0.770589\n",
      "431 -297.728983 -117.426557 -415.155540 0.770433\n",
      "432 -297.790168 -117.435371 -415.225539 0.769622\n",
      "433 -297.771742 -117.427200 -415.198942 0.769393\n",
      "434 -297.638164 -117.416354 -415.054518 0.769457\n",
      "435 -297.603722 -117.405568 -415.009290 0.769195\n",
      "436 -297.636441 -117.375011 -415.011452 0.768294\n",
      "437 -297.614606 -117.398385 -415.012990 0.768269\n",
      "438 -297.624780 -117.409054 -415.033835 0.767611\n",
      "439 -297.613993 -117.389255 -415.003247 0.767079\n",
      "440 -297.527455 -117.405251 -414.932706 0.767091\n",
      "441 -297.528921 -117.421223 -414.950144 0.766480\n",
      "442 -297.524553 -117.383795 -414.908348 0.765890\n",
      "443 -297.475891 -117.384435 -414.860325 0.765429\n",
      "444 -297.431497 -117.371851 -414.803348 0.764548\n",
      "445 -297.472147 -117.353050 -414.825196 0.763719\n",
      "446 -297.527099 -117.331139 -414.858238 0.762749\n",
      "447 -297.485515 -117.331219 -414.816734 0.762654\n",
      "448 -297.503478 -117.345523 -414.849001 0.762628\n",
      "449 -297.437317 -117.340849 -414.778166 0.762273\n",
      "450 -297.406173 -117.374735 -414.780908 0.762026\n",
      "451 -297.407143 -117.356600 -414.763743 0.761287\n",
      "452 -297.412653 -117.362181 -414.774834 0.760782\n",
      "453 -297.361818 -117.375107 -414.736924 0.760673\n",
      "454 -297.397090 -117.371203 -414.768293 0.759870\n",
      "455 -297.398571 -117.379750 -414.778321 0.759235\n",
      "456 -297.340644 -117.389202 -414.729846 0.759343\n",
      "457 -297.305125 -117.385784 -414.690909 0.758971\n",
      "458 -297.332859 -117.414854 -414.747713 0.758920\n",
      "459 -297.345257 -117.412477 -414.757734 0.758575\n",
      "460 -297.461300 -117.427180 -414.888480 0.757659\n",
      "461 -297.393261 -117.442825 -414.836086 0.757727\n",
      "462 -297.332423 -117.445873 -414.778296 0.757600\n",
      "463 -297.329028 -117.439216 -414.768244 0.757251\n",
      "464 -297.394690 -117.450174 -414.844864 0.756291\n",
      "465 -297.390646 -117.431534 -414.822180 0.755959\n",
      "466 -297.444958 -117.436848 -414.881806 0.755613\n",
      "467 -297.471264 -117.413467 -414.884731 0.755189\n",
      "468 -297.500338 -117.428032 -414.928371 0.754478\n",
      "469 -297.580182 -117.431310 -415.011493 0.754073\n",
      "470 -297.596541 -117.433222 -415.029763 0.753004\n",
      "471 -297.548435 -117.459026 -415.007461 0.752897\n",
      "472 -297.504596 -117.449123 -414.953719 0.752374\n",
      "473 -297.439615 -117.451659 -414.891274 0.752100\n",
      "474 -297.441361 -117.467421 -414.908782 0.751789\n",
      "475 -297.456526 -117.438944 -414.895471 0.751120\n",
      "476 -297.436573 -117.442105 -414.878678 0.750918\n",
      "477 -297.448596 -117.428114 -414.876710 0.750458\n",
      "478 -297.485406 -117.424715 -414.910120 0.749743\n",
      "479 -297.453281 -117.427769 -414.881050 0.749490\n",
      "480 -297.443679 -117.409357 -414.853035 0.749103\n",
      "481 -297.411581 -117.407257 -414.818838 0.748823\n",
      "482 -297.399943 -117.404198 -414.804141 0.748566\n",
      "483 -297.365407 -117.438019 -414.803426 0.748178\n",
      "484 -297.426873 -117.466310 -414.893183 0.747764\n",
      "485 -297.458174 -117.480359 -414.938532 0.747522\n",
      "486 -297.451200 -117.463919 -414.915119 0.747185\n",
      "487 -297.400823 -117.465288 -414.866110 0.747053\n",
      "488 -297.391437 -117.433994 -414.825431 0.746420\n",
      "489 -297.296770 -117.424213 -414.720983 0.746297\n",
      "490 -297.212627 -117.392437 -414.605064 0.745970\n",
      "491 -297.176756 -117.403338 -414.580094 0.745582\n",
      "492 -297.139191 -117.416437 -414.555629 0.745473\n",
      "493 -297.198489 -117.444169 -414.642658 0.745318\n",
      "494 -297.140811 -117.425800 -414.566610 0.745139\n",
      "495 -297.123929 -117.399409 -414.523338 0.744749\n",
      "496 -297.108201 -117.374410 -414.482611 0.743805\n",
      "497 -297.122485 -117.396482 -414.518967 0.743682\n",
      "498 -297.158736 -117.399092 -414.557828 0.743041\n",
      "499 -297.176302 -117.344776 -414.521078 0.742410\n"
     ]
    }
   ],
   "source": [
    "while len(idl_train_logs['tt_lls']) < maxiter:\n",
    "    batch_demo_sas, batch_demo_adt = sample_batch(batch_size, train_demo_example_idxes, sas_obs, adt_obs)\n",
    "    #Should we initialize Qs or nah?\n",
    "    tp_ll, dT_pol, Qi = eval_T_pol_likelihood_and_grad(Ti_thetas, Ri, batch_demo_sas, Q_inits=Qi, verbose=False)\n",
    "    tt_ll, dT_trans = eval_trans_likelihood_and_grad(Ti_thetas, batch_demo_adt)\n",
    "    train_likelihood = tp_ll + tt_ll\n",
    "    vp_ll, vt_ll = eval_demo_log_likelihood(val_sas_obs, val_adt_obs, Ti_thetas, Qi)\n",
    "    val_likelihood = vp_ll + vt_ll\n",
    "    ttd = true_trans_loss(softmax(Ti_thetas))\n",
    "    Ti_thetas += learning_rate * (dT_trans + dT_pol)\n",
    "    \n",
    "    print('%d %f %f %f %f' % (len(idl_train_logs['tt_lls']), vp_ll, vt_ll, vp_ll + vt_ll, ttd))\n",
    "    idl_train_logs['train_likelihoods'].append(train_likelihood)\n",
    "    idl_train_logs['val_likelihoods'].append(val_likelihood)\n",
    "    idl_train_logs['tp_lls'].append(tp_ll)\n",
    "    idl_train_logs['tt_lls'].append(tt_ll)\n",
    "    idl_train_logs['vp_lls'].append(vp_ll)\n",
    "    idl_train_logs['vt_lls'].append(vt_ll)\n",
    "    idl_train_logs['true_trans_loss'].append(ttd)"
   ]
  },
  {
   "cell_type": "code",
   "execution_count": 38,
   "metadata": {},
   "outputs": [
    {
     "data": {
      "text/plain": [
       "[<matplotlib.lines.Line2D at 0x12eb2a518>]"
      ]
     },
     "execution_count": 38,
     "metadata": {},
     "output_type": "execute_result"
    },
    {
     "data": {
      "image/png": "[encoded data removed]",
      "text/plain": [
       "<Figure size 432x288 with 1 Axes>"
      ]
     },
     "metadata": {},
     "output_type": "display_data"
    }
   ],
   "source": [
    "plt.plot(idl_train_logs['vp_lls'])"
   ]
  },
  {
   "cell_type": "code",
   "execution_count": 39,
   "metadata": {},
   "outputs": [
    {
     "data": {
      "text/plain": [
       "[<matplotlib.lines.Line2D at 0x12efdcc18>]"
      ]
     },
     "execution_count": 39,
     "metadata": {},
     "output_type": "execute_result"
    },
    {
     "data": {
      "image/png": "[encoded data removed]",
      "text/plain": [
       "<Figure size 432x288 with 1 Axes>"
      ]
     },
     "metadata": {},
     "output_type": "display_data"
    }
   ],
   "source": [
    "plt.plot(idl_train_logs['vt_lls'])"
   ]
  },
  {
   "cell_type": "code",
   "execution_count": 40,
   "metadata": {},
   "outputs": [
    {
     "data": {
      "text/plain": [
       "[<matplotlib.lines.Line2D at 0x12f0f2908>]"
      ]
     },
     "execution_count": 40,
     "metadata": {},
     "output_type": "execute_result"
    },
    {
     "data": {
      "image/png": "[encoded data removed]",
      "text/plain": [
       "<Figure size 432x288 with 1 Axes>"
      ]
     },
     "metadata": {},
     "output_type": "display_data"
    }
   ],
   "source": [
    "plt.plot(idl_train_logs['val_likelihoods'])"
   ]
  },
  {
   "cell_type": "code",
   "execution_count": 41,
   "metadata": {
    "scrolled": true
   },
   "outputs": [
    {
     "name": "stdout",
     "output_type": "stream",
     "text": [
      "[[101.54015144 101.54015144 101.54015144 101.54015144 101.54015144]\n",
      " [104.34698316 104.34698316 104.34698316 104.34698316 104.34698316]\n",
      " [100.85731552 100.85731552 100.85731552 100.85731552 100.85731552]\n",
      " [103.85379911 103.85379911 103.85379911 103.85379911 103.85379911]\n",
      " [112.38742295 112.38742295 112.38742295 112.38742295 112.38742295]\n",
      " [113.94907389 113.94907389 113.94907389 113.94907389 113.94907389]\n",
      " [138.89723303 138.89723303 138.89723303 138.89723303 138.89723303]\n",
      " [112.70972303 112.70972303 112.70972303 112.70972303 112.70972303]\n",
      " [105.76105015 105.76105015 105.76105015 105.76105015 105.76105015]\n",
      " [121.41350809 121.41350809 121.41350809 121.41350809 121.41350809]\n",
      " [119.87347153 119.87347153 119.87347153 119.87347153 119.87347153]\n",
      " [104.41979981 104.41979981 104.41979981 104.41979981 104.41979981]\n",
      " [108.60869934 108.60869934 108.60869934 108.60869934 108.60869934]\n",
      " [124.06307079 124.06307079 124.06307079 124.06307079 124.06307079]\n",
      " [107.51253442 107.51253442 107.51253442 107.51253442 107.51253442]\n",
      " [105.80948375 105.80948375 105.80948375 105.80948375 105.80948375]]\n"
     ]
    }
   ],
   "source": [
    "print(Qi[[s for s in range(nS) if mdp.get_tile_type(s)==1]])"
   ]
  },
  {
   "cell_type": "code",
   "execution_count": 42,
   "metadata": {},
   "outputs": [
    {
     "name": "stderr",
     "output_type": "stream",
     "text": [
      "/Users/mckaneandrus/anaconda2/envs/irld/lib/python3.6/site-packages/matplotlib/cbook/deprecation.py:107: MatplotlibDeprecationWarning: Adding an axes using the same arguments as a previous axes currently reuses the earlier instance.  In a future version, a new instance will always be created and returned.  Meanwhile, this warning can be suppressed, and the future behavior ensured, by passing a unique label to each axes instance.\n",
      "  warnings.warn(message, mplDeprecation, stacklevel=1)\n"
     ]
    },
    {
     "data": {
      "image/png": "[encoded data removed]",
      "text/plain": [
       "<Figure size 288x288 with 1 Axes>"
      ]
     },
     "metadata": {},
     "output_type": "display_data"
    },
    {
     "name": "stdout",
     "output_type": "stream",
     "text": [
      "(5, 7) b'S'\n",
      "(5, 8) b'F'\n"
     ]
    },
    {
     "data": {
      "image/png": "[encoded data removed]",
      "text/plain": [
       "<Figure size 288x288 with 1 Axes>"
      ]
     },
     "metadata": {},
     "output_type": "display_data"
    },
    {
     "name": "stdout",
     "output_type": "stream",
     "text": [
      "(5, 8) b'F'\n",
      "(5, 0) b'F'\n"
     ]
    },
    {
     "data": {
      "image/png": "[encoded data removed]",
      "text/plain": [
       "<Figure size 288x288 with 1 Axes>"
      ]
     },
     "metadata": {},
     "output_type": "display_data"
    },
    {
     "name": "stdout",
     "output_type": "stream",
     "text": [
      "(5, 0) b'F'\n",
      "(6, 0) b'F'\n"
     ]
    },
    {
     "data": {
      "image/png": "[encoded data removed]",
      "text/plain": [
       "<Figure size 288x288 with 1 Axes>"
      ]
     },
     "metadata": {},
     "output_type": "display_data"
    },
    {
     "name": "stdout",
     "output_type": "stream",
     "text": [
      "(6, 0) b'F'\n",
      "(6, 8) b'F'\n"
     ]
    },
    {
     "data": {
      "image/png": "[encoded data removed]",
      "text/plain": [
       "<Figure size 288x288 with 1 Axes>"
      ]
     },
     "metadata": {},
     "output_type": "display_data"
    },
    {
     "name": "stdout",
     "output_type": "stream",
     "text": [
      "(6, 8) b'F'\n",
      "(6, 0) b'F'\n"
     ]
    },
    {
     "data": {
      "image/png": "[encoded data removed]",
      "text/plain": [
       "<Figure size 288x288 with 1 Axes>"
      ]
     },
     "metadata": {},
     "output_type": "display_data"
    },
    {
     "name": "stdout",
     "output_type": "stream",
     "text": [
      "(6, 0) b'F'\n",
      "(7, 0) b'F'\n"
     ]
    },
    {
     "data": {
      "image/png": "[encoded data removed]",
      "text/plain": [
       "<Figure size 288x288 with 1 Axes>"
      ]
     },
     "metadata": {},
     "output_type": "display_data"
    },
    {
     "name": "stdout",
     "output_type": "stream",
     "text": [
      "(7, 0) b'F'\n",
      "(7, 8) b'F'\n"
     ]
    },
    {
     "data": {
      "image/png": "[encoded data removed]",
      "text/plain": [
       "<Figure size 288x288 with 1 Axes>"
      ]
     },
     "metadata": {},
     "output_type": "display_data"
    },
    {
     "name": "stdout",
     "output_type": "stream",
     "text": [
      "(7, 8) b'F'\n",
      "(6, 8) b'F'\n"
     ]
    },
    {
     "data": {
      "image/png": "[encoded data removed]",
      "text/plain": [
       "<Figure size 288x288 with 1 Axes>"
      ]
     },
     "metadata": {},
     "output_type": "display_data"
    },
    {
     "name": "stdout",
     "output_type": "stream",
     "text": [
      "(6, 8) b'F'\n",
      "(6, 0) b'F'\n"
     ]
    },
    {
     "data": {
      "image/png": "[encoded data removed]",
      "text/plain": [
       "<Figure size 288x288 with 1 Axes>"
      ]
     },
     "metadata": {},
     "output_type": "display_data"
    },
    {
     "name": "stdout",
     "output_type": "stream",
     "text": [
      "(6, 0) b'F'\n",
      "(7, 0) b'F'\n"
     ]
    },
    {
     "data": {
      "image/png": "[encoded data removed]",
      "text/plain": [
       "<Figure size 288x288 with 1 Axes>"
      ]
     },
     "metadata": {},
     "output_type": "display_data"
    },
    {
     "name": "stdout",
     "output_type": "stream",
     "text": [
      "(7, 0) b'F'\n",
      "(7, 0) b'F'\n"
     ]
    },
    {
     "data": {
      "image/png": "[encoded data removed]",
      "text/plain": [
       "<Figure size 288x288 with 1 Axes>"
      ]
     },
     "metadata": {},
     "output_type": "display_data"
    },
    {
     "name": "stdout",
     "output_type": "stream",
     "text": [
      "(7, 0) b'F'\n",
      "(7, 1) b'F'\n"
     ]
    },
    {
     "data": {
      "image/png": "[encoded data removed]",
      "text/plain": [
       "<Figure size 288x288 with 1 Axes>"
      ]
     },
     "metadata": {},
     "output_type": "display_data"
    },
    {
     "name": "stdout",
     "output_type": "stream",
     "text": [
      "(7, 1) b'F'\n",
      "(8, 1) b'F'\n"
     ]
    },
    {
     "data": {
      "image/png": "[encoded data removed]",
      "text/plain": [
       "<Figure size 288x288 with 1 Axes>"
      ]
     },
     "metadata": {},
     "output_type": "display_data"
    },
    {
     "name": "stdout",
     "output_type": "stream",
     "text": [
      "(8, 1) b'F'\n",
      "(0, 1) b'F'\n"
     ]
    },
    {
     "data": {
      "image/png": "[encoded data removed]",
      "text/plain": [
       "<Figure size 288x288 with 1 Axes>"
      ]
     },
     "metadata": {},
     "output_type": "display_data"
    },
    {
     "name": "stdout",
     "output_type": "stream",
     "text": [
      "(0, 1) b'F'\n",
      "(0, 0) b'2'\n"
     ]
    },
    {
     "data": {
      "image/png": "[encoded data removed]",
      "text/plain": [
       "<Figure size 288x288 with 1 Axes>"
      ]
     },
     "metadata": {},
     "output_type": "display_data"
    },
    {
     "name": "stdout",
     "output_type": "stream",
     "text": [
      "(0, 0) b'2'\n",
      "(0, 0) b'2'\n"
     ]
    },
    {
     "data": {
      "image/png": "[encoded data removed]",
      "text/plain": [
       "<Figure size 288x288 with 1 Axes>"
      ]
     },
     "metadata": {},
     "output_type": "display_data"
    },
    {
     "name": "stdout",
     "output_type": "stream",
     "text": [
      "(0, 0) b'2'\n",
      "(0, 0) b'2'\n"
     ]
    },
    {
     "data": {
      "image/png": "[encoded data removed]",
      "text/plain": [
       "<Figure size 288x288 with 1 Axes>"
      ]
     },
     "metadata": {},
     "output_type": "display_data"
    },
    {
     "name": "stdout",
     "output_type": "stream",
     "text": [
      "(0, 0) b'2'\n",
      "(0, 0) b'2'\n"
     ]
    },
    {
     "data": {
      "image/png": "[encoded data removed]",
      "text/plain": [
       "<Figure size 288x288 with 1 Axes>"
      ]
     },
     "metadata": {},
     "output_type": "display_data"
    },
    {
     "name": "stdout",
     "output_type": "stream",
     "text": [
      "(0, 0) b'2'\n",
      "(0, 0) b'2'\n"
     ]
    },
    {
     "data": {
      "image/png": "[encoded data removed]",
      "text/plain": [
       "<Figure size 288x288 with 1 Axes>"
      ]
     },
     "metadata": {},
     "output_type": "display_data"
    },
    {
     "name": "stdout",
     "output_type": "stream",
     "text": [
      "(0, 0) b'2'\n",
      "(0, 0) b'2'\n"
     ]
    },
    {
     "data": {
      "image/png": "[encoded data removed]",
      "text/plain": [
       "<Figure size 288x288 with 1 Axes>"
      ]
     },
     "metadata": {},
     "output_type": "display_data"
    },
    {
     "name": "stdout",
     "output_type": "stream",
     "text": [
      "(0, 0) b'2'\n",
      "(1, 0) b'F'\n"
     ]
    },
    {
     "data": {
      "image/png": "[encoded data removed]",
      "text/plain": [
       "<Figure size 288x288 with 1 Axes>"
      ]
     },
     "metadata": {},
     "output_type": "display_data"
    },
    {
     "name": "stdout",
     "output_type": "stream",
     "text": [
      "(1, 0) b'F'\n",
      "(1, 8) b'F'\n"
     ]
    },
    {
     "data": {
      "image/png": "[encoded data removed]",
      "text/plain": [
       "<Figure size 288x288 with 1 Axes>"
      ]
     },
     "metadata": {},
     "output_type": "display_data"
    },
    {
     "name": "stdout",
     "output_type": "stream",
     "text": [
      "(1, 8) b'F'\n",
      "(0, 8) b'1'\n"
     ]
    },
    {
     "data": {
      "image/png": "[encoded data removed]",
      "text/plain": [
       "<Figure size 288x288 with 1 Axes>"
      ]
     },
     "metadata": {},
     "output_type": "display_data"
    },
    {
     "name": "stdout",
     "output_type": "stream",
     "text": [
      "(0, 8) b'1'\n",
      "(0, 0) b'2'\n"
     ]
    },
    {
     "data": {
      "image/png": "[encoded data removed]",
      "text/plain": [
       "<Figure size 288x288 with 1 Axes>"
      ]
     },
     "metadata": {},
     "output_type": "display_data"
    },
    {
     "name": "stdout",
     "output_type": "stream",
     "text": [
      "(0, 0) b'2'\n",
      "(0, 1) b'F'\n"
     ]
    },
    {
     "data": {
      "image/png": "[encoded data removed]",
      "text/plain": [
       "<Figure size 288x288 with 1 Axes>"
      ]
     },
     "metadata": {},
     "output_type": "display_data"
    },
    {
     "name": "stdout",
     "output_type": "stream",
     "text": [
      "(0, 1) b'F'\n",
      "(1, 1) b'F'\n"
     ]
    },
    {
     "data": {
      "image/png": "[encoded data removed]",
      "text/plain": [
       "<Figure size 288x288 with 1 Axes>"
      ]
     },
     "metadata": {},
     "output_type": "display_data"
    },
    {
     "name": "stdout",
     "output_type": "stream",
     "text": [
      "(1, 1) b'F'\n",
      "(0, 1) b'F'\n"
     ]
    },
    {
     "data": {
      "image/png": "[encoded data removed]",
      "text/plain": [
       "<Figure size 288x288 with 1 Axes>"
      ]
     },
     "metadata": {},
     "output_type": "display_data"
    },
    {
     "name": "stdout",
     "output_type": "stream",
     "text": [
      "(0, 1) b'F'\n",
      "(0, 0) b'2'\n"
     ]
    },
    {
     "data": {
      "image/png": "[encoded data removed]",
      "text/plain": [
       "<Figure size 288x288 with 1 Axes>"
      ]
     },
     "metadata": {},
     "output_type": "display_data"
    },
    {
     "name": "stdout",
     "output_type": "stream",
     "text": [
      "(0, 0) b'2'\n",
      "(0, 0) b'2'\n"
     ]
    },
    {
     "data": {
      "image/png": "[encoded data removed]",
      "text/plain": [
       "<Figure size 288x288 with 1 Axes>"
      ]
     },
     "metadata": {},
     "output_type": "display_data"
    },
    {
     "name": "stdout",
     "output_type": "stream",
     "text": [
      "(0, 0) b'2'\n",
      "(0, 0) b'2'\n"
     ]
    },
    {
     "data": {
      "image/png": "[encoded data removed]",
      "text/plain": [
       "<Figure size 288x288 with 1 Axes>"
      ]
     },
     "metadata": {},
     "output_type": "display_data"
    },
    {
     "name": "stdout",
     "output_type": "stream",
     "text": [
      "(0, 0) b'2'\n",
      "(0, 0) b'2'\n"
     ]
    },
    {
     "data": {
      "image/png": "[encoded data removed]",
      "text/plain": [
       "<Figure size 288x288 with 1 Axes>"
      ]
     },
     "metadata": {},
     "output_type": "display_data"
    },
    {
     "name": "stdout",
     "output_type": "stream",
     "text": [
      "(0, 0) b'2'\n",
      "(0, 0) b'2'\n"
     ]
    },
    {
     "data": {
      "image/png": "[encoded data removed]",
      "text/plain": [
       "<Figure size 288x288 with 1 Axes>"
      ]
     },
     "metadata": {},
     "output_type": "display_data"
    },
    {
     "name": "stdout",
     "output_type": "stream",
     "text": [
      "(0, 0) b'2'\n",
      "(0, 0) b'2'\n"
     ]
    },
    {
     "data": {
      "image/png": "[encoded data removed]",
      "text/plain": [
       "<Figure size 288x288 with 1 Axes>"
      ]
     },
     "metadata": {},
     "output_type": "display_data"
    },
    {
     "name": "stdout",
     "output_type": "stream",
     "text": [
      "(0, 0) b'2'\n",
      "(0, 8) b'1'\n"
     ]
    },
    {
     "data": {
      "image/png": "[encoded data removed]",
      "text/plain": [
       "<Figure size 288x288 with 1 Axes>"
      ]
     },
     "metadata": {},
     "output_type": "display_data"
    },
    {
     "name": "stdout",
     "output_type": "stream",
     "text": [
      "(0, 8) b'1'\n",
      "(0, 0) b'2'\n"
     ]
    },
    {
     "data": {
      "image/png": "[encoded data removed]",
      "text/plain": [
       "<Figure size 288x288 with 1 Axes>"
      ]
     },
     "metadata": {},
     "output_type": "display_data"
    },
    {
     "name": "stdout",
     "output_type": "stream",
     "text": [
      "(0, 0) b'2'\n",
      "(8, 0) b'1'\n"
     ]
    },
    {
     "data": {
      "image/png": "[encoded data removed]",
      "text/plain": [
       "<Figure size 288x288 with 1 Axes>"
      ]
     },
     "metadata": {},
     "output_type": "display_data"
    },
    {
     "name": "stdout",
     "output_type": "stream",
     "text": [
      "(8, 0) b'1'\n",
      "(8, 0) b'1'\n"
     ]
    },
    {
     "data": {
      "image/png": "[encoded data removed]",
      "text/plain": [
       "<Figure size 288x288 with 1 Axes>"
      ]
     },
     "metadata": {},
     "output_type": "display_data"
    },
    {
     "name": "stdout",
     "output_type": "stream",
     "text": [
      "(8, 0) b'1'\n",
      "(8, 0) b'1'\n"
     ]
    },
    {
     "data": {
      "image/png": "[encoded data removed]",
      "text/plain": [
       "<Figure size 288x288 with 1 Axes>"
      ]
     },
     "metadata": {},
     "output_type": "display_data"
    },
    {
     "name": "stdout",
     "output_type": "stream",
     "text": [
      "(8, 0) b'1'\n",
      "(0, 0) b'2'\n"
     ]
    },
    {
     "data": {
      "image/png": "[encoded data removed]",
      "text/plain": [
       "<Figure size 288x288 with 1 Axes>"
      ]
     },
     "metadata": {},
     "output_type": "display_data"
    },
    {
     "name": "stdout",
     "output_type": "stream",
     "text": [
      "(0, 0) b'2'\n",
      "(0, 0) b'2'\n",
      "[[[0.75661909 0.0688394 ]\n",
      "  [0.13649036 0.13363353]\n",
      "  [0.00000003 0.07129067]\n",
      "  [0.10689049 0.08954699]\n",
      "  [0.00000003 0.63668941]]\n",
      "\n",
      " [[0.13372381 0.0688394 ]\n",
      "  [0.78646038 0.13363353]\n",
      "  [0.07981577 0.07129067]\n",
      "  [0.00000002 0.08954699]\n",
      "  [0.00000002 0.63668941]]\n",
      "\n",
      " [[0.00000002 0.0688394 ]\n",
      "  [0.09075466 0.13363353]\n",
      "  [0.80415278 0.07129067]\n",
      "  [0.10509252 0.08954699]\n",
      "  [0.00000002 0.63668941]]\n",
      "\n",
      " [[0.10123187 0.0688394 ]\n",
      "  [0.00000003 0.13363353]\n",
      "  [0.10891644 0.07129067]\n",
      "  [0.78985163 0.08954699]\n",
      "  [0.00000003 0.63668941]]\n",
      "\n",
      " [[0.00000001 0.0688394 ]\n",
      "  [0.00000001 0.13363353]\n",
      "  [0.00000001 0.07129067]\n",
      "  [0.00000001 0.08954699]\n",
      "  [0.99999997 0.63668941]]]\n"
     ]
    }
   ],
   "source": [
    "plot_mars(mdp,tabsoftq_gen_pol(Qi))\n",
    "print(softmax(Ti_thetas))"
   ]
  },
  {
   "cell_type": "code",
   "execution_count": 43,
   "metadata": {},
   "outputs": [
    {
     "data": {
      "text/plain": [
       "(81, 5)"
      ]
     },
     "execution_count": 43,
     "metadata": {},
     "output_type": "execute_result"
    }
   ],
   "source": [
    "Qi.shape"
   ]
  },
  {
   "cell_type": "code",
   "execution_count": 44,
   "metadata": {},
   "outputs": [
    {
     "data": {
      "text/plain": [
       "array([[[0.75661909, 0.13649036, 0.00000003, 0.10689049, 0.00000003],\n",
       "        [0.13372381, 0.78646038, 0.07981577, 0.00000002, 0.00000002],\n",
       "        [0.00000002, 0.09075466, 0.80415278, 0.10509252, 0.00000002],\n",
       "        [0.10123187, 0.00000003, 0.10891644, 0.78985163, 0.00000003],\n",
       "        [0.00000001, 0.00000001, 0.00000001, 0.00000001, 0.99999997]],\n",
       "\n",
       "       [[0.0688394 , 0.13363353, 0.07129067, 0.08954699, 0.63668941],\n",
       "        [0.0688394 , 0.13363353, 0.07129067, 0.08954699, 0.63668941],\n",
       "        [0.0688394 , 0.13363353, 0.07129067, 0.08954699, 0.63668941],\n",
       "        [0.0688394 , 0.13363353, 0.07129067, 0.08954699, 0.63668941],\n",
       "        [0.0688394 , 0.13363353, 0.07129067, 0.08954699, 0.63668941]]])"
      ]
     },
     "execution_count": 44,
     "metadata": {},
     "output_type": "execute_result"
    }
   ],
   "source": [
    "softmax(Ti_thetas).transpose((2,0,1))"
   ]
  },
  {
   "cell_type": "code",
   "execution_count": 45,
   "metadata": {},
   "outputs": [
    {
     "data": {
      "text/plain": [
       "array([[0.10104044, 0.02967142, 0.02354334, 0.0928144 , 0.7529304 ],\n",
       "       [0.86261872, 0.01241768, 0.00363208, 0.03071149, 0.09062003],\n",
       "       [0.85221794, 0.01724065, 0.00219019, 0.03797996, 0.09037126],\n",
       "       [0.84752876, 0.00013253, 0.00000822, 0.05100836, 0.10132214],\n",
       "       [0.2       , 0.2       , 0.2       , 0.2       , 0.2       ],\n",
       "       [0.00001073, 0.00004741, 0.85474071, 0.04899126, 0.09620989],\n",
       "       [0.00391063, 0.01216101, 0.83890751, 0.0546169 , 0.09040395],\n",
       "       [0.00553416, 0.00958124, 0.84045252, 0.05536262, 0.08906947],\n",
       "       [0.01219077, 0.01507324, 0.63905726, 0.11411162, 0.21956711],\n",
       "       [0.02967398, 0.00444007, 0.00848537, 0.86656804, 0.09083254],\n",
       "       [0.47039008, 0.00656876, 0.00488825, 0.46627193, 0.05188098],\n",
       "       [0.69226531, 0.00733032, 0.00002533, 0.22047608, 0.07990296],\n",
       "       [0.2       , 0.2       , 0.2       , 0.2       , 0.2       ],\n",
       "       [0.2       , 0.2       , 0.2       , 0.2       , 0.2       ],\n",
       "       [0.2       , 0.2       , 0.2       , 0.2       , 0.2       ],\n",
       "       [0.00004552, 0.00360814, 0.68965526, 0.22964446, 0.07704662],\n",
       "       [0.00615258, 0.00525347, 0.50020565, 0.43535092, 0.05303737],\n",
       "       [0.00807695, 0.00523221, 0.22366602, 0.6921667 , 0.07085813],\n",
       "       [0.03863581, 0.00574498, 0.0124625 , 0.8511332 , 0.0920235 ],\n",
       "       [0.38581984, 0.00800994, 0.0072644 , 0.54018437, 0.05872145],\n",
       "       [0.4282481 , 0.0266673 , 0.03481525, 0.45906154, 0.05120781],\n",
       "       [0.09096813, 0.71546195, 0.11304202, 0.00042707, 0.08010083],\n",
       "       [0.2       , 0.2       , 0.2       , 0.2       , 0.2       ],\n",
       "       [0.22635554, 0.6170884 , 0.08606011, 0.00062381, 0.06987214],\n",
       "       [0.02894794, 0.01303361, 0.430982  , 0.47351195, 0.05352449],\n",
       "       [0.0077384 , 0.00576484, 0.43731607, 0.49471851, 0.05446218],\n",
       "       [0.01052353, 0.00605294, 0.19060995, 0.71506635, 0.07774723],\n",
       "       [0.046745  , 0.00687304, 0.01812872, 0.82838086, 0.09987238],\n",
       "       [0.302836  , 0.00798081, 0.02540948, 0.59929783, 0.06447588],\n",
       "       [0.09278202, 0.00205069, 0.57225872, 0.26795792, 0.06495064],\n",
       "       [0.2       , 0.2       , 0.2       , 0.2       , 0.2       ],\n",
       "       [0.2       , 0.2       , 0.2       , 0.2       , 0.2       ],\n",
       "       [0.2       , 0.2       , 0.2       , 0.2       , 0.2       ],\n",
       "       [0.42233169, 0.002204  , 0.1519539 , 0.37481242, 0.04869799],\n",
       "       [0.0148372 , 0.00642033, 0.3863577 , 0.5337057 , 0.05867907],\n",
       "       [0.01318788, 0.00667676, 0.17570359, 0.72246246, 0.08196931],\n",
       "       [0.07421037, 0.20013649, 0.02319934, 0.62567286, 0.07678095],\n",
       "       [0.37258954, 0.18522449, 0.00554421, 0.39174831, 0.04489345],\n",
       "       [0.2       , 0.2       , 0.2       , 0.2       , 0.2       ],\n",
       "       [0.2       , 0.2       , 0.2       , 0.2       , 0.2       ],\n",
       "       [0.        , 0.        , 0.        , 0.        , 1.        ],\n",
       "       [0.2       , 0.2       , 0.2       , 0.2       , 0.2       ],\n",
       "       [0.2       , 0.2       , 0.2       , 0.2       , 0.2       ],\n",
       "       [0.00521898, 0.10363196, 0.44267541, 0.39741955, 0.0510541 ],\n",
       "       [0.02095447, 0.17299871, 0.18560077, 0.55550603, 0.06494003],\n",
       "       [0.06661904, 0.7961133 , 0.02367404, 0.02056112, 0.0930325 ],\n",
       "       [0.316004  , 0.59256281, 0.01119431, 0.01507339, 0.06516548],\n",
       "       [0.35205097, 0.5154043 , 0.06175326, 0.009275  , 0.06151647],\n",
       "       [0.2       , 0.2       , 0.2       , 0.2       , 0.2       ],\n",
       "       [0.2       , 0.2       , 0.2       , 0.2       , 0.2       ],\n",
       "       [0.2       , 0.2       , 0.2       , 0.2       , 0.2       ],\n",
       "       [0.08028653, 0.51096818, 0.33835128, 0.00929899, 0.06109502],\n",
       "       [0.01315428, 0.4797869 , 0.43246292, 0.02022629, 0.0543696 ],\n",
       "       [0.01693061, 0.70850156, 0.17169955, 0.02066433, 0.08220395],\n",
       "       [0.05850215, 0.82652384, 0.01570187, 0.0061159 , 0.09315624],\n",
       "       [0.35301267, 0.56999434, 0.00700564, 0.00681312, 0.06317424],\n",
       "       [0.45596717, 0.47363606, 0.00771686, 0.00878297, 0.05389693],\n",
       "       [0.506071  , 0.35634925, 0.00961058, 0.06789584, 0.06007334],\n",
       "       [0.2       , 0.2       , 0.2       , 0.2       , 0.2       ],\n",
       "       [0.02666485, 0.37697525, 0.46699948, 0.07408862, 0.05527181],\n",
       "       [0.0103126 , 0.46089698, 0.46697678, 0.00829621, 0.05351742],\n",
       "       [0.00797494, 0.4989462 , 0.43198258, 0.00563943, 0.05545685],\n",
       "       [0.01261079, 0.75815689, 0.14256975, 0.00591289, 0.08074969],\n",
       "       [0.06096911, 0.83226296, 0.0108468 , 0.00539871, 0.09052242],\n",
       "       [0.42253572, 0.51100383, 0.00539896, 0.00618763, 0.05487386],\n",
       "       [0.50268171, 0.42919914, 0.00537824, 0.0072188 , 0.05552211],\n",
       "       [0.56322869, 0.35754597, 0.00580696, 0.0113479 , 0.06207048],\n",
       "       [0.45390973, 0.20477043, 0.26608724, 0.02223612, 0.05299648],\n",
       "       [0.01283313, 0.38675535, 0.53144478, 0.00934964, 0.0596171 ],\n",
       "       [0.00735669, 0.42411196, 0.50700215, 0.00590757, 0.05562163],\n",
       "       [0.00659887, 0.46747988, 0.47041607, 0.00486167, 0.05064351],\n",
       "       [0.01024671, 0.77985911, 0.12727329, 0.00492508, 0.07769581],\n",
       "       [0.12460612, 0.65265345, 0.01388167, 0.01071246, 0.1981463 ],\n",
       "       [0.67266303, 0.24326033, 0.00494918, 0.00827405, 0.07085342],\n",
       "       [0.71522699, 0.19206032, 0.00491566, 0.01105064, 0.07674639],\n",
       "       [0.79949236, 0.09365866, 0.00299033, 0.01586156, 0.08799709],\n",
       "       [0.39695327, 0.00055397, 0.48754618, 0.05707599, 0.05787058],\n",
       "       [0.00461834, 0.07174015, 0.82119069, 0.01248852, 0.08996229],\n",
       "       [0.00667851, 0.11471219, 0.78395603, 0.00969614, 0.08495714],\n",
       "       [0.00632492, 0.11479263, 0.78980915, 0.00770444, 0.08136886],\n",
       "       [0.02070902, 0.33849319, 0.33016456, 0.01600191, 0.29463133]])"
      ]
     },
     "execution_count": 45,
     "metadata": {},
     "output_type": "execute_result"
    }
   ],
   "source": [
    "tabsoftq_gen_pol_probs(Qi)"
   ]
  },
  {
   "cell_type": "code",
   "execution_count": 46,
   "metadata": {
    "scrolled": true
   },
   "outputs": [
    {
     "name": "stdout",
     "output_type": "stream",
     "text": [
      "[[[0.75661909 0.0688394 ]\n",
      "  [0.13649036 0.13363353]\n",
      "  [0.00000003 0.07129067]\n",
      "  [0.10689049 0.08954699]\n",
      "  [0.00000003 0.63668941]]\n",
      "\n",
      " [[0.13372381 0.0688394 ]\n",
      "  [0.78646038 0.13363353]\n",
      "  [0.07981577 0.07129067]\n",
      "  [0.00000002 0.08954699]\n",
      "  [0.00000002 0.63668941]]\n",
      "\n",
      " [[0.00000002 0.0688394 ]\n",
      "  [0.09075466 0.13363353]\n",
      "  [0.80415278 0.07129067]\n",
      "  [0.10509252 0.08954699]\n",
      "  [0.00000002 0.63668941]]\n",
      "\n",
      " [[0.10123187 0.0688394 ]\n",
      "  [0.00000003 0.13363353]\n",
      "  [0.10891644 0.07129067]\n",
      "  [0.78985163 0.08954699]\n",
      "  [0.00000003 0.63668941]]\n",
      "\n",
      " [[0.00000001 0.0688394 ]\n",
      "  [0.00000001 0.13363353]\n",
      "  [0.00000001 0.07129067]\n",
      "  [0.00000001 0.08954699]\n",
      "  [0.99999997 0.63668941]]]\n"
     ]
    }
   ],
   "source": [
    "print(softmax(Ti_thetas)) # - softmax(T_estimate(adt_obs[train_demo_example_idxes])))"
   ]
  },
  {
   "cell_type": "code",
   "execution_count": null,
   "metadata": {},
   "outputs": [],
   "source": []
  },
  {
   "cell_type": "code",
   "execution_count": 47,
   "metadata": {},
   "outputs": [
    {
     "name": "stdout",
     "output_type": "stream",
     "text": [
      "[4, 12, 13, 14, 22, 30, 31, 32, 38, 39, 41, 42, 48, 49, 50, 58]\n",
      "[[101.5319503  101.5319503  101.5319503  101.5319503  101.5319503 ]\n",
      " [104.32212227 104.32212227 104.32212227 104.32212227 104.32212227]\n",
      " [100.82883457 100.82883457 100.82883457 100.82883457 100.82883457]\n",
      " [103.83915477 103.83915477 103.83915477 103.83915477 103.83915477]\n",
      " [112.34933312 112.34933312 112.34933312 112.34933312 112.34933312]\n",
      " [113.92571895 113.92571895 113.92571895 113.92571895 113.92571895]\n",
      " [138.86267532 138.86267532 138.86267532 138.86267532 138.86267532]\n",
      " [112.67120337 112.67120337 112.67120337 112.67120337 112.67120337]\n",
      " [105.74836473 105.74836473 105.74836473 105.74836473 105.74836473]\n",
      " [121.40355956 121.40355956 121.40355956 121.40355956 121.40355956]\n",
      " [119.84667755 119.84667755 119.84667755 119.84667755 119.84667755]\n",
      " [104.40329268 104.40329268 104.40329268 104.40329268 104.40329268]\n",
      " [108.60629339 108.60629339 108.60629339 108.60629339 108.60629339]\n",
      " [124.06720135 124.06720135 124.06720135 124.06720135 124.06720135]\n",
      " [107.50826393 107.50826393 107.50826393 107.50826393 107.50826393]\n",
      " [105.81138473 105.81138473 105.81138473 105.81138473 105.81138473]]\n",
      "-297.1235011617597 -117.3491461855397\n"
     ]
    },
    {
     "data": {
      "text/plain": [
       "-414.47264734729936"
      ]
     },
     "execution_count": 47,
     "metadata": {},
     "output_type": "execute_result"
    }
   ],
   "source": [
    "test_T_likelihood(softmax(Ti_thetas), val_sas_obs, val_adt_obs)"
   ]
  },
  {
   "cell_type": "code",
   "execution_count": 48,
   "metadata": {},
   "outputs": [
    {
     "name": "stdout",
     "output_type": "stream",
     "text": [
      "[4, 12, 13, 14, 22, 30, 31, 32, 38, 39, 41, 42, 48, 49, 50, 58]\n",
      "[[122.86522304 122.86522304 122.86522304 122.86522304 122.86522304]\n",
      " [124.80733249 124.80733249 124.80733249 124.80733249 124.80733249]\n",
      " [123.12469914 123.12469914 123.12469914 123.12469914 123.12469914]\n",
      " [124.89695505 124.89695505 124.89695505 124.89695505 124.89695505]\n",
      " [132.49222608 132.49222608 132.49222608 132.49222608 132.49222608]\n",
      " [139.32810877 139.32810877 139.32810877 139.32810877 139.32810877]\n",
      " [150.13220942 150.13220942 150.13220942 150.13220942 150.13220942]\n",
      " [139.37411939 139.37411939 139.37411939 139.37411939 139.37411939]\n",
      " [135.1140974  135.1140974  135.1140974  135.1140974  135.1140974 ]\n",
      " [150.94239012 150.94239012 150.94239012 150.94239012 150.94239012]\n",
      " [150.94858512 150.94858512 150.94858512 150.94858512 150.94858512]\n",
      " [135.11743031 135.11743031 135.11743031 135.11743031 135.11743031]\n",
      " [140.07564239 140.07564239 140.07564239 140.07564239 140.07564239]\n",
      " [151.2338851  151.2338851  151.2338851  151.2338851  151.2338851 ]\n",
      " [140.051711   140.051711   140.051711   140.051711   140.051711  ]\n",
      " [135.58621945 135.58621945 135.58621945 135.58621945 135.58621945]]\n",
      "-603.5516673166821 -117.53709302929911\n"
     ]
    },
    {
     "data": {
      "text/plain": [
       "-721.0887603459812"
      ]
     },
     "execution_count": 48,
     "metadata": {},
     "output_type": "execute_result"
    }
   ],
   "source": [
    "test_T_likelihood(softmax(T_estimate(adt_obs[train_demo_example_idxes])), val_sas_obs, val_adt_obs)"
   ]
  },
  {
   "cell_type": "code",
   "execution_count": 49,
   "metadata": {},
   "outputs": [
    {
     "name": "stdout",
     "output_type": "stream",
     "text": [
      "[4, 12, 13, 14, 22, 30, 31, 32, 38, 39, 41, 42, 48, 49, 50, 58]\n",
      "[[0.00788625 0.00788625 0.00788625 0.00788625 0.00788625]\n",
      " [0.00788625 0.00788625 0.00788625 0.00788625 0.00788625]\n",
      " [0.00788625 0.00788625 0.00788625 0.00788625 0.00788625]\n",
      " [0.00788625 0.00788625 0.00788625 0.00788625 0.00788625]\n",
      " [0.00788625 0.00788625 0.00788625 0.00788625 0.00788625]\n",
      " [0.00788625 0.00788625 0.00788625 0.00788625 0.00788625]\n",
      " [0.00788625 0.00788625 0.00788625 0.00788625 0.00788625]\n",
      " [0.00788625 0.00788625 0.00788625 0.00788625 0.00788625]\n",
      " [0.00788625 0.00788625 0.00788625 0.00788625 0.00788625]\n",
      " [0.00788625 0.00788625 0.00788625 0.00788625 0.00788625]\n",
      " [0.00788625 0.00788625 0.00788625 0.00788625 0.00788625]\n",
      " [0.00788625 0.00788625 0.00788625 0.00788625 0.00788625]\n",
      " [0.00788625 0.00788625 0.00788625 0.00788625 0.00788625]\n",
      " [0.00788625 0.00788625 0.00788625 0.00788625 0.00788625]\n",
      " [0.00788625 0.00788625 0.00788625 0.00788625 0.00788625]\n",
      " [0.00788625 0.00788625 0.00788625 0.00788625 0.00788625]]\n",
      "-286.6888758620535 -116.65888917608319\n"
     ]
    },
    {
     "data": {
      "text/plain": [
       "-403.3477650381367"
      ]
     },
     "execution_count": 49,
     "metadata": {},
     "output_type": "execute_result"
    }
   ],
   "source": [
    "test_T_likelihood(true_tps, val_sas_obs, val_adt_obs)"
   ]
  },
  {
   "cell_type": "code",
   "execution_count": 50,
   "metadata": {},
   "outputs": [
    {
     "data": {
      "text/plain": [
       "0.7418893741068084"
      ]
     },
     "execution_count": 50,
     "metadata": {},
     "output_type": "execute_result"
    }
   ],
   "source": [
    "true_trans_loss(softmax(Ti_thetas))"
   ]
  },
  {
   "cell_type": "code",
   "execution_count": 51,
   "metadata": {},
   "outputs": [
    {
     "data": {
      "text/plain": [
       "array([[[0.75661909, 0.0688394 ],\n",
       "        [0.13649036, 0.13363353],\n",
       "        [0.00000003, 0.07129067],\n",
       "        [0.10689049, 0.08954699],\n",
       "        [0.00000003, 0.63668941]],\n",
       "\n",
       "       [[0.13372381, 0.0688394 ],\n",
       "        [0.78646038, 0.13363353],\n",
       "        [0.07981577, 0.07129067],\n",
       "        [0.00000002, 0.08954699],\n",
       "        [0.00000002, 0.63668941]],\n",
       "\n",
       "       [[0.00000002, 0.0688394 ],\n",
       "        [0.09075466, 0.13363353],\n",
       "        [0.80415278, 0.07129067],\n",
       "        [0.10509252, 0.08954699],\n",
       "        [0.00000002, 0.63668941]],\n",
       "\n",
       "       [[0.10123187, 0.0688394 ],\n",
       "        [0.00000003, 0.13363353],\n",
       "        [0.10891644, 0.07129067],\n",
       "        [0.78985163, 0.08954699],\n",
       "        [0.00000003, 0.63668941]],\n",
       "\n",
       "       [[0.00000001, 0.0688394 ],\n",
       "        [0.00000001, 0.13363353],\n",
       "        [0.00000001, 0.07129067],\n",
       "        [0.00000001, 0.08954699],\n",
       "        [0.99999997, 0.63668941]]])"
      ]
     },
     "execution_count": 51,
     "metadata": {},
     "output_type": "execute_result"
    }
   ],
   "source": [
    "softmax(Ti_thetas)"
   ]
  },
  {
   "cell_type": "code",
   "execution_count": 52,
   "metadata": {},
   "outputs": [
    {
     "data": {
      "text/plain": [
       "1.6020488178872074"
      ]
     },
     "execution_count": 52,
     "metadata": {},
     "output_type": "execute_result"
    }
   ],
   "source": [
    "true_trans_loss(softmax(T_estimate(adt_obs[train_demo_example_idxes])))"
   ]
  },
  {
   "cell_type": "code",
   "execution_count": 53,
   "metadata": {},
   "outputs": [
    {
     "data": {
      "text/plain": [
       "array([[[0.79436611, 0.2       ],\n",
       "        [0.10704227, 0.2       ],\n",
       "        [0.00000003, 0.2       ],\n",
       "        [0.09859156, 0.2       ],\n",
       "        [0.00000003, 0.2       ]],\n",
       "\n",
       "       [[0.13015185, 0.2       ],\n",
       "        [0.78741859, 0.2       ],\n",
       "        [0.08242951, 0.2       ],\n",
       "        [0.00000002, 0.2       ],\n",
       "        [0.00000002, 0.2       ]],\n",
       "\n",
       "       [[0.00000002, 0.2       ],\n",
       "        [0.09586058, 0.2       ],\n",
       "        [0.79520691, 0.2       ],\n",
       "        [0.10893247, 0.2       ],\n",
       "        [0.00000002, 0.2       ]],\n",
       "\n",
       "       [[0.09438777, 0.2       ],\n",
       "        [0.00000003, 0.2       ],\n",
       "        [0.08163267, 0.2       ],\n",
       "        [0.82397951, 0.2       ],\n",
       "        [0.00000003, 0.2       ]],\n",
       "\n",
       "       [[0.00000001, 0.2       ],\n",
       "        [0.00000001, 0.2       ],\n",
       "        [0.00000001, 0.2       ],\n",
       "        [0.00000001, 0.2       ],\n",
       "        [0.99999997, 0.2       ]]])"
      ]
     },
     "execution_count": 53,
     "metadata": {},
     "output_type": "execute_result"
    }
   ],
   "source": [
    "softmax(T_estimate(adt_obs[train_demo_example_idxes]))"
   ]
  },
  {
   "cell_type": "code",
   "execution_count": 54,
   "metadata": {},
   "outputs": [
    {
     "data": {
      "image/png": "[encoded data removed]",
      "text/plain": [
       "<Figure size 576x576 with 1 Axes>"
      ]
     },
     "metadata": {},
     "output_type": "display_data"
    }
   ],
   "source": [
    "plot_values(mdp, Qi)"
   ]
  },
  {
   "cell_type": "code",
   "execution_count": 55,
   "metadata": {},
   "outputs": [
    {
     "data": {
      "image/png": "[encoded data removed]",
      "text/plain": [
       "<Figure size 576x576 with 1 Axes>"
      ]
     },
     "metadata": {},
     "output_type": "display_data"
    }
   ],
   "source": [
    "plot_values(mdp, exQs)"
   ]
  },
  {
   "cell_type": "markdown",
   "metadata": {},
   "source": [
    "## SERD only"
   ]
  },
  {
   "cell_type": "code",
   "execution_count": 56,
   "metadata": {},
   "outputs": [],
   "source": [
    "serd_train_logs = {\n",
    "  'train_likelihoods': [],\n",
    "  'val_likelihoods': [],\n",
    "  'tp_lls': [],\n",
    "  'tt_lls': [],\n",
    "  'vp_lls': [],\n",
    "  'vt_lls': [],\n",
    "  'true_trans_loss': []\n",
    "}"
   ]
  },
  {
   "cell_type": "code",
   "execution_count": 57,
   "metadata": {},
   "outputs": [
    {
     "ename": "AttributeError",
     "evalue": "'MarsExplorerEnv' object has no attribute 'feature_map'",
     "output_type": "error",
     "traceback": [
      "\u001b[0;31m---------------------------------------------------------------------------\u001b[0m",
      "\u001b[0;31mAttributeError\u001b[0m                            Traceback (most recent call last)",
      "\u001b[0;32m<ipython-input-57-0aa15b108940>\u001b[0m in \u001b[0;36m<module>\u001b[0;34m()\u001b[0m\n\u001b[1;32m      1\u001b[0m \u001b[0mTs_thetas\u001b[0m \u001b[0;34m=\u001b[0m \u001b[0mT_estimate\u001b[0m\u001b[0;34m(\u001b[0m\u001b[0madt_obs\u001b[0m\u001b[0;34m[\u001b[0m\u001b[0mtrain_demo_example_idxes\u001b[0m\u001b[0;34m]\u001b[0m\u001b[0;34m)\u001b[0m \u001b[0;31m#np.log(Tps2+.000000001)\u001b[0m\u001b[0;34m\u001b[0m\u001b[0;34m\u001b[0m\u001b[0m\n\u001b[0;32m----> 2\u001b[0;31m \u001b[0mfeats\u001b[0m \u001b[0;34m=\u001b[0m \u001b[0mmdp\u001b[0m\u001b[0;34m.\u001b[0m\u001b[0mfeature_map\u001b[0m\u001b[0;34m\u001b[0m\u001b[0;34m\u001b[0m\u001b[0m\n\u001b[0m\u001b[1;32m      3\u001b[0m \u001b[0mRs_thetas\u001b[0m \u001b[0;34m=\u001b[0m \u001b[0mnp\u001b[0m\u001b[0;34m.\u001b[0m\u001b[0mrandom\u001b[0m\u001b[0;34m.\u001b[0m\u001b[0mnormal\u001b[0m\u001b[0;34m(\u001b[0m\u001b[0mloc\u001b[0m\u001b[0;34m=\u001b[0m\u001b[0;36m1\u001b[0m\u001b[0;34m,\u001b[0m\u001b[0mscale\u001b[0m\u001b[0;34m=\u001b[0m\u001b[0;36m0.1\u001b[0m\u001b[0;34m,\u001b[0m\u001b[0msize\u001b[0m\u001b[0;34m=\u001b[0m\u001b[0mfeats\u001b[0m\u001b[0;34m.\u001b[0m\u001b[0mshape\u001b[0m\u001b[0;34m[\u001b[0m\u001b[0;36m1\u001b[0m\u001b[0;34m]\u001b[0m\u001b[0;34m)\u001b[0m\u001b[0;34m\u001b[0m\u001b[0;34m\u001b[0m\u001b[0m\n\u001b[1;32m      4\u001b[0m \u001b[0mQs\u001b[0m \u001b[0;34m=\u001b[0m \u001b[0;32mNone\u001b[0m\u001b[0;34m\u001b[0m\u001b[0;34m\u001b[0m\u001b[0m\n",
      "\u001b[0;31mAttributeError\u001b[0m: 'MarsExplorerEnv' object has no attribute 'feature_map'"
     ]
    }
   ],
   "source": [
    "Ts_thetas = T_estimate(adt_obs[train_demo_example_idxes]) #np.log(Tps2+.000000001)\n",
    "feats = mdp.feature_map\n",
    "Rs_thetas = np.random.normal(loc=1,scale=0.1,size=feats.shape[1])\n",
    "Qs = None"
   ]
  },
  {
   "cell_type": "code",
   "execution_count": null,
   "metadata": {},
   "outputs": [],
   "source": [
    "maxiter = 300\n",
    "t_learning_rate = lambda t: 0 if t<20 else 3 - (2 * int(t/(maxiter/2)))\n",
    "r_learning_rate = lambda t: 2e-1 if t<20 else 1e-1"
   ]
  },
  {
   "cell_type": "code",
   "execution_count": null,
   "metadata": {
    "scrolled": true
   },
   "outputs": [],
   "source": [
    "while len(serd_train_logs['tt_lls']) < maxiter:\n",
    "    prevQs = Qs.copy() if Qs is not None else None\n",
    "    t = len(serd_train_logs['tt_lls'])\n",
    "    batch_demo_sas, batch_demo_adt = sample_batch(batch_size, train_demo_example_idxes, sas_obs, adt_obs)\n",
    "    Rs = feats.dot(Rs_thetas)\n",
    "    tp_ll, dT_pol, dR_pol, Qs = eval_TR_pol_likelihood_and_grad(Ts_thetas, Rs, feats, batch_demo_sas, Q_inits=Qs)\n",
    "    tt_ll, dT_trans = eval_trans_likelihood_and_grad(Ts_thetas, batch_demo_adt)\n",
    "    train_likelihood = tp_ll + tt_ll\n",
    "    vp_ll, vt_ll = eval_demo_log_likelihood(val_sas_obs, val_adt_obs, Ts_thetas, Qs)\n",
    "    val_likelihood = vp_ll + vt_ll\n",
    "    ttd = true_trans_loss(softmax(Ts_thetas))\n",
    "    Rs_thetas += r_learning_rate(t) * dR_pol\n",
    "    Ts_thetas += t_learning_rate(t) * (dT_trans + dT_pol)\n",
    "\n",
    "#     print(dT_trans)\n",
    "#     print(dT_pol)\n",
    "#     print(softmax(Ts_thetas))\n",
    "#     print(dR_pol * r_learning_rate(t))\n",
    "#     print(Rs_thetas)\n",
    "#     if prevQs is not None:\n",
    "#         print(\"Q_diff\")\n",
    "#         print(np.linalg.norm(Qs-prevQs))\n",
    "\n",
    "    \n",
    "    print('%d %f %f %f %f' % (t, vp_ll, vt_ll, vp_ll + vt_ll, ttd))\n",
    "    serd_train_logs['train_likelihoods'].append(train_likelihood)\n",
    "    serd_train_logs['val_likelihoods'].append(val_likelihood)\n",
    "    serd_train_logs['tp_lls'].append(tp_ll)\n",
    "    serd_train_logs['tt_lls'].append(tt_ll)\n",
    "    serd_train_logs['vp_lls'].append(vp_ll)\n",
    "    serd_train_logs['vt_lls'].append(vt_ll)\n",
    "    serd_train_logs['true_trans_loss'].append(ttd)"
   ]
  },
  {
   "cell_type": "code",
   "execution_count": null,
   "metadata": {},
   "outputs": [],
   "source": [
    "print(softmax(Ts_thetas))"
   ]
  },
  {
   "cell_type": "code",
   "execution_count": null,
   "metadata": {},
   "outputs": [],
   "source": [
    "print(Rs_thetas)"
   ]
  },
  {
   "cell_type": "code",
   "execution_count": null,
   "metadata": {},
   "outputs": [],
   "source": [
    "true_trans_loss(softmax(Ts_thetas))"
   ]
  },
  {
   "cell_type": "code",
   "execution_count": null,
   "metadata": {},
   "outputs": [],
   "source": [
    "plt.plot(serd_train_logs['vp_lls'][:250])\n",
    "plt.plot(idl_train_logs['vp_lls'][:250])"
   ]
  },
  {
   "cell_type": "code",
   "execution_count": null,
   "metadata": {},
   "outputs": [],
   "source": [
    "plt.plot(serd_train_logs['vt_lls'][:250])\n",
    "plt.plot(idl_train_logs['vt_lls'][:250])"
   ]
  },
  {
   "cell_type": "code",
   "execution_count": null,
   "metadata": {},
   "outputs": [],
   "source": [
    "plt.plot(serd_train_logs['val_likelihoods'], label = \"SERD\")\n",
    "plt.plot(idl_train_logs['val_likelihoods'], label = \"IDL\")\n",
    "plt.title(\"Log likelihood of Demonstrations\")\n",
    "plt.xlabel(\"Iterations of MDCE\")\n",
    "plt.ylabel(\"Log Likelihood\")\n",
    "plt.legend()"
   ]
  },
  {
   "cell_type": "code",
   "execution_count": null,
   "metadata": {},
   "outputs": [],
   "source": [
    "plt.plot(serd_train_logs['true_trans_loss'], label = \"SERD\")\n",
    "plt.plot(idl_train_logs['true_trans_loss'], label = \"IDL\")\n",
    "plt.title(\"Square Error of Learned Transition Parameters\")\n",
    "plt.xlabel(\"Iterations of MDCE\")\n",
    "plt.ylabel(\"Summed Square Error\")\n",
    "plt.legend()"
   ]
  },
  {
   "cell_type": "markdown",
   "metadata": {},
   "source": [
    "## Comparison Tests"
   ]
  },
  {
   "cell_type": "code",
   "execution_count": null,
   "metadata": {},
   "outputs": [],
   "source": [
    "def demo_stats(mdp, demos):\n",
    "    demo_rewards = []\n",
    "    for i in range(len(demos)):\n",
    "        demo_rewards += [np.array([mdp.rewards[obs[0][2]] for obs in demos[i]])]\n",
    "#         for j in range(len(demo_rewards[i])):\n",
    "#             print(demos[i][j][0], demo_rewards[i][j])\n",
    "    \n",
    "    discounted_demo_rewards = [np.power(gamma,np.arange(len(dr)))*dr for dr in demo_rewards]\n",
    "    demo_rewards, discounted_demo_rewards = np.array(demo_rewards), np.array(discounted_demo_rewards)\n",
    "    data = {\"mean episode reward\": np.mean(np.sum(demo_rewards, axis=1)),\n",
    "            \"sd episode reward\": np.std(np.sum(demo_rewards, axis=1)),\n",
    "            \"mean discounted episode reward\": np.mean(np.sum(discounted_demo_rewards, axis=1)),\n",
    "            \"sd discounted episode reward\": np.std(np.sum(discounted_demo_rewards, axis=1))}\n",
    "    return data\n",
    "    \n",
    "    "
   ]
  },
  {
   "cell_type": "code",
   "execution_count": null,
   "metadata": {},
   "outputs": [],
   "source": [
    "SERD_demos = generate_demonstrations(mdp, tabsoftq_gen_pol(Qs), 2000, demo_time_steps)\n",
    "IDL_demos = generate_demonstrations(mdp, tabsoftq_gen_pol(Qi), 2000, demo_time_steps)"
   ]
  },
  {
   "cell_type": "code",
   "execution_count": null,
   "metadata": {},
   "outputs": [],
   "source": [
    "print(demo_stats(mdp, SERD_demos))"
   ]
  },
  {
   "cell_type": "code",
   "execution_count": null,
   "metadata": {},
   "outputs": [],
   "source": [
    "print(demo_stats(mdp, IDL_demos))"
   ]
  },
  {
   "cell_type": "code",
   "execution_count": null,
   "metadata": {},
   "outputs": [],
   "source": [
    "plot_values(mdp, Qs)"
   ]
  },
  {
   "cell_type": "code",
   "execution_count": null,
   "metadata": {},
   "outputs": [],
   "source": [
    "plot_values(mdp, Qi)"
   ]
  },
  {
   "cell_type": "code",
   "execution_count": null,
   "metadata": {},
   "outputs": [],
   "source": [
    "print(reward_map[5][0], Qi[2], Q[2])"
   ]
  },
  {
   "cell_type": "markdown",
   "metadata": {},
   "source": [
    "### Transfer"
   ]
  },
  {
   "cell_type": "code",
   "execution_count": null,
   "metadata": {},
   "outputs": [],
   "source": [
    "tile_map2 = [\n",
    "        \"2FFFFFFF1\",\n",
    "        \"FFFFFFFFF\",\n",
    "        \"FFFFUFFFF\",\n",
    "        \"FFFUUUFSF\",\n",
    "        \"FFUU3UUFF\",\n",
    "        \"FSFUUUFSF\",\n",
    "        \"FSFFUFFSF\",\n",
    "        \"FFFSSSFFF\",\n",
    "        \"1FFFFFFF2\"\n",
    "    ]\n",
    "reward_map2, texture_map2 = build_reward_map(tile_map2, tile_rewards, goal_tile_rewards, tile_reward_modifier)\n",
    "# reward_normalizer2 = (1-gamma)/(np.max(reward_map2))\n",
    "# reward_map2 *= reward_normalizer2\n",
    "# time_penalty *= reward_normalizer2\n",
    "# temperature2 = 1/(reward_normalizer2)\n",
    "# print(temperature2)\n",
    "print(reward_map2)\n",
    "print(texture_map2)"
   ]
  },
  {
   "cell_type": "code",
   "execution_count": null,
   "metadata": {},
   "outputs": [],
   "source": [
    "mdp = MarsExplorerEnv(tile_map2, reward_map2, texture_map2, trans_dict, time_penalty) \n",
    "nA = mdp.num_actions\n",
    "nS = mdp.num_states"
   ]
  },
  {
   "cell_type": "code",
   "execution_count": null,
   "metadata": {},
   "outputs": [],
   "source": [
    "\n",
    "Tips = softmax(Ti_thetas,axis=1)\n",
    "Ti = mdp.adt_trans_to_sas_trans(Tips)\n",
    "Ri = mdp.rewards\n",
    "Qit = tabsoftq_iter(Ri, Ti, maxiter=tabsoftq_iter_maxiter, verbose=tabsoftq_iter_verbose, ftol=tabsoftq_iter_ftol)"
   ]
  },
  {
   "cell_type": "code",
   "execution_count": null,
   "metadata": {},
   "outputs": [],
   "source": [
    "Tips = softmax(Ti_thetas,axis=1)\n",
    "Ti = mdp.adt_trans_to_sas_trans(Tips)\n",
    "Ri = mdp.rewards\n",
    "Qit = tabsoftq_iter(Ri, Ti, maxiter=tabsoftq_iter_maxiter, verbose=tabsoftq_iter_verbose, ftol=tabsoftq_iter_ftol)"
   ]
  },
  {
   "cell_type": "code",
   "execution_count": null,
   "metadata": {},
   "outputs": [],
   "source": [
    "Tsps = softmax(Ts_thetas,axis=1)\n",
    "Ts = mdp.adt_trans_to_sas_trans(Tips)\n",
    "Rs = mdp.feature_map.dot(Rs_thetas)\n",
    "Qst = tabsoftq_iter(Rs, Ts, maxiter=tabsoftq_iter_maxiter, verbose=tabsoftq_iter_verbose, ftol=tabsoftq_iter_ftol)"
   ]
  },
  {
   "cell_type": "code",
   "execution_count": null,
   "metadata": {},
   "outputs": [],
   "source": [
    "IDL_trans_demos = generate_demonstrations(mdp, tabsoftq_gen_pol(Qit), 1000, demo_time_steps)\n",
    "SERD_trans_demos = generate_demonstrations(mdp, tabsoftq_gen_pol(Qst), 1000, demo_time_steps)"
   ]
  },
  {
   "cell_type": "code",
   "execution_count": null,
   "metadata": {},
   "outputs": [],
   "source": [
    "plot_mars(mdp,tabsoftq_gen_pol(Qit),Qs=Qit)"
   ]
  },
  {
   "cell_type": "code",
   "execution_count": null,
   "metadata": {},
   "outputs": [],
   "source": [
    "print(demo_stats(mdp, IDL_trans_demos))"
   ]
  },
  {
   "cell_type": "code",
   "execution_count": null,
   "metadata": {},
   "outputs": [],
   "source": [
    "print(demo_stats(mdp, SERD_trans_demos))"
   ]
  },
  {
   "cell_type": "code",
   "execution_count": null,
   "metadata": {},
   "outputs": [],
   "source": [
    "plot_values(mdp, Qit)"
   ]
  },
  {
   "cell_type": "code",
   "execution_count": null,
   "metadata": {},
   "outputs": [],
   "source": [
    "plot_values(mdp, Qst)"
   ]
  },
  {
   "cell_type": "code",
   "execution_count": null,
   "metadata": {},
   "outputs": [],
   "source": [
    "Qtrue = tabsoftq_learn_Qs(mdp)\n",
    "plot_values(mdp,Qtrue)"
   ]
  },
  {
   "cell_type": "code",
   "execution_count": null,
   "metadata": {},
   "outputs": [],
   "source": []
  },
  {
   "cell_type": "code",
   "execution_count": null,
   "metadata": {},
   "outputs": [],
   "source": []
  }
 ],
 "metadata": {
  "kernelspec": {
   "display_name": "Python 3",
   "language": "python",
   "name": "python3"
  },
  "language_info": {
   "codemirror_mode": {
    "name": "ipython",
    "version": 3
   },
   "file_extension": ".py",
   "mimetype": "text/x-python",
   "name": "python",
   "nbconvert_exporter": "python",
   "pygments_lexer": "ipython3",
   "version": "3.6.8"
  }
 },
 "nbformat": 4,
 "nbformat_minor": 2
}
