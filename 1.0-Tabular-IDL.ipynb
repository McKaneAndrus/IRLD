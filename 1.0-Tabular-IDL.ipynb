{
 "cells": [
  {
   "cell_type": "code",
   "execution_count": 1,
   "metadata": {},
   "outputs": [],
   "source": [
    "import numpy as np\n",
    "from envs import MarsExplorerEnv\n",
    "import matplotlib.pyplot as plt\n",
    "import time\n",
    "import matplotlib.cm as cm\n",
    "import matplotlib.colors as colors\n",
    "import os\n",
    "import seaborn as sns\n",
    "from matplotlib.offsetbox import AnnotationBbox, OffsetImage\n",
    "from matplotlib._png import read_png\n",
    "%matplotlib inline\n",
    "\n",
    "import gym\n",
    "from gym import spaces\n",
    "from gym.envs.classic_control import rendering\n",
    "import tensorflow as tf\n",
    "from scipy.special import logsumexp\n",
    "from copy import deepcopy as copy\n",
    "import random\n",
    "np.set_printoptions(precision=8, suppress=True,threshold=np.nan)"
   ]
  },
  {
   "cell_type": "code",
   "execution_count": 2,
   "metadata": {},
   "outputs": [],
   "source": [
    "%store -r"
   ]
  },
  {
   "cell_type": "code",
   "execution_count": 3,
   "metadata": {},
   "outputs": [],
   "source": [
    "#%store"
   ]
  },
  {
   "cell_type": "code",
   "execution_count": 4,
   "metadata": {},
   "outputs": [],
   "source": [
    "LEFT = 0\n",
    "DOWN = 1\n",
    "RIGHT = 2\n",
    "UP = 3\n",
    "NOOP = 4\n",
    "\n",
    "cdict = {'red':   ((0.0,  0.173, 0.173),\n",
    "                   (1.0,  0.925, 0.925)),\n",
    "\n",
    "         'green': ((0.0,  0.067, 0.067),\n",
    "                   (1.0, 0.384, 0.384)),\n",
    "\n",
    "         'blue':  ((0.0,  0.027, 0.027),\n",
    "                   (1.0,  0.196, 0.196))}\n",
    "plt.register_cmap(name='RustPlanet', data=cdict)\n",
    "REWARD_COLORS = cm.get_cmap('RustPlanet')\n",
    "AGENT_COLORS = cm.get_cmap('gray')\n",
    "MAP_COLORS = {b'B':\"#3a0e00\",\n",
    "              b'F':\"#933111\",\n",
    "              b'S':\"#933111\",\n",
    "              b'U':\"#d65b33\",\n",
    "              b'1':\"#956F52\",\n",
    "              b'2':\"#3C2F34\",\n",
    "              b'3':\"#644C42\"}\n",
    "\n",
    "ROVER_PNGS = {LEFT:\"utils/rover_left.png\",\n",
    "        RIGHT:\"utils/rover_right.png\",\n",
    "        DOWN:\"utils/rover_down.png\",\n",
    "        UP:\"utils/rover_up.png\",\n",
    "        NOOP:\"utils/rover_sample.png\"}\n",
    "\n",
    "# tile_map = [\n",
    "#         \"F3FFUFU2U\",\n",
    "#         \"FUFUSUFUF\",\n",
    "#         \"FFFUSUFFU\",\n",
    "#         \"USUUUUUSU\",\n",
    "#         \"FFUSSSUFF\",\n",
    "#         \"FSFUSUFSF\",\n",
    "#         \"UUUUUUUFU\",\n",
    "#         \"UFFU1UFUU\",\n",
    "#         \"3UUFUFFU1\"\n",
    "#     ]\n",
    "\n",
    "tile_map = [\n",
    "        \"F22222FF1\",\n",
    "        \"U31122FU1\",\n",
    "        \"UF1112FU1\",\n",
    "        \"UFUU1SFU1\",\n",
    "        \"UFFU1FFU3\",\n",
    "        \"3222UFS1U\",\n",
    "        \"UUU22F1FU\",\n",
    "        \"FSSFS12SF\",\n",
    "        \"FSFF121FF\",\n",
    "        \"S1S2SFFSF\",\n",
    "        \"FUUUFFSFU\",\n",
    "        \"U3UUUFSFU\",\n",
    "        \"FFFUUFUUU\"\n",
    "    ]\n",
    "\n",
    "# tile_map = [\n",
    "#         \"3FFFFFFF1\",\n",
    "#         \"FFFFFFFFF\",\n",
    "#         \"FFFFUFFFF\",\n",
    "#         \"FSFUUUFSF\",\n",
    "#         \"FSUU3UUSF\",\n",
    "#         \"FSFUUUFSF\",\n",
    "#         \"FFFFUFFFF\",\n",
    "#         \"FFFSSSFFF\",\n",
    "#         \"1FFFFFFF2\"\n",
    "#     ]\n",
    "\n",
    "tile_rewards = {'F':0.05,\n",
    "              '1':0.1,\n",
    "              '2':0.1,\n",
    "              '3':0.1,\n",
    "              'S':0.01,\n",
    "              'U':0.0}\n",
    "\n",
    "\n",
    "goal_tile_rewards = {'F':0.0,\n",
    "              '1':1.0,\n",
    "              '2':2.0,\n",
    "              '3':4.0,\n",
    "              'S':0.0,\n",
    "              'U':0.0}\n",
    "\n",
    "tile_reward_modifier = lambda r,x,y,mx,my: r * 0.1 * ((x-(mx/2 + np.random.normal(scale=0.5)))**2 + (y - (mx/2 + np.random.normal(scale=0.5)))**2)\n",
    "\n",
    "def build_reward_map(tile_map, tile_rewards, goal_tile_rewards, tile_reward_modifier):\n",
    "    reward_map = np.zeros((len(tile_map),len(tile_map[0])))\n",
    "    texture_map = np.zeros((len(tile_map),len(tile_map[0])))\n",
    "    for y,row in enumerate(tile_map):\n",
    "        for x,c in enumerate(row):\n",
    "            reward_map[y,x] = texture_map[y,x] = tile_reward_modifier(tile_rewards[c],x,y,len(tile_map[0]),len(tile_map))\n",
    "            reward_map[y,x] +=  goal_tile_rewards[c]\n",
    "    return reward_map, texture_map\n",
    "\n",
    "reward_map, texture_map = build_reward_map(tile_map, tile_rewards, goal_tile_rewards, tile_reward_modifier)\n",
    "\n",
    "\n",
    "t0 = (0.8,0.1,0.0,0.0)\n",
    "t1 = (0.0,0.0,0.0,1.0)  #(0.1,0.15,0.5,0.1)\n",
    "\n",
    "trans_dict = {b'F':t0,\n",
    "              b'1':t0,\n",
    "              b'2':t0,\n",
    "              b'3':t0,\n",
    "              b'S':t0,\n",
    "              b'U':t1}\n",
    "\n",
    "#TODO implement theta_mat in mars_explorer so do not need to hard code, use np.roll\n",
    "true_tps = np.array([[[0.8, 0.],\n",
    "  [0.1, 0.],\n",
    "  [0.0, 0.],\n",
    "  [0.1, 0.],\n",
    "  [0.0, 1.]],\n",
    "\n",
    " [[0.1, 0.],\n",
    "  [0.8, 0.],\n",
    "  [0.1, 0.],\n",
    "  [0.0, 0.],\n",
    "  [0.0, 1.]],\n",
    "\n",
    " [[0.0, 0.],\n",
    "  [0.1, 0.],\n",
    "  [0.8, 0.],\n",
    "  [0.1, 0.],\n",
    "  [0.0, 1.]],\n",
    "\n",
    " [[0.1, 0.],\n",
    "  [0.0, 0.],\n",
    "  [0.1, 0.],\n",
    "  [0.8, 0.],\n",
    "  [0.0, 1.]],\n",
    "\n",
    " [[0., 0.],\n",
    "  [0., 0.],\n",
    "  [0., 0.],\n",
    "  [0., 0.],\n",
    "  [1., 1.]]])\n",
    "\n",
    "gamma = 0.98\n",
    "\n",
    "alpha = 0.0001\n",
    "\n",
    "T_theta_shape = (5,5,2)\n",
    "\n",
    "time_penalty = 0.0\n"
   ]
  },
  {
   "cell_type": "code",
   "execution_count": 5,
   "metadata": {},
   "outputs": [],
   "source": [
    "# reward_normalizer = (1-gamma)/(np.max(reward_map))\n",
    "# reward_map *= reward_normalizer\n",
    "# time_penalty *= reward_normalizer"
   ]
  },
  {
   "cell_type": "code",
   "execution_count": 6,
   "metadata": {},
   "outputs": [],
   "source": [
    "# temperature = 1/(reward_normalizer)\n",
    "# print(temperature)"
   ]
  },
  {
   "cell_type": "code",
   "execution_count": 7,
   "metadata": {},
   "outputs": [
    {
     "data": {
      "text/plain": [
       "<matplotlib.image.AxesImage at 0x1246f0128>"
      ]
     },
     "execution_count": 7,
     "metadata": {},
     "output_type": "execute_result"
    },
    {
     "data": {
      "image/png": "[encoded data removed]",
      "text/plain": [
       "<Figure size 432x288 with 1 Axes>"
      ]
     },
     "metadata": {},
     "output_type": "display_data"
    }
   ],
   "source": [
    "plt.imshow(reward_map, cmap=\"Blues\")"
   ]
  },
  {
   "cell_type": "code",
   "execution_count": 8,
   "metadata": {},
   "outputs": [
    {
     "data": {
      "text/plain": [
       "<matplotlib.image.AxesImage at 0x1247f4ef0>"
      ]
     },
     "execution_count": 8,
     "metadata": {},
     "output_type": "execute_result"
    },
    {
     "data": {
      "image/png": "[encoded data removed]",
      "text/plain": [
       "<Figure size 432x288 with 1 Axes>"
      ]
     },
     "metadata": {},
     "output_type": "display_data"
    }
   ],
   "source": [
    "plt.imshow(texture_map, cmap=\"gray\")"
   ]
  },
  {
   "cell_type": "code",
   "execution_count": 9,
   "metadata": {},
   "outputs": [],
   "source": [
    "mdp = MarsExplorerEnv(tile_map, reward_map, texture_map, trans_dict, time_penalty) \n",
    "nA = mdp.nA\n",
    "nS = mdp.nS"
   ]
  },
  {
   "cell_type": "code",
   "execution_count": 10,
   "metadata": {},
   "outputs": [
    {
     "name": "stdout",
     "output_type": "stream",
     "text": [
      "b'U'\n"
     ]
    }
   ],
   "source": [
    "print(mdp.tile_map.flatten()[43])"
   ]
  },
  {
   "cell_type": "code",
   "execution_count": 11,
   "metadata": {},
   "outputs": [],
   "source": [
    "def plot_mars(mdp, pi, term = 40, title=None, counts = None, Qs = None):\n",
    "    background = np.array([colors.to_rgb(MAP_COLORS[l]) for l in mdp.tile_map.flat]).reshape(mdp.nrow, mdp.ncol,3)\n",
    "    s = mdp._reset()\n",
    "    t, r = 0, 0\n",
    "    while s is not None and t < term:\n",
    "        fig = plt.figure(figsize=(4,4))\n",
    "        if title != None:\n",
    "            plt.title(title)\n",
    "        plt.imshow(background)\n",
    "        plt.axes().get_xaxis().set_visible(False)\n",
    "        plt.axes().get_yaxis().set_visible(False)\n",
    "        ax = plt.gca()\n",
    "        a = pi[s] if type(pi) == np.ndarray else pi(s)\n",
    "        img_path = ROVER_PNGS[a]\n",
    "        arr_hand = read_png(img_path)\n",
    "        imagebox = OffsetImage(arr_hand, zoom=.5)\n",
    "        xy = [s%background.shape[1], s//background.shape[1]]  # coordinates to position this image\n",
    "\n",
    "        ab = AnnotationBbox(imagebox, xy,\n",
    "                            xybox=(0, 0),\n",
    "                            xycoords='data',\n",
    "                            boxcoords=\"offset points\",\n",
    "                            frameon=False)\n",
    "        ax.add_artist(ab)\n",
    "        fig.text(0.13, 0.05, 't: {}      r: {}'.format(t,round(r,4)), ha='left', fontsize=10)\n",
    "        sns.despine(bottom=True,left=True,right=True,top=True)\n",
    "        plt.show()\n",
    "        if Qs is not None:\n",
    "            print(Qs[s])\n",
    "            print(a)\n",
    "            print(softmax(Qs[s]))\n",
    "        print(mdp.s_to_grid(s), mdp.tile_map.flatten()[s])\n",
    "        s, rt, _, d = mdp._step(a)\n",
    "        print(mdp.s_to_grid(s), mdp.tile_map.flatten()[s])\n",
    "        t += 1\n",
    "        r += rt\n",
    "    if counts:\n",
    "        fig.text(0.87, 0.05, 'F: {}  L/R: {}  B: {}  S: {}'.format(counts['F'], counts['LR'], counts['B'], counts['S']), ha='right', fontsize=10)\n",
    "    #     plt.savefig(folder+\"/\"+str(t)+\".png\", format='png')\n",
    "    return\n",
    "\n",
    "def plot_mars_history(mdp, hist, title=None, counts = None):\n",
    "    background = np.array([colors.to_rgb(MAP_COLORS[l]) for l in mdp.tile_map.flat]).reshape(mdp.nrow, mdp.ncol,3)\n",
    "    t = 0\n",
    "    for s,a,sprime in [h[0] for h in hist]:\n",
    "        fig = plt.figure(figsize=(4,4))\n",
    "        if title != None:\n",
    "            plt.title(title)\n",
    "        plt.imshow(background)\n",
    "        plt.axes().get_xaxis().set_visible(False)\n",
    "        plt.axes().get_yaxis().set_visible(False)\n",
    "        ax = plt.gca()\n",
    "        img_path = ROVER_PNGS[a]\n",
    "        arr_hand = read_png(img_path)\n",
    "        imagebox = OffsetImage(arr_hand, zoom=.5)\n",
    "        xy = [s%background.shape[1], s//background.shape[1]]  # coordinates to position this image\n",
    "\n",
    "        ab = AnnotationBbox(imagebox, xy,\n",
    "                            xybox=(0, 0),\n",
    "                            xycoords='data',\n",
    "                            boxcoords=\"offset points\",\n",
    "                            frameon=False)\n",
    "        ax.add_artist(ab)\n",
    "        fig.text(0.13, 0.05, 't: {}'.format(t), ha='left', fontsize=10)\n",
    "        sns.despine(bottom=True,left=True,right=True,top=True)\n",
    "        plt.show()\n",
    "        t += 1\n",
    "    if counts:\n",
    "        fig.text(0.87, 0.05, 'F: {}  L/R: {}  B: {}  S: {}'.format(counts['F'], counts['LR'], counts['B'], counts['S']), ha='right', fontsize=10)\n",
    "    #     plt.savefig(folder+\"/\"+str(t)+\".png\", format='png')\n",
    "    return\n",
    "\n",
    "def plot_values(mdp, Qs, s=None, title=None):\n",
    "    V = np.max(Qs, axis=1).reshape((mdp.nrow,mdp.ncol))\n",
    "    pi = np.argmax(Qs, axis=1)\n",
    "    plt.figure(figsize=(8,8))\n",
    "    if title != None:\n",
    "        plt.title(title)\n",
    "    plt.imshow(V, cmap='gray')#, clim=(0,1)) 'gist_ncar'\n",
    "    ax = plt.gca()\n",
    "    ax.set_xticks(np.arange(V.shape[1])-.5)\n",
    "    ax.set_yticks(np.arange(V.shape[0])-.5)\n",
    "    ax.set_xticklabels([])\n",
    "    ax.set_yticklabels([])\n",
    "    Y, X = np.mgrid[0:V.shape[0], 0:V.shape[1]]\n",
    "    a2uv = {0: (-1, 0), 1:(0, -1), 2:(1,0), 3:(0, 1), 4:(-1,-1)}\n",
    "    Pi = pi.reshape(V.shape)\n",
    "    for y in range(V.shape[0]):\n",
    "        for x in range(V.shape[1]):\n",
    "            a = Pi[y, x]\n",
    "            u, v = a2uv[a]\n",
    "            plt.arrow(x, y,u*.3, -v*.3, color='m', head_width=0.2, head_length=0.1) \n",
    "            plt.text(x, y, str(mdp.tile_map[y,x].item().decode()),\n",
    "                     color='c', size=12,  verticalalignment='center',\n",
    "                     horizontalalignment='center', fontweight='bold')\n",
    "    if s != None:\n",
    "        plt.plot(s%V.shape[0], s//V.shape[0], 'ro')\n",
    "#     plt.grid(color='b', lw=2, ls='-')\n",
    "    return"
   ]
  },
  {
   "cell_type": "markdown",
   "metadata": {},
   "source": [
    "# Soft-Q Learning"
   ]
  },
  {
   "cell_type": "code",
   "execution_count": 12,
   "metadata": {},
   "outputs": [],
   "source": [
    "def softmax(x, axis=1):\n",
    "    \"\"\"Compute softmax values for each sets of scores in x.\"\"\"\n",
    "    axis = 0 if len(x.shape) == 1 else axis\n",
    "    e_x = np.exp(x - np.max(x, axis=axis,keepdims=True))\n",
    "    return (e_x / e_x.sum(axis=axis, keepdims = True))"
   ]
  },
  {
   "cell_type": "code",
   "execution_count": 13,
   "metadata": {},
   "outputs": [],
   "source": [
    "def tabsoftq_iter(R, T, maxiter=10000, verbose=False, Q_init=None, learning_rate=0.5, ftol=1e-32):\n",
    "    Q = np.zeros((nS, nA)) if Q_init is None else copy(Q_init)\n",
    "    prevQ = copy(Q)\n",
    "    if verbose:\n",
    "        diffs = []\n",
    "        meanVs = []\n",
    "    for iter_idx in range(maxiter):\n",
    "        V = alpha * logsumexp(prevQ / alpha, axis=1)\n",
    "        V_broad = V.reshape((1, 1, nS))\n",
    "        Q = np.sum(T * (R + gamma * V_broad), axis=2)\n",
    "        Q = (1 - learning_rate) * prevQ + learning_rate * Q\n",
    "        diff = np.mean((Q - prevQ)**2)/(np.std(Q)**2)\n",
    "        if verbose:\n",
    "            diffs.append(diff)\n",
    "            meanVs.append(np.mean(V)) \n",
    "        if diff < ftol:\n",
    "            break\n",
    "        prevQ = copy(Q)\n",
    "    if verbose:\n",
    "        plt.xlabel('Number of Iterations')\n",
    "        plt.ylabel('Avg. Squared Bellman Error')\n",
    "        plt.title('Soft Q Iteration')\n",
    "        plt.plot(diffs)\n",
    "        plt.yscale('log')\n",
    "        plt.show()\n",
    "        plt.xlabel('Number of Iterations')\n",
    "        plt.ylabel('Avg. Value of All Tiles')\n",
    "        plt.title('Soft Q Iteration')\n",
    "        plt.plot(meanVs)\n",
    "        plt.show()\n",
    "    return Q"
   ]
  },
  {
   "cell_type": "code",
   "execution_count": 14,
   "metadata": {},
   "outputs": [],
   "source": [
    "def tabsoftq_learn_Qs(mdp):\n",
    "    R = mdp.rewards\n",
    "    T = mdp.get_transition_matrix()\n",
    "    Qs = tabsoftq_iter(R, T)\n",
    "    return Qs\n",
    "\n",
    "def tabsoftq_gen_pol(Qs, beta=1):\n",
    "    softQs = softmax(Qs * beta)\n",
    "    return lambda s: np.random.choice(np.asarray(range(len(Qs[s]))),p=softQs[s])\n",
    "\n",
    "def tabsoftq_gen_pol_probs(Qs, beta=1):\n",
    "    softQs = softmax(Qs * beta)\n",
    "    return softQs\n"
   ]
  },
  {
   "cell_type": "code",
   "execution_count": 15,
   "metadata": {},
   "outputs": [],
   "source": [
    "def generate_demonstrations(mdp, pol, n, term):\n",
    "    hists = []\n",
    "    for i in range(n):\n",
    "        s, d, t = mdp._reset(), False, 0\n",
    "        hist = []\n",
    "        while not d and t < term:\n",
    "            a = pol[s] if type(pol) == np.ndarray else pol(s)\n",
    "            sprime, rt, _, ob_dict = mdp._step(a)\n",
    "            hist += [((s,a,sprime),ob_dict['adt'])]\n",
    "            t += 1\n",
    "            s = sprime\n",
    "        hists += [hist]\n",
    "    return hists"
   ]
  },
  {
   "cell_type": "code",
   "execution_count": 16,
   "metadata": {},
   "outputs": [],
   "source": [
    "def vectorize_rollouts(rollouts):\n",
    "    sas_obs = []\n",
    "    adt_obs = []\n",
    "    task_idxes = []\n",
    "    for rollout in rollouts:\n",
    "        more_sas, more_adt = list(zip(*rollout))\n",
    "        sas_obs.extend(more_sas)\n",
    "        adt_obs.extend(more_adt)\n",
    "    return np.array(sas_obs), np.array(adt_obs)"
   ]
  },
  {
   "cell_type": "markdown",
   "metadata": {},
   "source": [
    "Sanity check (env and softq)"
   ]
  },
  {
   "cell_type": "code",
   "execution_count": 17,
   "metadata": {
    "scrolled": true
   },
   "outputs": [
    {
     "name": "stderr",
     "output_type": "stream",
     "text": [
      "/Users/mckaneandrus/anaconda2/envs/irld/lib/python3.6/site-packages/matplotlib/cbook/deprecation.py:107: MatplotlibDeprecationWarning: Adding an axes using the same arguments as a previous axes currently reuses the earlier instance.  In a future version, a new instance will always be created and returned.  Meanwhile, this warning can be suppressed, and the future behavior ensured, by passing a unique label to each axes instance.\n",
      "  warnings.warn(message, mplDeprecation, stacklevel=1)\n"
     ]
    },
    {
     "data": {
      "image/png": "[encoded data removed]",
      "text/plain": [
       "<Figure size 288x288 with 1 Axes>"
      ]
     },
     "metadata": {},
     "output_type": "display_data"
    },
    {
     "name": "stdout",
     "output_type": "stream",
     "text": [
      "[131.54263538 145.90260659 132.0080954   29.30611569 143.00395386]\n",
      "1\n",
      "[0.00000055 0.94777845 0.00000088 0.         0.05222013]\n",
      "(1, 7) b'S'\n",
      "(1, 8) b'S'\n"
     ]
    },
    {
     "data": {
      "image/png": "[encoded data removed]",
      "text/plain": [
       "<Figure size 288x288 with 1 Axes>"
      ]
     },
     "metadata": {},
     "output_type": "display_data"
    },
    {
     "name": "stdout",
     "output_type": "stream",
     "text": [
      "[148.35089682 145.42602104 148.70031927 144.35076567 145.75349986]\n",
      "2\n",
      "[0.38990916 0.02092695 0.55298796 0.0071405  0.02903543]\n",
      "(1, 8) b'S'\n",
      "(1, 7) b'S'\n"
     ]
    },
    {
     "data": {
      "image/png": "[encoded data removed]",
      "text/plain": [
       "<Figure size 288x288 with 1 Axes>"
      ]
     },
     "metadata": {},
     "output_type": "display_data"
    },
    {
     "name": "stdout",
     "output_type": "stream",
     "text": [
      "[131.54263538 145.90260659 132.0080954   29.30611569 143.00395386]\n",
      "1\n",
      "[0.00000055 0.94777845 0.00000088 0.         0.05222013]\n",
      "(1, 7) b'S'\n",
      "(1, 8) b'S'\n"
     ]
    },
    {
     "data": {
      "image/png": "[encoded data removed]",
      "text/plain": [
       "<Figure size 288x288 with 1 Axes>"
      ]
     },
     "metadata": {},
     "output_type": "display_data"
    },
    {
     "name": "stdout",
     "output_type": "stream",
     "text": [
      "[148.35089682 145.42602104 148.70031927 144.35076567 145.75349986]\n",
      "2\n",
      "[0.38990916 0.02092695 0.55298796 0.0071405  0.02903543]\n",
      "(1, 8) b'S'\n",
      "(2, 8) b'F'\n"
     ]
    },
    {
     "data": {
      "image/png": "[encoded data removed]",
      "text/plain": [
       "<Figure size 288x288 with 1 Axes>"
      ]
     },
     "metadata": {},
     "output_type": "display_data"
    },
    {
     "name": "stdout",
     "output_type": "stream",
     "text": [
      "[145.95454529 147.40680838 152.94736138 147.45675877 149.95640198]\n",
      "2\n",
      "[0.00086712 0.00370499 0.94410218 0.00389476 0.04743095]\n",
      "(2, 8) b'F'\n",
      "(3, 8) b'F'\n"
     ]
    },
    {
     "data": {
      "image/png": "[encoded data removed]",
      "text/plain": [
       "<Figure size 288x288 with 1 Axes>"
      ]
     },
     "metadata": {},
     "output_type": "display_data"
    },
    {
     "name": "stdout",
     "output_type": "stream",
     "text": [
      "[150.76114881 153.19575198 157.58363186 154.86064743 154.49451998]\n",
      "2\n",
      "[0.00096824 0.01104885 0.88909682 0.0583945  0.04049159]\n",
      "(3, 8) b'F'\n",
      "(3, 7) b'F'\n"
     ]
    },
    {
     "data": {
      "image/png": "[encoded data removed]",
      "text/plain": [
       "<Figure size 288x288 with 1 Axes>"
      ]
     },
     "metadata": {},
     "output_type": "display_data"
    },
    {
     "name": "stdout",
     "output_type": "stream",
     "text": [
      "[148.39736264 154.16950735 158.12457996 154.70152225 155.02069582]\n",
      "2\n",
      "[0.00005438 0.01746805 0.91182303 0.02973689 0.04091766]\n",
      "(3, 7) b'F'\n",
      "(4, 7) b'S'\n"
     ]
    },
    {
     "data": {
      "image/png": "[encoded data removed]",
      "text/plain": [
       "<Figure size 288x288 with 1 Axes>"
      ]
     },
     "metadata": {},
     "output_type": "display_data"
    },
    {
     "name": "stdout",
     "output_type": "stream",
     "text": [
      "[155.66850495 158.60659936 162.18734954 158.24697645 158.94896762]\n",
      "3\n",
      "[0.00135604 0.02560187 0.91911896 0.01786856 0.03605457]\n",
      "(4, 7) b'S'\n",
      "(4, 6) b'2'\n"
     ]
    },
    {
     "data": {
      "image/png": "[encoded data removed]",
      "text/plain": [
       "<Figure size 288x288 with 1 Axes>"
      ]
     },
     "metadata": {},
     "output_type": "display_data"
    },
    {
     "name": "stdout",
     "output_type": "stream",
     "text": [
      "[140.02331628 159.16700785 147.8307245   32.01414275 158.03497714]\n",
      "1\n",
      "[0.         0.75620664 0.00000902 0.         0.24378434]\n",
      "(4, 6) b'2'\n",
      "(4, 7) b'S'\n"
     ]
    },
    {
     "data": {
      "image/png": "[encoded data removed]",
      "text/plain": [
       "<Figure size 288x288 with 1 Axes>"
      ]
     },
     "metadata": {},
     "output_type": "display_data"
    },
    {
     "name": "stdout",
     "output_type": "stream",
     "text": [
      "[155.66850495 158.60659936 162.18734954 158.24697645 158.94896762]\n",
      "2\n",
      "[0.00135604 0.02560187 0.91911896 0.01786856 0.03605457]\n",
      "(4, 7) b'S'\n",
      "(5, 7) b'1'\n"
     ]
    },
    {
     "data": {
      "image/png": "[encoded data removed]",
      "text/plain": [
       "<Figure size 288x288 with 1 Axes>"
      ]
     },
     "metadata": {},
     "output_type": "display_data"
    },
    {
     "name": "stdout",
     "output_type": "stream",
     "text": [
      "[159.80198824 161.69847581 165.41165418 164.42604088 163.16925155]\n",
      "4\n",
      "[0.00242942 0.0161859  0.66336072 0.24757303 0.07045092]\n",
      "(5, 7) b'1'\n",
      "(5, 7) b'1'\n"
     ]
    },
    {
     "data": {
      "image/png": "[encoded data removed]",
      "text/plain": [
       "<Figure size 288x288 with 1 Axes>"
      ]
     },
     "metadata": {},
     "output_type": "display_data"
    },
    {
     "name": "stdout",
     "output_type": "stream",
     "text": [
      "[159.80198824 161.69847581 165.41165418 164.42604088 163.16925155]\n",
      "2\n",
      "[0.00242942 0.0161859  0.66336072 0.24757303 0.07045092]\n",
      "(5, 7) b'1'\n",
      "(5, 6) b'F'\n"
     ]
    },
    {
     "data": {
      "image/png": "[encoded data removed]",
      "text/plain": [
       "<Figure size 288x288 with 1 Axes>"
      ]
     },
     "metadata": {},
     "output_type": "display_data"
    },
    {
     "name": "stdout",
     "output_type": "stream",
     "text": [
      "[159.69614342 163.18481807 168.0355146  168.25930919 164.91879889]\n",
      "2\n",
      "[0.00010374 0.00339658 0.43418262 0.54308172 0.01923535]\n",
      "(5, 6) b'F'\n",
      "(6, 6) b'1'\n"
     ]
    },
    {
     "data": {
      "image/png": "[encoded data removed]",
      "text/plain": [
       "<Figure size 288x288 with 1 Axes>"
      ]
     },
     "metadata": {},
     "output_type": "display_data"
    },
    {
     "name": "stdout",
     "output_type": "stream",
     "text": [
      "[165.78567137 165.54805827 164.14933905 170.8154362  168.45919112]\n",
      "3\n",
      "[0.00590419 0.0046555  0.0011495  0.90273381 0.08555699]\n",
      "(6, 6) b'1'\n",
      "(6, 5) b'S'\n"
     ]
    },
    {
     "data": {
      "image/png": "[encoded data removed]",
      "text/plain": [
       "<Figure size 288x288 with 1 Axes>"
      ]
     },
     "metadata": {},
     "output_type": "display_data"
    },
    {
     "name": "stdout",
     "output_type": "stream",
     "text": [
      "[170.44025602 166.95096854 156.68939644 176.05917206 172.54527245]\n",
      "3\n",
      "[0.00351089 0.00010716 0.         0.96756726 0.02881469]\n",
      "(6, 5) b'S'\n",
      "(5, 5) b'F'\n"
     ]
    },
    {
     "data": {
      "image/png": "[encoded data removed]",
      "text/plain": [
       "<Figure size 288x288 with 1 Axes>"
      ]
     },
     "metadata": {},
     "output_type": "display_data"
    },
    {
     "name": "stdout",
     "output_type": "stream",
     "text": [
      "[ 34.94026102 149.19035499 172.97016998 164.79189291 169.51236545]\n",
      "2\n",
      "[0.         0.         0.96919931 0.00027204 0.03052865]\n",
      "(5, 5) b'F'\n",
      "(6, 5) b'S'\n"
     ]
    },
    {
     "data": {
      "image/png": "[encoded data removed]",
      "text/plain": [
       "<Figure size 288x288 with 1 Axes>"
      ]
     },
     "metadata": {},
     "output_type": "display_data"
    },
    {
     "name": "stdout",
     "output_type": "stream",
     "text": [
      "[170.44025602 166.95096854 156.68939644 176.05917206 172.54527245]\n",
      "3\n",
      "[0.00351089 0.00010716 0.         0.96756726 0.02881469]\n",
      "(6, 5) b'S'\n",
      "(6, 4) b'F'\n"
     ]
    },
    {
     "data": {
      "image/png": "[encoded data removed]",
      "text/plain": [
       "<Figure size 288x288 with 1 Axes>"
      ]
     },
     "metadata": {},
     "output_type": "display_data"
    },
    {
     "name": "stdout",
     "output_type": "stream",
     "text": [
      "[183.49693112 156.47907872  35.96666308 168.08947545 179.84444553]\n",
      "0\n",
      "[0.9747284 0.        0.        0.0000002 0.0252714]\n",
      "(6, 4) b'F'\n",
      "(5, 4) b'F'\n"
     ]
    },
    {
     "data": {
      "image/png": "[encoded data removed]",
      "text/plain": [
       "<Figure size 288x288 with 1 Axes>"
      ]
     },
     "metadata": {},
     "output_type": "display_data"
    },
    {
     "name": "stdout",
     "output_type": "stream",
     "text": [
      "[168.97286901 170.19754933 180.02272609 188.15512194 184.42072129]\n",
      "3\n",
      "[0.         0.00000002 0.00028693 0.97638957 0.02332349]\n",
      "(5, 4) b'F'\n",
      "(5, 3) b'S'\n"
     ]
    },
    {
     "data": {
      "image/png": "[encoded data removed]",
      "text/plain": [
       "<Figure size 288x288 with 1 Axes>"
      ]
     },
     "metadata": {},
     "output_type": "display_data"
    },
    {
     "name": "stdout",
     "output_type": "stream",
     "text": [
      "[188.19824606 184.98650966 187.89201444 195.87655356 191.95933122]\n",
      "3\n",
      "[0.00045336 0.00001826 0.00033377 0.97970217 0.01949243]\n",
      "(5, 3) b'S'\n",
      "(5, 2) b'2'\n"
     ]
    },
    {
     "data": {
      "image/png": "[encoded data removed]",
      "text/plain": [
       "<Figure size 288x288 with 1 Axes>"
      ]
     },
     "metadata": {},
     "output_type": "display_data"
    },
    {
     "name": "stdout",
     "output_type": "stream",
     "text": [
      "[199.49023544 192.8647314  193.42621326 199.88307056 198.03327617]\n",
      "3\n",
      "[0.36794888 0.00048794 0.00085549 0.54499638 0.08571131]\n",
      "(5, 2) b'2'\n",
      "(5, 1) b'2'\n"
     ]
    },
    {
     "data": {
      "image/png": "[encoded data removed]",
      "text/plain": [
       "<Figure size 288x288 with 1 Axes>"
      ]
     },
     "metadata": {},
     "output_type": "display_data"
    },
    {
     "name": "stdout",
     "output_type": "stream",
     "text": [
      "[202.64534296 198.27338164 195.24653382 197.89130437 200.73225516]\n",
      "0\n",
      "[0.85508154 0.01079665 0.00052329 0.00736809 0.12623043]\n",
      "(5, 1) b'2'\n",
      "(5, 2) b'2'\n"
     ]
    },
    {
     "data": {
      "image/png": "[encoded data removed]",
      "text/plain": [
       "<Figure size 288x288 with 1 Axes>"
      ]
     },
     "metadata": {},
     "output_type": "display_data"
    },
    {
     "name": "stdout",
     "output_type": "stream",
     "text": [
      "[199.49023544 192.8647314  193.42621326 199.88307056 198.03327617]\n",
      "3\n",
      "[0.36794888 0.00048794 0.00085549 0.54499638 0.08571131]\n",
      "(5, 2) b'2'\n",
      "(5, 1) b'2'\n"
     ]
    },
    {
     "data": {
      "image/png": "[encoded data removed]",
      "text/plain": [
       "<Figure size 288x288 with 1 Axes>"
      ]
     },
     "metadata": {},
     "output_type": "display_data"
    },
    {
     "name": "stdout",
     "output_type": "stream",
     "text": [
      "[202.64534296 198.27338164 195.24653382 197.89130437 200.73225516]\n",
      "0\n",
      "[0.85508154 0.01079665 0.00052329 0.00736809 0.12623043]\n",
      "(5, 1) b'2'\n",
      "(5, 0) b'2'\n"
     ]
    },
    {
     "data": {
      "image/png": "[encoded data removed]",
      "text/plain": [
       "<Figure size 288x288 with 1 Axes>"
      ]
     },
     "metadata": {},
     "output_type": "display_data"
    },
    {
     "name": "stdout",
     "output_type": "stream",
     "text": [
      "[196.86517571 199.38474835 184.70552685 162.92973529 197.55567959]\n",
      "1\n",
      "[0.06485921 0.80576448 0.00000034 0.         0.12937598]\n",
      "(5, 0) b'2'\n",
      "(5, 1) b'2'\n"
     ]
    },
    {
     "data": {
      "image/png": "[encoded data removed]",
      "text/plain": [
       "<Figure size 288x288 with 1 Axes>"
      ]
     },
     "metadata": {},
     "output_type": "display_data"
    },
    {
     "name": "stdout",
     "output_type": "stream",
     "text": [
      "[202.64534296 198.27338164 195.24653382 197.89130437 200.73225516]\n",
      "0\n",
      "[0.85508154 0.01079665 0.00052329 0.00736809 0.12623043]\n",
      "(5, 1) b'2'\n",
      "(4, 1) b'2'\n"
     ]
    },
    {
     "data": {
      "image/png": "[encoded data removed]",
      "text/plain": [
       "<Figure size 288x288 with 1 Axes>"
      ]
     },
     "metadata": {},
     "output_type": "display_data"
    },
    {
     "name": "stdout",
     "output_type": "stream",
     "text": [
      "[205.85578063 201.0028893  200.77288889 202.05741381 203.85805923]\n",
      "0\n",
      "[0.85319932 0.00665988 0.0052915  0.01911792 0.11573138]\n",
      "(4, 1) b'2'\n",
      "(4, 0) b'2'\n"
     ]
    },
    {
     "data": {
      "image/png": "[encoded data removed]",
      "text/plain": [
       "<Figure size 288x288 with 1 Axes>"
      ]
     },
     "metadata": {},
     "output_type": "display_data"
    },
    {
     "name": "stdout",
     "output_type": "stream",
     "text": [
      "[184.29003347 203.32994521 178.43113822  40.24980682 201.59450164]\n",
      "1\n",
      "[0.         0.85010738 0.         0.         0.14989261]\n",
      "(4, 0) b'2'\n",
      "(5, 0) b'2'\n"
     ]
    },
    {
     "data": {
      "image/png": "[encoded data removed]",
      "text/plain": [
       "<Figure size 288x288 with 1 Axes>"
      ]
     },
     "metadata": {},
     "output_type": "display_data"
    },
    {
     "name": "stdout",
     "output_type": "stream",
     "text": [
      "[196.86517571 199.38474835 184.70552685 162.92973529 197.55567959]\n",
      "1\n",
      "[0.06485921 0.80576448 0.00000034 0.         0.12937598]\n",
      "(5, 0) b'2'\n",
      "(5, 1) b'2'\n"
     ]
    },
    {
     "data": {
      "image/png": "[encoded data removed]",
      "text/plain": [
       "<Figure size 288x288 with 1 Axes>"
      ]
     },
     "metadata": {},
     "output_type": "display_data"
    },
    {
     "name": "stdout",
     "output_type": "stream",
     "text": [
      "[202.64534296 198.27338164 195.24653382 197.89130437 200.73225516]\n",
      "0\n",
      "[0.85508154 0.01079665 0.00052329 0.00736809 0.12623043]\n",
      "(5, 1) b'2'\n",
      "(4, 1) b'2'\n"
     ]
    },
    {
     "data": {
      "image/png": "[encoded data removed]",
      "text/plain": [
       "<Figure size 288x288 with 1 Axes>"
      ]
     },
     "metadata": {},
     "output_type": "display_data"
    },
    {
     "name": "stdout",
     "output_type": "stream",
     "text": [
      "[205.85578063 201.0028893  200.77288889 202.05741381 203.85805923]\n",
      "0\n",
      "[0.85319932 0.00665988 0.0052915  0.01911792 0.11573138]\n",
      "(4, 1) b'2'\n",
      "(3, 1) b'1'\n"
     ]
    },
    {
     "data": {
      "image/png": "[encoded data removed]",
      "text/plain": [
       "<Figure size 288x288 with 1 Axes>"
      ]
     },
     "metadata": {},
     "output_type": "display_data"
    },
    {
     "name": "stdout",
     "output_type": "stream",
     "text": [
      "[210.13445323 204.2445043  203.91125128 205.45295101 207.08586983]\n",
      "0\n",
      "[0.94211535 0.00260694 0.00186811 0.00872878 0.04468082]\n",
      "(3, 1) b'1'\n",
      "(2, 1) b'1'\n"
     ]
    },
    {
     "data": {
      "image/png": "[encoded data removed]",
      "text/plain": [
       "<Figure size 288x288 with 1 Axes>"
      ]
     },
     "metadata": {},
     "output_type": "display_data"
    },
    {
     "name": "stdout",
     "output_type": "stream",
     "text": [
      "[214.73268576 207.47904331 207.21013628 209.56746528 211.63706168]\n",
      "3\n",
      "[0.95038341 0.00067248 0.00051392 0.0054284  0.04300178]\n",
      "(2, 1) b'1'\n",
      "(2, 0) b'2'\n"
     ]
    },
    {
     "data": {
      "image/png": "[encoded data removed]",
      "text/plain": [
       "<Figure size 288x288 with 1 Axes>"
      ]
     },
     "metadata": {},
     "output_type": "display_data"
    },
    {
     "name": "stdout",
     "output_type": "stream",
     "text": [
      "[210.12540462 211.01679824 204.27509126 195.37071826 209.01246579]\n",
      "1\n",
      "[0.26525221 0.64682431 0.00076366 0.0000001  0.08715972]\n",
      "(2, 0) b'2'\n",
      "(2, 1) b'1'\n"
     ]
    },
    {
     "data": {
      "image/png": "[encoded data removed]",
      "text/plain": [
       "<Figure size 288x288 with 1 Axes>"
      ]
     },
     "metadata": {},
     "output_type": "display_data"
    },
    {
     "name": "stdout",
     "output_type": "stream",
     "text": [
      "[214.73268576 207.47904331 207.21013628 209.56746528 211.63706168]\n",
      "0\n",
      "[0.95038341 0.00067248 0.00051392 0.0054284  0.04300178]\n",
      "(2, 1) b'1'\n",
      "(1, 1) b'3'\n"
     ]
    },
    {
     "data": {
      "image/png": "[encoded data removed]",
      "text/plain": [
       "<Figure size 288x288 with 1 Axes>"
      ]
     },
     "metadata": {},
     "output_type": "display_data"
    },
    {
     "name": "stdout",
     "output_type": "stream",
     "text": [
      "[ 41.06468405 179.87774291 210.36802439 190.91824707 216.48905668]\n",
      "4\n",
      "[0.         0.         0.00219138 0.         0.99780862]\n",
      "(1, 1) b'3'\n",
      "(1, 1) b'3'\n"
     ]
    },
    {
     "data": {
      "image/png": "[encoded data removed]",
      "text/plain": [
       "<Figure size 288x288 with 1 Axes>"
      ]
     },
     "metadata": {},
     "output_type": "display_data"
    },
    {
     "name": "stdout",
     "output_type": "stream",
     "text": [
      "[ 41.06468405 179.87774291 210.36802439 190.91824707 216.48905668]\n",
      "4\n",
      "[0.         0.         0.00219138 0.         0.99780862]\n",
      "(1, 1) b'3'\n",
      "(1, 1) b'3'\n"
     ]
    },
    {
     "data": {
      "image/png": "[encoded data removed]",
      "text/plain": [
       "<Figure size 288x288 with 1 Axes>"
      ]
     },
     "metadata": {},
     "output_type": "display_data"
    },
    {
     "name": "stdout",
     "output_type": "stream",
     "text": [
      "[ 41.06468405 179.87774291 210.36802439 190.91824707 216.48905668]\n",
      "4\n",
      "[0.         0.         0.00219138 0.         0.99780862]\n",
      "(1, 1) b'3'\n",
      "(1, 1) b'3'\n"
     ]
    },
    {
     "data": {
      "image/png": "[encoded data removed]",
      "text/plain": [
       "<Figure size 288x288 with 1 Axes>"
      ]
     },
     "metadata": {},
     "output_type": "display_data"
    },
    {
     "name": "stdout",
     "output_type": "stream",
     "text": [
      "[ 41.06468405 179.87774291 210.36802439 190.91824707 216.48905668]\n",
      "4\n",
      "[0.         0.         0.00219138 0.         0.99780862]\n",
      "(1, 1) b'3'\n",
      "(1, 1) b'3'\n"
     ]
    },
    {
     "data": {
      "image/png": "[encoded data removed]",
      "text/plain": [
       "<Figure size 288x288 with 1 Axes>"
      ]
     },
     "metadata": {},
     "output_type": "display_data"
    },
    {
     "name": "stdout",
     "output_type": "stream",
     "text": [
      "[ 41.06468405 179.87774291 210.36802439 190.91824707 216.48905668]\n",
      "4\n",
      "[0.         0.         0.00219138 0.         0.99780862]\n",
      "(1, 1) b'3'\n",
      "(1, 1) b'3'\n"
     ]
    }
   ],
   "source": [
    "Q = tabsoftq_learn_Qs(mdp)\n",
    "plot_mars(mdp,tabsoftq_gen_pol(Q),Qs=Q)\n"
   ]
  },
  {
   "cell_type": "code",
   "execution_count": 18,
   "metadata": {
    "scrolled": true
   },
   "outputs": [
    {
     "name": "stdout",
     "output_type": "stream",
     "text": [
      "[[0.21823344 0.         0.         0.        ]\n",
      " [0.         0.         1.         0.        ]\n",
      " [0.         0.         1.         0.        ]\n",
      " [0.         0.         1.         0.        ]\n",
      " [0.         0.         1.         0.        ]\n",
      " [0.         0.         1.         0.        ]\n",
      " [0.12651056 0.         0.         0.        ]\n",
      " [0.13102418 0.         0.         0.        ]\n",
      " [0.         1.         0.         0.        ]\n",
      " [0.         0.         0.         0.        ]\n",
      " [0.         0.         0.         1.        ]\n",
      " [0.         1.         0.         0.        ]\n",
      " [0.         1.         0.         0.        ]\n",
      " [0.         0.         1.         0.        ]\n",
      " [0.         0.         1.         0.        ]\n",
      " [0.0845164  0.         0.         0.        ]\n",
      " [0.         0.         0.         0.        ]\n",
      " [0.         1.         0.         0.        ]\n",
      " [0.         0.         0.         0.        ]\n",
      " [0.1050801  0.         0.         0.        ]\n",
      " [0.         1.         0.         0.        ]\n",
      " [0.         1.         0.         0.        ]\n",
      " [0.         1.         0.         0.        ]\n",
      " [0.         0.         1.         0.        ]\n",
      " [0.03478378 0.         0.         0.        ]\n",
      " [0.         0.         0.         0.        ]\n",
      " [0.         1.         0.         0.        ]\n",
      " [0.         0.         0.         0.        ]\n",
      " [0.08633692 0.         0.         0.        ]\n",
      " [0.         0.         0.         0.        ]\n",
      " [0.         0.         0.         0.        ]\n",
      " [0.         1.         0.         0.        ]\n",
      " [0.00030873 0.         0.         0.        ]\n",
      " [0.05315784 0.         0.         0.        ]\n",
      " [0.         0.         0.         0.        ]\n",
      " [0.         1.         0.         0.        ]\n",
      " [0.         0.         0.         0.        ]\n",
      " [0.05771541 0.         0.         0.        ]\n",
      " [0.01209404 0.         0.         0.        ]\n",
      " [0.         0.         0.         0.        ]\n",
      " [0.         1.         0.         0.        ]\n",
      " [0.02870179 0.         0.         0.        ]\n",
      " [0.01745303 0.         0.         0.        ]\n",
      " [0.         0.         0.         0.        ]\n",
      " [0.         0.         0.         1.        ]\n",
      " [0.         0.         0.         1.        ]\n",
      " [0.         0.         1.         0.        ]\n",
      " [0.         0.         1.         0.        ]\n",
      " [0.         0.         1.         0.        ]\n",
      " [0.         0.         0.         0.        ]\n",
      " [0.00159887 0.         0.         0.        ]\n",
      " [0.00728383 0.         0.         0.        ]\n",
      " [0.         1.         0.         0.        ]\n",
      " [0.         0.         0.         0.        ]\n",
      " [0.         0.         0.         0.        ]\n",
      " [0.         0.         0.         0.        ]\n",
      " [0.         0.         0.         0.        ]\n",
      " [0.         0.         1.         0.        ]\n",
      " [0.         0.         1.         0.        ]\n",
      " [0.02467589 0.         0.         0.        ]\n",
      " [0.         1.         0.         0.        ]\n",
      " [0.03430411 0.         0.         0.        ]\n",
      " [0.         0.         0.         0.        ]\n",
      " [0.17603989 0.         0.         0.        ]\n",
      " [0.0193994  0.         0.         0.        ]\n",
      " [0.01771116 0.         0.         0.        ]\n",
      " [0.05860746 0.         0.         0.        ]\n",
      " [0.00536508 0.         0.         0.        ]\n",
      " [0.         1.         0.         0.        ]\n",
      " [0.         0.         1.         0.        ]\n",
      " [0.01276238 0.         0.         0.        ]\n",
      " [0.07986845 0.         0.         0.        ]\n",
      " [0.15477229 0.         0.         0.        ]\n",
      " [0.02718698 0.         0.         0.        ]\n",
      " [0.06798782 0.         0.         0.        ]\n",
      " [0.06256076 0.         0.         0.        ]\n",
      " [0.         1.         0.         0.        ]\n",
      " [0.         0.         1.         0.        ]\n",
      " [0.         1.         0.         0.        ]\n",
      " [0.08028163 0.         0.         0.        ]\n",
      " [0.13626441 0.         0.         0.        ]\n",
      " [0.03330484 0.         0.         0.        ]\n",
      " [0.         1.         0.         0.        ]\n",
      " [0.02750408 0.         0.         0.        ]\n",
      " [0.         0.         1.         0.        ]\n",
      " [0.02777166 0.         0.         0.        ]\n",
      " [0.10172375 0.         0.         0.        ]\n",
      " [0.13246008 0.         0.         0.        ]\n",
      " [0.03208184 0.         0.         0.        ]\n",
      " [0.19577533 0.         0.         0.        ]\n",
      " [0.22329049 0.         0.         0.        ]\n",
      " [0.         0.         0.         0.        ]\n",
      " [0.         0.         0.         0.        ]\n",
      " [0.         0.         0.         0.        ]\n",
      " [0.14504599 0.         0.         0.        ]\n",
      " [0.1566354  0.         0.         0.        ]\n",
      " [0.03896434 0.         0.         0.        ]\n",
      " [0.14160391 0.         0.         0.        ]\n",
      " [0.         0.         0.         0.        ]\n",
      " [0.         0.         0.         0.        ]\n",
      " [0.         0.         0.         1.        ]\n",
      " [0.         0.         0.         0.        ]\n",
      " [0.         0.         0.         0.        ]\n",
      " [0.         0.         0.         0.        ]\n",
      " [0.20946451 0.         0.         0.        ]\n",
      " [0.05490173 0.         0.         0.        ]\n",
      " [0.19861005 0.         0.         0.        ]\n",
      " [0.         0.         0.         0.        ]\n",
      " [0.38679281 0.         0.         0.        ]\n",
      " [0.3248044  0.         0.         0.        ]\n",
      " [0.30493784 0.         0.         0.        ]\n",
      " [0.         0.         0.         0.        ]\n",
      " [0.         0.         0.         0.        ]\n",
      " [0.27829033 0.         0.         0.        ]\n",
      " [0.         0.         0.         0.        ]\n",
      " [0.         0.         0.         0.        ]\n",
      " [0.         0.         0.         0.        ]]\n"
     ]
    }
   ],
   "source": [
    "print(mdp.feature_map)"
   ]
  },
  {
   "cell_type": "markdown",
   "metadata": {},
   "source": [
    "# Inverse Dynamics Learning"
   ]
  },
  {
   "cell_type": "code",
   "execution_count": 19,
   "metadata": {},
   "outputs": [],
   "source": [
    "def transition_grad(adt, tps):\n",
    "    a,d,t = adt\n",
    "    grad_theta_t = np.zeros(tps.shape)\n",
    "    grad_theta_t[a,d,t] += 1\n",
    "    grad_theta_t[a,:,t] -= tps[a,:,t]\n",
    "    return grad_theta_t\n"
   ]
  },
  {
   "cell_type": "code",
   "execution_count": 20,
   "metadata": {},
   "outputs": [],
   "source": [
    "def tabsoftq_T_grad_iter(T_thetas, Q, R, T=None, maxiter=1000, verbose=True,\n",
    "                       learning_rate=1, G_init=None, ftol=0):\n",
    "    \n",
    "    T_theta_dim = T_thetas.shape[0] * T_thetas.shape[1] * T_thetas.shape[2]\n",
    "    D = T_thetas.shape[1]\n",
    "    \n",
    "    P_broad = tabsoftq_gen_pol_probs(Q).reshape((nS, nA, 1))\n",
    "    Tps = softmax(T_thetas,axis=1)\n",
    "    \n",
    "    if T is None:\n",
    "        T = mdp.adt_trans_to_sas_trans(Tps)\n",
    "        \n",
    "    V = (alpha) * logsumexp(Q * (1 / alpha), axis=1)\n",
    "    T_grad = np.zeros((nS,nA,T_theta_dim))\n",
    "    for s in range(nS):\n",
    "        t = mdp.get_tile_type(s)\n",
    "        for a in range(nA):\n",
    "            P_at = Tps[a,:,t]\n",
    "            V_theta = np.array([V[mdp.sd_to_sprime(s,d)] for d in range(D)])\n",
    "            R_theta = np.array([R[mdp.sd_to_sprime(s,d)] for d in range(D)])\n",
    "            VR_theta = R_theta + gamma * V_theta \n",
    "            D_probs = np.stack([P_at for _ in range(D)])\n",
    "            grad_at = np.dot((np.eye(D) - D_probs), VR_theta)\n",
    "            grad_at = np.dot(np.diag(P_at),grad_at)\n",
    "            filler = np.zeros(T_thetas.shape)\n",
    "            filler[a,:,t] = grad_at\n",
    "            filler = filler.flatten()\n",
    "            T_grad[s,a] = filler\n",
    "    G = T_grad if G_init is None else G_init\n",
    "    T_broad = T.reshape((nS, nA, nS, 1))\n",
    "    prevG = copy(G)\n",
    "    if verbose:\n",
    "        diffs = []\n",
    "    for iter_idx in range(maxiter):\n",
    "        expG = np.sum(P_broad * G, axis=1)\n",
    "        expG_broad = expG.reshape((1, 1, nS, T_theta_dim))\n",
    "        G = gamma * T_grad\n",
    "        t_expG = np.sum(T_broad * expG_broad, axis=2)\n",
    "        G += gamma * t_expG\n",
    "        G = (1 - learning_rate) * prevG + learning_rate * G\n",
    "    \n",
    "        diff = np.mean((G - prevG)**2)/(np.std(G)**2)\n",
    "        if verbose:\n",
    "            diffs.append(diff)\n",
    "        if diff < ftol:\n",
    "            break\n",
    "        prevG = copy(G)\n",
    "  \n",
    "    if verbose:\n",
    "        plt.xlabel('Number of Iterations')\n",
    "        plt.ylabel('Avg. Squared Bellman Error')\n",
    "        plt.title('Soft Q Gradient Iteration')\n",
    "        plt.plot(diffs)\n",
    "        plt.yscale('log')\n",
    "        plt.show()\n",
    "    expG = np.sum(P_broad * G, axis=1)\n",
    "    expG_broad = expG.reshape((nS, 1, T_theta_dim))\n",
    "    return (G - expG_broad)"
   ]
  },
  {
   "cell_type": "code",
   "execution_count": 21,
   "metadata": {},
   "outputs": [],
   "source": [
    "def eval_pol_likelihood(Q, sas_obs, verbose=False):\n",
    "    ll = 0.0\n",
    "    for obs in sas_obs:\n",
    "        s,a,sprime = obs\n",
    "        l = np.log(softmax(Q[s])[a])\n",
    "        ll += l\n",
    "    return ll\n",
    "\n",
    "def eval_trans_likelihood(Tps, adt_obs, verbose=False):\n",
    "    ll = 0.0\n",
    "    for obs in adt_obs:\n",
    "        a,d,t, = obs\n",
    "        l = np.log(Tps[a,d,t])\n",
    "        ll += l\n",
    "    return ll\n",
    "\n",
    "def eval_trans_likelihood_and_grad(T_thetas, adt_obs):\n",
    "    Tps = softmax(T_thetas,axis=1)\n",
    "    dT = sum([transition_grad(adt,Tps) for adt in adt_obs]).reshape(T_thetas.shape) / len(adt_obs)\n",
    "    ll = eval_trans_likelihood(Tps, adt_obs)\n",
    "    return ll, dT\n",
    "\n",
    "def eval_demo_log_likelihood(sas_obs, adt_obs, T_thetas, Q):\n",
    "    Tps = softmax(T_thetas,axis=1)\n",
    "    p_ll = eval_pol_likelihood(Q, sas_obs)\n",
    "    t_ll = eval_trans_likelihood(Tps, adt_obs)\n",
    "    return p_ll, t_ll\n",
    "        "
   ]
  },
  {
   "cell_type": "code",
   "execution_count": 22,
   "metadata": {},
   "outputs": [],
   "source": [
    "def eval_T_pol_likelihood_and_grad(T_thetas, R, sas_obs, Q_inits=None, verbose=False):\n",
    "    s = [obs[0] for obs in sas_obs]\n",
    "    a = [obs[1] for obs in sas_obs]\n",
    "    Tps = softmax(T_thetas,axis=1)\n",
    "    T = mdp.adt_trans_to_sas_trans(Tps)\n",
    "    Q = tabsoftq_iter(R, T, Q_init=Q_inits if Q_inits is not None else None, \n",
    "        maxiter=tabsoftq_iter_maxiter, verbose=tabsoftq_iter_verbose, ftol=tabsoftq_iter_ftol)\n",
    "    dT = tabsoftq_T_grad_iter(T_thetas, Q, R, T=T, maxiter=tabsoftq_grad_iter_maxiter,\n",
    "        verbose=tabsoftq_grad_iter_verbose, ftol=tabsoftq_grad_iter_ftol)\n",
    "    # Sum instead of mean because sparse results\n",
    "    if verbose:\n",
    "        for obs in sas_obs:\n",
    "            print(obs)\n",
    "            print(dT[obs[0],obs[1]].reshape(T_thetas.shape))\n",
    "    dT = np.sum(dT[s,a], axis=0).reshape(T_thetas.shape) / len(sas_obs)\n",
    "    ll = eval_pol_likelihood(Q, sas_obs)\n",
    "    return ll, dT, Q\n"
   ]
  },
  {
   "cell_type": "markdown",
   "metadata": {},
   "source": [
    "# Simultaneous Estimation of Rewards and Dynamics"
   ]
  },
  {
   "cell_type": "code",
   "execution_count": 23,
   "metadata": {},
   "outputs": [],
   "source": [
    "def tabsoftq_TR_grad_iter(T_thetas, feat_map, R,  Q, T=None, maxiter=1000, verbose=True,\n",
    "                       learning_rate=1, G_init=None, ftol=0):\n",
    "    \n",
    "    T_theta_dim = T_thetas.shape[0] * T_thetas.shape[1] * T_thetas.shape[2]\n",
    "    D = T_thetas.shape[1]\n",
    "    \n",
    "    R_theta_dim = feat_map.shape[1]\n",
    "    \n",
    "    P_broad = tabsoftq_gen_pol_probs(Q).reshape((nS, nA, 1))\n",
    "    Tps = softmax(T_thetas,axis=1)\n",
    "    \n",
    "    if T is None:\n",
    "        T = mdp.adt_trans_to_sas_trans(Tps)\n",
    "        \n",
    "    V = (alpha) * logsumexp(Q * (1 / alpha), axis=1)\n",
    "    \n",
    "    R_grad = T.dot(feat_map)\n",
    "    \n",
    "    GR = np.zeros((nS, nA, R_theta_dim)) if G_init is None else G_init[0]\n",
    "    prevGR = copy(GR)\n",
    "    \n",
    "    T_grad = np.zeros((nS,nA,T_theta_dim))\n",
    "    for s in range(nS):\n",
    "        t = mdp.get_tile_type(s)\n",
    "        for a in range(nA):\n",
    "            P_at = Tps[a,:,t]\n",
    "            V_t = np.array([V[mdp.sd_to_sprime(s,d)] for d in range(D)])\n",
    "            R_t = np.array([R[mdp.sd_to_sprime(s,d)] for d in range(D)])\n",
    "            VR_t = R_t + gamma * V_t \n",
    "            D_probs = np.stack([P_at for _ in range(D)])\n",
    "            grad_at = np.dot((np.eye(D) - D_probs), VR_t)\n",
    "            grad_at = np.dot(np.diag(P_at),grad_at)\n",
    "            filler = np.zeros(T_thetas.shape)\n",
    "            filler[a,:,t] = grad_at\n",
    "            filler = filler.flatten()\n",
    "            T_grad[s,a] = filler\n",
    "              \n",
    "    GT = T_grad if G_init is None else G_init[1]\n",
    "    T_broad = T.reshape((nS, nA, nS, 1))\n",
    "    prevGT = copy(GT)\n",
    "    \n",
    "    if verbose:\n",
    "        diffs = []\n",
    "        \n",
    "    for iter_idx in range(maxiter):\n",
    "        # Reward Param gradient iteration\n",
    "        expGR = np.sum(P_broad * GR, axis=1)\n",
    "        expGR_broad = expGR.reshape((1, 1, nS, R_theta_dim))\n",
    "        GR = R_grad + gamma * np.sum(T_broad * expGR_broad, axis=2)\n",
    "        GR = (1 - learning_rate) * prevGR + learning_rate * GR\n",
    "        \n",
    "        \n",
    "        # Transition Param grad iter\n",
    "        expGT = np.sum(P_broad * GT, axis=1)\n",
    "        expGT_broad = expGT.reshape((1, 1, nS, T_theta_dim))\n",
    "        GT = gamma * T_grad\n",
    "        t_expGT = np.sum(T_broad * expGT_broad, axis=2)\n",
    "        GT += gamma * t_expGT\n",
    "        GT = (1 - learning_rate) * prevGT + learning_rate * GT\n",
    "    \n",
    "        diff = np.mean((GR - prevGR)**2)/(np.std(GR)**2) + np.mean((GT - prevGT)**2)/(np.std(GT)**2)\n",
    "        if verbose:\n",
    "            diffs.append(diff)\n",
    "        if diff < ftol:\n",
    "            break\n",
    "        prevGR = copy(GR)\n",
    "        prevGT = copy(GT)\n",
    "  \n",
    "    if verbose:\n",
    "        plt.xlabel('Number of Iterations')\n",
    "        plt.ylabel('Avg. Squared Bellman Error')\n",
    "        plt.title('Soft Q Gradient Iteration')\n",
    "        plt.plot(diffs)\n",
    "        plt.yscale('log')\n",
    "        plt.show()\n",
    "  \n",
    "    expGR = np.sum(P_broad * GR, axis=1)\n",
    "    expGR_broad = expGR.reshape((nS, 1, R_theta_dim))\n",
    "    expGT = np.sum(P_broad * GT, axis=1)\n",
    "    expGT_broad = expGT.reshape((nS, 1, T_theta_dim))\n",
    "    return (GR - expGR_broad), (GT - expGT_broad)"
   ]
  },
  {
   "cell_type": "code",
   "execution_count": 24,
   "metadata": {},
   "outputs": [],
   "source": [
    "def eval_TR_pol_likelihood_and_grad(T_thetas, R, feat_map, sas_obs, Q_inits=None, verbose=False):\n",
    "    s = [obs[0] for obs in sas_obs]\n",
    "    a = [obs[1] for obs in sas_obs]\n",
    "    Tps = softmax(T_thetas,axis=1)\n",
    "    T = mdp.adt_trans_to_sas_trans(Tps)\n",
    "    Q = tabsoftq_iter(R, T, Q_init=Q_inits if Q_inits is not None else None, \n",
    "        maxiter=tabsoftq_iter_maxiter, verbose=tabsoftq_iter_verbose, ftol=tabsoftq_iter_ftol)\n",
    "    dR, dT = tabsoftq_TR_grad_iter(T_thetas, feat_map, R, Q, T=T,\n",
    "        maxiter=tabsoftq_grad_iter_maxiter, verbose=tabsoftq_grad_iter_verbose, ftol=tabsoftq_grad_iter_ftol)\n",
    "    if verbose:\n",
    "        for obs in sas_obs:\n",
    "            print(obs)\n",
    "            print(dT[obs[0],obs[1]].reshape(T_thetas.shape))\n",
    "    dR = np.sum(dR[s,a], axis=0).reshape(feat_map.shape[1]) / len(sas_obs)\n",
    "    dT = np.sum(dT[s,a], axis=0).reshape(T_thetas.shape) / len(sas_obs)\n",
    "    ll = eval_pol_likelihood(Q, sas_obs)\n",
    "    return ll, dT, dR, Q"
   ]
  },
  {
   "cell_type": "markdown",
   "metadata": {},
   "source": [
    "# IDL & SERD Experiments"
   ]
  },
  {
   "cell_type": "code",
   "execution_count": 25,
   "metadata": {},
   "outputs": [],
   "source": [
    "tabsoftq_iter_ftol = 1e-32\n",
    "tabsoftq_iter_maxiter = 5000\n",
    "tabsoftq_iter_verbose = False\n",
    "tabsoftq_grad_iter_ftol = 1e-10\n",
    "tabsoftq_grad_iter_maxiter = 5000\n",
    "tabsoftq_grad_iter_verbose = False\n",
    "batch_size = 200\n",
    "n_demos = 80\n",
    "demo_time_steps = 40"
   ]
  },
  {
   "cell_type": "code",
   "execution_count": 26,
   "metadata": {},
   "outputs": [],
   "source": [
    "def clean_demos(sas_obs):\n",
    "    demo_example_idxes = list(range(len(sas_obs)))\n",
    "    unique_stays = set([])\n",
    "    for i,sas in enumerate(sas_obs):\n",
    "        sas = tuple(sas)\n",
    "        if sas[1] == 4:\n",
    "            if sas in unique_stays:\n",
    "                demo_example_idxes.remove(i)\n",
    "            else:\n",
    "                unique_stays.add(sas)\n",
    "    return demo_example_idxes\n",
    "\n",
    "def sample_batch(size, ids, sas_obs, adt_obs):\n",
    "    idxes = random.sample(ids, size)\n",
    "    return sas_obs[idxes], adt_obs[idxes]"
   ]
  },
  {
   "cell_type": "code",
   "execution_count": 27,
   "metadata": {},
   "outputs": [],
   "source": [
    "def T_estimate(adt_obs):\n",
    "    stability = 1e-5\n",
    "    T_thetas = np.zeros(T_theta_shape)\n",
    "    T_counts = np.zeros(T_theta_shape) + stability\n",
    "    for a,d,t in adt_obs:\n",
    "        T_counts[a,d,t] += 1\n",
    "    for a in range(T_theta_shape[0]):\n",
    "        for t in range(T_theta_shape[2]):\n",
    "            z = np.sum(T_counts[a,:,t])\n",
    "            for d in range(T_theta_shape[1]):\n",
    "                if z == T_counts.shape[1] * stability:\n",
    "                    T_thetas[a,d,t] = 0\n",
    "                else:\n",
    "                    T_thetas[a,d,t] = np.log(T_counts[a,d,t]) - np.log(z)\n",
    "    return T_thetas\n",
    "\n",
    "def test_T_likelihood(Tps, sas_obs, adt_obs):\n",
    "    T = mdp.adt_trans_to_sas_trans(Tps)\n",
    "    R = mdp.rewards\n",
    "    Q = tabsoftq_iter(R, T, Q_init=None, maxiter=tabsoftq_iter_maxiter, verbose=tabsoftq_iter_verbose, ftol=tabsoftq_iter_ftol)\n",
    "    pl = eval_pol_likelihood(Q, sas_obs, verbose=True)\n",
    "    tl = eval_trans_likelihood(Tps, adt_obs, verbose=True)\n",
    "    print([s for s in range(nS) if mdp.get_tile_type(s)==1])\n",
    "    print(Q[[s for s in range(nS) if mdp.get_tile_type(s)==1]])\n",
    "    print(pl, tl)\n",
    "    return pl + tl\n",
    "\n",
    "def true_trans_loss(tps):\n",
    "    tps = mdp.adt_trans_to_sas_trans(tps)\n",
    "    true_tps = mdp.get_transition_matrix()\n",
    "    return np.linalg.norm(true_tps-tps)/mdp.nA"
   ]
  },
  {
   "cell_type": "code",
   "execution_count": 28,
   "metadata": {
    "scrolled": true
   },
   "outputs": [],
   "source": [
    "exQs = tabsoftq_learn_Qs(mdp)\n",
    "demos = generate_demonstrations(mdp, tabsoftq_gen_pol(exQs), n_demos, demo_time_steps)\n",
    "sas_obs, adt_obs = vectorize_rollouts(demos)"
   ]
  },
  {
   "cell_type": "code",
   "execution_count": 29,
   "metadata": {},
   "outputs": [],
   "source": [
    "# Ensure bad areas have not been visited in exes\n",
    "while len(set([adt[2] for adt in adt_obs])) > 1:\n",
    "    demos = generate_demonstrations(mdp, tabsoftq_gen_pol(exQs), n_demos, demo_time_steps)\n",
    "    sas_obs, adt_obs = vectorize_rollouts(demos)"
   ]
  },
  {
   "cell_type": "code",
   "execution_count": 30,
   "metadata": {},
   "outputs": [],
   "source": [
    "# Clean training set to have greater density of interesting transitions\n",
    "# print(len(sas_obs))\n",
    "# demo_example_idxes = clean_demos(sas_obs)\n",
    "# print(len(demo_example_idxes))\n",
    "demo_example_idxes = list(range(len(sas_obs)))\n"
   ]
  },
  {
   "cell_type": "code",
   "execution_count": 31,
   "metadata": {},
   "outputs": [],
   "source": [
    "random.shuffle(demo_example_idxes)\n",
    "n_train_demo_examples = int(0.9 * len(demo_example_idxes))\n",
    "train_demo_example_idxes = demo_example_idxes[:n_train_demo_examples]\n",
    "val_demo_example_idxes = demo_example_idxes[n_train_demo_examples:]\n",
    "val_sas_obs = sas_obs[val_demo_example_idxes]\n",
    "val_adt_obs = adt_obs[val_demo_example_idxes]"
   ]
  },
  {
   "cell_type": "markdown",
   "metadata": {},
   "source": [
    "## IDL Only"
   ]
  },
  {
   "cell_type": "code",
   "execution_count": 32,
   "metadata": {},
   "outputs": [],
   "source": [
    "idl_train_logs = {\n",
    "  'train_likelihoods': [],\n",
    "  'val_likelihoods': [],\n",
    "  'tp_lls': [],\n",
    "  'tt_lls': [],\n",
    "  'vp_lls': [],\n",
    "  'vt_lls': [],\n",
    "  'true_trans_loss': []\n",
    "}"
   ]
  },
  {
   "cell_type": "code",
   "execution_count": 33,
   "metadata": {},
   "outputs": [],
   "source": [
    "maxiter = 500\n",
    "learning_rate = 1"
   ]
  },
  {
   "cell_type": "code",
   "execution_count": 34,
   "metadata": {},
   "outputs": [],
   "source": [
    "Ti_thetas = T_estimate(adt_obs[train_demo_example_idxes])\n",
    "Qi, Ri = None, mdp.rewards"
   ]
  },
  {
   "cell_type": "code",
   "execution_count": 35,
   "metadata": {
    "scrolled": true
   },
   "outputs": [
    {
     "name": "stdout",
     "output_type": "stream",
     "text": [
      "0 -474.681785 -98.882925 -573.564710 2.231689\n",
      "1 -467.516951 -98.715686 -566.232637 2.228337\n",
      "2 -458.473207 -98.409346 -556.882552 2.224633\n",
      "3 -438.680660 -97.928205 -536.608865 2.222431\n",
      "4 -427.660972 -98.197801 -525.858774 2.225469\n",
      "5 -419.793445 -98.403863 -518.197309 2.224580\n",
      "6 -420.423640 -98.721098 -519.144738 2.223929\n",
      "7 -414.887270 -99.014877 -513.902147 2.226336\n",
      "8 -405.518479 -99.533750 -505.052229 2.236636\n",
      "9 -399.509389 -99.915085 -499.424474 2.240597\n",
      "10 -396.664486 -101.184236 -497.848722 2.252808\n",
      "11 -385.875804 -101.583021 -487.458824 2.269097\n",
      "12 -381.183871 -102.097861 -483.281732 2.281286\n",
      "13 -377.328076 -102.918386 -480.246462 2.292794\n",
      "14 -358.567032 -103.789719 -462.356751 2.309692\n",
      "15 -341.639770 -104.950340 -446.590111 2.338827\n",
      "16 -316.020626 -105.983311 -422.003937 2.362802\n",
      "17 -277.601314 -108.542371 -386.143685 2.395433\n",
      "18 -268.759316 -109.064815 -377.824131 2.410665\n",
      "19 -257.973423 -110.411420 -368.384842 2.423545\n",
      "20 -247.623884 -111.607601 -359.231485 2.450378\n",
      "21 -244.044325 -112.904800 -356.949124 2.474051\n",
      "22 -239.421573 -113.988059 -353.409632 2.520152\n",
      "23 -232.812490 -115.185889 -347.998379 2.525615\n",
      "24 -227.607563 -115.570529 -343.178092 2.524219\n",
      "25 -225.410942 -116.321342 -341.732284 2.543413\n",
      "26 -221.338833 -117.780824 -339.119657 2.567977\n",
      "27 -222.143095 -117.601090 -339.744185 2.564387\n",
      "28 -220.369539 -117.096243 -337.465782 2.551367\n",
      "29 -217.120621 -117.402078 -334.522699 2.548779\n",
      "30 -214.386475 -117.269613 -331.656089 2.545229\n",
      "31 -211.460417 -118.418555 -329.878972 2.565631\n",
      "32 -208.165343 -118.627153 -326.792496 2.565793\n",
      "33 -205.672549 -118.578833 -324.251382 2.557160\n",
      "34 -202.968497 -118.158009 -321.126506 2.531231\n",
      "35 -201.568869 -117.953018 -319.521887 2.512211\n",
      "36 -199.825979 -118.027555 -317.853533 2.512497\n",
      "37 -197.774578 -118.269685 -316.044263 2.519081\n",
      "38 -197.088601 -117.892163 -314.980764 2.512081\n",
      "39 -194.612727 -118.212676 -312.825403 2.503844\n",
      "40 -193.759765 -118.469117 -312.228882 2.512562\n",
      "41 -193.811200 -117.745410 -311.556610 2.502105\n",
      "42 -194.636868 -116.662010 -311.298878 2.477834\n",
      "43 -193.022259 -116.835406 -309.857665 2.484707\n",
      "44 -188.534680 -117.927323 -306.462003 2.492775\n",
      "45 -186.818950 -117.908184 -304.727134 2.483410\n",
      "46 -186.275440 -117.347611 -303.623051 2.479932\n",
      "47 -185.151044 -117.204738 -302.355782 2.488298\n",
      "48 -184.402991 -117.647014 -302.050005 2.512292\n",
      "49 -182.552229 -117.546299 -300.098528 2.518636\n",
      "50 -181.577938 -116.815102 -298.393040 2.503506\n",
      "51 -180.180716 -116.746581 -296.927298 2.494172\n",
      "52 -179.299630 -116.721130 -296.020760 2.476329\n",
      "53 -179.017101 -116.191078 -295.208179 2.459904\n",
      "54 -176.537224 -117.356638 -293.893862 2.458316\n",
      "55 -178.220533 -116.356665 -294.577198 2.451446\n",
      "56 -177.437063 -115.599056 -293.036119 2.444955\n",
      "57 -175.817962 -115.674500 -291.492463 2.427699\n",
      "58 -173.959798 -115.844108 -289.803906 2.417726\n",
      "59 -175.106759 -113.906701 -289.013460 2.368274\n",
      "60 -171.939700 -115.558750 -287.498450 2.381904\n",
      "61 -171.533087 -115.271019 -286.804106 2.364865\n",
      "62 -169.091401 -116.312355 -285.403756 2.369954\n",
      "63 -165.337637 -118.128955 -283.466591 2.390972\n",
      "64 -167.170502 -115.768509 -282.939011 2.346668\n",
      "65 -165.980327 -115.948271 -281.928597 2.340169\n",
      "66 -166.017902 -115.145797 -281.163699 2.316594\n",
      "67 -167.344660 -114.308003 -281.652663 2.303741\n",
      "68 -165.112798 -114.858415 -279.971212 2.277957\n",
      "69 -162.272919 -116.188452 -278.461371 2.278634\n",
      "70 -161.878766 -115.854679 -277.733445 2.276923\n",
      "71 -160.833270 -117.135540 -277.968810 2.302505\n",
      "72 -160.567339 -116.985860 -277.553198 2.288578\n",
      "73 -158.036661 -117.744922 -275.781583 2.284377\n",
      "74 -156.249156 -118.326211 -274.575367 2.272478\n",
      "75 -155.534822 -117.905923 -273.440745 2.252759\n",
      "76 -155.496338 -116.821460 -272.317798 2.238976\n",
      "77 -154.424508 -116.936765 -271.361272 2.220424\n",
      "78 -154.100601 -116.193393 -270.293994 2.200077\n",
      "79 -153.033923 -116.775391 -269.809313 2.195729\n",
      "80 -151.242889 -117.186607 -268.429496 2.190233\n",
      "81 -150.220849 -117.262894 -267.483743 2.174141\n",
      "82 -150.926187 -115.213518 -266.139705 2.136088\n",
      "83 -151.117305 -114.749670 -265.866975 2.105589\n",
      "84 -148.754393 -115.549109 -264.303502 2.101734\n",
      "85 -147.625288 -115.699215 -263.324502 2.091969\n",
      "86 -149.078991 -113.839064 -262.918055 2.040281\n",
      "87 -147.410280 -114.273424 -261.683705 2.033870\n",
      "88 -145.463563 -114.844099 -260.307661 2.033460\n",
      "89 -147.583901 -113.191134 -260.775035 2.011850\n",
      "90 -148.079162 -112.915565 -260.994727 2.014652\n",
      "91 -146.382532 -112.942365 -259.324897 1.986553\n",
      "92 -145.744482 -112.866329 -258.610811 1.979579\n",
      "93 -143.398872 -113.651965 -257.050837 1.966774\n",
      "94 -141.928718 -113.702651 -255.631369 1.957665\n",
      "95 -143.241768 -112.273751 -255.515519 1.917862\n",
      "96 -140.663922 -113.430571 -254.094493 1.923203\n",
      "97 -139.982888 -113.667323 -253.650211 1.922468\n",
      "98 -138.238177 -114.920267 -253.158443 1.920911\n",
      "99 -139.068188 -114.301288 -253.369476 1.910147\n",
      "100 -138.281463 -114.133876 -252.415339 1.894863\n",
      "101 -137.402059 -114.231657 -251.633717 1.885822\n",
      "102 -136.990237 -113.026062 -250.016299 1.827615\n",
      "103 -135.836357 -113.051299 -248.887656 1.804841\n",
      "104 -135.143426 -112.755359 -247.898784 1.781922\n",
      "105 -134.347409 -111.914320 -246.261729 1.744607\n",
      "106 -133.036922 -112.035005 -245.071927 1.710455\n",
      "107 -133.506504 -111.063316 -244.569820 1.687167\n",
      "108 -133.009013 -111.019850 -244.028862 1.679135\n",
      "109 -132.999350 -110.355074 -243.354424 1.659183\n",
      "110 -131.795810 -110.728785 -242.524595 1.653453\n",
      "111 -131.388971 -110.210227 -241.599198 1.625744\n",
      "112 -128.510240 -111.683241 -240.193480 1.616594\n",
      "113 -128.057239 -111.231835 -239.289074 1.593461\n",
      "114 -127.096886 -111.423372 -238.520259 1.582201\n",
      "115 -126.312193 -111.899876 -238.212069 1.588310\n",
      "116 -125.353496 -110.957016 -236.310511 1.574460\n",
      "117 -125.493858 -109.978601 -235.472459 1.523784\n",
      "118 -124.265596 -110.189623 -234.455220 1.500692\n",
      "119 -123.441592 -110.011686 -233.453278 1.481631\n",
      "120 -122.765760 -109.981506 -232.747266 1.466236\n",
      "121 -121.540450 -110.420671 -231.961121 1.465341\n",
      "122 -120.935606 -110.532111 -231.467717 1.452149\n",
      "123 -120.033413 -110.464238 -230.497651 1.441606\n",
      "124 -119.841966 -109.808272 -229.650237 1.408661\n",
      "125 -118.714340 -109.997141 -228.711481 1.393149\n",
      "126 -117.618929 -110.582111 -228.201040 1.390066\n",
      "127 -117.759666 -109.580872 -227.340538 1.354693\n",
      "128 -118.242329 -109.000105 -227.242434 1.328205\n",
      "129 -115.650373 -109.792944 -225.443317 1.306952\n",
      "130 -114.589321 -109.960923 -224.550244 1.298103\n",
      "131 -115.006257 -109.122278 -224.128535 1.281781\n",
      "132 -113.385736 -109.577244 -222.962980 1.261294\n",
      "133 -112.825100 -109.578282 -222.403382 1.261906\n",
      "134 -113.052497 -108.987783 -222.040280 1.257618\n",
      "135 -111.367778 -109.508511 -220.876289 1.244644\n",
      "136 -111.418355 -108.303117 -219.721472 1.210271\n",
      "137 -110.926493 -108.009052 -218.935545 1.184564\n",
      "138 -112.151914 -106.658782 -218.810696 1.151025\n",
      "139 -109.809106 -107.421567 -217.230673 1.143170\n",
      "140 -107.404395 -108.984132 -216.388527 1.144710\n",
      "141 -108.287768 -108.256410 -216.544179 1.121383\n",
      "142 -106.945088 -107.768366 -214.713454 1.102099\n",
      "143 -104.908921 -108.851823 -213.760744 1.108066\n",
      "144 -104.694616 -108.412448 -213.107064 1.085807\n",
      "145 -102.905638 -109.432047 -212.337685 1.091240\n",
      "146 -102.576624 -109.228828 -211.805452 1.080266\n",
      "147 -102.787466 -109.353698 -212.141163 1.055348\n",
      "148 -101.810765 -109.835387 -211.646152 1.037524\n",
      "149 -101.067752 -109.574698 -210.642450 1.019152\n",
      "150 -100.912745 -109.030435 -209.943179 1.007292\n",
      "151 -101.197074 -107.947693 -209.144767 0.976579\n",
      "152 -101.772848 -107.582057 -209.354905 0.950803\n",
      "153 -101.033694 -107.233736 -208.267430 0.933783\n",
      "154 -100.543194 -107.157286 -207.700480 0.934790\n",
      "155 -99.582915 -107.596030 -207.178945 0.902469\n",
      "156 -97.241959 -109.097669 -206.339628 0.900242\n",
      "157 -96.939364 -109.298049 -206.237413 0.885170\n",
      "158 -98.210574 -107.815084 -206.025658 0.868031\n",
      "159 -97.060323 -107.443671 -204.503994 0.859456\n",
      "160 -96.897411 -107.836288 -204.733700 0.849308\n",
      "161 -97.541913 -107.213101 -204.755014 0.845441\n",
      "162 -98.271714 -106.582408 -204.854121 0.825229\n",
      "163 -98.006915 -106.603585 -204.610501 0.835297\n",
      "164 -95.652483 -107.785484 -203.437967 0.838755\n",
      "165 -95.944982 -107.850275 -203.795257 0.835541\n",
      "166 -97.281462 -106.495288 -203.776750 0.828545\n",
      "167 -96.010820 -106.480585 -202.491405 0.808750\n",
      "168 -94.716713 -107.143378 -201.860090 0.825198\n",
      "169 -94.245933 -106.610982 -200.856915 0.809712\n"
     ]
    },
    {
     "name": "stdout",
     "output_type": "stream",
     "text": [
      "170 -93.359576 -107.581187 -200.940763 0.791524\n",
      "171 -93.884052 -106.144335 -200.028387 0.760995\n",
      "172 -93.753545 -105.994448 -199.747993 0.758707\n",
      "173 -93.427759 -105.424656 -198.852415 0.760369\n",
      "174 -92.544639 -106.077662 -198.622301 0.755290\n",
      "175 -92.458769 -106.539232 -198.998001 0.761114\n",
      "176 -92.247067 -106.015980 -198.263048 0.743436\n",
      "177 -92.653564 -105.870644 -198.524207 0.737364\n",
      "178 -90.899367 -106.874043 -197.773410 0.746083\n",
      "179 -90.848843 -106.588523 -197.437366 0.726479\n",
      "180 -90.661759 -106.751369 -197.413128 0.730706\n",
      "181 -91.616131 -105.928880 -197.545010 0.714482\n",
      "182 -92.629277 -104.329483 -196.958760 0.673547\n",
      "183 -91.508802 -105.073274 -196.582076 0.656372\n",
      "184 -90.728407 -105.501923 -196.230330 0.651279\n",
      "185 -90.791455 -105.775811 -196.567265 0.659373\n",
      "186 -91.332145 -105.253565 -196.585710 0.657350\n",
      "187 -91.780356 -105.923130 -197.703487 0.644817\n",
      "188 -92.364888 -104.915293 -197.280180 0.618914\n",
      "189 -91.196562 -104.985579 -196.182141 0.603924\n",
      "190 -90.950898 -104.831237 -195.782135 0.593330\n",
      "191 -90.544457 -104.867978 -195.412436 0.596427\n",
      "192 -89.851726 -104.994526 -194.846251 0.593847\n",
      "193 -90.208945 -104.217224 -194.426169 0.556873\n",
      "194 -89.287878 -104.824710 -194.112588 0.550524\n",
      "195 -89.184925 -104.944898 -194.129823 0.546187\n",
      "196 -89.471181 -104.638672 -194.109853 0.536152\n",
      "197 -88.852157 -105.037665 -193.889822 0.546893\n",
      "198 -89.848722 -103.930106 -193.778829 0.529732\n",
      "199 -88.791375 -104.669583 -193.460958 0.533371\n",
      "200 -88.802943 -104.897188 -193.700131 0.547243\n",
      "201 -89.623046 -104.433909 -194.056954 0.538350\n",
      "202 -89.980323 -103.959484 -193.939808 0.527836\n",
      "203 -89.702174 -103.247727 -192.949901 0.513599\n",
      "204 -88.214853 -104.310078 -192.524931 0.535287\n",
      "205 -89.178176 -103.346375 -192.524552 0.517104\n",
      "206 -87.855021 -104.447943 -192.302964 0.521149\n",
      "207 -87.976592 -104.295909 -192.272500 0.520169\n",
      "208 -87.624150 -104.499636 -192.123786 0.514797\n",
      "209 -87.423635 -104.560624 -191.984260 0.514270\n",
      "210 -87.837642 -103.939761 -191.777403 0.498854\n",
      "211 -87.724042 -104.602342 -192.326384 0.498874\n",
      "212 -87.806871 -103.952037 -191.758908 0.493177\n",
      "213 -88.806324 -103.395680 -192.202005 0.489574\n",
      "214 -89.707308 -102.718752 -192.426060 0.480296\n",
      "215 -90.366964 -102.841677 -193.208640 0.489876\n",
      "216 -90.662968 -102.248911 -192.911880 0.475864\n",
      "217 -89.658580 -102.781648 -192.440227 0.475228\n",
      "218 -90.081644 -103.222819 -193.304463 0.486164\n",
      "219 -89.390746 -103.955659 -193.346404 0.480925\n",
      "220 -88.881994 -103.910672 -192.792665 0.483510\n",
      "221 -88.800769 -103.786202 -192.586971 0.475669\n",
      "222 -89.140861 -103.854387 -192.995248 0.485005\n",
      "223 -89.675924 -103.406636 -193.082560 0.470734\n",
      "224 -88.372924 -104.016215 -192.389139 0.476239\n",
      "225 -87.020291 -103.736232 -190.756523 0.456097\n",
      "226 -87.390324 -103.027507 -190.417831 0.455503\n",
      "227 -86.784452 -103.262197 -190.046649 0.445098\n",
      "228 -85.816873 -104.362731 -190.179604 0.456120\n",
      "229 -86.793588 -103.098446 -189.892034 0.429696\n",
      "230 -86.359788 -103.613228 -189.973016 0.439106\n",
      "231 -86.804024 -103.142535 -189.946559 0.433223\n",
      "232 -86.597464 -102.772608 -189.370072 0.431819\n",
      "233 -86.806041 -103.159685 -189.965726 0.437468\n",
      "234 -87.979491 -102.477763 -190.457254 0.427831\n",
      "235 -87.047452 -103.048846 -190.096297 0.419484\n",
      "236 -87.978807 -102.074853 -190.053660 0.404490\n",
      "237 -87.781577 -102.012692 -189.794269 0.400323\n",
      "238 -86.669714 -102.588345 -189.258059 0.407443\n",
      "239 -87.223690 -102.648880 -189.872570 0.420498\n",
      "240 -86.736109 -102.496489 -189.232598 0.407983\n",
      "241 -87.834933 -101.608802 -189.443735 0.388581\n",
      "242 -88.710161 -100.923004 -189.633165 0.366931\n",
      "243 -87.744161 -101.460766 -189.204927 0.371508\n",
      "244 -87.295720 -101.424889 -188.720609 0.364121\n",
      "245 -87.399156 -101.631155 -189.030311 0.356503\n",
      "246 -86.309682 -102.069233 -188.378915 0.357772\n",
      "247 -86.737517 -101.931472 -188.668989 0.352150\n",
      "248 -86.527186 -101.987090 -188.514275 0.352937\n",
      "249 -86.381743 -102.361360 -188.743103 0.351212\n",
      "250 -86.343356 -102.650663 -188.994019 0.348778\n",
      "251 -86.170765 -102.711489 -188.882254 0.346044\n",
      "252 -86.079611 -102.753264 -188.832876 0.353750\n",
      "253 -86.725036 -102.533385 -189.258421 0.344619\n",
      "254 -88.176876 -101.843876 -190.020752 0.335470\n",
      "255 -89.224913 -101.655490 -190.880403 0.344467\n",
      "256 -88.224181 -102.391728 -190.615910 0.348236\n",
      "257 -86.988407 -102.938004 -189.926411 0.343682\n",
      "258 -86.477474 -102.853353 -189.330826 0.334628\n",
      "259 -87.282497 -102.312228 -189.594725 0.322611\n",
      "260 -88.408894 -101.837002 -190.245895 0.316016\n",
      "261 -88.683625 -101.868844 -190.552469 0.324317\n",
      "262 -87.280255 -103.070853 -190.351107 0.342661\n",
      "263 -86.272405 -102.829008 -189.101412 0.335510\n",
      "264 -86.866360 -102.262590 -189.128950 0.325867\n",
      "265 -86.926637 -102.114294 -189.040931 0.318719\n",
      "266 -87.219690 -101.657610 -188.877300 0.308506\n",
      "267 -87.805920 -101.312825 -189.118744 0.300134\n",
      "268 -87.711612 -101.654526 -189.366138 0.315673\n",
      "269 -88.094088 -101.290965 -189.385054 0.303967\n",
      "270 -87.698150 -101.396662 -189.094811 0.304594\n",
      "271 -86.610139 -101.670136 -188.280275 0.306129\n",
      "272 -86.059377 -101.866017 -187.925393 0.299432\n",
      "273 -85.813834 -101.777214 -187.591048 0.297942\n",
      "274 -85.620598 -102.100960 -187.721558 0.297931\n",
      "275 -85.658279 -101.968711 -187.626989 0.294646\n",
      "276 -85.661920 -102.082251 -187.744171 0.296405\n",
      "277 -85.407364 -102.137310 -187.544673 0.296578\n",
      "278 -85.268869 -102.261339 -187.530208 0.293558\n",
      "279 -85.282637 -102.159399 -187.442036 0.295269\n",
      "280 -84.527339 -102.524208 -187.051547 0.302455\n",
      "281 -84.694805 -102.507374 -187.202180 0.307826\n",
      "282 -85.561016 -101.847448 -187.408463 0.300840\n",
      "283 -84.027015 -103.060189 -187.087204 0.317291\n",
      "284 -84.240949 -102.850099 -187.091048 0.313842\n",
      "285 -84.236219 -102.810224 -187.046443 0.314729\n",
      "286 -84.108323 -103.298782 -187.407105 0.323123\n",
      "287 -83.715589 -103.138759 -186.854347 0.328087\n",
      "288 -84.282477 -102.761158 -187.043634 0.319536\n",
      "289 -84.206942 -102.600935 -186.807878 0.312444\n",
      "290 -84.480044 -102.235842 -186.715887 0.306479\n",
      "291 -85.203292 -101.735684 -186.938976 0.289101\n",
      "292 -85.377127 -101.700356 -187.077484 0.292394\n",
      "293 -85.869654 -101.838296 -187.707950 0.283900\n",
      "294 -85.637502 -102.336070 -187.973572 0.293080\n",
      "295 -84.858763 -102.424157 -187.282920 0.280864\n",
      "296 -85.378958 -101.566078 -186.945037 0.276946\n",
      "297 -84.973617 -101.808981 -186.782598 0.271951\n",
      "298 -84.709513 -101.829013 -186.538526 0.264514\n",
      "299 -85.281589 -101.387143 -186.668732 0.260791\n",
      "300 -86.262478 -100.500358 -186.762836 0.253258\n",
      "301 -87.507639 -100.363282 -187.870921 0.246401\n",
      "302 -88.004311 -100.533645 -188.537956 0.252828\n",
      "303 -85.919499 -101.397785 -187.317284 0.264100\n",
      "304 -85.318637 -101.299964 -186.618600 0.265698\n",
      "305 -84.721199 -101.505410 -186.226608 0.274181\n",
      "306 -84.231097 -101.851448 -186.082545 0.272636\n",
      "307 -84.633132 -101.948628 -186.581760 0.263643\n",
      "308 -84.991005 -101.944060 -186.935066 0.264738\n",
      "309 -85.299074 -101.609031 -186.908105 0.258615\n",
      "310 -85.864889 -101.252789 -187.117679 0.254715\n",
      "311 -85.728188 -101.468770 -187.196958 0.261173\n",
      "312 -86.629209 -101.232178 -187.861387 0.258266\n",
      "313 -86.551430 -101.114064 -187.665494 0.254826\n",
      "314 -86.448328 -101.123296 -187.571624 0.251977\n",
      "315 -85.119142 -101.396261 -186.515403 0.257645\n",
      "316 -84.955168 -101.582914 -186.538082 0.263815\n",
      "317 -86.119245 -100.973080 -187.092324 0.264160\n",
      "318 -86.032490 -100.525103 -186.557593 0.253977\n",
      "319 -84.766989 -101.352546 -186.119535 0.261246\n",
      "320 -85.036772 -101.207138 -186.243910 0.256738\n",
      "321 -84.960336 -101.248442 -186.208778 0.251759\n",
      "322 -84.312274 -102.053314 -186.365587 0.263197\n",
      "323 -84.320325 -101.660048 -185.980374 0.255246\n",
      "324 -83.510960 -102.226497 -185.737457 0.268987\n",
      "325 -83.221665 -101.987489 -185.209154 0.274491\n",
      "326 -83.093359 -102.045216 -185.138575 0.270283\n",
      "327 -83.622489 -101.582031 -185.204520 0.259513\n",
      "328 -82.934730 -102.256480 -185.191210 0.262299\n",
      "329 -83.110869 -102.456126 -185.566995 0.256443\n",
      "330 -83.695795 -101.947732 -185.643527 0.246772\n",
      "331 -84.195264 -101.594629 -185.789893 0.236749\n",
      "332 -85.268321 -100.980175 -186.248495 0.228185\n",
      "333 -84.185911 -101.394867 -185.580779 0.234320\n",
      "334 -83.598458 -101.717614 -185.316072 0.239467\n",
      "335 -83.716256 -101.664252 -185.380507 0.236018\n",
      "336 -84.129845 -101.706285 -185.836131 0.224623\n",
      "337 -83.388493 -102.685328 -186.073821 0.237493\n",
      "338 -84.445081 -102.313083 -186.758164 0.232387\n",
      "339 -83.897218 -102.958381 -186.855599 0.251381\n",
      "340 -85.591761 -102.153456 -187.745216 0.248952\n"
     ]
    },
    {
     "name": "stdout",
     "output_type": "stream",
     "text": [
      "341 -87.186632 -101.620065 -188.806697 0.252846\n",
      "342 -85.338888 -102.248374 -187.587262 0.245431\n",
      "343 -86.006034 -101.697025 -187.703059 0.238682\n",
      "344 -85.970555 -101.579796 -187.550351 0.233998\n",
      "345 -85.165177 -101.638289 -186.803466 0.224507\n",
      "346 -85.599808 -101.621595 -187.221403 0.227038\n",
      "347 -85.355052 -101.091915 -186.446967 0.216522\n",
      "348 -84.673696 -101.079322 -185.753019 0.219948\n",
      "349 -85.155477 -100.855013 -186.010490 0.206205\n",
      "350 -83.483561 -102.066605 -185.550166 0.231945\n",
      "351 -84.434968 -101.555385 -185.990353 0.222151\n",
      "352 -84.292863 -101.486297 -185.779160 0.218176\n",
      "353 -85.013986 -101.225172 -186.239159 0.226459\n",
      "354 -84.134151 -101.824179 -185.958330 0.233619\n",
      "355 -85.304455 -101.893480 -187.197935 0.228402\n",
      "356 -86.392022 -101.192616 -187.584638 0.208280\n",
      "357 -85.960392 -100.725505 -186.685896 0.203151\n",
      "358 -86.082971 -100.313802 -186.396773 0.202225\n",
      "359 -85.248891 -101.110319 -186.359210 0.202339\n",
      "360 -84.836593 -101.595153 -186.431746 0.206883\n",
      "361 -84.442963 -101.835774 -186.278737 0.209163\n",
      "362 -85.263318 -101.248267 -186.511585 0.202055\n",
      "363 -84.853623 -101.524620 -186.378243 0.198675\n",
      "364 -84.550436 -101.750122 -186.300558 0.204549\n",
      "365 -84.802576 -101.290046 -186.092623 0.200928\n",
      "366 -84.566004 -100.795138 -185.361142 0.204232\n",
      "367 -85.439716 -100.135100 -185.574816 0.210614\n",
      "368 -86.208702 -99.626541 -185.835243 0.216516\n",
      "369 -86.852081 -99.691350 -186.543431 0.216048\n",
      "370 -86.601310 -100.321681 -186.922991 0.221177\n",
      "371 -85.009214 -100.748006 -185.757219 0.221058\n",
      "372 -86.039791 -100.587640 -186.627431 0.228662\n",
      "373 -86.779955 -100.246255 -187.026210 0.224508\n",
      "374 -86.542071 -100.761727 -187.303799 0.222466\n",
      "375 -86.612924 -100.490135 -187.103059 0.218664\n",
      "376 -86.514783 -100.455707 -186.970490 0.214724\n",
      "377 -85.391221 -101.616256 -187.007476 0.236982\n",
      "378 -85.251794 -101.701863 -186.953658 0.234994\n",
      "379 -85.512849 -101.403151 -186.916001 0.247260\n",
      "380 -86.182660 -101.083034 -187.265694 0.255729\n",
      "381 -85.319826 -100.813750 -186.133577 0.243318\n",
      "382 -85.985145 -101.177726 -187.162871 0.254952\n",
      "383 -84.652671 -102.211364 -186.864035 0.265050\n",
      "384 -84.022291 -101.732673 -185.754964 0.242924\n",
      "385 -86.012363 -100.561494 -186.573857 0.236654\n",
      "386 -86.114610 -100.523921 -186.638531 0.229104\n",
      "387 -86.049617 -100.678285 -186.727902 0.228462\n",
      "388 -86.029012 -100.201358 -186.230370 0.216428\n",
      "389 -86.557294 -100.334370 -186.891664 0.215660\n",
      "390 -87.439788 -99.817556 -187.257344 0.205440\n",
      "391 -86.644763 -99.773670 -186.418434 0.212275\n",
      "392 -85.400167 -100.130414 -185.530581 0.203825\n",
      "393 -86.184234 -99.685935 -185.870169 0.203165\n",
      "394 -85.131469 -100.016703 -185.148172 0.200967\n",
      "395 -85.057715 -100.116984 -185.174699 0.205011\n",
      "396 -84.257144 -100.644664 -184.901808 0.206933\n",
      "397 -83.589889 -101.593032 -185.182921 0.226024\n",
      "398 -83.927870 -101.225016 -185.152886 0.218837\n",
      "399 -84.523533 -101.298418 -185.821951 0.222239\n",
      "400 -84.763865 -101.227203 -185.991068 0.224618\n",
      "401 -84.315998 -101.458917 -185.774916 0.239338\n",
      "402 -84.243115 -101.089206 -185.332321 0.231940\n",
      "403 -83.960624 -100.646358 -184.606982 0.223112\n",
      "404 -83.223078 -101.560621 -184.783698 0.218252\n",
      "405 -85.749949 -99.805198 -185.555146 0.219930\n",
      "406 -84.576480 -100.838548 -185.415028 0.217400\n",
      "407 -83.743522 -101.978811 -185.722333 0.233498\n",
      "408 -83.382098 -101.904327 -185.286425 0.225772\n",
      "409 -84.492698 -101.740054 -186.232752 0.219600\n",
      "410 -84.395021 -101.176203 -185.571224 0.209133\n",
      "411 -83.154500 -101.503626 -184.658126 0.212132\n",
      "412 -84.272723 -100.890824 -185.163547 0.213429\n",
      "413 -84.053935 -101.209074 -185.263009 0.212898\n",
      "414 -84.209821 -101.210583 -185.420403 0.207890\n",
      "415 -84.545449 -101.196362 -185.741811 0.202941\n",
      "416 -84.720694 -101.221900 -185.942594 0.194040\n",
      "417 -83.717174 -101.152823 -184.869998 0.185841\n",
      "418 -83.334587 -101.348660 -184.683247 0.180928\n",
      "419 -83.699549 -101.426159 -185.125708 0.174656\n",
      "420 -83.985877 -100.927969 -184.913845 0.166406\n",
      "421 -84.129732 -100.781005 -184.910737 0.164023\n",
      "422 -83.565264 -101.169021 -184.734284 0.168908\n",
      "423 -83.416128 -100.891167 -184.307294 0.170485\n",
      "424 -83.864682 -100.489955 -184.354637 0.160307\n",
      "425 -83.800277 -100.472354 -184.272631 0.159336\n",
      "426 -84.654752 -99.967073 -184.621825 0.157710\n",
      "427 -84.074725 -100.385804 -184.460529 0.164448\n",
      "428 -83.664332 -100.800264 -184.464595 0.169592\n",
      "429 -83.135296 -100.958756 -184.094052 0.180787\n",
      "430 -82.642767 -101.051378 -183.694146 0.191018\n",
      "431 -82.648735 -101.065123 -183.713858 0.193822\n",
      "432 -84.189085 -100.499097 -184.688182 0.168913\n",
      "433 -83.792399 -100.528776 -184.321175 0.175190\n",
      "434 -84.924225 -100.089510 -185.013736 0.187838\n",
      "435 -84.976404 -100.167513 -185.143917 0.180580\n",
      "436 -85.138764 -100.036644 -185.175408 0.172763\n",
      "437 -84.401592 -100.546947 -184.948539 0.180728\n",
      "438 -84.306673 -101.091795 -185.398468 0.186609\n",
      "439 -84.590146 -101.115834 -185.705980 0.186691\n",
      "440 -85.058187 -101.566305 -186.624492 0.199143\n",
      "441 -83.931371 -101.661663 -185.593034 0.200582\n",
      "442 -83.264233 -102.105903 -185.370136 0.201489\n",
      "443 -82.985973 -101.748273 -184.734246 0.196067\n",
      "444 -83.904277 -101.172406 -185.076684 0.201956\n",
      "445 -85.127403 -100.214468 -185.341871 0.194313\n",
      "446 -85.343072 -100.228198 -185.571271 0.194710\n",
      "447 -86.248648 -99.983084 -186.231731 0.205757\n",
      "448 -85.430056 -100.142709 -185.572766 0.205754\n",
      "449 -84.321427 -100.987764 -185.309191 0.198324\n",
      "450 -84.107618 -100.487416 -184.595034 0.181781\n",
      "451 -84.264968 -100.789223 -185.054191 0.183768\n",
      "452 -84.632205 -100.478313 -185.110518 0.157267\n",
      "453 -85.135547 -100.309419 -185.444966 0.149515\n",
      "454 -84.745146 -100.668975 -185.414120 0.151799\n",
      "455 -83.767052 -100.711662 -184.478715 0.156615\n",
      "456 -83.912238 -100.631605 -184.543842 0.151681\n",
      "457 -83.811626 -100.750905 -184.562531 0.151881\n",
      "458 -83.769012 -100.840767 -184.609779 0.151986\n",
      "459 -84.191239 -100.846832 -185.038072 0.148100\n",
      "460 -83.075798 -101.284500 -184.360298 0.166176\n",
      "461 -82.975823 -101.680017 -184.655840 0.171972\n",
      "462 -82.137627 -102.190884 -184.328512 0.179085\n",
      "463 -82.856532 -101.485001 -184.341533 0.167118\n",
      "464 -82.634484 -101.662805 -184.297289 0.169323\n",
      "465 -82.498334 -102.271219 -184.769552 0.174229\n",
      "466 -82.767300 -101.928397 -184.695697 0.168000\n",
      "467 -82.086415 -102.267599 -184.354014 0.181371\n",
      "468 -81.829725 -102.321830 -184.151556 0.183615\n",
      "469 -82.875500 -101.031515 -183.907015 0.167645\n",
      "470 -82.415540 -101.677814 -184.093354 0.178569\n",
      "471 -81.969104 -101.623472 -183.592576 0.191091\n",
      "472 -81.569304 -102.088199 -183.657504 0.201866\n",
      "473 -81.964220 -101.788713 -183.752932 0.193620\n",
      "474 -82.901278 -100.887130 -183.788409 0.185000\n",
      "475 -82.268882 -101.293621 -183.562503 0.199418\n",
      "476 -82.607052 -100.896987 -183.504038 0.195596\n",
      "477 -82.172788 -101.451224 -183.624012 0.195538\n",
      "478 -81.820437 -101.920454 -183.740891 0.210895\n",
      "479 -82.526885 -101.033469 -183.560354 0.195799\n",
      "480 -82.894207 -101.228824 -184.123031 0.200571\n",
      "481 -83.057612 -100.952409 -184.010022 0.191541\n",
      "482 -84.248352 -100.156755 -184.405107 0.175936\n",
      "483 -84.275038 -100.005287 -184.280325 0.183498\n",
      "484 -84.097231 -100.321321 -184.418552 0.184828\n",
      "485 -83.243398 -100.679070 -183.922467 0.191985\n",
      "486 -83.413894 -100.380193 -183.794087 0.189765\n",
      "487 -83.279848 -100.644935 -183.924782 0.193861\n",
      "488 -82.270456 -101.384553 -183.655010 0.190711\n",
      "489 -82.824579 -101.156990 -183.981569 0.174735\n",
      "490 -83.037929 -101.298962 -184.336891 0.163722\n",
      "491 -83.513388 -101.165604 -184.678992 0.166397\n",
      "492 -84.387862 -100.430362 -184.818224 0.160332\n",
      "493 -83.618382 -100.660127 -184.278510 0.174501\n",
      "494 -84.345248 -100.535257 -184.880505 0.159429\n",
      "495 -84.961640 -100.296766 -185.258406 0.165346\n",
      "496 -84.692074 -100.452032 -185.144106 0.168956\n",
      "497 -85.205065 -100.198509 -185.403574 0.164211\n",
      "498 -84.871508 -100.041791 -184.913299 0.160722\n",
      "499 -84.379376 -100.268019 -184.647394 0.149605\n"
     ]
    }
   ],
   "source": [
    "while len(idl_train_logs['tt_lls']) < maxiter:\n",
    "    batch_demo_sas, batch_demo_adt = sample_batch(batch_size, train_demo_example_idxes, sas_obs, adt_obs)\n",
    "    #Should we initialize Qs or nah?\n",
    "    tp_ll, dT_pol, Qi = eval_T_pol_likelihood_and_grad(Ti_thetas, Ri, batch_demo_sas, Q_inits=Qi)\n",
    "    tt_ll, dT_trans = eval_trans_likelihood_and_grad(Ti_thetas, batch_demo_adt)\n",
    "    train_likelihood = tp_ll + tt_ll\n",
    "    vp_ll, vt_ll = eval_demo_log_likelihood(val_sas_obs, val_adt_obs, Ti_thetas, Qi)\n",
    "    val_likelihood = vp_ll + vt_ll\n",
    "    ttd = true_trans_loss(softmax(Ti_thetas))\n",
    "    Ti_thetas += learning_rate * (dT_trans + dT_pol)\n",
    "    \n",
    "    print('%d %f %f %f %f' % (len(idl_train_logs['tt_lls']), vp_ll, vt_ll, vp_ll + vt_ll, ttd))\n",
    "    idl_train_logs['train_likelihoods'].append(train_likelihood)\n",
    "    idl_train_logs['val_likelihoods'].append(val_likelihood)\n",
    "    idl_train_logs['tp_lls'].append(tp_ll)\n",
    "    idl_train_logs['tt_lls'].append(tt_ll)\n",
    "    idl_train_logs['vp_lls'].append(vp_ll)\n",
    "    idl_train_logs['vt_lls'].append(vt_ll)\n",
    "    idl_train_logs['true_trans_loss'].append(ttd)"
   ]
  },
  {
   "cell_type": "code",
   "execution_count": 36,
   "metadata": {},
   "outputs": [
    {
     "data": {
      "text/plain": [
       "[<matplotlib.lines.Line2D at 0x1258ba1d0>]"
      ]
     },
     "execution_count": 36,
     "metadata": {},
     "output_type": "execute_result"
    },
    {
     "data": {
      "image/png": "[encoded data removed]",
      "text/plain": [
       "<Figure size 432x288 with 1 Axes>"
      ]
     },
     "metadata": {},
     "output_type": "display_data"
    }
   ],
   "source": [
    "plt.plot(idl_train_logs['vp_lls'])"
   ]
  },
  {
   "cell_type": "code",
   "execution_count": 37,
   "metadata": {},
   "outputs": [
    {
     "data": {
      "text/plain": [
       "[<matplotlib.lines.Line2D at 0x125a66d68>]"
      ]
     },
     "execution_count": 37,
     "metadata": {},
     "output_type": "execute_result"
    },
    {
     "data": {
      "image/png": "[encoded data removed]",
      "text/plain": [
       "<Figure size 432x288 with 1 Axes>"
      ]
     },
     "metadata": {},
     "output_type": "display_data"
    }
   ],
   "source": [
    "plt.plot(idl_train_logs['vt_lls'])"
   ]
  },
  {
   "cell_type": "code",
   "execution_count": 38,
   "metadata": {},
   "outputs": [
    {
     "data": {
      "text/plain": [
       "[<matplotlib.lines.Line2D at 0x1276d0a58>]"
      ]
     },
     "execution_count": 38,
     "metadata": {},
     "output_type": "execute_result"
    },
    {
     "data": {
      "image/png": "[encoded data removed]",
      "text/plain": [
       "<Figure size 432x288 with 1 Axes>"
      ]
     },
     "metadata": {},
     "output_type": "display_data"
    }
   ],
   "source": [
    "plt.plot(idl_train_logs['val_likelihoods'])"
   ]
  },
  {
   "cell_type": "code",
   "execution_count": 39,
   "metadata": {
    "scrolled": true
   },
   "outputs": [
    {
     "name": "stdout",
     "output_type": "stream",
     "text": [
      "[[ 94.62451393  94.62451393  94.62451393  94.62451393  94.62451393]\n",
      " [ 91.34930156  91.34930156  91.34930156  91.34930156  91.34930156]\n",
      " [ 83.82751808  83.82751808  83.82751808  83.82751808  83.82751808]\n",
      " [ 85.34500922  85.34500922  85.34500922  85.34500922  85.34500922]\n",
      " [ 86.7389781   86.7389781   86.7389781   86.7389781   86.7389781 ]\n",
      " [ 91.4944909   91.4944909   91.4944909   91.4944909   91.4944909 ]\n",
      " [ 77.92708716  77.92708716  77.92708716  77.92708716  77.92708716]\n",
      " [ 88.07702229  88.07702229  88.07702229  88.07702229  88.07702229]\n",
      " [107.75322823 107.75322823 107.75322823 107.75322823 107.75322823]\n",
      " [ 89.43852538  89.43852538  89.43852538  89.43852538  89.43852538]\n",
      " [ 99.20427027  99.20427027  99.20427027  99.20427027  99.20427027]\n",
      " [ 98.1739262   98.1739262   98.1739262   98.1739262   98.1739262 ]\n",
      " [ 95.92527734  95.92527734  95.92527734  95.92527734  95.92527734]\n",
      " [ 65.45850731  65.45850731  65.45850731  65.45850731  65.45850731]\n",
      " [ 62.17308575  62.17308575  62.17308575  62.17308575  62.17308575]\n",
      " [ 72.48630992  72.48630992  72.48630992  72.48630992  72.48630992]\n",
      " [ 75.28152728  75.28152728  75.28152728  75.28152728  75.28152728]\n",
      " [ 80.96501923  80.96501923  80.96501923  80.96501923  80.96501923]\n",
      " [ 50.83782271  50.83782271  50.83782271  50.83782271  50.83782271]\n",
      " [ 51.58928415  51.58928415  51.58928415  51.58928415  51.58928415]\n",
      " [ 74.47626694  74.47626694  74.47626694  74.47626694  74.47626694]\n",
      " [ 83.74649239  83.74649239  83.74649239  83.74649239  83.74649239]\n",
      " [ 88.62889883  88.62889883  88.62889883  88.62889883  88.62889883]\n",
      " [ 43.02570458  43.02570458  43.02570458  43.02570458  43.02570458]\n",
      " [ 54.49305908  54.49305908  54.49305908  54.49305908  54.49305908]\n",
      " [ 58.88640246  58.88640246  58.88640246  58.88640246  58.88640246]\n",
      " [ 85.70214874  85.70214874  85.70214874  85.70214874  85.70214874]\n",
      " [ 74.42336955  74.42336955  74.42336955  74.42336955  74.42336955]\n",
      " [ 86.15359324  86.15359324  86.15359324  86.15359324  86.15359324]\n",
      " [ 63.05179937  63.05179937  63.05179937  63.05179937  63.05179937]\n",
      " [ 69.43758819  69.43758819  69.43758819  69.43758819  69.43758819]]\n"
     ]
    }
   ],
   "source": [
    "print(Qi[[s for s in range(nS) if mdp.get_tile_type(s)==1]])"
   ]
  },
  {
   "cell_type": "code",
   "execution_count": 40,
   "metadata": {},
   "outputs": [
    {
     "name": "stderr",
     "output_type": "stream",
     "text": [
      "/Users/mckaneandrus/anaconda2/envs/irld/lib/python3.6/site-packages/matplotlib/cbook/deprecation.py:107: MatplotlibDeprecationWarning: Adding an axes using the same arguments as a previous axes currently reuses the earlier instance.  In a future version, a new instance will always be created and returned.  Meanwhile, this warning can be suppressed, and the future behavior ensured, by passing a unique label to each axes instance.\n",
      "  warnings.warn(message, mplDeprecation, stacklevel=1)\n"
     ]
    },
    {
     "data": {
      "image/png": "[encoded data removed]",
      "text/plain": [
       "<Figure size 288x288 with 1 Axes>"
      ]
     },
     "metadata": {},
     "output_type": "display_data"
    },
    {
     "name": "stdout",
     "output_type": "stream",
     "text": [
      "(1, 8) b'S'\n",
      "(0, 8) b'F'\n"
     ]
    },
    {
     "data": {
      "image/png": "[encoded data removed]",
      "text/plain": [
       "<Figure size 288x288 with 1 Axes>"
      ]
     },
     "metadata": {},
     "output_type": "display_data"
    },
    {
     "name": "stdout",
     "output_type": "stream",
     "text": [
      "(0, 8) b'F'\n",
      "(8, 8) b'F'\n"
     ]
    },
    {
     "data": {
      "image/png": "[encoded data removed]",
      "text/plain": [
       "<Figure size 288x288 with 1 Axes>"
      ]
     },
     "metadata": {},
     "output_type": "display_data"
    },
    {
     "name": "stdout",
     "output_type": "stream",
     "text": [
      "(8, 8) b'F'\n",
      "(7, 8) b'F'\n"
     ]
    },
    {
     "data": {
      "image/png": "[encoded data removed]",
      "text/plain": [
       "<Figure size 288x288 with 1 Axes>"
      ]
     },
     "metadata": {},
     "output_type": "display_data"
    },
    {
     "name": "stdout",
     "output_type": "stream",
     "text": [
      "(7, 8) b'F'\n",
      "(6, 8) b'1'\n"
     ]
    },
    {
     "data": {
      "image/png": "[encoded data removed]",
      "text/plain": [
       "<Figure size 288x288 with 1 Axes>"
      ]
     },
     "metadata": {},
     "output_type": "display_data"
    },
    {
     "name": "stdout",
     "output_type": "stream",
     "text": [
      "(6, 8) b'1'\n",
      "(6, 8) b'1'\n"
     ]
    },
    {
     "data": {
      "image/png": "[encoded data removed]",
      "text/plain": [
       "<Figure size 288x288 with 1 Axes>"
      ]
     },
     "metadata": {},
     "output_type": "display_data"
    },
    {
     "name": "stdout",
     "output_type": "stream",
     "text": [
      "(6, 8) b'1'\n",
      "(6, 7) b'2'\n"
     ]
    },
    {
     "data": {
      "image/png": "[encoded data removed]",
      "text/plain": [
       "<Figure size 288x288 with 1 Axes>"
      ]
     },
     "metadata": {},
     "output_type": "display_data"
    },
    {
     "name": "stdout",
     "output_type": "stream",
     "text": [
      "(6, 7) b'2'\n",
      "(6, 6) b'1'\n"
     ]
    },
    {
     "data": {
      "image/png": "[encoded data removed]",
      "text/plain": [
       "<Figure size 288x288 with 1 Axes>"
      ]
     },
     "metadata": {},
     "output_type": "display_data"
    },
    {
     "name": "stdout",
     "output_type": "stream",
     "text": [
      "(6, 6) b'1'\n",
      "(5, 6) b'F'\n"
     ]
    },
    {
     "data": {
      "image/png": "[encoded data removed]",
      "text/plain": [
       "<Figure size 288x288 with 1 Axes>"
      ]
     },
     "metadata": {},
     "output_type": "display_data"
    },
    {
     "name": "stdout",
     "output_type": "stream",
     "text": [
      "(5, 6) b'F'\n",
      "(4, 6) b'2'\n"
     ]
    },
    {
     "data": {
      "image/png": "[encoded data removed]",
      "text/plain": [
       "<Figure size 288x288 with 1 Axes>"
      ]
     },
     "metadata": {},
     "output_type": "display_data"
    },
    {
     "name": "stdout",
     "output_type": "stream",
     "text": [
      "(4, 6) b'2'\n",
      "(4, 6) b'2'\n"
     ]
    },
    {
     "data": {
      "image/png": "[encoded data removed]",
      "text/plain": [
       "<Figure size 288x288 with 1 Axes>"
      ]
     },
     "metadata": {},
     "output_type": "display_data"
    },
    {
     "name": "stdout",
     "output_type": "stream",
     "text": [
      "(4, 6) b'2'\n",
      "(4, 7) b'S'\n"
     ]
    },
    {
     "data": {
      "image/png": "[encoded data removed]",
      "text/plain": [
       "<Figure size 288x288 with 1 Axes>"
      ]
     },
     "metadata": {},
     "output_type": "display_data"
    },
    {
     "name": "stdout",
     "output_type": "stream",
     "text": [
      "(4, 7) b'S'\n",
      "(5, 7) b'1'\n"
     ]
    },
    {
     "data": {
      "image/png": "[encoded data removed]",
      "text/plain": [
       "<Figure size 288x288 with 1 Axes>"
      ]
     },
     "metadata": {},
     "output_type": "display_data"
    },
    {
     "name": "stdout",
     "output_type": "stream",
     "text": [
      "(5, 7) b'1'\n",
      "(6, 7) b'2'\n"
     ]
    },
    {
     "data": {
      "image/png": "[encoded data removed]",
      "text/plain": [
       "<Figure size 288x288 with 1 Axes>"
      ]
     },
     "metadata": {},
     "output_type": "display_data"
    },
    {
     "name": "stdout",
     "output_type": "stream",
     "text": [
      "(6, 7) b'2'\n",
      "(6, 6) b'1'\n"
     ]
    },
    {
     "data": {
      "image/png": "[encoded data removed]",
      "text/plain": [
       "<Figure size 288x288 with 1 Axes>"
      ]
     },
     "metadata": {},
     "output_type": "display_data"
    },
    {
     "name": "stdout",
     "output_type": "stream",
     "text": [
      "(6, 6) b'1'\n",
      "(6, 5) b'S'\n"
     ]
    },
    {
     "data": {
      "image/png": "[encoded data removed]",
      "text/plain": [
       "<Figure size 288x288 with 1 Axes>"
      ]
     },
     "metadata": {},
     "output_type": "display_data"
    },
    {
     "name": "stdout",
     "output_type": "stream",
     "text": [
      "(6, 5) b'S'\n",
      "(6, 4) b'F'\n"
     ]
    },
    {
     "data": {
      "image/png": "[encoded data removed]",
      "text/plain": [
       "<Figure size 288x288 with 1 Axes>"
      ]
     },
     "metadata": {},
     "output_type": "display_data"
    },
    {
     "name": "stdout",
     "output_type": "stream",
     "text": [
      "(6, 4) b'F'\n",
      "(6, 3) b'F'\n"
     ]
    },
    {
     "data": {
      "image/png": "[encoded data removed]",
      "text/plain": [
       "<Figure size 288x288 with 1 Axes>"
      ]
     },
     "metadata": {},
     "output_type": "display_data"
    },
    {
     "name": "stdout",
     "output_type": "stream",
     "text": [
      "(6, 3) b'F'\n",
      "(6, 3) b'F'\n"
     ]
    },
    {
     "data": {
      "image/png": "[encoded data removed]",
      "text/plain": [
       "<Figure size 288x288 with 1 Axes>"
      ]
     },
     "metadata": {},
     "output_type": "display_data"
    },
    {
     "name": "stdout",
     "output_type": "stream",
     "text": [
      "(6, 3) b'F'\n",
      "(5, 3) b'S'\n"
     ]
    },
    {
     "data": {
      "image/png": "[encoded data removed]",
      "text/plain": [
       "<Figure size 288x288 with 1 Axes>"
      ]
     },
     "metadata": {},
     "output_type": "display_data"
    },
    {
     "name": "stdout",
     "output_type": "stream",
     "text": [
      "(5, 3) b'S'\n",
      "(5, 2) b'2'\n"
     ]
    },
    {
     "data": {
      "image/png": "[encoded data removed]",
      "text/plain": [
       "<Figure size 288x288 with 1 Axes>"
      ]
     },
     "metadata": {},
     "output_type": "display_data"
    },
    {
     "name": "stdout",
     "output_type": "stream",
     "text": [
      "(5, 2) b'2'\n",
      "(4, 2) b'1'\n"
     ]
    },
    {
     "data": {
      "image/png": "[encoded data removed]",
      "text/plain": [
       "<Figure size 288x288 with 1 Axes>"
      ]
     },
     "metadata": {},
     "output_type": "display_data"
    },
    {
     "name": "stdout",
     "output_type": "stream",
     "text": [
      "(4, 2) b'1'\n",
      "(4, 1) b'2'\n"
     ]
    },
    {
     "data": {
      "image/png": "[encoded data removed]",
      "text/plain": [
       "<Figure size 288x288 with 1 Axes>"
      ]
     },
     "metadata": {},
     "output_type": "display_data"
    },
    {
     "name": "stdout",
     "output_type": "stream",
     "text": [
      "(4, 1) b'2'\n",
      "(3, 1) b'1'\n"
     ]
    },
    {
     "data": {
      "image/png": "[encoded data removed]",
      "text/plain": [
       "<Figure size 288x288 with 1 Axes>"
      ]
     },
     "metadata": {},
     "output_type": "display_data"
    },
    {
     "name": "stdout",
     "output_type": "stream",
     "text": [
      "(3, 1) b'1'\n",
      "(3, 0) b'2'\n"
     ]
    },
    {
     "data": {
      "image/png": "[encoded data removed]",
      "text/plain": [
       "<Figure size 288x288 with 1 Axes>"
      ]
     },
     "metadata": {},
     "output_type": "display_data"
    },
    {
     "name": "stdout",
     "output_type": "stream",
     "text": [
      "(3, 0) b'2'\n",
      "(3, 1) b'1'\n"
     ]
    },
    {
     "data": {
      "image/png": "[encoded data removed]",
      "text/plain": [
       "<Figure size 288x288 with 1 Axes>"
      ]
     },
     "metadata": {},
     "output_type": "display_data"
    },
    {
     "name": "stdout",
     "output_type": "stream",
     "text": [
      "(3, 1) b'1'\n",
      "(2, 1) b'1'\n"
     ]
    },
    {
     "data": {
      "image/png": "[encoded data removed]",
      "text/plain": [
       "<Figure size 288x288 with 1 Axes>"
      ]
     },
     "metadata": {},
     "output_type": "display_data"
    },
    {
     "name": "stdout",
     "output_type": "stream",
     "text": [
      "(2, 1) b'1'\n",
      "(2, 2) b'1'\n"
     ]
    },
    {
     "data": {
      "image/png": "[encoded data removed]",
      "text/plain": [
       "<Figure size 288x288 with 1 Axes>"
      ]
     },
     "metadata": {},
     "output_type": "display_data"
    },
    {
     "name": "stdout",
     "output_type": "stream",
     "text": [
      "(2, 2) b'1'\n",
      "(2, 1) b'1'\n"
     ]
    },
    {
     "data": {
      "image/png": "[encoded data removed]",
      "text/plain": [
       "<Figure size 288x288 with 1 Axes>"
      ]
     },
     "metadata": {},
     "output_type": "display_data"
    },
    {
     "name": "stdout",
     "output_type": "stream",
     "text": [
      "(2, 1) b'1'\n",
      "(2, 0) b'2'\n"
     ]
    },
    {
     "data": {
      "image/png": "[encoded data removed]",
      "text/plain": [
       "<Figure size 288x288 with 1 Axes>"
      ]
     },
     "metadata": {},
     "output_type": "display_data"
    },
    {
     "name": "stdout",
     "output_type": "stream",
     "text": [
      "(2, 0) b'2'\n",
      "(2, 1) b'1'\n"
     ]
    },
    {
     "data": {
      "image/png": "[encoded data removed]",
      "text/plain": [
       "<Figure size 288x288 with 1 Axes>"
      ]
     },
     "metadata": {},
     "output_type": "display_data"
    },
    {
     "name": "stdout",
     "output_type": "stream",
     "text": [
      "(2, 1) b'1'\n",
      "(2, 2) b'1'\n"
     ]
    },
    {
     "data": {
      "image/png": "[encoded data removed]",
      "text/plain": [
       "<Figure size 288x288 with 1 Axes>"
      ]
     },
     "metadata": {},
     "output_type": "display_data"
    },
    {
     "name": "stdout",
     "output_type": "stream",
     "text": [
      "(2, 2) b'1'\n",
      "(2, 1) b'1'\n"
     ]
    },
    {
     "data": {
      "image/png": "[encoded data removed]",
      "text/plain": [
       "<Figure size 288x288 with 1 Axes>"
      ]
     },
     "metadata": {},
     "output_type": "display_data"
    },
    {
     "name": "stdout",
     "output_type": "stream",
     "text": [
      "(2, 1) b'1'\n",
      "(1, 1) b'3'\n"
     ]
    },
    {
     "data": {
      "image/png": "[encoded data removed]",
      "text/plain": [
       "<Figure size 288x288 with 1 Axes>"
      ]
     },
     "metadata": {},
     "output_type": "display_data"
    },
    {
     "name": "stdout",
     "output_type": "stream",
     "text": [
      "(1, 1) b'3'\n",
      "(1, 1) b'3'\n"
     ]
    },
    {
     "data": {
      "image/png": "[encoded data removed]",
      "text/plain": [
       "<Figure size 288x288 with 1 Axes>"
      ]
     },
     "metadata": {},
     "output_type": "display_data"
    },
    {
     "name": "stdout",
     "output_type": "stream",
     "text": [
      "(1, 1) b'3'\n",
      "(1, 1) b'3'\n"
     ]
    },
    {
     "data": {
      "image/png": "[encoded data removed]",
      "text/plain": [
       "<Figure size 288x288 with 1 Axes>"
      ]
     },
     "metadata": {},
     "output_type": "display_data"
    },
    {
     "name": "stdout",
     "output_type": "stream",
     "text": [
      "(1, 1) b'3'\n",
      "(1, 1) b'3'\n"
     ]
    },
    {
     "data": {
      "image/png": "[encoded data removed]",
      "text/plain": [
       "<Figure size 288x288 with 1 Axes>"
      ]
     },
     "metadata": {},
     "output_type": "display_data"
    },
    {
     "name": "stdout",
     "output_type": "stream",
     "text": [
      "(1, 1) b'3'\n",
      "(1, 1) b'3'\n"
     ]
    },
    {
     "data": {
      "image/png": "[encoded data removed]",
      "text/plain": [
       "<Figure size 288x288 with 1 Axes>"
      ]
     },
     "metadata": {},
     "output_type": "display_data"
    },
    {
     "name": "stdout",
     "output_type": "stream",
     "text": [
      "(1, 1) b'3'\n",
      "(1, 1) b'3'\n"
     ]
    },
    {
     "data": {
      "image/png": "[encoded data removed]",
      "text/plain": [
       "<Figure size 288x288 with 1 Axes>"
      ]
     },
     "metadata": {},
     "output_type": "display_data"
    },
    {
     "name": "stdout",
     "output_type": "stream",
     "text": [
      "(1, 1) b'3'\n",
      "(1, 1) b'3'\n"
     ]
    },
    {
     "data": {
      "image/png": "[encoded data removed]",
      "text/plain": [
       "<Figure size 288x288 with 1 Axes>"
      ]
     },
     "metadata": {},
     "output_type": "display_data"
    },
    {
     "name": "stdout",
     "output_type": "stream",
     "text": [
      "(1, 1) b'3'\n",
      "(1, 1) b'3'\n",
      "[[[0.78120028 0.01072298]\n",
      "  [0.09304262 0.00636174]\n",
      "  [0.00000002 0.00667491]\n",
      "  [0.12575706 0.0047106 ]\n",
      "  [0.00000002 0.97152977]]\n",
      "\n",
      " [[0.09203362 0.01072298]\n",
      "  [0.79772224 0.00636174]\n",
      "  [0.11024387 0.00667491]\n",
      "  [0.00000014 0.0047106 ]\n",
      "  [0.00000014 0.97152977]]\n",
      "\n",
      " [[0.00000005 0.01072298]\n",
      "  [0.1047761  0.00636174]\n",
      "  [0.7582983  0.00667491]\n",
      "  [0.13692549 0.0047106 ]\n",
      "  [0.00000005 0.97152977]]\n",
      "\n",
      " [[0.10915996 0.01072298]\n",
      "  [0.00000002 0.00636174]\n",
      "  [0.09217547 0.00667491]\n",
      "  [0.79866453 0.0047106 ]\n",
      "  [0.00000002 0.97152977]]\n",
      "\n",
      " [[0.00000001 0.01072298]\n",
      "  [0.00000001 0.00636174]\n",
      "  [0.00000001 0.00667491]\n",
      "  [0.00000001 0.0047106 ]\n",
      "  [0.99999997 0.97152977]]]\n"
     ]
    }
   ],
   "source": [
    "plot_mars(mdp,tabsoftq_gen_pol(Qi))\n",
    "print(softmax(Ti_thetas))"
   ]
  },
  {
   "cell_type": "code",
   "execution_count": 41,
   "metadata": {},
   "outputs": [
    {
     "data": {
      "text/plain": [
       "array([0.02263561, 0.10001418, 0.07639462, 0.13673586, 0.15143626,\n",
       "       0.12204118, 0.02479935, 0.04380132, 0.10316444, 0.2       ,\n",
       "       0.99699512, 0.04295478, 0.04495571, 0.11685345, 0.12781814,\n",
       "       0.02054057, 0.2       , 0.13888994, 0.2       , 0.01777348,\n",
       "       0.04374195, 0.04914354, 0.03776421, 0.08054897, 0.02016939,\n",
       "       0.2       , 0.11523223, 0.2       , 0.03025562, 0.2       ,\n",
       "       0.2       , 0.05864197, 0.01963803, 0.02281299, 0.2       ,\n",
       "       0.07065468, 0.2       , 0.02786918, 0.01848756, 0.2       ,\n",
       "       0.04951978, 0.02311032, 0.02491208, 0.2       , 1.        ,\n",
       "       1.        , 0.14660722, 0.18879969, 0.22642186, 0.2       ,\n",
       "       0.01894839, 0.02790973, 0.10133031, 0.2       , 0.2       ,\n",
       "       0.2       , 0.2       , 0.24244127, 0.2359456 , 0.01878342,\n",
       "       0.08293222, 0.03458419, 0.2       , 0.05634803, 0.05186144,\n",
       "       0.04768683, 0.03736357, 0.03505768, 0.06836737, 0.2038321 ,\n",
       "       0.03236066, 0.04595752, 0.05124361, 0.02572414, 0.04689198,\n",
       "       0.03953781, 0.09441579, 0.15606399, 0.09565988, 0.02700121,\n",
       "       0.04593148, 0.03218426, 0.17460605, 0.04847313, 0.30679913,\n",
       "       0.03586102, 0.03806673, 0.04111338, 0.02459459, 0.05241983,\n",
       "       0.08090515, 0.2       , 0.2       , 0.2       , 0.0399783 ,\n",
       "       0.03566923, 0.04143438, 0.05042216, 0.2       , 0.2       ,\n",
       "       1.        , 0.2       , 0.2       , 0.2       , 0.04996958,\n",
       "       0.04669713, 0.03696494, 0.2       , 0.02711573, 0.01557111,\n",
       "       0.02348541, 0.2       , 0.2       , 0.03993928, 0.2       ,\n",
       "       0.2       , 0.2       ])"
      ]
     },
     "execution_count": 41,
     "metadata": {},
     "output_type": "execute_result"
    }
   ],
   "source": [
    "tabsoftq_gen_pol_probs(Qi)[:,4]"
   ]
  },
  {
   "cell_type": "code",
   "execution_count": 42,
   "metadata": {
    "scrolled": true
   },
   "outputs": [
    {
     "name": "stdout",
     "output_type": "stream",
     "text": [
      "[[[0.78120028 0.01072298]\n",
      "  [0.09304262 0.00636174]\n",
      "  [0.00000002 0.00667491]\n",
      "  [0.12575706 0.0047106 ]\n",
      "  [0.00000002 0.97152977]]\n",
      "\n",
      " [[0.09203362 0.01072298]\n",
      "  [0.79772224 0.00636174]\n",
      "  [0.11024387 0.00667491]\n",
      "  [0.00000014 0.0047106 ]\n",
      "  [0.00000014 0.97152977]]\n",
      "\n",
      " [[0.00000005 0.01072298]\n",
      "  [0.1047761  0.00636174]\n",
      "  [0.7582983  0.00667491]\n",
      "  [0.13692549 0.0047106 ]\n",
      "  [0.00000005 0.97152977]]\n",
      "\n",
      " [[0.10915996 0.01072298]\n",
      "  [0.00000002 0.00636174]\n",
      "  [0.09217547 0.00667491]\n",
      "  [0.79866453 0.0047106 ]\n",
      "  [0.00000002 0.97152977]]\n",
      "\n",
      " [[0.00000001 0.01072298]\n",
      "  [0.00000001 0.00636174]\n",
      "  [0.00000001 0.00667491]\n",
      "  [0.00000001 0.0047106 ]\n",
      "  [0.99999997 0.97152977]]]\n"
     ]
    }
   ],
   "source": [
    "print(softmax(Ti_thetas)) # - softmax(T_estimate(adt_obs[train_demo_example_idxes])))"
   ]
  },
  {
   "cell_type": "code",
   "execution_count": null,
   "metadata": {},
   "outputs": [],
   "source": []
  },
  {
   "cell_type": "code",
   "execution_count": 43,
   "metadata": {},
   "outputs": [
    {
     "name": "stdout",
     "output_type": "stream",
     "text": [
      "[9, 16, 18, 25, 27, 29, 30, 34, 36, 39, 43, 49, 53, 54, 55, 56, 62, 91, 92, 93, 98, 99, 101, 102, 103, 107, 111, 112, 114, 115, 116]\n",
      "[[ 94.45758905  94.45758905  94.45758905  94.45758905  94.45758905]\n",
      " [ 91.48100962  91.48100962  91.48100962  91.48100962  91.48100962]\n",
      " [ 83.82956231  83.82956231  83.82956231  83.82956231  83.82956231]\n",
      " [ 85.44323108  85.44323108  85.44323108  85.44323108  85.44323108]\n",
      " [ 86.75344447  86.75344447  86.75344447  86.75344447  86.75344447]\n",
      " [ 91.64782057  91.64782057  91.64782057  91.64782057  91.64782057]\n",
      " [ 78.04293971  78.04293971  78.04293971  78.04293971  78.04293971]\n",
      " [ 88.16140883  88.16140883  88.16140883  88.16140883  88.16140883]\n",
      " [107.82950737 107.82950737 107.82950737 107.82950737 107.82950737]\n",
      " [ 89.89805936  89.89805936  89.89805936  89.89805936  89.89805936]\n",
      " [ 99.33725966  99.33725966  99.33725966  99.33725966  99.33725966]\n",
      " [ 98.57730252  98.57730252  98.57730252  98.57730252  98.57730252]\n",
      " [ 96.06577989  96.06577989  96.06577989  96.06577989  96.06577989]\n",
      " [ 65.55526934  65.55526934  65.55526934  65.55526934  65.55526934]\n",
      " [ 62.32959042  62.32959042  62.32959042  62.32959042  62.32959042]\n",
      " [ 72.70497682  72.70497682  72.70497682  72.70497682  72.70497682]\n",
      " [ 75.43738797  75.43738797  75.43738797  75.43738797  75.43738797]\n",
      " [ 81.07288271  81.07288271  81.07288271  81.07288271  81.07288271]\n",
      " [ 50.88521508  50.88521508  50.88521508  50.88521508  50.88521508]\n",
      " [ 51.63952215  51.63952215  51.63952215  51.63952215  51.63952215]\n",
      " [ 74.63534398  74.63534398  74.63534398  74.63534398  74.63534398]\n",
      " [ 83.73490713  83.73490713  83.73490713  83.73490713  83.73490713]\n",
      " [ 88.70758845  88.70758845  88.70758845  88.70758845  88.70758845]\n",
      " [ 43.06888842  43.06888842  43.06888842  43.06888842  43.06888842]\n",
      " [ 54.56754561  54.56754561  54.56754561  54.56754561  54.56754561]\n",
      " [ 58.96780359  58.96780359  58.96780359  58.96780359  58.96780359]\n",
      " [ 85.86975818  85.86975818  85.86975818  85.86975818  85.86975818]\n",
      " [ 74.52326454  74.52326454  74.52326454  74.52326454  74.52326454]\n",
      " [ 86.33473394  86.33473394  86.33473394  86.33473394  86.33473394]\n",
      " [ 63.27075382  63.27075382  63.27075382  63.27075382  63.27075382]\n",
      " [ 69.34995063  69.34995063  69.34995063  69.34995063  69.34995063]]\n",
      "-85.1606782152321 -100.28557972530909\n"
     ]
    },
    {
     "data": {
      "text/plain": [
       "-185.4462579405412"
      ]
     },
     "execution_count": 43,
     "metadata": {},
     "output_type": "execute_result"
    }
   ],
   "source": [
    "test_T_likelihood(softmax(Ti_thetas), val_sas_obs, val_adt_obs)"
   ]
  },
  {
   "cell_type": "code",
   "execution_count": 44,
   "metadata": {},
   "outputs": [
    {
     "name": "stdout",
     "output_type": "stream",
     "text": [
      "[9, 16, 18, 25, 27, 29, 30, 34, 36, 39, 43, 49, 53, 54, 55, 56, 62, 91, 92, 93, 98, 99, 101, 102, 103, 107, 111, 112, 114, 115, 116]\n",
      "[[207.32321294 207.32321294 207.32321294 207.32321294 207.32321294]\n",
      " [196.68600407 196.68600407 196.68600407 196.68600407 196.68600407]\n",
      " [201.56750381 201.56750381 201.56750381 201.56750381 201.56750381]\n",
      " [192.88114521 192.88114521 192.88114521 192.88114521 192.88114521]\n",
      " [200.01539612 200.01539612 200.01539612 200.01539612 200.01539612]\n",
      " [200.24588797 200.24588797 200.24588797 200.24588797 200.24588797]\n",
      " [197.02153891 197.02153891 197.02153891 197.02153891 197.02153891]\n",
      " [191.56309173 191.56309173 191.56309173 191.56309173 191.56309173]\n",
      " [203.27601985 203.27601985 203.27601985 203.27601985 203.27601985]\n",
      " [194.34912208 194.34912208 194.34912208 194.34912208 194.34912208]\n",
      " [191.63532193 191.63532193 191.63532193 191.63532193 191.63532193]\n",
      " [191.214972   191.214972   191.214972   191.214972   191.214972  ]\n",
      " [196.15860025 196.15860025 196.15860025 196.15860025 196.15860025]\n",
      " [189.26930695 189.26930695 189.26930695 189.26930695 189.26930695]\n",
      " [189.37738247 189.37738247 189.37738247 189.37738247 189.37738247]\n",
      " [190.26708863 190.26708863 190.26708863 190.26708863 190.26708863]\n",
      " [183.92098812 183.92098812 183.92098812 183.92098812 183.92098812]\n",
      " [200.21801195 200.21801195 200.21801195 200.21801195 200.21801195]\n",
      " [189.40370799 189.40370799 189.40370799 189.40370799 189.40370799]\n",
      " [182.99488426 182.99488426 182.99488426 182.99488426 182.99488426]\n",
      " [185.64834308 185.64834308 185.64834308 185.64834308 185.64834308]\n",
      " [206.13863069 206.13863069 206.13863069 206.13863069 206.13863069]\n",
      " [203.14005312 203.14005312 203.14005312 203.14005312 203.14005312]\n",
      " [188.16187004 188.16187004 188.16187004 188.16187004 188.16187004]\n",
      " [185.99071323 185.99071323 185.99071323 185.99071323 185.99071323]\n",
      " [189.12145482 189.12145482 189.12145482 189.12145482 189.12145482]\n",
      " [199.72121564 199.72121564 199.72121564 199.72121564 199.72121564]\n",
      " [194.52115925 194.52115925 194.52115925 194.52115925 194.52115925]\n",
      " [190.54424684 190.54424684 190.54424684 190.54424684 190.54424684]\n",
      " [189.77769536 189.77769536 189.77769536 189.77769536 189.77769536]\n",
      " [197.88781345 197.88781345 197.88781345 197.88781345 197.88781345]]\n",
      "-474.6817851517199 -98.88292527453514\n"
     ]
    },
    {
     "data": {
      "text/plain": [
       "-573.564710426255"
      ]
     },
     "execution_count": 44,
     "metadata": {},
     "output_type": "execute_result"
    }
   ],
   "source": [
    "test_T_likelihood(softmax(T_estimate(adt_obs[train_demo_example_idxes])), val_sas_obs, val_adt_obs)"
   ]
  },
  {
   "cell_type": "code",
   "execution_count": 45,
   "metadata": {},
   "outputs": [
    {
     "name": "stdout",
     "output_type": "stream",
     "text": [
      "[9, 16, 18, 25, 27, 29, 30, 34, 36, 39, 43, 49, 53, 54, 55, 56, 62, 91, 92, 93, 98, 99, 101, 102, 103, 107, 111, 112, 114, 115, 116]\n",
      "[[0.00788625 0.00788625 0.00788625 0.00788625 0.00788625]\n",
      " [0.00788625 0.00788625 0.00788625 0.00788625 0.00788625]\n",
      " [0.00788625 0.00788625 0.00788625 0.00788625 0.00788625]\n",
      " [0.00788625 0.00788625 0.00788625 0.00788625 0.00788625]\n",
      " [0.00788625 0.00788625 0.00788625 0.00788625 0.00788625]\n",
      " [0.00788625 0.00788625 0.00788625 0.00788625 0.00788625]\n",
      " [0.00788625 0.00788625 0.00788625 0.00788625 0.00788625]\n",
      " [0.00788625 0.00788625 0.00788625 0.00788625 0.00788625]\n",
      " [0.00788625 0.00788625 0.00788625 0.00788625 0.00788625]\n",
      " [0.00788625 0.00788625 0.00788625 0.00788625 0.00788625]\n",
      " [0.00788625 0.00788625 0.00788625 0.00788625 0.00788625]\n",
      " [0.00788625 0.00788625 0.00788625 0.00788625 0.00788625]\n",
      " [0.00788625 0.00788625 0.00788625 0.00788625 0.00788625]\n",
      " [0.00788625 0.00788625 0.00788625 0.00788625 0.00788625]\n",
      " [0.00788625 0.00788625 0.00788625 0.00788625 0.00788625]\n",
      " [0.00788625 0.00788625 0.00788625 0.00788625 0.00788625]\n",
      " [0.00788625 0.00788625 0.00788625 0.00788625 0.00788625]\n",
      " [0.00788625 0.00788625 0.00788625 0.00788625 0.00788625]\n",
      " [0.00788625 0.00788625 0.00788625 0.00788625 0.00788625]\n",
      " [0.00788625 0.00788625 0.00788625 0.00788625 0.00788625]\n",
      " [0.00788625 0.00788625 0.00788625 0.00788625 0.00788625]\n",
      " [0.00788625 0.00788625 0.00788625 0.00788625 0.00788625]\n",
      " [0.00788625 0.00788625 0.00788625 0.00788625 0.00788625]\n",
      " [0.00788625 0.00788625 0.00788625 0.00788625 0.00788625]\n",
      " [0.00788625 0.00788625 0.00788625 0.00788625 0.00788625]\n",
      " [0.00788625 0.00788625 0.00788625 0.00788625 0.00788625]\n",
      " [0.00788625 0.00788625 0.00788625 0.00788625 0.00788625]\n",
      " [0.00788625 0.00788625 0.00788625 0.00788625 0.00788625]\n",
      " [0.00788625 0.00788625 0.00788625 0.00788625 0.00788625]\n",
      " [0.00788625 0.00788625 0.00788625 0.00788625 0.00788625]\n",
      " [0.00788625 0.00788625 0.00788625 0.00788625 0.00788625]]\n",
      "-81.66757007310372 -100.02335684264449\n"
     ]
    },
    {
     "data": {
      "text/plain": [
       "-181.6909269157482"
      ]
     },
     "execution_count": 45,
     "metadata": {},
     "output_type": "execute_result"
    }
   ],
   "source": [
    "test_T_likelihood(true_tps, val_sas_obs, val_adt_obs)"
   ]
  },
  {
   "cell_type": "code",
   "execution_count": 46,
   "metadata": {},
   "outputs": [
    {
     "data": {
      "text/plain": [
       "0.14805819284792873"
      ]
     },
     "execution_count": 46,
     "metadata": {},
     "output_type": "execute_result"
    }
   ],
   "source": [
    "true_trans_loss(softmax(Ti_thetas))"
   ]
  },
  {
   "cell_type": "code",
   "execution_count": 47,
   "metadata": {},
   "outputs": [
    {
     "data": {
      "text/plain": [
       "2.2316889276523746"
      ]
     },
     "execution_count": 47,
     "metadata": {},
     "output_type": "execute_result"
    }
   ],
   "source": [
    "true_trans_loss(softmax(T_estimate(adt_obs[train_demo_example_idxes])))"
   ]
  },
  {
   "cell_type": "code",
   "execution_count": 48,
   "metadata": {},
   "outputs": [
    {
     "data": {
      "text/plain": [
       "array([[[0.77721084, 0.2       ],\n",
       "        [0.10204082, 0.2       ],\n",
       "        [0.00000002, 0.2       ],\n",
       "        [0.12074831, 0.2       ],\n",
       "        [0.00000002, 0.2       ]],\n",
       "\n",
       "       [[0.06097569, 0.2       ],\n",
       "        [0.82926791, 0.2       ],\n",
       "        [0.10975615, 0.2       ],\n",
       "        [0.00000012, 0.2       ],\n",
       "        [0.00000012, 0.2       ]],\n",
       "\n",
       "       [[0.00000005, 0.2       ],\n",
       "        [0.1073171 , 0.2       ],\n",
       "        [0.78536571, 0.2       ],\n",
       "        [0.1073171 , 0.2       ],\n",
       "        [0.00000005, 0.2       ]],\n",
       "\n",
       "       [[0.06574925, 0.2       ],\n",
       "        [0.00000002, 0.2       ],\n",
       "        [0.10244649, 0.2       ],\n",
       "        [0.83180423, 0.2       ],\n",
       "        [0.00000002, 0.2       ]],\n",
       "\n",
       "       [[0.00000001, 0.2       ],\n",
       "        [0.00000001, 0.2       ],\n",
       "        [0.00000001, 0.2       ],\n",
       "        [0.00000001, 0.2       ],\n",
       "        [0.99999997, 0.2       ]]])"
      ]
     },
     "execution_count": 48,
     "metadata": {},
     "output_type": "execute_result"
    }
   ],
   "source": [
    "softmax(T_estimate(adt_obs[train_demo_example_idxes]))"
   ]
  },
  {
   "cell_type": "code",
   "execution_count": 49,
   "metadata": {},
   "outputs": [
    {
     "data": {
      "image/png": "[encoded data removed]",
      "text/plain": [
       "<Figure size 576x576 with 1 Axes>"
      ]
     },
     "metadata": {},
     "output_type": "display_data"
    }
   ],
   "source": [
    "plot_values(mdp, Qi)"
   ]
  },
  {
   "cell_type": "code",
   "execution_count": 50,
   "metadata": {},
   "outputs": [
    {
     "data": {
      "image/png": "[encoded data removed]",
      "text/plain": [
       "<Figure size 576x576 with 1 Axes>"
      ]
     },
     "metadata": {},
     "output_type": "display_data"
    }
   ],
   "source": [
    "plot_values(mdp, exQs)"
   ]
  },
  {
   "cell_type": "markdown",
   "metadata": {},
   "source": [
    "## SERD only"
   ]
  },
  {
   "cell_type": "code",
   "execution_count": 51,
   "metadata": {},
   "outputs": [],
   "source": [
    "serd_train_logs = {\n",
    "  'train_likelihoods': [],\n",
    "  'val_likelihoods': [],\n",
    "  'tp_lls': [],\n",
    "  'tt_lls': [],\n",
    "  'vp_lls': [],\n",
    "  'vt_lls': [],\n",
    "  'true_trans_loss': []\n",
    "}"
   ]
  },
  {
   "cell_type": "code",
   "execution_count": 52,
   "metadata": {},
   "outputs": [],
   "source": [
    "Ts_thetas = T_estimate(adt_obs[train_demo_example_idxes]) #np.log(Tps2+.000000001)\n",
    "feats = mdp.feature_map\n",
    "Rs_thetas = np.random.normal(loc=1,scale=0.1,size=feats.shape[1])\n",
    "Qs = None"
   ]
  },
  {
   "cell_type": "code",
   "execution_count": 53,
   "metadata": {},
   "outputs": [],
   "source": [
    "maxiter = 500\n",
    "t_learning_rate = lambda t: 0 if t<20 else 3 - (2 * int(t/(maxiter/2)))\n",
    "r_learning_rate = lambda t: 2e-1 if t<20 else 1e-1"
   ]
  },
  {
   "cell_type": "code",
   "execution_count": null,
   "metadata": {
    "scrolled": true
   },
   "outputs": [
    {
     "name": "stdout",
     "output_type": "stream",
     "text": [
      "0 -373.042526 -98.882925 -471.925451 2.231689\n",
      "1 -361.658886 -98.882925 -460.541812 2.231689\n",
      "2 -351.052952 -98.882925 -449.935878 2.231689\n",
      "3 -344.197507 -98.882925 -443.080432 2.231689\n",
      "4 -336.607090 -98.882925 -435.490015 2.231689\n",
      "5 -332.406944 -98.882925 -431.289869 2.231689\n",
      "6 -325.768411 -98.882925 -424.651337 2.231689\n",
      "7 -326.115046 -98.882925 -424.997971 2.231689\n",
      "8 -323.557425 -98.882925 -422.440350 2.231689\n",
      "9 -321.328051 -98.882925 -420.210976 2.231689\n",
      "10 -320.186233 -98.882925 -419.069158 2.231689\n",
      "11 -316.438068 -98.882925 -415.320994 2.231689\n",
      "12 -317.395564 -98.882925 -416.278489 2.231689\n",
      "13 -319.780494 -98.882925 -418.663420 2.231689\n",
      "14 -316.005662 -98.882925 -414.888588 2.231689\n",
      "15 -315.878766 -98.882925 -414.761691 2.231689\n",
      "16 -309.912671 -98.882925 -408.795596 2.231689\n",
      "17 -309.469986 -98.882925 -408.352911 2.231689\n",
      "18 -309.707526 -98.882925 -408.590451 2.231689\n",
      "19 -308.333035 -98.882925 -407.215960 2.231689\n",
      "20 -307.231615 -98.882925 -406.114540 2.231689\n",
      "21 -305.940754 -98.855891 -404.796646 2.221878\n",
      "22 -304.343856 -98.756294 -403.100150 2.213134\n",
      "23 -302.192976 -98.810719 -401.003695 2.205570\n",
      "24 -301.005299 -98.225209 -399.230507 2.197868\n",
      "25 -296.350216 -98.574791 -394.925007 2.193851\n",
      "26 -295.955667 -98.938916 -394.894583 2.184559\n",
      "27 -293.876455 -99.533561 -393.410016 2.176056\n",
      "28 -294.673306 -100.144112 -394.817418 2.166470\n",
      "29 -294.196234 -99.652109 -393.848343 2.159556\n",
      "30 -289.860667 -100.768368 -390.629035 2.153919\n",
      "31 -290.883151 -100.336505 -391.219656 2.143721\n",
      "32 -289.848659 -100.538039 -390.386698 2.137546\n",
      "33 -288.662267 -100.907583 -389.569850 2.127826\n",
      "34 -286.039243 -100.677177 -386.716420 2.119411\n",
      "35 -284.552071 -100.075424 -384.627495 2.111106\n",
      "36 -280.662635 -99.837343 -380.499978 2.105218\n",
      "37 -279.643408 -99.462865 -379.106273 2.096051\n",
      "38 -275.980341 -100.274091 -376.254432 2.089046\n",
      "39 -274.383585 -101.378594 -375.762180 2.077189\n",
      "40 -274.277079 -101.660624 -375.937703 2.068739\n",
      "41 -272.100763 -101.109455 -373.210218 2.061075\n",
      "42 -270.962872 -102.646360 -373.609232 2.046083\n",
      "43 -267.261769 -102.654141 -369.915911 2.040788\n",
      "44 -263.668292 -103.920777 -367.589069 2.031441\n",
      "45 -261.586849 -103.774447 -365.361296 2.026190\n",
      "46 -261.085076 -102.745631 -363.830706 2.024580\n",
      "47 -259.834491 -101.771874 -361.606365 2.023663\n",
      "48 -257.905198 -102.606576 -360.511774 1.991768\n",
      "49 -253.953866 -103.870822 -357.824688 1.983919\n",
      "50 -258.018807 -101.961665 -359.980472 1.950677\n",
      "51 -253.432908 -102.537281 -355.970189 1.947969\n",
      "52 -252.758476 -102.395012 -355.153489 1.929520\n",
      "53 -251.502359 -103.678898 -355.181257 1.897872\n",
      "54 -248.855143 -102.988026 -351.843170 1.889309\n",
      "55 -247.712203 -102.760539 -350.472742 1.870350\n",
      "56 -245.217821 -102.232520 -347.450341 1.868894\n",
      "57 -243.409168 -102.380742 -345.789910 1.855080\n",
      "58 -237.532450 -104.697067 -342.229516 1.845384\n",
      "59 -239.105086 -103.596569 -342.701655 1.815800\n",
      "60 -239.312503 -103.392876 -342.705379 1.791174\n",
      "61 -242.199599 -102.984314 -345.183913 1.733364\n",
      "62 -241.698825 -101.937027 -343.635851 1.718282\n",
      "63 -241.176833 -101.124185 -342.301019 1.710048\n",
      "64 -235.876740 -101.849678 -337.726418 1.687453\n",
      "65 -230.595099 -103.059614 -333.654713 1.672932\n",
      "66 -228.603110 -103.269875 -331.872985 1.648134\n",
      "67 -226.119811 -102.688968 -328.808780 1.623184\n",
      "68 -222.784009 -103.544245 -326.328254 1.610531\n",
      "69 -220.078026 -102.989626 -323.067652 1.600409\n",
      "70 -219.369806 -102.277628 -321.647434 1.558178\n",
      "71 -216.468801 -103.486143 -319.954944 1.521911\n",
      "72 -213.654073 -105.032015 -318.686088 1.485651\n",
      "73 -213.753382 -104.717940 -318.471321 1.436705\n",
      "74 -212.027818 -103.712255 -315.740073 1.392459\n",
      "75 -208.113118 -104.413967 -312.527084 1.365492\n",
      "76 -208.847135 -101.998824 -310.845958 1.336607\n",
      "77 -212.571190 -101.565984 -314.137174 1.283008\n",
      "78 -207.436677 -102.165453 -309.602130 1.255152\n",
      "79 -204.325473 -101.791281 -306.116754 1.219497\n",
      "80 -197.804300 -102.723128 -300.527428 1.205483\n",
      "81 -195.982355 -102.525792 -298.508146 1.183405\n",
      "82 -194.770155 -102.122237 -296.892392 1.163788\n",
      "83 -190.238764 -102.858035 -293.096799 1.125024\n",
      "84 -185.958520 -102.632720 -288.591240 1.115178\n",
      "85 -178.584932 -104.498402 -283.083334 1.133620\n",
      "86 -174.454749 -105.611122 -280.065871 1.122576\n",
      "87 -172.607466 -104.888084 -277.495550 1.091262\n"
     ]
    }
   ],
   "source": [
    "while len(serd_train_logs['tt_lls']) < maxiter:\n",
    "    prevQs = Qs.copy() if Qs is not None else None\n",
    "    t = len(serd_train_logs['tt_lls'])\n",
    "    batch_demo_sas, batch_demo_adt = sample_batch(batch_size, train_demo_example_idxes, sas_obs, adt_obs)\n",
    "    Rs = feats.dot(Rs_thetas)\n",
    "    tp_ll, dT_pol, dR_pol, Qs = eval_TR_pol_likelihood_and_grad(Ts_thetas, Rs, feats, batch_demo_sas, Q_inits=Qs)\n",
    "    tt_ll, dT_trans = eval_trans_likelihood_and_grad(Ts_thetas, batch_demo_adt)\n",
    "    train_likelihood = tp_ll + tt_ll\n",
    "    vp_ll, vt_ll = eval_demo_log_likelihood(val_sas_obs, val_adt_obs, Ts_thetas, Qs)\n",
    "    val_likelihood = vp_ll + vt_ll\n",
    "    ttd = true_trans_loss(softmax(Ts_thetas))\n",
    "    Rs_thetas += r_learning_rate(t) * dR_pol\n",
    "    Ts_thetas += t_learning_rate(t) * (dT_trans + dT_pol)\n",
    "\n",
    "#     print(dT_trans)\n",
    "#     print(dT_pol)\n",
    "#     print(softmax(Ts_thetas))\n",
    "#     print(dR_pol * r_learning_rate(t))\n",
    "#     print(Rs_thetas)\n",
    "#     if prevQs is not None:\n",
    "#         print(\"Q_diff\")\n",
    "#         print(np.linalg.norm(Qs-prevQs))\n",
    "\n",
    "    \n",
    "    print('%d %f %f %f %f' % (t, vp_ll, vt_ll, vp_ll + vt_ll, ttd))\n",
    "    serd_train_logs['train_likelihoods'].append(train_likelihood)\n",
    "    serd_train_logs['val_likelihoods'].append(val_likelihood)\n",
    "    serd_train_logs['tp_lls'].append(tp_ll)\n",
    "    serd_train_logs['tt_lls'].append(tt_ll)\n",
    "    serd_train_logs['vp_lls'].append(vp_ll)\n",
    "    serd_train_logs['vt_lls'].append(vt_ll)\n",
    "    serd_train_logs['true_trans_loss'].append(ttd)"
   ]
  },
  {
   "cell_type": "code",
   "execution_count": null,
   "metadata": {},
   "outputs": [],
   "source": [
    "print(softmax(Ts_thetas))"
   ]
  },
  {
   "cell_type": "code",
   "execution_count": null,
   "metadata": {},
   "outputs": [],
   "source": [
    "print(Rs_thetas)"
   ]
  },
  {
   "cell_type": "code",
   "execution_count": null,
   "metadata": {},
   "outputs": [],
   "source": [
    "plt.plot(serd_train_logs['vp_lls'][:350])\n",
    "plt.plot(idl_train_logs['vp_lls'][:350])"
   ]
  },
  {
   "cell_type": "code",
   "execution_count": null,
   "metadata": {},
   "outputs": [],
   "source": [
    "plt.plot(serd_train_logs['vt_lls'][:350])\n",
    "plt.plot(idl_train_logs['vt_lls'][:350])"
   ]
  },
  {
   "cell_type": "code",
   "execution_count": null,
   "metadata": {},
   "outputs": [],
   "source": [
    "plt.plot(serd_train_logs['val_likelihoods'][:350], label = \"SERD\")\n",
    "plt.plot(idl_train_logs['val_likelihoods'][:350], label = \"IDL\")\n",
    "plt.title(\"Log likelihood of Demonstrations\")\n",
    "plt.xlabel(\"Iterations of MDCE\")\n",
    "plt.ylabel(\"Log Likelihood\")\n",
    "plt.legend()"
   ]
  },
  {
   "cell_type": "code",
   "execution_count": null,
   "metadata": {},
   "outputs": [],
   "source": [
    "plt.plot(serd_train_logs['true_trans_loss'][:350], label = \"SERD\")\n",
    "plt.plot(idl_train_logs['true_trans_loss'][:350], label = \"IDL\")\n",
    "plt.title(\"Square Error of Learned Transition Parameters\")\n",
    "plt.xlabel(\"Iterations of MDCE\")\n",
    "plt.ylabel(\"Summed Square Error\")\n",
    "plt.legend()"
   ]
  },
  {
   "cell_type": "markdown",
   "metadata": {},
   "source": [
    "## Comparison Tests"
   ]
  },
  {
   "cell_type": "code",
   "execution_count": null,
   "metadata": {},
   "outputs": [],
   "source": [
    "def demo_stats(mdp, demos):\n",
    "    demo_rewards = []\n",
    "    for i in range(len(demos)):\n",
    "        demo_rewards += [np.array([mdp.rewards[obs[0][2]] for obs in demos[i]])]\n",
    "#         for j in range(len(demo_rewards[i])):\n",
    "#             print(demos[i][j][0], demo_rewards[i][j])\n",
    "    \n",
    "    discounted_demo_rewards = [np.power(gamma,np.arange(len(dr)))*dr for dr in demo_rewards]\n",
    "    demo_rewards, discounted_demo_rewards = np.array(demo_rewards), np.array(discounted_demo_rewards)\n",
    "    data = {\"mean episode reward\": np.mean(np.sum(demo_rewards, axis=1)),\n",
    "            \"sd episode reward\": np.std(np.sum(demo_rewards, axis=1)),\n",
    "            \"mean discounted episode reward\": np.mean(np.sum(discounted_demo_rewards, axis=1)),\n",
    "            \"sd discounted episode reward\": np.std(np.sum(discounted_demo_rewards, axis=1))}\n",
    "    return data\n",
    "    \n",
    "    "
   ]
  },
  {
   "cell_type": "code",
   "execution_count": null,
   "metadata": {},
   "outputs": [],
   "source": [
    "SERD_demos = generate_demonstrations(mdp, tabsoftq_gen_pol(Qs,temperature), 2000, demo_time_steps)\n",
    "IDL_demos = generate_demonstrations(mdp, tabsoftq_gen_pol(Qi,temperature), 2000, demo_time_steps)"
   ]
  },
  {
   "cell_type": "code",
   "execution_count": null,
   "metadata": {},
   "outputs": [],
   "source": [
    "print(demo_stats(mdp, SERD_demos))"
   ]
  },
  {
   "cell_type": "code",
   "execution_count": null,
   "metadata": {},
   "outputs": [],
   "source": [
    "print(demo_stats(mdp, IDL_demos))"
   ]
  },
  {
   "cell_type": "code",
   "execution_count": null,
   "metadata": {},
   "outputs": [],
   "source": [
    "plot_values(mdp, Qs)"
   ]
  },
  {
   "cell_type": "code",
   "execution_count": null,
   "metadata": {},
   "outputs": [],
   "source": [
    "plot_values(mdp, Qi)"
   ]
  },
  {
   "cell_type": "code",
   "execution_count": null,
   "metadata": {},
   "outputs": [],
   "source": [
    "print(reward_map[5][0], Qi[2], Q[2])"
   ]
  },
  {
   "cell_type": "markdown",
   "metadata": {},
   "source": [
    "### Transfer"
   ]
  },
  {
   "cell_type": "code",
   "execution_count": null,
   "metadata": {},
   "outputs": [],
   "source": [
    "tile_map2 = [\n",
    "        \"2FFFFFFF1\",\n",
    "        \"FFFFFFFFF\",\n",
    "        \"FFFFUFFFF\",\n",
    "        \"FFFUUUFSF\",\n",
    "        \"FFUU3UUFF\",\n",
    "        \"FSFUUUFSF\",\n",
    "        \"FSFFUFFSF\",\n",
    "        \"FFFSSSFFF\",\n",
    "        \"1FFFFFFF2\"\n",
    "    ]\n",
    "reward_map2, texture_map2 = build_reward_map(tile_map2, tile_rewards, goal_tile_rewards, tile_reward_modifier)\n",
    "# reward_normalizer2 = (1-gamma)/(np.max(reward_map2))\n",
    "# reward_map2 *= reward_normalizer2\n",
    "# time_penalty *= reward_normalizer2\n",
    "# temperature2 = 1/(reward_normalizer2)\n",
    "# print(temperature2)\n",
    "print(reward_map2)\n",
    "print(texture_map2)"
   ]
  },
  {
   "cell_type": "code",
   "execution_count": null,
   "metadata": {},
   "outputs": [],
   "source": [
    "mdp = MarsExplorerEnv(tile_map2, reward_map2, texture_map2, trans_dict, time_penalty) \n",
    "nA = mdp.nA\n",
    "nS = mdp.nS"
   ]
  },
  {
   "cell_type": "code",
   "execution_count": null,
   "metadata": {},
   "outputs": [],
   "source": [
    "Tips = softmax(Ti_thetas,axis=1)\n",
    "Ti = mdp.adt_trans_to_sas_trans(Tips)\n",
    "Ri = mdp.rewards\n",
    "Qit = tabsoftq_iter(Ri, Ti, maxiter=tabsoftq_iter_maxiter, verbose=tabsoftq_iter_verbose, ftol=tabsoftq_iter_ftol)"
   ]
  },
  {
   "cell_type": "code",
   "execution_count": null,
   "metadata": {},
   "outputs": [],
   "source": [
    "Tsps = softmax(Ts_thetas,axis=1)\n",
    "Ts = mdp.adt_trans_to_sas_trans(Tips)\n",
    "Rs = mdp.feature_map.dot(Rs_thetas)\n",
    "Qst = tabsoftq_iter(Rs, Ts, maxiter=tabsoftq_iter_maxiter, verbose=tabsoftq_iter_verbose, ftol=tabsoftq_iter_ftol)"
   ]
  },
  {
   "cell_type": "code",
   "execution_count": null,
   "metadata": {},
   "outputs": [],
   "source": [
    "IDL_trans_demos = generate_demonstrations(mdp, tabsoftq_gen_pol(Qit,temperature), 1000, demo_time_steps)\n",
    "SERD_trans_demos = generate_demonstrations(mdp, tabsoftq_gen_pol(Qst,temperature), 1000, demo_time_steps)"
   ]
  },
  {
   "cell_type": "code",
   "execution_count": null,
   "metadata": {},
   "outputs": [],
   "source": [
    "plot_mars(mdp,tabsoftq_gen_pol(Qit, temperature),Qs=Qit)"
   ]
  },
  {
   "cell_type": "code",
   "execution_count": null,
   "metadata": {},
   "outputs": [],
   "source": [
    "print(demo_stats(mdp, IDL_trans_demos))"
   ]
  },
  {
   "cell_type": "code",
   "execution_count": null,
   "metadata": {},
   "outputs": [],
   "source": [
    "print(demo_stats(mdp, SERD_trans_demos))"
   ]
  },
  {
   "cell_type": "code",
   "execution_count": null,
   "metadata": {},
   "outputs": [],
   "source": [
    "plot_values(mdp, Qit)"
   ]
  },
  {
   "cell_type": "code",
   "execution_count": null,
   "metadata": {},
   "outputs": [],
   "source": [
    "plot_values(mdp, Qst)"
   ]
  },
  {
   "cell_type": "code",
   "execution_count": null,
   "metadata": {},
   "outputs": [],
   "source": [
    "Qtrue = tabsoftq_learn_Qs(mdp)\n",
    "plot_values(mdp,Qtrue)"
   ]
  },
  {
   "cell_type": "code",
   "execution_count": null,
   "metadata": {},
   "outputs": [],
   "source": []
  }
 ],
 "metadata": {
  "kernelspec": {
   "display_name": "Python 3",
   "language": "python",
   "name": "python3"
  },
  "language_info": {
   "codemirror_mode": {
    "name": "ipython",
    "version": 3
   },
   "file_extension": ".py",
   "mimetype": "text/x-python",
   "name": "python",
   "nbconvert_exporter": "python",
   "pygments_lexer": "ipython3",
   "version": "3.6.5"
  }
 },
 "nbformat": 4,
 "nbformat_minor": 2
}
