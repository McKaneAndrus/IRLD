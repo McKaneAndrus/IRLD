{
 "cells": [
  {
   "cell_type": "code",
   "execution_count": 1,
   "metadata": {},
   "outputs": [],
   "source": [
    "%load_ext autoreload"
   ]
  },
  {
   "cell_type": "code",
   "execution_count": 2,
   "metadata": {},
   "outputs": [
    {
     "name": "stderr",
     "output_type": "stream",
     "text": [
      "/Users/michael_dennis/anaconda3/lib/python3.6/site-packages/h5py/__init__.py:36: FutureWarning: Conversion of the second argument of issubdtype from `float` to `np.floating` is deprecated. In future, it will be treated as `np.float64 == np.dtype(float).type`.\n",
      "  from ._conv import register_converters as _register_converters\n"
     ]
    }
   ],
   "source": [
    "from __future__ import division\n",
    "\n",
    "import numpy as np\n",
    "from envs import MarsExplorerEnv\n",
    "import matplotlib.pyplot as plt\n",
    "import time\n",
    "import matplotlib.cm as cm\n",
    "import matplotlib.colors as colors\n",
    "import os\n",
    "import seaborn as sns\n",
    "from matplotlib.offsetbox import AnnotationBbox, OffsetImage\n",
    "from matplotlib._png import read_png\n",
    "import pickle as pkl\n",
    "%matplotlib inline\n",
    "\n",
    "import gym\n",
    "from gym import spaces\n",
    "# from gym.envs.classic_control import rendering\n",
    "import tensorflow as tf\n",
    "from scipy.special import logsumexp\n",
    "from copy import deepcopy as copy\n",
    "import random\n",
    "np.set_printoptions(precision=8, suppress=True,threshold=np.nan)\n",
    "\n",
    "\n",
    "import types\n",
    "import uuid\n",
    "import math\n",
    "import tensorflow as tf\n",
    "from scipy.misc import logsumexp\n",
    "# from baselines import deepq\n",
    "# import baselines.common.tf_util as U\n",
    "\n",
    "from utils.min_norm_solvers_numpy import MinNormSolver, gradient_normalizers"
   ]
  },
  {
   "cell_type": "code",
   "execution_count": 3,
   "metadata": {},
   "outputs": [],
   "source": [
    "os.environ[\"CUDA_DEVICE_ORDER\"]=\"PCI_BUS_ID\"\n",
    "os.environ[\"CUDA_VISIBLE_DEVICES\"]=\"2\""
   ]
  },
  {
   "cell_type": "code",
   "execution_count": 4,
   "metadata": {},
   "outputs": [],
   "source": [
    "%autoreload 2"
   ]
  },
  {
   "cell_type": "code",
   "execution_count": 5,
   "metadata": {},
   "outputs": [],
   "source": [
    "def save_tf_vars(sess, scope, path):\n",
    "  saver = tf.train.Saver([v for v in tf.global_variables() if v.name.startswith(scope + '/')])\n",
    "  saver.save(sess, save_path=path)\n",
    "\n",
    "def load_tf_vars(sess, scope, path):\n",
    "  saver = tf.train.Saver([v for v in tf.global_variables() if v.name.startswith(scope + '/')])\n",
    "  saver.restore(sess, path)"
   ]
  },
  {
   "cell_type": "code",
   "execution_count": 6,
   "metadata": {},
   "outputs": [],
   "source": [
    "data_dir = os.path.join('data', '1.1')"
   ]
  },
  {
   "cell_type": "markdown",
   "metadata": {},
   "source": [
    "# Environment Setup"
   ]
  },
  {
   "cell_type": "code",
   "execution_count": 7,
   "metadata": {},
   "outputs": [],
   "source": [
    "LEFT = 0\n",
    "DOWN = 1\n",
    "RIGHT = 2\n",
    "UP = 3\n",
    "NOOP = 4\n",
    "\n",
    "cdict = {'red':   ((0.0,  0.173, 0.173),\n",
    "                   (1.0,  0.925, 0.925)),\n",
    "\n",
    "         'green': ((0.0,  0.067, 0.067),\n",
    "                   (1.0, 0.384, 0.384)),\n",
    "\n",
    "         'blue':  ((0.0,  0.027, 0.027),\n",
    "                   (1.0,  0.196, 0.196))}\n",
    "plt.register_cmap(name='RustPlanet', data=cdict)\n",
    "REWARD_COLORS = cm.get_cmap('RustPlanet')\n",
    "AGENT_COLORS = cm.get_cmap('gray')\n",
    "MAP_COLORS = {b'B':\"#3a0e00\",\n",
    "              b'F':\"#933111\",\n",
    "              b'S':\"#933111\",\n",
    "              b'U':\"#d65b33\",\n",
    "              b'1':\"#956F52\",\n",
    "              b'2':\"#3C2F34\",\n",
    "              b'3':\"#644C42\"}\n",
    "\n",
    "ROVER_PNGS = {LEFT:\"utils/rover_left.png\",\n",
    "        RIGHT:\"utils/rover_right.png\",\n",
    "        DOWN:\"utils/rover_down.png\",\n",
    "        UP:\"utils/rover_up.png\",\n",
    "        NOOP:\"utils/rover_sample.png\"}\n",
    "\n",
    "# tile_map = [\n",
    "#         \"F3FFUFU2U\",\n",
    "#         \"FUFUSUFUF\",\n",
    "#         \"FFFUSUFFU\",\n",
    "#         \"USUUUUUSU\",\n",
    "#         \"FFUSSSUFF\",\n",
    "#         \"FSFUSUFSF\",\n",
    "#         \"UUUUUUUFU\",\n",
    "#         \"UFFU1UFUU\",\n",
    "#         \"3UUFUFFU1\"\n",
    "#     ]\n",
    "\n",
    "# tile_map = [\n",
    "#         \"F22222FF1\",\n",
    "#         \"U31122FU1\",\n",
    "#         \"UF1112FU1\",\n",
    "#         \"UFUU1SFU1\",\n",
    "#         \"UFFU1FFU3\",\n",
    "#         \"3222UFS1U\",\n",
    "#         \"UUU22F1FU\",\n",
    "#         \"FSSFS12SF\",\n",
    "#         \"FSFF121FF\",\n",
    "#         \"S1S2SFFSF\",\n",
    "#         \"FUUUFFSFU\",\n",
    "#         \"U3UUUFSFU\",\n",
    "#         \"FFFUUFUUU\"\n",
    "#     ]\n",
    "\n",
    "# tile_map = [\n",
    "#         \"2FFFUFFF1\",\n",
    "#         \"FFFU3UFFF\",\n",
    "#         \"FFFFUFFFF\",\n",
    "#         \"FSFUUUFSF\",\n",
    "#         \"FSUUSUUSF\",\n",
    "#         \"FSFUUUFSF\",\n",
    "#         \"FFFFUFFFF\",\n",
    "#         \"FFFSSSFFF\",\n",
    "#         \"1FFFFFFF2\"\n",
    "#     ]\n",
    "\n",
    "tile_map = [\n",
    "        \"2FFFUFFF1\",\n",
    "        \"FFFUUUFFF\",\n",
    "        \"FFFFUFFFF\",\n",
    "        \"FSFUUUFSF\",\n",
    "        \"FSUU3UUSF\",\n",
    "        \"FSFUUUFSF\",\n",
    "        \"FFFFUFFFF\",\n",
    "        \"FFFSSSFFF\",\n",
    "        \"1FFFFFFF2\"\n",
    "    ]\n",
    "\n",
    "tile_rewards = {'F':0.05,\n",
    "              '1':0.1,\n",
    "              '2':0.1,\n",
    "              '3':0.1,\n",
    "              'S':0.01,\n",
    "              'U':0.0}\n",
    "\n",
    "\n",
    "goal_tile_rewards = {'F':0.0,\n",
    "              '1':1.0,\n",
    "              '2':2.0,\n",
    "              '3':8.0,\n",
    "              'S':0.0,\n",
    "              'U':0.0}\n",
    "\n",
    "\n",
    "# Enables \"texturizing\" the environment such that certain areas\n",
    "# will have greater reward despite being the same tile types\n",
    "tile_reward_modifier = lambda r,x,y,mx,my: r #* 0.1 * ((x-(mx/2 + np.random.normal(scale=0.5)))**2 + (y - (mx/2 + np.random.normal(scale=0.5)))**2)\n",
    "\n",
    "def build_reward_map(tile_map, tile_rewards, goal_tile_rewards, tile_reward_modifier):\n",
    "    reward_map = np.zeros((len(tile_map),len(tile_map[0])))\n",
    "    texture_map = np.zeros((len(tile_map),len(tile_map[0])))\n",
    "    for y,row in enumerate(tile_map):\n",
    "        for x,c in enumerate(row):\n",
    "            reward_map[y,x] = texture_map[y,x] = tile_reward_modifier(tile_rewards[c],x,y,len(tile_map[0]),len(tile_map))\n",
    "            reward_map[y,x] +=  goal_tile_rewards[c]\n",
    "    return reward_map, texture_map\n",
    "\n",
    "reward_map, texture_map = build_reward_map(tile_map, tile_rewards, goal_tile_rewards, tile_reward_modifier)\n",
    "\n",
    "\n",
    "t0 = (0.8,0.1,0.0,0.0)\n",
    "t1 = (0.001,0.0,0.0,0.999)  #(0.1,0.15,0.5,0.1)\n",
    "\n",
    "trans_dict = {b'F':t0,\n",
    "              b'1':t0,\n",
    "              b'2':t0,\n",
    "              b'3':t0,\n",
    "              b'S':t0,\n",
    "              b'U':t1}\n",
    "\n",
    "#TODO implement theta_mat in mars_explorer so do not need to hard code, use np.roll\n",
    "true_tps = np.array([[[0.8, 0.],\n",
    "  [0.1, 0.],\n",
    "  [0.0, 0.],\n",
    "  [0.1, 0.],\n",
    "  [0.0, 1.]],\n",
    "\n",
    " [[0.1, 0.],\n",
    "  [0.8, 0.],\n",
    "  [0.1, 0.],\n",
    "  [0.0, 0.],\n",
    "  [0.0, 1.]],\n",
    "\n",
    " [[0.0, 0.],\n",
    "  [0.1, 0.],\n",
    "  [0.8, 0.],\n",
    "  [0.1, 0.],\n",
    "  [0.0, 1.]],\n",
    "\n",
    " [[0.1, 0.],\n",
    "  [0.0, 0.],\n",
    "  [0.1, 0.],\n",
    "  [0.8, 0.],\n",
    "  [0.0, 1.]],\n",
    "\n",
    " [[0., 0.],\n",
    "  [0., 0.],\n",
    "  [0., 0.],\n",
    "  [0., 0.],\n",
    "  [1., 1.]]])\n",
    "\n",
    "true_tps = np.array([[[0.8, 0.001],\n",
    "  [0.1, 0.],\n",
    "  [0.0, 0.],\n",
    "  [0.1, 0.],\n",
    "  [0.0, 0.999]],\n",
    "\n",
    " [[0.1, 0.],\n",
    "  [0.8, 0.001],\n",
    "  [0.1, 0.],\n",
    "  [0.0, 0.],\n",
    "  [0.0, 0.999]],\n",
    "\n",
    " [[0.0, 0.],\n",
    "  [0.1, 0.],\n",
    "  [0.8, 0.001],\n",
    "  [0.1, 0.],\n",
    "  [0.0, 0.999]],\n",
    "\n",
    " [[0.1, 0.],\n",
    "  [0.0, 0.],\n",
    "  [0.1, 0.],\n",
    "  [0.8, 0.001],\n",
    "  [0.0, 0.999]],\n",
    "\n",
    " [[0., 0.],\n",
    "  [0., 0.],\n",
    "  [0., 0.],\n",
    "  [0., 0.],\n",
    "  [1., 1.]]])\n",
    "\n",
    "gamma = 0.95\n",
    "\n",
    "T_theta_shape = (5,5,2)\n",
    "\n",
    "time_penalty = 0.0\n"
   ]
  },
  {
   "cell_type": "code",
   "execution_count": 8,
   "metadata": {},
   "outputs": [],
   "source": [
    "mdp = MarsExplorerEnv(tile_map, reward_map, texture_map, trans_dict, time_penalty) \n",
    "num_actions = mdp.num_actions\n",
    "num_states = mdp.num_states"
   ]
  },
  {
   "cell_type": "code",
   "execution_count": 9,
   "metadata": {},
   "outputs": [
    {
     "data": {
      "image/png": "[encoded data removed]",
      "text/plain": [
       "<Figure size 432x288 with 1 Axes>"
      ]
     },
     "metadata": {},
     "output_type": "display_data"
    },
    {
     "data": {
      "image/png": "[encoded data removed]",
      "text/plain": [
       "<Figure size 432x288 with 1 Axes>"
      ]
     },
     "metadata": {},
     "output_type": "display_data"
    },
    {
     "data": {
      "image/png": "[encoded data removed]",
      "text/plain": [
       "<Figure size 432x288 with 1 Axes>"
      ]
     },
     "metadata": {},
     "output_type": "display_data"
    }
   ],
   "source": [
    "plt.imshow(reward_map, cmap=\"Blues\")\n",
    "plt.title(\"Goal Rewards\")\n",
    "plt.show()\n",
    "plt.imshow(texture_map, cmap=\"Blues\")\n",
    "plt.title(\"'Texture' Rewards\")\n",
    "plt.show()\n",
    "\n",
    "binary_map = np.ones(mdp.tile_map.shape)\n",
    "binary_map[np.where(mdp.tile_map == b'S')] = 255.0\n",
    "plt.imshow(binary_map, cmap=\"Blues\")\n",
    "plt.title(\"Starting positions\")\n",
    "plt.show()"
   ]
  },
  {
   "cell_type": "markdown",
   "metadata": {},
   "source": [
    "# Demo visualization tools"
   ]
  },
  {
   "cell_type": "code",
   "execution_count": 10,
   "metadata": {},
   "outputs": [],
   "source": [
    "def plot_mars(mdp, pi, term = 40, title=None, counts = None, Qs = None):\n",
    "    background = np.array([colors.to_rgb(MAP_COLORS[l]) for l in mdp.tile_map.flat]).reshape(mdp.nrow, mdp.ncol,3)\n",
    "    s = mdp._reset()\n",
    "    t, r = 0, 0\n",
    "    while s is not None and t < term:\n",
    "        fig = plt.figure(figsize=(4,4))\n",
    "        if title != None:\n",
    "            plt.title(title)\n",
    "        plt.imshow(background)\n",
    "        plt.axes().get_xaxis().set_visible(False)\n",
    "        plt.axes().get_yaxis().set_visible(False)\n",
    "        ax = plt.gca()\n",
    "        a = pi[s] if type(pi) == np.ndarray else pi(s)\n",
    "        img_path = ROVER_PNGS[a]\n",
    "        arr_hand = read_png(img_path)\n",
    "        imagebox = OffsetImage(arr_hand, zoom=.5)\n",
    "        xy = [s%background.shape[1], s//background.shape[1]]  # coordinates to position this image\n",
    "\n",
    "        ab = AnnotationBbox(imagebox, xy,\n",
    "                            xybox=(0, 0),\n",
    "                            xycoords='data',\n",
    "                            boxcoords=\"offset points\",\n",
    "                            frameon=False)\n",
    "        ax.add_artist(ab)\n",
    "        fig.text(0.13, 0.05, 't: {}      r: {}'.format(t,round(r,4)), ha='left', fontsize=10)\n",
    "        sns.despine(bottom=True,left=True,right=True,top=True)\n",
    "        plt.show()\n",
    "        if Qs is not None:\n",
    "            print(Qs[s])\n",
    "            print(a)\n",
    "            print(softmax(Qs[s]))\n",
    "        print(mdp.s_to_grid(s), mdp.tile_map.flatten()[s])\n",
    "        s, rt, _, d = mdp._step(a)\n",
    "        print(mdp.s_to_grid(s), mdp.tile_map.flatten()[s])\n",
    "        t += 1\n",
    "        r += rt\n",
    "    if counts:\n",
    "        fig.text(0.87, 0.05, 'F: {}  L/R: {}  B: {}  S: {}'.format(counts['F'], counts['LR'], counts['B'], counts['S']), ha='right', fontsize=10)\n",
    "    #     plt.savefig(folder+\"/\"+str(t)+\".png\", format='png')\n",
    "    return\n",
    "\n",
    "def plot_mars_history(mdp, hist, title=None, counts = None):\n",
    "    background = np.array([colors.to_rgb(MAP_COLORS[l]) for l in mdp.tile_map.flat]).reshape(mdp.nrow, mdp.ncol,3)\n",
    "    t = 0\n",
    "    for s,a,sprime in [h[0] for h in hist]:\n",
    "        fig = plt.figure(figsize=(4,4))\n",
    "        if title != None:\n",
    "            plt.title(title)\n",
    "        plt.imshow(background)\n",
    "        plt.axes().get_xaxis().set_visible(False)\n",
    "        plt.axes().get_yaxis().set_visible(False)\n",
    "        ax = plt.gca()\n",
    "        img_path = ROVER_PNGS[a]\n",
    "        arr_hand = read_png(img_path)\n",
    "        imagebox = OffsetImage(arr_hand, zoom=.5)\n",
    "        xy = [s%background.shape[1], s//background.shape[1]]  # coordinates to position this image\n",
    "\n",
    "        ab = AnnotationBbox(imagebox, xy,\n",
    "                            xybox=(0, 0),\n",
    "                            xycoords='data',\n",
    "                            boxcoords=\"offset points\",\n",
    "                            frameon=False)\n",
    "        ax.add_artist(ab)\n",
    "        fig.text(0.13, 0.05, 't: {}'.format(t), ha='left', fontsize=10)\n",
    "        sns.despine(bottom=True,left=True,right=True,top=True)\n",
    "        plt.show()\n",
    "        t += 1\n",
    "    if counts:\n",
    "        fig.text(0.87, 0.05, 'F: {}  L/R: {}  B: {}  S: {}'.format(counts['F'], counts['LR'], counts['B'], counts['S']), ha='right', fontsize=10)\n",
    "    #     plt.savefig(folder+\"/\"+str(t)+\".png\", format='png')\n",
    "    return\n",
    "\n",
    "def plot_values(mdp, Qs, s=None, title=None):\n",
    "    V = np.max(Qs, axis=1).reshape((mdp.nrow,mdp.ncol))\n",
    "    pi = np.argmax(Qs, axis=1)\n",
    "    plt.figure(figsize=(8,8))\n",
    "    if title != None:\n",
    "        plt.title(title)\n",
    "    plt.imshow(V, cmap='gray')#, clim=(0,1)) 'gist_ncar'\n",
    "    ax = plt.gca()\n",
    "    ax.set_xticks(np.arange(V.shape[1])-.5)\n",
    "    ax.set_yticks(np.arange(V.shape[0])-.5)\n",
    "    ax.set_xticklabels([])\n",
    "    ax.set_yticklabels([])\n",
    "    Y, X = np.mgrid[0:V.shape[0], 0:V.shape[1]]\n",
    "    a2uv = {0: (-1, 0), 1:(0, -1), 2:(1,0), 3:(0, 1), 4:(-1,-1)}\n",
    "    Pi = pi.reshape(V.shape)\n",
    "    for y in range(V.shape[0]):\n",
    "        for x in range(V.shape[1]):\n",
    "            a = Pi[y, x]\n",
    "            u, v = a2uv[a]\n",
    "            plt.arrow(x, y,u*.3, -v*.3, color='m', head_width=0.2, head_length=0.1) \n",
    "            plt.text(x, y, str(mdp.tile_map[y,x].item().decode()),\n",
    "                     color='c', size=12,  verticalalignment='center',\n",
    "                     horizontalalignment='center', fontweight='bold')\n",
    "    if s != None:\n",
    "        plt.plot(s%V.shape[0], s//V.shape[0], 'ro')\n",
    "#     plt.grid(color='b', lw=2, ls='-')\n",
    "    return"
   ]
  },
  {
   "cell_type": "markdown",
   "metadata": {},
   "source": [
    "# Soft-Q Learning for Demonstrations"
   ]
  },
  {
   "cell_type": "code",
   "execution_count": 11,
   "metadata": {},
   "outputs": [],
   "source": [
    "def softmax(x, axis=1):\n",
    "    \"\"\"Compute softmax values for each sets of scores in x.\"\"\"\n",
    "    axis = 0 if len(x.shape) == 1 else axis\n",
    "    e_x = np.exp(x - np.max(x, axis=axis,keepdims=True))\n",
    "    return (e_x / e_x.sum(axis=axis, keepdims = True))"
   ]
  },
  {
   "cell_type": "code",
   "execution_count": 12,
   "metadata": {},
   "outputs": [],
   "source": [
    "def tabsoftq_iter(R, T, maxiter=10000, verbose=False, Q_init=None, learning_rate=0.5, ftol=1e-32):\n",
    "    #TODO removed reliance on global state\n",
    "    Q = np.zeros((num_states, num_actions)) if Q_init is None else copy(Q_init)\n",
    "    prevQ = copy(Q)\n",
    "    if verbose:\n",
    "        diffs = []\n",
    "        meanVs = []\n",
    "    for iter_idx in range(maxiter):\n",
    "        # Need this to be treated more like a hard max\n",
    "        V = logsumexp(prevQ * 10000, axis=1) / 10000\n",
    "        V_broad = V.reshape((1, 1, num_states))\n",
    "        Q = R + gamma * np.sum(T * V_broad, axis=2)\n",
    "        Q = (1 - learning_rate) * prevQ + learning_rate * Q\n",
    "        diff = np.mean((Q - prevQ)**2)/(np.std(Q)**2)\n",
    "        if verbose:\n",
    "            diffs.append(diff)\n",
    "            meanVs.append(np.mean(V)) \n",
    "        if diff < ftol:\n",
    "            print(Q)\n",
    "            print(gamma * np.sum(T * V_broad, axis=2))\n",
    "            print(V)\n",
    "            break\n",
    "        prevQ = copy(Q)\n",
    "    if verbose:\n",
    "        plt.xlabel('Number of Iterations')\n",
    "        plt.ylabel('Avg. Squared Bellman Error')\n",
    "        plt.title('Soft Q Iteration')\n",
    "        plt.plot(diffs)\n",
    "        plt.yscale('log')\n",
    "        plt.show()\n",
    "        plt.xlabel('Number of Iterations')\n",
    "        plt.ylabel('Avg. Value of All Tiles')\n",
    "        plt.title('Soft Q Iteration')\n",
    "        plt.plot(meanVs)\n",
    "        plt.show()\n",
    "    return Q"
   ]
  },
  {
   "cell_type": "code",
   "execution_count": 13,
   "metadata": {},
   "outputs": [],
   "source": [
    "def tabsoftq_learn_Qs(mdp):\n",
    "    R = np.repeat(mdp.rewards[np.newaxis].T, 5, axis=1)\n",
    "    T = mdp.get_transition_matrix()\n",
    "    Qs = tabsoftq_iter(R, T)\n",
    "    return Qs\n",
    "\n",
    "def tabsoftq_gen_pol(Qs, beta=1):\n",
    "    softQs = softmax(Qs * beta)\n",
    "    return lambda s: np.random.choice(np.asarray(range(len(Qs[s]))),p=softQs[s])\n",
    "\n",
    "def tabsoftq_gen_pol_probs(Qs, beta=1):\n",
    "    softQs = softmax(Qs * beta)\n",
    "    return softQs\n"
   ]
  },
  {
   "cell_type": "code",
   "execution_count": 14,
   "metadata": {},
   "outputs": [],
   "source": [
    "def generate_demonstrations(mdp, pol, n, term):\n",
    "    hists = []\n",
    "    for i in range(n):\n",
    "        s, d, t = mdp._reset(), False, 0\n",
    "        hist = []\n",
    "        while not d and t < term:\n",
    "            a = pol[s] if type(pol) == np.ndarray else pol(s)\n",
    "            sprime, rt, _, ob_dict = mdp._step(a)\n",
    "            hist += [((s,a,sprime),ob_dict['adt'])]\n",
    "            t += 1\n",
    "            s = sprime\n",
    "        hists += [hist]\n",
    "    return hists"
   ]
  },
  {
   "cell_type": "code",
   "execution_count": 15,
   "metadata": {},
   "outputs": [],
   "source": [
    "def vectorize_rollouts(rollouts):\n",
    "    sas_obs = []\n",
    "    adt_obs = []\n",
    "    task_idxes = []\n",
    "    for rollout in rollouts:\n",
    "        more_sas, more_adt = list(zip(*rollout))\n",
    "        sas_obs.extend(more_sas)\n",
    "        adt_obs.extend(more_adt)\n",
    "    return np.array(sas_obs), np.array(adt_obs)"
   ]
  },
  {
   "cell_type": "markdown",
   "metadata": {},
   "source": [
    "Sanity check (env and softq)"
   ]
  },
  {
   "cell_type": "code",
   "execution_count": 16,
   "metadata": {
    "scrolled": true
   },
   "outputs": [
    {
     "name": "stderr",
     "output_type": "stream",
     "text": [
      "/Users/michael_dennis/anaconda3/lib/python3.6/site-packages/ipykernel_launcher.py:10: DeprecationWarning: `logsumexp` is deprecated!\n",
      "Importing `logsumexp` from scipy.misc is deprecated in scipy 1.0.0. Use `scipy.special.logsumexp` instead.\n",
      "  # Remove the CWD from sys.path while we load stuff.\n"
     ]
    },
    {
     "name": "stdout",
     "output_type": "stream",
     "text": [
      "[[ 40.54471131  39.3663655   39.3663655   40.54471131  42.        ]\n",
      " [ 39.07270766  35.41521307  34.8190973   36.40304558  37.16907227]\n",
      " [ 36.40314427  32.90307833  30.20220223  33.75740667  34.63298705]\n",
      " [ 30.91357339   4.05165815   3.68526051  28.65192842  29.41789472]\n",
      " [  0.57641625   0.54706149   0.5758945    0.57392227   0.54759595]\n",
      " [  3.7437348    3.96301499  30.36436803  29.056446    28.89614962]\n",
      " [ 29.77573859  32.07186961  35.60356577  34.21409817  33.87338748]\n",
      " [ 34.21766804  34.46794579  38.03256169  36.98679704  36.1809336 ]\n",
      " [ 37.60784024  37.60784024  40.62309336  40.62309336  39.69200454]\n",
      " [ 36.40304558  34.8190973   35.41521307  39.07270766  37.16907227]\n",
      " [ 36.73271275  33.24183656  33.24183656  36.73271275  34.94614296]\n",
      " [ 34.47944951  28.03458079   7.051135    31.26707892  32.80547704]\n",
      " [  0.64289454   0.63350319   0.61015221   0.63950696   0.61074982]\n",
      " [  0.01373914   0.01356404   0.01372329   0.01367599   0.01314153]\n",
      " [  0.59431406   0.61706539   0.62620612   0.62314706   0.59489581]\n",
      " [  6.88393281  27.31195969  33.58442274  30.56525039  31.95520161]\n",
      " [ 32.3777748   32.3777748   35.7583604   35.7583604   34.02050823]\n",
      " [ 34.46794578  34.21766802  36.98679702  38.03256168  36.1809336 ]\n",
      " [ 34.04364106  32.49207741  33.18931273  36.40314427  34.63298705]\n",
      " [ 34.25145062  30.92610855  31.01895249  34.47944951  32.80547704]\n",
      " [ 32.14985726  26.6213837   24.63677652  31.86634195  30.59236439]\n",
      " [ 24.59381697   3.5386048    0.50844213   3.63640088  23.41412612]\n",
      " [  0.45857433   0.43807978   0.45797468   0.43522334   0.43564585]\n",
      " [  0.50570649   3.45084384  23.9626091    3.54515864  22.81447864]\n",
      " [ 24.01034174  25.98287738  31.32292011  31.04112931  29.80677411]\n",
      " [ 30.23369131  30.2577858   33.48698199  33.58442274  31.9552016 ]\n",
      " [ 32.35198537  32.0166647   34.49421373  35.60356574  33.87338746]\n",
      " [ 31.83854737  30.35940009  30.88427494  33.92656705  32.2802387 ]\n",
      " [ 31.93264826  28.75622861  27.10788069  32.05733342  30.46446675]\n",
      " [ 27.52119088   3.57134549   3.54842125  27.57818866  26.24927923]\n",
      " [  0.51421549   0.49088579   0.49088579   0.51138034   0.48850472]\n",
      " [  2.86719694   3.02060844   2.86718544   2.86714409   2.86957802]\n",
      " [  0.47939488   0.47939488   0.50210769   0.49928978   0.4770023 ]\n",
      " [  3.4606603    3.50596981  26.9288281   26.88434072  25.63238669]\n",
      " [ 26.52933937  28.63624822  31.38127584  31.25713068  29.82221205]\n",
      " [ 30.29451136  30.35346885  32.22893267  33.31295504  31.69730729]\n",
      " [ 30.53697839  31.24315854  29.34103144  31.70950353  30.17402835]\n",
      " [ 30.13589055  26.92555343   6.46371621  27.43935728  28.63909603]\n",
      " [  0.56190571   0.558859     0.53614619   0.5594759    0.53381043]\n",
      " [  2.86724225   2.86718628   3.02060844   2.86719694   2.86957802]\n",
      " [ 10.96957802  10.96957802  10.96957802  10.96957802 162.        ]\n",
      " [  3.02060844   2.86719822   2.86724225   2.86718544   2.86957802]\n",
      " [  0.53614624   0.55947608   0.56190576   0.55885905   0.53381047]\n",
      " [  6.46371779  27.43936966  30.13589319  26.92555366  28.63909853]\n",
      " [ 29.34103359  31.70950497  30.53697745  31.24315852  30.17402972]\n",
      " [ 32.22893387  33.31295522  30.29451114  30.35346791  31.69730746]\n",
      " [ 31.38127573  31.25713069  26.52933905  28.63624623  29.82221194]\n",
      " [ 26.92882801  26.88442463   3.46133169   3.50605369  25.63238661]\n",
      " [  0.5029461    0.50288962   0.48023329   0.48023329   0.47784155]\n",
      " [  2.86718628   2.86719775   2.86719822   3.02060844   2.86957802]\n",
      " [  0.49215689   0.51548428   0.51548673   0.49215689   0.48977709]\n",
      " [  3.54944148  27.57833605  27.52120546   3.57147429  26.24941924]\n",
      " [ 27.10799319  32.05734953  31.93265008  28.75624478  30.46448205]\n",
      " [ 30.88428735  33.9265688   31.83854767  30.35940273  32.28024036]\n",
      " [ 34.49421395  35.60356577  32.35198539  32.01666486  33.87338748]\n",
      " [ 33.486982    33.58442274  30.2336913   30.25778571  31.9552016 ]\n",
      " [ 31.3229201   31.31727209  26.21948397  26.25902009  29.8067741 ]\n",
      " [ 26.8693752   26.80398298   3.45540751   3.4568821   25.57590644]\n",
      " [  0.51435108   0.51496744   0.51502215   0.49169475   0.48931449]\n",
      " [  3.53330299  27.49615974  27.57576153   3.54499189  26.24697345]\n",
      " [ 26.90306863  32.14962886  32.14987344  26.90478069  30.59238766]\n",
      " [ 31.01897266  34.47945207  34.25145237  30.92612314  32.80547946]\n",
      " [ 33.18931484  36.40314453  34.04364125  32.49207898  34.63298731]\n",
      " [ 36.98679704  38.03256169  34.46794579  34.21766804  36.1809336 ]\n",
      " [ 35.7583604   35.7583604   32.3777748   32.3777748   34.02050823]\n",
      " [ 33.58442274  33.47193255  30.13739028  30.21864187  31.9552016 ]\n",
      " [ 31.22286069  30.90361733  26.61251585  26.23547237  29.67171766]\n",
      " [ 26.47569733  27.51817953  27.08931273   6.41049705  26.15227055]\n",
      " [ 26.73968225  31.46912266  32.03024937  26.85735377  30.4387369 ]\n",
      " [ 30.90552702  34.24887786  34.47945207  31.01639814  32.80547946]\n",
      " [ 33.24183875  36.73271301  36.73271301  33.24183875  34.94614321]\n",
      " [ 35.4152133   39.07270768  36.40304561  34.81909753  37.1690723 ]\n",
      " [ 40.62309336  40.62309336  37.60784024  37.60784024  39.69200454]\n",
      " [ 38.03256168  36.98679702  34.21766802  34.46794578  36.1809336 ]\n",
      " [ 35.60356574  34.46559177  31.78768898  32.32336341  33.87338746]\n",
      " [ 33.0116712   29.61404628  27.45209531  29.84910463  31.41108764]\n",
      " [ 27.80785677   6.82035398  28.28833431  27.29609366  26.92391759]\n",
      " [ 27.47662273  29.27261019  33.6438785   30.53868001  32.01168457]\n",
      " [ 32.27723435  34.01678567  36.40314453  33.16245926  34.63298731]\n",
      " [ 34.81909753  36.40304561  39.07270768  35.4152133   37.1690723 ]\n",
      " [ 39.36636552  40.54471132  40.54471132  39.36636552  42.        ]]\n",
      "[[ 38.44471131  37.2663655   37.2663655   38.44471131  39.9       ]\n",
      " [ 39.02270766  35.36521307  34.7690973   36.35304558  37.11907227]\n",
      " [ 36.35314427  32.85307833  30.15220223  33.70740667  34.58298705]\n",
      " [ 30.86357339   4.00165815   3.63526051  28.60192842  29.36789472]\n",
      " [  0.57641625   0.54706149   0.5758945    0.57392227   0.54759595]\n",
      " [  3.6937348    3.91301499  30.31436803  29.006446    28.84614962]\n",
      " [ 29.72573859  32.02186961  35.55356577  34.16409817  33.82338748]\n",
      " [ 34.16766804  34.41794579  37.98256169  36.93679704  36.1309336 ]\n",
      " [ 36.50784024  36.50784024  39.52309336  39.52309336  38.59200454]\n",
      " [ 36.35304558  34.7690973   35.36521307  39.02270766  37.11907227]\n",
      " [ 36.68271275  33.19183656  33.19183656  36.68271275  34.89614296]\n",
      " [ 34.42944951  27.98458079   7.001135    31.21707892  32.75547704]\n",
      " [  0.64289454   0.63350319   0.61015221   0.63950696   0.61074982]\n",
      " [  0.01373914   0.01356404   0.01372329   0.01367599   0.01314153]\n",
      " [  0.59431406   0.61706539   0.62620612   0.62314706   0.59489581]\n",
      " [  6.83393281  27.26195969  33.53442274  30.51525039  31.90520161]\n",
      " [ 32.3277748   32.3277748   35.7083604   35.7083604   33.97050823]\n",
      " [ 34.41794578  34.16766802  36.93679702  37.98256168  36.1309336 ]\n",
      " [ 33.99364106  32.44207741  33.13931273  36.35314427  34.58298705]\n",
      " [ 34.20145062  30.87610855  30.96895249  34.42944951  32.75547704]\n",
      " [ 32.09985726  26.5713837   24.58677652  31.81634195  30.54236439]\n",
      " [ 24.54381697   3.4886048    0.45844213   3.58640088  23.36412612]\n",
      " [  0.45857433   0.43807978   0.45797468   0.43522334   0.43564585]\n",
      " [  0.45570649   3.40084384  23.9126091    3.49515864  22.76447864]\n",
      " [ 23.96034174  25.93287738  31.27292011  30.99112931  29.75677411]\n",
      " [ 30.18369131  30.2077858   33.43698199  33.53442274  31.9052016 ]\n",
      " [ 32.30198537  31.9666647   34.44421373  35.55356574  33.82338746]\n",
      " [ 31.78854737  30.30940009  30.83427494  33.87656705  32.2302387 ]\n",
      " [ 31.92264826  28.74622861  27.09788069  32.04733342  30.45446675]\n",
      " [ 27.47119088   3.52134549   3.49842125  27.52818866  26.19927923]\n",
      " [  0.51421549   0.49088579   0.49088579   0.51138034   0.48850472]\n",
      " [  2.86719694   3.02060844   2.86718544   2.86714409   2.86957802]\n",
      " [  0.47939488   0.47939488   0.50210769   0.49928978   0.4770023 ]\n",
      " [  3.4106603    3.45596981  26.8788281   26.83434072  25.58238669]\n",
      " [ 26.51933937  28.62624822  31.37127584  31.24713068  29.81221205]\n",
      " [ 30.24451136  30.30346885  32.17893267  33.26295504  31.64730729]\n",
      " [ 30.48697839  31.19315854  29.29103144  31.65950353  30.12402835]\n",
      " [ 30.12589055  26.91555343   6.45371621  27.42935728  28.62909603]\n",
      " [  0.56190571   0.558859     0.53614619   0.5594759    0.53381043]\n",
      " [  2.86724225   2.86718628   3.02060844   2.86719694   2.86957802]\n",
      " [  2.86957802   2.86957802   2.86957802   2.86957802 153.9       ]\n",
      " [  3.02060844   2.86719822   2.86724225   2.86718544   2.86957802]\n",
      " [  0.53614624   0.55947608   0.56190576   0.55885905   0.53381047]\n",
      " [  6.45371779  27.42936966  30.12589319  26.91555366  28.62909853]\n",
      " [ 29.29103359  31.65950497  30.48697745  31.19315852  30.12402972]\n",
      " [ 32.17893387  33.26295522  30.24451114  30.30346791  31.64730746]\n",
      " [ 31.37127573  31.24713069  26.51933905  28.62624623  29.81221194]\n",
      " [ 26.87882801  26.83442463   3.41133169   3.45605369  25.58238661]\n",
      " [  0.5029461    0.50288962   0.48023329   0.48023329   0.47784155]\n",
      " [  2.86718628   2.86719775   2.86719822   3.02060844   2.86957802]\n",
      " [  0.49215689   0.51548428   0.51548673   0.49215689   0.48977709]\n",
      " [  3.49944148  27.52833605  27.47120546   3.52147429  26.19941924]\n",
      " [ 27.09799319  32.04734953  31.92265008  28.74624478  30.45448205]\n",
      " [ 30.83428735  33.8765688   31.78854767  30.30940273  32.23024036]\n",
      " [ 34.44421395  35.55356577  32.30198539  31.96666486  33.82338748]\n",
      " [ 33.436982    33.53442274  30.1836913   30.20778571  31.9052016 ]\n",
      " [ 31.2729201   31.26727209  26.16948397  26.20902009  29.7567741 ]\n",
      " [ 26.8193752   26.75398298   3.40540751   3.4068821   25.52590644]\n",
      " [  0.51435108   0.51496744   0.51502215   0.49169475   0.48931449]\n",
      " [  3.48330299  27.44615974  27.52576153   3.49499189  26.19697345]\n",
      " [ 26.85306863  32.09962886  32.09987344  26.85478069  30.54238766]\n",
      " [ 30.96897266  34.42945207  34.20145237  30.87612314  32.75547946]\n",
      " [ 33.13931484  36.35314453  33.99364125  32.44207898  34.58298731]\n",
      " [ 36.93679704  37.98256169  34.41794579  34.16766804  36.1309336 ]\n",
      " [ 35.7083604   35.7083604   32.3277748   32.3277748   33.97050823]\n",
      " [ 33.53442274  33.42193255  30.08739028  30.16864187  31.9052016 ]\n",
      " [ 31.21286069  30.89361733  26.60251585  26.22547237  29.66171766]\n",
      " [ 26.46569733  27.50817953  27.07931273   6.40049705  26.14227055]\n",
      " [ 26.72968225  31.45912266  32.02024937  26.84735377  30.4287369 ]\n",
      " [ 30.85552702  34.19887786  34.42945207  30.96639814  32.75547946]\n",
      " [ 33.19183875  36.68271301  36.68271301  33.19183875  34.89614321]\n",
      " [ 35.3652133   39.02270768  36.35304561  34.76909753  37.1190723 ]\n",
      " [ 39.52309336  39.52309336  36.50784024  36.50784024  38.59200454]\n",
      " [ 37.98256168  36.93679702  34.16766802  34.41794578  36.1309336 ]\n",
      " [ 35.55356574  34.41559177  31.73768898  32.27336341  33.82338746]\n",
      " [ 32.9616712   29.56404628  27.40209531  29.79910463  31.36108764]\n",
      " [ 27.75785677   6.77035398  28.23833431  27.24609366  26.87391759]\n",
      " [ 27.42662273  29.22261019  33.5938785   30.48868001  31.96168457]\n",
      " [ 32.22723435  33.96678567  36.35314453  33.11245926  34.58298731]\n",
      " [ 34.76909753  36.35304561  39.02270768  35.3652133   37.1190723 ]\n",
      " [ 37.26636552  38.44471132  38.44471132  37.26636552  39.9       ]]\n",
      "[ 42.          39.07270766  36.40314427  30.91357339   0.57641679\n",
      "  30.36436803  35.60356577  38.03256169  40.62316267  39.07270766\n",
      "  36.73278206  34.47944951   0.64289454   0.01383319   0.62620612\n",
      "  33.58442274  35.75842972  38.03256168  36.40314427  34.47944951\n",
      "  32.14985726  24.59381697   0.45857457  23.9626091   31.32292011\n",
      "  33.58442274  35.60356574  33.92656705  32.05733342  27.57818866\n",
      "   0.51421549   3.02060844   0.50210769  26.9288281   31.38127584\n",
      "  33.31295504  31.70950353  30.13589055   0.56190571   3.02060844\n",
      " 162.           3.02060844   0.56190576  30.13589319  31.70950497\n",
      "  33.31295522  31.38127573  26.92882801   0.50299111   3.02060844\n",
      "   0.51555483  27.57833605  32.05734953  33.9265688   35.60356577\n",
      "  33.58442274  31.3229201   26.8693752    0.51506788  27.57576153\n",
      "  32.14988175  34.47945207  36.40314453  38.03256169  35.75842972\n",
      "  33.58442274  31.22286069  27.51817953  32.03024937  34.47945207\n",
      "  36.73278233  39.07270768  40.62316267  38.03256168  35.60356574\n",
      "  33.0116712   28.28833431  33.6438785   36.40314453  39.07270768\n",
      "  42.        ]\n"
     ]
    },
    {
     "name": "stderr",
     "output_type": "stream",
     "text": [
      "/Users/michael_dennis/anaconda3/lib/python3.6/site-packages/matplotlib/cbook/deprecation.py:107: MatplotlibDeprecationWarning: Adding an axes using the same arguments as a previous axes currently reuses the earlier instance.  In a future version, a new instance will always be created and returned.  Meanwhile, this warning can be suppressed, and the future behavior ensured, by passing a unique label to each axes instance.\n",
      "  warnings.warn(message, mplDeprecation, stacklevel=1)\n",
      "/Users/michael_dennis/anaconda3/lib/python3.6/site-packages/matplotlib/cbook/deprecation.py:107: MatplotlibDeprecationWarning: Adding an axes using the same arguments as a previous axes currently reuses the earlier instance.  In a future version, a new instance will always be created and returned.  Meanwhile, this warning can be suppressed, and the future behavior ensured, by passing a unique label to each axes instance.\n",
      "  warnings.warn(message, mplDeprecation, stacklevel=1)\n"
     ]
    },
    {
     "data": {
      "image/png": "[encoded data removed]",
      "text/plain": [
       "<Figure size 288x288 with 1 Axes>"
      ]
     },
     "metadata": {},
     "output_type": "display_data"
    },
    {
     "name": "stdout",
     "output_type": "stream",
     "text": [
      "[26.73968225 31.46912266 32.03024937 26.85735377 30.4387369 ]\n",
      "2\n",
      "[0.00282309 0.31966437 0.56025853 0.00317562 0.11407839]\n",
      "(5, 7) b'S'\n",
      "(6, 7) b'F'\n"
     ]
    },
    {
     "name": "stderr",
     "output_type": "stream",
     "text": [
      "/Users/michael_dennis/anaconda3/lib/python3.6/site-packages/matplotlib/cbook/deprecation.py:107: MatplotlibDeprecationWarning: Adding an axes using the same arguments as a previous axes currently reuses the earlier instance.  In a future version, a new instance will always be created and returned.  Meanwhile, this warning can be suppressed, and the future behavior ensured, by passing a unique label to each axes instance.\n",
      "  warnings.warn(message, mplDeprecation, stacklevel=1)\n",
      "/Users/michael_dennis/anaconda3/lib/python3.6/site-packages/matplotlib/cbook/deprecation.py:107: MatplotlibDeprecationWarning: Adding an axes using the same arguments as a previous axes currently reuses the earlier instance.  In a future version, a new instance will always be created and returned.  Meanwhile, this warning can be suppressed, and the future behavior ensured, by passing a unique label to each axes instance.\n",
      "  warnings.warn(message, mplDeprecation, stacklevel=1)\n"
     ]
    },
    {
     "data": {
      "image/png": "[encoded data removed]",
      "text/plain": [
       "<Figure size 288x288 with 1 Axes>"
      ]
     },
     "metadata": {},
     "output_type": "display_data"
    },
    {
     "name": "stdout",
     "output_type": "stream",
     "text": [
      "[30.90552702 34.24887786 34.47945207 31.01639814 32.80547946]\n",
      "2\n",
      "[0.01374137 0.38907102 0.48996606 0.01535256 0.09186899]\n",
      "(6, 7) b'F'\n",
      "(7, 7) b'F'\n"
     ]
    },
    {
     "name": "stderr",
     "output_type": "stream",
     "text": [
      "/Users/michael_dennis/anaconda3/lib/python3.6/site-packages/matplotlib/cbook/deprecation.py:107: MatplotlibDeprecationWarning: Adding an axes using the same arguments as a previous axes currently reuses the earlier instance.  In a future version, a new instance will always be created and returned.  Meanwhile, this warning can be suppressed, and the future behavior ensured, by passing a unique label to each axes instance.\n",
      "  warnings.warn(message, mplDeprecation, stacklevel=1)\n",
      "/Users/michael_dennis/anaconda3/lib/python3.6/site-packages/matplotlib/cbook/deprecation.py:107: MatplotlibDeprecationWarning: Adding an axes using the same arguments as a previous axes currently reuses the earlier instance.  In a future version, a new instance will always be created and returned.  Meanwhile, this warning can be suppressed, and the future behavior ensured, by passing a unique label to each axes instance.\n",
      "  warnings.warn(message, mplDeprecation, stacklevel=1)\n"
     ]
    },
    {
     "data": {
      "image/png": "[encoded data removed]",
      "text/plain": [
       "<Figure size 288x288 with 1 Axes>"
      ]
     },
     "metadata": {},
     "output_type": "display_data"
    },
    {
     "name": "stdout",
     "output_type": "stream",
     "text": [
      "[33.24183875 36.73271301 36.73271301 33.24183875 34.94614321]\n",
      "2\n",
      "[0.01367488 0.4487359  0.4487359  0.01367488 0.07517846]\n",
      "(7, 7) b'F'\n",
      "(8, 7) b'F'\n"
     ]
    },
    {
     "name": "stderr",
     "output_type": "stream",
     "text": [
      "/Users/michael_dennis/anaconda3/lib/python3.6/site-packages/matplotlib/cbook/deprecation.py:107: MatplotlibDeprecationWarning: Adding an axes using the same arguments as a previous axes currently reuses the earlier instance.  In a future version, a new instance will always be created and returned.  Meanwhile, this warning can be suppressed, and the future behavior ensured, by passing a unique label to each axes instance.\n",
      "  warnings.warn(message, mplDeprecation, stacklevel=1)\n",
      "/Users/michael_dennis/anaconda3/lib/python3.6/site-packages/matplotlib/cbook/deprecation.py:107: MatplotlibDeprecationWarning: Adding an axes using the same arguments as a previous axes currently reuses the earlier instance.  In a future version, a new instance will always be created and returned.  Meanwhile, this warning can be suppressed, and the future behavior ensured, by passing a unique label to each axes instance.\n",
      "  warnings.warn(message, mplDeprecation, stacklevel=1)\n"
     ]
    },
    {
     "data": {
      "image/png": "[encoded data removed]",
      "text/plain": [
       "<Figure size 288x288 with 1 Axes>"
      ]
     },
     "metadata": {},
     "output_type": "display_data"
    },
    {
     "name": "stdout",
     "output_type": "stream",
     "text": [
      "[35.4152133  39.07270768 36.40304561 34.81909753 37.1690723 ]\n",
      "1\n",
      "[0.02050134 0.79471584 0.05505444 0.01129516 0.11843322]\n",
      "(8, 7) b'F'\n",
      "(8, 8) b'2'\n"
     ]
    },
    {
     "name": "stderr",
     "output_type": "stream",
     "text": [
      "/Users/michael_dennis/anaconda3/lib/python3.6/site-packages/matplotlib/cbook/deprecation.py:107: MatplotlibDeprecationWarning: Adding an axes using the same arguments as a previous axes currently reuses the earlier instance.  In a future version, a new instance will always be created and returned.  Meanwhile, this warning can be suppressed, and the future behavior ensured, by passing a unique label to each axes instance.\n",
      "  warnings.warn(message, mplDeprecation, stacklevel=1)\n",
      "/Users/michael_dennis/anaconda3/lib/python3.6/site-packages/matplotlib/cbook/deprecation.py:107: MatplotlibDeprecationWarning: Adding an axes using the same arguments as a previous axes currently reuses the earlier instance.  In a future version, a new instance will always be created and returned.  Meanwhile, this warning can be suppressed, and the future behavior ensured, by passing a unique label to each axes instance.\n",
      "  warnings.warn(message, mplDeprecation, stacklevel=1)\n"
     ]
    },
    {
     "data": {
      "image/png": "[encoded data removed]",
      "text/plain": [
       "<Figure size 288x288 with 1 Axes>"
      ]
     },
     "metadata": {},
     "output_type": "display_data"
    },
    {
     "name": "stdout",
     "output_type": "stream",
     "text": [
      "[39.36636552 40.54471132 40.54471132 39.36636552 42.        ]\n",
      "4\n",
      "[0.04459851 0.14490033 0.14490033 0.04459851 0.62100232]\n",
      "(8, 8) b'2'\n",
      "(8, 8) b'2'\n"
     ]
    },
    {
     "name": "stderr",
     "output_type": "stream",
     "text": [
      "/Users/michael_dennis/anaconda3/lib/python3.6/site-packages/matplotlib/cbook/deprecation.py:107: MatplotlibDeprecationWarning: Adding an axes using the same arguments as a previous axes currently reuses the earlier instance.  In a future version, a new instance will always be created and returned.  Meanwhile, this warning can be suppressed, and the future behavior ensured, by passing a unique label to each axes instance.\n",
      "  warnings.warn(message, mplDeprecation, stacklevel=1)\n",
      "/Users/michael_dennis/anaconda3/lib/python3.6/site-packages/matplotlib/cbook/deprecation.py:107: MatplotlibDeprecationWarning: Adding an axes using the same arguments as a previous axes currently reuses the earlier instance.  In a future version, a new instance will always be created and returned.  Meanwhile, this warning can be suppressed, and the future behavior ensured, by passing a unique label to each axes instance.\n",
      "  warnings.warn(message, mplDeprecation, stacklevel=1)\n"
     ]
    },
    {
     "data": {
      "image/png": "[encoded data removed]",
      "text/plain": [
       "<Figure size 288x288 with 1 Axes>"
      ]
     },
     "metadata": {},
     "output_type": "display_data"
    },
    {
     "name": "stdout",
     "output_type": "stream",
     "text": [
      "[39.36636552 40.54471132 40.54471132 39.36636552 42.        ]\n",
      "4\n",
      "[0.04459851 0.14490033 0.14490033 0.04459851 0.62100232]\n",
      "(8, 8) b'2'\n",
      "(8, 8) b'2'\n"
     ]
    },
    {
     "name": "stderr",
     "output_type": "stream",
     "text": [
      "/Users/michael_dennis/anaconda3/lib/python3.6/site-packages/matplotlib/cbook/deprecation.py:107: MatplotlibDeprecationWarning: Adding an axes using the same arguments as a previous axes currently reuses the earlier instance.  In a future version, a new instance will always be created and returned.  Meanwhile, this warning can be suppressed, and the future behavior ensured, by passing a unique label to each axes instance.\n",
      "  warnings.warn(message, mplDeprecation, stacklevel=1)\n",
      "/Users/michael_dennis/anaconda3/lib/python3.6/site-packages/matplotlib/cbook/deprecation.py:107: MatplotlibDeprecationWarning: Adding an axes using the same arguments as a previous axes currently reuses the earlier instance.  In a future version, a new instance will always be created and returned.  Meanwhile, this warning can be suppressed, and the future behavior ensured, by passing a unique label to each axes instance.\n",
      "  warnings.warn(message, mplDeprecation, stacklevel=1)\n"
     ]
    },
    {
     "data": {
      "image/png": "[encoded data removed]",
      "text/plain": [
       "<Figure size 288x288 with 1 Axes>"
      ]
     },
     "metadata": {},
     "output_type": "display_data"
    },
    {
     "name": "stdout",
     "output_type": "stream",
     "text": [
      "[39.36636552 40.54471132 40.54471132 39.36636552 42.        ]\n",
      "4\n",
      "[0.04459851 0.14490033 0.14490033 0.04459851 0.62100232]\n",
      "(8, 8) b'2'\n",
      "(8, 8) b'2'\n"
     ]
    },
    {
     "name": "stderr",
     "output_type": "stream",
     "text": [
      "/Users/michael_dennis/anaconda3/lib/python3.6/site-packages/matplotlib/cbook/deprecation.py:107: MatplotlibDeprecationWarning: Adding an axes using the same arguments as a previous axes currently reuses the earlier instance.  In a future version, a new instance will always be created and returned.  Meanwhile, this warning can be suppressed, and the future behavior ensured, by passing a unique label to each axes instance.\n",
      "  warnings.warn(message, mplDeprecation, stacklevel=1)\n",
      "/Users/michael_dennis/anaconda3/lib/python3.6/site-packages/matplotlib/cbook/deprecation.py:107: MatplotlibDeprecationWarning: Adding an axes using the same arguments as a previous axes currently reuses the earlier instance.  In a future version, a new instance will always be created and returned.  Meanwhile, this warning can be suppressed, and the future behavior ensured, by passing a unique label to each axes instance.\n",
      "  warnings.warn(message, mplDeprecation, stacklevel=1)\n"
     ]
    },
    {
     "data": {
      "image/png": "[encoded data removed]",
      "text/plain": [
       "<Figure size 288x288 with 1 Axes>"
      ]
     },
     "metadata": {},
     "output_type": "display_data"
    },
    {
     "name": "stdout",
     "output_type": "stream",
     "text": [
      "[39.36636552 40.54471132 40.54471132 39.36636552 42.        ]\n",
      "4\n",
      "[0.04459851 0.14490033 0.14490033 0.04459851 0.62100232]\n",
      "(8, 8) b'2'\n",
      "(8, 8) b'2'\n"
     ]
    },
    {
     "name": "stderr",
     "output_type": "stream",
     "text": [
      "/Users/michael_dennis/anaconda3/lib/python3.6/site-packages/matplotlib/cbook/deprecation.py:107: MatplotlibDeprecationWarning: Adding an axes using the same arguments as a previous axes currently reuses the earlier instance.  In a future version, a new instance will always be created and returned.  Meanwhile, this warning can be suppressed, and the future behavior ensured, by passing a unique label to each axes instance.\n",
      "  warnings.warn(message, mplDeprecation, stacklevel=1)\n",
      "/Users/michael_dennis/anaconda3/lib/python3.6/site-packages/matplotlib/cbook/deprecation.py:107: MatplotlibDeprecationWarning: Adding an axes using the same arguments as a previous axes currently reuses the earlier instance.  In a future version, a new instance will always be created and returned.  Meanwhile, this warning can be suppressed, and the future behavior ensured, by passing a unique label to each axes instance.\n",
      "  warnings.warn(message, mplDeprecation, stacklevel=1)\n"
     ]
    },
    {
     "data": {
      "image/png": "[encoded data removed]",
      "text/plain": [
       "<Figure size 288x288 with 1 Axes>"
      ]
     },
     "metadata": {},
     "output_type": "display_data"
    },
    {
     "name": "stdout",
     "output_type": "stream",
     "text": [
      "[39.36636552 40.54471132 40.54471132 39.36636552 42.        ]\n",
      "4\n",
      "[0.04459851 0.14490033 0.14490033 0.04459851 0.62100232]\n",
      "(8, 8) b'2'\n",
      "(8, 8) b'2'\n"
     ]
    },
    {
     "name": "stderr",
     "output_type": "stream",
     "text": [
      "/Users/michael_dennis/anaconda3/lib/python3.6/site-packages/matplotlib/cbook/deprecation.py:107: MatplotlibDeprecationWarning: Adding an axes using the same arguments as a previous axes currently reuses the earlier instance.  In a future version, a new instance will always be created and returned.  Meanwhile, this warning can be suppressed, and the future behavior ensured, by passing a unique label to each axes instance.\n",
      "  warnings.warn(message, mplDeprecation, stacklevel=1)\n",
      "/Users/michael_dennis/anaconda3/lib/python3.6/site-packages/matplotlib/cbook/deprecation.py:107: MatplotlibDeprecationWarning: Adding an axes using the same arguments as a previous axes currently reuses the earlier instance.  In a future version, a new instance will always be created and returned.  Meanwhile, this warning can be suppressed, and the future behavior ensured, by passing a unique label to each axes instance.\n",
      "  warnings.warn(message, mplDeprecation, stacklevel=1)\n"
     ]
    },
    {
     "data": {
      "image/png": "[encoded data removed]",
      "text/plain": [
       "<Figure size 288x288 with 1 Axes>"
      ]
     },
     "metadata": {},
     "output_type": "display_data"
    },
    {
     "name": "stdout",
     "output_type": "stream",
     "text": [
      "[39.36636552 40.54471132 40.54471132 39.36636552 42.        ]\n",
      "4\n",
      "[0.04459851 0.14490033 0.14490033 0.04459851 0.62100232]\n",
      "(8, 8) b'2'\n",
      "(8, 8) b'2'\n"
     ]
    },
    {
     "name": "stderr",
     "output_type": "stream",
     "text": [
      "/Users/michael_dennis/anaconda3/lib/python3.6/site-packages/matplotlib/cbook/deprecation.py:107: MatplotlibDeprecationWarning: Adding an axes using the same arguments as a previous axes currently reuses the earlier instance.  In a future version, a new instance will always be created and returned.  Meanwhile, this warning can be suppressed, and the future behavior ensured, by passing a unique label to each axes instance.\n",
      "  warnings.warn(message, mplDeprecation, stacklevel=1)\n",
      "/Users/michael_dennis/anaconda3/lib/python3.6/site-packages/matplotlib/cbook/deprecation.py:107: MatplotlibDeprecationWarning: Adding an axes using the same arguments as a previous axes currently reuses the earlier instance.  In a future version, a new instance will always be created and returned.  Meanwhile, this warning can be suppressed, and the future behavior ensured, by passing a unique label to each axes instance.\n",
      "  warnings.warn(message, mplDeprecation, stacklevel=1)\n"
     ]
    },
    {
     "data": {
      "image/png": "[encoded data removed]",
      "text/plain": [
       "<Figure size 288x288 with 1 Axes>"
      ]
     },
     "metadata": {},
     "output_type": "display_data"
    },
    {
     "name": "stdout",
     "output_type": "stream",
     "text": [
      "[39.36636552 40.54471132 40.54471132 39.36636552 42.        ]\n",
      "4\n",
      "[0.04459851 0.14490033 0.14490033 0.04459851 0.62100232]\n",
      "(8, 8) b'2'\n",
      "(8, 8) b'2'\n"
     ]
    },
    {
     "name": "stderr",
     "output_type": "stream",
     "text": [
      "/Users/michael_dennis/anaconda3/lib/python3.6/site-packages/matplotlib/cbook/deprecation.py:107: MatplotlibDeprecationWarning: Adding an axes using the same arguments as a previous axes currently reuses the earlier instance.  In a future version, a new instance will always be created and returned.  Meanwhile, this warning can be suppressed, and the future behavior ensured, by passing a unique label to each axes instance.\n",
      "  warnings.warn(message, mplDeprecation, stacklevel=1)\n",
      "/Users/michael_dennis/anaconda3/lib/python3.6/site-packages/matplotlib/cbook/deprecation.py:107: MatplotlibDeprecationWarning: Adding an axes using the same arguments as a previous axes currently reuses the earlier instance.  In a future version, a new instance will always be created and returned.  Meanwhile, this warning can be suppressed, and the future behavior ensured, by passing a unique label to each axes instance.\n",
      "  warnings.warn(message, mplDeprecation, stacklevel=1)\n"
     ]
    },
    {
     "data": {
      "image/png": "[encoded data removed]",
      "text/plain": [
       "<Figure size 288x288 with 1 Axes>"
      ]
     },
     "metadata": {},
     "output_type": "display_data"
    },
    {
     "name": "stdout",
     "output_type": "stream",
     "text": [
      "[39.36636552 40.54471132 40.54471132 39.36636552 42.        ]\n",
      "4\n",
      "[0.04459851 0.14490033 0.14490033 0.04459851 0.62100232]\n",
      "(8, 8) b'2'\n",
      "(8, 8) b'2'\n"
     ]
    },
    {
     "name": "stderr",
     "output_type": "stream",
     "text": [
      "/Users/michael_dennis/anaconda3/lib/python3.6/site-packages/matplotlib/cbook/deprecation.py:107: MatplotlibDeprecationWarning: Adding an axes using the same arguments as a previous axes currently reuses the earlier instance.  In a future version, a new instance will always be created and returned.  Meanwhile, this warning can be suppressed, and the future behavior ensured, by passing a unique label to each axes instance.\n",
      "  warnings.warn(message, mplDeprecation, stacklevel=1)\n",
      "/Users/michael_dennis/anaconda3/lib/python3.6/site-packages/matplotlib/cbook/deprecation.py:107: MatplotlibDeprecationWarning: Adding an axes using the same arguments as a previous axes currently reuses the earlier instance.  In a future version, a new instance will always be created and returned.  Meanwhile, this warning can be suppressed, and the future behavior ensured, by passing a unique label to each axes instance.\n",
      "  warnings.warn(message, mplDeprecation, stacklevel=1)\n"
     ]
    },
    {
     "data": {
      "image/png": "[encoded data removed]",
      "text/plain": [
       "<Figure size 288x288 with 1 Axes>"
      ]
     },
     "metadata": {},
     "output_type": "display_data"
    },
    {
     "name": "stdout",
     "output_type": "stream",
     "text": [
      "[39.36636552 40.54471132 40.54471132 39.36636552 42.        ]\n",
      "4\n",
      "[0.04459851 0.14490033 0.14490033 0.04459851 0.62100232]\n",
      "(8, 8) b'2'\n",
      "(8, 8) b'2'\n"
     ]
    },
    {
     "name": "stderr",
     "output_type": "stream",
     "text": [
      "/Users/michael_dennis/anaconda3/lib/python3.6/site-packages/matplotlib/cbook/deprecation.py:107: MatplotlibDeprecationWarning: Adding an axes using the same arguments as a previous axes currently reuses the earlier instance.  In a future version, a new instance will always be created and returned.  Meanwhile, this warning can be suppressed, and the future behavior ensured, by passing a unique label to each axes instance.\n",
      "  warnings.warn(message, mplDeprecation, stacklevel=1)\n",
      "/Users/michael_dennis/anaconda3/lib/python3.6/site-packages/matplotlib/cbook/deprecation.py:107: MatplotlibDeprecationWarning: Adding an axes using the same arguments as a previous axes currently reuses the earlier instance.  In a future version, a new instance will always be created and returned.  Meanwhile, this warning can be suppressed, and the future behavior ensured, by passing a unique label to each axes instance.\n",
      "  warnings.warn(message, mplDeprecation, stacklevel=1)\n"
     ]
    },
    {
     "data": {
      "image/png": "[encoded data removed]",
      "text/plain": [
       "<Figure size 288x288 with 1 Axes>"
      ]
     },
     "metadata": {},
     "output_type": "display_data"
    },
    {
     "name": "stdout",
     "output_type": "stream",
     "text": [
      "[39.36636552 40.54471132 40.54471132 39.36636552 42.        ]\n",
      "4\n",
      "[0.04459851 0.14490033 0.14490033 0.04459851 0.62100232]\n",
      "(8, 8) b'2'\n",
      "(8, 8) b'2'\n"
     ]
    },
    {
     "name": "stderr",
     "output_type": "stream",
     "text": [
      "/Users/michael_dennis/anaconda3/lib/python3.6/site-packages/matplotlib/cbook/deprecation.py:107: MatplotlibDeprecationWarning: Adding an axes using the same arguments as a previous axes currently reuses the earlier instance.  In a future version, a new instance will always be created and returned.  Meanwhile, this warning can be suppressed, and the future behavior ensured, by passing a unique label to each axes instance.\n",
      "  warnings.warn(message, mplDeprecation, stacklevel=1)\n",
      "/Users/michael_dennis/anaconda3/lib/python3.6/site-packages/matplotlib/cbook/deprecation.py:107: MatplotlibDeprecationWarning: Adding an axes using the same arguments as a previous axes currently reuses the earlier instance.  In a future version, a new instance will always be created and returned.  Meanwhile, this warning can be suppressed, and the future behavior ensured, by passing a unique label to each axes instance.\n",
      "  warnings.warn(message, mplDeprecation, stacklevel=1)\n"
     ]
    },
    {
     "data": {
      "image/png": "[encoded data removed]",
      "text/plain": [
       "<Figure size 288x288 with 1 Axes>"
      ]
     },
     "metadata": {},
     "output_type": "display_data"
    },
    {
     "name": "stdout",
     "output_type": "stream",
     "text": [
      "[39.36636552 40.54471132 40.54471132 39.36636552 42.        ]\n",
      "4\n",
      "[0.04459851 0.14490033 0.14490033 0.04459851 0.62100232]\n",
      "(8, 8) b'2'\n",
      "(8, 8) b'2'\n"
     ]
    },
    {
     "name": "stderr",
     "output_type": "stream",
     "text": [
      "/Users/michael_dennis/anaconda3/lib/python3.6/site-packages/matplotlib/cbook/deprecation.py:107: MatplotlibDeprecationWarning: Adding an axes using the same arguments as a previous axes currently reuses the earlier instance.  In a future version, a new instance will always be created and returned.  Meanwhile, this warning can be suppressed, and the future behavior ensured, by passing a unique label to each axes instance.\n",
      "  warnings.warn(message, mplDeprecation, stacklevel=1)\n",
      "/Users/michael_dennis/anaconda3/lib/python3.6/site-packages/matplotlib/cbook/deprecation.py:107: MatplotlibDeprecationWarning: Adding an axes using the same arguments as a previous axes currently reuses the earlier instance.  In a future version, a new instance will always be created and returned.  Meanwhile, this warning can be suppressed, and the future behavior ensured, by passing a unique label to each axes instance.\n",
      "  warnings.warn(message, mplDeprecation, stacklevel=1)\n"
     ]
    },
    {
     "data": {
      "image/png": "[encoded data removed]",
      "text/plain": [
       "<Figure size 288x288 with 1 Axes>"
      ]
     },
     "metadata": {},
     "output_type": "display_data"
    },
    {
     "name": "stdout",
     "output_type": "stream",
     "text": [
      "[39.36636552 40.54471132 40.54471132 39.36636552 42.        ]\n",
      "4\n",
      "[0.04459851 0.14490033 0.14490033 0.04459851 0.62100232]\n",
      "(8, 8) b'2'\n",
      "(8, 8) b'2'\n"
     ]
    },
    {
     "name": "stderr",
     "output_type": "stream",
     "text": [
      "/Users/michael_dennis/anaconda3/lib/python3.6/site-packages/matplotlib/cbook/deprecation.py:107: MatplotlibDeprecationWarning: Adding an axes using the same arguments as a previous axes currently reuses the earlier instance.  In a future version, a new instance will always be created and returned.  Meanwhile, this warning can be suppressed, and the future behavior ensured, by passing a unique label to each axes instance.\n",
      "  warnings.warn(message, mplDeprecation, stacklevel=1)\n",
      "/Users/michael_dennis/anaconda3/lib/python3.6/site-packages/matplotlib/cbook/deprecation.py:107: MatplotlibDeprecationWarning: Adding an axes using the same arguments as a previous axes currently reuses the earlier instance.  In a future version, a new instance will always be created and returned.  Meanwhile, this warning can be suppressed, and the future behavior ensured, by passing a unique label to each axes instance.\n",
      "  warnings.warn(message, mplDeprecation, stacklevel=1)\n"
     ]
    },
    {
     "data": {
      "image/png": "[encoded data removed]",
      "text/plain": [
       "<Figure size 288x288 with 1 Axes>"
      ]
     },
     "metadata": {},
     "output_type": "display_data"
    },
    {
     "name": "stdout",
     "output_type": "stream",
     "text": [
      "[39.36636552 40.54471132 40.54471132 39.36636552 42.        ]\n",
      "4\n",
      "[0.04459851 0.14490033 0.14490033 0.04459851 0.62100232]\n",
      "(8, 8) b'2'\n",
      "(8, 8) b'2'\n"
     ]
    },
    {
     "name": "stderr",
     "output_type": "stream",
     "text": [
      "/Users/michael_dennis/anaconda3/lib/python3.6/site-packages/matplotlib/cbook/deprecation.py:107: MatplotlibDeprecationWarning: Adding an axes using the same arguments as a previous axes currently reuses the earlier instance.  In a future version, a new instance will always be created and returned.  Meanwhile, this warning can be suppressed, and the future behavior ensured, by passing a unique label to each axes instance.\n",
      "  warnings.warn(message, mplDeprecation, stacklevel=1)\n",
      "/Users/michael_dennis/anaconda3/lib/python3.6/site-packages/matplotlib/cbook/deprecation.py:107: MatplotlibDeprecationWarning: Adding an axes using the same arguments as a previous axes currently reuses the earlier instance.  In a future version, a new instance will always be created and returned.  Meanwhile, this warning can be suppressed, and the future behavior ensured, by passing a unique label to each axes instance.\n",
      "  warnings.warn(message, mplDeprecation, stacklevel=1)\n"
     ]
    },
    {
     "data": {
      "image/png": "[encoded data removed]",
      "text/plain": [
       "<Figure size 288x288 with 1 Axes>"
      ]
     },
     "metadata": {},
     "output_type": "display_data"
    },
    {
     "name": "stdout",
     "output_type": "stream",
     "text": [
      "[39.36636552 40.54471132 40.54471132 39.36636552 42.        ]\n",
      "4\n",
      "[0.04459851 0.14490033 0.14490033 0.04459851 0.62100232]\n",
      "(8, 8) b'2'\n",
      "(8, 8) b'2'\n"
     ]
    },
    {
     "name": "stderr",
     "output_type": "stream",
     "text": [
      "/Users/michael_dennis/anaconda3/lib/python3.6/site-packages/matplotlib/cbook/deprecation.py:107: MatplotlibDeprecationWarning: Adding an axes using the same arguments as a previous axes currently reuses the earlier instance.  In a future version, a new instance will always be created and returned.  Meanwhile, this warning can be suppressed, and the future behavior ensured, by passing a unique label to each axes instance.\n",
      "  warnings.warn(message, mplDeprecation, stacklevel=1)\n",
      "/Users/michael_dennis/anaconda3/lib/python3.6/site-packages/matplotlib/cbook/deprecation.py:107: MatplotlibDeprecationWarning: Adding an axes using the same arguments as a previous axes currently reuses the earlier instance.  In a future version, a new instance will always be created and returned.  Meanwhile, this warning can be suppressed, and the future behavior ensured, by passing a unique label to each axes instance.\n",
      "  warnings.warn(message, mplDeprecation, stacklevel=1)\n"
     ]
    },
    {
     "data": {
      "image/png": "[encoded data removed]",
      "text/plain": [
       "<Figure size 288x288 with 1 Axes>"
      ]
     },
     "metadata": {},
     "output_type": "display_data"
    },
    {
     "name": "stdout",
     "output_type": "stream",
     "text": [
      "[39.36636552 40.54471132 40.54471132 39.36636552 42.        ]\n",
      "4\n",
      "[0.04459851 0.14490033 0.14490033 0.04459851 0.62100232]\n",
      "(8, 8) b'2'\n",
      "(8, 8) b'2'\n"
     ]
    },
    {
     "name": "stderr",
     "output_type": "stream",
     "text": [
      "/Users/michael_dennis/anaconda3/lib/python3.6/site-packages/matplotlib/cbook/deprecation.py:107: MatplotlibDeprecationWarning: Adding an axes using the same arguments as a previous axes currently reuses the earlier instance.  In a future version, a new instance will always be created and returned.  Meanwhile, this warning can be suppressed, and the future behavior ensured, by passing a unique label to each axes instance.\n",
      "  warnings.warn(message, mplDeprecation, stacklevel=1)\n",
      "/Users/michael_dennis/anaconda3/lib/python3.6/site-packages/matplotlib/cbook/deprecation.py:107: MatplotlibDeprecationWarning: Adding an axes using the same arguments as a previous axes currently reuses the earlier instance.  In a future version, a new instance will always be created and returned.  Meanwhile, this warning can be suppressed, and the future behavior ensured, by passing a unique label to each axes instance.\n",
      "  warnings.warn(message, mplDeprecation, stacklevel=1)\n"
     ]
    },
    {
     "data": {
      "image/png": "[encoded data removed]",
      "text/plain": [
       "<Figure size 288x288 with 1 Axes>"
      ]
     },
     "metadata": {},
     "output_type": "display_data"
    },
    {
     "name": "stdout",
     "output_type": "stream",
     "text": [
      "[39.36636552 40.54471132 40.54471132 39.36636552 42.        ]\n",
      "4\n",
      "[0.04459851 0.14490033 0.14490033 0.04459851 0.62100232]\n",
      "(8, 8) b'2'\n",
      "(8, 8) b'2'\n"
     ]
    },
    {
     "name": "stderr",
     "output_type": "stream",
     "text": [
      "/Users/michael_dennis/anaconda3/lib/python3.6/site-packages/matplotlib/cbook/deprecation.py:107: MatplotlibDeprecationWarning: Adding an axes using the same arguments as a previous axes currently reuses the earlier instance.  In a future version, a new instance will always be created and returned.  Meanwhile, this warning can be suppressed, and the future behavior ensured, by passing a unique label to each axes instance.\n",
      "  warnings.warn(message, mplDeprecation, stacklevel=1)\n",
      "/Users/michael_dennis/anaconda3/lib/python3.6/site-packages/matplotlib/cbook/deprecation.py:107: MatplotlibDeprecationWarning: Adding an axes using the same arguments as a previous axes currently reuses the earlier instance.  In a future version, a new instance will always be created and returned.  Meanwhile, this warning can be suppressed, and the future behavior ensured, by passing a unique label to each axes instance.\n",
      "  warnings.warn(message, mplDeprecation, stacklevel=1)\n"
     ]
    },
    {
     "data": {
      "image/png": "[encoded data removed]",
      "text/plain": [
       "<Figure size 288x288 with 1 Axes>"
      ]
     },
     "metadata": {},
     "output_type": "display_data"
    },
    {
     "name": "stdout",
     "output_type": "stream",
     "text": [
      "[39.36636552 40.54471132 40.54471132 39.36636552 42.        ]\n",
      "4\n",
      "[0.04459851 0.14490033 0.14490033 0.04459851 0.62100232]\n",
      "(8, 8) b'2'\n",
      "(8, 8) b'2'\n"
     ]
    },
    {
     "name": "stderr",
     "output_type": "stream",
     "text": [
      "/Users/michael_dennis/anaconda3/lib/python3.6/site-packages/matplotlib/cbook/deprecation.py:107: MatplotlibDeprecationWarning: Adding an axes using the same arguments as a previous axes currently reuses the earlier instance.  In a future version, a new instance will always be created and returned.  Meanwhile, this warning can be suppressed, and the future behavior ensured, by passing a unique label to each axes instance.\n",
      "  warnings.warn(message, mplDeprecation, stacklevel=1)\n",
      "/Users/michael_dennis/anaconda3/lib/python3.6/site-packages/matplotlib/cbook/deprecation.py:107: MatplotlibDeprecationWarning: Adding an axes using the same arguments as a previous axes currently reuses the earlier instance.  In a future version, a new instance will always be created and returned.  Meanwhile, this warning can be suppressed, and the future behavior ensured, by passing a unique label to each axes instance.\n",
      "  warnings.warn(message, mplDeprecation, stacklevel=1)\n"
     ]
    },
    {
     "data": {
      "image/png": "[encoded data removed]",
      "text/plain": [
       "<Figure size 288x288 with 1 Axes>"
      ]
     },
     "metadata": {},
     "output_type": "display_data"
    },
    {
     "name": "stdout",
     "output_type": "stream",
     "text": [
      "[39.36636552 40.54471132 40.54471132 39.36636552 42.        ]\n",
      "4\n",
      "[0.04459851 0.14490033 0.14490033 0.04459851 0.62100232]\n",
      "(8, 8) b'2'\n",
      "(8, 8) b'2'\n"
     ]
    },
    {
     "name": "stderr",
     "output_type": "stream",
     "text": [
      "/Users/michael_dennis/anaconda3/lib/python3.6/site-packages/matplotlib/cbook/deprecation.py:107: MatplotlibDeprecationWarning: Adding an axes using the same arguments as a previous axes currently reuses the earlier instance.  In a future version, a new instance will always be created and returned.  Meanwhile, this warning can be suppressed, and the future behavior ensured, by passing a unique label to each axes instance.\n",
      "  warnings.warn(message, mplDeprecation, stacklevel=1)\n",
      "/Users/michael_dennis/anaconda3/lib/python3.6/site-packages/matplotlib/cbook/deprecation.py:107: MatplotlibDeprecationWarning: Adding an axes using the same arguments as a previous axes currently reuses the earlier instance.  In a future version, a new instance will always be created and returned.  Meanwhile, this warning can be suppressed, and the future behavior ensured, by passing a unique label to each axes instance.\n",
      "  warnings.warn(message, mplDeprecation, stacklevel=1)\n"
     ]
    },
    {
     "data": {
      "image/png": "[encoded data removed]",
      "text/plain": [
       "<Figure size 288x288 with 1 Axes>"
      ]
     },
     "metadata": {},
     "output_type": "display_data"
    },
    {
     "name": "stdout",
     "output_type": "stream",
     "text": [
      "[39.36636552 40.54471132 40.54471132 39.36636552 42.        ]\n",
      "4\n",
      "[0.04459851 0.14490033 0.14490033 0.04459851 0.62100232]\n",
      "(8, 8) b'2'\n",
      "(8, 8) b'2'\n"
     ]
    },
    {
     "name": "stderr",
     "output_type": "stream",
     "text": [
      "/Users/michael_dennis/anaconda3/lib/python3.6/site-packages/matplotlib/cbook/deprecation.py:107: MatplotlibDeprecationWarning: Adding an axes using the same arguments as a previous axes currently reuses the earlier instance.  In a future version, a new instance will always be created and returned.  Meanwhile, this warning can be suppressed, and the future behavior ensured, by passing a unique label to each axes instance.\n",
      "  warnings.warn(message, mplDeprecation, stacklevel=1)\n",
      "/Users/michael_dennis/anaconda3/lib/python3.6/site-packages/matplotlib/cbook/deprecation.py:107: MatplotlibDeprecationWarning: Adding an axes using the same arguments as a previous axes currently reuses the earlier instance.  In a future version, a new instance will always be created and returned.  Meanwhile, this warning can be suppressed, and the future behavior ensured, by passing a unique label to each axes instance.\n",
      "  warnings.warn(message, mplDeprecation, stacklevel=1)\n"
     ]
    },
    {
     "data": {
      "image/png": "[encoded data removed]",
      "text/plain": [
       "<Figure size 288x288 with 1 Axes>"
      ]
     },
     "metadata": {},
     "output_type": "display_data"
    },
    {
     "name": "stdout",
     "output_type": "stream",
     "text": [
      "[39.36636552 40.54471132 40.54471132 39.36636552 42.        ]\n",
      "4\n",
      "[0.04459851 0.14490033 0.14490033 0.04459851 0.62100232]\n",
      "(8, 8) b'2'\n",
      "(8, 8) b'2'\n"
     ]
    },
    {
     "name": "stderr",
     "output_type": "stream",
     "text": [
      "/Users/michael_dennis/anaconda3/lib/python3.6/site-packages/matplotlib/cbook/deprecation.py:107: MatplotlibDeprecationWarning: Adding an axes using the same arguments as a previous axes currently reuses the earlier instance.  In a future version, a new instance will always be created and returned.  Meanwhile, this warning can be suppressed, and the future behavior ensured, by passing a unique label to each axes instance.\n",
      "  warnings.warn(message, mplDeprecation, stacklevel=1)\n",
      "/Users/michael_dennis/anaconda3/lib/python3.6/site-packages/matplotlib/cbook/deprecation.py:107: MatplotlibDeprecationWarning: Adding an axes using the same arguments as a previous axes currently reuses the earlier instance.  In a future version, a new instance will always be created and returned.  Meanwhile, this warning can be suppressed, and the future behavior ensured, by passing a unique label to each axes instance.\n",
      "  warnings.warn(message, mplDeprecation, stacklevel=1)\n"
     ]
    },
    {
     "data": {
      "image/png": "[encoded data removed]",
      "text/plain": [
       "<Figure size 288x288 with 1 Axes>"
      ]
     },
     "metadata": {},
     "output_type": "display_data"
    },
    {
     "name": "stdout",
     "output_type": "stream",
     "text": [
      "[39.36636552 40.54471132 40.54471132 39.36636552 42.        ]\n",
      "4\n",
      "[0.04459851 0.14490033 0.14490033 0.04459851 0.62100232]\n",
      "(8, 8) b'2'\n",
      "(8, 8) b'2'\n"
     ]
    },
    {
     "name": "stderr",
     "output_type": "stream",
     "text": [
      "/Users/michael_dennis/anaconda3/lib/python3.6/site-packages/matplotlib/cbook/deprecation.py:107: MatplotlibDeprecationWarning: Adding an axes using the same arguments as a previous axes currently reuses the earlier instance.  In a future version, a new instance will always be created and returned.  Meanwhile, this warning can be suppressed, and the future behavior ensured, by passing a unique label to each axes instance.\n",
      "  warnings.warn(message, mplDeprecation, stacklevel=1)\n",
      "/Users/michael_dennis/anaconda3/lib/python3.6/site-packages/matplotlib/cbook/deprecation.py:107: MatplotlibDeprecationWarning: Adding an axes using the same arguments as a previous axes currently reuses the earlier instance.  In a future version, a new instance will always be created and returned.  Meanwhile, this warning can be suppressed, and the future behavior ensured, by passing a unique label to each axes instance.\n",
      "  warnings.warn(message, mplDeprecation, stacklevel=1)\n"
     ]
    },
    {
     "data": {
      "image/png": "[encoded data removed]",
      "text/plain": [
       "<Figure size 288x288 with 1 Axes>"
      ]
     },
     "metadata": {},
     "output_type": "display_data"
    },
    {
     "name": "stdout",
     "output_type": "stream",
     "text": [
      "[39.36636552 40.54471132 40.54471132 39.36636552 42.        ]\n",
      "4\n",
      "[0.04459851 0.14490033 0.14490033 0.04459851 0.62100232]\n",
      "(8, 8) b'2'\n",
      "(8, 8) b'2'\n"
     ]
    },
    {
     "name": "stderr",
     "output_type": "stream",
     "text": [
      "/Users/michael_dennis/anaconda3/lib/python3.6/site-packages/matplotlib/cbook/deprecation.py:107: MatplotlibDeprecationWarning: Adding an axes using the same arguments as a previous axes currently reuses the earlier instance.  In a future version, a new instance will always be created and returned.  Meanwhile, this warning can be suppressed, and the future behavior ensured, by passing a unique label to each axes instance.\n",
      "  warnings.warn(message, mplDeprecation, stacklevel=1)\n",
      "/Users/michael_dennis/anaconda3/lib/python3.6/site-packages/matplotlib/cbook/deprecation.py:107: MatplotlibDeprecationWarning: Adding an axes using the same arguments as a previous axes currently reuses the earlier instance.  In a future version, a new instance will always be created and returned.  Meanwhile, this warning can be suppressed, and the future behavior ensured, by passing a unique label to each axes instance.\n",
      "  warnings.warn(message, mplDeprecation, stacklevel=1)\n"
     ]
    },
    {
     "data": {
      "image/png": "[encoded data removed]",
      "text/plain": [
       "<Figure size 288x288 with 1 Axes>"
      ]
     },
     "metadata": {},
     "output_type": "display_data"
    },
    {
     "name": "stdout",
     "output_type": "stream",
     "text": [
      "[39.36636552 40.54471132 40.54471132 39.36636552 42.        ]\n",
      "4\n",
      "[0.04459851 0.14490033 0.14490033 0.04459851 0.62100232]\n",
      "(8, 8) b'2'\n",
      "(8, 8) b'2'\n"
     ]
    },
    {
     "name": "stderr",
     "output_type": "stream",
     "text": [
      "/Users/michael_dennis/anaconda3/lib/python3.6/site-packages/matplotlib/cbook/deprecation.py:107: MatplotlibDeprecationWarning: Adding an axes using the same arguments as a previous axes currently reuses the earlier instance.  In a future version, a new instance will always be created and returned.  Meanwhile, this warning can be suppressed, and the future behavior ensured, by passing a unique label to each axes instance.\n",
      "  warnings.warn(message, mplDeprecation, stacklevel=1)\n",
      "/Users/michael_dennis/anaconda3/lib/python3.6/site-packages/matplotlib/cbook/deprecation.py:107: MatplotlibDeprecationWarning: Adding an axes using the same arguments as a previous axes currently reuses the earlier instance.  In a future version, a new instance will always be created and returned.  Meanwhile, this warning can be suppressed, and the future behavior ensured, by passing a unique label to each axes instance.\n",
      "  warnings.warn(message, mplDeprecation, stacklevel=1)\n"
     ]
    },
    {
     "data": {
      "image/png": "[encoded data removed]",
      "text/plain": [
       "<Figure size 288x288 with 1 Axes>"
      ]
     },
     "metadata": {},
     "output_type": "display_data"
    },
    {
     "name": "stdout",
     "output_type": "stream",
     "text": [
      "[39.36636552 40.54471132 40.54471132 39.36636552 42.        ]\n",
      "4\n",
      "[0.04459851 0.14490033 0.14490033 0.04459851 0.62100232]\n",
      "(8, 8) b'2'\n",
      "(8, 8) b'2'\n"
     ]
    },
    {
     "name": "stderr",
     "output_type": "stream",
     "text": [
      "/Users/michael_dennis/anaconda3/lib/python3.6/site-packages/matplotlib/cbook/deprecation.py:107: MatplotlibDeprecationWarning: Adding an axes using the same arguments as a previous axes currently reuses the earlier instance.  In a future version, a new instance will always be created and returned.  Meanwhile, this warning can be suppressed, and the future behavior ensured, by passing a unique label to each axes instance.\n",
      "  warnings.warn(message, mplDeprecation, stacklevel=1)\n",
      "/Users/michael_dennis/anaconda3/lib/python3.6/site-packages/matplotlib/cbook/deprecation.py:107: MatplotlibDeprecationWarning: Adding an axes using the same arguments as a previous axes currently reuses the earlier instance.  In a future version, a new instance will always be created and returned.  Meanwhile, this warning can be suppressed, and the future behavior ensured, by passing a unique label to each axes instance.\n",
      "  warnings.warn(message, mplDeprecation, stacklevel=1)\n"
     ]
    },
    {
     "data": {
      "image/png": "[encoded data removed]",
      "text/plain": [
       "<Figure size 288x288 with 1 Axes>"
      ]
     },
     "metadata": {},
     "output_type": "display_data"
    },
    {
     "name": "stdout",
     "output_type": "stream",
     "text": [
      "[39.36636552 40.54471132 40.54471132 39.36636552 42.        ]\n",
      "4\n",
      "[0.04459851 0.14490033 0.14490033 0.04459851 0.62100232]\n",
      "(8, 8) b'2'\n",
      "(8, 8) b'2'\n"
     ]
    },
    {
     "name": "stderr",
     "output_type": "stream",
     "text": [
      "/Users/michael_dennis/anaconda3/lib/python3.6/site-packages/matplotlib/cbook/deprecation.py:107: MatplotlibDeprecationWarning: Adding an axes using the same arguments as a previous axes currently reuses the earlier instance.  In a future version, a new instance will always be created and returned.  Meanwhile, this warning can be suppressed, and the future behavior ensured, by passing a unique label to each axes instance.\n",
      "  warnings.warn(message, mplDeprecation, stacklevel=1)\n",
      "/Users/michael_dennis/anaconda3/lib/python3.6/site-packages/matplotlib/cbook/deprecation.py:107: MatplotlibDeprecationWarning: Adding an axes using the same arguments as a previous axes currently reuses the earlier instance.  In a future version, a new instance will always be created and returned.  Meanwhile, this warning can be suppressed, and the future behavior ensured, by passing a unique label to each axes instance.\n",
      "  warnings.warn(message, mplDeprecation, stacklevel=1)\n"
     ]
    },
    {
     "data": {
      "image/png": "[encoded data removed]",
      "text/plain": [
       "<Figure size 288x288 with 1 Axes>"
      ]
     },
     "metadata": {},
     "output_type": "display_data"
    },
    {
     "name": "stdout",
     "output_type": "stream",
     "text": [
      "[39.36636552 40.54471132 40.54471132 39.36636552 42.        ]\n",
      "4\n",
      "[0.04459851 0.14490033 0.14490033 0.04459851 0.62100232]\n",
      "(8, 8) b'2'\n",
      "(8, 8) b'2'\n"
     ]
    },
    {
     "name": "stderr",
     "output_type": "stream",
     "text": [
      "/Users/michael_dennis/anaconda3/lib/python3.6/site-packages/matplotlib/cbook/deprecation.py:107: MatplotlibDeprecationWarning: Adding an axes using the same arguments as a previous axes currently reuses the earlier instance.  In a future version, a new instance will always be created and returned.  Meanwhile, this warning can be suppressed, and the future behavior ensured, by passing a unique label to each axes instance.\n",
      "  warnings.warn(message, mplDeprecation, stacklevel=1)\n",
      "/Users/michael_dennis/anaconda3/lib/python3.6/site-packages/matplotlib/cbook/deprecation.py:107: MatplotlibDeprecationWarning: Adding an axes using the same arguments as a previous axes currently reuses the earlier instance.  In a future version, a new instance will always be created and returned.  Meanwhile, this warning can be suppressed, and the future behavior ensured, by passing a unique label to each axes instance.\n",
      "  warnings.warn(message, mplDeprecation, stacklevel=1)\n"
     ]
    },
    {
     "data": {
      "image/png": "[encoded data removed]",
      "text/plain": [
       "<Figure size 288x288 with 1 Axes>"
      ]
     },
     "metadata": {},
     "output_type": "display_data"
    },
    {
     "name": "stdout",
     "output_type": "stream",
     "text": [
      "[39.36636552 40.54471132 40.54471132 39.36636552 42.        ]\n",
      "4\n",
      "[0.04459851 0.14490033 0.14490033 0.04459851 0.62100232]\n",
      "(8, 8) b'2'\n",
      "(8, 8) b'2'\n"
     ]
    },
    {
     "name": "stderr",
     "output_type": "stream",
     "text": [
      "/Users/michael_dennis/anaconda3/lib/python3.6/site-packages/matplotlib/cbook/deprecation.py:107: MatplotlibDeprecationWarning: Adding an axes using the same arguments as a previous axes currently reuses the earlier instance.  In a future version, a new instance will always be created and returned.  Meanwhile, this warning can be suppressed, and the future behavior ensured, by passing a unique label to each axes instance.\n",
      "  warnings.warn(message, mplDeprecation, stacklevel=1)\n",
      "/Users/michael_dennis/anaconda3/lib/python3.6/site-packages/matplotlib/cbook/deprecation.py:107: MatplotlibDeprecationWarning: Adding an axes using the same arguments as a previous axes currently reuses the earlier instance.  In a future version, a new instance will always be created and returned.  Meanwhile, this warning can be suppressed, and the future behavior ensured, by passing a unique label to each axes instance.\n",
      "  warnings.warn(message, mplDeprecation, stacklevel=1)\n"
     ]
    },
    {
     "data": {
      "image/png": "[encoded data removed]",
      "text/plain": [
       "<Figure size 288x288 with 1 Axes>"
      ]
     },
     "metadata": {},
     "output_type": "display_data"
    },
    {
     "name": "stdout",
     "output_type": "stream",
     "text": [
      "[39.36636552 40.54471132 40.54471132 39.36636552 42.        ]\n",
      "4\n",
      "[0.04459851 0.14490033 0.14490033 0.04459851 0.62100232]\n",
      "(8, 8) b'2'\n",
      "(8, 8) b'2'\n"
     ]
    },
    {
     "name": "stderr",
     "output_type": "stream",
     "text": [
      "/Users/michael_dennis/anaconda3/lib/python3.6/site-packages/matplotlib/cbook/deprecation.py:107: MatplotlibDeprecationWarning: Adding an axes using the same arguments as a previous axes currently reuses the earlier instance.  In a future version, a new instance will always be created and returned.  Meanwhile, this warning can be suppressed, and the future behavior ensured, by passing a unique label to each axes instance.\n",
      "  warnings.warn(message, mplDeprecation, stacklevel=1)\n",
      "/Users/michael_dennis/anaconda3/lib/python3.6/site-packages/matplotlib/cbook/deprecation.py:107: MatplotlibDeprecationWarning: Adding an axes using the same arguments as a previous axes currently reuses the earlier instance.  In a future version, a new instance will always be created and returned.  Meanwhile, this warning can be suppressed, and the future behavior ensured, by passing a unique label to each axes instance.\n",
      "  warnings.warn(message, mplDeprecation, stacklevel=1)\n"
     ]
    },
    {
     "data": {
      "image/png": "[encoded data removed]",
      "text/plain": [
       "<Figure size 288x288 with 1 Axes>"
      ]
     },
     "metadata": {},
     "output_type": "display_data"
    },
    {
     "name": "stdout",
     "output_type": "stream",
     "text": [
      "[39.36636552 40.54471132 40.54471132 39.36636552 42.        ]\n",
      "4\n",
      "[0.04459851 0.14490033 0.14490033 0.04459851 0.62100232]\n",
      "(8, 8) b'2'\n",
      "(8, 8) b'2'\n"
     ]
    },
    {
     "name": "stderr",
     "output_type": "stream",
     "text": [
      "/Users/michael_dennis/anaconda3/lib/python3.6/site-packages/matplotlib/cbook/deprecation.py:107: MatplotlibDeprecationWarning: Adding an axes using the same arguments as a previous axes currently reuses the earlier instance.  In a future version, a new instance will always be created and returned.  Meanwhile, this warning can be suppressed, and the future behavior ensured, by passing a unique label to each axes instance.\n",
      "  warnings.warn(message, mplDeprecation, stacklevel=1)\n",
      "/Users/michael_dennis/anaconda3/lib/python3.6/site-packages/matplotlib/cbook/deprecation.py:107: MatplotlibDeprecationWarning: Adding an axes using the same arguments as a previous axes currently reuses the earlier instance.  In a future version, a new instance will always be created and returned.  Meanwhile, this warning can be suppressed, and the future behavior ensured, by passing a unique label to each axes instance.\n",
      "  warnings.warn(message, mplDeprecation, stacklevel=1)\n"
     ]
    },
    {
     "data": {
      "image/png": "[encoded data removed]",
      "text/plain": [
       "<Figure size 288x288 with 1 Axes>"
      ]
     },
     "metadata": {},
     "output_type": "display_data"
    },
    {
     "name": "stdout",
     "output_type": "stream",
     "text": [
      "[39.36636552 40.54471132 40.54471132 39.36636552 42.        ]\n",
      "4\n",
      "[0.04459851 0.14490033 0.14490033 0.04459851 0.62100232]\n",
      "(8, 8) b'2'\n",
      "(8, 8) b'2'\n"
     ]
    },
    {
     "name": "stderr",
     "output_type": "stream",
     "text": [
      "/Users/michael_dennis/anaconda3/lib/python3.6/site-packages/matplotlib/cbook/deprecation.py:107: MatplotlibDeprecationWarning: Adding an axes using the same arguments as a previous axes currently reuses the earlier instance.  In a future version, a new instance will always be created and returned.  Meanwhile, this warning can be suppressed, and the future behavior ensured, by passing a unique label to each axes instance.\n",
      "  warnings.warn(message, mplDeprecation, stacklevel=1)\n",
      "/Users/michael_dennis/anaconda3/lib/python3.6/site-packages/matplotlib/cbook/deprecation.py:107: MatplotlibDeprecationWarning: Adding an axes using the same arguments as a previous axes currently reuses the earlier instance.  In a future version, a new instance will always be created and returned.  Meanwhile, this warning can be suppressed, and the future behavior ensured, by passing a unique label to each axes instance.\n",
      "  warnings.warn(message, mplDeprecation, stacklevel=1)\n"
     ]
    },
    {
     "data": {
      "image/png": "[encoded data removed]",
      "text/plain": [
       "<Figure size 288x288 with 1 Axes>"
      ]
     },
     "metadata": {},
     "output_type": "display_data"
    },
    {
     "name": "stdout",
     "output_type": "stream",
     "text": [
      "[39.36636552 40.54471132 40.54471132 39.36636552 42.        ]\n",
      "4\n",
      "[0.04459851 0.14490033 0.14490033 0.04459851 0.62100232]\n",
      "(8, 8) b'2'\n",
      "(8, 8) b'2'\n"
     ]
    },
    {
     "name": "stderr",
     "output_type": "stream",
     "text": [
      "/Users/michael_dennis/anaconda3/lib/python3.6/site-packages/matplotlib/cbook/deprecation.py:107: MatplotlibDeprecationWarning: Adding an axes using the same arguments as a previous axes currently reuses the earlier instance.  In a future version, a new instance will always be created and returned.  Meanwhile, this warning can be suppressed, and the future behavior ensured, by passing a unique label to each axes instance.\n",
      "  warnings.warn(message, mplDeprecation, stacklevel=1)\n",
      "/Users/michael_dennis/anaconda3/lib/python3.6/site-packages/matplotlib/cbook/deprecation.py:107: MatplotlibDeprecationWarning: Adding an axes using the same arguments as a previous axes currently reuses the earlier instance.  In a future version, a new instance will always be created and returned.  Meanwhile, this warning can be suppressed, and the future behavior ensured, by passing a unique label to each axes instance.\n",
      "  warnings.warn(message, mplDeprecation, stacklevel=1)\n"
     ]
    },
    {
     "data": {
      "image/png": "[encoded data removed]",
      "text/plain": [
       "<Figure size 288x288 with 1 Axes>"
      ]
     },
     "metadata": {},
     "output_type": "display_data"
    },
    {
     "name": "stdout",
     "output_type": "stream",
     "text": [
      "[39.36636552 40.54471132 40.54471132 39.36636552 42.        ]\n",
      "4\n",
      "[0.04459851 0.14490033 0.14490033 0.04459851 0.62100232]\n",
      "(8, 8) b'2'\n",
      "(8, 8) b'2'\n"
     ]
    },
    {
     "name": "stderr",
     "output_type": "stream",
     "text": [
      "/Users/michael_dennis/anaconda3/lib/python3.6/site-packages/matplotlib/cbook/deprecation.py:107: MatplotlibDeprecationWarning: Adding an axes using the same arguments as a previous axes currently reuses the earlier instance.  In a future version, a new instance will always be created and returned.  Meanwhile, this warning can be suppressed, and the future behavior ensured, by passing a unique label to each axes instance.\n",
      "  warnings.warn(message, mplDeprecation, stacklevel=1)\n",
      "/Users/michael_dennis/anaconda3/lib/python3.6/site-packages/matplotlib/cbook/deprecation.py:107: MatplotlibDeprecationWarning: Adding an axes using the same arguments as a previous axes currently reuses the earlier instance.  In a future version, a new instance will always be created and returned.  Meanwhile, this warning can be suppressed, and the future behavior ensured, by passing a unique label to each axes instance.\n",
      "  warnings.warn(message, mplDeprecation, stacklevel=1)\n"
     ]
    },
    {
     "data": {
      "image/png": "[encoded data removed]",
      "text/plain": [
       "<Figure size 288x288 with 1 Axes>"
      ]
     },
     "metadata": {},
     "output_type": "display_data"
    },
    {
     "name": "stdout",
     "output_type": "stream",
     "text": [
      "[39.36636552 40.54471132 40.54471132 39.36636552 42.        ]\n",
      "4\n",
      "[0.04459851 0.14490033 0.14490033 0.04459851 0.62100232]\n",
      "(8, 8) b'2'\n",
      "(8, 8) b'2'\n"
     ]
    },
    {
     "name": "stderr",
     "output_type": "stream",
     "text": [
      "/Users/michael_dennis/anaconda3/lib/python3.6/site-packages/matplotlib/cbook/deprecation.py:107: MatplotlibDeprecationWarning: Adding an axes using the same arguments as a previous axes currently reuses the earlier instance.  In a future version, a new instance will always be created and returned.  Meanwhile, this warning can be suppressed, and the future behavior ensured, by passing a unique label to each axes instance.\n",
      "  warnings.warn(message, mplDeprecation, stacklevel=1)\n",
      "/Users/michael_dennis/anaconda3/lib/python3.6/site-packages/matplotlib/cbook/deprecation.py:107: MatplotlibDeprecationWarning: Adding an axes using the same arguments as a previous axes currently reuses the earlier instance.  In a future version, a new instance will always be created and returned.  Meanwhile, this warning can be suppressed, and the future behavior ensured, by passing a unique label to each axes instance.\n",
      "  warnings.warn(message, mplDeprecation, stacklevel=1)\n"
     ]
    },
    {
     "data": {
      "image/png": "[encoded data removed]",
      "text/plain": [
       "<Figure size 288x288 with 1 Axes>"
      ]
     },
     "metadata": {},
     "output_type": "display_data"
    },
    {
     "name": "stdout",
     "output_type": "stream",
     "text": [
      "[39.36636552 40.54471132 40.54471132 39.36636552 42.        ]\n",
      "4\n",
      "[0.04459851 0.14490033 0.14490033 0.04459851 0.62100232]\n",
      "(8, 8) b'2'\n",
      "(8, 8) b'2'\n"
     ]
    },
    {
     "name": "stderr",
     "output_type": "stream",
     "text": [
      "/Users/michael_dennis/anaconda3/lib/python3.6/site-packages/matplotlib/cbook/deprecation.py:107: MatplotlibDeprecationWarning: Adding an axes using the same arguments as a previous axes currently reuses the earlier instance.  In a future version, a new instance will always be created and returned.  Meanwhile, this warning can be suppressed, and the future behavior ensured, by passing a unique label to each axes instance.\n",
      "  warnings.warn(message, mplDeprecation, stacklevel=1)\n",
      "/Users/michael_dennis/anaconda3/lib/python3.6/site-packages/matplotlib/cbook/deprecation.py:107: MatplotlibDeprecationWarning: Adding an axes using the same arguments as a previous axes currently reuses the earlier instance.  In a future version, a new instance will always be created and returned.  Meanwhile, this warning can be suppressed, and the future behavior ensured, by passing a unique label to each axes instance.\n",
      "  warnings.warn(message, mplDeprecation, stacklevel=1)\n"
     ]
    },
    {
     "data": {
      "image/png": "[encoded data removed]",
      "text/plain": [
       "<Figure size 288x288 with 1 Axes>"
      ]
     },
     "metadata": {},
     "output_type": "display_data"
    },
    {
     "name": "stdout",
     "output_type": "stream",
     "text": [
      "[39.36636552 40.54471132 40.54471132 39.36636552 42.        ]\n",
      "4\n",
      "[0.04459851 0.14490033 0.14490033 0.04459851 0.62100232]\n",
      "(8, 8) b'2'\n",
      "(8, 8) b'2'\n"
     ]
    },
    {
     "name": "stderr",
     "output_type": "stream",
     "text": [
      "/Users/michael_dennis/anaconda3/lib/python3.6/site-packages/matplotlib/cbook/deprecation.py:107: MatplotlibDeprecationWarning: Adding an axes using the same arguments as a previous axes currently reuses the earlier instance.  In a future version, a new instance will always be created and returned.  Meanwhile, this warning can be suppressed, and the future behavior ensured, by passing a unique label to each axes instance.\n",
      "  warnings.warn(message, mplDeprecation, stacklevel=1)\n",
      "/Users/michael_dennis/anaconda3/lib/python3.6/site-packages/matplotlib/cbook/deprecation.py:107: MatplotlibDeprecationWarning: Adding an axes using the same arguments as a previous axes currently reuses the earlier instance.  In a future version, a new instance will always be created and returned.  Meanwhile, this warning can be suppressed, and the future behavior ensured, by passing a unique label to each axes instance.\n",
      "  warnings.warn(message, mplDeprecation, stacklevel=1)\n"
     ]
    },
    {
     "data": {
      "image/png": "[encoded data removed]",
      "text/plain": [
       "<Figure size 288x288 with 1 Axes>"
      ]
     },
     "metadata": {},
     "output_type": "display_data"
    },
    {
     "name": "stdout",
     "output_type": "stream",
     "text": [
      "[39.36636552 40.54471132 40.54471132 39.36636552 42.        ]\n",
      "4\n",
      "[0.04459851 0.14490033 0.14490033 0.04459851 0.62100232]\n",
      "(8, 8) b'2'\n",
      "(8, 8) b'2'\n"
     ]
    }
   ],
   "source": [
    "Q = tabsoftq_learn_Qs(mdp)\n",
    "plot_mars(mdp,tabsoftq_gen_pol(Q*50),Qs=Q)\n"
   ]
  },
  {
   "cell_type": "markdown",
   "metadata": {},
   "source": [
    "# Model Set Up"
   ]
  },
  {
   "cell_type": "code",
   "execution_count": 17,
   "metadata": {},
   "outputs": [],
   "source": [
    "train_demo_example_idxes = None\n",
    "val_demo_example_idxes = None\n",
    "\n",
    "gamma = 0.99\n",
    "iterations = 100000\n",
    "alpha = 1e-4\n",
    "beta1 = 0.9\n",
    "beta2 = 0.999999\n",
    "batch_size = 512\n",
    "sq_td_err_penalty = 1\n",
    "trans_penalty = 1\n",
    "t_err_penalty = 1e0\n",
    "q_err_penalty = 1e0\n",
    "\n",
    "\n",
    "q_n_layers = 2\n",
    "q_layer_size = 2048\n",
    "q_activation = tf.nn.tanh\n",
    "q_output_activation = None\n",
    "\n",
    "invdyn_n_layers = 1\n",
    "invdyn_layer_size = 256\n",
    "invdyn_activation = tf.nn.relu\n",
    "invdyn_output_activation = None\n",
    "\n",
    "\n",
    "constraint_sampling_freq = 100000\n",
    "constraint_batch_size = batch_size\n",
    "n_constraint_rollouts_per_env = 100\n",
    "\n",
    "val_update_freq = 1"
   ]
  },
  {
   "cell_type": "code",
   "execution_count": 18,
   "metadata": {},
   "outputs": [],
   "source": [
    "n_obs_feats = mdp.nrow + mdp.ncol\n",
    "n_act_dim = 5\n",
    "\n",
    "gridify_states = lambda states: np.array([mdp.s_to_grid(state) for state in states])\n",
    "\n",
    "def featurize_states(states):\n",
    "    grid_points = gridify_states(states)\n",
    "    row_one_hots, col_one_hots = np.eye(mdp.nrow), np.eye(mdp.ncol)\n",
    "    return np.array([np.concatenate((row_one_hots[gp[0]], col_one_hots[gp[1]])) for gp in grid_points])\n",
    "    \n",
    "\n",
    "featurize_acts = lambda a: a\n",
    "n_dirs = 5"
   ]
  },
  {
   "cell_type": "code",
   "execution_count": 19,
   "metadata": {},
   "outputs": [],
   "source": [
    "def build_mlp(\n",
    "    input_placeholder,\n",
    "    output_size,\n",
    "    scope,\n",
    "    n_layers=1,\n",
    "    size=256,\n",
    "    activation=tf.nn.relu,\n",
    "    output_activation=None,\n",
    "    reuse=False\n",
    "      ):\n",
    "    out = tf.cast(input_placeholder, tf.float32)\n",
    "    with tf.variable_scope(scope, reuse=reuse):\n",
    "        for _ in range(n_layers):\n",
    "            out = tf.layers.dense(out, size, activation=activation)\n",
    "        out = tf.layers.dense(out, output_size, activation=output_activation)\n",
    "    return out"
   ]
  },
  {
   "cell_type": "code",
   "execution_count": 20,
   "metadata": {},
   "outputs": [],
   "source": [
    "def nn_vectorize_rollouts(sas_obs, adt_obs):\n",
    "    states, acts, next_states = zip(*sas_obs)\n",
    "    _, dirs, tiles = zip(*adt_obs)\n",
    "    states_feats = featurize_states(states)\n",
    "    states = np.expand_dims(np.array(states), axis=1)\n",
    "    actions = np.expand_dims(np.array(acts), axis=1)\n",
    "    next_states_feats = featurize_states(next_states)\n",
    "    next_states = np.expand_dims(np.array(next_states), axis=1)\n",
    "    dirs = np.expand_dims(np.array(dirs), axis=1)\n",
    "    tiles = np.expand_dims(np.array(tiles), axis=1)\n",
    "    return (states, states_feats, actions, next_states, next_states_feats, dirs, tiles)\n",
    "\n",
    "def get_rollout_indexes(sas_obs):\n",
    "    demo_example_idxes = list(range(len(sas_obs)))\n",
    "    random.shuffle(demo_example_idxes)\n",
    "    n_train_demo_examples = int(0.9 * len(demo_example_idxes))\n",
    "    train_demo_example_idxes = demo_example_idxes[:n_train_demo_examples]\n",
    "    val_demo_example_idxes = demo_example_idxes[n_train_demo_examples:]\n",
    "    return (train_demo_example_idxes, val_demo_example_idxes)\n",
    "\n",
    "def sample_batch(rollouts, indexes, size=None):\n",
    "    idxes = random.sample(indexes, size) if size is not None else indexes\n",
    "    demo_batch = [comp[idxes] for comp in rollouts]\n",
    "    return demo_batch\n",
    "\n",
    "def generate_constraints(mdp):\n",
    "    #TODO remove reliance on global state\n",
    "    s = np.arange(mdp.num_states)\n",
    "    a = np.arange(mdp.num_actions) \n",
    "    sa = np.transpose([np.tile(s, len(a)), np.repeat(a, len(s))])\n",
    "    states, acts = sa[:,0], sa[:,1]\n",
    "    feat_states = featurize_states(states)\n",
    "    grid_states = gridify_states(states)\n",
    "    tiles = np.expand_dims(np.array([mdp.get_tile_type(s) for s in states]), axis=1)\n",
    "    acts_array = np.expand_dims(acts,axis=1)\n",
    "    rewards = np.array([mdp.get_reward(states[i], acts[i]) for i in range(len(states))])\n",
    "    sprimes = mdp.get_possible_sprimes(states)\n",
    "    sps = sprimes.shape\n",
    "    feat_next_states = featurize_states(sprimes.reshape((sps[0]*sps[1]))).reshape((sps[0],sps[1], n_obs_feats))\n",
    "\n",
    "    return feat_states, acts_array, rewards, feat_next_states, tiles"
   ]
  },
  {
   "cell_type": "code",
   "execution_count": 21,
   "metadata": {},
   "outputs": [],
   "source": [
    "###### UNCOMMENT WHEN FIRST RUNNING THIS NOTEBOOK #######\n",
    "\n",
    "# im_scope =  str(uuid.uuid4())\n",
    "# q_scope = str(uuid.uuid4())\n",
    "# invsas_scope = str(uuid.uuid4())\n",
    "# invadt_scope = str(uuid.uuid4())\n",
    "\n",
    "# with open(os.path.join(data_dir, 'im_scope.pkl'), 'wb') as f:\n",
    "#     pkl.dump(im_scope, f)\n",
    "\n",
    "# with open(os.path.join(data_dir, 'q_scope.pkl'), 'wb') as f:\n",
    "#     pkl.dump(q_scope, f)\n",
    "\n",
    "# with open(os.path.join(data_dir, 'invsas_scope.pkl'), 'wb') as f:\n",
    "#     pkl.dump(invsas_scope, f)\n",
    "    \n",
    "# with open(os.path.join(data_dir, 'invadt_scope.pkl'), 'wb') as f:\n",
    "#     pkl.dump(invadt_scope, f)"
   ]
  },
  {
   "cell_type": "code",
   "execution_count": 22,
   "metadata": {},
   "outputs": [],
   "source": [
    "with open(os.path.join(data_dir, 'im_scope.pkl'), 'rb') as f:\n",
    "    im_scope = pkl.load(f)\n",
    "\n",
    "with open(os.path.join(data_dir, 'q_scope.pkl'), 'rb') as f:\n",
    "    q_scope = pkl.load(f)\n",
    "\n",
    "with open(os.path.join(data_dir, 'invsas_scope.pkl'), 'rb') as f:\n",
    "    invsas_scope = pkl.load(f)\n",
    "    \n",
    "with open(os.path.join(data_dir, 'invadt_scope.pkl'), 'rb') as f:\n",
    "    invadt_scope = pkl.load(f)"
   ]
  },
  {
   "cell_type": "code",
   "execution_count": 23,
   "metadata": {},
   "outputs": [],
   "source": [
    "sess = tf.Session()"
   ]
  },
  {
   "cell_type": "code",
   "execution_count": 24,
   "metadata": {},
   "outputs": [],
   "source": [
    "# Demo placeholders are for the action-likelihood and transition-likelihood portions of the loss\n",
    "# Constraint placeholders are for the bellman-residual penalty\n",
    "\n",
    "demo_obs_t_ph = tf.placeholder(tf.int32, [None,1], name=\"dot\")\n",
    "demo_tile_t_ph = tf.placeholder(tf.int32, [None, 1], name=\"dtt\")\n",
    "demo_act_t_ph = tf.placeholder(tf.int32, [None, 1], name=\"dat\")\n",
    "demo_next_obs_t_ph = tf.placeholder(tf.int32, [None,1], name=\"dnot\")\n",
    "demo_obs_t_feats_ph = tf.placeholder(tf.int32, [None, n_obs_feats], name=\"dotf\")\n",
    "demo_next_obs_t_feats_ph = tf.placeholder(tf.int32, [None, n_obs_feats], name=\"dnotf\")\n",
    "demo_dir_t_ph = tf.placeholder(tf.int32, [None, 1], name=\"ddt\")\n",
    "demo_batch_size_ph = tf.placeholder(tf.int32, name=\"dbs\")\n",
    "\n",
    "constraint_obs_t_ph = tf.placeholder(tf.int32, [None,1], name=\"cot\")\n",
    "constraint_tile_t_ph = tf.placeholder(tf.int32, [None, 1], name=\"ctt\")\n",
    "constraint_obs_t_feats_ph = tf.placeholder(tf.int32, [None, n_obs_feats], name=\"cotf\")\n",
    "constraint_act_t_ph = tf.placeholder(tf.int32, [None, 1], name=\"cat\")\n",
    "constraint_rew_t_ph = tf.placeholder(tf.float32, [None], name=\"crt\")\n",
    "constraint_next_obs_t_feats_ph = tf.placeholder(tf.int32, [None, n_dirs, n_obs_feats], name=\"cnotf\")\n",
    "constraint_batch_size_ph = tf.placeholder(tf.int32, name=\"cbs\")"
   ]
  },
  {
   "cell_type": "code",
   "execution_count": 25,
   "metadata": {},
   "outputs": [],
   "source": [
    "# Boltz-beta determines the \"rationality\" of the agent being modeled. \n",
    "# Setting it to higher values corresponds to \"pure rationality\"\n",
    "boltz_beta = 50\n",
    "\n",
    "demo_q_t = build_mlp(demo_obs_t_feats_ph,\n",
    "    n_act_dim, q_scope, \n",
    "    n_layers=q_n_layers, size=q_layer_size,\n",
    "    activation=q_activation, output_activation=q_output_activation) * boltz_beta\n",
    "\n",
    "demo_v_t = tf.reduce_logsumexp(demo_q_t, axis=1)"
   ]
  },
  {
   "cell_type": "code",
   "execution_count": 26,
   "metadata": {},
   "outputs": [],
   "source": [
    "action_indexes = tf.concat([tf.expand_dims(tf.range(demo_batch_size_ph), 1), demo_act_t_ph], axis=1)\n",
    "\n",
    "act_log_likelihoods = tf.gather_nd(demo_q_t, action_indexes) - demo_v_t\n",
    "\n",
    "neg_avg_act_log_likelihood = -tf.reduce_mean(act_log_likelihoods)"
   ]
  },
  {
   "cell_type": "code",
   "execution_count": 27,
   "metadata": {},
   "outputs": [],
   "source": [
    "# Encoded the potential to use \"sas\" transitions, which are simply state, action, state observations,\n",
    "# and \"adt\" transitions -- post-processed to determine (a)ction taken, (d)irection moved, and starting (t)ile-type\n",
    "# Learning an \"adt\" transition model should be much easier\n",
    "\n",
    "sas_pred_obs = build_mlp(\n",
    "  tf.concat((demo_obs_t_feats_ph, demo_act_t_ph), axis=1),\n",
    "  n_dirs, invsas_scope, \n",
    "  n_layers=invdyn_n_layers, size=invdyn_layer_size,\n",
    "  activation=invdyn_activation, output_activation=invdyn_output_activation)\n",
    "\n",
    "adt_pred_dir = build_mlp(\n",
    "  tf.concat((demo_act_t_ph, demo_tile_t_ph), axis=1),\n",
    "  n_dirs, invadt_scope, \n",
    "  n_layers=invdyn_n_layers, size=invdyn_layer_size,\n",
    "  activation=invdyn_activation, output_activation=invdyn_output_activation)\n",
    "\n",
    "dir_indexes = tf.concat([tf.expand_dims(tf.range(demo_batch_size_ph), 1), demo_dir_t_ph], axis=1)\n",
    "\n",
    "adt_log_likelihoods = tf.gather_nd(adt_pred_dir, dir_indexes) - tf.reduce_logsumexp(adt_pred_dir, axis=1)\n",
    "\n",
    "neg_avg_adt_log_likelihood = -tf.reduce_mean(adt_log_likelihoods)\n",
    "\n",
    "sas_log_likelihoods = tf.gather_nd(sas_pred_obs, dir_indexes) - tf.reduce_logsumexp(sas_pred_obs, axis=1)\n",
    "\n",
    "neg_avg_sas_log_likelihood = -tf.reduce_mean(sas_log_likelihoods)"
   ]
  },
  {
   "cell_type": "code",
   "execution_count": 28,
   "metadata": {},
   "outputs": [],
   "source": [
    "ca_indexes = tf.concat([tf.expand_dims(tf.range(constraint_batch_size_ph), 1), constraint_act_t_ph], axis=1)\n",
    "\n",
    "constraint_q_ts = build_mlp(constraint_obs_t_feats_ph,\n",
    "        n_act_dim, q_scope, \n",
    "        n_layers=q_n_layers, size=q_layer_size,\n",
    "        activation=q_activation, output_activation=q_output_activation,\n",
    "        reuse=True)\n",
    "\n",
    "constraint_q_t = tf.gather_nd(constraint_q_ts, ca_indexes)\n",
    "\n",
    "\n",
    "# Predicted constraint next state given inv dyns\n",
    "constraint_sas_pred_obs = build_mlp(\n",
    "  tf.concat((constraint_obs_t_feats_ph, constraint_act_t_ph), axis=1),\n",
    "  n_dirs, invsas_scope, \n",
    "  n_layers=invdyn_n_layers, size=invdyn_layer_size,\n",
    "  activation=invdyn_activation, output_activation=invdyn_output_activation,\n",
    "  reuse=True)\n",
    "\n",
    "constraint_adt_pred_dir = build_mlp(\n",
    "  tf.concat((constraint_act_t_ph, constraint_tile_t_ph), axis=1),\n",
    "  n_dirs, invadt_scope, \n",
    "  n_layers=invdyn_n_layers, size=invdyn_layer_size,\n",
    "  activation=invdyn_activation, output_activation=invdyn_output_activation,\n",
    "  reuse=True)"
   ]
  },
  {
   "cell_type": "code",
   "execution_count": 29,
   "metadata": {},
   "outputs": [],
   "source": [
    "constraint_sprimes_reshaped = tf.reshape(constraint_next_obs_t_feats_ph, (constraint_batch_size_ph * n_dirs, n_obs_feats))"
   ]
  },
  {
   "cell_type": "code",
   "execution_count": 30,
   "metadata": {},
   "outputs": [],
   "source": [
    "# Q-values used to calculate 'V' in the bellman-residual\n",
    "cqtp1_misshaped = build_mlp(constraint_sprimes_reshaped,\n",
    "    n_act_dim, q_scope, \n",
    "    n_layers=q_n_layers, size=q_layer_size,\n",
    "    activation=q_activation, output_activation=q_output_activation,\n",
    "    reuse=True)\n",
    "\n",
    "constraint_q_tp1 = tf.reshape(cqtp1_misshaped, (constraint_batch_size_ph, n_dirs, n_act_dim))\n",
    "\n",
    "\n",
    "constraint_v_tp1 = tf.reduce_logsumexp(constraint_q_tp1, axis=2) #(tf.reduce_logsumexp(constraint_q_tp1 * boltz_beta, axis=2) - np.log(n_act_dim)) / boltz_beta"
   ]
  },
  {
   "cell_type": "code",
   "execution_count": 31,
   "metadata": {},
   "outputs": [],
   "source": [
    "# sas bellman residual penalty error\n",
    "constraint_sas_pred_probs = tf.nn.softmax(constraint_sas_pred_obs, axis=1)\n",
    "sas_V = tf.multiply(constraint_v_tp1, constraint_sas_pred_probs)\n",
    "sas_target_t = constraint_rew_t_ph + gamma * tf.reduce_sum(sas_V, axis=1)\n",
    "sas_td_err = tf.reduce_mean((constraint_q_t - sas_target_t)**2)\n",
    "\n",
    "\n",
    "# adt bellman residual penalty error\n",
    "constraint_adt_pred_probs = tf.nn.softmax(constraint_adt_pred_dir, axis=1)\n",
    "adt_V = tf.multiply(constraint_v_tp1, constraint_adt_pred_probs)\n",
    "adt_target_t = constraint_rew_t_ph + gamma * tf.reduce_sum(adt_V, axis=1)\n",
    "adt_td_err = tf.reduce_mean((constraint_q_t - adt_target_t)**2)"
   ]
  },
  {
   "cell_type": "code",
   "execution_count": 32,
   "metadata": {},
   "outputs": [],
   "source": [
    "# sas and adt bellman residual penalty error with a stop gradient on transitions to prevent the bellman update from\n",
    "# 'hacking' the transition function to overly explain the demonstrations. This happens a lot early on before the\n",
    "# Q-values have obtained much meaning\n",
    "\n",
    "sas_V_sgt = tf.multiply(constraint_v_tp1, tf.stop_gradient(constraint_sas_pred_probs))\n",
    "sas_target_sgt = constraint_rew_t_ph + gamma * tf.reduce_sum(sas_V_sgt, axis=1)\n",
    "sas_td_err_sgt = tf.reduce_mean((constraint_q_t - sas_target_sgt)**2)\n",
    "\n",
    "adt_V_sgt = tf.multiply(constraint_v_tp1, tf.stop_gradient(constraint_adt_pred_probs))\n",
    "adt_target_sgt = constraint_rew_t_ph + gamma * tf.reduce_sum(adt_V_sgt, axis=1)\n",
    "adt_td_err_sgt = tf.reduce_mean((constraint_q_t - adt_target_sgt)**2)\n",
    "\n",
    "# test_constraint_v_tp1 = tf.reduce_logsumexp(test_constraint_q_tp1_ph, axis=2) #- np.log(5) \n",
    "# test_adt_V = tf.multiply(test_constraint_v_tp1, test_constraint_adt_pred_probs)\n",
    "# test_adt_target = constraint_rew_t_ph + gamma * tf.reduce_sum(test_adt_V, axis=1)\n",
    "# indiv_errs = test_constraint_q_t_ph - test_adt_target\n",
    "# test_adt_td_err = tf.reduce_mean((test_constraint_q_t_ph - test_adt_target)**2)\n",
    "\n",
    "\n",
    "# sas and adt bellman residual penalty error with a stop gradient on q-fn to allow the bellman residual loss to update\n",
    "# differences in learned q-vals w.r.t. the dynamics model\n",
    "\n",
    "adt_V_sgq = tf.multiply(tf.stop_gradient(constraint_v_tp1), constraint_adt_pred_probs)\n",
    "adt_target_sgq = constraint_rew_t_ph + gamma * tf.reduce_sum(adt_V_sgq, axis=1)\n",
    "adt_td_err_sgq = tf.reduce_mean((tf.stop_gradient(constraint_q_t) - adt_target_sgq)**2)\n",
    "\n",
    "# HACK TO GET NON-NONE GRADIENTS\n",
    "adt_td_err_sgt += 1e-20 * adt_td_err_sgq\n",
    "adt_td_err_sgq += 1e-20 * adt_td_err_sgt"
   ]
  },
  {
   "cell_type": "code",
   "execution_count": 33,
   "metadata": {},
   "outputs": [],
   "source": [
    "# Total loss function for the sas formulation\n",
    "sas_loss = neg_avg_act_log_likelihood + trans_penalty * neg_avg_sas_log_likelihood + sq_td_err_penalty * sas_td_err\n",
    "\n",
    "# Total loss function for the adt formulation\n",
    "adt_loss = neg_avg_act_log_likelihood + trans_penalty * neg_avg_adt_log_likelihood + sq_td_err_penalty * adt_td_err\n",
    "\n",
    "# Loss function for the adt formulation that only optimizes over the q-value approximation \n",
    "adt_q_loss = neg_avg_act_log_likelihood + q_err_penalty * adt_td_err_sgt\n",
    "\n",
    "# Loss function for the adt formulation that only optimizes over the dynamics model\n",
    "adt_t_loss = neg_avg_adt_log_likelihood + t_err_penalty * adt_td_err_sgq\n",
    "\n",
    "# Loss function for the adt formulation that learns unseen dynamics\n",
    "adt_learn_loss = neg_avg_act_log_likelihood + t_err_penalty * adt_td_err_sgq\n",
    "\n",
    "# Loss function for the adt formulation that regularizes over observed and learned quantities\n",
    "adt_regularize_loss = neg_avg_adt_log_likelihood + q_err_penalty * adt_td_err_sgt\n",
    "\n",
    "# Total loss function for the adt formulation with a stop-gradient on the transition function for the bellman residual\n",
    "adt_brsgt_loss = neg_avg_act_log_likelihood + trans_penalty * neg_avg_adt_log_likelihood + sq_td_err_penalty * adt_td_err_sgt\n",
    "\n",
    "# HACK TO GET NON-NONE GRADIENTS\n",
    "nall_loss = neg_avg_act_log_likelihood + 1e-20 * neg_avg_adt_log_likelihood\n",
    "ntll_loss = neg_avg_adt_log_likelihood + 1e-20 * neg_avg_act_log_likelihood"
   ]
  },
  {
   "cell_type": "code",
   "execution_count": 34,
   "metadata": {},
   "outputs": [],
   "source": [
    "sas_update_op = tf.train.AdamOptimizer(alpha, beta1, beta2).minimize(sas_loss)\n",
    "\n",
    "adt_update_op = tf.train.AdamOptimizer(alpha, beta1, beta2).minimize(adt_loss)\n",
    "\n",
    "adt_brsgt_update_op = tf.train.AdamOptimizer(alpha, beta1, beta2).minimize(adt_brsgt_loss)\n",
    "\n",
    "adt_q_update_op = tf.train.AdamOptimizer(alpha, beta1, beta2).minimize(adt_q_loss)\n",
    "\n",
    "adt_t_update_op = tf.train.AdamOptimizer(alpha, beta1, beta2).minimize(adt_t_loss)\n",
    "\n",
    "adt_learn_update_op = tf.train.AdamOptimizer(alpha, beta1, beta2).minimize(adt_learn_loss)\n",
    "\n",
    "adt_regularize_update_op = tf.train.AdamOptimizer(alpha, beta1, beta2).minimize(adt_regularize_loss)\n",
    "\n",
    "adt_trans_only_update_op = tf.train.AdamOptimizer(alpha, beta1, beta2).minimize(neg_avg_adt_log_likelihood)\n",
    "\n",
    "adt_q_br_update_op = tf.train.AdamOptimizer(alpha, beta1, beta2).minimize(adt_td_err_sgt)\n",
    "\n",
    "q_nll_update_op = tf.train.AdamOptimizer(alpha, beta1, beta2).minimize(neg_avg_act_log_likelihood)"
   ]
  },
  {
   "cell_type": "code",
   "execution_count": 35,
   "metadata": {},
   "outputs": [],
   "source": [
    "# Uncertainty weighted loss function motivated by https://arxiv.org/pdf/1705.07115.pdf\n",
    "\n",
    "sigma_a, sigma_t, sigma_br = tf.Variable(0.0), tf.Variable(0.0), tf.Variable(0.0)\n",
    "\n",
    "# Simple sum is sufficient so long as all losses use means\n",
    "sigma_log_losses = sigma_a + sigma_t # + sigma_br\n",
    "\n",
    "weighted_na_act_ll = tf.exp(-sigma_a) * neg_avg_act_log_likelihood\n",
    "\n",
    "weighted_na_adt_ll = tf.exp(-sigma_t) * neg_avg_adt_log_likelihood\n",
    "\n",
    "weighted_na_br = (adt_td_err * sq_td_err_penalty + adt_td_err_sgt * 3 * sq_td_err_penalty) / 4 #tf.exp(-sigma_br) * \n",
    "\n",
    "adt_uncertainty_loss = weighted_na_act_ll + weighted_na_adt_ll + weighted_na_br + sigma_log_losses\n",
    "\n",
    "adt_un_update_op = tf.train.AdamOptimizer(alpha, beta1, beta2).minimize(adt_uncertainty_loss)"
   ]
  },
  {
   "cell_type": "code",
   "execution_count": 36,
   "metadata": {},
   "outputs": [],
   "source": [
    "# Add in ability to train the q-fn approximator on the true values to test model capacity\n",
    "true_qs_ph = tf.placeholder(tf.float32, [None], name=\"tq\")\n",
    "true_q_errs = constraint_q_t - true_qs_ph\n",
    "true_q_err = tf.reduce_sum((true_q_errs)**2)\n",
    "true_q_update_op = tf.train.AdamOptimizer(alpha, beta1, beta2).minimize(true_q_err)"
   ]
  },
  {
   "cell_type": "code",
   "execution_count": 53,
   "metadata": {},
   "outputs": [],
   "source": [
    "def compute_batch_loss(demo_batch, constraints, step=False, update=\"adt\", true_qs=None):\n",
    "    feed_dict = {\n",
    "        demo_obs_t_feats_ph: demo_batch[1],\n",
    "        demo_act_t_ph: demo_batch[2],\n",
    "        demo_next_obs_t_feats_ph: demo_batch[4],\n",
    "        demo_dir_t_ph: demo_batch[5],\n",
    "        demo_tile_t_ph: demo_batch[6],\n",
    "        demo_batch_size_ph: demo_batch[2].shape[0],\n",
    "        constraint_obs_t_feats_ph: constraints[0],\n",
    "        constraint_act_t_ph: constraints[1],\n",
    "        constraint_rew_t_ph: constraints[2],\n",
    "        constraint_next_obs_t_feats_ph: constraints[3],\n",
    "        constraint_tile_t_ph: constraints[4],\n",
    "        constraint_batch_size_ph: constraints[0].shape[0]\n",
    "    }\n",
    "      \n",
    "    # Naive case of only optimizing over observed transitions -- useful to initialize the dynamics model\n",
    "    if update == \"trans\": \n",
    "        [trans_likelihood_eval] = sess.run([neg_avg_adt_log_likelihood], feed_dict=feed_dict)\n",
    "        update_op = adt_trans_only_update_op\n",
    "        if step:\n",
    "            sess.run(update_op, feed_dict=feed_dict)\n",
    "        d = {'loss':trans_likelihood_eval}\n",
    "    \n",
    "    # Optimization over the full adt loss function\n",
    "    if update == \"adt\":\n",
    "        [loss_eval, act_likelihood_eval, td_err_eval, trans_likelihood_eval] = sess.run(\n",
    "            [adt_loss, neg_avg_act_log_likelihood, adt_td_err, neg_avg_adt_log_likelihood], feed_dict=feed_dict)\n",
    "        update_op = adt_update_op\n",
    "        d = {'loss': loss_eval,\n",
    "            'nall': act_likelihood_eval,\n",
    "            'tde': td_err_eval,\n",
    "            'ntll': trans_likelihood_eval}\n",
    "    \n",
    "    # Optimization over the adt uncertainty-weighted loss function\n",
    "    if update == \"adt_un\":\n",
    "        [loss_eval, act_likelihood_eval, td_err_eval, trans_likelihood_eval, sig_a, sig_t, sig_br] = sess.run(\n",
    "            [adt_uncertainty_loss, neg_avg_act_log_likelihood, adt_td_err, neg_avg_adt_log_likelihood,\n",
    "                 sigma_a, sigma_t, sigma_br], feed_dict=feed_dict)\n",
    "        update_op = adt_un_update_op\n",
    "        d = {'loss': loss_eval,\n",
    "            'nall': act_likelihood_eval,\n",
    "            'tde': td_err_eval,\n",
    "            'ntll': trans_likelihood_eval,\n",
    "            'sigmas': (sig_a, sig_t, sig_br)}\n",
    "        \n",
    "    # Optimizing only the q-fn over the bellman residual, equivalent to soft Q-learning\n",
    "    if update == \"adt_br\":\n",
    "        [loss_eval] = sess.run([adt_td_err_sgt], feed_dict=feed_dict)\n",
    "        update_op = adt_q_br_update_op\n",
    "        d = {'loss': loss_eval}\n",
    "    \n",
    "    # Optimization over the full adt loss function with a stop gradient on the dynamics model for the bellman residual\n",
    "    # Useful in getting the q-fn to match both the observed dynamics and the observed actions taken\n",
    "    if update == \"adt_brsgt\":\n",
    "        [loss_eval, act_likelihood_eval, td_err_eval, trans_likelihood_eval] = sess.run(\n",
    "            [adt_loss, neg_avg_act_log_likelihood, adt_td_err_sgt, neg_avg_adt_log_likelihood], feed_dict=feed_dict)\n",
    "        update_op = adt_brsgt_update_op\n",
    "        d = {'loss': loss_eval,\n",
    "            'nall': act_likelihood_eval,\n",
    "            'tde': td_err_eval,\n",
    "            'ntll': trans_likelihood_eval}\n",
    "        \n",
    "    # Optimization over the action likelihood and br with a stop gradient on the dynamics model for the br\n",
    "    if update == \"adt_q\":\n",
    "        [loss_eval, act_likelihood_eval, td_err_eval] = sess.run(\n",
    "            [adt_q_loss, neg_avg_act_log_likelihood, adt_td_err_sgt], feed_dict=feed_dict)\n",
    "        update_op = adt_q_update_op\n",
    "        d = {'loss': loss_eval,\n",
    "            'nall': act_likelihood_eval,\n",
    "            'tde': td_err_eval}\n",
    "        \n",
    "    # Optimization over the action likelihood and br with a stop gradient on the q-fn for the br\n",
    "    if update == \"adt_learn\":\n",
    "        [loss_eval,  trans_likelihood_eval, td_err_eval, act_likelihood_eval] = sess.run(\n",
    "            [adt_learn_loss, neg_avg_adt_log_likelihood, adt_td_err_sgq, neg_avg_act_log_likelihood], feed_dict=feed_dict)\n",
    "        update_op = adt_learn_update_op\n",
    "        d = {'loss': loss_eval,\n",
    "            'tde': td_err_eval,\n",
    "            'ntll': trans_likelihood_eval,\n",
    "            'nall': act_likelihood_eval}\n",
    "        \n",
    "    # Optimization over the transition likelihood and br with a stop gradient on the dynamics for the br\n",
    "    if update == \"adt_regularize\":\n",
    "        [loss_eval, trans_likelihood_eval, td_err_eval] = sess.run(\n",
    "            [adt_regularize_loss, neg_avg_adt_log_likelihood, adt_td_err_sgt], feed_dict=feed_dict)\n",
    "        update_op = adt_regularize_update_op\n",
    "        d = {'loss': loss_eval,\n",
    "            'ntll': trans_likelihood_eval,\n",
    "            'tde': td_err_eval}\n",
    "        \n",
    "    # Optimization over the transition likelihood and br with a stop gradient on the q-fn for the br\n",
    "    if update == \"adt_t\":\n",
    "        [loss_eval, td_err_eval, trans_likelihood_eval] = sess.run(\n",
    "            [adt_t_loss, adt_td_err_sgq, neg_avg_adt_log_likelihood], feed_dict=feed_dict)\n",
    "        update_op = adt_t_update_op\n",
    "        d = {'loss': loss_eval,\n",
    "            'tde': td_err_eval,\n",
    "            'ntll': trans_likelihood_eval}\n",
    "        \n",
    "    # Optimization over the full sas loss function\n",
    "    if update == \"sas\":\n",
    "        [loss_eval, act_likelihood_eval, td_err_eval, trans_likelihood_eval] = sess.run(\n",
    "            [sas_loss, neg_avg_act_log_likelihood, sas_td_err, neg_avg_sas_log_likelihood], feed_dict=feed_dict)\n",
    "        update_op = sas_update_op\n",
    "        d = {'loss': loss_eval,\n",
    "            'nall': act_likelihood_eval,\n",
    "            'tde': td_err_eval,\n",
    "            'ntll': trans_likelihood_eval}\n",
    "    \n",
    "    # For debugging and testing model capacity\n",
    "    if update == \"true_qs\":\n",
    "        feed_dict[true_qs_ph] = true_qs\n",
    "        [loss_eval] = sess.run([true_q_err], feed_dict=feed_dict)\n",
    "        update_op = true_q_update_op\n",
    "        d = {'loss': loss_eval}\n",
    " \n",
    "    if step:\n",
    "        sess.run(update_op, feed_dict=feed_dict)\n",
    "\n",
    "    return d"
   ]
  },
  {
   "cell_type": "code",
   "execution_count": 38,
   "metadata": {},
   "outputs": [],
   "source": [
    "def update_switcher(update, update_progression, losses, slope_threshold=1e-4, horizon=100):\n",
    "    \n",
    "    if len(losses) <= 3:\n",
    "        switch = False\n",
    "    else:\n",
    "        if len(losses) < horizon:\n",
    "            horizon = len(losses)\n",
    "        slope = np.polyfit(np.arange(horizon), losses[-horizon:], 1)[0]\n",
    "        switch = -slope < slope_threshold\n",
    "        \n",
    "        print(-slope, switch)\n",
    "        \n",
    "    if switch:\n",
    "        if update not in update_progression:\n",
    "            update = update_progression[0]\n",
    "        else:\n",
    "            update = update_progression[(update_progression.index(update) + 1) % len(update_progression)]\n",
    "        \n",
    "    return update"
   ]
  },
  {
   "cell_type": "markdown",
   "metadata": {},
   "source": [
    "# IDL Experiments"
   ]
  },
  {
   "cell_type": "markdown",
   "metadata": {},
   "source": [
    "## Demo setup"
   ]
  },
  {
   "cell_type": "code",
   "execution_count": 39,
   "metadata": {},
   "outputs": [],
   "source": [
    "tabsoftq_iter_ftol = 1e-32\n",
    "tabsoftq_iter_maxiter = 5000\n",
    "tabsoftq_iter_verbose = False\n",
    "tabsoftq_grad_iter_ftol = 1e-10\n",
    "tabsoftq_grad_iter_maxiter = 5000\n",
    "tabsoftq_grad_iter_verbose = False\n",
    "batch_size = 200\n",
    "n_demos = 200\n",
    "demo_time_steps = 40"
   ]
  },
  {
   "cell_type": "code",
   "execution_count": 40,
   "metadata": {},
   "outputs": [],
   "source": [
    "def clean_demos(sas_obs, max_noops=15):\n",
    "    demo_example_idxes = list(range(len(sas_obs)))\n",
    "    unique_stays, stay_count = set([]), 0\n",
    "    for i,sas in enumerate(sas_obs):\n",
    "        sas = tuple(sas)\n",
    "        if sas[1] == 4:\n",
    "            stay_count += 1\n",
    "            if sas in unique_stays:\n",
    "                if stay_count > max_noops:\n",
    "                    demo_example_idxes.remove(i)\n",
    "            else:\n",
    "                unique_stays.add(sas)\n",
    "        else:\n",
    "            stay_count = 0\n",
    "    return demo_example_idxes\n",
    "\n",
    "# def sample_batch(size, ids, sas_obs, adt_obs):\n",
    "#     idxes = random.sample(ids, size)\n",
    "#     return sas_obs[idxes], adt_obs[idxes]"
   ]
  },
  {
   "cell_type": "code",
   "execution_count": 41,
   "metadata": {
    "scrolled": true
   },
   "outputs": [
    {
     "name": "stderr",
     "output_type": "stream",
     "text": [
      "/Users/michael_dennis/anaconda3/lib/python3.6/site-packages/ipykernel_launcher.py:10: DeprecationWarning: `logsumexp` is deprecated!\n",
      "Importing `logsumexp` from scipy.misc is deprecated in scipy 1.0.0. Use `scipy.special.logsumexp` instead.\n",
      "  # Remove the CWD from sys.path while we load stuff.\n"
     ]
    },
    {
     "name": "stdout",
     "output_type": "stream",
     "text": [
      "[[208.44793162 207.18127902 207.18127902 208.44793162 210.        ]\n",
      " [206.99287621 202.96944566 202.29977102 204.1002877  204.97294744]\n",
      " [204.07436214 198.44322909 185.17373676 199.58882701 202.08361852]\n",
      " [183.12845022  36.32702745  34.95093068 179.15448334 181.34716572]\n",
      " [ 16.97620454  16.79653099  16.97556524  16.98153444  16.8117191 ]\n",
      " [ 35.01525282  36.16339701 182.48269324 179.65517111 180.70786631]\n",
      " [184.64716479 197.4379815  203.17779759 200.12479717 201.19601961]\n",
      " [201.59176201 201.87644087 205.87995687 204.75358624 203.87115731]\n",
      " [205.32904157 205.32904157 208.59211573 208.59211573 207.60626319]\n",
      " [204.10032334 202.30005617 202.9694813  206.99287621 204.97294744]\n",
      " [204.45205845 200.28494297 200.28491827 204.45205492 202.45760476]\n",
      " [201.73133557 178.50494151  54.19774545 183.716717   199.76402222]\n",
      " [ 18.17234051  18.13088664  17.9742501   18.15392365  17.99061711]\n",
      " [  1.63997683   1.63624259   1.63988324   1.63879793   1.62360982]\n",
      " [ 17.88075551  18.03661872  18.077807    18.05978977  17.89702893]\n",
      " [ 53.93832866 177.6211829  200.68191811 182.88917016 198.72509893]\n",
      " [199.24327021 199.2682283  203.36011691 203.35655147 201.37651574]\n",
      " [201.87679738 201.59461407 204.75394274 205.87995687 203.87115731]\n",
      " [201.38153719 199.49296175 200.23311544 204.07472217 202.08397495]\n",
      " [201.59860492 197.25060326 196.38654428 201.73137122 199.7640575 ]\n",
      " [197.49383753 177.45693523 164.33071176 195.61863855 195.56889916]\n",
      " [159.85873767  33.78398077  14.84872059  35.42002138 158.31015029]\n",
      " [ 14.40038158  14.3143581   14.39960825  14.24374504  14.25637781]\n",
      " [ 14.83386648  33.64423204 159.07759266  35.24936448 157.53681674]\n",
      " [163.54714924 176.79124468 196.52629853 194.60983615 194.61103554]\n",
      " [195.44709335 196.5459688  200.71793267 200.68227462 198.76075334]\n",
      " [199.25069913 198.92431861 201.90927642 203.18139867 201.19958469]\n",
      " [198.70635683 196.80555364 197.3518269  201.20782517 199.24574691]\n",
      " [198.79459072 193.28346352 181.04750764 197.40201    196.81664481]\n",
      " [178.79989199  35.34671088  34.11102921 177.74034044 177.06189307]\n",
      " [ 16.10663267  16.00185745  16.00185745  16.08788093  15.94556635]\n",
      " [ 72.1803786   72.96633303  72.18032364  72.17868941  72.2366697 ]\n",
      " [ 15.94695943  15.94695943  16.05112462  16.03220958  15.89061338]\n",
      " [ 33.97128047  35.27616445 178.18369655 176.90350312 176.45185959]\n",
      " [180.45915044 193.1528662  198.13750856 196.46876936 196.16613347]\n",
      " [196.7429788  196.81009647 199.17466955 200.50485579 198.54980723]\n",
      " [197.04446385 197.95954678 195.47225493 198.51629853 196.58113554]\n",
      " [196.53118626 178.34070655  53.32776759 178.86111563 194.5758744 ]\n",
      " [ 17.70390122  17.6857372   17.58157201  17.68634724  17.52686221]\n",
      " [ 72.18195989  72.18032364  72.96633303  72.1803786   72.2366697 ]\n",
      " [ 80.3366697   80.3366697   80.3366697   80.3366697  810.        ]\n",
      " [ 72.96633303  72.1803786   72.18195989  72.18032364  72.2366697 ]\n",
      " [ 17.58157201  17.68634724  17.70390122  17.6857372   17.52686221]\n",
      " [ 53.32776759 178.86111563 196.53118626 178.34070655 194.5758744 ]\n",
      " [195.47225493 198.51629853 197.04446385 197.95954678 196.58113554]\n",
      " [199.17466955 200.50485579 196.7429788  196.81009647 198.54980723]\n",
      " [198.13750856 196.46876936 180.45915044 193.1528662  196.16613347]\n",
      " [178.18369655 176.90350312  33.97128048  35.27616445 176.45185959]\n",
      " [ 16.05112463  16.04965715  15.94695944  15.94695944  15.89061338]\n",
      " [ 72.18032364  72.18122019  72.1803786   72.96633303  72.2366697 ]\n",
      " [ 16.0018575   16.1054164   16.10663272  16.0018575   15.94556639]\n",
      " [ 34.11102925 177.74034045 178.79989199  35.34671089 177.06189307]\n",
      " [181.04750764 197.40201    198.79459072 193.28346352 196.81664481]\n",
      " [197.3518269  201.20782517 198.70635683 196.80555364 199.24574691]\n",
      " [201.90927642 203.18139867 199.25069913 198.92431861 201.19958469]\n",
      " [200.71793267 200.68227462 195.44709335 196.5459688  198.76075334]\n",
      " [196.52629853 196.35459257 177.50520058 178.5360011  194.61103554]\n",
      " [176.70139485 176.49285988  34.48229179  33.89730993 174.9843809 ]\n",
      " [ 16.94530394  16.95672395  16.94616513  16.84260623  16.78715671]\n",
      " [ 34.58589001 177.37346962 177.57128397  34.0370587  175.84557113]\n",
      " [178.35904843 197.37218064 197.49383753 179.21047732 195.56889916]\n",
      " [196.38654428 201.73137122 201.59860492 197.25060326 199.7640575 ]\n",
      " [200.23311544 204.07472217 201.38153719 199.49296175 202.08397495]\n",
      " [204.75394274 205.87995687 201.87679738 201.59461407 203.87115731]\n",
      " [203.36011691 203.35655147 199.24327021 199.2682283  201.37651574]\n",
      " [200.68191811 200.51297235 194.92874617 195.24498509 198.72509893]\n",
      " [196.09601093 195.73289909 186.23944878 178.46045424 194.14505082]\n",
      " [175.65946268 188.23676388 176.44428606  52.36483846 186.36439624]\n",
      " [186.39924876 196.42623909 197.08694954 179.25329875 195.12608005]\n",
      " [195.8981158  201.42926329 201.73133557 196.2174878  199.76402222]\n",
      " [200.28491827 204.45205492 204.45205845 200.28494297 202.45760476]\n",
      " [202.9694813  206.99287621 204.10032334 202.30005617 204.97294744]\n",
      " [208.59211573 208.59211573 205.32904157 205.32904157 207.60626319]\n",
      " [205.87995687 204.75358624 201.59176201 201.87644087 203.87115731]\n",
      " [203.17779759 201.71150424 197.34082132 199.02468857 201.19601961]\n",
      " [198.51003734 183.86504089 186.89487245 194.13534897 196.57493697]\n",
      " [177.58656111  52.87804363 178.17600878 188.51218535 186.67706349]\n",
      " [186.92904543 183.44236125 199.25428945 195.00893224 197.31174655]\n",
      " [197.94540143 201.18528509 204.07436214 200.03968717 202.08361852]\n",
      " [202.29977102 204.1002877  206.99287621 202.96944566 204.97294744]\n",
      " [207.18127902 208.44793162 208.44793162 207.18127902 210.        ]]\n",
      "[[206.34793162 205.08127902 205.08127902 206.34793162 207.9       ]\n",
      " [206.94287621 202.91944566 202.24977102 204.0502877  204.92294744]\n",
      " [204.02436214 198.39322909 185.12373676 199.53882701 202.03361852]\n",
      " [183.07845022  36.27702745  34.90093068 179.10448334 181.29716572]\n",
      " [ 16.97620454  16.79653099  16.97556524  16.98153444  16.8117191 ]\n",
      " [ 34.96525282  36.11339701 182.43269324 179.60517111 180.65786631]\n",
      " [184.59716479 197.3879815  203.12779759 200.07479717 201.14601961]\n",
      " [201.54176201 201.82644087 205.82995687 204.70358624 203.82115731]\n",
      " [204.22904157 204.22904157 207.49211573 207.49211573 206.50626319]\n",
      " [204.05032334 202.25005617 202.9194813  206.94287621 204.92294744]\n",
      " [204.40205845 200.23494297 200.23491827 204.40205492 202.40760476]\n",
      " [201.68133557 178.45494151  54.14774545 183.666717   199.71402222]\n",
      " [ 18.17234051  18.13088664  17.9742501   18.15392365  17.99061711]\n",
      " [  1.63997683   1.63624259   1.63988324   1.63879793   1.62360982]\n",
      " [ 17.88075551  18.03661872  18.077807    18.05978977  17.89702893]\n",
      " [ 53.88832866 177.5711829  200.63191811 182.83917016 198.67509893]\n",
      " [199.19327021 199.2182283  203.31011691 203.30655147 201.32651574]\n",
      " [201.82679738 201.54461407 204.70394274 205.82995687 203.82115731]\n",
      " [201.33153719 199.44296175 200.18311544 204.02472217 202.03397495]\n",
      " [201.54860492 197.20060326 196.33654428 201.68137122 199.7140575 ]\n",
      " [197.44383753 177.40693523 164.28071176 195.56863855 195.51889916]\n",
      " [159.80873767  33.73398077  14.79872059  35.37002138 158.26015029]\n",
      " [ 14.40038158  14.3143581   14.39960825  14.24374504  14.25637781]\n",
      " [ 14.78386648  33.59423204 159.02759266  35.19936448 157.48681674]\n",
      " [163.49714924 176.74124468 196.47629853 194.55983615 194.56103554]\n",
      " [195.39709335 196.4959688  200.66793267 200.63227462 198.71075334]\n",
      " [199.20069913 198.87431861 201.85927642 203.13139867 201.14958469]\n",
      " [198.65635683 196.75555364 197.3018269  201.15782517 199.19574691]\n",
      " [198.78459072 193.27346352 181.03750764 197.39201    196.80664481]\n",
      " [178.74989199  35.29671088  34.06102921 177.69034044 177.01189307]\n",
      " [ 16.10663267  16.00185745  16.00185745  16.08788093  15.94556635]\n",
      " [ 72.1803786   72.96633303  72.18032364  72.17868941  72.2366697 ]\n",
      " [ 15.94695943  15.94695943  16.05112462  16.03220958  15.89061338]\n",
      " [ 33.92128047  35.22616445 178.13369655 176.85350312 176.40185959]\n",
      " [180.44915044 193.1428662  198.12750856 196.45876936 196.15613347]\n",
      " [196.6929788  196.76009647 199.12466955 200.45485579 198.49980723]\n",
      " [196.99446385 197.90954678 195.42225493 198.46629853 196.53113554]\n",
      " [196.52118626 178.33070655  53.31776759 178.85111563 194.5658744 ]\n",
      " [ 17.70390122  17.6857372   17.58157201  17.68634724  17.52686221]\n",
      " [ 72.18195989  72.18032364  72.96633303  72.1803786   72.2366697 ]\n",
      " [ 72.2366697   72.2366697   72.2366697   72.2366697  801.9       ]\n",
      " [ 72.96633303  72.1803786   72.18195989  72.18032364  72.2366697 ]\n",
      " [ 17.58157201  17.68634724  17.70390122  17.6857372   17.52686221]\n",
      " [ 53.31776759 178.85111563 196.52118626 178.33070655 194.5658744 ]\n",
      " [195.42225493 198.46629853 196.99446385 197.90954678 196.53113554]\n",
      " [199.12466955 200.45485579 196.6929788  196.76009647 198.49980723]\n",
      " [198.12750856 196.45876936 180.44915044 193.1428662  196.15613347]\n",
      " [178.13369655 176.85350312  33.92128048  35.22616445 176.40185959]\n",
      " [ 16.05112463  16.04965715  15.94695944  15.94695944  15.89061338]\n",
      " [ 72.18032364  72.18122019  72.1803786   72.96633303  72.2366697 ]\n",
      " [ 16.0018575   16.1054164   16.10663272  16.0018575   15.94556639]\n",
      " [ 34.06102925 177.69034045 178.74989199  35.29671089 177.01189307]\n",
      " [181.03750764 197.39201    198.78459072 193.27346352 196.80664481]\n",
      " [197.3018269  201.15782517 198.65635683 196.75555364 199.19574691]\n",
      " [201.85927642 203.13139867 199.20069913 198.87431861 201.14958469]\n",
      " [200.66793267 200.63227462 195.39709335 196.4959688  198.71075334]\n",
      " [196.47629853 196.30459257 177.45520058 178.4860011  194.56103554]\n",
      " [176.65139485 176.44285988  34.43229179  33.84730993 174.9343809 ]\n",
      " [ 16.94530394  16.95672395  16.94616513  16.84260623  16.78715671]\n",
      " [ 34.53589001 177.32346962 177.52128397  33.9870587  175.79557113]\n",
      " [178.30904843 197.32218064 197.44383753 179.16047732 195.51889916]\n",
      " [196.33654428 201.68137122 201.54860492 197.20060326 199.7140575 ]\n",
      " [200.18311544 204.02472217 201.33153719 199.44296175 202.03397495]\n",
      " [204.70394274 205.82995687 201.82679738 201.54461407 203.82115731]\n",
      " [203.31011691 203.30655147 199.19327021 199.2182283  201.32651574]\n",
      " [200.63191811 200.46297235 194.87874617 195.19498509 198.67509893]\n",
      " [196.08601093 195.72289909 186.22944878 178.45045424 194.13505082]\n",
      " [175.64946268 188.22676388 176.43428606  52.35483846 186.35439624]\n",
      " [186.38924876 196.41623909 197.07694954 179.24329875 195.11608005]\n",
      " [195.8481158  201.37926329 201.68133557 196.1674878  199.71402222]\n",
      " [200.23491827 204.40205492 204.40205845 200.23494297 202.40760476]\n",
      " [202.9194813  206.94287621 204.05032334 202.25005617 204.92294744]\n",
      " [207.49211573 207.49211573 204.22904157 204.22904157 206.50626319]\n",
      " [205.82995687 204.70358624 201.54176201 201.82644087 203.82115731]\n",
      " [203.12779759 201.66150424 197.29082132 198.97468857 201.14601961]\n",
      " [198.46003734 183.81504089 186.84487245 194.08534897 196.52493697]\n",
      " [177.53656111  52.82804363 178.12600878 188.46218535 186.62706349]\n",
      " [186.87904543 183.39236125 199.20428945 194.95893224 197.26174655]\n",
      " [197.89540143 201.13528509 204.02436214 199.98968717 202.03361852]\n",
      " [202.24977102 204.0502877  206.94287621 202.91944566 204.92294744]\n",
      " [205.08127902 206.34793162 206.34793162 205.08127902 207.9       ]]\n",
      "[210.         206.99287621 204.07436214 183.12845022  16.98153444\n",
      " 182.48269324 203.17779759 205.87995687 208.59218505 206.99287621\n",
      " 204.45212602 201.73133557  18.17234051   1.64000992  18.077807\n",
      " 200.68191811 203.36011691 205.87995687 204.07472217 201.73137122\n",
      " 197.49383753 159.85873767  14.40038163 159.07759266 196.52629853\n",
      " 200.71793267 203.18139867 201.20782517 198.79459072 178.79989199\n",
      "  16.10663267  72.96633303  16.05112462 178.18369655 198.13750856\n",
      " 200.50485579 198.51629853 196.53118626  17.70390122  72.96633303\n",
      " 810.          72.96633303  17.70390122 196.53118626 198.51629853\n",
      " 200.50485579 198.13750856 178.18369655  16.05112463  72.96633303\n",
      "  16.10663272 178.79989199 198.79459072 201.20782517 203.18139867\n",
      " 200.71793267 196.52629853 176.70139485  16.95672395 177.57128397\n",
      " 197.49383753 201.73137122 204.07472217 205.87995687 203.36011691\n",
      " 200.68191811 196.09601093 188.23676388 197.08694954 201.73133557\n",
      " 204.45212602 206.99287621 208.59218505 205.87995687 203.17779759\n",
      " 198.51003734 188.51218535 199.25428945 204.07436214 206.99287621\n",
      " 210.        ]\n"
     ]
    }
   ],
   "source": [
    "exQs = tabsoftq_learn_Qs(mdp)\n",
    "# The rationality constant used to generate demos could certainly vary from the one used in the model.....\n",
    "temp_boltz_beta = 50\n",
    "demos = generate_demonstrations(mdp, tabsoftq_gen_pol(exQs * temp_boltz_beta), n_demos, demo_time_steps)\n",
    "sas_obs, adt_obs = vectorize_rollouts(demos)"
   ]
  },
  {
   "cell_type": "code",
   "execution_count": 42,
   "metadata": {},
   "outputs": [],
   "source": [
    "# Ensure bad areas have not been visited in exes (this is unique to this experiment)\n",
    "demos = []\n",
    "while len(demos) < n_demos:\n",
    "    new_demo = generate_demonstrations(mdp, tabsoftq_gen_pol(exQs, beta=50), 1, demo_time_steps)[0]\n",
    "    more_sas, more_adt = list(zip(*new_demo))\n",
    "    if len(set([adt[2] for adt in more_adt])) == 1:\n",
    "        demos += [new_demo]\n",
    "        \n",
    "sas_obs, adt_obs = vectorize_rollouts(demos)"
   ]
  },
  {
   "cell_type": "code",
   "execution_count": 43,
   "metadata": {},
   "outputs": [],
   "source": [
    "good_indexes = clean_demos(sas_obs)\n",
    "sas_obs, adt_obs = sas_obs[good_indexes], adt_obs[good_indexes]\n",
    "constraints = generate_constraints(mdp)\n",
    "nn_rollouts = nn_vectorize_rollouts(sas_obs, adt_obs)\n",
    "train_idxes, val_idxes = get_rollout_indexes(sas_obs)\n",
    "val_demo_batch = sample_batch(nn_rollouts, val_idxes)"
   ]
  },
  {
   "cell_type": "code",
   "execution_count": 57,
   "metadata": {},
   "outputs": [
    {
     "name": "stderr",
     "output_type": "stream",
     "text": [
      "/Users/michael_dennis/anaconda3/lib/python3.6/site-packages/ipykernel_launcher.py:10: DeprecationWarning: `logsumexp` is deprecated!\n",
      "Importing `logsumexp` from scipy.misc is deprecated in scipy 1.0.0. Use `scipy.special.logsumexp` instead.\n",
      "  # Remove the CWD from sys.path while we load stuff.\n"
     ]
    },
    {
     "name": "stdout",
     "output_type": "stream",
     "text": [
      "[[208.44793162 207.18127902 207.18127902 208.44793162 210.        ]\n",
      " [206.99287621 202.96944566 202.29977102 204.1002877  204.97294744]\n",
      " [204.07436214 198.44322909 185.17373676 199.58882701 202.08361852]\n",
      " [183.12845022  36.32702745  34.95093068 179.15448334 181.34716572]\n",
      " [ 16.97620454  16.79653099  16.97556524  16.98153444  16.8117191 ]\n",
      " [ 35.01525282  36.16339701 182.48269324 179.65517111 180.70786631]\n",
      " [184.64716479 197.4379815  203.17779759 200.12479717 201.19601961]\n",
      " [201.59176201 201.87644087 205.87995687 204.75358624 203.87115731]\n",
      " [205.32904157 205.32904157 208.59211573 208.59211573 207.60626319]\n",
      " [204.10032334 202.30005617 202.9694813  206.99287621 204.97294744]\n",
      " [204.45205845 200.28494297 200.28491827 204.45205492 202.45760476]\n",
      " [201.73133557 178.50494151  54.19774545 183.716717   199.76402222]\n",
      " [ 18.17234051  18.13088664  17.9742501   18.15392365  17.99061711]\n",
      " [  1.63997683   1.63624259   1.63988324   1.63879793   1.62360982]\n",
      " [ 17.88075551  18.03661872  18.077807    18.05978977  17.89702893]\n",
      " [ 53.93832866 177.6211829  200.68191811 182.88917016 198.72509893]\n",
      " [199.24327021 199.2682283  203.36011691 203.35655147 201.37651574]\n",
      " [201.87679738 201.59461407 204.75394274 205.87995687 203.87115731]\n",
      " [201.38153719 199.49296175 200.23311544 204.07472217 202.08397495]\n",
      " [201.59860492 197.25060326 196.38654428 201.73137122 199.7640575 ]\n",
      " [197.49383753 177.45693523 164.33071176 195.61863855 195.56889916]\n",
      " [159.85873767  33.78398077  14.84872059  35.42002138 158.31015029]\n",
      " [ 14.40038158  14.3143581   14.39960825  14.24374504  14.25637781]\n",
      " [ 14.83386648  33.64423204 159.07759266  35.24936448 157.53681674]\n",
      " [163.54714924 176.79124468 196.52629853 194.60983615 194.61103554]\n",
      " [195.44709335 196.5459688  200.71793267 200.68227462 198.76075334]\n",
      " [199.25069913 198.92431861 201.90927642 203.18139867 201.19958469]\n",
      " [198.70635683 196.80555364 197.3518269  201.20782517 199.24574691]\n",
      " [198.79459072 193.28346352 181.04750764 197.40201    196.81664481]\n",
      " [178.79989199  35.34671088  34.11102921 177.74034044 177.06189307]\n",
      " [ 16.10663267  16.00185745  16.00185745  16.08788093  15.94556635]\n",
      " [ 72.1803786   72.96633303  72.18032364  72.17868941  72.2366697 ]\n",
      " [ 15.94695943  15.94695943  16.05112462  16.03220958  15.89061338]\n",
      " [ 33.97128047  35.27616445 178.18369655 176.90350312 176.45185959]\n",
      " [180.45915044 193.1528662  198.13750856 196.46876936 196.16613347]\n",
      " [196.7429788  196.81009647 199.17466955 200.50485579 198.54980723]\n",
      " [197.04446385 197.95954678 195.47225493 198.51629853 196.58113554]\n",
      " [196.53118626 178.34070655  53.32776759 178.86111563 194.5758744 ]\n",
      " [ 17.70390122  17.6857372   17.58157201  17.68634724  17.52686221]\n",
      " [ 72.18195989  72.18032364  72.96633303  72.1803786   72.2366697 ]\n",
      " [ 80.3366697   80.3366697   80.3366697   80.3366697  810.        ]\n",
      " [ 72.96633303  72.1803786   72.18195989  72.18032364  72.2366697 ]\n",
      " [ 17.58157201  17.68634724  17.70390122  17.6857372   17.52686221]\n",
      " [ 53.32776759 178.86111563 196.53118626 178.34070655 194.5758744 ]\n",
      " [195.47225493 198.51629853 197.04446385 197.95954678 196.58113554]\n",
      " [199.17466955 200.50485579 196.7429788  196.81009647 198.54980723]\n",
      " [198.13750856 196.46876936 180.45915044 193.1528662  196.16613347]\n",
      " [178.18369655 176.90350312  33.97128048  35.27616445 176.45185959]\n",
      " [ 16.05112463  16.04965715  15.94695944  15.94695944  15.89061338]\n",
      " [ 72.18032364  72.18122019  72.1803786   72.96633303  72.2366697 ]\n",
      " [ 16.0018575   16.1054164   16.10663272  16.0018575   15.94556639]\n",
      " [ 34.11102925 177.74034045 178.79989199  35.34671089 177.06189307]\n",
      " [181.04750764 197.40201    198.79459072 193.28346352 196.81664481]\n",
      " [197.3518269  201.20782517 198.70635683 196.80555364 199.24574691]\n",
      " [201.90927642 203.18139867 199.25069913 198.92431861 201.19958469]\n",
      " [200.71793267 200.68227462 195.44709335 196.5459688  198.76075334]\n",
      " [196.52629853 196.35459257 177.50520058 178.5360011  194.61103554]\n",
      " [176.70139485 176.49285988  34.48229179  33.89730993 174.9843809 ]\n",
      " [ 16.94530394  16.95672395  16.94616513  16.84260623  16.78715671]\n",
      " [ 34.58589001 177.37346962 177.57128397  34.0370587  175.84557113]\n",
      " [178.35904843 197.37218064 197.49383753 179.21047732 195.56889916]\n",
      " [196.38654428 201.73137122 201.59860492 197.25060326 199.7640575 ]\n",
      " [200.23311544 204.07472217 201.38153719 199.49296175 202.08397495]\n",
      " [204.75394274 205.87995687 201.87679738 201.59461407 203.87115731]\n",
      " [203.36011691 203.35655147 199.24327021 199.2682283  201.37651574]\n",
      " [200.68191811 200.51297235 194.92874617 195.24498509 198.72509893]\n",
      " [196.09601093 195.73289909 186.23944878 178.46045424 194.14505082]\n",
      " [175.65946268 188.23676388 176.44428606  52.36483846 186.36439624]\n",
      " [186.39924876 196.42623909 197.08694954 179.25329875 195.12608005]\n",
      " [195.8981158  201.42926329 201.73133557 196.2174878  199.76402222]\n",
      " [200.28491827 204.45205492 204.45205845 200.28494297 202.45760476]\n",
      " [202.9694813  206.99287621 204.10032334 202.30005617 204.97294744]\n",
      " [208.59211573 208.59211573 205.32904157 205.32904157 207.60626319]\n",
      " [205.87995687 204.75358624 201.59176201 201.87644087 203.87115731]\n",
      " [203.17779759 201.71150424 197.34082132 199.02468857 201.19601961]\n",
      " [198.51003734 183.86504089 186.89487245 194.13534897 196.57493697]\n",
      " [177.58656111  52.87804363 178.17600878 188.51218535 186.67706349]\n",
      " [186.92904543 183.44236125 199.25428945 195.00893224 197.31174655]\n",
      " [197.94540143 201.18528509 204.07436214 200.03968717 202.08361852]\n",
      " [202.29977102 204.1002877  206.99287621 202.96944566 204.97294744]\n",
      " [207.18127902 208.44793162 208.44793162 207.18127902 210.        ]]\n",
      "[[206.34793162 205.08127902 205.08127902 206.34793162 207.9       ]\n",
      " [206.94287621 202.91944566 202.24977102 204.0502877  204.92294744]\n",
      " [204.02436214 198.39322909 185.12373676 199.53882701 202.03361852]\n",
      " [183.07845022  36.27702745  34.90093068 179.10448334 181.29716572]\n",
      " [ 16.97620454  16.79653099  16.97556524  16.98153444  16.8117191 ]\n",
      " [ 34.96525282  36.11339701 182.43269324 179.60517111 180.65786631]\n",
      " [184.59716479 197.3879815  203.12779759 200.07479717 201.14601961]\n",
      " [201.54176201 201.82644087 205.82995687 204.70358624 203.82115731]\n",
      " [204.22904157 204.22904157 207.49211573 207.49211573 206.50626319]\n",
      " [204.05032334 202.25005617 202.9194813  206.94287621 204.92294744]\n",
      " [204.40205845 200.23494297 200.23491827 204.40205492 202.40760476]\n",
      " [201.68133557 178.45494151  54.14774545 183.666717   199.71402222]\n",
      " [ 18.17234051  18.13088664  17.9742501   18.15392365  17.99061711]\n",
      " [  1.63997683   1.63624259   1.63988324   1.63879793   1.62360982]\n",
      " [ 17.88075551  18.03661872  18.077807    18.05978977  17.89702893]\n",
      " [ 53.88832866 177.5711829  200.63191811 182.83917016 198.67509893]\n",
      " [199.19327021 199.2182283  203.31011691 203.30655147 201.32651574]\n",
      " [201.82679738 201.54461407 204.70394274 205.82995687 203.82115731]\n",
      " [201.33153719 199.44296175 200.18311544 204.02472217 202.03397495]\n",
      " [201.54860492 197.20060326 196.33654428 201.68137122 199.7140575 ]\n",
      " [197.44383753 177.40693523 164.28071176 195.56863855 195.51889916]\n",
      " [159.80873767  33.73398077  14.79872059  35.37002138 158.26015029]\n",
      " [ 14.40038158  14.3143581   14.39960825  14.24374504  14.25637781]\n",
      " [ 14.78386648  33.59423204 159.02759266  35.19936448 157.48681674]\n",
      " [163.49714924 176.74124468 196.47629853 194.55983615 194.56103554]\n",
      " [195.39709335 196.4959688  200.66793267 200.63227462 198.71075334]\n",
      " [199.20069913 198.87431861 201.85927642 203.13139867 201.14958469]\n",
      " [198.65635683 196.75555364 197.3018269  201.15782517 199.19574691]\n",
      " [198.78459072 193.27346352 181.03750764 197.39201    196.80664481]\n",
      " [178.74989199  35.29671088  34.06102921 177.69034044 177.01189307]\n",
      " [ 16.10663267  16.00185745  16.00185745  16.08788093  15.94556635]\n",
      " [ 72.1803786   72.96633303  72.18032364  72.17868941  72.2366697 ]\n",
      " [ 15.94695943  15.94695943  16.05112462  16.03220958  15.89061338]\n",
      " [ 33.92128047  35.22616445 178.13369655 176.85350312 176.40185959]\n",
      " [180.44915044 193.1428662  198.12750856 196.45876936 196.15613347]\n",
      " [196.6929788  196.76009647 199.12466955 200.45485579 198.49980723]\n",
      " [196.99446385 197.90954678 195.42225493 198.46629853 196.53113554]\n",
      " [196.52118626 178.33070655  53.31776759 178.85111563 194.5658744 ]\n",
      " [ 17.70390122  17.6857372   17.58157201  17.68634724  17.52686221]\n",
      " [ 72.18195989  72.18032364  72.96633303  72.1803786   72.2366697 ]\n",
      " [ 72.2366697   72.2366697   72.2366697   72.2366697  801.9       ]\n",
      " [ 72.96633303  72.1803786   72.18195989  72.18032364  72.2366697 ]\n",
      " [ 17.58157201  17.68634724  17.70390122  17.6857372   17.52686221]\n",
      " [ 53.31776759 178.85111563 196.52118626 178.33070655 194.5658744 ]\n",
      " [195.42225493 198.46629853 196.99446385 197.90954678 196.53113554]\n",
      " [199.12466955 200.45485579 196.6929788  196.76009647 198.49980723]\n",
      " [198.12750856 196.45876936 180.44915044 193.1428662  196.15613347]\n",
      " [178.13369655 176.85350312  33.92128048  35.22616445 176.40185959]\n",
      " [ 16.05112463  16.04965715  15.94695944  15.94695944  15.89061338]\n",
      " [ 72.18032364  72.18122019  72.1803786   72.96633303  72.2366697 ]\n",
      " [ 16.0018575   16.1054164   16.10663272  16.0018575   15.94556639]\n",
      " [ 34.06102925 177.69034045 178.74989199  35.29671089 177.01189307]\n",
      " [181.03750764 197.39201    198.78459072 193.27346352 196.80664481]\n",
      " [197.3018269  201.15782517 198.65635683 196.75555364 199.19574691]\n",
      " [201.85927642 203.13139867 199.20069913 198.87431861 201.14958469]\n",
      " [200.66793267 200.63227462 195.39709335 196.4959688  198.71075334]\n",
      " [196.47629853 196.30459257 177.45520058 178.4860011  194.56103554]\n",
      " [176.65139485 176.44285988  34.43229179  33.84730993 174.9343809 ]\n",
      " [ 16.94530394  16.95672395  16.94616513  16.84260623  16.78715671]\n",
      " [ 34.53589001 177.32346962 177.52128397  33.9870587  175.79557113]\n",
      " [178.30904843 197.32218064 197.44383753 179.16047732 195.51889916]\n",
      " [196.33654428 201.68137122 201.54860492 197.20060326 199.7140575 ]\n",
      " [200.18311544 204.02472217 201.33153719 199.44296175 202.03397495]\n",
      " [204.70394274 205.82995687 201.82679738 201.54461407 203.82115731]\n",
      " [203.31011691 203.30655147 199.19327021 199.2182283  201.32651574]\n",
      " [200.63191811 200.46297235 194.87874617 195.19498509 198.67509893]\n",
      " [196.08601093 195.72289909 186.22944878 178.45045424 194.13505082]\n",
      " [175.64946268 188.22676388 176.43428606  52.35483846 186.35439624]\n",
      " [186.38924876 196.41623909 197.07694954 179.24329875 195.11608005]\n",
      " [195.8481158  201.37926329 201.68133557 196.1674878  199.71402222]\n",
      " [200.23491827 204.40205492 204.40205845 200.23494297 202.40760476]\n",
      " [202.9194813  206.94287621 204.05032334 202.25005617 204.92294744]\n",
      " [207.49211573 207.49211573 204.22904157 204.22904157 206.50626319]\n",
      " [205.82995687 204.70358624 201.54176201 201.82644087 203.82115731]\n",
      " [203.12779759 201.66150424 197.29082132 198.97468857 201.14601961]\n",
      " [198.46003734 183.81504089 186.84487245 194.08534897 196.52493697]\n",
      " [177.53656111  52.82804363 178.12600878 188.46218535 186.62706349]\n",
      " [186.87904543 183.39236125 199.20428945 194.95893224 197.26174655]\n",
      " [197.89540143 201.13528509 204.02436214 199.98968717 202.03361852]\n",
      " [202.24977102 204.0502877  206.94287621 202.91944566 204.92294744]\n",
      " [205.08127902 206.34793162 206.34793162 205.08127902 207.9       ]]\n",
      "[210.         206.99287621 204.07436214 183.12845022  16.98153444\n",
      " 182.48269324 203.17779759 205.87995687 208.59218505 206.99287621\n",
      " 204.45212602 201.73133557  18.17234051   1.64000992  18.077807\n",
      " 200.68191811 203.36011691 205.87995687 204.07472217 201.73137122\n",
      " 197.49383753 159.85873767  14.40038163 159.07759266 196.52629853\n",
      " 200.71793267 203.18139867 201.20782517 198.79459072 178.79989199\n",
      "  16.10663267  72.96633303  16.05112462 178.18369655 198.13750856\n",
      " 200.50485579 198.51629853 196.53118626  17.70390122  72.96633303\n",
      " 810.          72.96633303  17.70390122 196.53118626 198.51629853\n",
      " 200.50485579 198.13750856 178.18369655  16.05112463  72.96633303\n",
      "  16.10663272 178.79989199 198.79459072 201.20782517 203.18139867\n",
      " 200.71793267 196.52629853 176.70139485  16.95672395 177.57128397\n",
      " 197.49383753 201.73137122 204.07472217 205.87995687 203.36011691\n",
      " 200.68191811 196.09601093 188.23676388 197.08694954 201.73133557\n",
      " 204.45212602 206.99287621 208.59218505 205.87995687 203.17779759\n",
      " 198.51003734 188.51218535 199.25428945 204.07436214 206.99287621\n",
      " 210.        ]\n"
     ]
    }
   ],
   "source": [
    "# True q-vals for debugging and comparison purposes\n",
    "Qs = tabsoftq_learn_Qs(mdp)\n",
    "sa = np.transpose([np.tile(np.arange(mdp.num_states), mdp.num_actions), np.repeat(np.arange(mdp.num_actions), mdp.num_states)])\n",
    "states, acts = sa[:,0], sa[:,1]\n",
    "true_qs = Qs[states,acts]\n",
    "\n",
    "# Preprocessing for training update visualizations\n",
    "tts = np.arange(2)\n",
    "acts = np.arange(num_actions) \n",
    "adt_samples = np.transpose([np.tile(tts, len(acts)), np.repeat(acts, len(tts))])\n",
    "adt_samples = adt_samples[adt_samples[:,0].argsort()]\n",
    "states = featurize_states(np.arange(num_states))\n",
    "\n",
    "# Optional preloading of q-fn or dynamics models\n",
    "# q_net_path = os.path.join(data_dir, 'true_q_16384.tf')\n",
    "# save_tf_vars(sess, q_scope, q_net_path)\n",
    "# load_tf_vars(sess, q_scope, q_net_path)\n",
    "\n",
    "#invadt_path = os.path.join(data_dir, 'adt_fw_t.tf')\n",
    "#load_tf_vars(sess, invadt_scope, invadt_path)"
   ]
  },
  {
   "cell_type": "markdown",
   "metadata": {},
   "source": [
    "## IDL Training"
   ]
  },
  {
   "cell_type": "code",
   "execution_count": 58,
   "metadata": {},
   "outputs": [],
   "source": [
    "n_training_iters = 1000000"
   ]
  },
  {
   "cell_type": "code",
   "execution_count": 59,
   "metadata": {},
   "outputs": [],
   "source": [
    "tf.global_variables_initializer().run(session=sess)"
   ]
  },
  {
   "cell_type": "code",
   "execution_count": 60,
   "metadata": {},
   "outputs": [],
   "source": [
    "train_log_base = {\n",
    "  'loss_evals': [],\n",
    "  'ntll_evals': [],\n",
    "  'nall_evals': [],\n",
    "  'tde_evals': [],\n",
    "  'val_loss_evals': [],\n",
    "  'val_ntll_evals': [],\n",
    "  'val_nall_evals': [],\n",
    "  'val_tde_evals': [],\n",
    "  'sigmas_evals': []\n",
    "}\n",
    "\n",
    "mode_logs = {}\n",
    "\n",
    "val_log = None"
   ]
  },
  {
   "cell_type": "code",
   "execution_count": 61,
   "metadata": {},
   "outputs": [],
   "source": [
    "# The best order of optimization seems to be \"trans\" -> \"adt_br\" -> \"adt_brsgt\" -> \"adt\" [->\"adt-br\"->\"adt\"]\n",
    "\n",
    "# update = \"trans\"\n",
    "# update = \"adt_q\"\n",
    "# update = \"adt_t\"\n",
    "\n",
    "# update = \"adt_learn\"\n",
    "# update = \"trans\"\n",
    "# update = \"adt_br\"\n",
    "# update = \"adt_regularize\"\n",
    "\n",
    "# update_progression = [\"adt_regularize\", \"adt_learn\"]\n",
    "\n",
    "update_progression = [\"true_qs\"]\n",
    "\n",
    "for up in update_progression:\n",
    "    mode_logs[up] = copy(train_log_base)\n",
    "    \n",
    "update = \"true_qs\"\n",
    "\n",
    "mode_logs[update] = copy(train_log_base)\n",
    "\n",
    "\n",
    "full_train_logs = mode_logs[update]\n",
    "\n",
    "\n",
    "# update = \"adt_br\"\n",
    "# update = \"adt_brsgt\"\n",
    "# update = \"adt\"\n",
    "# update = \"adt_un\"\n",
    "\n"
   ]
  },
  {
   "cell_type": "code",
   "execution_count": 62,
   "metadata": {},
   "outputs": [],
   "source": [
    "total_train_time, i = 0, 0"
   ]
  },
  {
   "cell_type": "code",
   "execution_count": 63,
   "metadata": {
    "scrolled": true
   },
   "outputs": [
    {
     "name": "stdout",
     "output_type": "stream",
     "text": [
      "[('loss', 12026185.0)]\n"
     ]
    },
    {
     "data": {
      "image/png": "[encoded data removed]",
      "text/plain": [
       "<Figure size 576x576 with 1 Axes>"
      ]
     },
     "metadata": {},
     "output_type": "display_data"
    },
    {
     "name": "stdout",
     "output_type": "stream",
     "text": [
      "[[0.2        0.2        0.2        0.2        0.2       ]\n",
      " [0.2125412  0.2206603  0.18956494 0.16475049 0.21248314]\n",
      " [0.22353132 0.24093537 0.1778149  0.13430913 0.22340922]\n",
      " [0.23291294 0.2606375  0.16524877 0.10847868 0.23272212]\n",
      " [0.24070275 0.27964392 0.15231428 0.08689912 0.24043986]\n",
      " [0.21353635 0.19940013 0.19234936 0.17379297 0.22092116]\n",
      " [0.21742651 0.2305253  0.17678876 0.14962567 0.22563368]\n",
      " [0.22768448 0.25523138 0.16349371 0.12075511 0.23283526]\n",
      " [0.23434971 0.27497265 0.15234998 0.09919662 0.23913106]\n",
      " [0.2405062  0.29341832 0.14110592 0.07995039 0.24501914]]\n"
     ]
    },
    {
     "data": {
      "image/png": "[encoded data removed]",
      "text/plain": [
       "<Figure size 432x288 with 1 Axes>"
      ]
     },
     "metadata": {},
     "output_type": "display_data"
    },
    {
     "ename": "KeyboardInterrupt",
     "evalue": "",
     "output_type": "error",
     "traceback": [
      "\u001b[0;31m---------------------------------------------------------------------------\u001b[0m",
      "\u001b[0;31mKeyboardInterrupt\u001b[0m                         Traceback (most recent call last)",
      "\u001b[0;32m<ipython-input-63-51d0f72d6898>\u001b[0m in \u001b[0;36m<module>\u001b[0;34m()\u001b[0m\n\u001b[1;32m      3\u001b[0m \u001b[0;32mwhile\u001b[0m \u001b[0mtotal_train_time\u001b[0m \u001b[0;34m<\u001b[0m \u001b[0mn_training_iters\u001b[0m\u001b[0;34m:\u001b[0m\u001b[0;34m\u001b[0m\u001b[0m\n\u001b[1;32m      4\u001b[0m     \u001b[0mdemo_batch\u001b[0m \u001b[0;34m=\u001b[0m \u001b[0msample_batch\u001b[0m\u001b[0;34m(\u001b[0m\u001b[0mnn_rollouts\u001b[0m\u001b[0;34m,\u001b[0m \u001b[0mtrain_idxes\u001b[0m\u001b[0;34m,\u001b[0m \u001b[0mbatch_size\u001b[0m\u001b[0;34m)\u001b[0m\u001b[0;34m\u001b[0m\u001b[0m\n\u001b[0;32m----> 5\u001b[0;31m     \u001b[0mtrain_log\u001b[0m \u001b[0;34m=\u001b[0m \u001b[0mcompute_batch_loss\u001b[0m\u001b[0;34m(\u001b[0m\u001b[0mdemo_batch\u001b[0m\u001b[0;34m,\u001b[0m \u001b[0mconstraints\u001b[0m\u001b[0;34m,\u001b[0m \u001b[0mstep\u001b[0m\u001b[0;34m=\u001b[0m\u001b[0;32mTrue\u001b[0m\u001b[0;34m,\u001b[0m \u001b[0mupdate\u001b[0m\u001b[0;34m=\u001b[0m\u001b[0mupdate\u001b[0m\u001b[0;34m,\u001b[0m \u001b[0mtrue_qs\u001b[0m\u001b[0;34m=\u001b[0m\u001b[0mtrue_qs\u001b[0m\u001b[0;34m)\u001b[0m\u001b[0;34m\u001b[0m\u001b[0m\n\u001b[0m\u001b[1;32m      6\u001b[0m     \u001b[0;32mif\u001b[0m \u001b[0mi\u001b[0m \u001b[0;34m%\u001b[0m \u001b[0;36m20\u001b[0m \u001b[0;34m==\u001b[0m \u001b[0;36m0\u001b[0m\u001b[0;34m:\u001b[0m\u001b[0;34m\u001b[0m\u001b[0m\n\u001b[1;32m      7\u001b[0m         \u001b[0mval_log\u001b[0m \u001b[0;34m=\u001b[0m \u001b[0mcompute_batch_loss\u001b[0m\u001b[0;34m(\u001b[0m\u001b[0mval_demo_batch\u001b[0m\u001b[0;34m,\u001b[0m \u001b[0mconstraints\u001b[0m\u001b[0;34m,\u001b[0m \u001b[0mstep\u001b[0m\u001b[0;34m=\u001b[0m\u001b[0;32mFalse\u001b[0m\u001b[0;34m,\u001b[0m \u001b[0mupdate\u001b[0m\u001b[0;34m=\u001b[0m\u001b[0mupdate\u001b[0m\u001b[0;34m,\u001b[0m \u001b[0mtrue_qs\u001b[0m\u001b[0;34m=\u001b[0m\u001b[0mtrue_qs\u001b[0m\u001b[0;34m)\u001b[0m\u001b[0;34m\u001b[0m\u001b[0m\n",
      "\u001b[0;32m<ipython-input-53-decf1c4df8a0>\u001b[0m in \u001b[0;36mcompute_batch_loss\u001b[0;34m(demo_batch, constraints, step, update, true_qs)\u001b[0m\n\u001b[1;32m    117\u001b[0m \u001b[0;34m\u001b[0m\u001b[0m\n\u001b[1;32m    118\u001b[0m     \u001b[0;32mif\u001b[0m \u001b[0mstep\u001b[0m\u001b[0;34m:\u001b[0m\u001b[0;34m\u001b[0m\u001b[0m\n\u001b[0;32m--> 119\u001b[0;31m         \u001b[0msess\u001b[0m\u001b[0;34m.\u001b[0m\u001b[0mrun\u001b[0m\u001b[0;34m(\u001b[0m\u001b[0mupdate_op\u001b[0m\u001b[0;34m,\u001b[0m \u001b[0mfeed_dict\u001b[0m\u001b[0;34m=\u001b[0m\u001b[0mfeed_dict\u001b[0m\u001b[0;34m)\u001b[0m\u001b[0;34m\u001b[0m\u001b[0m\n\u001b[0m\u001b[1;32m    120\u001b[0m \u001b[0;34m\u001b[0m\u001b[0m\n\u001b[1;32m    121\u001b[0m     \u001b[0;32mreturn\u001b[0m \u001b[0md\u001b[0m\u001b[0;34m\u001b[0m\u001b[0m\n",
      "\u001b[0;32m~/anaconda3/lib/python3.6/site-packages/tensorflow/python/client/session.py\u001b[0m in \u001b[0;36mrun\u001b[0;34m(self, fetches, feed_dict, options, run_metadata)\u001b[0m\n\u001b[1;32m    898\u001b[0m     \u001b[0;32mtry\u001b[0m\u001b[0;34m:\u001b[0m\u001b[0;34m\u001b[0m\u001b[0m\n\u001b[1;32m    899\u001b[0m       result = self._run(None, fetches, feed_dict, options_ptr,\n\u001b[0;32m--> 900\u001b[0;31m                          run_metadata_ptr)\n\u001b[0m\u001b[1;32m    901\u001b[0m       \u001b[0;32mif\u001b[0m \u001b[0mrun_metadata\u001b[0m\u001b[0;34m:\u001b[0m\u001b[0;34m\u001b[0m\u001b[0m\n\u001b[1;32m    902\u001b[0m         \u001b[0mproto_data\u001b[0m \u001b[0;34m=\u001b[0m \u001b[0mtf_session\u001b[0m\u001b[0;34m.\u001b[0m\u001b[0mTF_GetBuffer\u001b[0m\u001b[0;34m(\u001b[0m\u001b[0mrun_metadata_ptr\u001b[0m\u001b[0;34m)\u001b[0m\u001b[0;34m\u001b[0m\u001b[0m\n",
      "\u001b[0;32m~/anaconda3/lib/python3.6/site-packages/tensorflow/python/client/session.py\u001b[0m in \u001b[0;36m_run\u001b[0;34m(self, handle, fetches, feed_dict, options, run_metadata)\u001b[0m\n\u001b[1;32m   1133\u001b[0m     \u001b[0;32mif\u001b[0m \u001b[0mfinal_fetches\u001b[0m \u001b[0;32mor\u001b[0m \u001b[0mfinal_targets\u001b[0m \u001b[0;32mor\u001b[0m \u001b[0;34m(\u001b[0m\u001b[0mhandle\u001b[0m \u001b[0;32mand\u001b[0m \u001b[0mfeed_dict_tensor\u001b[0m\u001b[0;34m)\u001b[0m\u001b[0;34m:\u001b[0m\u001b[0;34m\u001b[0m\u001b[0m\n\u001b[1;32m   1134\u001b[0m       results = self._do_run(handle, final_targets, final_fetches,\n\u001b[0;32m-> 1135\u001b[0;31m                              feed_dict_tensor, options, run_metadata)\n\u001b[0m\u001b[1;32m   1136\u001b[0m     \u001b[0;32melse\u001b[0m\u001b[0;34m:\u001b[0m\u001b[0;34m\u001b[0m\u001b[0m\n\u001b[1;32m   1137\u001b[0m       \u001b[0mresults\u001b[0m \u001b[0;34m=\u001b[0m \u001b[0;34m[\u001b[0m\u001b[0;34m]\u001b[0m\u001b[0;34m\u001b[0m\u001b[0m\n",
      "\u001b[0;32m~/anaconda3/lib/python3.6/site-packages/tensorflow/python/client/session.py\u001b[0m in \u001b[0;36m_do_run\u001b[0;34m(self, handle, target_list, fetch_list, feed_dict, options, run_metadata)\u001b[0m\n\u001b[1;32m   1314\u001b[0m     \u001b[0;32mif\u001b[0m \u001b[0mhandle\u001b[0m \u001b[0;32mis\u001b[0m \u001b[0;32mNone\u001b[0m\u001b[0;34m:\u001b[0m\u001b[0;34m\u001b[0m\u001b[0m\n\u001b[1;32m   1315\u001b[0m       return self._do_call(_run_fn, feeds, fetches, targets, options,\n\u001b[0;32m-> 1316\u001b[0;31m                            run_metadata)\n\u001b[0m\u001b[1;32m   1317\u001b[0m     \u001b[0;32melse\u001b[0m\u001b[0;34m:\u001b[0m\u001b[0;34m\u001b[0m\u001b[0m\n\u001b[1;32m   1318\u001b[0m       \u001b[0;32mreturn\u001b[0m \u001b[0mself\u001b[0m\u001b[0;34m.\u001b[0m\u001b[0m_do_call\u001b[0m\u001b[0;34m(\u001b[0m\u001b[0m_prun_fn\u001b[0m\u001b[0;34m,\u001b[0m \u001b[0mhandle\u001b[0m\u001b[0;34m,\u001b[0m \u001b[0mfeeds\u001b[0m\u001b[0;34m,\u001b[0m \u001b[0mfetches\u001b[0m\u001b[0;34m)\u001b[0m\u001b[0;34m\u001b[0m\u001b[0m\n",
      "\u001b[0;32m~/anaconda3/lib/python3.6/site-packages/tensorflow/python/client/session.py\u001b[0m in \u001b[0;36m_do_call\u001b[0;34m(self, fn, *args)\u001b[0m\n\u001b[1;32m   1320\u001b[0m   \u001b[0;32mdef\u001b[0m \u001b[0m_do_call\u001b[0m\u001b[0;34m(\u001b[0m\u001b[0mself\u001b[0m\u001b[0;34m,\u001b[0m \u001b[0mfn\u001b[0m\u001b[0;34m,\u001b[0m \u001b[0;34m*\u001b[0m\u001b[0margs\u001b[0m\u001b[0;34m)\u001b[0m\u001b[0;34m:\u001b[0m\u001b[0;34m\u001b[0m\u001b[0m\n\u001b[1;32m   1321\u001b[0m     \u001b[0;32mtry\u001b[0m\u001b[0;34m:\u001b[0m\u001b[0;34m\u001b[0m\u001b[0m\n\u001b[0;32m-> 1322\u001b[0;31m       \u001b[0;32mreturn\u001b[0m \u001b[0mfn\u001b[0m\u001b[0;34m(\u001b[0m\u001b[0;34m*\u001b[0m\u001b[0margs\u001b[0m\u001b[0;34m)\u001b[0m\u001b[0;34m\u001b[0m\u001b[0m\n\u001b[0m\u001b[1;32m   1323\u001b[0m     \u001b[0;32mexcept\u001b[0m \u001b[0merrors\u001b[0m\u001b[0;34m.\u001b[0m\u001b[0mOpError\u001b[0m \u001b[0;32mas\u001b[0m \u001b[0me\u001b[0m\u001b[0;34m:\u001b[0m\u001b[0;34m\u001b[0m\u001b[0m\n\u001b[1;32m   1324\u001b[0m       \u001b[0mmessage\u001b[0m \u001b[0;34m=\u001b[0m \u001b[0mcompat\u001b[0m\u001b[0;34m.\u001b[0m\u001b[0mas_text\u001b[0m\u001b[0;34m(\u001b[0m\u001b[0me\u001b[0m\u001b[0;34m.\u001b[0m\u001b[0mmessage\u001b[0m\u001b[0;34m)\u001b[0m\u001b[0;34m\u001b[0m\u001b[0m\n",
      "\u001b[0;32m~/anaconda3/lib/python3.6/site-packages/tensorflow/python/client/session.py\u001b[0m in \u001b[0;36m_run_fn\u001b[0;34m(feed_dict, fetch_list, target_list, options, run_metadata)\u001b[0m\n\u001b[1;32m   1305\u001b[0m       \u001b[0mself\u001b[0m\u001b[0;34m.\u001b[0m\u001b[0m_extend_graph\u001b[0m\u001b[0;34m(\u001b[0m\u001b[0;34m)\u001b[0m\u001b[0;34m\u001b[0m\u001b[0m\n\u001b[1;32m   1306\u001b[0m       return self._call_tf_sessionrun(\n\u001b[0;32m-> 1307\u001b[0;31m           options, feed_dict, fetch_list, target_list, run_metadata)\n\u001b[0m\u001b[1;32m   1308\u001b[0m \u001b[0;34m\u001b[0m\u001b[0m\n\u001b[1;32m   1309\u001b[0m     \u001b[0;32mdef\u001b[0m \u001b[0m_prun_fn\u001b[0m\u001b[0;34m(\u001b[0m\u001b[0mhandle\u001b[0m\u001b[0;34m,\u001b[0m \u001b[0mfeed_dict\u001b[0m\u001b[0;34m,\u001b[0m \u001b[0mfetch_list\u001b[0m\u001b[0;34m)\u001b[0m\u001b[0;34m:\u001b[0m\u001b[0;34m\u001b[0m\u001b[0m\n",
      "\u001b[0;32m~/anaconda3/lib/python3.6/site-packages/tensorflow/python/client/session.py\u001b[0m in \u001b[0;36m_call_tf_sessionrun\u001b[0;34m(self, options, feed_dict, fetch_list, target_list, run_metadata)\u001b[0m\n\u001b[1;32m   1407\u001b[0m       return tf_session.TF_SessionRun_wrapper(\n\u001b[1;32m   1408\u001b[0m           \u001b[0mself\u001b[0m\u001b[0;34m.\u001b[0m\u001b[0m_session\u001b[0m\u001b[0;34m,\u001b[0m \u001b[0moptions\u001b[0m\u001b[0;34m,\u001b[0m \u001b[0mfeed_dict\u001b[0m\u001b[0;34m,\u001b[0m \u001b[0mfetch_list\u001b[0m\u001b[0;34m,\u001b[0m \u001b[0mtarget_list\u001b[0m\u001b[0;34m,\u001b[0m\u001b[0;34m\u001b[0m\u001b[0m\n\u001b[0;32m-> 1409\u001b[0;31m           run_metadata)\n\u001b[0m\u001b[1;32m   1410\u001b[0m     \u001b[0;32melse\u001b[0m\u001b[0;34m:\u001b[0m\u001b[0;34m\u001b[0m\u001b[0m\n\u001b[1;32m   1411\u001b[0m       \u001b[0;32mwith\u001b[0m \u001b[0merrors\u001b[0m\u001b[0;34m.\u001b[0m\u001b[0mraise_exception_on_not_ok_status\u001b[0m\u001b[0;34m(\u001b[0m\u001b[0;34m)\u001b[0m \u001b[0;32mas\u001b[0m \u001b[0mstatus\u001b[0m\u001b[0;34m:\u001b[0m\u001b[0;34m\u001b[0m\u001b[0m\n",
      "\u001b[0;31mKeyboardInterrupt\u001b[0m: "
     ]
    }
   ],
   "source": [
    "# I built in a simple update-switcher so I no longer needed to manually stop training and switch update fns\n",
    "\n",
    "while total_train_time < n_training_iters:\n",
    "    demo_batch = sample_batch(nn_rollouts, train_idxes, batch_size)\n",
    "    train_log = compute_batch_loss(demo_batch, constraints, step=True, update=update, true_qs=true_qs)        \n",
    "    if i % 20 == 0:\n",
    "        val_log = compute_batch_loss(val_demo_batch, constraints, step=False, update=update, true_qs=true_qs)\n",
    "        for k, v in train_log.items():\n",
    "            full_train_logs['%s_evals' % k].append(v)\n",
    "        for k, v in val_log.items():\n",
    "            if 'val_%s_evals' % k in full_train_logs:\n",
    "                full_train_logs['val_%s_evals' % k].append(v)\n",
    "    \n",
    "    if i % 1000 == 0:\n",
    "        if i > 5000:\n",
    "            pu = update\n",
    "            losses = full_train_logs['val_loss_evals'][(-i//20):]\n",
    "            update = update_switcher(update, update_progression, losses, slope_threshold=5e-5)\n",
    "            if pu != update:\n",
    "                full_train_logs = mode_logs[update]\n",
    "                print(\"========= Switching to {} =========\".format(update))\n",
    "                i = 0\n",
    "            else:\n",
    "                print([(key,val_log[key]) for key in val_log.keys()])\n",
    "        else:\n",
    "            print([(key,val_log[key]) for key in val_log.keys()])\n",
    "            \n",
    "    if i % 5000 == 0:\n",
    "        q_vals = sess.run([constraint_q_ts], feed_dict={constraint_obs_t_feats_ph:states})[0]\n",
    "        plot_values(mdp, q_vals)\n",
    "        plt.show()\n",
    "        adt_probs = sess.run([adt_pred_dir], feed_dict={demo_tile_t_ph:adt_samples[:,0][np.newaxis].T,\n",
    "                                                demo_act_t_ph:adt_samples[:,1][np.newaxis].T})[0]\n",
    "        print(softmax(adt_probs))\n",
    "        \n",
    "        for k in ['val_loss_evals','val_ntll_evals','val_nall_evals','val_tde_evals']:\n",
    "            if len(full_train_logs[k]) > 0:\n",
    "                plt.xlabel('Iterations')\n",
    "                plt.ylabel(k.split('_')[1])\n",
    "                plt.plot(full_train_logs[k][10:])\n",
    "                plt.show()\n",
    "    i += 1\n",
    "    total_train_time +=1"
   ]
  },
  {
   "cell_type": "markdown",
   "metadata": {},
   "source": [
    "## Frank Wolfe"
   ]
  },
  {
   "cell_type": "code",
   "execution_count": 64,
   "metadata": {},
   "outputs": [],
   "source": [
    "MAX_ITER = 250\n",
    "STOP_CRIT = 1e-6\n",
    "    \n",
    "def _min_norm_element_from2(v1v1, v1v2, v2v2):\n",
    "    \"\"\"\n",
    "    Analytical solution for min_{c} |cx_1 + (1-c)x_2|_2^2\n",
    "    d is the distance (objective) optimzed\n",
    "    v1v1 = <x1,x1>\n",
    "    v1v2 = <x1,x2>\n",
    "    v2v2 = <x2,x2>\n",
    "    \"\"\"\n",
    "    if v1v2 >= v1v1:\n",
    "        # Case: Fig 1, third column\n",
    "        gamma = 0.999\n",
    "        cost = v1v1\n",
    "        return gamma, cost\n",
    "    if v1v2 >= v2v2:\n",
    "        # Case: Fig 1, first column\n",
    "        gamma = 0.001\n",
    "        cost = v2v2\n",
    "        return gamma, cost\n",
    "    # Case: Fig 1, second column\n",
    "    gamma = -1.0 * ( (v1v2 - v2v2) / (v1v1+v2v2 - 2*v1v2) )\n",
    "    cost = v2v2 + gamma*(v1v2 - v2v2)\n",
    "    return gamma, cost\n",
    "\n",
    "def _min_norm_2d(vecs, dps):\n",
    "    \"\"\"\n",
    "    Find the minimum norm solution as combination of two points\n",
    "    This solution is correct if vectors(gradients) lie in 2D\n",
    "    ie. min_c |\\sum c_i x_i|_2^2 st. \\sum c_i = 1 , 1 >= c_1 >= 0 for all i, c_i + c_j = 1.0 for some i, j\n",
    "    \"\"\"\n",
    "    dmin = 1e8\n",
    "    for i in range(len(vecs)):\n",
    "        for j in range(i+1,len(vecs)):\n",
    "            if (i,j) not in dps:\n",
    "                dps[(i, j)] = 0.0\n",
    "                dps[(i,j)] = np.dot(vecs[i], vecs[j])\n",
    "                dps[(j, i)] = dps[(i, j)]\n",
    "            if (i,i) not in dps:\n",
    "                dps[(i, i)] = 0.0\n",
    "                dps[(i,i)] = np.dot(vecs[i], vecs[i])\n",
    "            if (j,j) not in dps:\n",
    "                dps[(j, j)] = 0.0   \n",
    "                dps[(j, j)] = np.dot(vecs[j], vecs[j])\n",
    "            c,d = _min_norm_element_from2(dps[(i,i)], dps[(i,j)], dps[(j,j)])\n",
    "            if d < dmin:\n",
    "                dmin = d\n",
    "                sol = [(i,j),c,d]\n",
    "    return sol, dps\n",
    "\n",
    "def _projection2simplex(y):\n",
    "    \"\"\"\n",
    "    Given y, it solves argmin_z |y-z|_2 st \\sum z = 1 , 1 >= z_i >= 0 for all i\n",
    "    \"\"\"\n",
    "    m = len(y)\n",
    "    sorted_y = np.flip(np.sort(y), axis=0)\n",
    "    tmpsum = 0.0\n",
    "    tmax_f = (np.sum(y) - 1.0)/m\n",
    "    for i in range(m-1):\n",
    "        tmpsum+= sorted_y[i]\n",
    "        tmax = (tmpsum - 1)/ (i+1.0)\n",
    "        if tmax > sorted_y[i+1]:\n",
    "            tmax_f = tmax\n",
    "            break\n",
    "    return np.maximum(y - tmax_f, np.zeros(y.shape))\n",
    "\n",
    "def _next_point(cur_val, grad, n):\n",
    "    proj_grad = grad - ( np.sum(grad) / n )\n",
    "    tm1 = -1.0*cur_val[proj_grad<0]/proj_grad[proj_grad<0]\n",
    "    tm2 = (1.0 - cur_val[proj_grad>0])/(proj_grad[proj_grad>0])\n",
    "\n",
    "    skippers = np.sum(tm1<1e-7) + np.sum(tm2<1e-7)\n",
    "    t = 1\n",
    "    if len(tm1[tm1>1e-7]) > 0:\n",
    "        t = np.min(tm1[tm1>1e-7])\n",
    "    if len(tm2[tm2>1e-7]) > 0:\n",
    "        t = min(t, np.min(tm2[tm2>1e-7]))\n",
    "\n",
    "    next_point = proj_grad*t + cur_val\n",
    "    next_point = _projection2simplex(next_point)\n",
    "    return next_point\n",
    "\n",
    "def find_min_norm_element(vecs):\n",
    "    \"\"\"\n",
    "    Given a list of vectors (vecs), this method finds the minimum norm element in the convex hull\n",
    "    as min |u|_2 st. u = \\sum c_i vecs[i] and \\sum c_i = 1.\n",
    "    It is quite geometric, and the main idea is the fact that if d_{ij} = min |u|_2 st u = c x_i + (1-c) x_j; the solution lies in (0, d_{i,j})\n",
    "    Hence, we find the best 2-task solution, and then run the projected gradient descent until convergence\n",
    "    \"\"\"\n",
    "    # Solution lying at the combination of two points\n",
    "    dps = {}\n",
    "    init_sol, dps = _min_norm_2d(vecs, dps)\n",
    "\n",
    "    n=len(vecs)\n",
    "    sol_vec = np.zeros(n)\n",
    "    sol_vec[init_sol[0][0]] = init_sol[1]\n",
    "    sol_vec[init_sol[0][1]] = 1 - init_sol[1]\n",
    "\n",
    "    if n < 3:\n",
    "        # This is optimal for n=2, so return the solution\n",
    "        return sol_vec , init_sol[2]\n",
    "\n",
    "    iter_count = 0\n",
    "\n",
    "    grad_mat = np.zeros((n,n))\n",
    "    for i in range(n):\n",
    "        for j in range(n):\n",
    "            grad_mat[i,j] = dps[(i, j)]\n",
    "\n",
    "    while iter_count < MAX_ITER:\n",
    "        grad_dir = -1.0*np.dot(grad_mat, sol_vec)\n",
    "        new_point = _next_point(sol_vec, grad_dir, n)\n",
    "        # Re-compute the inner products for line search\n",
    "        v1v1 = 0.0\n",
    "        v1v2 = 0.0\n",
    "        v2v2 = 0.0\n",
    "        for i in range(n):\n",
    "            for j in range(n):\n",
    "                v1v1 += sol_vec[i]*sol_vec[j]*dps[(i,j)]\n",
    "                v1v2 += sol_vec[i]*new_point[j]*dps[(i,j)]\n",
    "                v2v2 += new_point[i]*new_point[j]*dps[(i,j)]\n",
    "        nc, nd = _min_norm_element_from2(v1v1, v1v2, v2v2)\n",
    "        new_sol_vec = nc*sol_vec + (1-nc)*new_point\n",
    "        change = new_sol_vec - sol_vec\n",
    "        if np.sum(np.abs(change)) < STOP_CRIT:\n",
    "            return sol_vec, nd\n",
    "        sol_vec = new_sol_vec   \n",
    "    return sol_vec, nd\n",
    "\n",
    "def find_min_norm_element_FW(vecs):\n",
    "    \"\"\"\n",
    "    Given a list of vectors (vecs), this method finds the minimum norm element in the convex hull\n",
    "    as min |u|_2 st. u = \\sum c_i vecs[i] and \\sum c_i = 1.\n",
    "    It is quite geometric, and the main idea is the fact that if d_{ij} = min |u|_2 st u = c x_i + (1-c) x_j; the solution lies in (0, d_{i,j})\n",
    "    Hence, we find the best 2-task solution, and then run the Frank Wolfe until convergence\n",
    "    \"\"\"\n",
    "    # Solution lying at the combination of two points\n",
    "    dps = {}\n",
    "    init_sol, dps = _min_norm_2d(vecs, dps)\n",
    "\n",
    "    n=len(vecs)\n",
    "    sol_vec = np.zeros(n)\n",
    "    sol_vec[init_sol[0][0]] = init_sol[1]\n",
    "    sol_vec[init_sol[0][1]] = 1 - init_sol[1]\n",
    "\n",
    "    if n < 3:\n",
    "        # This is optimal for n=2, so return the solution\n",
    "        return sol_vec , init_sol[2]\n",
    "\n",
    "    iter_count = 0\n",
    "\n",
    "    grad_mat = np.zeros((n,n))\n",
    "    for i in range(n):\n",
    "        for j in range(n):\n",
    "            grad_mat[i,j] = dps[(i, j)]\n",
    "\n",
    "    while iter_count < MAX_ITER:\n",
    "        t_iter = np.argmin(np.dot(grad_mat, sol_vec))\n",
    "\n",
    "        v1v1 = np.dot(sol_vec, np.dot(grad_mat, sol_vec))\n",
    "        v1v2 = np.dot(sol_vec, grad_mat[:, t_iter])\n",
    "        v2v2 = grad_mat[t_iter, t_iter]\n",
    "\n",
    "        nc, nd = _min_norm_element_from2(v1v1, v1v2, v2v2)\n",
    "        new_sol_vec = nc*sol_vec\n",
    "        new_sol_vec[t_iter] += 1 - nc\n",
    "\n",
    "        change = new_sol_vec - sol_vec\n",
    "        if np.sum(np.abs(change)) < STOP_CRIT:\n",
    "            return sol_vec, nd\n",
    "        sol_vec = new_sol_vec\n",
    "    return sol_vec, nd\n",
    "\n",
    "def gradient_normalizers(grads, losses, normalization_type):\n",
    "    gn = {}\n",
    "    if normalization_type == 'l2':\n",
    "        for t in grads:\n",
    "            gn[t] = np.linalg.norm(grads[t])\n",
    "    elif normalization_type == 'loss':\n",
    "        for t in grads:\n",
    "            gn[t] = losses[t]\n",
    "    elif normalization_type == 'loss+':\n",
    "        for t in grads:\n",
    "            gn[t] = losses[t] * np.linalg.norm(grads[t])\n",
    "    elif normalization_type == 'none':\n",
    "        for t in grads:\n",
    "            gn[t] = 1.0\n",
    "    else:\n",
    "        print('ERROR: Invalid Normalization Type')\n",
    "    return gn"
   ]
  },
  {
   "cell_type": "code",
   "execution_count": 65,
   "metadata": {
    "scrolled": true
   },
   "outputs": [],
   "source": [
    "num_tasks = 2\n",
    "# scales = tf.placeholder(tf.float32, [num_tasks], name=\"scale\") \n",
    "scales = [tf.placeholder(tf.float32, [1], name=\"scale{}\".format(i)) for i in range(num_tasks)]\n",
    "clip_norms = [tf.placeholder(tf.float32, [1], name=\"clipnorm{}\".format(i)) for i in range(num_tasks)]\n",
    "opts = [tf.train.AdamOptimizer(alpha, beta1, beta2) for _ in range(num_tasks)]\n",
    "loss_fns = np.array([nall_loss, ntll_loss, adt_td_err, adt_td_err_sgq, adt_td_err_sgt])\n",
    "loss_fns_titles = np.array(['nall', 'ntll', 'tde', 'tde_sq','tde_st', 'loss'])\n",
    "# loss_configs = [[0],[1],[3],[4]]\n",
    "loss_configs = [[0,3],[1,4]]\n",
    "\n",
    "task_losses = [sum(loss_fns[config]) for config in loss_configs]\n",
    "# # add total loss to the list of losses \n",
    "# losses = [[sum(losses[t])] + list(losses[t]) for t in tasks]\n",
    "loss_titles = [loss_fns_titles[config] for config in loss_configs]\n",
    "\n",
    "\n",
    "q_vars = tf.get_collection(tf.GraphKeys.TRAINABLE_VARIABLES, scope=q_scope)\n",
    "t_vars = tf.get_collection(tf.GraphKeys.TRAINABLE_VARIABLES, scope=invadt_scope)\n",
    "all_vars = q_vars + t_vars\n",
    "all_gvs = [opts[i].compute_gradients(task_losses[i], all_vars) for i in range(num_tasks)]\n",
    "sep_gvs = [[a for a in zip(*gv_set)] for gv_set in all_gvs]\n",
    "grads = [[tf.clip_by_norm(sep_gvs[i][0][j], clip_norms[i]) for j in range(len(sep_gvs[i][0]))] for i in range(num_tasks)]\n",
    "# grads = [gv[0] for gv in sep_gvs]\n",
    "gvars = [gv[1] for gv in sep_gvs]\n",
    "\n",
    "# print([v.shape for v in all_vars])\n",
    "\n",
    "\n",
    "def replace_none_with_zero(grad, var):\n",
    "    return [tf.zeros_like(var[i]) if grad[i]==None else grad[i] for i in range(len(grad))] \n",
    "\n",
    "# print(grads)\n",
    "# grads = [replace_none_with_zero(grad, all_vars) for grad in grads]\n",
    "# print(grads)\n",
    "\n",
    "scaled_grads = [[tf.multiply(g, scales[i]) for g in grads[i]] for i in range(num_tasks)]\n",
    "updates = [opts[i].apply_gradients(zip(scaled_grads[i],gvars[i])) for i in range(num_tasks)]\n",
    "\n",
    "gn = \"l+\""
   ]
  },
  {
   "cell_type": "code",
   "execution_count": 66,
   "metadata": {},
   "outputs": [],
   "source": [
    "tf.global_variables_initializer().run(session=sess)"
   ]
  },
  {
   "cell_type": "code",
   "execution_count": 67,
   "metadata": {},
   "outputs": [],
   "source": [
    "total_train_time = 0\n",
    "\n",
    "full_train_logs = {\n",
    "  'loss_evals': [],\n",
    "  'ntll_evals': [],\n",
    "  'nall_evals': [],\n",
    "  'tde_evals': [],\n",
    "  'val_loss_evals': [],\n",
    "  'val_ntll_evals': [],\n",
    "  'val_nall_evals': [],\n",
    "  'val_tde_evals': [],\n",
    "  'sigmas_evals': []\n",
    "}"
   ]
  },
  {
   "cell_type": "code",
   "execution_count": 68,
   "metadata": {},
   "outputs": [
    {
     "name": "stdout",
     "output_type": "stream",
     "text": [
      "[0.00013293 0.99986707]\n",
      "[('loss', 6.88356), ('nall', 0.78840995), ('tde', 4.13658), ('ntll', 1.9585701)]\n"
     ]
    },
    {
     "data": {
      "image/png": "[encoded data removed]",
      "text/plain": [
       "<Figure size 576x576 with 1 Axes>"
      ]
     },
     "metadata": {},
     "output_type": "display_data"
    },
    {
     "name": "stdout",
     "output_type": "stream",
     "text": [
      "[[0.19999726 0.19996676 0.19994904 0.19993319 0.20015375]\n",
      " [0.22738753 0.18693118 0.19116585 0.21557325 0.1789422 ]\n",
      " [0.25653335 0.1732106  0.18121831 0.23055962 0.15847808]\n",
      " [0.28693515 0.15912187 0.17031643 0.24447493 0.13915163]\n",
      " [0.31820282 0.14493245 0.15870528 0.25701934 0.12114006]\n",
      " [0.22946113 0.19326517 0.18482591 0.19855507 0.19389275]\n",
      " [0.25088444 0.1826823  0.18283382 0.21718669 0.1664127 ]\n",
      " [0.27589074 0.1725463  0.16993701 0.23607275 0.14555316]\n",
      " [0.30497134 0.15944675 0.15797688 0.24945466 0.12815039]\n",
      " [0.3357246  0.14586294 0.14636332 0.26050124 0.11154788]]\n"
     ]
    },
    {
     "data": {
      "image/png": "[encoded data removed]",
      "text/plain": [
       "<Figure size 432x288 with 1 Axes>"
      ]
     },
     "metadata": {},
     "output_type": "display_data"
    },
    {
     "data": {
      "image/png": "[encoded data removed]",
      "text/plain": [
       "<Figure size 432x288 with 1 Axes>"
      ]
     },
     "metadata": {},
     "output_type": "display_data"
    },
    {
     "data": {
      "image/png": "[encoded data removed]",
      "text/plain": [
       "<Figure size 432x288 with 1 Axes>"
      ]
     },
     "metadata": {},
     "output_type": "display_data"
    },
    {
     "data": {
      "image/png": "[encoded data removed]",
      "text/plain": [
       "<Figure size 432x288 with 1 Axes>"
      ]
     },
     "metadata": {},
     "output_type": "display_data"
    },
    {
     "ename": "KeyboardInterrupt",
     "evalue": "",
     "output_type": "error",
     "traceback": [
      "\u001b[0;31m---------------------------------------------------------------------------\u001b[0m",
      "\u001b[0;31mKeyboardInterrupt\u001b[0m                         Traceback (most recent call last)",
      "\u001b[0;32m<ipython-input-68-0c504a3b01ad>\u001b[0m in \u001b[0;36m<module>\u001b[0;34m()\u001b[0m\n\u001b[1;32m     62\u001b[0m     \u001b[0;32mfor\u001b[0m \u001b[0mt\u001b[0m \u001b[0;32min\u001b[0m \u001b[0mrange\u001b[0m\u001b[0;34m(\u001b[0m\u001b[0mnum_tasks\u001b[0m\u001b[0;34m)\u001b[0m\u001b[0;34m:\u001b[0m\u001b[0;34m\u001b[0m\u001b[0m\n\u001b[1;32m     63\u001b[0m         \u001b[0;31m# Inefficient, takes gradients twice when we could just feed the gradients back in\u001b[0m\u001b[0;34m\u001b[0m\u001b[0;34m\u001b[0m\u001b[0m\n\u001b[0;32m---> 64\u001b[0;31m         \u001b[0msess\u001b[0m\u001b[0;34m.\u001b[0m\u001b[0mrun\u001b[0m\u001b[0;34m(\u001b[0m\u001b[0mupdates\u001b[0m\u001b[0;34m,\u001b[0m \u001b[0mfeed_dict\u001b[0m\u001b[0;34m=\u001b[0m\u001b[0mfeed_dict\u001b[0m\u001b[0;34m)\u001b[0m\u001b[0;34m\u001b[0m\u001b[0m\n\u001b[0m\u001b[1;32m     65\u001b[0m \u001b[0;34m\u001b[0m\u001b[0m\n\u001b[1;32m     66\u001b[0m     \u001b[0;32mif\u001b[0m \u001b[0mtotal_train_time\u001b[0m \u001b[0;34m%\u001b[0m \u001b[0;36m20\u001b[0m \u001b[0;34m==\u001b[0m \u001b[0;36m0\u001b[0m\u001b[0;34m:\u001b[0m\u001b[0;34m\u001b[0m\u001b[0m\n",
      "\u001b[0;32m~/anaconda3/lib/python3.6/site-packages/tensorflow/python/client/session.py\u001b[0m in \u001b[0;36mrun\u001b[0;34m(self, fetches, feed_dict, options, run_metadata)\u001b[0m\n\u001b[1;32m    898\u001b[0m     \u001b[0;32mtry\u001b[0m\u001b[0;34m:\u001b[0m\u001b[0;34m\u001b[0m\u001b[0m\n\u001b[1;32m    899\u001b[0m       result = self._run(None, fetches, feed_dict, options_ptr,\n\u001b[0;32m--> 900\u001b[0;31m                          run_metadata_ptr)\n\u001b[0m\u001b[1;32m    901\u001b[0m       \u001b[0;32mif\u001b[0m \u001b[0mrun_metadata\u001b[0m\u001b[0;34m:\u001b[0m\u001b[0;34m\u001b[0m\u001b[0m\n\u001b[1;32m    902\u001b[0m         \u001b[0mproto_data\u001b[0m \u001b[0;34m=\u001b[0m \u001b[0mtf_session\u001b[0m\u001b[0;34m.\u001b[0m\u001b[0mTF_GetBuffer\u001b[0m\u001b[0;34m(\u001b[0m\u001b[0mrun_metadata_ptr\u001b[0m\u001b[0;34m)\u001b[0m\u001b[0;34m\u001b[0m\u001b[0m\n",
      "\u001b[0;32m~/anaconda3/lib/python3.6/site-packages/tensorflow/python/client/session.py\u001b[0m in \u001b[0;36m_run\u001b[0;34m(self, handle, fetches, feed_dict, options, run_metadata)\u001b[0m\n\u001b[1;32m   1133\u001b[0m     \u001b[0;32mif\u001b[0m \u001b[0mfinal_fetches\u001b[0m \u001b[0;32mor\u001b[0m \u001b[0mfinal_targets\u001b[0m \u001b[0;32mor\u001b[0m \u001b[0;34m(\u001b[0m\u001b[0mhandle\u001b[0m \u001b[0;32mand\u001b[0m \u001b[0mfeed_dict_tensor\u001b[0m\u001b[0;34m)\u001b[0m\u001b[0;34m:\u001b[0m\u001b[0;34m\u001b[0m\u001b[0m\n\u001b[1;32m   1134\u001b[0m       results = self._do_run(handle, final_targets, final_fetches,\n\u001b[0;32m-> 1135\u001b[0;31m                              feed_dict_tensor, options, run_metadata)\n\u001b[0m\u001b[1;32m   1136\u001b[0m     \u001b[0;32melse\u001b[0m\u001b[0;34m:\u001b[0m\u001b[0;34m\u001b[0m\u001b[0m\n\u001b[1;32m   1137\u001b[0m       \u001b[0mresults\u001b[0m \u001b[0;34m=\u001b[0m \u001b[0;34m[\u001b[0m\u001b[0;34m]\u001b[0m\u001b[0;34m\u001b[0m\u001b[0m\n",
      "\u001b[0;32m~/anaconda3/lib/python3.6/site-packages/tensorflow/python/client/session.py\u001b[0m in \u001b[0;36m_do_run\u001b[0;34m(self, handle, target_list, fetch_list, feed_dict, options, run_metadata)\u001b[0m\n\u001b[1;32m   1314\u001b[0m     \u001b[0;32mif\u001b[0m \u001b[0mhandle\u001b[0m \u001b[0;32mis\u001b[0m \u001b[0;32mNone\u001b[0m\u001b[0;34m:\u001b[0m\u001b[0;34m\u001b[0m\u001b[0m\n\u001b[1;32m   1315\u001b[0m       return self._do_call(_run_fn, feeds, fetches, targets, options,\n\u001b[0;32m-> 1316\u001b[0;31m                            run_metadata)\n\u001b[0m\u001b[1;32m   1317\u001b[0m     \u001b[0;32melse\u001b[0m\u001b[0;34m:\u001b[0m\u001b[0;34m\u001b[0m\u001b[0m\n\u001b[1;32m   1318\u001b[0m       \u001b[0;32mreturn\u001b[0m \u001b[0mself\u001b[0m\u001b[0;34m.\u001b[0m\u001b[0m_do_call\u001b[0m\u001b[0;34m(\u001b[0m\u001b[0m_prun_fn\u001b[0m\u001b[0;34m,\u001b[0m \u001b[0mhandle\u001b[0m\u001b[0;34m,\u001b[0m \u001b[0mfeeds\u001b[0m\u001b[0;34m,\u001b[0m \u001b[0mfetches\u001b[0m\u001b[0;34m)\u001b[0m\u001b[0;34m\u001b[0m\u001b[0m\n",
      "\u001b[0;32m~/anaconda3/lib/python3.6/site-packages/tensorflow/python/client/session.py\u001b[0m in \u001b[0;36m_do_call\u001b[0;34m(self, fn, *args)\u001b[0m\n\u001b[1;32m   1320\u001b[0m   \u001b[0;32mdef\u001b[0m \u001b[0m_do_call\u001b[0m\u001b[0;34m(\u001b[0m\u001b[0mself\u001b[0m\u001b[0;34m,\u001b[0m \u001b[0mfn\u001b[0m\u001b[0;34m,\u001b[0m \u001b[0;34m*\u001b[0m\u001b[0margs\u001b[0m\u001b[0;34m)\u001b[0m\u001b[0;34m:\u001b[0m\u001b[0;34m\u001b[0m\u001b[0m\n\u001b[1;32m   1321\u001b[0m     \u001b[0;32mtry\u001b[0m\u001b[0;34m:\u001b[0m\u001b[0;34m\u001b[0m\u001b[0m\n\u001b[0;32m-> 1322\u001b[0;31m       \u001b[0;32mreturn\u001b[0m \u001b[0mfn\u001b[0m\u001b[0;34m(\u001b[0m\u001b[0;34m*\u001b[0m\u001b[0margs\u001b[0m\u001b[0;34m)\u001b[0m\u001b[0;34m\u001b[0m\u001b[0m\n\u001b[0m\u001b[1;32m   1323\u001b[0m     \u001b[0;32mexcept\u001b[0m \u001b[0merrors\u001b[0m\u001b[0;34m.\u001b[0m\u001b[0mOpError\u001b[0m \u001b[0;32mas\u001b[0m \u001b[0me\u001b[0m\u001b[0;34m:\u001b[0m\u001b[0;34m\u001b[0m\u001b[0m\n\u001b[1;32m   1324\u001b[0m       \u001b[0mmessage\u001b[0m \u001b[0;34m=\u001b[0m \u001b[0mcompat\u001b[0m\u001b[0;34m.\u001b[0m\u001b[0mas_text\u001b[0m\u001b[0;34m(\u001b[0m\u001b[0me\u001b[0m\u001b[0;34m.\u001b[0m\u001b[0mmessage\u001b[0m\u001b[0;34m)\u001b[0m\u001b[0;34m\u001b[0m\u001b[0m\n",
      "\u001b[0;32m~/anaconda3/lib/python3.6/site-packages/tensorflow/python/client/session.py\u001b[0m in \u001b[0;36m_run_fn\u001b[0;34m(feed_dict, fetch_list, target_list, options, run_metadata)\u001b[0m\n\u001b[1;32m   1305\u001b[0m       \u001b[0mself\u001b[0m\u001b[0;34m.\u001b[0m\u001b[0m_extend_graph\u001b[0m\u001b[0;34m(\u001b[0m\u001b[0;34m)\u001b[0m\u001b[0;34m\u001b[0m\u001b[0m\n\u001b[1;32m   1306\u001b[0m       return self._call_tf_sessionrun(\n\u001b[0;32m-> 1307\u001b[0;31m           options, feed_dict, fetch_list, target_list, run_metadata)\n\u001b[0m\u001b[1;32m   1308\u001b[0m \u001b[0;34m\u001b[0m\u001b[0m\n\u001b[1;32m   1309\u001b[0m     \u001b[0;32mdef\u001b[0m \u001b[0m_prun_fn\u001b[0m\u001b[0;34m(\u001b[0m\u001b[0mhandle\u001b[0m\u001b[0;34m,\u001b[0m \u001b[0mfeed_dict\u001b[0m\u001b[0;34m,\u001b[0m \u001b[0mfetch_list\u001b[0m\u001b[0;34m)\u001b[0m\u001b[0;34m:\u001b[0m\u001b[0;34m\u001b[0m\u001b[0m\n",
      "\u001b[0;32m~/anaconda3/lib/python3.6/site-packages/tensorflow/python/client/session.py\u001b[0m in \u001b[0;36m_call_tf_sessionrun\u001b[0;34m(self, options, feed_dict, fetch_list, target_list, run_metadata)\u001b[0m\n\u001b[1;32m   1407\u001b[0m       return tf_session.TF_SessionRun_wrapper(\n\u001b[1;32m   1408\u001b[0m           \u001b[0mself\u001b[0m\u001b[0;34m.\u001b[0m\u001b[0m_session\u001b[0m\u001b[0;34m,\u001b[0m \u001b[0moptions\u001b[0m\u001b[0;34m,\u001b[0m \u001b[0mfeed_dict\u001b[0m\u001b[0;34m,\u001b[0m \u001b[0mfetch_list\u001b[0m\u001b[0;34m,\u001b[0m \u001b[0mtarget_list\u001b[0m\u001b[0;34m,\u001b[0m\u001b[0;34m\u001b[0m\u001b[0m\n\u001b[0;32m-> 1409\u001b[0;31m           run_metadata)\n\u001b[0m\u001b[1;32m   1410\u001b[0m     \u001b[0;32melse\u001b[0m\u001b[0;34m:\u001b[0m\u001b[0;34m\u001b[0m\u001b[0m\n\u001b[1;32m   1411\u001b[0m       \u001b[0;32mwith\u001b[0m \u001b[0merrors\u001b[0m\u001b[0;34m.\u001b[0m\u001b[0mraise_exception_on_not_ok_status\u001b[0m\u001b[0;34m(\u001b[0m\u001b[0;34m)\u001b[0m \u001b[0;32mas\u001b[0m \u001b[0mstatus\u001b[0m\u001b[0;34m:\u001b[0m\u001b[0;34m\u001b[0m\u001b[0m\n",
      "\u001b[0;31mKeyboardInterrupt\u001b[0m: "
     ]
    }
   ],
   "source": [
    "train_iter = 0\n",
    "mgda = True\n",
    "while total_train_time < n_training_iters:\n",
    "    \n",
    "    demo_batch = sample_batch(nn_rollouts, train_idxes, batch_size)\n",
    "    feed_dict = {\n",
    "        demo_obs_t_feats_ph: demo_batch[1],\n",
    "        demo_act_t_ph: demo_batch[2],\n",
    "        demo_next_obs_t_feats_ph: demo_batch[4],\n",
    "        demo_dir_t_ph: demo_batch[5],\n",
    "        demo_tile_t_ph: demo_batch[6],\n",
    "        demo_batch_size_ph: demo_batch[2].shape[0],\n",
    "        constraint_obs_t_feats_ph: constraints[0],\n",
    "        constraint_act_t_ph: constraints[1],\n",
    "        constraint_rew_t_ph: constraints[2],\n",
    "        constraint_next_obs_t_feats_ph: constraints[3],\n",
    "        constraint_tile_t_ph: constraints[4],\n",
    "        constraint_batch_size_ph: constraints[0].shape[0]\n",
    "    }\n",
    "    \n",
    "    \n",
    "    # Scaling the loss functions based on the algorithm choice\n",
    "    loss_data = {}\n",
    "    gvs_data = {}\n",
    "    scale = {}\n",
    "    mask = None\n",
    "    masks = {}\n",
    "    \n",
    "    # This is MGDA\n",
    "    grad_arrays = {}\n",
    "    for t in range(num_tasks):\n",
    "        # Compute gradients of each loss function wrt parameters\n",
    "        loss_data[t], gvs_data[t] = sess.run([task_losses[t],all_gvs[t]], feed_dict=feed_dict)\n",
    "        grad_arrays[t] = np.concatenate([gvs_data[t][i][0].flatten() for i in range(len(gvs_data[t]))])\n",
    "        #g_loss_data[t] = loss_data[t][1:]\n",
    "        \n",
    "    if gn == \"l2\":\n",
    "        for i,c in enumerate(clip_norms):\n",
    "            feed_dict[c] = [1.0]\n",
    "    elif gn == \"l+\":\n",
    "        for i,c in enumerate(clip_norms):\n",
    "            feed_dict[c] = [loss_data[i]]\n",
    "        \n",
    "\n",
    "    # Normalize all gradients\n",
    "#     gn = gradient_normalizers(grad_arrays, loss_data, \"loss+\")\n",
    "#     for t in range(num_tasks):\n",
    "#         for gr_i in range(len(grad_arrays[t])):\n",
    "#             grad_arrays[t][gr_i] = grad_arrays[t][gr_i] / gn[t]\n",
    "            \n",
    "    \n",
    "\n",
    "\n",
    "\n",
    "    # Frank-Wolfe iteration to compute scales.\n",
    "    sol, min_norm = find_min_norm_element(grad_arrays)\n",
    "#     print(sol)\n",
    "\n",
    "    # Scaled back-propagation\n",
    "    for i,s in enumerate(scales):\n",
    "        feed_dict[s] = [sol[i]]\n",
    "    for t in range(num_tasks):\n",
    "        # Inefficient, takes gradients twice when we could just feed the gradients back in\n",
    "        sess.run(updates, feed_dict=feed_dict)\n",
    "    \n",
    "    if total_train_time % 20 == 0:\n",
    "        val_log = compute_batch_loss(val_demo_batch, constraints, step=False, update=\"adt\")\n",
    "        for k, v in val_log.items():\n",
    "            if 'val_%s_evals' % k in full_train_logs:\n",
    "                full_train_logs['val_%s_evals' % k].append(v)\n",
    "#         print([(key,val_log[key]) for key in val_log.keys()])\n",
    "\n",
    "\n",
    "    if total_train_time % 100 == 0:\n",
    "        print(sol)\n",
    "        print([(key,val_log[key]) for key in val_log.keys()])\n",
    "\n",
    "    if train_iter % 1000 == 0:\n",
    "        q_vals = sess.run([constraint_q_ts], feed_dict={constraint_obs_t_feats_ph:states})[0]\n",
    "        plot_values(mdp, q_vals)\n",
    "        plt.show()\n",
    "        adt_probs = sess.run([adt_pred_dir], feed_dict={demo_tile_t_ph:adt_samples[:,0][np.newaxis].T,\n",
    "                                                demo_act_t_ph:adt_samples[:,1][np.newaxis].T})[0]\n",
    "        print(softmax(adt_probs))\n",
    "\n",
    "        for k in ['val_loss_evals','val_ntll_evals','val_nall_evals','val_tde_evals']:\n",
    "            if len(full_train_logs[k]) > 0:\n",
    "                plt.xlabel('Iterations')\n",
    "                plt.ylabel(k.split('_')[1])\n",
    "                plt.plot(full_train_logs[k][10:])\n",
    "                plt.show()\n",
    "    train_iter += 1\n",
    "    total_train_time +=1"
   ]
  },
  {
   "cell_type": "markdown",
   "metadata": {},
   "source": [
    "## Testing Training Results"
   ]
  },
  {
   "cell_type": "code",
   "execution_count": null,
   "metadata": {},
   "outputs": [],
   "source": [
    "# Sample full dynamics model\n",
    "adt_probs = sess.run([adt_pred_dir], feed_dict={demo_tile_t_ph:adt_samples[:,0][np.newaxis].T,\n",
    "                                                demo_act_t_ph:adt_samples[:,1][np.newaxis].T})[0]"
   ]
  },
  {
   "cell_type": "code",
   "execution_count": 61,
   "metadata": {},
   "outputs": [
    {
     "data": {
      "text/plain": [
       "array([[0.21851705, 0.21590814, 0.16700909, 0.15032528, 0.24824043],\n",
       "       [0.12729968, 0.1932118 , 0.1809985 , 0.1537752 , 0.3447148 ],\n",
       "       [0.09719018, 0.15032631, 0.16841704, 0.1407823 , 0.44328415],\n",
       "       [0.07598732, 0.11486345, 0.1437389 , 0.11873735, 0.54667306],\n",
       "       [0.06006168, 0.08776291, 0.11498598, 0.09259684, 0.6445926 ],\n",
       "       [0.685676  , 0.12618755, 0.02050173, 0.03548481, 0.13214986],\n",
       "       [0.58982426, 0.12849943, 0.02475517, 0.0442449 , 0.21267632],\n",
       "       [0.47259033, 0.12424549, 0.0295788 , 0.05008642, 0.32349893],\n",
       "       [0.3443318 , 0.11211058, 0.03288628, 0.05184946, 0.45882192],\n",
       "       [0.2359081 , 0.09102884, 0.03271087, 0.04863232, 0.59171987]],\n",
       "      dtype=float32)"
      ]
     },
     "execution_count": 61,
     "metadata": {},
     "output_type": "execute_result"
    }
   ],
   "source": [
    "# Print learned dynamics\n",
    "softmax(adt_probs)"
   ]
  },
  {
   "cell_type": "code",
   "execution_count": 62,
   "metadata": {},
   "outputs": [],
   "source": [
    "# Sample full q-fn model\n",
    "q_vals = sess.run([constraint_q_ts], feed_dict={constraint_obs_t_feats_ph:states})[0]\n",
    "# q_vals = sess.run([demo_q_t], feed_dict={demo_obs_t_feats_ph:states})[0]"
   ]
  },
  {
   "cell_type": "code",
   "execution_count": 63,
   "metadata": {},
   "outputs": [
    {
     "data": {
      "image/png": "[encoded data removed]",
      "text/plain": [
       "<Figure size 576x576 with 1 Axes>"
      ]
     },
     "metadata": {},
     "output_type": "display_data"
    },
    {
     "data": {
      "image/png": "[encoded data removed]",
      "text/plain": [
       "<Figure size 576x576 with 1 Axes>"
      ]
     },
     "metadata": {},
     "output_type": "display_data"
    }
   ],
   "source": [
    "# Plot learned q-values and true q-values\n",
    "plot_values(mdp, q_vals)\n",
    "plot_values(mdp, Qs)"
   ]
  },
  {
   "cell_type": "code",
   "execution_count": 64,
   "metadata": {},
   "outputs": [
    {
     "data": {
      "text/plain": [
       "array([[153.1029 , 153.18599, 153.40364, 153.63182, 153.85812],\n",
       "       [146.7244 , 146.31496, 146.26161, 146.27362, 146.29567],\n",
       "       [143.65764, 143.47844, 143.47469, 143.46315, 143.47095],\n",
       "       [142.96318, 142.921  , 142.93056, 142.9192 , 142.88196],\n",
       "       [143.07356, 143.13419, 143.19531, 143.22069, 143.27126],\n",
       "       [145.81436, 146.19019, 146.33743, 146.40002, 146.40851],\n",
       "       [148.93004, 149.24854, 149.35287, 149.3818 , 149.37646],\n",
       "       [151.31067, 151.54335, 151.6623 , 151.7036 , 151.71342],\n",
       "       [154.02313, 154.28728, 154.53517, 154.76315, 154.85706],\n",
       "       [147.59251, 147.49393, 147.51799, 147.53645, 147.53816],\n",
       "       [144.23491, 144.0388 , 144.03215, 144.00816, 144.02446],\n",
       "       [142.10698, 142.03654, 142.0211 , 142.00862, 141.9806 ],\n",
       "       [141.8044 , 141.81291, 141.81384, 141.7929 , 141.76076],\n",
       "       [142.05748, 142.1121 , 142.193  , 142.27017, 142.33632],\n",
       "       [143.2209 , 143.43413, 143.64703, 143.8227 , 143.91699],\n",
       "       [147.83318, 148.19604, 148.25937, 148.2705 , 148.2571 ],\n",
       "       [149.41031, 149.56299, 149.62091, 149.60573, 149.61366],\n",
       "       [149.46785, 149.49033, 149.53268, 149.57689, 149.5234 ],\n",
       "       [144.67354, 144.53125, 144.53316, 144.56465, 144.55344],\n",
       "       [142.13681, 142.00511, 142.0087 , 142.00505, 141.98969],\n",
       "       [140.79213, 140.77113, 140.77875, 140.76732, 140.74666],\n",
       "       [140.88446, 140.96788, 141.00926, 141.01732, 141.02754],\n",
       "       [141.69746, 141.83264, 141.9478 , 142.05312, 142.09346],\n",
       "       [145.40723, 145.73083, 145.82764, 145.8849 , 145.91553],\n",
       "       [148.22673, 148.45026, 148.46532, 148.44476, 148.44028],\n",
       "       [148.3878 , 148.3701 , 148.3762 , 148.3512 , 148.34633],\n",
       "       [147.02647, 146.92587, 146.92892, 146.95729, 146.95232],\n",
       "       [143.05858, 142.85558, 142.82314, 142.80215, 142.79146],\n",
       "       [140.39919, 140.25548, 140.21483, 140.19002, 140.15482],\n",
       "       [139.39091, 139.34454, 139.33336, 139.3059 , 139.27522],\n",
       "       [139.49217, 139.54636, 139.59038, 139.62804, 139.6356 ],\n",
       "       [143.15004, 143.53398, 143.86986, 144.12743, 144.20018],\n",
       "       [146.10219, 146.40506, 146.63329, 146.8428 , 146.92595],\n",
       "       [149.55353, 149.78362, 149.8518 , 149.90164, 149.94179],\n",
       "       [148.24928, 148.12553, 148.10738, 148.09354, 148.11267],\n",
       "       [145.9105 , 145.70808, 145.67972, 145.6707 , 145.67827],\n",
       "       [142.47629, 142.2367 , 142.14899, 142.14838, 142.13683],\n",
       "       [139.45209, 139.3026 , 139.22765, 139.15674, 139.1017 ],\n",
       "       [138.79565, 138.77672, 138.75052, 138.71132, 138.66801],\n",
       "       [139.53008, 139.68912, 139.90524, 140.08339, 140.18712],\n",
       "       [157.35214, 159.02425, 160.28268, 161.15672, 161.7809 ],\n",
       "       [156.79964, 156.4694 , 156.15178, 155.90265, 155.84299],\n",
       "       [154.69554, 154.42299, 154.19588, 153.99217, 153.9195 ],\n",
       "       [149.05417, 148.69154, 148.62386, 148.57622, 148.57976],\n",
       "       [145.69269, 145.45752, 145.39154, 145.35388, 145.37279],\n",
       "       [143.3348 , 143.10423, 143.01956, 142.97395, 142.97227],\n",
       "       [140.5746 , 140.38716, 140.30807, 140.26007, 140.23944],\n",
       "       [139.21101, 139.13078, 139.06653, 139.00847, 138.95909],\n",
       "       [139.26982, 139.30612, 139.31346, 139.30836, 139.28365],\n",
       "       [140.82256, 141.19804, 141.53056, 141.78506, 141.90164],\n",
       "       [143.17381, 143.51631, 143.85162, 144.08853, 144.22835],\n",
       "       [148.48549, 148.86458, 148.96413, 149.01216, 149.04475],\n",
       "       [147.9565 , 147.93849, 147.9336 , 147.92577, 147.94234],\n",
       "       [146.05774, 145.89377, 145.79599, 145.75905, 145.7593 ],\n",
       "       [145.3368 , 145.12582, 145.02039, 145.00107, 145.00836],\n",
       "       [142.75142, 142.54105, 142.45055, 142.40584, 142.3893 ],\n",
       "       [141.17052, 141.07608, 141.003  , 140.949  , 140.91858],\n",
       "       [141.07864, 141.08507, 141.0474 , 141.01283, 140.99896],\n",
       "       [141.67387, 141.78432, 141.89539, 141.9622 , 141.98332],\n",
       "       [145.4358 , 145.75887, 145.82874, 145.85345, 145.87141],\n",
       "       [148.15372, 148.38448, 148.38394, 148.35576, 148.34953],\n",
       "       [148.60988, 148.58711, 148.5433 , 148.50046, 148.49356],\n",
       "       [147.60558, 147.47858, 147.38828, 147.34958, 147.37895],\n",
       "       [148.40112, 148.1554 , 148.00851, 147.97154, 147.97968],\n",
       "       [145.10536, 144.81113, 144.70335, 144.652  , 144.65918],\n",
       "       [143.09189, 142.95729, 142.89943, 142.85959, 142.8543 ],\n",
       "       [142.91702, 142.90456, 142.895  , 142.8896 , 142.89279],\n",
       "       [144.1923 , 144.3139 , 144.31433, 144.29735, 144.31673],\n",
       "       [146.58482, 146.86089, 146.91449, 146.90308, 146.8928 ],\n",
       "       [148.82965, 149.06125, 149.0788 , 149.04942, 149.00671],\n",
       "       [150.15291, 150.19887, 150.16765, 150.14314, 150.13097],\n",
       "       [150.60396, 150.54245, 150.43927, 150.39818, 150.42717],\n",
       "       [152.74353, 152.44246, 152.44002, 152.53265, 152.65979],\n",
       "       [146.96364, 146.52649, 146.4242 , 146.39507, 146.3974 ],\n",
       "       [144.1243 , 143.9445 , 143.90767, 143.89243, 143.90486],\n",
       "       [143.61342, 143.62984, 143.64049, 143.64697, 143.66481],\n",
       "       [144.60693, 144.7734 , 144.84952, 144.90329, 144.88826],\n",
       "       [146.96828, 147.20526, 147.2739 , 147.26503, 147.25508],\n",
       "       [149.42326, 149.70268, 149.7615 , 149.77995, 149.76685],\n",
       "       [151.87538, 152.07948, 152.19873, 152.22366, 152.23753],\n",
       "       [155.47533, 155.81215, 156.09409, 156.37239, 156.63544]],\n",
       "      dtype=float32)"
      ]
     },
     "execution_count": 64,
     "metadata": {},
     "output_type": "execute_result"
    }
   ],
   "source": [
    "q_vals"
   ]
  },
  {
   "cell_type": "code",
   "execution_count": 65,
   "metadata": {},
   "outputs": [
    {
     "data": {
      "text/plain": [
       "array([[208.44793162, 207.18127902, 207.18127902, 208.44793162,\n",
       "        210.        ],\n",
       "       [206.99287621, 202.96944566, 202.29977102, 204.1002877 ,\n",
       "        204.97294744],\n",
       "       [204.07436214, 198.44322909, 185.17373676, 199.58882701,\n",
       "        202.08361852],\n",
       "       [183.12845022,  36.32702745,  34.95093068, 179.15448334,\n",
       "        181.34716572],\n",
       "       [ 16.97620454,  16.79653099,  16.97556524,  16.98153444,\n",
       "         16.8117191 ],\n",
       "       [ 35.01525282,  36.16339701, 182.48269324, 179.65517111,\n",
       "        180.70786631],\n",
       "       [184.64716479, 197.4379815 , 203.17779759, 200.12479717,\n",
       "        201.19601961],\n",
       "       [201.59176201, 201.87644087, 205.87995687, 204.75358624,\n",
       "        203.87115731],\n",
       "       [205.32904157, 205.32904157, 208.59211573, 208.59211573,\n",
       "        207.60626319],\n",
       "       [204.10032334, 202.30005617, 202.9694813 , 206.99287621,\n",
       "        204.97294744],\n",
       "       [204.45205845, 200.28494297, 200.28491827, 204.45205492,\n",
       "        202.45760476],\n",
       "       [201.73133557, 178.50494151,  54.19774545, 183.716717  ,\n",
       "        199.76402222],\n",
       "       [ 18.17234051,  18.13088664,  17.9742501 ,  18.15392365,\n",
       "         17.99061711],\n",
       "       [  1.63997683,   1.63624259,   1.63988324,   1.63879793,\n",
       "          1.62360982],\n",
       "       [ 17.88075551,  18.03661872,  18.077807  ,  18.05978977,\n",
       "         17.89702893],\n",
       "       [ 53.93832866, 177.6211829 , 200.68191811, 182.88917016,\n",
       "        198.72509893],\n",
       "       [199.24327021, 199.2682283 , 203.36011691, 203.35655147,\n",
       "        201.37651574],\n",
       "       [201.87679738, 201.59461407, 204.75394274, 205.87995687,\n",
       "        203.87115731],\n",
       "       [201.38153719, 199.49296175, 200.23311544, 204.07472217,\n",
       "        202.08397495],\n",
       "       [201.59860492, 197.25060326, 196.38654428, 201.73137122,\n",
       "        199.7640575 ],\n",
       "       [197.49383753, 177.45693523, 164.33071176, 195.61863855,\n",
       "        195.56889916],\n",
       "       [159.85873767,  33.78398077,  14.84872059,  35.42002138,\n",
       "        158.31015029],\n",
       "       [ 14.40038158,  14.3143581 ,  14.39960825,  14.24374504,\n",
       "         14.25637781],\n",
       "       [ 14.83386648,  33.64423204, 159.07759266,  35.24936448,\n",
       "        157.53681674],\n",
       "       [163.54714924, 176.79124468, 196.52629853, 194.60983615,\n",
       "        194.61103554],\n",
       "       [195.44709335, 196.5459688 , 200.71793267, 200.68227462,\n",
       "        198.76075334],\n",
       "       [199.25069913, 198.92431861, 201.90927642, 203.18139867,\n",
       "        201.19958469],\n",
       "       [198.70635683, 196.80555364, 197.3518269 , 201.20782517,\n",
       "        199.24574691],\n",
       "       [198.79459072, 193.28346352, 181.04750764, 197.40201   ,\n",
       "        196.81664481],\n",
       "       [178.79989199,  35.34671088,  34.11102921, 177.74034044,\n",
       "        177.06189307],\n",
       "       [ 16.10663267,  16.00185745,  16.00185745,  16.08788093,\n",
       "         15.94556635],\n",
       "       [ 72.1803786 ,  72.96633303,  72.18032364,  72.17868941,\n",
       "         72.2366697 ],\n",
       "       [ 15.94695943,  15.94695943,  16.05112462,  16.03220958,\n",
       "         15.89061338],\n",
       "       [ 33.97128047,  35.27616445, 178.18369655, 176.90350312,\n",
       "        176.45185959],\n",
       "       [180.45915044, 193.1528662 , 198.13750856, 196.46876936,\n",
       "        196.16613347],\n",
       "       [196.7429788 , 196.81009647, 199.17466955, 200.50485579,\n",
       "        198.54980723],\n",
       "       [197.04446385, 197.95954678, 195.47225493, 198.51629853,\n",
       "        196.58113554],\n",
       "       [196.53118626, 178.34070655,  53.32776759, 178.86111563,\n",
       "        194.5758744 ],\n",
       "       [ 17.70390122,  17.6857372 ,  17.58157201,  17.68634724,\n",
       "         17.52686221],\n",
       "       [ 72.18195989,  72.18032364,  72.96633303,  72.1803786 ,\n",
       "         72.2366697 ],\n",
       "       [ 80.3366697 ,  80.3366697 ,  80.3366697 ,  80.3366697 ,\n",
       "        810.        ],\n",
       "       [ 72.96633303,  72.1803786 ,  72.18195989,  72.18032364,\n",
       "         72.2366697 ],\n",
       "       [ 17.58157201,  17.68634724,  17.70390122,  17.6857372 ,\n",
       "         17.52686221],\n",
       "       [ 53.32776759, 178.86111563, 196.53118626, 178.34070655,\n",
       "        194.5758744 ],\n",
       "       [195.47225493, 198.51629853, 197.04446385, 197.95954678,\n",
       "        196.58113554],\n",
       "       [199.17466955, 200.50485579, 196.7429788 , 196.81009647,\n",
       "        198.54980723],\n",
       "       [198.13750856, 196.46876936, 180.45915044, 193.1528662 ,\n",
       "        196.16613347],\n",
       "       [178.18369655, 176.90350312,  33.97128048,  35.27616445,\n",
       "        176.45185959],\n",
       "       [ 16.05112463,  16.04965715,  15.94695944,  15.94695944,\n",
       "         15.89061338],\n",
       "       [ 72.18032364,  72.18122019,  72.1803786 ,  72.96633303,\n",
       "         72.2366697 ],\n",
       "       [ 16.0018575 ,  16.1054164 ,  16.10663272,  16.0018575 ,\n",
       "         15.94556639],\n",
       "       [ 34.11102925, 177.74034045, 178.79989199,  35.34671089,\n",
       "        177.06189307],\n",
       "       [181.04750764, 197.40201   , 198.79459072, 193.28346352,\n",
       "        196.81664481],\n",
       "       [197.3518269 , 201.20782517, 198.70635683, 196.80555364,\n",
       "        199.24574691],\n",
       "       [201.90927642, 203.18139867, 199.25069913, 198.92431861,\n",
       "        201.19958469],\n",
       "       [200.71793267, 200.68227462, 195.44709335, 196.5459688 ,\n",
       "        198.76075334],\n",
       "       [196.52629853, 196.35459257, 177.50520058, 178.5360011 ,\n",
       "        194.61103554],\n",
       "       [176.70139485, 176.49285988,  34.48229179,  33.89730993,\n",
       "        174.9843809 ],\n",
       "       [ 16.94530394,  16.95672395,  16.94616513,  16.84260623,\n",
       "         16.78715671],\n",
       "       [ 34.58589001, 177.37346962, 177.57128397,  34.0370587 ,\n",
       "        175.84557113],\n",
       "       [178.35904843, 197.37218064, 197.49383753, 179.21047732,\n",
       "        195.56889916],\n",
       "       [196.38654428, 201.73137122, 201.59860492, 197.25060326,\n",
       "        199.7640575 ],\n",
       "       [200.23311544, 204.07472217, 201.38153719, 199.49296175,\n",
       "        202.08397495],\n",
       "       [204.75394274, 205.87995687, 201.87679738, 201.59461407,\n",
       "        203.87115731],\n",
       "       [203.36011691, 203.35655147, 199.24327021, 199.2682283 ,\n",
       "        201.37651574],\n",
       "       [200.68191811, 200.51297235, 194.92874617, 195.24498509,\n",
       "        198.72509893],\n",
       "       [196.09601093, 195.73289909, 186.23944878, 178.46045424,\n",
       "        194.14505082],\n",
       "       [175.65946268, 188.23676388, 176.44428606,  52.36483846,\n",
       "        186.36439624],\n",
       "       [186.39924876, 196.42623909, 197.08694954, 179.25329875,\n",
       "        195.12608005],\n",
       "       [195.8981158 , 201.42926329, 201.73133557, 196.2174878 ,\n",
       "        199.76402222],\n",
       "       [200.28491827, 204.45205492, 204.45205845, 200.28494297,\n",
       "        202.45760476],\n",
       "       [202.9694813 , 206.99287621, 204.10032334, 202.30005617,\n",
       "        204.97294744],\n",
       "       [208.59211573, 208.59211573, 205.32904157, 205.32904157,\n",
       "        207.60626319],\n",
       "       [205.87995687, 204.75358624, 201.59176201, 201.87644087,\n",
       "        203.87115731],\n",
       "       [203.17779759, 201.71150424, 197.34082132, 199.02468857,\n",
       "        201.19601961],\n",
       "       [198.51003734, 183.86504089, 186.89487245, 194.13534897,\n",
       "        196.57493697],\n",
       "       [177.58656111,  52.87804363, 178.17600878, 188.51218535,\n",
       "        186.67706349],\n",
       "       [186.92904543, 183.44236125, 199.25428945, 195.00893224,\n",
       "        197.31174655],\n",
       "       [197.94540143, 201.18528509, 204.07436214, 200.03968717,\n",
       "        202.08361852],\n",
       "       [202.29977102, 204.1002877 , 206.99287621, 202.96944566,\n",
       "        204.97294744],\n",
       "       [207.18127902, 208.44793162, 208.44793162, 207.18127902,\n",
       "        210.        ]])"
      ]
     },
     "execution_count": 65,
     "metadata": {},
     "output_type": "execute_result"
    }
   ],
   "source": [
    "Qs"
   ]
  },
  {
   "cell_type": "code",
   "execution_count": 66,
   "metadata": {},
   "outputs": [],
   "source": [
    "# More comprehensive debugging stuff\n",
    "\n",
    "test_constraint_adt_pred_probs =  tf.placeholder(tf.float32, [None, n_dirs], name=\"tpp\")\n",
    "test_constraint_q_t_ph = tf.placeholder(tf.float32, [None], name=\"tcq\")\n",
    "test_constraint_q_tp1_ph = tf.placeholder(tf.float32, [None, n_dirs, n_act_dim], name=\"tcqp1\")\n",
    "test_constraint_v_tp1 = tf.reduce_logsumexp(test_constraint_q_tp1_ph, axis=2) #- np.log(5) \n",
    "test_adt_V = tf.multiply(test_constraint_v_tp1, test_constraint_adt_pred_probs)\n",
    "test_adt_target = constraint_rew_t_ph + gamma * tf.reduce_sum(test_adt_V, axis=1)\n",
    "indiv_errs = test_constraint_q_t_ph - test_adt_target\n",
    "test_adt_td_err = tf.reduce_mean((test_constraint_q_t_ph - test_adt_target)**2)"
   ]
  },
  {
   "cell_type": "code",
   "execution_count": 51,
   "metadata": {},
   "outputs": [
    {
     "ename": "NameError",
     "evalue": "name 'q_vals' is not defined",
     "output_type": "error",
     "traceback": [
      "\u001b[0;31m---------------------------------------------------------------------------\u001b[0m",
      "\u001b[0;31mNameError\u001b[0m                                 Traceback (most recent call last)",
      "\u001b[0;32m<ipython-input-51-4cc13ca63300>\u001b[0m in \u001b[0;36m<module>\u001b[0;34m()\u001b[0m\n\u001b[1;32m      5\u001b[0m \u001b[0;34m\u001b[0m\u001b[0m\n\u001b[1;32m      6\u001b[0m \u001b[0mnext_states\u001b[0m \u001b[0;34m=\u001b[0m \u001b[0;34m[\u001b[0m\u001b[0;34m[\u001b[0m\u001b[0mmdp\u001b[0m\u001b[0;34m.\u001b[0m\u001b[0msd_to_sprime\u001b[0m\u001b[0;34m(\u001b[0m\u001b[0ms\u001b[0m\u001b[0;34m,\u001b[0m\u001b[0md\u001b[0m\u001b[0;34m)\u001b[0m \u001b[0;32mfor\u001b[0m \u001b[0md\u001b[0m \u001b[0;32min\u001b[0m \u001b[0mrange\u001b[0m\u001b[0;34m(\u001b[0m\u001b[0mmdp\u001b[0m\u001b[0;34m.\u001b[0m\u001b[0mnD\u001b[0m\u001b[0;34m)\u001b[0m\u001b[0;34m]\u001b[0m \u001b[0;32mfor\u001b[0m \u001b[0ms\u001b[0m \u001b[0;32min\u001b[0m \u001b[0mstates\u001b[0m\u001b[0;34m]\u001b[0m\u001b[0;34m\u001b[0m\u001b[0m\n\u001b[0;32m----> 7\u001b[0;31m \u001b[0mcurrQs\u001b[0m \u001b[0;34m=\u001b[0m \u001b[0mq_vals\u001b[0m\u001b[0;34m[\u001b[0m\u001b[0mstates\u001b[0m\u001b[0;34m,\u001b[0m\u001b[0macts\u001b[0m\u001b[0;34m]\u001b[0m\u001b[0;34m\u001b[0m\u001b[0m\n\u001b[0m\u001b[1;32m      8\u001b[0m \u001b[0mnextQs\u001b[0m \u001b[0;34m=\u001b[0m \u001b[0mq_vals\u001b[0m\u001b[0;34m[\u001b[0m\u001b[0mnext_states\u001b[0m\u001b[0;34m]\u001b[0m\u001b[0;34m\u001b[0m\u001b[0m\n\u001b[1;32m      9\u001b[0m \u001b[0;34m\u001b[0m\u001b[0m\n",
      "\u001b[0;31mNameError\u001b[0m: name 'q_vals' is not defined"
     ]
    }
   ],
   "source": [
    "# More comprehensive debugging stuff\n",
    "\n",
    "sa = np.transpose([np.tile(np.arange(mdp.num_states), mdp.num_actions), np.repeat(np.arange(mdp.num_actions), mdp.num_states)])\n",
    "states, acts = sa[:,0], sa[:,1]\n",
    "\n",
    "next_states = [[mdp.sd_to_sprime(s,d) for d in range(mdp.nD)] for s in states]\n",
    "currQs = q_vals[states,acts]\n",
    "nextQs = q_vals[next_states]\n",
    "\n",
    "pred_probs = true_tps[acts,:,constraints[4].flatten()]\n",
    "print(true_tps)\n",
    "print(softmax(adt_probs).transpose().reshape((5,2,5)))\n",
    "learned_probs = softmax(adt_probs)[acts,:,constraints[4].flatten()]\n",
    "print(learned_probs)\n",
    "\n",
    "test_err, learned_err, targets, learn_convs, test_convs, cspr = sess.run([test_adt_td_err, adt_td_err_sgt, test_adt_target, constraint_v_tp1, test_constraint_v_tp1, constraint_sprimes_reshaped], feed_dict= {constraint_obs_t_feats_ph: constraints[0],\n",
    "                                    constraint_act_t_ph: constraints[1],\n",
    "                                    constraint_rew_t_ph: constraints[2],\n",
    "                                    constraint_next_obs_t_feats_ph: constraints[3],\n",
    "                                    constraint_tile_t_ph: constraints[4],\n",
    "                                    constraint_batch_size_ph: constraints[0].shape[0],\n",
    "                                    test_constraint_q_t_ph: currQs,\n",
    "                                    test_constraint_q_tp1_ph: nextQs,\n",
    "                                    test_constraint_adt_pred_probs: pred_probs})\n",
    "print(test_err, learned_err)\n",
    "print(learn_convs - test_convs)\n",
    "print(constraints[3])\n",
    "print(featurize_states(np.array(next_states).flatten()))\n",
    "# print(len(next_states) * len(next_states[0]))\n"
   ]
  },
  {
   "cell_type": "code",
   "execution_count": 71,
   "metadata": {},
   "outputs": [],
   "source": [
    "# Q-fn Model Storage\n",
    "q_net_path = os.path.join(data_dir, 'adt_true_q.tf')\n",
    "save_tf_vars(sess, q_scope, q_net_path)"
   ]
  },
  {
   "cell_type": "code",
   "execution_count": 72,
   "metadata": {},
   "outputs": [],
   "source": [
    "# Dynamics Model Storage\n",
    "invadt_path = os.path.join(data_dir, 'adt_fw_t.tf')\n",
    "save_tf_vars(sess, invadt_scope, invadt_path)"
   ]
  },
  {
   "cell_type": "code",
   "execution_count": 73,
   "metadata": {},
   "outputs": [],
   "source": [
    "# Training data Storage\n",
    "pkl.dump(mode_logs, open('adt_fw.pkl', 'wb'))"
   ]
  },
  {
   "cell_type": "markdown",
   "metadata": {},
   "source": [
    "## Comparison Tests (NOT UPDATED)"
   ]
  },
  {
   "cell_type": "code",
   "execution_count": null,
   "metadata": {},
   "outputs": [],
   "source": [
    "def demo_stats(mdp, demos):\n",
    "    demo_rewards = []\n",
    "    for i in range(len(demos)):\n",
    "        demo_rewards += [np.array([mdp.rewards[obs[0][2]] for obs in demos[i]])]\n",
    "#         for j in range(len(demo_rewards[i])):\n",
    "#             print(demos[i][j][0], demo_rewards[i][j])\n",
    "    \n",
    "    discounted_demo_rewards = [np.power(gamma,np.arange(len(dr)))*dr for dr in demo_rewards]\n",
    "    demo_rewards, discounted_demo_rewards = np.array(demo_rewards), np.array(discounted_demo_rewards)\n",
    "    data = {\"mean episode reward\": np.mean(np.sum(demo_rewards, axis=1)),\n",
    "            \"sd episode reward\": np.std(np.sum(demo_rewards, axis=1)),\n",
    "            \"mean discounted episode reward\": np.mean(np.sum(discounted_demo_rewards, axis=1)),\n",
    "            \"sd discounted episode reward\": np.std(np.sum(discounted_demo_rewards, axis=1))}\n",
    "    return data\n",
    "    \n",
    "    "
   ]
  },
  {
   "cell_type": "code",
   "execution_count": null,
   "metadata": {},
   "outputs": [],
   "source": [
    "SERD_demos = generate_demonstrations(mdp, tabsoftq_gen_pol(Qs), 2000, demo_time_steps)\n",
    "IDL_demos = generate_demonstrations(mdp, tabsoftq_gen_pol(Qi), 2000, demo_time_steps)"
   ]
  },
  {
   "cell_type": "code",
   "execution_count": null,
   "metadata": {},
   "outputs": [],
   "source": [
    "print(demo_stats(mdp, SERD_demos))"
   ]
  },
  {
   "cell_type": "code",
   "execution_count": null,
   "metadata": {},
   "outputs": [],
   "source": [
    "print(demo_stats(mdp, IDL_demos))"
   ]
  },
  {
   "cell_type": "code",
   "execution_count": null,
   "metadata": {},
   "outputs": [],
   "source": [
    "plot_values(mdp, Qs)"
   ]
  },
  {
   "cell_type": "code",
   "execution_count": null,
   "metadata": {},
   "outputs": [],
   "source": [
    "plot_values(mdp, Qi)"
   ]
  },
  {
   "cell_type": "code",
   "execution_count": null,
   "metadata": {},
   "outputs": [],
   "source": [
    "print(reward_map[5][0], Qi[2], Q[2])"
   ]
  },
  {
   "cell_type": "markdown",
   "metadata": {},
   "source": [
    "### Transfer"
   ]
  },
  {
   "cell_type": "code",
   "execution_count": null,
   "metadata": {},
   "outputs": [],
   "source": [
    "tile_map2 = [\n",
    "        \"2FFFFFFF1\",\n",
    "        \"FFFFFFFFF\",\n",
    "        \"FFFFUFFFF\",\n",
    "        \"FFFUUUFSF\",\n",
    "        \"FFUU3UUFF\",\n",
    "        \"FSFUUUFSF\",\n",
    "        \"FSFFUFFSF\",\n",
    "        \"FFFSSSFFF\",\n",
    "        \"1FFFFFFF2\"\n",
    "    ]\n",
    "reward_map2, texture_map2 = build_reward_map(tile_map2, tile_rewards, goal_tile_rewards, tile_reward_modifier)\n",
    "# reward_normalizer2 = (1-gamma)/(np.max(reward_map2))\n",
    "# reward_map2 *= reward_normalizer2\n",
    "# time_penalty *= reward_normalizer2\n",
    "# temperature2 = 1/(reward_normalizer2)\n",
    "# print(temperature2)\n",
    "print(reward_map2)\n",
    "print(texture_map2)"
   ]
  },
  {
   "cell_type": "code",
   "execution_count": null,
   "metadata": {},
   "outputs": [],
   "source": [
    "mdp = MarsExplorerEnv(tile_map2, reward_map2, texture_map2, trans_dict, time_penalty) \n",
    "nA = mdp.nA\n",
    "nS = mdp.nS"
   ]
  },
  {
   "cell_type": "code",
   "execution_count": null,
   "metadata": {},
   "outputs": [],
   "source": [
    "\n",
    "Tips = softmax(Ti_thetas,axis=1)\n",
    "Ti = mdp.adt_trans_to_sas_trans(Tips)\n",
    "Ri = mdp.rewards\n",
    "Qit = tabsoftq_iter(Ri, Ti, maxiter=tabsoftq_iter_maxiter, verbose=tabsoftq_iter_verbose, ftol=tabsoftq_iter_ftol)"
   ]
  },
  {
   "cell_type": "code",
   "execution_count": null,
   "metadata": {},
   "outputs": [],
   "source": [
    "Tips = softmax(Ti_thetas,axis=1)\n",
    "Ti = mdp.adt_trans_to_sas_trans(Tips)\n",
    "Ri = mdp.rewards\n",
    "Qit = tabsoftq_iter(Ri, Ti, maxiter=tabsoftq_iter_maxiter, verbose=tabsoftq_iter_verbose, ftol=tabsoftq_iter_ftol)"
   ]
  },
  {
   "cell_type": "code",
   "execution_count": null,
   "metadata": {},
   "outputs": [],
   "source": [
    "Tsps = softmax(Ts_thetas,axis=1)\n",
    "Ts = mdp.adt_trans_to_sas_trans(Tips)\n",
    "Rs = mdp.feature_map.dot(Rs_thetas)\n",
    "Qst = tabsoftq_iter(Rs, Ts, maxiter=tabsoftq_iter_maxiter, verbose=tabsoftq_iter_verbose, ftol=tabsoftq_iter_ftol)"
   ]
  },
  {
   "cell_type": "code",
   "execution_count": null,
   "metadata": {},
   "outputs": [],
   "source": [
    "IDL_trans_demos = generate_demonstrations(mdp, tabsoftq_gen_pol(Qit), 1000, demo_time_steps)\n",
    "SERD_trans_demos = generate_demonstrations(mdp, tabsoftq_gen_pol(Qst), 1000, demo_time_steps)"
   ]
  },
  {
   "cell_type": "code",
   "execution_count": null,
   "metadata": {},
   "outputs": [],
   "source": [
    "plot_mars(mdp,tabsoftq_gen_pol(Qit),Qs=Qit)"
   ]
  },
  {
   "cell_type": "code",
   "execution_count": null,
   "metadata": {},
   "outputs": [],
   "source": [
    "print(demo_stats(mdp, IDL_trans_demos))"
   ]
  },
  {
   "cell_type": "code",
   "execution_count": null,
   "metadata": {},
   "outputs": [],
   "source": [
    "print(demo_stats(mdp, SERD_trans_demos))"
   ]
  },
  {
   "cell_type": "code",
   "execution_count": null,
   "metadata": {},
   "outputs": [],
   "source": [
    "plot_values(mdp, Qit)"
   ]
  },
  {
   "cell_type": "code",
   "execution_count": null,
   "metadata": {},
   "outputs": [],
   "source": [
    "plot_values(mdp, Qst)"
   ]
  },
  {
   "cell_type": "code",
   "execution_count": null,
   "metadata": {},
   "outputs": [],
   "source": [
    "Qtrue = tabsoftq_learn_Qs(mdp)\n",
    "plot_values(mdp,Qtrue)"
   ]
  },
  {
   "cell_type": "code",
   "execution_count": null,
   "metadata": {},
   "outputs": [],
   "source": []
  },
  {
   "cell_type": "code",
   "execution_count": null,
   "metadata": {},
   "outputs": [],
   "source": [
    "mdp.get_possible_sprimes(np.array([[0,0],[0,1]]))"
   ]
  },
  {
   "cell_type": "code",
   "execution_count": null,
   "metadata": {},
   "outputs": [],
   "source": [
    "i = 15\n",
    "mdp.get_direction_moved(nn_rollouts[0][i][0],nn_rollouts[0][i+1][0])"
   ]
  },
  {
   "cell_type": "code",
   "execution_count": null,
   "metadata": {},
   "outputs": [],
   "source": [
    "nn_rollouts[0][i], nn_rollouts[0][i+1]"
   ]
  },
  {
   "cell_type": "code",
   "execution_count": null,
   "metadata": {},
   "outputs": [],
   "source": [
    "nn_rollouts[0][:30]"
   ]
  },
  {
   "cell_type": "code",
   "execution_count": null,
   "metadata": {},
   "outputs": [],
   "source": []
  }
 ],
 "metadata": {
  "kernelspec": {
   "display_name": "Python 3",
   "language": "python",
   "name": "python3"
  },
  "language_info": {
   "codemirror_mode": {
    "name": "ipython",
    "version": 3
   },
   "file_extension": ".py",
   "mimetype": "text/x-python",
   "name": "python",
   "nbconvert_exporter": "python",
   "pygments_lexer": "ipython3",
   "version": "3.6.5"
  }
 },
 "nbformat": 4,
 "nbformat_minor": 2
}
