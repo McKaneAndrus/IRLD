{
 "cells": [
  {
   "cell_type": "code",
   "execution_count": 1,
   "metadata": {},
   "outputs": [],
   "source": [
    "%load_ext autoreload"
   ]
  },
  {
   "cell_type": "code",
   "execution_count": 2,
   "metadata": {},
   "outputs": [],
   "source": [
    "import numpy as np\n",
    "from envs import MarsExplorerEnv\n",
    "import matplotlib.pyplot as plt\n",
    "import time\n",
    "import matplotlib.cm as cm\n",
    "import matplotlib.colors as colors\n",
    "import os\n",
    "import seaborn as sns\n",
    "from matplotlib.offsetbox import AnnotationBbox, OffsetImage\n",
    "from matplotlib._png import read_png\n",
    "import pickle as pkl\n",
    "%matplotlib inline\n",
    "\n",
    "import gym\n",
    "from gym import spaces\n",
    "from gym.envs.classic_control import rendering\n",
    "import tensorflow as tf\n",
    "from scipy.special import logsumexp\n",
    "from copy import deepcopy as copy\n",
    "import random\n",
    "np.set_printoptions(precision=8, suppress=True,threshold=np.nan)\n",
    "\n",
    "\n",
    "from __future__ import division\n",
    "import types\n",
    "import uuid\n",
    "import math\n",
    "import tensorflow as tf\n",
    "from scipy.misc import logsumexp\n",
    "from baselines import deepq\n",
    "import baselines.common.tf_util as U"
   ]
  },
  {
   "cell_type": "code",
   "execution_count": 3,
   "metadata": {},
   "outputs": [],
   "source": [
    "%autoreload"
   ]
  },
  {
   "cell_type": "code",
   "execution_count": 4,
   "metadata": {},
   "outputs": [],
   "source": [
    "# %store -r"
   ]
  },
  {
   "cell_type": "code",
   "execution_count": 5,
   "metadata": {},
   "outputs": [],
   "source": [
    "#%store"
   ]
  },
  {
   "cell_type": "code",
   "execution_count": 6,
   "metadata": {},
   "outputs": [],
   "source": [
    "data_dir = os.path.join('data', '1.1')"
   ]
  },
  {
   "cell_type": "code",
   "execution_count": 7,
   "metadata": {},
   "outputs": [],
   "source": [
    "LEFT = 0\n",
    "DOWN = 1\n",
    "RIGHT = 2\n",
    "UP = 3\n",
    "NOOP = 4\n",
    "\n",
    "cdict = {'red':   ((0.0,  0.173, 0.173),\n",
    "                   (1.0,  0.925, 0.925)),\n",
    "\n",
    "         'green': ((0.0,  0.067, 0.067),\n",
    "                   (1.0, 0.384, 0.384)),\n",
    "\n",
    "         'blue':  ((0.0,  0.027, 0.027),\n",
    "                   (1.0,  0.196, 0.196))}\n",
    "plt.register_cmap(name='RustPlanet', data=cdict)\n",
    "REWARD_COLORS = cm.get_cmap('RustPlanet')\n",
    "AGENT_COLORS = cm.get_cmap('gray')\n",
    "MAP_COLORS = {b'B':\"#3a0e00\",\n",
    "              b'F':\"#933111\",\n",
    "              b'S':\"#933111\",\n",
    "              b'U':\"#d65b33\",\n",
    "              b'1':\"#956F52\",\n",
    "              b'2':\"#3C2F34\",\n",
    "              b'3':\"#644C42\"}\n",
    "\n",
    "ROVER_PNGS = {LEFT:\"utils/rover_left.png\",\n",
    "        RIGHT:\"utils/rover_right.png\",\n",
    "        DOWN:\"utils/rover_down.png\",\n",
    "        UP:\"utils/rover_up.png\",\n",
    "        NOOP:\"utils/rover_sample.png\"}\n",
    "\n",
    "# tile_map = [\n",
    "#         \"F3FFUFU2U\",\n",
    "#         \"FUFUSUFUF\",\n",
    "#         \"FFFUSUFFU\",\n",
    "#         \"USUUUUUSU\",\n",
    "#         \"FFUSSSUFF\",\n",
    "#         \"FSFUSUFSF\",\n",
    "#         \"UUUUUUUFU\",\n",
    "#         \"UFFU1UFUU\",\n",
    "#         \"3UUFUFFU1\"\n",
    "#     ]\n",
    "\n",
    "# tile_map = [\n",
    "#         \"F22222FF1\",\n",
    "#         \"U31122FU1\",\n",
    "#         \"UF1112FU1\",\n",
    "#         \"UFUU1SFU1\",\n",
    "#         \"UFFU1FFU3\",\n",
    "#         \"3222UFS1U\",\n",
    "#         \"UUU22F1FU\",\n",
    "#         \"FSSFS12SF\",\n",
    "#         \"FSFF121FF\",\n",
    "#         \"S1S2SFFSF\",\n",
    "#         \"FUUUFFSFU\",\n",
    "#         \"U3UUUFSFU\",\n",
    "#         \"FFFUUFUUU\"\n",
    "#     ]\n",
    "\n",
    "tile_map = [\n",
    "        \"2FFFFFFF1\",\n",
    "        \"FFFFFFFFF\",\n",
    "        \"FFFFUFFFF\",\n",
    "        \"FSFUUUFSF\",\n",
    "        \"FSUU3UUSF\",\n",
    "        \"FSFUUUFSF\",\n",
    "        \"FFFFUFFFF\",\n",
    "        \"FFFSSSFFF\",\n",
    "        \"1FFFFFFF2\"\n",
    "    ]\n",
    "\n",
    "tile_rewards = {'F':0.05,\n",
    "              '1':0.1,\n",
    "              '2':0.1,\n",
    "              '3':0.1,\n",
    "              'S':0.01,\n",
    "              'U':0.0}\n",
    "\n",
    "\n",
    "goal_tile_rewards = {'F':0.0,\n",
    "              '1':1.0,\n",
    "              '2':2.0,\n",
    "              '3':8.0,\n",
    "              'S':0.0,\n",
    "              'U':0.0}\n",
    "\n",
    "tile_reward_modifier = lambda r,x,y,mx,my: r #* 0.1 * ((x-(mx/2 + np.random.normal(scale=0.5)))**2 + (y - (mx/2 + np.random.normal(scale=0.5)))**2)\n",
    "\n",
    "def build_reward_map(tile_map, tile_rewards, goal_tile_rewards, tile_reward_modifier):\n",
    "    reward_map = np.zeros((len(tile_map),len(tile_map[0])))\n",
    "    texture_map = np.zeros((len(tile_map),len(tile_map[0])))\n",
    "    for y,row in enumerate(tile_map):\n",
    "        for x,c in enumerate(row):\n",
    "            reward_map[y,x] = texture_map[y,x] = tile_reward_modifier(tile_rewards[c],x,y,len(tile_map[0]),len(tile_map))\n",
    "            reward_map[y,x] +=  goal_tile_rewards[c]\n",
    "    return reward_map, texture_map\n",
    "\n",
    "reward_map, texture_map = build_reward_map(tile_map, tile_rewards, goal_tile_rewards, tile_reward_modifier)\n",
    "\n",
    "\n",
    "t0 = (0.8,0.1,0.0,0.0)\n",
    "t1 = (0.0,0.0,0.0,1.0)  #(0.1,0.15,0.5,0.1)\n",
    "\n",
    "trans_dict = {b'F':t0,\n",
    "              b'1':t0,\n",
    "              b'2':t0,\n",
    "              b'3':t0,\n",
    "              b'S':t0,\n",
    "              b'U':t1}\n",
    "\n",
    "#TODO implement theta_mat in mars_explorer so do not need to hard code, use np.roll\n",
    "true_tps = np.array([[[0.8, 0.],\n",
    "  [0.1, 0.],\n",
    "  [0.0, 0.],\n",
    "  [0.1, 0.],\n",
    "  [0.0, 1.]],\n",
    "\n",
    " [[0.1, 0.],\n",
    "  [0.8, 0.],\n",
    "  [0.1, 0.],\n",
    "  [0.0, 0.],\n",
    "  [0.0, 1.]],\n",
    "\n",
    " [[0.0, 0.],\n",
    "  [0.1, 0.],\n",
    "  [0.8, 0.],\n",
    "  [0.1, 0.],\n",
    "  [0.0, 1.]],\n",
    "\n",
    " [[0.1, 0.],\n",
    "  [0.0, 0.],\n",
    "  [0.1, 0.],\n",
    "  [0.8, 0.],\n",
    "  [0.0, 1.]],\n",
    "\n",
    " [[0., 0.],\n",
    "  [0., 0.],\n",
    "  [0., 0.],\n",
    "  [0., 0.],\n",
    "  [1., 1.]]])\n",
    "\n",
    "gamma = 0.98\n",
    "\n",
    "alpha = 0.0001\n",
    "\n",
    "T_theta_shape = (5,5,2)\n",
    "\n",
    "time_penalty = 0.0\n"
   ]
  },
  {
   "cell_type": "code",
   "execution_count": 8,
   "metadata": {},
   "outputs": [],
   "source": [
    "# reward_normalizer = (1-gamma)/(np.max(reward_map))\n",
    "# reward_map *= reward_normalizer\n",
    "# time_penalty *= reward_normalizer"
   ]
  },
  {
   "cell_type": "code",
   "execution_count": 9,
   "metadata": {},
   "outputs": [],
   "source": [
    "# temperature = 1/(reward_normalizer)\n",
    "# print(temperature)"
   ]
  },
  {
   "cell_type": "code",
   "execution_count": 10,
   "metadata": {},
   "outputs": [
    {
     "data": {
      "text/plain": [
       "<matplotlib.image.AxesImage at 0x1231c46d8>"
      ]
     },
     "execution_count": 10,
     "metadata": {},
     "output_type": "execute_result"
    },
    {
     "data": {
      "image/png": "[encoded data removed]",
      "text/plain": [
       "<Figure size 432x288 with 1 Axes>"
      ]
     },
     "metadata": {},
     "output_type": "display_data"
    }
   ],
   "source": [
    "plt.imshow(reward_map, cmap=\"Blues\")"
   ]
  },
  {
   "cell_type": "code",
   "execution_count": 11,
   "metadata": {},
   "outputs": [
    {
     "data": {
      "text/plain": [
       "<matplotlib.image.AxesImage at 0x1233ab5f8>"
      ]
     },
     "execution_count": 11,
     "metadata": {},
     "output_type": "execute_result"
    },
    {
     "data": {
      "image/png": "[encoded data removed]",
      "text/plain": [
       "<Figure size 432x288 with 1 Axes>"
      ]
     },
     "metadata": {},
     "output_type": "display_data"
    }
   ],
   "source": [
    "plt.imshow(texture_map, cmap=\"Blues\")"
   ]
  },
  {
   "cell_type": "code",
   "execution_count": 12,
   "metadata": {},
   "outputs": [
    {
     "data": {
      "text/plain": [
       "<matplotlib.image.AxesImage at 0x12342d160>"
      ]
     },
     "execution_count": 12,
     "metadata": {},
     "output_type": "execute_result"
    },
    {
     "data": {
      "image/png": "[encoded data removed]",
      "text/plain": [
       "<Figure size 432x288 with 1 Axes>"
      ]
     },
     "metadata": {},
     "output_type": "display_data"
    }
   ],
   "source": [
    "plt.imshow(reward_map - texture_map, cmap=\"Blues\")"
   ]
  },
  {
   "cell_type": "code",
   "execution_count": 13,
   "metadata": {},
   "outputs": [],
   "source": [
    "mdp = MarsExplorerEnv(tile_map, reward_map, texture_map, trans_dict, time_penalty) \n",
    "nA = mdp.nA\n",
    "nS = mdp.nS"
   ]
  },
  {
   "cell_type": "code",
   "execution_count": 14,
   "metadata": {},
   "outputs": [
    {
     "data": {
      "text/plain": [
       "<matplotlib.image.AxesImage at 0x123217eb8>"
      ]
     },
     "execution_count": 14,
     "metadata": {},
     "output_type": "execute_result"
    },
    {
     "data": {
      "image/png": "[encoded data removed]",
      "text/plain": [
       "<Figure size 432x288 with 1 Axes>"
      ]
     },
     "metadata": {},
     "output_type": "display_data"
    }
   ],
   "source": [
    "binary_map = np.ones(mdp.tile_map.shape)\n",
    "binary_map[np.where(mdp.tile_map == b'S')] = 255.0\n",
    "plt.imshow(binary_map, cmap=\"Blues\")"
   ]
  },
  {
   "cell_type": "code",
   "execution_count": 15,
   "metadata": {},
   "outputs": [],
   "source": [
    "def plot_mars(mdp, pi, term = 40, title=None, counts = None, Qs = None):\n",
    "    background = np.array([colors.to_rgb(MAP_COLORS[l]) for l in mdp.tile_map.flat]).reshape(mdp.nrow, mdp.ncol,3)\n",
    "    s = mdp._reset()\n",
    "    t, r = 0, 0\n",
    "    while s is not None and t < term:\n",
    "        fig = plt.figure(figsize=(4,4))\n",
    "        if title != None:\n",
    "            plt.title(title)\n",
    "        plt.imshow(background)\n",
    "        plt.axes().get_xaxis().set_visible(False)\n",
    "        plt.axes().get_yaxis().set_visible(False)\n",
    "        ax = plt.gca()\n",
    "        a = pi[s] if type(pi) == np.ndarray else pi(s)\n",
    "        img_path = ROVER_PNGS[a]\n",
    "        arr_hand = read_png(img_path)\n",
    "        imagebox = OffsetImage(arr_hand, zoom=.5)\n",
    "        xy = [s%background.shape[1], s//background.shape[1]]  # coordinates to position this image\n",
    "\n",
    "        ab = AnnotationBbox(imagebox, xy,\n",
    "                            xybox=(0, 0),\n",
    "                            xycoords='data',\n",
    "                            boxcoords=\"offset points\",\n",
    "                            frameon=False)\n",
    "        ax.add_artist(ab)\n",
    "        fig.text(0.13, 0.05, 't: {}      r: {}'.format(t,round(r,4)), ha='left', fontsize=10)\n",
    "        sns.despine(bottom=True,left=True,right=True,top=True)\n",
    "        plt.show()\n",
    "        if Qs is not None:\n",
    "            print(Qs[s])\n",
    "            print(a)\n",
    "            print(softmax(Qs[s]))\n",
    "        print(mdp.s_to_grid(s), mdp.tile_map.flatten()[s])\n",
    "        s, rt, _, d = mdp._step(a)\n",
    "        print(mdp.s_to_grid(s), mdp.tile_map.flatten()[s])\n",
    "        t += 1\n",
    "        r += rt\n",
    "    if counts:\n",
    "        fig.text(0.87, 0.05, 'F: {}  L/R: {}  B: {}  S: {}'.format(counts['F'], counts['LR'], counts['B'], counts['S']), ha='right', fontsize=10)\n",
    "    #     plt.savefig(folder+\"/\"+str(t)+\".png\", format='png')\n",
    "    return\n",
    "\n",
    "def plot_mars_history(mdp, hist, title=None, counts = None):\n",
    "    background = np.array([colors.to_rgb(MAP_COLORS[l]) for l in mdp.tile_map.flat]).reshape(mdp.nrow, mdp.ncol,3)\n",
    "    t = 0\n",
    "    for s,a,sprime in [h[0] for h in hist]:\n",
    "        fig = plt.figure(figsize=(4,4))\n",
    "        if title != None:\n",
    "            plt.title(title)\n",
    "        plt.imshow(background)\n",
    "        plt.axes().get_xaxis().set_visible(False)\n",
    "        plt.axes().get_yaxis().set_visible(False)\n",
    "        ax = plt.gca()\n",
    "        img_path = ROVER_PNGS[a]\n",
    "        arr_hand = read_png(img_path)\n",
    "        imagebox = OffsetImage(arr_hand, zoom=.5)\n",
    "        xy = [s%background.shape[1], s//background.shape[1]]  # coordinates to position this image\n",
    "\n",
    "        ab = AnnotationBbox(imagebox, xy,\n",
    "                            xybox=(0, 0),\n",
    "                            xycoords='data',\n",
    "                            boxcoords=\"offset points\",\n",
    "                            frameon=False)\n",
    "        ax.add_artist(ab)\n",
    "        fig.text(0.13, 0.05, 't: {}'.format(t), ha='left', fontsize=10)\n",
    "        sns.despine(bottom=True,left=True,right=True,top=True)\n",
    "        plt.show()\n",
    "        t += 1\n",
    "    if counts:\n",
    "        fig.text(0.87, 0.05, 'F: {}  L/R: {}  B: {}  S: {}'.format(counts['F'], counts['LR'], counts['B'], counts['S']), ha='right', fontsize=10)\n",
    "    #     plt.savefig(folder+\"/\"+str(t)+\".png\", format='png')\n",
    "    return\n",
    "\n",
    "def plot_values(mdp, Qs, s=None, title=None):\n",
    "    V = np.max(Qs, axis=1).reshape((mdp.nrow,mdp.ncol))\n",
    "    pi = np.argmax(Qs, axis=1)\n",
    "    plt.figure(figsize=(8,8))\n",
    "    if title != None:\n",
    "        plt.title(title)\n",
    "    plt.imshow(V, cmap='gray')#, clim=(0,1)) 'gist_ncar'\n",
    "    ax = plt.gca()\n",
    "    ax.set_xticks(np.arange(V.shape[1])-.5)\n",
    "    ax.set_yticks(np.arange(V.shape[0])-.5)\n",
    "    ax.set_xticklabels([])\n",
    "    ax.set_yticklabels([])\n",
    "    Y, X = np.mgrid[0:V.shape[0], 0:V.shape[1]]\n",
    "    a2uv = {0: (-1, 0), 1:(0, -1), 2:(1,0), 3:(0, 1), 4:(-1,-1)}\n",
    "    Pi = pi.reshape(V.shape)\n",
    "    for y in range(V.shape[0]):\n",
    "        for x in range(V.shape[1]):\n",
    "            a = Pi[y, x]\n",
    "            u, v = a2uv[a]\n",
    "            plt.arrow(x, y,u*.3, -v*.3, color='m', head_width=0.2, head_length=0.1) \n",
    "            plt.text(x, y, str(mdp.tile_map[y,x].item().decode()),\n",
    "                     color='c', size=12,  verticalalignment='center',\n",
    "                     horizontalalignment='center', fontweight='bold')\n",
    "    if s != None:\n",
    "        plt.plot(s%V.shape[0], s//V.shape[0], 'ro')\n",
    "#     plt.grid(color='b', lw=2, ls='-')\n",
    "    return"
   ]
  },
  {
   "cell_type": "markdown",
   "metadata": {},
   "source": [
    "# Soft-Q Learning"
   ]
  },
  {
   "cell_type": "code",
   "execution_count": 16,
   "metadata": {},
   "outputs": [],
   "source": [
    "def softmax(x, axis=1):\n",
    "    \"\"\"Compute softmax values for each sets of scores in x.\"\"\"\n",
    "    axis = 0 if len(x.shape) == 1 else axis\n",
    "    e_x = np.exp(x - np.max(x, axis=axis,keepdims=True))\n",
    "    return (e_x / e_x.sum(axis=axis, keepdims = True))"
   ]
  },
  {
   "cell_type": "code",
   "execution_count": 17,
   "metadata": {},
   "outputs": [],
   "source": [
    "def tabsoftq_iter(R, T, maxiter=10000, verbose=False, Q_init=None, learning_rate=0.5, ftol=1e-32):\n",
    "    Q = np.zeros((nS, nA)) if Q_init is None else copy(Q_init)\n",
    "    prevQ = copy(Q)\n",
    "    if verbose:\n",
    "        diffs = []\n",
    "        meanVs = []\n",
    "    for iter_idx in range(maxiter):\n",
    "        V = alpha * logsumexp(prevQ / alpha, axis=1)\n",
    "        V_broad = V.reshape((1, 1, nS))\n",
    "        Q = np.sum(T * (R + gamma * V_broad), axis=2)\n",
    "        Q = (1 - learning_rate) * prevQ + learning_rate * Q\n",
    "        diff = np.mean((Q - prevQ)**2)/(np.std(Q)**2)\n",
    "        if verbose:\n",
    "            diffs.append(diff)\n",
    "            meanVs.append(np.mean(V)) \n",
    "        if diff < ftol:\n",
    "            break\n",
    "        prevQ = copy(Q)\n",
    "    if verbose:\n",
    "        plt.xlabel('Number of Iterations')\n",
    "        plt.ylabel('Avg. Squared Bellman Error')\n",
    "        plt.title('Soft Q Iteration')\n",
    "        plt.plot(diffs)\n",
    "        plt.yscale('log')\n",
    "        plt.show()\n",
    "        plt.xlabel('Number of Iterations')\n",
    "        plt.ylabel('Avg. Value of All Tiles')\n",
    "        plt.title('Soft Q Iteration')\n",
    "        plt.plot(meanVs)\n",
    "        plt.show()\n",
    "    return Q"
   ]
  },
  {
   "cell_type": "code",
   "execution_count": 18,
   "metadata": {},
   "outputs": [],
   "source": [
    "def tabsoftq_learn_Qs(mdp):\n",
    "    R = mdp.rewards\n",
    "    T = mdp.get_transition_matrix()\n",
    "    Qs = tabsoftq_iter(R, T)\n",
    "    return Qs\n",
    "\n",
    "def tabsoftq_gen_pol(Qs, beta=1):\n",
    "    softQs = softmax(Qs * beta)\n",
    "    return lambda s: np.random.choice(np.asarray(range(len(Qs[s]))),p=softQs[s])\n",
    "\n",
    "def tabsoftq_gen_pol_probs(Qs, beta=1):\n",
    "    softQs = softmax(Qs * beta)\n",
    "    return softQs\n"
   ]
  },
  {
   "cell_type": "code",
   "execution_count": 19,
   "metadata": {},
   "outputs": [],
   "source": [
    "def generate_demonstrations(mdp, pol, n, term):\n",
    "    hists = []\n",
    "    for i in range(n):\n",
    "        s, d, t = mdp._reset(), False, 0\n",
    "        hist = []\n",
    "        while not d and t < term:\n",
    "            a = pol[s] if type(pol) == np.ndarray else pol(s)\n",
    "            sprime, rt, _, ob_dict = mdp._step(a)\n",
    "            hist += [((s,a,sprime),ob_dict['adt'])]\n",
    "            t += 1\n",
    "            s = sprime\n",
    "        hists += [hist]\n",
    "    return hists"
   ]
  },
  {
   "cell_type": "code",
   "execution_count": 20,
   "metadata": {},
   "outputs": [],
   "source": [
    "def vectorize_rollouts(rollouts):\n",
    "    sas_obs = []\n",
    "    adt_obs = []\n",
    "    task_idxes = []\n",
    "    for rollout in rollouts:\n",
    "        more_sas, more_adt = list(zip(*rollout))\n",
    "        sas_obs.extend(more_sas)\n",
    "        adt_obs.extend(more_adt)\n",
    "    return np.array(sas_obs), np.array(adt_obs)"
   ]
  },
  {
   "cell_type": "markdown",
   "metadata": {},
   "source": [
    "Sanity check (env and softq)"
   ]
  },
  {
   "cell_type": "code",
   "execution_count": 21,
   "metadata": {
    "scrolled": true
   },
   "outputs": [
    {
     "name": "stderr",
     "output_type": "stream",
     "text": [
      "/Users/mckaneandrus/anaconda2/envs/irld/lib/python3.6/site-packages/ipykernel_launcher.py:8: DeprecationWarning: `logsumexp` is deprecated!\n",
      "Importing `logsumexp` from scipy.misc is deprecated in scipy 1.0.0. Use `scipy.special.logsumexp` instead.\n",
      "  \n",
      "/Users/mckaneandrus/anaconda2/envs/irld/lib/python3.6/site-packages/matplotlib/cbook/deprecation.py:107: MatplotlibDeprecationWarning: Adding an axes using the same arguments as a previous axes currently reuses the earlier instance.  In a future version, a new instance will always be created and returned.  Meanwhile, this warning can be suppressed, and the future behavior ensured, by passing a unique label to each axes instance.\n",
      "  warnings.warn(message, mplDeprecation, stacklevel=1)\n"
     ]
    },
    {
     "data": {
      "image/png": "[encoded data removed]",
      "text/plain": [
       "<Figure size 288x288 with 1 Axes>"
      ]
     },
     "metadata": {},
     "output_type": "display_data"
    },
    {
     "name": "stdout",
     "output_type": "stream",
     "text": [
      "[85.30521112 95.53012498 96.01403887 91.50851771 94.10375809]\n",
      "2\n",
      "[0.00001259 0.34715565 0.56322947 0.00622246 0.08337982]\n",
      "(7, 5) b'S'\n",
      "(7, 4) b'S'\n"
     ]
    },
    {
     "data": {
      "image/png": "[encoded data removed]",
      "text/plain": [
       "<Figure size 288x288 with 1 Axes>"
      ]
     },
     "metadata": {},
     "output_type": "display_data"
    },
    {
     "name": "stdout",
     "output_type": "stream",
     "text": [
      "[18.76390578 84.66729052 93.82556012 84.16205181 91.95904891]\n",
      "4\n",
      "[0.         0.00009122 0.86592741 0.00005504 0.13392633]\n",
      "(7, 4) b'S'\n",
      "(7, 4) b'S'\n"
     ]
    },
    {
     "data": {
      "image/png": "[encoded data removed]",
      "text/plain": [
       "<Figure size 288x288 with 1 Axes>"
      ]
     },
     "metadata": {},
     "output_type": "display_data"
    },
    {
     "name": "stdout",
     "output_type": "stream",
     "text": [
      "[18.76390578 84.66729052 93.82556012 84.16205181 91.95904891]\n",
      "2\n",
      "[0.         0.00009122 0.86592741 0.00005504 0.13392633]\n",
      "(7, 4) b'S'\n",
      "(8, 4) b'F'\n"
     ]
    },
    {
     "data": {
      "image/png": "[encoded data removed]",
      "text/plain": [
       "<Figure size 288x288 with 1 Axes>"
      ]
     },
     "metadata": {},
     "output_type": "display_data"
    },
    {
     "name": "stdout",
     "output_type": "stream",
     "text": [
      "[92.77922855 95.69893283 94.27998746 95.15579182 93.83495417]\n",
      "1\n",
      "[0.02655141 0.49215168 0.11908548 0.2859011  0.07631033]\n",
      "(8, 4) b'F'\n",
      "(8, 5) b'F'\n"
     ]
    },
    {
     "data": {
      "image/png": "[encoded data removed]",
      "text/plain": [
       "<Figure size 288x288 with 1 Axes>"
      ]
     },
     "metadata": {},
     "output_type": "display_data"
    },
    {
     "name": "stdout",
     "output_type": "stream",
     "text": [
      "[94.58316516 98.31572472 95.87650104 94.05038194 96.39941022]\n",
      "1\n",
      "[0.01880882 0.78594394 0.06855674 0.01104019 0.1156503 ]\n",
      "(8, 5) b'F'\n",
      "(8, 6) b'F'\n"
     ]
    },
    {
     "data": {
      "image/png": "[encoded data removed]",
      "text/plain": [
       "<Figure size 288x288 with 1 Axes>"
      ]
     },
     "metadata": {},
     "output_type": "display_data"
    },
    {
     "name": "stdout",
     "output_type": "stream",
     "text": [
      "[ 97.43020602 101.13942106  98.47709175  96.6476005   99.16663264]\n",
      "1\n",
      "[0.0196832  0.80350263 0.05607282 0.00899942 0.11174193]\n",
      "(8, 6) b'F'\n",
      "(8, 7) b'F'\n"
     ]
    },
    {
     "data": {
      "image/png": "[encoded data removed]",
      "text/plain": [
       "<Figure size 288x288 with 1 Axes>"
      ]
     },
     "metadata": {},
     "output_type": "display_data"
    },
    {
     "name": "stdout",
     "output_type": "stream",
     "text": [
      "[100.04163435 104.04508769 101.15239368  99.3783938  102.01418593]\n",
      "1\n",
      "[0.0150313  0.82351997 0.04564499 0.00774381 0.10805994]\n",
      "(8, 7) b'F'\n",
      "(8, 8) b'2'\n"
     ]
    },
    {
     "data": {
      "image/png": "[encoded data removed]",
      "text/plain": [
       "<Figure size 288x288 with 1 Axes>"
      ]
     },
     "metadata": {},
     "output_type": "display_data"
    },
    {
     "name": "stdout",
     "output_type": "stream",
     "text": [
      "[102.17278729 103.44159449 103.44159408 102.17278688 105.        ]\n",
      "3\n",
      "[0.03844452 0.13673208 0.13673203 0.03844451 0.64964686]\n",
      "(8, 8) b'2'\n",
      "(8, 7) b'F'\n"
     ]
    },
    {
     "data": {
      "image/png": "[encoded data removed]",
      "text/plain": [
       "<Figure size 288x288 with 1 Axes>"
      ]
     },
     "metadata": {},
     "output_type": "display_data"
    },
    {
     "name": "stdout",
     "output_type": "stream",
     "text": [
      "[100.04163435 104.04508769 101.15239368  99.3783938  102.01418593]\n",
      "1\n",
      "[0.0150313  0.82351997 0.04564499 0.00774381 0.10805994]\n",
      "(8, 7) b'F'\n",
      "(8, 8) b'2'\n"
     ]
    },
    {
     "data": {
      "image/png": "[encoded data removed]",
      "text/plain": [
       "<Figure size 288x288 with 1 Axes>"
      ]
     },
     "metadata": {},
     "output_type": "display_data"
    },
    {
     "name": "stdout",
     "output_type": "stream",
     "text": [
      "[102.17278729 103.44159449 103.44159408 102.17278688 105.        ]\n",
      "1\n",
      "[0.03844452 0.13673208 0.13673203 0.03844451 0.64964686]\n",
      "(8, 8) b'2'\n",
      "(8, 0) b'1'\n"
     ]
    },
    {
     "data": {
      "image/png": "[encoded data removed]",
      "text/plain": [
       "<Figure size 288x288 with 1 Axes>"
      ]
     },
     "metadata": {},
     "output_type": "display_data"
    },
    {
     "name": "stdout",
     "output_type": "stream",
     "text": [
      "[101.32770146 101.32770179 104.59196687 104.59196682 103.60019544]\n",
      "2\n",
      "[0.01561882 0.01561882 0.40860205 0.40860203 0.15155828]\n",
      "(8, 0) b'1'\n",
      "(0, 0) b'2'\n"
     ]
    },
    {
     "data": {
      "image/png": "[encoded data removed]",
      "text/plain": [
       "<Figure size 288x288 with 1 Axes>"
      ]
     },
     "metadata": {},
     "output_type": "display_data"
    },
    {
     "name": "stdout",
     "output_type": "stream",
     "text": [
      "[103.44159497 102.17279159 102.17279118 103.44159456 105.        ]\n",
      "4\n",
      "[0.13673209 0.03844467 0.03844465 0.13673203 0.64964656]\n",
      "(0, 0) b'2'\n",
      "(0, 0) b'2'\n"
     ]
    },
    {
     "data": {
      "image/png": "[encoded data removed]",
      "text/plain": [
       "<Figure size 288x288 with 1 Axes>"
      ]
     },
     "metadata": {},
     "output_type": "display_data"
    },
    {
     "name": "stdout",
     "output_type": "stream",
     "text": [
      "[103.44159497 102.17279159 102.17279118 103.44159456 105.        ]\n",
      "4\n",
      "[0.13673209 0.03844467 0.03844465 0.13673203 0.64964656]\n",
      "(0, 0) b'2'\n",
      "(0, 0) b'2'\n"
     ]
    },
    {
     "data": {
      "image/png": "[encoded data removed]",
      "text/plain": [
       "<Figure size 288x288 with 1 Axes>"
      ]
     },
     "metadata": {},
     "output_type": "display_data"
    },
    {
     "name": "stdout",
     "output_type": "stream",
     "text": [
      "[103.44159497 102.17279159 102.17279118 103.44159456 105.        ]\n",
      "3\n",
      "[0.13673209 0.03844467 0.03844465 0.13673203 0.64964656]\n",
      "(0, 0) b'2'\n",
      "(1, 0) b'F'\n"
     ]
    },
    {
     "data": {
      "image/png": "[encoded data removed]",
      "text/plain": [
       "<Figure size 288x288 with 1 Axes>"
      ]
     },
     "metadata": {},
     "output_type": "display_data"
    },
    {
     "name": "stdout",
     "output_type": "stream",
     "text": [
      "[104.04509256 100.04167777  99.37843729 101.15239888 102.01419071]\n",
      "0\n",
      "[0.82351924 0.01503186 0.0077441  0.04564496 0.10805983]\n",
      "(1, 0) b'F'\n",
      "(0, 0) b'2'\n"
     ]
    },
    {
     "data": {
      "image/png": "[encoded data removed]",
      "text/plain": [
       "<Figure size 288x288 with 1 Axes>"
      ]
     },
     "metadata": {},
     "output_type": "display_data"
    },
    {
     "name": "stdout",
     "output_type": "stream",
     "text": [
      "[103.44159497 102.17279159 102.17279118 103.44159456 105.        ]\n",
      "4\n",
      "[0.13673209 0.03844467 0.03844465 0.13673203 0.64964656]\n",
      "(0, 0) b'2'\n",
      "(0, 0) b'2'\n"
     ]
    },
    {
     "data": {
      "image/png": "[encoded data removed]",
      "text/plain": [
       "<Figure size 288x288 with 1 Axes>"
      ]
     },
     "metadata": {},
     "output_type": "display_data"
    },
    {
     "name": "stdout",
     "output_type": "stream",
     "text": [
      "[103.44159497 102.17279159 102.17279118 103.44159456 105.        ]\n",
      "4\n",
      "[0.13673209 0.03844467 0.03844465 0.13673203 0.64964656]\n",
      "(0, 0) b'2'\n",
      "(0, 0) b'2'\n"
     ]
    },
    {
     "data": {
      "image/png": "[encoded data removed]",
      "text/plain": [
       "<Figure size 288x288 with 1 Axes>"
      ]
     },
     "metadata": {},
     "output_type": "display_data"
    },
    {
     "name": "stdout",
     "output_type": "stream",
     "text": [
      "[103.44159497 102.17279159 102.17279118 103.44159456 105.        ]\n",
      "4\n",
      "[0.13673209 0.03844467 0.03844465 0.13673203 0.64964656]\n",
      "(0, 0) b'2'\n",
      "(0, 0) b'2'\n"
     ]
    },
    {
     "data": {
      "image/png": "[encoded data removed]",
      "text/plain": [
       "<Figure size 288x288 with 1 Axes>"
      ]
     },
     "metadata": {},
     "output_type": "display_data"
    },
    {
     "name": "stdout",
     "output_type": "stream",
     "text": [
      "[103.44159497 102.17279159 102.17279118 103.44159456 105.        ]\n",
      "4\n",
      "[0.13673209 0.03844467 0.03844465 0.13673203 0.64964656]\n",
      "(0, 0) b'2'\n",
      "(0, 0) b'2'\n"
     ]
    },
    {
     "data": {
      "image/png": "[encoded data removed]",
      "text/plain": [
       "<Figure size 288x288 with 1 Axes>"
      ]
     },
     "metadata": {},
     "output_type": "display_data"
    },
    {
     "name": "stdout",
     "output_type": "stream",
     "text": [
      "[103.44159497 102.17279159 102.17279118 103.44159456 105.        ]\n",
      "4\n",
      "[0.13673209 0.03844467 0.03844465 0.13673203 0.64964656]\n",
      "(0, 0) b'2'\n",
      "(0, 0) b'2'\n"
     ]
    },
    {
     "data": {
      "image/png": "[encoded data removed]",
      "text/plain": [
       "<Figure size 288x288 with 1 Axes>"
      ]
     },
     "metadata": {},
     "output_type": "display_data"
    },
    {
     "name": "stdout",
     "output_type": "stream",
     "text": [
      "[103.44159497 102.17279159 102.17279118 103.44159456 105.        ]\n",
      "3\n",
      "[0.13673209 0.03844467 0.03844465 0.13673203 0.64964656]\n",
      "(0, 0) b'2'\n",
      "(8, 0) b'1'\n"
     ]
    },
    {
     "data": {
      "image/png": "[encoded data removed]",
      "text/plain": [
       "<Figure size 288x288 with 1 Axes>"
      ]
     },
     "metadata": {},
     "output_type": "display_data"
    },
    {
     "name": "stdout",
     "output_type": "stream",
     "text": [
      "[101.32770146 101.32770179 104.59196687 104.59196682 103.60019544]\n",
      "2\n",
      "[0.01561882 0.01561882 0.40860205 0.40860203 0.15155828]\n",
      "(8, 0) b'1'\n",
      "(0, 0) b'2'\n"
     ]
    },
    {
     "data": {
      "image/png": "[encoded data removed]",
      "text/plain": [
       "<Figure size 288x288 with 1 Axes>"
      ]
     },
     "metadata": {},
     "output_type": "display_data"
    },
    {
     "name": "stdout",
     "output_type": "stream",
     "text": [
      "[103.44159497 102.17279159 102.17279118 103.44159456 105.        ]\n",
      "4\n",
      "[0.13673209 0.03844467 0.03844465 0.13673203 0.64964656]\n",
      "(0, 0) b'2'\n",
      "(0, 0) b'2'\n"
     ]
    },
    {
     "data": {
      "image/png": "[encoded data removed]",
      "text/plain": [
       "<Figure size 288x288 with 1 Axes>"
      ]
     },
     "metadata": {},
     "output_type": "display_data"
    },
    {
     "name": "stdout",
     "output_type": "stream",
     "text": [
      "[103.44159497 102.17279159 102.17279118 103.44159456 105.        ]\n",
      "4\n",
      "[0.13673209 0.03844467 0.03844465 0.13673203 0.64964656]\n",
      "(0, 0) b'2'\n",
      "(0, 0) b'2'\n"
     ]
    },
    {
     "data": {
      "image/png": "[encoded data removed]",
      "text/plain": [
       "<Figure size 288x288 with 1 Axes>"
      ]
     },
     "metadata": {},
     "output_type": "display_data"
    },
    {
     "name": "stdout",
     "output_type": "stream",
     "text": [
      "[103.44159497 102.17279159 102.17279118 103.44159456 105.        ]\n",
      "0\n",
      "[0.13673209 0.03844467 0.03844465 0.13673203 0.64964656]\n",
      "(0, 0) b'2'\n",
      "(8, 0) b'1'\n"
     ]
    },
    {
     "data": {
      "image/png": "[encoded data removed]",
      "text/plain": [
       "<Figure size 288x288 with 1 Axes>"
      ]
     },
     "metadata": {},
     "output_type": "display_data"
    },
    {
     "name": "stdout",
     "output_type": "stream",
     "text": [
      "[101.32770146 101.32770179 104.59196687 104.59196682 103.60019544]\n",
      "2\n",
      "[0.01561882 0.01561882 0.40860205 0.40860203 0.15155828]\n",
      "(8, 0) b'1'\n",
      "(0, 0) b'2'\n"
     ]
    },
    {
     "data": {
      "image/png": "[encoded data removed]",
      "text/plain": [
       "<Figure size 288x288 with 1 Axes>"
      ]
     },
     "metadata": {},
     "output_type": "display_data"
    },
    {
     "name": "stdout",
     "output_type": "stream",
     "text": [
      "[103.44159497 102.17279159 102.17279118 103.44159456 105.        ]\n",
      "4\n",
      "[0.13673209 0.03844467 0.03844465 0.13673203 0.64964656]\n",
      "(0, 0) b'2'\n",
      "(0, 0) b'2'\n"
     ]
    },
    {
     "data": {
      "image/png": "[encoded data removed]",
      "text/plain": [
       "<Figure size 288x288 with 1 Axes>"
      ]
     },
     "metadata": {},
     "output_type": "display_data"
    },
    {
     "name": "stdout",
     "output_type": "stream",
     "text": [
      "[103.44159497 102.17279159 102.17279118 103.44159456 105.        ]\n",
      "4\n",
      "[0.13673209 0.03844467 0.03844465 0.13673203 0.64964656]\n",
      "(0, 0) b'2'\n",
      "(0, 0) b'2'\n"
     ]
    },
    {
     "data": {
      "image/png": "[encoded data removed]",
      "text/plain": [
       "<Figure size 288x288 with 1 Axes>"
      ]
     },
     "metadata": {},
     "output_type": "display_data"
    },
    {
     "name": "stdout",
     "output_type": "stream",
     "text": [
      "[103.44159497 102.17279159 102.17279118 103.44159456 105.        ]\n",
      "3\n",
      "[0.13673209 0.03844467 0.03844465 0.13673203 0.64964656]\n",
      "(0, 0) b'2'\n",
      "(1, 0) b'F'\n"
     ]
    },
    {
     "data": {
      "image/png": "[encoded data removed]",
      "text/plain": [
       "<Figure size 288x288 with 1 Axes>"
      ]
     },
     "metadata": {},
     "output_type": "display_data"
    },
    {
     "name": "stdout",
     "output_type": "stream",
     "text": [
      "[104.04509256 100.04167777  99.37843729 101.15239888 102.01419071]\n",
      "4\n",
      "[0.82351924 0.01503186 0.0077441  0.04564496 0.10805983]\n",
      "(1, 0) b'F'\n",
      "(1, 0) b'F'\n"
     ]
    },
    {
     "data": {
      "image/png": "[encoded data removed]",
      "text/plain": [
       "<Figure size 288x288 with 1 Axes>"
      ]
     },
     "metadata": {},
     "output_type": "display_data"
    },
    {
     "name": "stdout",
     "output_type": "stream",
     "text": [
      "[104.04509256 100.04167777  99.37843729 101.15239888 102.01419071]\n",
      "0\n",
      "[0.82351924 0.01503186 0.0077441  0.04564496 0.10805983]\n",
      "(1, 0) b'F'\n",
      "(0, 0) b'2'\n"
     ]
    },
    {
     "data": {
      "image/png": "[encoded data removed]",
      "text/plain": [
       "<Figure size 288x288 with 1 Axes>"
      ]
     },
     "metadata": {},
     "output_type": "display_data"
    },
    {
     "name": "stdout",
     "output_type": "stream",
     "text": [
      "[103.44159497 102.17279159 102.17279118 103.44159456 105.        ]\n",
      "4\n",
      "[0.13673209 0.03844467 0.03844465 0.13673203 0.64964656]\n",
      "(0, 0) b'2'\n",
      "(0, 0) b'2'\n"
     ]
    },
    {
     "data": {
      "image/png": "[encoded data removed]",
      "text/plain": [
       "<Figure size 288x288 with 1 Axes>"
      ]
     },
     "metadata": {},
     "output_type": "display_data"
    },
    {
     "name": "stdout",
     "output_type": "stream",
     "text": [
      "[103.44159497 102.17279159 102.17279118 103.44159456 105.        ]\n",
      "4\n",
      "[0.13673209 0.03844467 0.03844465 0.13673203 0.64964656]\n",
      "(0, 0) b'2'\n",
      "(0, 0) b'2'\n"
     ]
    },
    {
     "data": {
      "image/png": "[encoded data removed]",
      "text/plain": [
       "<Figure size 288x288 with 1 Axes>"
      ]
     },
     "metadata": {},
     "output_type": "display_data"
    },
    {
     "name": "stdout",
     "output_type": "stream",
     "text": [
      "[103.44159497 102.17279159 102.17279118 103.44159456 105.        ]\n",
      "4\n",
      "[0.13673209 0.03844467 0.03844465 0.13673203 0.64964656]\n",
      "(0, 0) b'2'\n",
      "(0, 0) b'2'\n"
     ]
    },
    {
     "data": {
      "image/png": "[encoded data removed]",
      "text/plain": [
       "<Figure size 288x288 with 1 Axes>"
      ]
     },
     "metadata": {},
     "output_type": "display_data"
    },
    {
     "name": "stdout",
     "output_type": "stream",
     "text": [
      "[103.44159497 102.17279159 102.17279118 103.44159456 105.        ]\n",
      "4\n",
      "[0.13673209 0.03844467 0.03844465 0.13673203 0.64964656]\n",
      "(0, 0) b'2'\n",
      "(0, 0) b'2'\n"
     ]
    },
    {
     "data": {
      "image/png": "[encoded data removed]",
      "text/plain": [
       "<Figure size 288x288 with 1 Axes>"
      ]
     },
     "metadata": {},
     "output_type": "display_data"
    },
    {
     "name": "stdout",
     "output_type": "stream",
     "text": [
      "[103.44159497 102.17279159 102.17279118 103.44159456 105.        ]\n",
      "4\n",
      "[0.13673209 0.03844467 0.03844465 0.13673203 0.64964656]\n",
      "(0, 0) b'2'\n",
      "(0, 0) b'2'\n"
     ]
    },
    {
     "data": {
      "image/png": "[encoded data removed]",
      "text/plain": [
       "<Figure size 288x288 with 1 Axes>"
      ]
     },
     "metadata": {},
     "output_type": "display_data"
    },
    {
     "name": "stdout",
     "output_type": "stream",
     "text": [
      "[103.44159497 102.17279159 102.17279118 103.44159456 105.        ]\n",
      "4\n",
      "[0.13673209 0.03844467 0.03844465 0.13673203 0.64964656]\n",
      "(0, 0) b'2'\n",
      "(0, 0) b'2'\n"
     ]
    },
    {
     "data": {
      "image/png": "[encoded data removed]",
      "text/plain": [
       "<Figure size 288x288 with 1 Axes>"
      ]
     },
     "metadata": {},
     "output_type": "display_data"
    },
    {
     "name": "stdout",
     "output_type": "stream",
     "text": [
      "[103.44159497 102.17279159 102.17279118 103.44159456 105.        ]\n",
      "4\n",
      "[0.13673209 0.03844467 0.03844465 0.13673203 0.64964656]\n",
      "(0, 0) b'2'\n",
      "(0, 0) b'2'\n"
     ]
    },
    {
     "data": {
      "image/png": "[encoded data removed]",
      "text/plain": [
       "<Figure size 288x288 with 1 Axes>"
      ]
     },
     "metadata": {},
     "output_type": "display_data"
    },
    {
     "name": "stdout",
     "output_type": "stream",
     "text": [
      "[103.44159497 102.17279159 102.17279118 103.44159456 105.        ]\n",
      "4\n",
      "[0.13673209 0.03844467 0.03844465 0.13673203 0.64964656]\n",
      "(0, 0) b'2'\n",
      "(0, 0) b'2'\n"
     ]
    },
    {
     "data": {
      "image/png": "[encoded data removed]",
      "text/plain": [
       "<Figure size 288x288 with 1 Axes>"
      ]
     },
     "metadata": {},
     "output_type": "display_data"
    },
    {
     "name": "stdout",
     "output_type": "stream",
     "text": [
      "[103.44159497 102.17279159 102.17279118 103.44159456 105.        ]\n",
      "0\n",
      "[0.13673209 0.03844467 0.03844465 0.13673203 0.64964656]\n",
      "(0, 0) b'2'\n",
      "(8, 0) b'1'\n"
     ]
    }
   ],
   "source": [
    "Q = tabsoftq_learn_Qs(mdp)\n",
    "plot_mars(mdp,tabsoftq_gen_pol(Q),Qs=Q)\n"
   ]
  },
  {
   "cell_type": "markdown",
   "metadata": {},
   "source": [
    "# NN IDL"
   ]
  },
  {
   "cell_type": "code",
   "execution_count": 22,
   "metadata": {},
   "outputs": [],
   "source": [
    "train_demo_example_idxes = None\n",
    "val_demo_example_idxes = None\n",
    "\n",
    "gamma = 0.99\n",
    "iterations = 100000\n",
    "learning_rate = 1e-1\n",
    "batch_size = 512\n",
    "sq_td_err_penalty = 1e0\n",
    "trans_err_penalty = 1e0\n",
    "\n",
    "\n",
    "q_n_layers = 1\n",
    "q_layer_size = 64\n",
    "q_activation = tf.nn.relu\n",
    "q_output_activation = None\n",
    "\n",
    "invdyn_n_layers = 1\n",
    "invdyn_layer_size = 64\n",
    "invdyn_activation = tf.nn.relu\n",
    "invdyn_output_activation = None\n",
    "\n",
    "\n",
    "constraint_sampling_freq = 100000\n",
    "constraint_batch_size = batch_size\n",
    "n_constraint_rollouts_per_env = 100\n",
    "\n",
    "val_update_freq = 1"
   ]
  },
  {
   "cell_type": "code",
   "execution_count": 23,
   "metadata": {},
   "outputs": [],
   "source": [
    "n_obs_feats = 2\n",
    "n_act_dim = 5\n",
    "featurize_states = lambda states: np.array([mdp.s_to_grid(state) for state in states])\n",
    "featurize_acts = lambda a: a\n",
    "n_dirs = 5"
   ]
  },
  {
   "cell_type": "code",
   "execution_count": 24,
   "metadata": {},
   "outputs": [],
   "source": [
    "def build_mlp(\n",
    "    input_placeholder,\n",
    "    output_size,\n",
    "    scope,\n",
    "    n_layers=1,\n",
    "    size=256,\n",
    "    activation=tf.nn.relu,\n",
    "    output_activation=None,\n",
    "    reuse=False\n",
    "      ):\n",
    "    out = tf.cast(input_placeholder, tf.float32)\n",
    "    with tf.variable_scope(scope, reuse=reuse):\n",
    "        for _ in range(n_layers):\n",
    "            out = tf.layers.dense(out, size, activation=activation)\n",
    "        out = tf.layers.dense(out, output_size, activation=output_activation)\n",
    "    return out"
   ]
  },
  {
   "cell_type": "code",
   "execution_count": 25,
   "metadata": {},
   "outputs": [],
   "source": [
    "def nn_vectorize_rollouts(sas_obs, adt_obs):\n",
    "    states, acts, next_states = zip(*sas_obs)\n",
    "    _, dirs, tiles = zip(*adt_obs)\n",
    "    states_feats = featurize_states(states)\n",
    "    states = np.expand_dims(np.array(states), axis=1)\n",
    "    actions = np.expand_dims(np.array(acts), axis=1)\n",
    "    next_states_feats = featurize_states(next_states)\n",
    "    next_states = np.expand_dims(np.array(next_states), axis=1)\n",
    "    dirs = np.expand_dims(np.array(dirs), axis=1)\n",
    "    tiles = np.expand_dims(np.array(tiles), axis=1)\n",
    "    return (states, states_feats, actions, next_states, next_states_feats, dirs, tiles)\n",
    "\n",
    "def get_rollout_indexes(sas_obs):\n",
    "    demo_example_idxes = list(range(len(sas_obs)))\n",
    "    random.shuffle(demo_example_idxes)\n",
    "    n_train_demo_examples = int(0.9 * len(demo_example_idxes))\n",
    "    train_demo_example_idxes = demo_example_idxes[:n_train_demo_examples]\n",
    "    val_demo_example_idxes = demo_example_idxes[n_train_demo_examples:]\n",
    "    return (train_demo_example_idxes, val_demo_example_idxes)\n",
    "\n",
    "def sample_batch(rollouts, indexes, size=None):\n",
    "    idxes = random.sample(indexes, size) if size is not None else indexes\n",
    "    demo_batch = [comp[idxes] for comp in rollouts]\n",
    "    return demo_batch\n",
    "\n",
    "def generate_constraints(mdp):\n",
    "    s = np.arange(mdp.nS)\n",
    "    a = np.arange(mdp.nA) \n",
    "    sa = np.transpose([np.tile(s, len(a)), np.repeat(a, len(s))])\n",
    "    states, acts = sa[:,0], sa[:,1]\n",
    "    feat_states = featurize_states(states)\n",
    "    tiles = np.expand_dims(np.array([mdp.get_tile_type(s) for s in states]), axis=1)\n",
    "    acts_array = np.expand_dims(acts,axis=1)\n",
    "    rewards = np.array([mdp.get_reward(states[i], acts[i]) for i in range(len(states))])\n",
    "    sprimes = mdp.get_possible_sprimes(feat_states)\n",
    "\n",
    "    return feat_states, acts_array, rewards, sprimes, tiles"
   ]
  },
  {
   "cell_type": "code",
   "execution_count": 26,
   "metadata": {},
   "outputs": [],
   "source": [
    "# im_scope =  str(uuid.uuid4())\n",
    "# q_scope = str(uuid.uuid4())\n",
    "# invsas_scope = str(uuid.uuid4())\n",
    "# invadt_scope = str(uuid.uuid4())\n",
    "\n",
    "# with open(os.path.join(data_dir, 'im_scope.pkl'), 'wb') as f:\n",
    "#     pkl.dump(im_scope, f)\n",
    "\n",
    "# with open(os.path.join(data_dir, 'q_scope.pkl'), 'wb') as f:\n",
    "#     pkl.dump(q_scope, f)\n",
    "\n",
    "# with open(os.path.join(data_dir, 'invsas_scope.pkl'), 'wb') as f:\n",
    "#     pkl.dump(invsas_scope, f)\n",
    "    \n",
    "# with open(os.path.join(data_dir, 'invadt_scope.pkl'), 'wb') as f:\n",
    "#     pkl.dump(invadt_scope, f)"
   ]
  },
  {
   "cell_type": "code",
   "execution_count": 27,
   "metadata": {},
   "outputs": [],
   "source": [
    "with open(os.path.join(data_dir, 'im_scope.pkl'), 'rb') as f:\n",
    "    im_scope = pkl.load(f)\n",
    "\n",
    "with open(os.path.join(data_dir, 'q_scope.pkl'), 'rb') as f:\n",
    "    q_scope = pkl.load(f)\n",
    "\n",
    "with open(os.path.join(data_dir, 'invsas_scope.pkl'), 'rb') as f:\n",
    "    invsas_scope = pkl.load(f)\n",
    "    \n",
    "with open(os.path.join(data_dir, 'invadt_scope.pkl'), 'rb') as f:\n",
    "    invadt_scope = pkl.load(f)"
   ]
  },
  {
   "cell_type": "code",
   "execution_count": 28,
   "metadata": {},
   "outputs": [],
   "source": [
    "sess = tf.Session()"
   ]
  },
  {
   "cell_type": "code",
   "execution_count": 29,
   "metadata": {},
   "outputs": [],
   "source": [
    "demo_obs_t_ph = tf.placeholder(tf.int32, [None,1], name=\"dot\")\n",
    "demo_tile_t_ph = tf.placeholder(tf.int32, [None, 1], name=\"dtt\")\n",
    "demo_act_t_ph = tf.placeholder(tf.int32, [None, 1], name=\"dat\")\n",
    "demo_next_obs_t_ph = tf.placeholder(tf.int32, [None,1], name=\"dnot\")\n",
    "demo_obs_t_feats_ph = tf.placeholder(tf.int32, [None, n_obs_feats], name=\"dotf\")\n",
    "demo_next_obs_t_feats_ph = tf.placeholder(tf.int32, [None, n_obs_feats], name=\"dnotf\")\n",
    "demo_dir_t_ph = tf.placeholder(tf.int32, [None, 1], name=\"ddt\")\n",
    "demo_batch_size_ph = tf.placeholder(tf.int32, name=\"dbs\")\n",
    "\n",
    "constraint_obs_t_ph = tf.placeholder(tf.int32, [None,1], name=\"cot\")\n",
    "constraint_tile_t_ph = tf.placeholder(tf.int32, [None, 1], name=\"ctt\")\n",
    "constraint_obs_t_feats_ph = tf.placeholder(tf.int32, [None, n_obs_feats], name=\"cotf\")\n",
    "constraint_act_t_ph = tf.placeholder(tf.int32, [None, 1], name=\"cat\")\n",
    "constraint_rew_t_ph = tf.placeholder(tf.float32, [None], name=\"crt\")\n",
    "constraint_next_obs_t_feats_ph = tf.placeholder(tf.int32, [None, n_dirs, n_obs_feats], name=\"cnotf\")\n",
    "constraint_batch_size_ph = tf.placeholder(tf.int32, name=\"cbs\")"
   ]
  },
  {
   "cell_type": "code",
   "execution_count": 30,
   "metadata": {},
   "outputs": [],
   "source": [
    "demo_q_t = build_mlp(demo_obs_t_feats_ph,\n",
    "    n_act_dim, q_scope, \n",
    "    n_layers=q_n_layers, size=q_layer_size,\n",
    "    activation=q_activation, output_activation=q_output_activation)\n",
    "\n",
    "# demo_v_t = tf.reduce_logsumexp(\n",
    "#   tf.stack([build_mlp(\n",
    "#     extract_task(demo_obs_t_ph, train_task_idx),\n",
    "#     n_act_dim, q_scope+'-'+str(train_task_idx), \n",
    "#     n_layers=q_n_layers, size=q_layer_size,\n",
    "#     activation=q_activation, output_activation=q_output_activation,\n",
    "#     reuse=True\n",
    "#   ) for train_task_idx in range(n_train_tasks)], axis=0),\n",
    "#   axis=2)"
   ]
  },
  {
   "cell_type": "code",
   "execution_count": 31,
   "metadata": {},
   "outputs": [],
   "source": [
    "demo_v_t = tf.reduce_logsumexp(demo_q_t, axis=1)\n",
    "\n",
    "action_indexes = tf.concat([tf.expand_dims(tf.range(demo_batch_size_ph), 1), demo_act_t_ph], axis=1)\n",
    "\n",
    "act_log_likelihoods = tf.gather_nd(demo_q_t, action_indexes) - demo_v_t\n",
    "\n",
    "neg_avg_act_log_likelihood = -tf.reduce_mean(act_log_likelihoods)"
   ]
  },
  {
   "cell_type": "code",
   "execution_count": 32,
   "metadata": {},
   "outputs": [],
   "source": [
    "sas_pred_obs = build_mlp(\n",
    "  tf.concat((demo_obs_t_feats_ph, demo_act_t_ph), axis=1),\n",
    "  n_dirs, invsas_scope, \n",
    "  n_layers=invdyn_n_layers, size=invdyn_layer_size,\n",
    "  activation=invdyn_activation, output_activation=invdyn_output_activation)\n",
    "\n",
    "adt_pred_dir = build_mlp(\n",
    "  tf.concat((demo_act_t_ph, demo_tile_t_ph), axis=1),\n",
    "  n_dirs, invadt_scope, \n",
    "  n_layers=invdyn_n_layers, size=invdyn_layer_size,\n",
    "  activation=invdyn_activation, output_activation=invdyn_output_activation)\n",
    "\n",
    "dir_indexes = tf.concat([tf.expand_dims(tf.range(demo_batch_size_ph), 1), demo_dir_t_ph], axis=1)\n",
    "\n",
    "adt_log_likelihoods = tf.gather_nd(adt_pred_dir, dir_indexes) - tf.reduce_logsumexp(adt_pred_dir, axis=1)\n",
    "\n",
    "neg_avg_adt_log_likelihood = -tf.reduce_mean(adt_log_likelihoods)\n",
    "\n",
    "sas_log_likelihoods = tf.gather_nd(sas_pred_obs, dir_indexes) - tf.reduce_logsumexp(sas_pred_obs, axis=1)\n",
    "\n",
    "neg_avg_sas_log_likelihood = -tf.reduce_mean(sas_log_likelihoods)"
   ]
  },
  {
   "cell_type": "code",
   "execution_count": 33,
   "metadata": {},
   "outputs": [],
   "source": [
    "ca_indexes = tf.concat([tf.expand_dims(tf.range(constraint_batch_size_ph), 1), constraint_act_t_ph], axis=1)\n",
    "\n",
    "constraint_q_ts = build_mlp(constraint_obs_t_feats_ph,\n",
    "        n_act_dim, q_scope, \n",
    "        n_layers=q_n_layers, size=q_layer_size,\n",
    "        activation=q_activation, output_activation=q_output_activation,\n",
    "        reuse=True)\n",
    "\n",
    "constraint_q_t = tf.gather_nd(constraint_q_ts, ca_indexes)\n",
    "\n",
    "\n",
    "# Predicted constraint next state given inv dyns\n",
    "constraint_sas_pred_obs = build_mlp(\n",
    "  tf.concat((constraint_obs_t_feats_ph, constraint_act_t_ph), axis=1),\n",
    "  n_dirs, invsas_scope, \n",
    "  n_layers=invdyn_n_layers, size=invdyn_layer_size,\n",
    "  activation=invdyn_activation, output_activation=invdyn_output_activation,\n",
    "  reuse=True)\n",
    "\n",
    "constraint_adt_pred_dir = build_mlp(\n",
    "  tf.concat((constraint_act_t_ph, constraint_tile_t_ph), axis=1),\n",
    "  n_dirs, invadt_scope, \n",
    "  n_layers=invdyn_n_layers, size=invdyn_layer_size,\n",
    "  activation=invdyn_activation, output_activation=invdyn_output_activation,\n",
    "  reuse=True)"
   ]
  },
  {
   "cell_type": "code",
   "execution_count": 34,
   "metadata": {},
   "outputs": [],
   "source": [
    "constraint_sprimes_reshaped = tf.reshape(constraint_next_obs_t_feats_ph, (constraint_batch_size_ph * n_dirs, n_obs_feats))"
   ]
  },
  {
   "cell_type": "code",
   "execution_count": 35,
   "metadata": {},
   "outputs": [],
   "source": [
    "cqtp1_misshaped = build_mlp(constraint_sprimes_reshaped,\n",
    "    n_act_dim, q_scope, \n",
    "    n_layers=q_n_layers, size=q_layer_size,\n",
    "    activation=q_activation, output_activation=q_output_activation,\n",
    "    reuse=True)\n",
    "\n",
    "constraint_q_tp1 = tf.reshape(cqtp1_misshaped, (constraint_batch_size_ph, n_dirs, n_act_dim))\n",
    "\n",
    "constraint_v_tp1 = tf.reduce_logsumexp(constraint_q_tp1, axis=2)"
   ]
  },
  {
   "cell_type": "code",
   "execution_count": 36,
   "metadata": {},
   "outputs": [],
   "source": [
    "constraint_sas_pred_probs = tf.nn.softmax(constraint_sas_pred_obs, axis=1)\n",
    "constraint_adt_pred_probs = tf.nn.softmax(constraint_adt_pred_dir, axis=1)\n",
    "sas_V = tf.multiply(constraint_v_tp1, constraint_sas_pred_probs)\n",
    "adt_V = tf.multiply(constraint_v_tp1, constraint_adt_pred_probs)\n",
    "sas_target_t = constraint_rew_t_ph + gamma * tf.reduce_sum(sas_V, axis=1)\n",
    "adt_target_t = constraint_rew_t_ph + gamma * tf.reduce_sum(adt_V, axis=1)"
   ]
  },
  {
   "cell_type": "code",
   "execution_count": 37,
   "metadata": {},
   "outputs": [],
   "source": [
    "sas_td_err = tf.reduce_mean((constraint_q_t - sas_target_t)**2)\n",
    "adt_td_err = tf.reduce_mean((constraint_q_t - adt_target_t)**2)"
   ]
  },
  {
   "cell_type": "code",
   "execution_count": 38,
   "metadata": {},
   "outputs": [],
   "source": [
    "sas_loss = neg_avg_act_log_likelihood + trans_err_penalty * neg_avg_sas_log_likelihood + sq_td_err_penalty * sas_td_err\n",
    "adt_loss = neg_avg_act_log_likelihood + trans_err_penalty * neg_avg_adt_log_likelihood + sq_td_err_penalty * adt_td_err"
   ]
  },
  {
   "cell_type": "code",
   "execution_count": 39,
   "metadata": {},
   "outputs": [],
   "source": [
    "sas_update_op = tf.train.AdagradOptimizer(learning_rate).minimize(sas_loss)\n",
    "adt_update_op = tf.train.AdagradOptimizer(learning_rate).minimize(adt_loss)\n",
    "adt_trans_only_update_op = tf.train.AdagradOptimizer(learning_rate).minimize(neg_avg_adt_log_likelihood)"
   ]
  },
  {
   "cell_type": "code",
   "execution_count": 40,
   "metadata": {},
   "outputs": [],
   "source": [
    "def compute_batch_loss(demo_batch, constraints, step=False, adt=False, trans=False, t=None):\n",
    "    feed_dict = {\n",
    "        demo_obs_t_feats_ph: demo_batch[1],\n",
    "        demo_act_t_ph: demo_batch[2],\n",
    "        demo_next_obs_t_feats_ph: demo_batch[4],\n",
    "        demo_dir_t_ph: demo_batch[5],\n",
    "        demo_tile_t_ph: demo_batch[6],\n",
    "        demo_batch_size_ph: demo_batch[2].shape[0],\n",
    "        constraint_obs_t_feats_ph: constraints[0],\n",
    "        constraint_act_t_ph: constraints[1],\n",
    "        constraint_rew_t_ph: constraints[2],\n",
    "        constraint_next_obs_t_feats_ph: constraints[3],\n",
    "        constraint_tile_t_ph: constraints[4],\n",
    "        constraint_batch_size_ph: constraints[0].shape[0]\n",
    "    }\n",
    "      \n",
    "    if trans: \n",
    "        [trans_likelihood_eval] = sess.run([neg_avg_adt_log_likelihood], feed_dict=feed_dict)\n",
    "        update_op = adt_trans_only_update_op\n",
    "        if step:\n",
    "            sess.run(update_op, feed_dict=feed_dict)\n",
    "        return {'loss':trans_likelihood_eval}\n",
    "    \n",
    "    if adt:\n",
    "        [loss_eval, act_likelihood_eval, td_err_eval, trans_likelihood_eval] = sess.run(\n",
    "            [adt_loss, neg_avg_act_log_likelihood, adt_td_err, neg_avg_adt_log_likelihood], feed_dict=feed_dict)\n",
    "        update_op = adt_update_op\n",
    "        \n",
    "    else:\n",
    "        [loss_eval, act_likelihood_eval, td_err_eval, trans_likelihood_eval] = sess.run(\n",
    "            [sas_loss, neg_avg_act_log_likelihood, sas_td_err, neg_avg_sas_log_likelihood], feed_dict=feed_dict)\n",
    "        update_op = sas_update_op\n",
    " \n",
    "    if step:\n",
    "        sess.run(update_op, feed_dict=feed_dict)\n",
    "\n",
    "    d = {\n",
    "        'loss': loss_eval,\n",
    "        'nall': act_likelihood_eval,\n",
    "        'tde': td_err_eval,\n",
    "        'ntll': trans_likelihood_eval\n",
    "        }\n",
    "\n",
    "    return d"
   ]
  },
  {
   "cell_type": "markdown",
   "metadata": {},
   "source": [
    "# IDL & SERD Experiments"
   ]
  },
  {
   "cell_type": "code",
   "execution_count": 41,
   "metadata": {},
   "outputs": [],
   "source": [
    "tabsoftq_iter_ftol = 1e-32\n",
    "tabsoftq_iter_maxiter = 5000\n",
    "tabsoftq_iter_verbose = False\n",
    "tabsoftq_grad_iter_ftol = 1e-10\n",
    "tabsoftq_grad_iter_maxiter = 5000\n",
    "tabsoftq_grad_iter_verbose = False\n",
    "batch_size = 200\n",
    "n_demos = 200\n",
    "demo_time_steps = 40"
   ]
  },
  {
   "cell_type": "code",
   "execution_count": 42,
   "metadata": {},
   "outputs": [],
   "source": [
    "def clean_demos(sas_obs):\n",
    "    demo_example_idxes = list(range(len(sas_obs)))\n",
    "    unique_stays, stay_count = set([]), 0\n",
    "    for i,sas in enumerate(sas_obs):\n",
    "        sas = tuple(sas)\n",
    "        if sas[1] == 4:\n",
    "            stay_count += 1\n",
    "            if sas in unique_stays:\n",
    "                if stay_count > 4:\n",
    "                    demo_example_idxes.remove(i)\n",
    "            else:\n",
    "                unique_stays.add(sas)\n",
    "        else:\n",
    "            stay_count = 0\n",
    "    return demo_example_idxes\n",
    "\n",
    "# def sample_batch(size, ids, sas_obs, adt_obs):\n",
    "#     idxes = random.sample(ids, size)\n",
    "#     return sas_obs[idxes], adt_obs[idxes]"
   ]
  },
  {
   "cell_type": "code",
   "execution_count": 43,
   "metadata": {},
   "outputs": [],
   "source": [
    "def T_estimate(adt_obs):\n",
    "    stability = 1e-5\n",
    "    T_thetas = np.zeros(T_theta_shape)\n",
    "    T_counts = np.zeros(T_theta_shape) + stability\n",
    "    for a,d,t in adt_obs:\n",
    "        T_counts[a,d,t] += 1\n",
    "    for a in range(T_theta_shape[0]):\n",
    "        for t in range(T_theta_shape[2]):\n",
    "            z = np.sum(T_counts[a,:,t])\n",
    "            for d in range(T_theta_shape[1]):\n",
    "                if z == T_counts.shape[1] * stability:\n",
    "                    T_thetas[a,d,t] = 0\n",
    "                else:\n",
    "                    T_thetas[a,d,t] = np.log(T_counts[a,d,t]) - np.log(z)\n",
    "    return T_thetas\n",
    "\n",
    "def test_T_likelihood(Tps, sas_obs, adt_obs):\n",
    "    T = mdp.adt_trans_to_sas_trans(Tps)\n",
    "    R = mdp.rewards\n",
    "    Q = tabsoftq_iter(R, T, Q_init=None, maxiter=tabsoftq_iter_maxiter, verbose=tabsoftq_iter_verbose, ftol=tabsoftq_iter_ftol)\n",
    "    pl = eval_pol_likelihood(Q, sas_obs, verbose=True)\n",
    "    tl = eval_trans_likelihood(Tps, adt_obs, verbose=True)\n",
    "    print([s for s in range(nS) if mdp.get_tile_type(s)==1])\n",
    "    print(Q[[s for s in range(nS) if mdp.get_tile_type(s)==1]])\n",
    "    print(pl, tl)\n",
    "    return pl + tl\n",
    "\n",
    "def true_trans_loss(tps):\n",
    "    tps = mdp.adt_trans_to_sas_trans(tps)\n",
    "    true_tps = mdp.get_transition_matrix()\n",
    "    return np.linalg.norm(true_tps-tps)/mdp.nA"
   ]
  },
  {
   "cell_type": "code",
   "execution_count": 44,
   "metadata": {
    "scrolled": true
   },
   "outputs": [
    {
     "name": "stderr",
     "output_type": "stream",
     "text": [
      "/Users/mckaneandrus/anaconda2/envs/irld/lib/python3.6/site-packages/ipykernel_launcher.py:8: DeprecationWarning: `logsumexp` is deprecated!\n",
      "Importing `logsumexp` from scipy.misc is deprecated in scipy 1.0.0. Use `scipy.special.logsumexp` instead.\n",
      "  \n"
     ]
    }
   ],
   "source": [
    "exQs = tabsoftq_learn_Qs(mdp)\n",
    "demos = generate_demonstrations(mdp, tabsoftq_gen_pol(exQs), n_demos, demo_time_steps)\n",
    "sas_obs, adt_obs = vectorize_rollouts(demos)"
   ]
  },
  {
   "cell_type": "code",
   "execution_count": 45,
   "metadata": {},
   "outputs": [],
   "source": [
    "# Ensure bad areas have not been visited in exes\n",
    "demos = []\n",
    "while len(demos) < n_demos:\n",
    "    new_demo = generate_demonstrations(mdp, tabsoftq_gen_pol(exQs), 1, demo_time_steps)[0]\n",
    "    more_sas, more_adt = list(zip(*new_demo))\n",
    "    if len(set([adt[2] for adt in more_adt])) == 1:\n",
    "        demos += [new_demo]\n",
    "        \n",
    "sas_obs, adt_obs = vectorize_rollouts(demos)"
   ]
  },
  {
   "cell_type": "markdown",
   "metadata": {},
   "source": [
    "# IDL NN"
   ]
  },
  {
   "cell_type": "code",
   "execution_count": 46,
   "metadata": {},
   "outputs": [],
   "source": [
    "n_training_iters = 100000"
   ]
  },
  {
   "cell_type": "code",
   "execution_count": 47,
   "metadata": {},
   "outputs": [],
   "source": [
    "good_indexes = clean_demos(sas_obs)\n",
    "sas_obs, adt_obs = sas_obs[good_indexes], adt_obs[good_indexes]\n",
    "constraints = generate_constraints(mdp)\n",
    "nn_rollouts = nn_vectorize_rollouts(sas_obs, adt_obs)\n",
    "train_idxes, val_idxes = get_rollout_indexes(sas_obs)\n",
    "val_demo_batch = sample_batch(nn_rollouts, val_idxes)"
   ]
  },
  {
   "cell_type": "code",
   "execution_count": 48,
   "metadata": {},
   "outputs": [],
   "source": [
    "tf.global_variables_initializer().run(session=sess)"
   ]
  },
  {
   "cell_type": "code",
   "execution_count": 49,
   "metadata": {},
   "outputs": [],
   "source": [
    "full_train_logs = {\n",
    "  'loss_evals': [],\n",
    "  'ntll_evals': [],\n",
    "  'nall_evals': [],\n",
    "  'tde_evals': [],\n",
    "  'val_loss_evals': [],\n",
    "  'val_ntll_evals': [],\n",
    "  'val_nall_evals': [],\n",
    "  'val_tde_evals': [],\n",
    "}"
   ]
  },
  {
   "cell_type": "code",
   "execution_count": 50,
   "metadata": {
    "scrolled": true
   },
   "outputs": [
    {
     "name": "stdout",
     "output_type": "stream",
     "text": [
      "0 100000 32.494316 2.063063 4.681800 25.749451\n",
      "1000 100000 3.281331 0.829942 1.252394 1.198996\n",
      "2000 100000 2.936010 0.805281 1.201323 0.929407\n",
      "3000 100000 2.808287 0.789100 1.159398 0.859789\n",
      "4000 100000 2.674586 0.747381 1.140106 0.787099\n",
      "5000 100000 2.558403 0.722352 1.123899 0.712152\n",
      "6000 100000 2.508551 0.720113 1.123918 0.664520\n",
      "7000 100000 2.455405 0.711394 1.120673 0.623338\n",
      "8000 100000 2.380873 0.719207 1.114805 0.546861\n",
      "9000 100000 2.347944 0.705092 1.109948 0.532903\n"
     ]
    },
    {
     "data": {
      "image/png": "[encoded data removed]",
      "text/plain": [
       "<Figure size 432x288 with 1 Axes>"
      ]
     },
     "metadata": {},
     "output_type": "display_data"
    },
    {
     "data": {
      "image/png": "[encoded data removed]",
      "text/plain": [
       "<Figure size 432x288 with 1 Axes>"
      ]
     },
     "metadata": {},
     "output_type": "display_data"
    },
    {
     "data": {
      "image/png": "[encoded data removed]",
      "text/plain": [
       "<Figure size 432x288 with 1 Axes>"
      ]
     },
     "metadata": {},
     "output_type": "display_data"
    },
    {
     "data": {
      "image/png": "[encoded data removed]",
      "text/plain": [
       "<Figure size 432x288 with 1 Axes>"
      ]
     },
     "metadata": {},
     "output_type": "display_data"
    },
    {
     "name": "stdout",
     "output_type": "stream",
     "text": [
      "10000 100000 2.305135 0.695155 1.108320 0.501661\n",
      "11000 100000 2.274297 0.695139 1.111851 0.467307\n",
      "12000 100000 2.254488 0.683000 1.105400 0.466088\n",
      "13000 100000 2.216699 0.682768 1.104790 0.429141\n",
      "14000 100000 2.200056 0.683353 1.097931 0.418772\n",
      "15000 100000 2.184768 0.686491 1.100241 0.398036\n",
      "16000 100000 2.172347 0.685192 1.097118 0.390036\n",
      "17000 100000 2.153392 0.676734 1.089145 0.387513\n",
      "18000 100000 2.142004 0.673381 1.087430 0.381194\n",
      "19000 100000 2.120089 0.679696 1.088865 0.351528\n"
     ]
    },
    {
     "data": {
      "image/png": "[encoded data removed]",
      "text/plain": [
       "<Figure size 432x288 with 1 Axes>"
      ]
     },
     "metadata": {},
     "output_type": "display_data"
    },
    {
     "data": {
      "image/png": "[encoded data removed]",
      "text/plain": [
       "<Figure size 432x288 with 1 Axes>"
      ]
     },
     "metadata": {},
     "output_type": "display_data"
    },
    {
     "data": {
      "image/png": "[encoded data removed]",
      "text/plain": [
       "<Figure size 432x288 with 1 Axes>"
      ]
     },
     "metadata": {},
     "output_type": "display_data"
    },
    {
     "data": {
      "image/png": "[encoded data removed]",
      "text/plain": [
       "<Figure size 432x288 with 1 Axes>"
      ]
     },
     "metadata": {},
     "output_type": "display_data"
    },
    {
     "name": "stdout",
     "output_type": "stream",
     "text": [
      "20000 100000 2.091171 0.668983 1.097098 0.325090\n",
      "21000 100000 2.078368 0.670812 1.087887 0.319669\n",
      "22000 100000 2.069865 0.663753 1.089670 0.316442\n",
      "23000 100000 2.061526 0.672592 1.086493 0.302441\n",
      "24000 100000 2.058714 0.663221 1.091099 0.304394\n",
      "25000 100000 2.037446 0.663802 1.086455 0.287190\n",
      "26000 100000 2.025290 0.656677 1.086339 0.282274\n",
      "27000 100000 2.025114 0.663352 1.084793 0.276969\n",
      "28000 100000 2.020040 0.659665 1.084414 0.275961\n",
      "29000 100000 2.019485 0.657296 1.087936 0.274253\n"
     ]
    },
    {
     "data": {
      "image/png": "[encoded data removed]",
      "text/plain": [
       "<Figure size 432x288 with 1 Axes>"
      ]
     },
     "metadata": {},
     "output_type": "display_data"
    },
    {
     "data": {
      "image/png": "[encoded data removed]",
      "text/plain": [
       "<Figure size 432x288 with 1 Axes>"
      ]
     },
     "metadata": {},
     "output_type": "display_data"
    },
    {
     "data": {
      "image/png": "[encoded data removed]",
      "text/plain": [
       "<Figure size 432x288 with 1 Axes>"
      ]
     },
     "metadata": {},
     "output_type": "display_data"
    },
    {
     "data": {
      "image/png": "[encoded data removed]",
      "text/plain": [
       "<Figure size 432x288 with 1 Axes>"
      ]
     },
     "metadata": {},
     "output_type": "display_data"
    },
    {
     "name": "stdout",
     "output_type": "stream",
     "text": [
      "30000 100000 2.015003 0.662095 1.085009 0.267898\n",
      "31000 100000 2.004222 0.654385 1.083135 0.266702\n",
      "32000 100000 2.003691 0.657764 1.084549 0.261378\n",
      "33000 100000 1.998261 0.656670 1.088597 0.252994\n",
      "34000 100000 2.004160 0.659701 1.082040 0.262419\n",
      "35000 100000 1.980263 0.656433 1.085500 0.238330\n",
      "36000 100000 1.977734 0.645931 1.085982 0.245821\n",
      "37000 100000 1.973661 0.652484 1.090362 0.230816\n",
      "38000 100000 1.966130 0.649455 1.082615 0.234061\n",
      "39000 100000 1.965105 0.649738 1.083667 0.231700\n"
     ]
    },
    {
     "data": {
      "image/png": "[encoded data removed]",
      "text/plain": [
       "<Figure size 432x288 with 1 Axes>"
      ]
     },
     "metadata": {},
     "output_type": "display_data"
    },
    {
     "data": {
      "image/png": "[encoded data removed]",
      "text/plain": [
       "<Figure size 432x288 with 1 Axes>"
      ]
     },
     "metadata": {},
     "output_type": "display_data"
    },
    {
     "data": {
      "image/png": "[encoded data removed]",
      "text/plain": [
       "<Figure size 432x288 with 1 Axes>"
      ]
     },
     "metadata": {},
     "output_type": "display_data"
    },
    {
     "data": {
      "image/png": "[encoded data removed]",
      "text/plain": [
       "<Figure size 432x288 with 1 Axes>"
      ]
     },
     "metadata": {},
     "output_type": "display_data"
    },
    {
     "name": "stdout",
     "output_type": "stream",
     "text": [
      "40000 100000 1.965070 0.642199 1.084583 0.238289\n",
      "41000 100000 1.961614 0.648584 1.083875 0.229154\n",
      "42000 100000 1.958797 0.650989 1.085708 0.222099\n",
      "43000 100000 1.958296 0.646038 1.082097 0.230161\n",
      "44000 100000 1.962436 0.650507 1.082009 0.229920\n",
      "45000 100000 1.947871 0.645807 1.082849 0.219216\n",
      "46000 100000 1.947958 0.648151 1.079636 0.220171\n",
      "47000 100000 1.950674 0.645225 1.082937 0.222511\n",
      "48000 100000 1.949467 0.643827 1.080973 0.224667\n",
      "49000 100000 1.945001 0.646135 1.081061 0.217806\n"
     ]
    },
    {
     "data": {
      "image/png": "[encoded data removed]",
      "text/plain": [
       "<Figure size 432x288 with 1 Axes>"
      ]
     },
     "metadata": {},
     "output_type": "display_data"
    },
    {
     "data": {
      "image/png": "[encoded data removed]",
      "text/plain": [
       "<Figure size 432x288 with 1 Axes>"
      ]
     },
     "metadata": {},
     "output_type": "display_data"
    },
    {
     "data": {
      "image/png": "[encoded data removed]",
      "text/plain": [
       "<Figure size 432x288 with 1 Axes>"
      ]
     },
     "metadata": {},
     "output_type": "display_data"
    },
    {
     "data": {
      "image/png": "[encoded data removed]",
      "text/plain": [
       "<Figure size 432x288 with 1 Axes>"
      ]
     },
     "metadata": {},
     "output_type": "display_data"
    },
    {
     "name": "stdout",
     "output_type": "stream",
     "text": [
      "50000 100000 1.939364 0.645037 1.072302 0.222025\n",
      "51000 100000 1.936481 0.642941 1.076627 0.216913\n",
      "52000 100000 1.936916 0.647263 1.075708 0.213945\n",
      "53000 100000 1.940433 0.646444 1.073076 0.220913\n",
      "54000 100000 1.935272 0.642139 1.071101 0.222031\n",
      "55000 100000 1.931628 0.642139 1.078185 0.211304\n",
      "56000 100000 1.937963 0.642344 1.078762 0.216856\n",
      "57000 100000 1.926607 0.640091 1.075876 0.210640\n",
      "58000 100000 1.926102 0.642637 1.072841 0.210624\n",
      "59000 100000 1.933273 0.636272 1.075714 0.221287\n"
     ]
    },
    {
     "data": {
      "image/png": "[encoded data removed]",
      "text/plain": [
       "<Figure size 432x288 with 1 Axes>"
      ]
     },
     "metadata": {},
     "output_type": "display_data"
    },
    {
     "data": {
      "image/png": "[encoded data removed]",
      "text/plain": [
       "<Figure size 432x288 with 1 Axes>"
      ]
     },
     "metadata": {},
     "output_type": "display_data"
    },
    {
     "data": {
      "image/png": "[encoded data removed]",
      "text/plain": [
       "<Figure size 432x288 with 1 Axes>"
      ]
     },
     "metadata": {},
     "output_type": "display_data"
    },
    {
     "data": {
      "image/png": "[encoded data removed]",
      "text/plain": [
       "<Figure size 432x288 with 1 Axes>"
      ]
     },
     "metadata": {},
     "output_type": "display_data"
    },
    {
     "name": "stdout",
     "output_type": "stream",
     "text": [
      "60000 100000 1.927909 0.639442 1.081370 0.207097\n",
      "61000 100000 1.924734 0.639715 1.072235 0.212785\n",
      "62000 100000 1.920760 0.638900 1.074732 0.207128\n",
      "63000 100000 1.920617 0.639489 1.071139 0.209989\n",
      "64000 100000 1.914685 0.640126 1.069008 0.205550\n",
      "65000 100000 1.917320 0.640211 1.069433 0.207676\n",
      "66000 100000 1.913698 0.638142 1.071847 0.203709\n",
      "67000 100000 1.921603 0.639727 1.072335 0.209541\n",
      "68000 100000 1.918526 0.640026 1.073671 0.204829\n",
      "69000 100000 1.919370 0.634455 1.075938 0.208977\n"
     ]
    },
    {
     "data": {
      "image/png": "[encoded data removed]",
      "text/plain": [
       "<Figure size 432x288 with 1 Axes>"
      ]
     },
     "metadata": {},
     "output_type": "display_data"
    },
    {
     "data": {
      "image/png": "[encoded data removed]",
      "text/plain": [
       "<Figure size 432x288 with 1 Axes>"
      ]
     },
     "metadata": {},
     "output_type": "display_data"
    },
    {
     "data": {
      "image/png": "[encoded data removed]",
      "text/plain": [
       "<Figure size 432x288 with 1 Axes>"
      ]
     },
     "metadata": {},
     "output_type": "display_data"
    },
    {
     "data": {
      "image/png": "[encoded data removed]",
      "text/plain": [
       "<Figure size 432x288 with 1 Axes>"
      ]
     },
     "metadata": {},
     "output_type": "display_data"
    },
    {
     "name": "stdout",
     "output_type": "stream",
     "text": [
      "70000 100000 1.914820 0.637365 1.071994 0.205461\n",
      "71000 100000 1.909403 0.635742 1.070123 0.203538\n",
      "72000 100000 1.915940 0.636784 1.071406 0.207750\n",
      "73000 100000 1.912181 0.634329 1.072437 0.205416\n",
      "74000 100000 1.905526 0.636622 1.073745 0.195160\n",
      "75000 100000 1.908307 0.639172 1.072573 0.196562\n",
      "76000 100000 1.907645 0.637865 1.068999 0.200781\n",
      "77000 100000 1.907411 0.636043 1.071100 0.200268\n",
      "78000 100000 1.918040 0.637461 1.071754 0.208824\n",
      "79000 100000 1.908483 0.638579 1.070719 0.199185\n"
     ]
    },
    {
     "data": {
      "image/png": "[encoded data removed]",
      "text/plain": [
       "<Figure size 432x288 with 1 Axes>"
      ]
     },
     "metadata": {},
     "output_type": "display_data"
    },
    {
     "data": {
      "image/png": "[encoded data removed]",
      "text/plain": [
       "<Figure size 432x288 with 1 Axes>"
      ]
     },
     "metadata": {},
     "output_type": "display_data"
    },
    {
     "data": {
      "image/png": "[encoded data removed]",
      "text/plain": [
       "<Figure size 432x288 with 1 Axes>"
      ]
     },
     "metadata": {},
     "output_type": "display_data"
    },
    {
     "data": {
      "image/png": "[encoded data removed]",
      "text/plain": [
       "<Figure size 432x288 with 1 Axes>"
      ]
     },
     "metadata": {},
     "output_type": "display_data"
    },
    {
     "name": "stdout",
     "output_type": "stream",
     "text": [
      "80000 100000 1.905467 0.634200 1.070391 0.200876\n",
      "81000 100000 1.900853 0.634813 1.074262 0.191779\n",
      "82000 100000 1.902479 0.634344 1.071190 0.196945\n",
      "83000 100000 1.901447 0.634885 1.071677 0.194884\n",
      "84000 100000 1.897406 0.634531 1.073231 0.189644\n",
      "85000 100000 1.902582 0.636032 1.071908 0.194641\n",
      "86000 100000 1.900477 0.637144 1.072706 0.190626\n",
      "87000 100000 1.899202 0.636961 1.072877 0.189365\n",
      "88000 100000 1.898462 0.634744 1.073583 0.190135\n",
      "89000 100000 1.893924 0.630572 1.067291 0.196061\n"
     ]
    },
    {
     "data": {
      "image/png": "[encoded data removed]",
      "text/plain": [
       "<Figure size 432x288 with 1 Axes>"
      ]
     },
     "metadata": {},
     "output_type": "display_data"
    },
    {
     "data": {
      "image/png": "[encoded data removed]",
      "text/plain": [
       "<Figure size 432x288 with 1 Axes>"
      ]
     },
     "metadata": {},
     "output_type": "display_data"
    },
    {
     "data": {
      "image/png": "[encoded data removed]",
      "text/plain": [
       "<Figure size 432x288 with 1 Axes>"
      ]
     },
     "metadata": {},
     "output_type": "display_data"
    },
    {
     "data": {
      "image/png": "[encoded data removed]",
      "text/plain": [
       "<Figure size 432x288 with 1 Axes>"
      ]
     },
     "metadata": {},
     "output_type": "display_data"
    },
    {
     "name": "stdout",
     "output_type": "stream",
     "text": [
      "90000 100000 1.893849 0.631371 1.072501 0.189978\n",
      "91000 100000 1.894429 0.631597 1.075869 0.186963\n",
      "92000 100000 1.891949 0.629125 1.070972 0.191853\n",
      "93000 100000 1.894691 0.631610 1.074436 0.188645\n",
      "94000 100000 1.894960 0.630176 1.073517 0.191267\n",
      "95000 100000 1.904055 0.634387 1.073147 0.196522\n",
      "96000 100000 1.891556 0.630223 1.071910 0.189423\n",
      "97000 100000 1.891998 0.632785 1.070943 0.188270\n",
      "98000 100000 1.887472 0.629636 1.068831 0.189005\n",
      "99000 100000 1.891275 0.633859 1.069313 0.188102\n"
     ]
    },
    {
     "data": {
      "image/png": "[encoded data removed]",
      "text/plain": [
       "<Figure size 432x288 with 1 Axes>"
      ]
     },
     "metadata": {},
     "output_type": "display_data"
    },
    {
     "data": {
      "image/png": "[encoded data removed]",
      "text/plain": [
       "<Figure size 432x288 with 1 Axes>"
      ]
     },
     "metadata": {},
     "output_type": "display_data"
    },
    {
     "data": {
      "image/png": "[encoded data removed]",
      "text/plain": [
       "<Figure size 432x288 with 1 Axes>"
      ]
     },
     "metadata": {},
     "output_type": "display_data"
    },
    {
     "data": {
      "image/png": "[encoded data removed]",
      "text/plain": [
       "<Figure size 432x288 with 1 Axes>"
      ]
     },
     "metadata": {},
     "output_type": "display_data"
    }
   ],
   "source": [
    "val_log = None\n",
    "adt, trans = False, False\n",
    "while len(full_train_logs['loss_evals']) < n_training_iters:\n",
    "    demo_batch = sample_batch(nn_rollouts, train_idxes, batch_size)\n",
    "    t = len(full_train_logs['loss_evals'])\n",
    "    train_log = compute_batch_loss(demo_batch, constraints, step=True, adt=adt, trans=trans, t=t)\n",
    "    if val_log is None or len(full_train_logs['loss_evals']) % val_update_freq == 0:\n",
    "        val_log = compute_batch_loss(val_demo_batch, constraints, step=False, adt=adt, trans=trans, t=t)\n",
    "\n",
    "    if len(full_train_logs['loss_evals']) % 1000 == 0:\n",
    "#         print(t, val_log['loss'])\n",
    "          print('%d %d %f %f %f %f' % (\n",
    "            t, n_training_iters, val_log['loss'], val_log['ntll'], val_log['nall'], val_log['tde']))\n",
    "    for k, v in train_log.items():\n",
    "        full_train_logs['%s_evals' % k].append(v)\n",
    "    for k, v in val_log.items():\n",
    "        full_train_logs['val_%s_evals' % k].append(v)\n",
    "    if len(full_train_logs['loss_evals']) % 10000 == 0:\n",
    "        for k in ['val_loss_evals','val_ntll_evals','val_nall_evals','val_tde_evals']:\n",
    "            plt.xlabel('Iterations')\n",
    "            plt.ylabel(k.split('_')[1])\n",
    "            plt.plot(full_train_logs[k])\n",
    "            plt.show()"
   ]
  },
  {
   "cell_type": "code",
   "execution_count": 51,
   "metadata": {},
   "outputs": [],
   "source": [
    "# for k in ['val_loss_evals','val_ntll_evals','val_nall_evals','val_tde_evals']:\n",
    "#     plt.xlabel('Iterations')\n",
    "#     plt.ylabel(k.split('_')[1])\n",
    "#     plt.plot(full_train_logs[k])\n",
    "#     plt.show()"
   ]
  },
  {
   "cell_type": "code",
   "execution_count": 52,
   "metadata": {},
   "outputs": [],
   "source": [
    "tts = np.arange(2)\n",
    "acts = np.arange(mdp.nA) \n",
    "adt_samples = np.transpose([np.tile(tts, len(acts)), np.repeat(acts, len(tts))])\n",
    "adt_samples = adt_samples[adt_samples[:,0].argsort()]"
   ]
  },
  {
   "cell_type": "code",
   "execution_count": 53,
   "metadata": {},
   "outputs": [],
   "source": [
    "adt_probs = sess.run([adt_pred_dir], feed_dict={demo_tile_t_ph:adt_samples[:,0][np.newaxis].T,\n",
    "                                                demo_act_t_ph:adt_samples[:,1][np.newaxis].T})[0]"
   ]
  },
  {
   "cell_type": "code",
   "execution_count": 54,
   "metadata": {},
   "outputs": [
    {
     "data": {
      "text/plain": [
       "array([[0, 0],\n",
       "       [0, 1],\n",
       "       [0, 2],\n",
       "       [0, 3],\n",
       "       [0, 4],\n",
       "       [1, 0],\n",
       "       [1, 1],\n",
       "       [1, 2],\n",
       "       [1, 3],\n",
       "       [1, 4]])"
      ]
     },
     "execution_count": 54,
     "metadata": {},
     "output_type": "execute_result"
    }
   ],
   "source": [
    "adt_samples"
   ]
  },
  {
   "cell_type": "code",
   "execution_count": 55,
   "metadata": {},
   "outputs": [
    {
     "data": {
      "text/plain": [
       "array([[0.2       , 0.2       , 0.2       , 0.2       , 0.2       ],\n",
       "       [0.198615  , 0.18178412, 0.23950532, 0.20600498, 0.17409052],\n",
       "       [0.1947067 , 0.16310555, 0.28313085, 0.20946538, 0.14959155],\n",
       "       [0.18834242, 0.14440422, 0.33026123, 0.21015766, 0.12683451],\n",
       "       [0.17973068, 0.12612405, 0.38004485, 0.2080104 , 0.10609005],\n",
       "       [0.22815779, 0.16481933, 0.19976757, 0.20585406, 0.20140125],\n",
       "       [0.19641072, 0.1660976 , 0.23884949, 0.20367523, 0.19496699],\n",
       "       [0.1848691 , 0.1589765 , 0.28106296, 0.19201793, 0.1830735 ],\n",
       "       [0.18033214, 0.14418508, 0.32422426, 0.19169511, 0.15956339],\n",
       "       [0.17384955, 0.1283819 , 0.3723022 , 0.19120601, 0.13426036]],\n",
       "      dtype=float32)"
      ]
     },
     "execution_count": 55,
     "metadata": {},
     "output_type": "execute_result"
    }
   ],
   "source": [
    "softmax(adt_probs)"
   ]
  },
  {
   "cell_type": "code",
   "execution_count": 56,
   "metadata": {},
   "outputs": [
    {
     "name": "stdout",
     "output_type": "stream",
     "text": [
      "[[2.1  0.05 0.05 0.05 0.05 0.05 0.05 0.05 1.1 ]\n",
      " [0.05 0.05 0.05 0.05 0.05 0.05 0.05 0.05 0.05]\n",
      " [0.05 0.05 0.05 0.05 0.   0.05 0.05 0.05 0.05]\n",
      " [0.05 0.01 0.05 0.   0.   0.   0.05 0.01 0.05]\n",
      " [0.05 0.01 0.   0.   8.1  0.   0.   0.01 0.05]\n",
      " [0.05 0.01 0.05 0.   0.   0.   0.05 0.01 0.05]\n",
      " [0.05 0.05 0.05 0.05 0.   0.05 0.05 0.05 0.05]\n",
      " [0.05 0.05 0.05 0.01 0.01 0.01 0.05 0.05 0.05]\n",
      " [1.1  0.05 0.05 0.05 0.05 0.05 0.05 0.05 2.1 ]]\n"
     ]
    }
   ],
   "source": [
    "print(reward_map)"
   ]
  },
  {
   "cell_type": "code",
   "execution_count": 57,
   "metadata": {},
   "outputs": [],
   "source": [
    "states = featurize_states(np.arange(mdp.nS))\n",
    "q_vals = sess.run([demo_q_t], feed_dict={demo_obs_t_feats_ph:states})[0]"
   ]
  },
  {
   "cell_type": "code",
   "execution_count": 58,
   "metadata": {},
   "outputs": [],
   "source": [
    "# i,n=200,30\n",
    "# states, actions = nn_rollouts[1][i:i+n], nn_rollouts[2][i:i+n] #featurize_states(np.arange(mdp.nS))\n",
    "# q_vals, likelihoods, qsas, vs = sess.run([demo_q_t, act_log_likelihoods,tf.gather_nd(demo_q_t, action_indexes), demo_v_t],\n",
    "#                                feed_dict={demo_obs_t_feats_ph:states,\n",
    "#                                             demo_act_t_ph:actions,\n",
    "#                                             demo_batch_size_ph: n})"
   ]
  },
  {
   "cell_type": "code",
   "execution_count": 59,
   "metadata": {},
   "outputs": [],
   "source": [
    "evals = [constraint_q_t, constraint_adt_pred_probs, constraint_adt_pred_dir, adt_target_t, ca_indexes, cqtp1_misshaped, constraint_q_tp1, constraint_v_tp1, constraint_sprimes_reshaped, adt_V]\n",
    "c_qs, pred_probs, pred_dirs, adt_targs, acties, cq1, cq2, cv, cspr, av  = sess.run(evals,\n",
    "                        feed_dict={constraint_obs_t_feats_ph: constraints[0],\n",
    "                                    constraint_act_t_ph: constraints[1],\n",
    "                                    constraint_rew_t_ph: constraints[2],\n",
    "                                    constraint_next_obs_t_feats_ph: constraints[3],\n",
    "                                    constraint_tile_t_ph: constraints[4],\n",
    "                                    constraint_batch_size_ph: constraints[0].shape[0]})"
   ]
  },
  {
   "cell_type": "code",
   "execution_count": 60,
   "metadata": {},
   "outputs": [
    {
     "ename": "NameError",
     "evalue": "name 't_ind' is not defined",
     "output_type": "error",
     "traceback": [
      "\u001b[0;31m---------------------------------------------------------------------------\u001b[0m",
      "\u001b[0;31mNameError\u001b[0m                                 Traceback (most recent call last)",
      "\u001b[0;32m<ipython-input-60-24ad0a2a63e8>\u001b[0m in \u001b[0;36m<module>\u001b[0;34m()\u001b[0m\n\u001b[0;32m----> 1\u001b[0;31m \u001b[0mconstraints\u001b[0m\u001b[0;34m[\u001b[0m\u001b[0;36m0\u001b[0m\u001b[0;34m]\u001b[0m\u001b[0;34m[\u001b[0m\u001b[0mt_ind\u001b[0m\u001b[0;34m]\u001b[0m\u001b[0;34m,\u001b[0m \u001b[0mconstraints\u001b[0m\u001b[0;34m[\u001b[0m\u001b[0;36m1\u001b[0m\u001b[0;34m]\u001b[0m\u001b[0;34m[\u001b[0m\u001b[0mt_ind\u001b[0m\u001b[0;34m]\u001b[0m\u001b[0;34m,\u001b[0m \u001b[0mconstraints\u001b[0m\u001b[0;34m[\u001b[0m\u001b[0;36m2\u001b[0m\u001b[0;34m]\u001b[0m\u001b[0;34m[\u001b[0m\u001b[0mt_ind\u001b[0m\u001b[0;34m]\u001b[0m\u001b[0;34m,\u001b[0m \u001b[0mconstraints\u001b[0m\u001b[0;34m[\u001b[0m\u001b[0;36m4\u001b[0m\u001b[0;34m]\u001b[0m\u001b[0;34m[\u001b[0m\u001b[0mt_ind\u001b[0m\u001b[0;34m]\u001b[0m\u001b[0;34m,\u001b[0m \u001b[0mc_qs\u001b[0m\u001b[0;34m[\u001b[0m\u001b[0mt_ind\u001b[0m\u001b[0;34m]\u001b[0m\u001b[0;34m,\u001b[0m \u001b[0madt_targs\u001b[0m\u001b[0;34m[\u001b[0m\u001b[0mt_ind\u001b[0m\u001b[0;34m]\u001b[0m\u001b[0;34m,\u001b[0m \u001b[0mpred_probs\u001b[0m\u001b[0;34m[\u001b[0m\u001b[0mt_ind\u001b[0m\u001b[0;34m]\u001b[0m\u001b[0;34m,\u001b[0m \u001b[0mcv\u001b[0m\u001b[0;34m[\u001b[0m\u001b[0mt_ind\u001b[0m\u001b[0;34m]\u001b[0m\u001b[0;34m,\u001b[0m \u001b[0mconstraints\u001b[0m\u001b[0;34m[\u001b[0m\u001b[0;36m3\u001b[0m\u001b[0;34m]\u001b[0m\u001b[0;34m[\u001b[0m\u001b[0mt_ind\u001b[0m\u001b[0;34m]\u001b[0m\u001b[0;34m,\u001b[0m \u001b[0mav\u001b[0m\u001b[0;34m[\u001b[0m\u001b[0mt_ind\u001b[0m\u001b[0;34m]\u001b[0m \u001b[0;31m#82, 153\u001b[0m\u001b[0;34m\u001b[0m\u001b[0m\n\u001b[0m",
      "\u001b[0;31mNameError\u001b[0m: name 't_ind' is not defined"
     ]
    }
   ],
   "source": [
    "constraints[0][t_ind], constraints[1][t_ind], constraints[2][t_ind], constraints[4][t_ind], c_qs[t_ind], adt_targs[t_ind], pred_probs[t_ind], cv[t_ind], constraints[3][t_ind], av[t_ind] #82, 153"
   ]
  },
  {
   "cell_type": "code",
   "execution_count": null,
   "metadata": {},
   "outputs": [],
   "source": [
    "constraints[0][t_ind], constraints[1][t_ind], constraints[2][t_ind], c_qs[t_ind], adt_targs[t_ind], pred_probs[t_ind], cv[t_ind], constraints[3][t_ind] #82, 153"
   ]
  },
  {
   "cell_type": "code",
   "execution_count": null,
   "metadata": {},
   "outputs": [],
   "source": [
    "np.where(cq2 > 50)"
   ]
  },
  {
   "cell_type": "code",
   "execution_count": null,
   "metadata": {},
   "outputs": [],
   "source": [
    "np.where((constraints[0] == np.array([4,4])).all(axis=1))"
   ]
  },
  {
   "cell_type": "code",
   "execution_count": null,
   "metadata": {},
   "outputs": [],
   "source": [
    "t_ind = 364"
   ]
  },
  {
   "cell_type": "code",
   "execution_count": null,
   "metadata": {},
   "outputs": [],
   "source": [
    "cspr#[163*5+4]"
   ]
  },
  {
   "cell_type": "code",
   "execution_count": null,
   "metadata": {},
   "outputs": [],
   "source": [
    "constraints[3]"
   ]
  },
  {
   "cell_type": "code",
   "execution_count": null,
   "metadata": {},
   "outputs": [],
   "source": [
    "constraints[3].transpose((0,2,1)).reshape(405*5,2)"
   ]
  },
  {
   "cell_type": "code",
   "execution_count": null,
   "metadata": {},
   "outputs": [],
   "source": [
    "pred_probs[t_ind].dot(cv[t_ind])"
   ]
  },
  {
   "cell_type": "code",
   "execution_count": null,
   "metadata": {
    "scrolled": true
   },
   "outputs": [],
   "source": [
    "logsumexp(q_vals, axis=1)"
   ]
  },
  {
   "cell_type": "code",
   "execution_count": null,
   "metadata": {},
   "outputs": [],
   "source": []
  },
  {
   "cell_type": "code",
   "execution_count": null,
   "metadata": {},
   "outputs": [],
   "source": []
  },
  {
   "cell_type": "code",
   "execution_count": null,
   "metadata": {},
   "outputs": [],
   "source": [
    "# q_vals[:,0] = -np.inf\n",
    "q_vals[:,1] = -np.inf\n",
    "q_vals[:,2] = -np.inf\n",
    "q_vals[:,3] = -np.inf\n",
    "q_vals[:,4] = -np.inf"
   ]
  },
  {
   "cell_type": "code",
   "execution_count": null,
   "metadata": {},
   "outputs": [],
   "source": [
    "plot_values(mdp, q_vals)"
   ]
  },
  {
   "cell_type": "code",
   "execution_count": null,
   "metadata": {},
   "outputs": [],
   "source": [
    "softmax(adt_probs.reshape((5,5,2)))"
   ]
  },
  {
   "cell_type": "markdown",
   "metadata": {},
   "source": [
    "## IDL Only"
   ]
  },
  {
   "cell_type": "code",
   "execution_count": null,
   "metadata": {},
   "outputs": [],
   "source": [
    "idl_train_logs = {\n",
    "  'train_likelihoods': [],\n",
    "  'val_likelihoods': [],\n",
    "  'tp_lls': [],\n",
    "  'tt_lls': [],\n",
    "  'vp_lls': [],\n",
    "  'vt_lls': [],\n",
    "  'true_trans_loss': []\n",
    "}"
   ]
  },
  {
   "cell_type": "code",
   "execution_count": null,
   "metadata": {},
   "outputs": [],
   "source": [
    "maxiter = 300\n",
    "learning_rate = 1"
   ]
  },
  {
   "cell_type": "code",
   "execution_count": null,
   "metadata": {},
   "outputs": [],
   "source": [
    "Ti_thetas = T_estimate(adt_obs[train_demo_example_idxes])\n",
    "Qi, Ri = None, mdp.rewards"
   ]
  },
  {
   "cell_type": "code",
   "execution_count": null,
   "metadata": {
    "scrolled": true
   },
   "outputs": [],
   "source": [
    "while len(idl_train_logs['tt_lls']) < maxiter:\n",
    "    batch_demo_sas, batch_demo_adt = sample_batch(batch_size, train_demo_example_idxes, sas_obs, adt_obs)\n",
    "    #Should we initialize Qs or nah?\n",
    "    tp_ll, dT_pol, Qi = eval_T_pol_likelihood_and_grad(Ti_thetas, Ri, batch_demo_sas, Q_inits=Qi)\n",
    "    tt_ll, dT_trans = eval_trans_likelihood_and_grad(Ti_thetas, batch_demo_adt)\n",
    "    train_likelihood = tp_ll + tt_ll\n",
    "    vp_ll, vt_ll = eval_demo_log_likelihood(val_sas_obs, val_adt_obs, Ti_thetas, Qi)\n",
    "    val_likelihood = vp_ll + vt_ll\n",
    "    ttd = true_trans_loss(softmax(Ti_thetas))\n",
    "    Ti_thetas += learning_rate * (dT_trans + dT_pol)\n",
    "    \n",
    "    print('%d %f %f %f %f' % (len(idl_train_logs['tt_lls']), vp_ll, vt_ll, vp_ll + vt_ll, ttd))\n",
    "    idl_train_logs['train_likelihoods'].append(train_likelihood)\n",
    "    idl_train_logs['val_likelihoods'].append(val_likelihood)\n",
    "    idl_train_logs['tp_lls'].append(tp_ll)\n",
    "    idl_train_logs['tt_lls'].append(tt_ll)\n",
    "    idl_train_logs['vp_lls'].append(vp_ll)\n",
    "    idl_train_logs['vt_lls'].append(vt_ll)\n",
    "    idl_train_logs['true_trans_loss'].append(ttd)"
   ]
  },
  {
   "cell_type": "code",
   "execution_count": null,
   "metadata": {},
   "outputs": [],
   "source": [
    "plt.plot(idl_train_logs['vp_lls'])"
   ]
  },
  {
   "cell_type": "code",
   "execution_count": null,
   "metadata": {},
   "outputs": [],
   "source": [
    "plt.plot(idl_train_logs['vt_lls'])"
   ]
  },
  {
   "cell_type": "code",
   "execution_count": null,
   "metadata": {},
   "outputs": [],
   "source": [
    "plt.plot(idl_train_logs['val_likelihoods'])"
   ]
  },
  {
   "cell_type": "code",
   "execution_count": null,
   "metadata": {
    "scrolled": true
   },
   "outputs": [],
   "source": [
    "print(Qi[[s for s in range(nS) if mdp.get_tile_type(s)==1]])"
   ]
  },
  {
   "cell_type": "code",
   "execution_count": null,
   "metadata": {},
   "outputs": [],
   "source": [
    "plot_mars(mdp,tabsoftq_gen_pol(Qi))\n",
    "print(softmax(Ti_thetas))"
   ]
  },
  {
   "cell_type": "code",
   "execution_count": null,
   "metadata": {},
   "outputs": [],
   "source": [
    "tabsoftq_gen_pol_probs(Qi)[:,4]"
   ]
  },
  {
   "cell_type": "code",
   "execution_count": null,
   "metadata": {
    "scrolled": true
   },
   "outputs": [],
   "source": [
    "print(softmax(Ti_thetas)) # - softmax(T_estimate(adt_obs[train_demo_example_idxes])))"
   ]
  },
  {
   "cell_type": "code",
   "execution_count": null,
   "metadata": {},
   "outputs": [],
   "source": []
  },
  {
   "cell_type": "code",
   "execution_count": null,
   "metadata": {},
   "outputs": [],
   "source": [
    "test_T_likelihood(softmax(Ti_thetas), val_sas_obs, val_adt_obs)"
   ]
  },
  {
   "cell_type": "code",
   "execution_count": null,
   "metadata": {},
   "outputs": [],
   "source": [
    "test_T_likelihood(softmax(T_estimate(adt_obs[train_demo_example_idxes])), val_sas_obs, val_adt_obs)"
   ]
  },
  {
   "cell_type": "code",
   "execution_count": null,
   "metadata": {},
   "outputs": [],
   "source": [
    "test_T_likelihood(true_tps, val_sas_obs, val_adt_obs)"
   ]
  },
  {
   "cell_type": "code",
   "execution_count": null,
   "metadata": {},
   "outputs": [],
   "source": [
    "true_trans_loss(softmax(Ti_thetas))"
   ]
  },
  {
   "cell_type": "code",
   "execution_count": null,
   "metadata": {},
   "outputs": [],
   "source": [
    "softmax(Ti_thetas)"
   ]
  },
  {
   "cell_type": "code",
   "execution_count": null,
   "metadata": {},
   "outputs": [],
   "source": [
    "true_trans_loss(softmax(T_estimate(adt_obs[train_demo_example_idxes])))"
   ]
  },
  {
   "cell_type": "code",
   "execution_count": null,
   "metadata": {},
   "outputs": [],
   "source": [
    "softmax(T_estimate(adt_obs[train_demo_example_idxes]))"
   ]
  },
  {
   "cell_type": "code",
   "execution_count": null,
   "metadata": {},
   "outputs": [],
   "source": [
    "plot_values(mdp, Qi)"
   ]
  },
  {
   "cell_type": "code",
   "execution_count": null,
   "metadata": {},
   "outputs": [],
   "source": [
    "plot_values(mdp, exQs)"
   ]
  },
  {
   "cell_type": "markdown",
   "metadata": {},
   "source": [
    "## SERD only"
   ]
  },
  {
   "cell_type": "code",
   "execution_count": null,
   "metadata": {},
   "outputs": [],
   "source": [
    "serd_train_logs = {\n",
    "  'train_likelihoods': [],\n",
    "  'val_likelihoods': [],\n",
    "  'tp_lls': [],\n",
    "  'tt_lls': [],\n",
    "  'vp_lls': [],\n",
    "  'vt_lls': [],\n",
    "  'true_trans_loss': []\n",
    "}"
   ]
  },
  {
   "cell_type": "code",
   "execution_count": null,
   "metadata": {},
   "outputs": [],
   "source": [
    "Ts_thetas = T_estimate(adt_obs[train_demo_example_idxes]) #np.log(Tps2+.000000001)\n",
    "feats = mdp.feature_map\n",
    "Rs_thetas = np.random.normal(loc=1,scale=0.1,size=feats.shape[1])\n",
    "Qs = None"
   ]
  },
  {
   "cell_type": "code",
   "execution_count": null,
   "metadata": {},
   "outputs": [],
   "source": [
    "maxiter = 300\n",
    "t_learning_rate = lambda t: 0 if t<20 else 3 - (2 * int(t/(maxiter/2)))\n",
    "r_learning_rate = lambda t: 2e-1 if t<20 else 1e-1"
   ]
  },
  {
   "cell_type": "code",
   "execution_count": null,
   "metadata": {
    "scrolled": true
   },
   "outputs": [],
   "source": [
    "while len(serd_train_logs['tt_lls']) < maxiter:\n",
    "    prevQs = Qs.copy() if Qs is not None else None\n",
    "    t = len(serd_train_logs['tt_lls'])\n",
    "    batch_demo_sas, batch_demo_adt = sample_batch(batch_size, train_demo_example_idxes, sas_obs, adt_obs)\n",
    "    Rs = feats.dot(Rs_thetas)\n",
    "    tp_ll, dT_pol, dR_pol, Qs = eval_TR_pol_likelihood_and_grad(Ts_thetas, Rs, feats, batch_demo_sas, Q_inits=Qs)\n",
    "    tt_ll, dT_trans = eval_trans_likelihood_and_grad(Ts_thetas, batch_demo_adt)\n",
    "    train_likelihood = tp_ll + tt_ll\n",
    "    vp_ll, vt_ll = eval_demo_log_likelihood(val_sas_obs, val_adt_obs, Ts_thetas, Qs)\n",
    "    val_likelihood = vp_ll + vt_ll\n",
    "    ttd = true_trans_loss(softmax(Ts_thetas))\n",
    "    Rs_thetas += r_learning_rate(t) * dR_pol\n",
    "    Ts_thetas += t_learning_rate(t) * (dT_trans + dT_pol)\n",
    "\n",
    "#     print(dT_trans)\n",
    "#     print(dT_pol)\n",
    "#     print(softmax(Ts_thetas))\n",
    "#     print(dR_pol * r_learning_rate(t))\n",
    "#     print(Rs_thetas)\n",
    "#     if prevQs is not None:\n",
    "#         print(\"Q_diff\")\n",
    "#         print(np.linalg.norm(Qs-prevQs))\n",
    "\n",
    "    \n",
    "    print('%d %f %f %f %f' % (t, vp_ll, vt_ll, vp_ll + vt_ll, ttd))\n",
    "    serd_train_logs['train_likelihoods'].append(train_likelihood)\n",
    "    serd_train_logs['val_likelihoods'].append(val_likelihood)\n",
    "    serd_train_logs['tp_lls'].append(tp_ll)\n",
    "    serd_train_logs['tt_lls'].append(tt_ll)\n",
    "    serd_train_logs['vp_lls'].append(vp_ll)\n",
    "    serd_train_logs['vt_lls'].append(vt_ll)\n",
    "    serd_train_logs['true_trans_loss'].append(ttd)"
   ]
  },
  {
   "cell_type": "code",
   "execution_count": null,
   "metadata": {},
   "outputs": [],
   "source": [
    "print(softmax(Ts_thetas))"
   ]
  },
  {
   "cell_type": "code",
   "execution_count": null,
   "metadata": {},
   "outputs": [],
   "source": [
    "print(Rs_thetas)"
   ]
  },
  {
   "cell_type": "code",
   "execution_count": null,
   "metadata": {},
   "outputs": [],
   "source": [
    "true_trans_loss(softmax(Ts_thetas))"
   ]
  },
  {
   "cell_type": "code",
   "execution_count": null,
   "metadata": {},
   "outputs": [],
   "source": [
    "plt.plot(serd_train_logs['vp_lls'][:250])\n",
    "plt.plot(idl_train_logs['vp_lls'][:250])"
   ]
  },
  {
   "cell_type": "code",
   "execution_count": null,
   "metadata": {},
   "outputs": [],
   "source": [
    "plt.plot(serd_train_logs['vt_lls'][:250])\n",
    "plt.plot(idl_train_logs['vt_lls'][:250])"
   ]
  },
  {
   "cell_type": "code",
   "execution_count": null,
   "metadata": {},
   "outputs": [],
   "source": [
    "plt.plot(serd_train_logs['val_likelihoods'], label = \"SERD\")\n",
    "plt.plot(idl_train_logs['val_likelihoods'], label = \"IDL\")\n",
    "plt.title(\"Log likelihood of Demonstrations\")\n",
    "plt.xlabel(\"Iterations of MDCE\")\n",
    "plt.ylabel(\"Log Likelihood\")\n",
    "plt.legend()"
   ]
  },
  {
   "cell_type": "code",
   "execution_count": null,
   "metadata": {},
   "outputs": [],
   "source": [
    "plt.plot(serd_train_logs['true_trans_loss'], label = \"SERD\")\n",
    "plt.plot(idl_train_logs['true_trans_loss'], label = \"IDL\")\n",
    "plt.title(\"Square Error of Learned Transition Parameters\")\n",
    "plt.xlabel(\"Iterations of MDCE\")\n",
    "plt.ylabel(\"Summed Square Error\")\n",
    "plt.legend()"
   ]
  },
  {
   "cell_type": "markdown",
   "metadata": {},
   "source": [
    "## Comparison Tests"
   ]
  },
  {
   "cell_type": "code",
   "execution_count": null,
   "metadata": {},
   "outputs": [],
   "source": [
    "def demo_stats(mdp, demos):\n",
    "    demo_rewards = []\n",
    "    for i in range(len(demos)):\n",
    "        demo_rewards += [np.array([mdp.rewards[obs[0][2]] for obs in demos[i]])]\n",
    "#         for j in range(len(demo_rewards[i])):\n",
    "#             print(demos[i][j][0], demo_rewards[i][j])\n",
    "    \n",
    "    discounted_demo_rewards = [np.power(gamma,np.arange(len(dr)))*dr for dr in demo_rewards]\n",
    "    demo_rewards, discounted_demo_rewards = np.array(demo_rewards), np.array(discounted_demo_rewards)\n",
    "    data = {\"mean episode reward\": np.mean(np.sum(demo_rewards, axis=1)),\n",
    "            \"sd episode reward\": np.std(np.sum(demo_rewards, axis=1)),\n",
    "            \"mean discounted episode reward\": np.mean(np.sum(discounted_demo_rewards, axis=1)),\n",
    "            \"sd discounted episode reward\": np.std(np.sum(discounted_demo_rewards, axis=1))}\n",
    "    return data\n",
    "    \n",
    "    "
   ]
  },
  {
   "cell_type": "code",
   "execution_count": null,
   "metadata": {},
   "outputs": [],
   "source": [
    "SERD_demos = generate_demonstrations(mdp, tabsoftq_gen_pol(Qs), 2000, demo_time_steps)\n",
    "IDL_demos = generate_demonstrations(mdp, tabsoftq_gen_pol(Qi), 2000, demo_time_steps)"
   ]
  },
  {
   "cell_type": "code",
   "execution_count": null,
   "metadata": {},
   "outputs": [],
   "source": [
    "print(demo_stats(mdp, SERD_demos))"
   ]
  },
  {
   "cell_type": "code",
   "execution_count": null,
   "metadata": {},
   "outputs": [],
   "source": [
    "print(demo_stats(mdp, IDL_demos))"
   ]
  },
  {
   "cell_type": "code",
   "execution_count": null,
   "metadata": {},
   "outputs": [],
   "source": [
    "plot_values(mdp, Qs)"
   ]
  },
  {
   "cell_type": "code",
   "execution_count": null,
   "metadata": {},
   "outputs": [],
   "source": [
    "plot_values(mdp, Qi)"
   ]
  },
  {
   "cell_type": "code",
   "execution_count": null,
   "metadata": {},
   "outputs": [],
   "source": [
    "print(reward_map[5][0], Qi[2], Q[2])"
   ]
  },
  {
   "cell_type": "markdown",
   "metadata": {},
   "source": [
    "### Transfer"
   ]
  },
  {
   "cell_type": "code",
   "execution_count": null,
   "metadata": {},
   "outputs": [],
   "source": [
    "tile_map2 = [\n",
    "        \"2FFFFFFF1\",\n",
    "        \"FFFFFFFFF\",\n",
    "        \"FFFFUFFFF\",\n",
    "        \"FFFUUUFSF\",\n",
    "        \"FFUU3UUFF\",\n",
    "        \"FSFUUUFSF\",\n",
    "        \"FSFFUFFSF\",\n",
    "        \"FFFSSSFFF\",\n",
    "        \"1FFFFFFF2\"\n",
    "    ]\n",
    "reward_map2, texture_map2 = build_reward_map(tile_map2, tile_rewards, goal_tile_rewards, tile_reward_modifier)\n",
    "# reward_normalizer2 = (1-gamma)/(np.max(reward_map2))\n",
    "# reward_map2 *= reward_normalizer2\n",
    "# time_penalty *= reward_normalizer2\n",
    "# temperature2 = 1/(reward_normalizer2)\n",
    "# print(temperature2)\n",
    "print(reward_map2)\n",
    "print(texture_map2)"
   ]
  },
  {
   "cell_type": "code",
   "execution_count": null,
   "metadata": {},
   "outputs": [],
   "source": [
    "mdp = MarsExplorerEnv(tile_map2, reward_map2, texture_map2, trans_dict, time_penalty) \n",
    "nA = mdp.nA\n",
    "nS = mdp.nS"
   ]
  },
  {
   "cell_type": "code",
   "execution_count": null,
   "metadata": {},
   "outputs": [],
   "source": [
    "\n",
    "Tips = softmax(Ti_thetas,axis=1)\n",
    "Ti = mdp.adt_trans_to_sas_trans(Tips)\n",
    "Ri = mdp.rewards\n",
    "Qit = tabsoftq_iter(Ri, Ti, maxiter=tabsoftq_iter_maxiter, verbose=tabsoftq_iter_verbose, ftol=tabsoftq_iter_ftol)"
   ]
  },
  {
   "cell_type": "code",
   "execution_count": null,
   "metadata": {},
   "outputs": [],
   "source": [
    "Tips = softmax(Ti_thetas,axis=1)\n",
    "Ti = mdp.adt_trans_to_sas_trans(Tips)\n",
    "Ri = mdp.rewards\n",
    "Qit = tabsoftq_iter(Ri, Ti, maxiter=tabsoftq_iter_maxiter, verbose=tabsoftq_iter_verbose, ftol=tabsoftq_iter_ftol)"
   ]
  },
  {
   "cell_type": "code",
   "execution_count": null,
   "metadata": {},
   "outputs": [],
   "source": [
    "Tsps = softmax(Ts_thetas,axis=1)\n",
    "Ts = mdp.adt_trans_to_sas_trans(Tips)\n",
    "Rs = mdp.feature_map.dot(Rs_thetas)\n",
    "Qst = tabsoftq_iter(Rs, Ts, maxiter=tabsoftq_iter_maxiter, verbose=tabsoftq_iter_verbose, ftol=tabsoftq_iter_ftol)"
   ]
  },
  {
   "cell_type": "code",
   "execution_count": null,
   "metadata": {},
   "outputs": [],
   "source": [
    "IDL_trans_demos = generate_demonstrations(mdp, tabsoftq_gen_pol(Qit), 1000, demo_time_steps)\n",
    "SERD_trans_demos = generate_demonstrations(mdp, tabsoftq_gen_pol(Qst), 1000, demo_time_steps)"
   ]
  },
  {
   "cell_type": "code",
   "execution_count": null,
   "metadata": {},
   "outputs": [],
   "source": [
    "plot_mars(mdp,tabsoftq_gen_pol(Qit),Qs=Qit)"
   ]
  },
  {
   "cell_type": "code",
   "execution_count": null,
   "metadata": {},
   "outputs": [],
   "source": [
    "print(demo_stats(mdp, IDL_trans_demos))"
   ]
  },
  {
   "cell_type": "code",
   "execution_count": null,
   "metadata": {},
   "outputs": [],
   "source": [
    "print(demo_stats(mdp, SERD_trans_demos))"
   ]
  },
  {
   "cell_type": "code",
   "execution_count": null,
   "metadata": {},
   "outputs": [],
   "source": [
    "plot_values(mdp, Qit)"
   ]
  },
  {
   "cell_type": "code",
   "execution_count": null,
   "metadata": {},
   "outputs": [],
   "source": [
    "plot_values(mdp, Qst)"
   ]
  },
  {
   "cell_type": "code",
   "execution_count": null,
   "metadata": {},
   "outputs": [],
   "source": [
    "Qtrue = tabsoftq_learn_Qs(mdp)\n",
    "plot_values(mdp,Qtrue)"
   ]
  },
  {
   "cell_type": "code",
   "execution_count": null,
   "metadata": {},
   "outputs": [],
   "source": []
  },
  {
   "cell_type": "code",
   "execution_count": null,
   "metadata": {},
   "outputs": [],
   "source": [
    "mdp.get_possible_sprimes(np.array([[0,0],[0,1]]))"
   ]
  },
  {
   "cell_type": "code",
   "execution_count": null,
   "metadata": {},
   "outputs": [],
   "source": [
    "i = 15\n",
    "mdp.get_direction_moved(nn_rollouts[0][i][0],nn_rollouts[0][i+1][0])"
   ]
  },
  {
   "cell_type": "code",
   "execution_count": null,
   "metadata": {},
   "outputs": [],
   "source": [
    "nn_rollouts[0][i], nn_rollouts[0][i+1]"
   ]
  },
  {
   "cell_type": "code",
   "execution_count": null,
   "metadata": {},
   "outputs": [],
   "source": [
    "nn_rollouts[0][:30]"
   ]
  },
  {
   "cell_type": "code",
   "execution_count": null,
   "metadata": {},
   "outputs": [],
   "source": []
  }
 ],
 "metadata": {
  "kernelspec": {
   "display_name": "Python 3",
   "language": "python",
   "name": "python3"
  },
  "language_info": {
   "codemirror_mode": {
    "name": "ipython",
    "version": 3
   },
   "file_extension": ".py",
   "mimetype": "text/x-python",
   "name": "python",
   "nbconvert_exporter": "python",
   "pygments_lexer": "ipython3",
   "version": "3.6.5"
  }
 },
 "nbformat": 4,
 "nbformat_minor": 2
}
